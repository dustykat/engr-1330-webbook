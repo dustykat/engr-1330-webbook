{
 "cells": [
  {
   "cell_type": "markdown",
   "metadata": {},
   "source": [
    "#### 1) A sample of four electronic components is taken from the output of a production line. The probabilities of the various outcomes are calculated to be: Pr [0 defectives] = 0.6561, Pr [1 defective] = 0.2916, Pr [2 defectives] = 0.0486, Pr [3 defectives] = 0.0036, Pr [4 defectives] = 0.0001. What is the probability of at least one defective?"
   ]
  },
  {
   "cell_type": "code",
   "execution_count": 103,
   "metadata": {},
   "outputs": [
    {
     "name": "stdout",
     "output_type": "stream",
     "text": [
      "0.3439\n"
     ]
    }
   ],
   "source": [
    "#Method-1\n",
    "\n",
    "pr_atleast1 = 1-0.6561\n",
    "print(pr_atleast1)"
   ]
  },
  {
   "cell_type": "code",
   "execution_count": 104,
   "metadata": {},
   "outputs": [
    {
     "name": "stdout",
     "output_type": "stream",
     "text": [
      "0.3436\n"
     ]
    }
   ],
   "source": [
    "#Method-2\n",
    "\n",
    "pr_atleast1 = 0.2916+0.0483+0.0036+0.0001\n",
    "print(pr_atleast1)"
   ]
  },
  {
   "cell_type": "markdown",
   "metadata": {},
   "source": [
    "#### 2) A class of engineering students consists of 45 people. What is the probability that no two students have birthdays on the same day, not considering the year of birth? To simplify the calculation, assume that there are 365 days in the year and that births are equally likely on all of them. Then what is the probability that some members of the class have birthdays on the same day? Also, vary the number of students in the class from 2 to 200 to see its effect on the porbability values."
   ]
  },
  {
   "cell_type": "code",
   "execution_count": 4,
   "metadata": {},
   "outputs": [
    {
     "name": "stdout",
     "output_type": "stream",
     "text": [
      "1\n"
     ]
    }
   ],
   "source": [
    "#A student in the class states his birthday. So the probability that he/she has the birthday on that date is 1\n",
    "\n",
    "pr_first = 1\n",
    "print(pr_first)"
   ]
  },
  {
   "cell_type": "code",
   "execution_count": 5,
   "metadata": {},
   "outputs": [
    {
     "name": "stdout",
     "output_type": "stream",
     "text": [
      "0.9972602739726028\n"
     ]
    }
   ],
   "source": [
    "#Probability that the second student has different birthday than the first student is 364/365\n",
    "\n",
    "pr_second = 364/365\n",
    "print(pr_second)"
   ]
  },
  {
   "cell_type": "code",
   "execution_count": 6,
   "metadata": {},
   "outputs": [
    {
     "name": "stdout",
     "output_type": "stream",
     "text": [
      "0.9945205479452055\n"
     ]
    }
   ],
   "source": [
    "#Probability that the third student has different birthday than the first and the second students is 363/365\n",
    "\n",
    "pr_third = 363/365\n",
    "print(pr_third)"
   ]
  },
  {
   "cell_type": "code",
   "execution_count": 7,
   "metadata": {},
   "outputs": [
    {
     "name": "stdout",
     "output_type": "stream",
     "text": [
      "0.9917808219178083\n"
     ]
    }
   ],
   "source": [
    "#Probability that the fourth student has different birthday than the first, the second, and the third students is 362/365\n",
    "\n",
    "pr_fourth = 362/365\n",
    "print(pr_fourth)"
   ]
  },
  {
   "cell_type": "code",
   "execution_count": 64,
   "metadata": {},
   "outputs": [
    {
     "name": "stdout",
     "output_type": "stream",
     "text": [
      "0.05902410053422507\n",
      "0.940975899465775\n"
     ]
    }
   ],
   "source": [
    "#Probability that none of the 45 students have the same birthday in the class will then be -- \n",
    "\n",
    "# P[no same birthdays] = (1)*(364/365)*(363/365)*(362/365)*........*((365-i+1)/365)*........*((365-45+1)/365)\n",
    "\n",
    "#How will you generalize this?\n",
    "\n",
    "#Method-1: Looping over a list\n",
    "\n",
    "student_ids = list(range(2,46,1))\n",
    "\n",
    "pr_nosame = 1\n",
    "\n",
    "for i in student_ids:\n",
    "    pr_nosame = pr_nosame*((365-i+1)/365)\n",
    "    \n",
    "print(pr_nosame)\n",
    "\n",
    "#Probability that at least one pair out of the 45 students have the same birthday in the class will then be --\n",
    "\n",
    "# P[same birthday] = 1 - P[no same birthday]\n",
    "\n",
    "pr_same = 1 - pr_nosame\n",
    "print(pr_same)"
   ]
  },
  {
   "cell_type": "code",
   "execution_count": 65,
   "metadata": {},
   "outputs": [
    {
     "name": "stdout",
     "output_type": "stream",
     "text": [
      "0.05902410053422507\n",
      "0.940975899465775\n"
     ]
    }
   ],
   "source": [
    "#Probability that none of the 45 students have the same birthday in the class will then be -- \n",
    "\n",
    "# P[no same birthdays] = (1)*(364/365)*(363/365)*(362/365)*........*((365-i+1)/365)*........*((365-45+1)/365)\n",
    "\n",
    "#How will you generalize this?\n",
    "\n",
    "#Method-2: Using NumPy array instead of a list so that we can avoid writing a for loop\n",
    "\n",
    "student_ids = np.arange(2,46,1)\n",
    "\n",
    "pr_eachstudent = ((365-student_ids+1)/365)\n",
    "\n",
    "pr_nosame = np.prod(pr_eachstudent)\n",
    "print(pr_nosame)\n",
    "\n",
    "#Probability that at least one pair out of the 45 students have the same birthday in the class will then be --\n",
    "\n",
    "# P[same birthday] = 1 - P[no same birthday]\n",
    "\n",
    "pr_same = 1 - pr_nosame\n",
    "print(pr_same)"
   ]
  },
  {
   "cell_type": "code",
   "execution_count": 78,
   "metadata": {},
   "outputs": [
    {
     "name": "stdout",
     "output_type": "stream",
     "text": [
      "     Number of students  Probability\n",
      "0                     2     0.000000\n",
      "1                     3     0.002740\n",
      "2                     4     0.008204\n",
      "3                     5     0.016356\n",
      "4                     6     0.027136\n",
      "5                     7     0.040462\n",
      "6                     8     0.056236\n",
      "7                     9     0.074335\n",
      "8                    10     0.094624\n",
      "9                    11     0.116948\n",
      "10                   12     0.141141\n",
      "11                   13     0.167025\n",
      "12                   14     0.194410\n",
      "13                   15     0.223103\n",
      "14                   16     0.252901\n",
      "15                   17     0.283604\n",
      "16                   18     0.315008\n",
      "17                   19     0.346911\n",
      "18                   20     0.379119\n",
      "19                   21     0.411438\n",
      "20                   22     0.443688\n",
      "21                   23     0.475695\n",
      "22                   24     0.507297\n",
      "23                   25     0.538344\n",
      "24                   26     0.568700\n",
      "25                   27     0.598241\n",
      "26                   28     0.626859\n",
      "27                   29     0.654461\n",
      "28                   30     0.680969\n",
      "29                   31     0.706316\n",
      "..                  ...          ...\n",
      "169                 171     1.000000\n",
      "170                 172     1.000000\n",
      "171                 173     1.000000\n",
      "172                 174     1.000000\n",
      "173                 175     1.000000\n",
      "174                 176     1.000000\n",
      "175                 177     1.000000\n",
      "176                 178     1.000000\n",
      "177                 179     1.000000\n",
      "178                 180     1.000000\n",
      "179                 181     1.000000\n",
      "180                 182     1.000000\n",
      "181                 183     1.000000\n",
      "182                 184     1.000000\n",
      "183                 185     1.000000\n",
      "184                 186     1.000000\n",
      "185                 187     1.000000\n",
      "186                 188     1.000000\n",
      "187                 189     1.000000\n",
      "188                 190     1.000000\n",
      "189                 191     1.000000\n",
      "190                 192     1.000000\n",
      "191                 193     1.000000\n",
      "192                 194     1.000000\n",
      "193                 195     1.000000\n",
      "194                 196     1.000000\n",
      "195                 197     1.000000\n",
      "196                 198     1.000000\n",
      "197                 199     1.000000\n",
      "198                 200     1.000000\n",
      "\n",
      "[199 rows x 2 columns]\n"
     ]
    },
    {
     "data": {
      "text/plain": [
       "Text(0.5, 1.0, 'Effect of sample size on the chance of success')"
      ]
     },
     "execution_count": 78,
     "metadata": {},
     "output_type": "execute_result"
    },
    {
     "data": {
      "image/png": "[encoded data removed]",
      "text/plain": [
       "<Figure size 432x288 with 1 Axes>"
      ]
     },
     "metadata": {
      "needs_background": "light"
     },
     "output_type": "display_data"
    }
   ],
   "source": [
    "#Simulation: Getting the probability for different numbers of total students in the class\n",
    "\n",
    "total_students = np.arange(2,201,1)\n",
    "\n",
    "pr_nosame = []\n",
    "pr_same = []\n",
    "\n",
    "for i in total_students:\n",
    "    student_ids = np.arange(2,i,1)\n",
    "    \n",
    "    pr_eachstudent = ((365-student_ids+1)/365)\n",
    "    \n",
    "    pr_nosame_total = np.prod(pr_eachstudent)\n",
    "    \n",
    "    pr_nosame.append(pr_nosame_total)\n",
    "    \n",
    "    pr_same.append(1 - pr_nosame_total)\n",
    "\n",
    "#Creating a dataframe with columns - number of students and probability\n",
    "\n",
    "import pandas as pd\n",
    "final_data = {'Number of students': total_students,\n",
    "               'Probability': pr_same}\n",
    "\n",
    "df = pd.DataFrame(final_data)\n",
    "print(df)\n",
    "\n",
    "#Creating a scatter plot between number of students and probability that at least a pair of students have the same birthday\n",
    "\n",
    "import matplotlib.pyplot as plt\n",
    "plt.scatter(total_students, pr_same, color = 'blue')\n",
    "plt.xlabel('No. of students in the class')\n",
    "plt.ylabel('P [same birthday]')\n",
    "plt.title('Effect of sample size on the chance of success')"
   ]
  },
  {
   "cell_type": "markdown",
   "metadata": {},
   "source": [
    "#### 3) An oil company is bidding for the rights to drill a well in field A and a well in field B. The probability it will drill a well in field A is 40%. If it does, the probability the well will be successful is 45%. The probability it will drill a well in field B is 30%. If it does, the probability the well will be successful is 55%. Calculate each of the following probabilities: "
   ]
  },
  {
   "cell_type": "markdown",
   "metadata": {},
   "source": [
    "**a) What is the probability of a successful well in field A?**"
   ]
  },
  {
   "cell_type": "code",
   "execution_count": 97,
   "metadata": {},
   "outputs": [
    {
     "data": {
      "text/plain": [
       "0.18000000000000002"
      ]
     },
     "execution_count": 97,
     "metadata": {},
     "output_type": "execute_result"
    }
   ],
   "source": [
    "pr_successA = 0.40*0.45\n",
    "pr_successA"
   ]
  },
  {
   "cell_type": "markdown",
   "metadata": {},
   "source": [
    "**b) What is the probability of a successful well in field B?**"
   ]
  },
  {
   "cell_type": "code",
   "execution_count": 98,
   "metadata": {},
   "outputs": [
    {
     "data": {
      "text/plain": [
       "0.165"
      ]
     },
     "execution_count": 98,
     "metadata": {},
     "output_type": "execute_result"
    }
   ],
   "source": [
    "pr_successB = 0.30*0.55\n",
    "pr_successB"
   ]
  },
  {
   "cell_type": "markdown",
   "metadata": {},
   "source": [
    "**c) What is the probability of both a successful well in field A and a successful well in field B?**"
   ]
  },
  {
   "cell_type": "code",
   "execution_count": 93,
   "metadata": {},
   "outputs": [
    {
     "data": {
      "text/plain": [
       "0.029700000000000004"
      ]
     },
     "execution_count": 93,
     "metadata": {},
     "output_type": "execute_result"
    }
   ],
   "source": [
    "pr_successAB = pr_successA*pr_successB\n",
    "pr_successAB"
   ]
  },
  {
   "cell_type": "markdown",
   "metadata": {},
   "source": [
    "**d) What is the probability of at least one successful well in the two fields together?**"
   ]
  },
  {
   "cell_type": "code",
   "execution_count": 94,
   "metadata": {},
   "outputs": [
    {
     "data": {
      "text/plain": [
       "0.3153"
      ]
     },
     "execution_count": 94,
     "metadata": {},
     "output_type": "execute_result"
    }
   ],
   "source": [
    "pr_onesuccess = pr_successA + pr_successB - pr_successAB\n",
    "pr_onesuccess"
   ]
  },
  {
   "cell_type": "markdown",
   "metadata": {},
   "source": [
    "**e) What is the probability of no successful well in field A?**"
   ]
  },
  {
   "cell_type": "code",
   "execution_count": 99,
   "metadata": {},
   "outputs": [
    {
     "data": {
      "text/plain": [
       "0.8200000000000001"
      ]
     },
     "execution_count": 99,
     "metadata": {},
     "output_type": "execute_result"
    }
   ],
   "source": [
    "pr_nosuccessA = (1-0.4)+(0.4*0.55)\n",
    "pr_nosuccessA"
   ]
  },
  {
   "cell_type": "markdown",
   "metadata": {},
   "source": [
    "**f) What is the probability of no successful well in field B?**"
   ]
  },
  {
   "cell_type": "code",
   "execution_count": 100,
   "metadata": {},
   "outputs": [
    {
     "data": {
      "text/plain": [
       "0.835"
      ]
     },
     "execution_count": 100,
     "metadata": {},
     "output_type": "execute_result"
    }
   ],
   "source": [
    "pr_nosuccessB = (1-0.3)+(0.3*0.45)\n",
    "pr_nosuccessB"
   ]
  },
  {
   "cell_type": "markdown",
   "metadata": {},
   "source": [
    "**g) What is the probability of no successful well in the two fields together?**"
   ]
  },
  {
   "cell_type": "code",
   "execution_count": 101,
   "metadata": {},
   "outputs": [
    {
     "data": {
      "text/plain": [
       "0.6847"
      ]
     },
     "execution_count": 101,
     "metadata": {},
     "output_type": "execute_result"
    }
   ],
   "source": [
    "pr_nosuccessAB = 1 - pr_onesuccess\n",
    "pr_nosuccessAB"
   ]
  },
  {
   "cell_type": "markdown",
   "metadata": {},
   "source": [
    "**h) What is the probability of exactly one successful well in the two fields together?**"
   ]
  },
  {
   "cell_type": "code",
   "execution_count": 102,
   "metadata": {},
   "outputs": [
    {
     "data": {
      "text/plain": [
       "0.28559999999999997"
      ]
     },
     "execution_count": 102,
     "metadata": {},
     "output_type": "execute_result"
    }
   ],
   "source": [
    "pr_exactonesuccess = (0.18*0.835)+(0.165*0.82)\n",
    "pr_exactonesuccess"
   ]
  }
 ],
 "metadata": {
  "kernelspec": {
   "display_name": "Python 3",
   "language": "python",
   "name": "python3"
  },
  "language_info": {
   "codemirror_mode": {
    "name": "ipython",
    "version": 3
   },
   "file_extension": ".py",
   "mimetype": "text/x-python",
   "name": "python",
   "nbconvert_exporter": "python",
   "pygments_lexer": "ipython3",
   "version": "3.8.5"
  }
 },
 "nbformat": 4,
 "nbformat_minor": 4
}
