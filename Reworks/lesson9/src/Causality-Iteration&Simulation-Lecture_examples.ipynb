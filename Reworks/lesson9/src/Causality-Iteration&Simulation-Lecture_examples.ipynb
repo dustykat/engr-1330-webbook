{
 "cells": [
  {
   "cell_type": "markdown",
   "metadata": {},
   "source": []
  },
  {
   "cell_type": "markdown",
   "metadata": {},
   "source": [
    "#### Causality & Simulation Lecture Examples"
   ]
  },
  {
   "cell_type": "code",
   "execution_count": 16,
   "metadata": {
    "collapsed": false,
    "jupyter": {
     "outputs_hidden": false
    }
   },
   "outputs": [
    {
     "data": {
      "text/plain": [
       "'control'"
      ]
     },
     "execution_count": 16,
     "metadata": {},
     "output_type": "execute_result"
    }
   ],
   "source": [
    "#Random Choice\n",
    "import numpy as np\n",
    "\n",
    "two_groups = np.array(['treatment', 'control'])\n",
    "np.random.choice(two_groups)"
   ]
  },
  {
   "cell_type": "code",
   "execution_count": 17,
   "metadata": {
    "collapsed": false,
    "jupyter": {
     "outputs_hidden": false
    }
   },
   "outputs": [
    {
     "data": {
      "text/plain": [
       "array(['control', 'control', 'control', 'treatment', 'treatment',\n",
       "       'control', 'control', 'control', 'treatment', 'control'],\n",
       "      dtype='<U9')"
      ]
     },
     "execution_count": 17,
     "metadata": {},
     "output_type": "execute_result"
    }
   ],
   "source": [
    "#Random Choice 10 times\n",
    "np.random.choice(two_groups, 10)"
   ]
  },
  {
   "cell_type": "markdown",
   "metadata": {},
   "source": [
    "**Rolling Dice**"
   ]
  },
  {
   "cell_type": "code",
   "execution_count": 25,
   "metadata": {
    "collapsed": false,
    "jupyter": {
     "outputs_hidden": false
    }
   },
   "outputs": [
    {
     "data": {
      "text/plain": [
       "1"
      ]
     },
     "execution_count": 25,
     "metadata": {},
     "output_type": "execute_result"
    }
   ],
   "source": [
    "def bet_on_one_roll():\n",
    "    \"\"\"Returns my net gain on one bet\"\"\"\n",
    "    x = np.random.choice(np.arange(1, 7))  # roll a die once and record the number of spots\n",
    "    if x <= 2:\n",
    "        return -1\n",
    "    elif x <= 4:\n",
    "        return 0\n",
    "    elif x <= 6:\n",
    "        return 1\n",
    "\n",
    "    \n",
    "bet_on_one_roll()"
   ]
  },
  {
   "cell_type": "markdown",
   "metadata": {},
   "source": [
    "**Lets play 5 times**"
   ]
  },
  {
   "cell_type": "code",
   "execution_count": 26,
   "metadata": {
    "collapsed": false,
    "jupyter": {
     "outputs_hidden": false
    }
   },
   "outputs": [
    {
     "name": "stdout",
     "output_type": "stream",
     "text": [
      "1\n",
      "-1\n",
      "-1\n",
      "-1\n",
      "0\n"
     ]
    }
   ],
   "source": [
    "for i in np.arange(5):\n",
    "    print(bet_on_one_roll())"
   ]
  },
  {
   "cell_type": "markdown",
   "metadata": {},
   "source": [
    "**We can now simulate five bets on the dice and collect the results in an array that we will call the collection array.**"
   ]
  },
  {
   "cell_type": "code",
   "execution_count": 29,
   "metadata": {
    "collapsed": false,
    "jupyter": {
     "outputs_hidden": false
    }
   },
   "outputs": [
    {
     "data": {
      "text/plain": [
       "array([ 0.,  0.,  0.,  1., -1.])"
      ]
     },
     "execution_count": 29,
     "metadata": {},
     "output_type": "execute_result"
    }
   ],
   "source": [
    "outcomes = np.array([])\n",
    "\n",
    "for i in np.arange(5):\n",
    "    outcome_of_bet = bet_on_one_roll()\n",
    "    outcomes = np.append(outcomes, outcome_of_bet)\n",
    "    \n",
    "outcomes"
   ]
  },
  {
   "cell_type": "markdown",
   "metadata": {},
   "source": [
    "**Let us rewrite the cell with the for statement unrolled:**"
   ]
  },
  {
   "cell_type": "code",
   "execution_count": 30,
   "metadata": {
    "collapsed": false,
    "jupyter": {
     "outputs_hidden": false
    }
   },
   "outputs": [
    {
     "data": {
      "text/plain": [
       "array([1., 0., 1., 1., 0.])"
      ]
     },
     "execution_count": 30,
     "metadata": {},
     "output_type": "execute_result"
    }
   ],
   "source": [
    "outcomes = np.array([])\n",
    "\n",
    "i = np.arange(5).item(0)\n",
    "outcome_of_bet = bet_on_one_roll()\n",
    "outcomes = np.append(outcomes, outcome_of_bet)\n",
    "\n",
    "i = np.arange(5).item(1)\n",
    "outcome_of_bet = bet_on_one_roll()\n",
    "outcomes = np.append(outcomes, outcome_of_bet)\n",
    "\n",
    "i = np.arange(5).item(2)\n",
    "outcome_of_bet = bet_on_one_roll()\n",
    "outcomes = np.append(outcomes, outcome_of_bet)\n",
    "\n",
    "i = np.arange(5).item(3)\n",
    "outcome_of_bet = bet_on_one_roll()\n",
    "outcomes = np.append(outcomes, outcome_of_bet)\n",
    "\n",
    "i = np.arange(5).item(4)\n",
    "outcome_of_bet = bet_on_one_roll()\n",
    "outcomes = np.append(outcomes, outcome_of_bet)\n",
    "\n",
    "outcomes"
   ]
  },
  {
   "cell_type": "markdown",
   "metadata": {},
   "source": [
    "**We can see the variation in the results of 300 bets by running exactly the same code for 300 bets instead of five.**"
   ]
  },
  {
   "cell_type": "code",
   "execution_count": 32,
   "metadata": {
    "collapsed": false,
    "jupyter": {
     "outputs_hidden": false
    }
   },
   "outputs": [
    {
     "data": {
      "text/plain": [
       "300"
      ]
     },
     "execution_count": 32,
     "metadata": {},
     "output_type": "execute_result"
    }
   ],
   "source": [
    "outcomes = np.array([])\n",
    "\n",
    "for i in np.arange(300):\n",
    "    outcome_of_bet = bet_on_one_roll()\n",
    "    outcomes = np.append(outcomes, outcome_of_bet)\n",
    "    \n",
    "len(outcomes)"
   ]
  },
  {
   "cell_type": "code",
   "execution_count": 51,
   "metadata": {
    "collapsed": false,
    "jupyter": {
     "outputs_hidden": false
    }
   },
   "outputs": [
    {
     "data": {
      "text/plain": [
       "Text(0, 0.5, 'Count')"
      ]
     },
     "execution_count": 51,
     "metadata": {},
     "output_type": "execute_result"
    },
    {
     "data": {
      "image/png": "[encoded data removed]",
      "text/plain": [
       "<Figure size 864x504 with 1 Axes>"
      ]
     },
     "execution_count": 51,
     "metadata": {
      "image/png": {
       "height": 424,
       "width": 723
      },
      "needs_background": "light"
     },
     "output_type": "execute_result"
    }
   ],
   "source": [
    "import matplotlib.pyplot as plt\n",
    "\n",
    "outcomes_loss=np.count_nonzero(outcomes == -1)\n",
    "outcomes_draw=np.count_nonzero(outcomes == 0)\n",
    "outcomes_win=np.count_nonzero(outcomes == 1)\n",
    "\n",
    "my_simulated_data = {\"-1\": outcomes_loss, \"0\": outcomes_draw, \"1\": outcomes_win}\n",
    "keys = my_simulated_data.keys()\n",
    "values = my_simulated_data.values()\n",
    "\n",
    "plt.bar(keys, values)\n",
    "plt.xlabel('Outcome')\n",
    "plt.ylabel('Count')"
   ]
  },
  {
   "cell_type": "markdown",
   "metadata": {},
   "source": [
    "**Monty Hall Simulation**"
   ]
  },
  {
   "cell_type": "code",
   "execution_count": 2,
   "metadata": {
    "collapsed": false,
    "jupyter": {
     "outputs_hidden": false
    }
   },
   "outputs": [
    {
     "data": {
      "text/plain": [
       "('second goat', 'first goat', None)"
      ]
     },
     "execution_count": 2,
     "metadata": {},
     "output_type": "execute_result"
    }
   ],
   "source": [
    "import numpy as np\n",
    "import pandas as pd\n",
    "import matplotlib.pyplot as plt\n",
    "\n",
    "goats = np.array(['first goat', 'second goat'])\n",
    "\n",
    "def other_goat(x):\n",
    "    if x == 'first goat':\n",
    "        return 'second goat'\n",
    "    elif x == 'second goat':\n",
    "        return 'first goat'\n",
    "\n",
    "#Lets check if the function works\n",
    "other_goat('first goat'), other_goat('second goat'), other_goat('watermelon')\n"
   ]
  },
  {
   "cell_type": "code",
   "execution_count": 3,
   "metadata": {
    "collapsed": false,
    "jupyter": {
     "outputs_hidden": false
    }
   },
   "outputs": [
    {
     "data": {
      "text/plain": [
       "['car', 'second goat', 'first goat']"
      ]
     },
     "execution_count": 3,
     "metadata": {},
     "output_type": "execute_result"
    }
   ],
   "source": [
    "#The array hidden_behind_doors contains the set of things that could be behind the doors.\n",
    "\n",
    "hidden_behind_doors = np.array(['car', 'first goat', 'second goat'])\n",
    "\n",
    "#function for the game (placing the prizes behind curtains)\n",
    "def monty_hall_game():\n",
    "    \"\"\"Return [contestant's guess, what Monty reveals, what remains behind the other door]\"\"\"\n",
    "    \n",
    "    contestant_guess = np.random.choice(hidden_behind_doors)\n",
    "    \n",
    "    if contestant_guess == 'first goat':\n",
    "        return [contestant_guess, 'second goat', 'car']\n",
    "    \n",
    "    if contestant_guess == 'second goat':\n",
    "        return [contestant_guess, 'first goat', 'car']\n",
    "    \n",
    "    if contestant_guess == 'car':\n",
    "        revealed = np.random.choice(goats)\n",
    "        return [contestant_guess, revealed, other_goat(revealed)]\n",
    "    \n",
    "monty_hall_game()"
   ]
  },
  {
   "cell_type": "code",
   "execution_count": 4,
   "metadata": {
    "collapsed": false,
    "jupyter": {
     "outputs_hidden": false
    }
   },
   "outputs": [
    {
     "data": {
      "text/html": [
       "<div>\n",
       "<style scoped>\n",
       "    .dataframe tbody tr th:only-of-type {\n",
       "        vertical-align: middle;\n",
       "    }\n",
       "\n",
       "    .dataframe tbody tr th {\n",
       "        vertical-align: top;\n",
       "    }\n",
       "\n",
       "    .dataframe thead th {\n",
       "        text-align: right;\n",
       "    }\n",
       "</style>\n",
       "<table border=\"1\" class=\"dataframe\">\n",
       "  <thead>\n",
       "    <tr style=\"text-align: right;\">\n",
       "      <th></th>\n",
       "      <th>Guess</th>\n",
       "      <th>Revealed</th>\n",
       "      <th>Remaining</th>\n",
       "    </tr>\n",
       "  </thead>\n",
       "  <tbody>\n",
       "    <tr>\n",
       "      <th>0</th>\n",
       "      <td>first goat</td>\n",
       "      <td>second goat</td>\n",
       "      <td>car</td>\n",
       "    </tr>\n",
       "    <tr>\n",
       "      <th>1</th>\n",
       "      <td>first goat</td>\n",
       "      <td>second goat</td>\n",
       "      <td>car</td>\n",
       "    </tr>\n",
       "    <tr>\n",
       "      <th>2</th>\n",
       "      <td>second goat</td>\n",
       "      <td>first goat</td>\n",
       "      <td>car</td>\n",
       "    </tr>\n",
       "    <tr>\n",
       "      <th>3</th>\n",
       "      <td>first goat</td>\n",
       "      <td>second goat</td>\n",
       "      <td>car</td>\n",
       "    </tr>\n",
       "    <tr>\n",
       "      <th>4</th>\n",
       "      <td>car</td>\n",
       "      <td>first goat</td>\n",
       "      <td>second goat</td>\n",
       "    </tr>\n",
       "  </tbody>\n",
       "</table>\n",
       "</div>"
      ],
      "text/plain": [
       "         Guess     Revealed    Remaining\n",
       "0   first goat  second goat          car\n",
       "1   first goat  second goat          car\n",
       "2  second goat   first goat          car\n",
       "3   first goat  second goat          car\n",
       "4          car   first goat  second goat"
      ]
     },
     "execution_count": 4,
     "metadata": {},
     "output_type": "execute_result"
    }
   ],
   "source": [
    "# Create a dataframe for simulation results\n",
    "\n",
    "games = pd.DataFrame(columns = ['Guess', 'Revealed', 'Remaining'])\n",
    "\n",
    "# Play the game 10000 times and \n",
    "# record the results in the table games\n",
    "\n",
    "for i in np.arange(10000):\n",
    "    result=monty_hall_game()\n",
    "    games=games.append({'Guess': result[0], 'Revealed': result[1], 'Remaining': result[2]}, ignore_index=True)\n",
    "\n",
    "#The simulation is done. Notice how short the code is. The majority of the work was done in simulating the outcome of one game.\n",
    "games.head()"
   ]
  },
  {
   "cell_type": "code",
   "execution_count": 6,
   "metadata": {
    "collapsed": false,
    "jupyter": {
     "outputs_hidden": false
    }
   },
   "outputs": [
    {
     "data": {
      "text/plain": [
       "second goat    3375\n",
       "first goat     3320\n",
       "car            3305\n",
       "Name: Guess, dtype: int64"
      ]
     },
     "execution_count": 6,
     "metadata": {},
     "output_type": "execute_result"
    }
   ],
   "source": [
    "#To see whether the contestant should stick with her original choice or switch, let's see how frequently the car is behind each of her two options.\n",
    "original_choice =games['Guess'].value_counts()\n",
    "original_choice\n"
   ]
  },
  {
   "cell_type": "code",
   "execution_count": 8,
   "metadata": {
    "collapsed": false,
    "jupyter": {
     "outputs_hidden": false
    }
   },
   "outputs": [
    {
     "ename": "TypeError",
     "evalue": "'Series' object is not callable",
     "output_type": "error",
     "traceback": [
      "\u001b[0;31m---------------------------------------------------------------------------\u001b[0m",
      "\u001b[0;31mTypeError\u001b[0m                                 Traceback (most recent call last)",
      "\u001b[0;32m<ipython-input-8-aff7e659a930>\u001b[0m in \u001b[0;36m<module>\u001b[0;34m\u001b[0m\n\u001b[1;32m      2\u001b[0m \u001b[0mremaining_door\u001b[0m\u001b[0;34m\u001b[0m\u001b[0;34m\u001b[0m\u001b[0m\n\u001b[1;32m      3\u001b[0m \u001b[0;34m\u001b[0m\u001b[0m\n\u001b[0;32m----> 4\u001b[0;31m \u001b[0mbars1\u001b[0m \u001b[0;34m=\u001b[0m \u001b[0;34m[\u001b[0m\u001b[0moriginal_choice\u001b[0m\u001b[0;34m(\u001b[0m\u001b[0;36m0\u001b[0m\u001b[0;34m,\u001b[0m\u001b[0;36m1\u001b[0m\u001b[0;34m)\u001b[0m\u001b[0;34m,\u001b[0m\u001b[0moriginal_g1\u001b[0m\u001b[0;34m,\u001b[0m\u001b[0moriginal_g2\u001b[0m\u001b[0;34m]\u001b[0m\u001b[0;34m\u001b[0m\u001b[0;34m\u001b[0m\u001b[0m\n\u001b[0m",
      "\u001b[0;31mTypeError\u001b[0m: 'Series' object is not callable"
     ]
    }
   ],
   "source": [
    "remaining_door =games['Remaining'].value_counts()\n",
    "remaining_door\n"
   ]
  },
  {
   "cell_type": "code",
   "execution_count": 11,
   "metadata": {
    "collapsed": false,
    "jupyter": {
     "outputs_hidden": false
    }
   },
   "outputs": [
    {
     "data": {
      "image/png": "[encoded data removed]",
      "text/plain": [
       "<Figure size 864x504 with 1 Axes>"
      ]
     },
     "execution_count": 11,
     "metadata": {
      "image/png": {
       "height": 427,
       "width": 716
      },
      "needs_background": "light"
     },
     "output_type": "execute_result"
    }
   ],
   "source": [
    "# Let's plot a grouped barplot\n",
    "\n",
    "# set width of bar\n",
    "barWidth = 0.25\n",
    "\n",
    "# Set position of bar on X axis\n",
    "r1 = np.arange(len(original_choice))\n",
    "r2 = [x + barWidth for x in r1]\n",
    " \n",
    "# Make the plot\n",
    "plt.bar(r1, original_choice, color='darkorange', width=barWidth, edgecolor='white', label='Original Guess')\n",
    "plt.bar(r2, remaining_door, color='midnightblue', width=barWidth, edgecolor='white', label='Remaining Door')\n",
    " \n",
    "# Add xticks on the middle of the group bars\n",
    "plt.xlabel('Item', fontweight='bold')\n",
    "plt.xticks([r + barWidth/2 for r in range(len(original_choice))], ['Car', 'Goat 1', 'Goat 2'])\n",
    " \n",
    "# Create legend & Show graphic\n",
    "plt.legend()\n",
    "plt.show()"
   ]
  },
  {
   "cell_type": "code",
   "execution_count": null,
   "metadata": {
    "collapsed": false,
    "jupyter": {
     "outputs_hidden": false
    }
   },
   "outputs": [],
   "source": []
  }
 ],
 "metadata": {
  "kernelspec": {
   "display_name": "Python 3",
   "language": "python",
   "name": "python3"
  },
  "language_info": {
   "codemirror_mode": {
    "name": "ipython",
    "version": 3
   },
   "file_extension": ".py",
   "mimetype": "text/x-python",
   "name": "python",
   "nbconvert_exporter": "python",
   "pygments_lexer": "ipython3",
   "version": "3.8.5"
  }
 },
 "nbformat": 4,
 "nbformat_minor": 4
}
