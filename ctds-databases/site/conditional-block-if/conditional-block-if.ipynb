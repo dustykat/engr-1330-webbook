{
 "cells": [
  {
   "cell_type": "markdown",
   "metadata": {},
   "source": [
    "# IF ... (block structure)\n",
    "## Conditional Statements\n",
    "\n",
    "Decision making via conditional statements is an important step in algorithm design; they control the flow of execution of a program.\n",
    "\n",
    "Conditional statements in Python include:\n",
    "\n",
    "- `if` statement\n",
    "- `if....else` statements\n",
    "- `if....elif....else` statements\n",
    "\n",
    "Conditional statements are logical expressions that evaluate as TRUE or FALSE and using\n",
    "these results to perform further operations based on these conditions.\n",
    "All flow control in a program depends on evaluating conditions. The program will proceed\n",
    "diferently based on the outcome of one or more conditions - really sophisticated AI programs are a collection of conditions and correlations. \n",
    "\n",
    "## Comparison\n",
    "\n",
    "The most common conditional operation is comparison. If we wish to compare whether two\n",
    "variables are the same we use the `==` (double equal sign).\n",
    "\n",
    "For example `x == y` means the program will ask whether `x` and `y` have the same value. \n",
    "If they do, the result is TRUE if not then the result is FALSE.\n",
    "\n",
    "Other comparison signs are `!=` does NOT equal, `<` smaller than, `> `larger than, `<= `less than or equal, and `>=` greater than or equal.\n",
    "\n",
    "There are also three logical operators when we want to build multiple compares\n",
    "(multiple conditioning); these are `and`, `or`, and `not`.\n",
    "\n",
    "The `and` operator returns TRUE if (and only if) **all** conditions are TRUE.\n",
    "For instance `5 == 5 and 5 < 6` will return a TRUE because both conditions are true.\n",
    "\n",
    "The `or` operator returns `TRUE` if at least one condition is true. \n",
    "If **all** conditions are FALSE, then it will return a FALSE. For instance `4 > 3 or 17 > 20 or 3 == 2` will return `TRUE`because the first condition is true.\n",
    "The `not` operator returns `TRUE` if the condition after the `not` keyword is false. Think of it\n",
    "as a way to do a logic reversal."
   ]
  },
  {
   "cell_type": "code",
   "execution_count": 1,
   "metadata": {},
   "outputs": [
    {
     "name": "stdout",
     "output_type": "stream",
     "text": [
      "x =:  7 y =:  10\n",
      "x is equal to y :  False\n",
      "x is not equal to y :  True\n",
      "x is greater than y :  False\n",
      "x is less than y :  True\n"
     ]
    }
   ],
   "source": [
    "# Compare\n",
    "x = 7\n",
    "y = 10\n",
    "print(\"x =: \",x,\"y =: \",y)\n",
    "print(\"x is equal to y : \",x==y)\n",
    "print(\"x is not equal to y : \",x!=y)\n",
    "print(\"x is greater than y : \",x>y)\n",
    "print(\"x is less than y : \",x<y)"
   ]
  },
  {
   "cell_type": "code",
   "execution_count": 2,
   "metadata": {},
   "outputs": [
    {
     "name": "stdout",
     "output_type": "stream",
     "text": [
      "5 == 5 and 5 < 6 ?  True\n",
      "4 > 3 or 17 > 20  True\n",
      "not 5 == 5 False\n"
     ]
    }
   ],
   "source": [
    "# Logical operators\n",
    "print(\"5 == 5 and 5 < 6 ? \",5 == 5 and 5 < 6)\n",
    "print(\"4 > 3 or 17 > 20 \",4 > 3 or 17 > 20)\n",
    "print(\"not 5 == 5\",not 5 == 5)"
   ]
  },
  {
   "cell_type": "markdown",
   "metadata": {},
   "source": [
    "## Block `IF` statement\n",
    "The `if` statement is a common flow control statement. \n",
    "It allows the program to evaluate if a certain condition is satisfied and to perform a designed action based on the result of the evaluation. \n",
    "\n",
    "Expressed in a flowchart a block `if` statement looks like:\n",
    "\n",
    "![](conditional.png)\n",
    "\n",
    "As psuedo code:\n",
    "\n",
    "    if(condition is true): \n",
    "        do stuff\n",
    "\n",
    "Amazon knowing what you kind of want is based on correlations of your past behavior compared to other peoples similar, but more recent behavior, and then it uses conditional statements to decide what item to offer you in your recommendation items. \n",
    "It's spooky, but ultimately just a program running in the background trying to make your money theirs.\n",
    "\n",
    "The structure of a multiple condition block `if` statement is\n",
    "\n",
    "    if condition1 is met:\n",
    "        do A\n",
    "    elif condition 2 is met:\n",
    "        do b\n",
    "    elif condition 3 is met:\n",
    "        do c\n",
    "    else:\n",
    "        do e\n",
    "        \n",
    "The `elif` means \"else if\". The `:` colon is an important part of the structure it tells where the action begins. Also there are no scope delimiters like (), or {} . \n",
    "Instead Python uses indentation to isolate blocks of code. \n",
    "\n",
    "This convention is hugely important - many other coding environments use delimiters (called scoping delimiters), but Python does not. The indentation itself is the scoping delimiter.\n",
    "\n",
    "The next code fragment illustrates illustrates how the `if` statements work. The program asks the user for input. The use of `raw_input()` will let the program read any input as a string\n",
    "so non-numeric results will not throw an error. \n",
    "The input is stored in the variable named `userInput`. \n",
    "Next the statement if `userInput == \"1\":` compares the value of `userInput`\n",
    "with the string `\"1\"`. If the value in the variable is indeed \\1\", then the program will execute\n",
    "the block of code in the indentation after the colon. \n",
    "In this case it will execute\n",
    "    \n",
    "    print \"Hello World\"\n",
    "    print \"How do you do? \"\n",
    "\n",
    "Alternatively, if the value of `userInput` is the string `'2'`, then the program will execute \n",
    "\n",
    "    print \"Snakes on a plane \"\n",
    "\n",
    "For all other values the program will execute\n",
    "\n",
    "    print \"You did not enter a valid number\""
   ]
  },
  {
   "cell_type": "code",
   "execution_count": 8,
   "metadata": {},
   "outputs": [
    {
     "name": "stdin",
     "output_type": "stream",
     "text": [
      "Enter the number 1 or 2 1\n"
     ]
    },
    {
     "name": "stdout",
     "output_type": "stream",
     "text": [
      "Hello World\n",
      "How do you do? \n"
     ]
    }
   ],
   "source": [
    "# Block if example\n",
    "userInput = input('Enter the number 1 or 2')\n",
    "userInput = str(userInput) # type cast to string, to trap goofy binary/hex inputs\n",
    "# Use block if structure\n",
    "if userInput == '1':\n",
    "    print(\"Hello World\")\n",
    "    print(\"How do you do? \")\n",
    "elif userInput == '2':\n",
    "    print(\"Snakes on a plane \")\n",
    "else:\n",
    "    print(\"You did not enter a valid number\")"
   ]
  },
  {
   "cell_type": "markdown",
   "metadata": {},
   "source": [
    "## Readings\n",
    "\n",
    "1. Computational and Inferential Thinking Ani Adhikari and John DeNero, Computational and Inferential Thinking, The Foundations of Data Science, Creative Commons Attribution-NonCommercial-NoDerivatives 4.0 International (CC BY-NC-ND) Chapter 4 Subpart 3 https://www.inferentialthinking.com/chapters/04/3/Comparison.html\n",
    "\n",
    "2. Computational and Inferential Thinking Ani Adhikari and John DeNero, Computational and Inferential Thinking, The Foundations of Data Science, Creative Commons Attribution-NonCommercial-NoDerivatives 4.0 International (CC BY-NC-ND) Chapter 4 \n",
    "https://www.inferentialthinking.com/chapters/04/Data_Types.html\n",
    "\n",
    "3. Learn Python the Hard Way (Online Book) (https://learnpythonthehardway.org/book/)  Recommended for beginners who want a complete course in programming with Python.\n",
    "\n",
    "4. LearnPython.org (Interactive Tutorial) (https://www.learnpython.org/)  Short, interactive tutorial for those who just need a quick way to pick up Python syntax."
   ]
  },
  {
   "cell_type": "code",
   "execution_count": null,
   "metadata": {},
   "outputs": [],
   "source": []
  }
 ],
 "metadata": {
  "kernelspec": {
   "display_name": "Python 3",
   "language": "python",
   "name": "python3"
  },
  "language_info": {
   "codemirror_mode": {
    "name": "ipython",
    "version": 3
   },
   "file_extension": ".py",
   "mimetype": "text/x-python",
   "name": "python",
   "nbconvert_exporter": "python",
   "pygments_lexer": "ipython3",
   "version": "3.8.5"
  }
 },
 "nbformat": 4,
 "nbformat_minor": 4
}
