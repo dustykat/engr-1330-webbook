{
 "cells": [
  {
   "cell_type": "code",
   "execution_count": 9,
   "metadata": {},
   "outputs": [
    {
     "name": "stdout",
     "output_type": "stream",
     "text": [
      "HID :  atomickitty\n",
      "UID :  sensei\n",
      "/home/sensei/1330-textbook-webroot/ctds-webbook/docs/lesson0\n",
      "/opt/jupyterhub/bin/python3\n"
     ]
    }
   ],
   "source": [
    "# Script block to identify host, user, and kernel\n",
    "import sys\n",
    "! echo 'HID : ' $HOSTNAME\n",
    "! echo 'UID : ' $USER\n",
    "! pwd\n",
    "print(sys.executable) #print(sys.version) #print(sys.version_info)"
   ]
  },
  {
   "cell_type": "code",
   "execution_count": 17,
   "metadata": {},
   "outputs": [
    {
     "data": {
      "text/html": [
       "<!-- Script Block to set tables to left alignment -->\n",
       "<style>\n",
       "  table {margin-left: 0 !important;}\n",
       "</style>\n"
      ],
      "text/plain": [
       "<IPython.core.display.HTML object>"
      ]
     },
     "metadata": {},
     "output_type": "display_data"
    }
   ],
   "source": [
    "%%html\n",
    "<!-- Script Block to set tables to left alignment -->\n",
    "<style>\n",
    "  table {margin-left: 0 !important;}\n",
    "</style>"
   ]
  },
  {
   "cell_type": "markdown",
   "metadata": {},
   "source": [
    "### Special Script Blocks\n",
    "\n",
    "In these notebooks there will usually be two script blocks, identical to the ones above\n",
    "\n",
    "- The first block identifies the particular computer, the user, and the python kernel in use.\n",
    "- The second block sets markdown tables to left edge when rendering.\n",
    "\n",
    "I usually put both blocks at the top of the notebook, just after some kind of title block, as done here.### Special Script Blocks\n",
    "\n",
    "In the workshop notebooks there will usually be two script blocks, identical to the ones below.  \n",
    "\n",
    "- The first block identifies the particular computer, the user, and the python kernel in use.\n",
    "- The second block sets markdown tables to left edge when rendering.\n",
    "\n",
    "I usually put both blocks at the top of the notebook, for final rendering, the script is suppressed "
   ]
  },
  {
   "cell_type": "markdown",
   "metadata": {},
   "source": [
    "### Example 1 Problem Solving Process\n",
    "\n",
    "This example considers a need to compute an arithmetic mean, and what the process might look like.  The example goes through the steps involved, and even includes some JupyterLab/iPython scripting; students are not expected to understand the code syntax at this point, but it is included to illustrate an end result of the simple directive to compute a mean value.  \n",
    "\n",
    "**Step 1.** Develop script to compute the arithmetic mean of a stream of data of unknown length.\n",
    "\n",
    "**Step 2.** \n",
    "  - Inputs: The data stream \n",
    "  - Governing equation: $ \\bar x = \\frac{1}{N} \\sum_{i=1}^{N} x_i $ where $N$ is the number of items in the data stream, and $x_i$ is the value of the i-th element.\n",
    "  - Outputs: The arithmetic mean $\\bar x$\n",
    "\n",
    "**Step 3.** Work a sample problem by-hand for testing the general solution.\n",
    "\n",
    "|Data|\n",
    "|---:|\n",
    "|23.43|\n",
    "|37.43|\n",
    "|34.91|\n",
    "|28.37|\n",
    "|30.62|\n",
    "\n",
    "The arithmetic mean requires us to count how many elements are in the data stream (in this case there are 5) and compute their sum (in this case 154.76), and finally divide the sum by the count and report this result as the arithmetic mean.\n",
    "\n",
    "$$ \\bar x = \\frac{1}{5}(23.43+37.43+34.91+28.37+30.62)=\\frac{154.76}{5}=30.95 $$\n",
    "\n",
    "**Step 4.** Develop a general solution (code)\n",
    "\n",
    "The by-hand exercise helps identify the required steps in an “algorithm” or recipe to compute mean values. First we essentially capture or read the values then count how many there are (either as we go or as a separate step), then sum the values, then divide the values by the count, and finally report the result.\n",
    "\n",
    "In a flow-chart it would look like:\n",
    "\n",
    "![](Lesson1-flowchart.png)\n",
    "\n",
    "||Flowchart for Artihmetic Mean Algorithm||\n",
    "|---|------------|---|\n",
    "\n",
    "**Step 5.** This step we would code the algorithm expressed in the figure and test it with the by-hand data and other small datasets until we are convinced it works correctly.\n",
    "\n",
    "In a simple JupyterLab script"
   ]
  },
  {
   "cell_type": "code",
   "execution_count": 18,
   "metadata": {},
   "outputs": [
    {
     "name": "stdout",
     "output_type": "stream",
     "text": [
      "arithmetic mean =  30.951999999999998\n"
     ]
    }
   ],
   "source": [
    "# Arithmetic Mean in Very Elementary and Primative Python\n",
    "xlist = [23.43,37.43,34.91,28.37,30.62] # list is a type of data structure\n",
    "howlong = len(xlist) # len is a built-in function that returns how many items in a list\n",
    "accumulator = 0 # a variable to accumulate the sum\n",
    "for i in range(howlong):\n",
    "    accumulator = accumulator + xlist[i]\n",
    "print(\"arithmetic mean = \",(accumulator/howlong))"
   ]
  },
  {
   "cell_type": "markdown",
   "metadata": {},
   "source": [
    "**Step 6.** This step we would refine the code to generalize the algorithm.  In the example we want a way to supply the `xlist` from a file perhaps, and tidy the output by rounding to only two decimal places - rounding is relatively simple:"
   ]
  },
  {
   "cell_type": "code",
   "execution_count": 12,
   "metadata": {},
   "outputs": [
    {
     "name": "stdout",
     "output_type": "stream",
     "text": [
      "arithmetic mean =  30.95\n"
     ]
    }
   ],
   "source": [
    "# Arithmetic Mean in Very Elementary and Primative Python\n",
    "xlist = [23.43,37.43,34.91,28.37,30.62] # list is a type of data structure\n",
    "howlong = len(xlist) # len is a built-in function that returns how many items in a list\n",
    "accumulator = 0 # a variable to accumulate the sum\n",
    "for i in range(howlong):\n",
    "    accumulator = accumulator + xlist[i]\n",
    "print(\"arithmetic mean = \",round((accumulator/howlong),2))"
   ]
  },
  {
   "cell_type": "markdown",
   "metadata": {},
   "source": [
    "Reading from a file, is a bit more complicated.  We need to create a connection to the file, then read the contents into our script, then put the contents into the `xlist`"
   ]
  },
  {
   "cell_type": "code",
   "execution_count": 13,
   "metadata": {},
   "outputs": [
    {
     "name": "stdout",
     "output_type": "stream",
     "text": [
      "arithmetic mean =  30.95\n"
     ]
    }
   ],
   "source": [
    "xlist=[] # list (null) is a type of data structure\n",
    "externalfile = open(\"data.txt\",'r') # create connection to file, set to read (r), file must exist\n",
    "how_many_lines = 0\n",
    "for line in externalfile: # parse each line, append to xlist\n",
    "    xlist.append(line)\n",
    "    how_many_lines += 1\n",
    "externalfile.close() # close the file connection\n",
    "\n",
    "howlong = len(xlist) # len is a built-in function that returns how many items in a list\n",
    "accumulator = 0 # a variable to accumulate the sum\n",
    "for i in range(howlong):\n",
    "    accumulator = accumulator + float(xlist[i])\n",
    "print(\"arithmetic mean = \",round((accumulator/howlong),2))"
   ]
  },
  {
   "cell_type": "markdown",
   "metadata": {},
   "source": [
    "Finally, if we want to reuse the code a lot, it is convienent to make it into a function"
   ]
  },
  {
   "cell_type": "code",
   "execution_count": 14,
   "metadata": {},
   "outputs": [],
   "source": [
    "def average(inputlist):\n",
    "# inputlist should be a list of values\n",
    "    howlong = len(inputlist) # len is a built-in function that returns how many items in a list\n",
    "    accumulator = 0 # a variable to accumulate the sum\n",
    "    for i in range(howlong):\n",
    "        accumulator = accumulator + float(inputlist[i])\n",
    "    result = (accumulator/howlong)\n",
    "    return(result)"
   ]
  },
  {
   "cell_type": "markdown",
   "metadata": {},
   "source": [
    "Put our file reading and compute mean code here"
   ]
  },
  {
   "cell_type": "code",
   "execution_count": 15,
   "metadata": {},
   "outputs": [
    {
     "name": "stdout",
     "output_type": "stream",
     "text": [
      "arithmetic mean =  30.95\n"
     ]
    }
   ],
   "source": [
    "xlist=[] # list (null) is a type of data structure\n",
    "externalfile = open(\"data.txt\",'r') # create connection to file, set to read (r), file must exist\n",
    "how_many_lines = 0\n",
    "for line in externalfile: # parse each line, append to xlist\n",
    "    xlist.append(line)\n",
    "    how_many_lines += 1\n",
    "externalfile.close() # close the file connection\n",
    "print(\"arithmetic mean = \",round(average(xlist),2))"
   ]
  },
  {
   "cell_type": "markdown",
   "metadata": {},
   "source": [
    "So the simple task of computing the mean of a collection of values, is a bit more complex when decomposed than it first appears, but illustrates a five step process (with a refinement step).  Keep in mind throughout the course this generic process is always going on in the background."
   ]
  },
  {
   "cell_type": "code",
   "execution_count": null,
   "metadata": {},
   "outputs": [],
   "source": []
  }
 ],
 "metadata": {
  "kernelspec": {
   "display_name": "Python 3",
   "language": "python",
   "name": "python3"
  },
  "language_info": {
   "codemirror_mode": {
    "name": "ipython",
    "version": 3
   },
   "file_extension": ".py",
   "mimetype": "text/x-python",
   "name": "python",
   "nbconvert_exporter": "python",
   "pygments_lexer": "ipython3",
   "version": "3.8.5"
  }
 },
 "nbformat": 4,
 "nbformat_minor": 4
}
