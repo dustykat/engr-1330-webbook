{
 "cells": [
  {
   "cell_type": "code",
   "execution_count": 0,
   "metadata": {
    "collapsed": false
   },
   "outputs": [
   ],
   "source": [
    "# Preamble script block to identify host, user, and kernel\n",
    "import sys\n",
    "! hostname\n",
    "! whoami\n",
    "print(sys.executable)\n",
    "print(sys.version)\n",
    "print(sys.version_info)"
   ]
  },
  {
   "cell_type": "markdown",
   "metadata": {
    "collapsed": false
   },
   "source": [
    "## Full name: \n",
    "## R#: \n",
    "## HEX: \n",
    "## Title of the notebook\n",
    "## Date: "
   ]
  },
  {
   "cell_type": "code",
   "execution_count": 0,
   "metadata": {
    "collapsed": false
   },
   "outputs": [
   ],
   "source": [
    "# Lab11: Probability and Python"
   ]
  },
  {
   "cell_type": "markdown",
   "metadata": {
    "collapsed": false
   },
   "source": [
    "#### Example1: Simulate a game of Russian Roulette:\n",
    "- For 2 rounds\n",
    "- For 5 rounds\n",
    "- For 10 rounds"
   ]
  },
  {
   "cell_type": "code",
   "execution_count": 1,
   "metadata": {
    "collapsed": false
   },
   "outputs": [
    {
     "name": "stdout",
     "output_type": "stream",
     "text": [
      "[0 0]\n"
     ]
    }
   ],
   "source": [
    "import numpy as np                     #import numpy\n",
    "revolver = np.array([1,0,0,0,0,0])     #create a numpy array with 1 bullet and 5 empty chambers\n",
    "print(np.random.choice(revolver,2))              #randomly select a value from revolver - simulation"
   ]
  },
  {
   "cell_type": "code",
   "execution_count": 2,
   "metadata": {
    "collapsed": false
   },
   "outputs": [
    {
     "name": "stdout",
     "output_type": "stream",
     "text": [
      "[0 0 0 1 0]\n"
     ]
    }
   ],
   "source": [
    "print(np.random.choice(revolver,5))"
   ]
  },
  {
   "cell_type": "code",
   "execution_count": 3,
   "metadata": {
    "collapsed": false
   },
   "outputs": [
    {
     "name": "stdout",
     "output_type": "stream",
     "text": [
      "[0 0 1 0 1 0 0 0 0 0]\n"
     ]
    }
   ],
   "source": [
    "print(np.random.choice(revolver,10))"
   ]
  },
  {
   "cell_type": "markdown",
   "metadata": {
    "collapsed": false
   },
   "source": [
    "#### Exercise 1: Simulate the results of throwing a D6 (regular dice) for 10 times. "
   ]
  },
  {
   "cell_type": "code",
   "execution_count": 2,
   "metadata": {
    "collapsed": false
   },
   "outputs": [
    {
     "data": {
      "text/plain": [
       "array([6, 2, 3, 3, 2, 2, 6, 1, 2, 1])"
      ]
     },
     "execution_count": 2,
     "metadata": {
     },
     "output_type": "execute_result"
    }
   ],
   "source": [
    "import numpy as np                     #import numpy\n",
    "dice = np.array([1,2,3,4,5,6])         #create a numpy array with values of a D6\n",
    "np.random.choice(dice,10)              #randomly selecting a value from dice for 10 times- simulation"
   ]
  },
  {
   "cell_type": "markdown",
   "metadata": {
    "collapsed": false
   },
   "source": [
    "#### Example2: Assume the following rules:\n",
    "\n",
    "- If the dice shows 1 or 2 spots, my net gain is -1 dollar.\n",
    "\n",
    "- If the dice shows 3 or 4 spots, my net gain is 0 dollars.\n",
    "\n",
    "- If the dice shows 5 or 6 spots, my net gain is 1 dollar.\n",
    "\n",
    "__Define a function to simulate a game with the above rules, assuming a D6, and compute the net gain of the player over any given number of rolls. <br>\n",
    "Compute the net gain for 5, 50, and 500 rolls__"
   ]
  },
  {
   "cell_type": "code",
   "execution_count": 3,
   "metadata": {
    "collapsed": false
   },
   "outputs": [
   ],
   "source": [
    "def D6game(nrolls):\n",
    "    import numpy as np                     #import numpy\n",
    "    dice = np.array([1,2,3,4,5,6])         #create a numpy array with values of a D6\n",
    "    rolls = np.random.choice(dice,nrolls)  #randomly selecting a value from dice for nrolls times- simulation\n",
    "    gainlist =[]                           #create an empty list for gains|losses\n",
    "    for i in np.arange(len(rolls)):        #Apply the rules \n",
    "        if rolls[i]<=2:\n",
    "            gainlist.append(-1)\n",
    "        elif rolls[i]<=4:\n",
    "            gainlist.append(0)\n",
    "        elif rolls[i]<=6:\n",
    "            gainlist.append(+1)\n",
    "    return (np.sum(gainlist))              #sum up all gains|losses\n",
    "#   return (gainlist,\"The net gain is equal to:\",np.sum(gainlist))\n"
   ]
  },
  {
   "cell_type": "code",
   "execution_count": 4,
   "metadata": {
    "collapsed": false
   },
   "outputs": [
    {
     "data": {
      "text/plain": [
       "-1"
      ]
     },
     "execution_count": 4,
     "metadata": {
     },
     "output_type": "execute_result"
    }
   ],
   "source": [
    "D6game(5)"
   ]
  },
  {
   "cell_type": "code",
   "execution_count": 5,
   "metadata": {
    "collapsed": false
   },
   "outputs": [
    {
     "data": {
      "text/plain": [
       "0"
      ]
     },
     "execution_count": 5,
     "metadata": {
     },
     "output_type": "execute_result"
    }
   ],
   "source": [
    "D6game(50)"
   ]
  },
  {
   "cell_type": "code",
   "execution_count": 6,
   "metadata": {
    "collapsed": false
   },
   "outputs": [
    {
     "data": {
      "text/plain": [
       "20"
      ]
     },
     "execution_count": 6,
     "metadata": {
     },
     "output_type": "execute_result"
    }
   ],
   "source": [
    "D6game(500)"
   ]
  },
  {
   "cell_type": "markdown",
   "metadata": {
    "collapsed": false
   },
   "source": [
    "#### Exercise2: Assume the following rules:\n",
    "\n",
    "- If the dice shows 1 or 2 spots, my net gain is (-2*value of dice) dollars.\n",
    "\n",
    "- If the dice shows 3 or 4 spots, my net gain is 1 dollars.\n",
    "\n",
    "- If the dice shows 5 spots, my net gain is (2*value of dice) dollars.\n",
    "\n",
    "- If the dice shows 6 spots, my net gain is -5 dollars.\n",
    "\n",
    "\n",
    "__Define a function to simulate a game with the above rules, assuming a D6, and compute the net gain of the player over any given number of rolls. <br>\n",
    "Compute the net gain for 5, 50, and 500 rolls__"
   ]
  },
  {
   "cell_type": "code",
   "execution_count": 5,
   "metadata": {
    "collapsed": false
   },
   "outputs": [
   ],
   "source": [
    "def D6game2(nrolls):\n",
    "    import numpy as np                     #import numpy\n",
    "    dice = np.array([1,2,3,4,5,6])         #create a numpy array with values of a D6\n",
    "    rolls = np.random.choice(dice,nrolls)  #randomly selecting a value from dice for nrolls times- simulation\n",
    "    gainlist =[]                           #create an empty list for gains|losses\n",
    "    for i in np.arange(len(rolls)):        #Apply the rules \n",
    "        if rolls[i]<=2:\n",
    "            gainlist.append(-2*rolls[i])\n",
    "        elif rolls[i]<=4:\n",
    "            gainlist.append(+1)\n",
    "        elif rolls[i]==5:\n",
    "            gainlist.append(+2*rolls[i])\n",
    "        elif rolls[i]==6:\n",
    "            gainlist.append(-5)\n",
    "    return (np.sum(gainlist))              #sum up all gains|losses\n",
    "#   return (gainlist,\"The net gain is equal to:\",np.sum(gainlist))"
   ]
  },
  {
   "cell_type": "code",
   "execution_count": 6,
   "metadata": {
    "collapsed": false
   },
   "outputs": [
    {
     "data": {
      "text/plain": [
       "2"
      ]
     },
     "execution_count": 6,
     "metadata": {
     },
     "output_type": "execute_result"
    }
   ],
   "source": [
    "D6game2(5)"
   ]
  },
  {
   "cell_type": "code",
   "execution_count": 7,
   "metadata": {
    "collapsed": false
   },
   "outputs": [
    {
     "data": {
      "text/plain": [
       "6"
      ]
     },
     "execution_count": 7,
     "metadata": {
     },
     "output_type": "execute_result"
    }
   ],
   "source": [
    "D6game2(10)"
   ]
  },
  {
   "cell_type": "code",
   "execution_count": 8,
   "metadata": {
    "collapsed": false
   },
   "outputs": [
    {
     "data": {
      "text/plain": [
       "25"
      ]
     },
     "execution_count": 8,
     "metadata": {
     },
     "output_type": "execute_result"
    }
   ],
   "source": [
    "D6game2(50)"
   ]
  },
  {
   "cell_type": "markdown",
   "metadata": {
    "collapsed": false
   },
   "source": [
    "#### Example3: Simulate Monty Hall Game for 1000 times. Use a barplot and discuss whether players are better off sticking to their initial choice, or switching doors? "
   ]
  },
  {
   "cell_type": "code",
   "execution_count": 7,
   "metadata": {
    "collapsed": false
   },
   "outputs": [
   ],
   "source": [
    "def othergoat(x):         #Define a function to return \"the other goat\"!\n",
    "    if x == \"Goat 1\":\n",
    "        return \"Goat 2\"\n",
    "    elif x == \"Goat 2\":\n",
    "        return \"Goat 1\""
   ]
  },
  {
   "cell_type": "code",
   "execution_count": 8,
   "metadata": {
    "collapsed": false
   },
   "outputs": [
   ],
   "source": [
    "Doors = np.array([\"Car\",\"Goat 1\",\"Goat 2\"])     #Define a list for objects behind the doors\n",
    "goats = np.array([\"Goat 1\" , \"Goat 2\"])          #Define a list for goats!\n",
    "\n",
    "def MHgame():\n",
    "    #Function to simulate the Monty Hall Game\n",
    "    #For each guess, return [\"the guess\",\"the revealed\", \"the remaining\"]\n",
    "    userguess=np.random.choice(Doors)         #randomly selects a door as userguess\n",
    "    if userguess == \"Goat 1\":\n",
    "        return [userguess, \"Goat 2\",\"Car\"]\n",
    "    if userguess == \"Goat 2\":\n",
    "        return [userguess, \"Goat 1\",\"Car\"]\n",
    "    if userguess == \"Car\":\n",
    "        revealed = np.random.choice(goats)\n",
    "        return [userguess, revealed,othergoat(revealed)]"
   ]
  },
  {
   "cell_type": "code",
   "execution_count": 23,
   "metadata": {
    "collapsed": false
   },
   "outputs": [
    {
     "name": "stdout",
     "output_type": "stream",
     "text": [
      "['Goat 1', 'Goat 2', 'Car']\n",
      "Goat 1\n",
      "Goat 2\n",
      "Car\n"
     ]
    }
   ],
   "source": [
    "# Check and see if the MHgame function is doing what it is supposed to do:\n",
    "for i in np.arange(1):\n",
    "    a =MHgame()\n",
    "    print(a)\n",
    "    print(a[0])\n",
    "    print(a[1])\n",
    "    print(a[2])"
   ]
  },
  {
   "cell_type": "code",
   "execution_count": 22,
   "metadata": {
    "collapsed": false
   },
   "outputs": [
   ],
   "source": [
    "c1 = []         #Create an empty list for the userguess\n",
    "c2 = []         #Create an empty list for the revealed\n",
    "c3 = []         #Create an empty list for the remaining\n",
    "for i in np.arange(1000):         #Simulate the game for 1000 rounds - or any other number of rounds you desire\n",
    "    game = MHgame()\n",
    "    c1.append(game[0])             #In each round, add the first element to the userguess list\n",
    "    c2.append(game[1])             #In each round, add the second element to the revealed list\n",
    "    c3.append(game[2])             #In each round, add the third element to the remaining list\n"
   ]
  },
  {
   "cell_type": "code",
   "execution_count": 11,
   "metadata": {
    "collapsed": false
   },
   "outputs": [
    {
     "data": {
      "text/html": [
       "<div>\n",
       "<style scoped>\n",
       "    .dataframe tbody tr th:only-of-type {\n",
       "        vertical-align: middle;\n",
       "    }\n",
       "\n",
       "    .dataframe tbody tr th {\n",
       "        vertical-align: top;\n",
       "    }\n",
       "\n",
       "    .dataframe thead th {\n",
       "        text-align: right;\n",
       "    }\n",
       "</style>\n",
       "<table border=\"1\" class=\"dataframe\">\n",
       "  <thead>\n",
       "    <tr style=\"text-align: right;\">\n",
       "      <th></th>\n",
       "      <th>Guess</th>\n",
       "      <th>Revealed</th>\n",
       "      <th>Remaining</th>\n",
       "    </tr>\n",
       "  </thead>\n",
       "  <tbody>\n",
       "    <tr>\n",
       "      <th>0</th>\n",
       "      <td>Car</td>\n",
       "      <td>Goat 1</td>\n",
       "      <td>Goat 2</td>\n",
       "    </tr>\n",
       "    <tr>\n",
       "      <th>1</th>\n",
       "      <td>Car</td>\n",
       "      <td>Goat 1</td>\n",
       "      <td>Goat 2</td>\n",
       "    </tr>\n",
       "    <tr>\n",
       "      <th>2</th>\n",
       "      <td>Car</td>\n",
       "      <td>Goat 2</td>\n",
       "      <td>Goat 1</td>\n",
       "    </tr>\n",
       "    <tr>\n",
       "      <th>3</th>\n",
       "      <td>Goat 2</td>\n",
       "      <td>Goat 1</td>\n",
       "      <td>Car</td>\n",
       "    </tr>\n",
       "    <tr>\n",
       "      <th>4</th>\n",
       "      <td>Car</td>\n",
       "      <td>Goat 1</td>\n",
       "      <td>Goat 2</td>\n",
       "    </tr>\n",
       "    <tr>\n",
       "      <th>...</th>\n",
       "      <td>...</td>\n",
       "      <td>...</td>\n",
       "      <td>...</td>\n",
       "    </tr>\n",
       "    <tr>\n",
       "      <th>995</th>\n",
       "      <td>Goat 1</td>\n",
       "      <td>Goat 2</td>\n",
       "      <td>Car</td>\n",
       "    </tr>\n",
       "    <tr>\n",
       "      <th>996</th>\n",
       "      <td>Goat 2</td>\n",
       "      <td>Goat 1</td>\n",
       "      <td>Car</td>\n",
       "    </tr>\n",
       "    <tr>\n",
       "      <th>997</th>\n",
       "      <td>Goat 1</td>\n",
       "      <td>Goat 2</td>\n",
       "      <td>Car</td>\n",
       "    </tr>\n",
       "    <tr>\n",
       "      <th>998</th>\n",
       "      <td>Car</td>\n",
       "      <td>Goat 1</td>\n",
       "      <td>Goat 2</td>\n",
       "    </tr>\n",
       "    <tr>\n",
       "      <th>999</th>\n",
       "      <td>Car</td>\n",
       "      <td>Goat 1</td>\n",
       "      <td>Goat 2</td>\n",
       "    </tr>\n",
       "  </tbody>\n",
       "</table>\n",
       "<p>1000 rows × 3 columns</p>\n",
       "</div>"
      ],
      "text/plain": [
       "      Guess Revealed Remaining\n",
       "0       Car   Goat 1    Goat 2\n",
       "1       Car   Goat 1    Goat 2\n",
       "2       Car   Goat 2    Goat 1\n",
       "3    Goat 2   Goat 1       Car\n",
       "4       Car   Goat 1    Goat 2\n",
       "..      ...      ...       ...\n",
       "995  Goat 1   Goat 2       Car\n",
       "996  Goat 2   Goat 1       Car\n",
       "997  Goat 1   Goat 2       Car\n",
       "998     Car   Goat 1    Goat 2\n",
       "999     Car   Goat 1    Goat 2\n",
       "\n",
       "[1000 rows x 3 columns]"
      ]
     },
     "execution_count": 11,
     "metadata": {
     },
     "output_type": "execute_result"
    }
   ],
   "source": [
    "import pandas as pd\n",
    "#Create a data frame (gamedf) with 3 columns (\"Guess\",\"Revealed\", \"Remaining\") and 1000 (or how many number of rounds) rows\n",
    "gamedf = pd.DataFrame({'Guess':c1,\n",
    "                       'Revealed':c2,\n",
    "                       'Remaining':c3})\n",
    "gamedf"
   ]
  },
  {
   "cell_type": "code",
   "execution_count": 25,
   "metadata": {
    "collapsed": false
   },
   "outputs": [
   ],
   "source": [
    "# Get the count of each item in the first and 3rd column\n",
    "original_car =gamedf[gamedf.Guess == 'Car'].shape[0]\n",
    "remaining_car =gamedf[gamedf.Remaining == 'Car'].shape[0]\n",
    "\n",
    "original_g1 =gamedf[gamedf.Guess == 'Goat 1'].shape[0]\n",
    "remaining_g1 =gamedf[gamedf.Remaining == 'Goat 1'].shape[0]\n",
    "\n",
    "original_g2 =gamedf[gamedf.Guess == 'Goat 2'].shape[0]\n",
    "remaining_g2 =gamedf[gamedf.Remaining == 'Goat 2'].shape[0]"
   ]
  },
  {
   "cell_type": "code",
   "execution_count": 26,
   "metadata": {
    "collapsed": false
   },
   "outputs": [
    {
     "data": {
      "image/png": "[encoded data removed]",
      "text/plain": [
       "<Figure size 864x504 with 1 Axes>"
      ]
     },
     "execution_count": 26,
     "metadata": {
      "image/png": {
       "height": 424,
       "width": 710
      },
      "needs_background": "light"
     },
     "output_type": "execute_result"
    }
   ],
   "source": [
    "# Let's plot a grouped barplot\n",
    "import matplotlib.pyplot as plt  \n",
    "\n",
    "# set width of bar\n",
    "barWidth = 0.25\n",
    " \n",
    "# set height of bar\n",
    "bars1 = [original_car,original_g1,original_g2]\n",
    "bars2 = [remaining_car,remaining_g1,remaining_g2]\n",
    " \n",
    "# Set position of bar on X axis\n",
    "r1 = np.arange(len(bars1))\n",
    "r2 = [x + barWidth for x in r1]\n",
    " \n",
    "# Make the plot\n",
    "plt.bar(r1, bars1, color='darkorange', width=barWidth, edgecolor='white', label='Original Guess')\n",
    "plt.bar(r2, bars2, color='midnightblue', width=barWidth, edgecolor='white', label='Remaining Door')\n",
    " \n",
    "# Add xticks on the middle of the group bars\n",
    "plt.xlabel('Item', fontweight='bold')\n",
    "plt.xticks([r + barWidth/2 for r in range(len(bars1))], ['Car', 'Goat 1', 'Goat 2'])\n",
    " \n",
    "# Create legend & Show graphic\n",
    "plt.legend()\n",
    "plt.show()\n"
   ]
  },
  {
   "cell_type": "markdown",
   "metadata": {
    "collapsed": false
   },
   "source": [
    "<font color=crimson>__According to the plot, it is statitically beneficial for the players to switch doors because the initial chance for being correct is only 1/3__</font>"
   ]
  },
  {
   "cell_type": "markdown",
   "metadata": {
    "collapsed": false
   },
   "source": [
    "#### Example4: What if there were 4 doors and 3 goats?"
   ]
  },
  {
   "cell_type": "code",
   "execution_count": 11,
   "metadata": {
    "collapsed": false
   },
   "outputs": [
   ],
   "source": [
    "import numpy as np\n",
    "import pandas as pd\n",
    "import matplotlib.pyplot as plt  \n",
    "\n",
    "Doors = np.array([\"Car\",\"Goat 1\",\"Goat 2\",\"Goat 3\"])     #Define a list for objects behind the doors\n",
    "goats = np.array([\"Goat 1\" , \"Goat 2\",\"Goat 3\"])          #Define a list for goats!\n",
    "\n"
   ]
  },
  {
   "cell_type": "code",
   "execution_count": 12,
   "metadata": {
    "collapsed": false
   },
   "outputs": [
   ],
   "source": [
    "def othergoat12(x):         #Define a function to return \"the other goat\"!\n",
    "    if x == \"Goat 1\":\n",
    "        return \"Goat 2\"\n",
    "    elif x == \"Goat 2\":\n",
    "        return \"Goat 1\"\n",
    "    \n",
    "def othergoat23(x):         #Define a function to return \"the other goat\"!\n",
    "    if x == \"Goat 2\":\n",
    "        return \"Goat 3\"\n",
    "    elif x == \"Goat 3\":\n",
    "        return \"Goat 2\"\n",
    "    \n",
    "def othergoat13(x):         #Define a function to return \"the other goat\"!\n",
    "    if x == \"Goat 1\":\n",
    "        return \"Goat 3\"\n",
    "    elif x == \"Goat 3\":\n",
    "        return \"Goat 1\"\n",
    "#####################################    \n",
    "def othergoat123(x):         #Define a function to return \"the other goat\"!\n",
    "    if x == \"Goat 1\":\n",
    "        return np.random.choice([\"Goat 2\",\"Goat 3\"])\n",
    "    elif x == \"Goat 2\":\n",
    "        return np.random.choice([\"Goat 1\",\"Goat 3\"])\n",
    "    elif x == \"Goat 3\":\n",
    "        return np.random.choice([\"Goat 1\",\"Goat 2\"])"
   ]
  },
  {
   "cell_type": "code",
   "execution_count": 13,
   "metadata": {
    "collapsed": false
   },
   "outputs": [
   ],
   "source": [
    "def MHgame():\n",
    "    #Function to simulate the Monty Hall Game\n",
    "    #For each guess, return [\"the guess\",\"the revealed\", \"unrevealed1\", \"unrevealed2\"]\n",
    "    goats = np.array([\"Goat 1\" , \"Goat 2\",\"Goat 3\"])\n",
    "    userguess=np.random.choice(Doors)         #randomly selects a door as userguess\n",
    "    if userguess == \"Goat 1\":                          #If the user chooses Goat 1\n",
    "        revealed = np.random.choice(goats[np.arange(len(goats))!=0])\n",
    "        unrevealed1 = othergoat23(revealed)\n",
    "        unrevealed2 = \"Car\"\n",
    "        return [userguess, revealed,unrevealed1,unrevealed2]\n",
    "    if userguess == \"Goat 2\":                          #If the user chooses Goat 2\n",
    "        revealed = np.random.choice(goats[np.arange(len(goats))!=1])\n",
    "        unrevealed1 = othergoat13(revealed)\n",
    "        unrevealed2 = \"Car\"\n",
    "        return [userguess, revealed,unrevealed1,unrevealed2]\n",
    "    if userguess == \"Goat 3\":                          #If the user chooses Goat 3\n",
    "        revealed = np.random.choice(goats[np.arange(len(goats))!=2])\n",
    "        unrevealed1 = othergoat12(revealed)\n",
    "        unrevealed2 = \"Car\"\n",
    "        return [userguess, revealed,unrevealed1,unrevealed2]\n",
    "    if userguess == \"Car\":                          #If the user chooses Car\n",
    "        revealed = np.random.choice(goats)\n",
    "        newgoat = goats[goats != revealed]\n",
    "        unrevealed1 = newgoat[0]\n",
    "        unrevealed2 = newgoat[1]\n",
    "        return [userguess, revealed,unrevealed1,unrevealed2]"
   ]
  },
  {
   "cell_type": "code",
   "execution_count": 16,
   "metadata": {
    "collapsed": false
   },
   "outputs": [
    {
     "name": "stdout",
     "output_type": "stream",
     "text": [
      "['Car', 'Goat 2', 'Goat 1', 'Goat 3']\n",
      "Car\n",
      "Goat 2\n",
      "Goat 1\n",
      "Goat 3\n"
     ]
    }
   ],
   "source": [
    "# Check and see if the MHgame function is doing what it is supposed to do:\n",
    "for i in np.arange(1):\n",
    "    a =MHgame()\n",
    "    print(a)\n",
    "    print(a[0])\n",
    "    print(a[1])\n",
    "    print(a[2])\n",
    "    print(a[3])"
   ]
  },
  {
   "cell_type": "code",
   "execution_count": 21,
   "metadata": {
    "collapsed": false
   },
   "outputs": [
   ],
   "source": [
    "c1 = []         #Create an empty list for the userguess\n",
    "c2 = []         #Create an empty list for the revealed\n",
    "c3 = []         #Create an empty list for the remaining1\n",
    "c4 = []         #Create an empty list for the remaining2\n",
    "\n",
    "for i in np.arange(1000):         #Simulate the game for 1000 rounds - or any other number of rounds you desire\n",
    "    game = MHgame()\n",
    "    c1.append(game[0])             #In each round, add the first element to the userguess list\n",
    "    c2.append(game[1])             #In each round, add the second element to the revealed list\n",
    "    c3.append(game[2])             #In each round, add the third element to the remaining list1\n",
    "    c4.append(game[3])             #In each round, add the fourth element to the remaining list2\n"
   ]
  },
  {
   "cell_type": "code",
   "execution_count": 22,
   "metadata": {
    "collapsed": false
   },
   "outputs": [
    {
     "data": {
      "text/html": [
       "<div>\n",
       "<style scoped>\n",
       "    .dataframe tbody tr th:only-of-type {\n",
       "        vertical-align: middle;\n",
       "    }\n",
       "\n",
       "    .dataframe tbody tr th {\n",
       "        vertical-align: top;\n",
       "    }\n",
       "\n",
       "    .dataframe thead th {\n",
       "        text-align: right;\n",
       "    }\n",
       "</style>\n",
       "<table border=\"1\" class=\"dataframe\">\n",
       "  <thead>\n",
       "    <tr style=\"text-align: right;\">\n",
       "      <th></th>\n",
       "      <th>Guess</th>\n",
       "      <th>Revealed</th>\n",
       "      <th>Remaining1</th>\n",
       "      <th>Remaining2</th>\n",
       "    </tr>\n",
       "  </thead>\n",
       "  <tbody>\n",
       "    <tr>\n",
       "      <th>0</th>\n",
       "      <td>Goat 3</td>\n",
       "      <td>Goat 2</td>\n",
       "      <td>Goat 1</td>\n",
       "      <td>Car</td>\n",
       "    </tr>\n",
       "    <tr>\n",
       "      <th>1</th>\n",
       "      <td>Car</td>\n",
       "      <td>Goat 3</td>\n",
       "      <td>Goat 1</td>\n",
       "      <td>Goat 2</td>\n",
       "    </tr>\n",
       "    <tr>\n",
       "      <th>2</th>\n",
       "      <td>Goat 2</td>\n",
       "      <td>Goat 3</td>\n",
       "      <td>Goat 1</td>\n",
       "      <td>Car</td>\n",
       "    </tr>\n",
       "    <tr>\n",
       "      <th>3</th>\n",
       "      <td>Goat 1</td>\n",
       "      <td>Goat 3</td>\n",
       "      <td>Goat 2</td>\n",
       "      <td>Car</td>\n",
       "    </tr>\n",
       "    <tr>\n",
       "      <th>4</th>\n",
       "      <td>Goat 2</td>\n",
       "      <td>Goat 3</td>\n",
       "      <td>Goat 1</td>\n",
       "      <td>Car</td>\n",
       "    </tr>\n",
       "    <tr>\n",
       "      <th>...</th>\n",
       "      <td>...</td>\n",
       "      <td>...</td>\n",
       "      <td>...</td>\n",
       "      <td>...</td>\n",
       "    </tr>\n",
       "    <tr>\n",
       "      <th>9995</th>\n",
       "      <td>Car</td>\n",
       "      <td>Goat 3</td>\n",
       "      <td>Goat 1</td>\n",
       "      <td>Goat 2</td>\n",
       "    </tr>\n",
       "    <tr>\n",
       "      <th>9996</th>\n",
       "      <td>Car</td>\n",
       "      <td>Goat 3</td>\n",
       "      <td>Goat 1</td>\n",
       "      <td>Goat 2</td>\n",
       "    </tr>\n",
       "    <tr>\n",
       "      <th>9997</th>\n",
       "      <td>Goat 3</td>\n",
       "      <td>Goat 2</td>\n",
       "      <td>Goat 1</td>\n",
       "      <td>Car</td>\n",
       "    </tr>\n",
       "    <tr>\n",
       "      <th>9998</th>\n",
       "      <td>Goat 3</td>\n",
       "      <td>Goat 1</td>\n",
       "      <td>Goat 2</td>\n",
       "      <td>Car</td>\n",
       "    </tr>\n",
       "    <tr>\n",
       "      <th>9999</th>\n",
       "      <td>Goat 2</td>\n",
       "      <td>Goat 1</td>\n",
       "      <td>Goat 3</td>\n",
       "      <td>Car</td>\n",
       "    </tr>\n",
       "  </tbody>\n",
       "</table>\n",
       "<p>10000 rows × 4 columns</p>\n",
       "</div>"
      ],
      "text/plain": [
       "       Guess Revealed Remaining1 Remaining2\n",
       "0     Goat 3   Goat 2     Goat 1        Car\n",
       "1        Car   Goat 3     Goat 1     Goat 2\n",
       "2     Goat 2   Goat 3     Goat 1        Car\n",
       "3     Goat 1   Goat 3     Goat 2        Car\n",
       "4     Goat 2   Goat 3     Goat 1        Car\n",
       "...      ...      ...        ...        ...\n",
       "9995     Car   Goat 3     Goat 1     Goat 2\n",
       "9996     Car   Goat 3     Goat 1     Goat 2\n",
       "9997  Goat 3   Goat 2     Goat 1        Car\n",
       "9998  Goat 3   Goat 1     Goat 2        Car\n",
       "9999  Goat 2   Goat 1     Goat 3        Car\n",
       "\n",
       "[10000 rows x 4 columns]"
      ]
     },
     "execution_count": 22,
     "metadata": {
     },
     "output_type": "execute_result"
    }
   ],
   "source": [
    "import pandas as pd\n",
    "#Create a data frame (gamedf) with 3 columns (\"Guess\",\"Revealed\", \"Remaining\") and 1000 (or how many number of rounds) rows\n",
    "gamedf = pd.DataFrame({'Guess':c1,\n",
    "                       'Revealed':c2,\n",
    "                       'Remaining1':c3,\n",
    "                       'Remaining2':c4})\n",
    "gamedf"
   ]
  },
  {
   "cell_type": "code",
   "execution_count": 23,
   "metadata": {
    "collapsed": false
   },
   "outputs": [
   ],
   "source": [
    "# Get the count of each item in the first and (3rd+4th) column\n",
    "original_car =gamedf[gamedf.Guess == 'Car'].shape[0]\n",
    "remaining_car =gamedf[gamedf.Remaining1 == 'Car'].shape[0] + gamedf[gamedf.Remaining2 == 'Car'].shape[0]\n",
    "\n",
    "original_g1 =gamedf[gamedf.Guess == 'Goat 1'].shape[0]\n",
    "remaining_g1 =gamedf[gamedf.Remaining1 == 'Goat 1'].shape[0] + gamedf[gamedf.Remaining2 == 'Goat 1'].shape[0]\n",
    "\n",
    "original_g2 =gamedf[gamedf.Guess == 'Goat 2'].shape[0]\n",
    "remaining_g2 =gamedf[gamedf.Remaining1 == 'Goat 2'].shape[0] + gamedf[gamedf.Remaining2 == 'Goat 2'].shape[0]\n",
    "\n",
    "original_g3 =gamedf[gamedf.Guess == 'Goat 3'].shape[0]\n",
    "remaining_g3 =gamedf[gamedf.Remaining1 == 'Goat 3'].shape[0] + gamedf[gamedf.Remaining2 == 'Goat 3'].shape[0]"
   ]
  },
  {
   "cell_type": "code",
   "execution_count": 24,
   "metadata": {
    "collapsed": false
   },
   "outputs": [
    {
     "data": {
      "image/png": "[encoded data removed]",
      "text/plain": [
       "<Figure size 864x504 with 1 Axes>"
      ]
     },
     "execution_count": 24,
     "metadata": {
      "image/png": {
       "height": 424,
       "width": 716
      },
      "needs_background": "light"
     },
     "output_type": "execute_result"
    }
   ],
   "source": [
    "# Let's plot a grouped barplot\n",
    "import matplotlib.pyplot as plt  \n",
    "\n",
    "# set width of bar\n",
    "barWidth = 0.25\n",
    " \n",
    "# set height of bar\n",
    "bars1 = [original_car,original_g1,original_g2,original_g3]\n",
    "bars2 = [remaining_car,remaining_g1,remaining_g2,remaining_g3]\n",
    " \n",
    "# Set position of bar on X axis\n",
    "r1 = np.arange(len(bars1))\n",
    "r2 = [x + barWidth for x in r1]\n",
    " \n",
    "# Make the plot\n",
    "plt.bar(r1, bars1, color='darkorange', width=barWidth, edgecolor='white', label='Original Guess')\n",
    "plt.bar(r2, bars2, color='midnightblue', width=barWidth, edgecolor='white', label='Remaining Door')\n",
    " \n",
    "# Add xticks on the middle of the group bars\n",
    "plt.xlabel('Item', fontweight='bold')\n",
    "plt.xticks([r + barWidth/2 for r in range(len(bars1))], ['Car', 'Goat 1', 'Goat 2','Goat 3'])\n",
    " \n",
    "# Create legend & Show graphic\n",
    "plt.legend()\n",
    "plt.show()\n"
   ]
  },
  {
   "cell_type": "markdown",
   "metadata": {
    "collapsed": false
   },
   "source": [
    "<font color=crimson>__Comparison of the plots show that as the number of doors (and goats) increases, it makes even more sense to switch!__</font>"
   ]
  },
  {
   "cell_type": "markdown",
   "metadata": {
    "collapsed": false
   },
   "source": [
    "#### Exercise3: Run the modified Monty Hall game for 1000,10000, and 100000 rounds. Show the bar plots for each series and explain the difference. "
   ]
  },
  {
   "cell_type": "code",
   "execution_count": 25,
   "metadata": {
    "collapsed": false
   },
   "outputs": [
   ],
   "source": [
    "import numpy as np\n",
    "import pandas as pd\n",
    "import matplotlib.pyplot as plt  \n",
    "\n",
    "Doors = np.array([\"Car\",\"Goat 1\",\"Goat 2\",\"Goat 3\"])     #Define a list for objects behind the doors\n",
    "goats = np.array([\"Goat 1\" , \"Goat 2\",\"Goat 3\"])          #Define a list for goats!\n",
    "\n",
    "def othergoat12(x):         #Define a function to return \"the other goat\"!\n",
    "    if x == \"Goat 1\":\n",
    "        return \"Goat 2\"\n",
    "    elif x == \"Goat 2\":\n",
    "        return \"Goat 1\"\n",
    "    \n",
    "def othergoat23(x):         #Define a function to return \"the other goat\"!\n",
    "    if x == \"Goat 2\":\n",
    "        return \"Goat 3\"\n",
    "    elif x == \"Goat 3\":\n",
    "        return \"Goat 2\"\n",
    "    \n",
    "def othergoat13(x):         #Define a function to return \"the other goat\"!\n",
    "    if x == \"Goat 1\":\n",
    "        return \"Goat 3\"\n",
    "    elif x == \"Goat 3\":\n",
    "        return \"Goat 1\"\n",
    "\n",
    "\n",
    "def MHgame():\n",
    "    #Function to simulate the Monty Hall Game\n",
    "    #For each guess, return [\"the guess\",\"the revealed\", \"unrevealed1\", \"unrevealed2\"]\n",
    "    goats = np.array([\"Goat 1\" , \"Goat 2\",\"Goat 3\"])\n",
    "    userguess=np.random.choice(Doors)         #randomly selects a door as userguess\n",
    "    if userguess == \"Goat 1\":                          #If the user chooses Goat 1\n",
    "        revealed = np.random.choice(goats[np.arange(len(goats))!=0])\n",
    "        unrevealed1 = othergoat23(revealed)\n",
    "        unrevealed2 = \"Car\"\n",
    "        return [userguess, revealed,unrevealed1,unrevealed2]\n",
    "    if userguess == \"Goat 2\":                          #If the user chooses Goat 2\n",
    "        revealed = np.random.choice(goats[np.arange(len(goats))!=1])\n",
    "        unrevealed1 = othergoat13(revealed)\n",
    "        unrevealed2 = \"Car\"\n",
    "        return [userguess, revealed,unrevealed1,unrevealed2]\n",
    "    if userguess == \"Goat 3\":                          #If the user chooses Goat 3\n",
    "        revealed = np.random.choice(goats[np.arange(len(goats))!=2])\n",
    "        unrevealed1 = othergoat12(revealed)\n",
    "        unrevealed2 = \"Car\"\n",
    "        return [userguess, revealed,unrevealed1,unrevealed2]\n",
    "    if userguess == \"Car\":                          #If the user chooses Car\n",
    "        revealed = np.random.choice(goats)\n",
    "        newgoat = goats[goats != revealed]\n",
    "        unrevealed1 = newgoat[0]\n",
    "        unrevealed2 = newgoat[1]\n",
    "        return [userguess, revealed,unrevealed1,unrevealed2]"
   ]
  },
  {
   "cell_type": "code",
   "execution_count": 26,
   "metadata": {
    "collapsed": false
   },
   "outputs": [
    {
     "data": {
      "image/png": "[encoded data removed]",
      "text/plain": [
       "<Figure size 864x504 with 1 Axes>"
      ]
     },
     "execution_count": 26,
     "metadata": {
      "image/png": {
       "height": 426,
       "width": 710
      },
      "needs_background": "light"
     },
     "output_type": "execute_result"
    }
   ],
   "source": [
    "c1 = []         #Create an empty list for the userguess\n",
    "c2 = []         #Create an empty list for the revealed\n",
    "c3 = []         #Create an empty list for the remaining1\n",
    "c4 = []         #Create an empty list for the remaining2\n",
    "\n",
    "for i in np.arange(10):         #Simulate the game for 1000 rounds - or any other number of rounds you desire\n",
    "    game = MHgame()\n",
    "    c1.append(game[0])             #In each round, add the first element to the userguess list\n",
    "    c2.append(game[1])             #In each round, add the second element to the revealed list\n",
    "    c3.append(game[2])             #In each round, add the third element to the remaining list1\n",
    "    c4.append(game[3])             #In each round, add the fourth element to the remaining list2\n",
    "\n",
    "#Create a data frame (gamedf) with 3 columns (\"Guess\",\"Revealed\", \"Remaining\") and 1000 (or how many number of rounds) rows\n",
    "gamedf = pd.DataFrame({'Guess':c1,\n",
    "                       'Revealed':c2,\n",
    "                       'Remaining1':c3,\n",
    "                       'Remaining2':c4})\n",
    "# Get the count of each item in the first and (3rd+4th) column\n",
    "original_car =gamedf[gamedf.Guess == 'Car'].shape[0]\n",
    "remaining_car =gamedf[gamedf.Remaining1 == 'Car'].shape[0] + gamedf[gamedf.Remaining2 == 'Car'].shape[0]\n",
    "\n",
    "original_g1 =gamedf[gamedf.Guess == 'Goat 1'].shape[0]\n",
    "remaining_g1 =gamedf[gamedf.Remaining1 == 'Goat 1'].shape[0] + gamedf[gamedf.Remaining2 == 'Goat 1'].shape[0]\n",
    "\n",
    "original_g2 =gamedf[gamedf.Guess == 'Goat 2'].shape[0]\n",
    "remaining_g2 =gamedf[gamedf.Remaining1 == 'Goat 2'].shape[0] + gamedf[gamedf.Remaining2 == 'Goat 2'].shape[0]\n",
    "\n",
    "original_g3 =gamedf[gamedf.Guess == 'Goat 3'].shape[0]\n",
    "remaining_g3 =gamedf[gamedf.Remaining1 == 'Goat 3'].shape[0] + gamedf[gamedf.Remaining2 == 'Goat 3'].shape[0]\n",
    "\n",
    "# set width of bar\n",
    "barWidth = 0.25\n",
    " \n",
    "# set height of bar\n",
    "bars1 = [original_car,original_g1,original_g2,original_g3]\n",
    "bars2 = [remaining_car,remaining_g1,remaining_g2,remaining_g3]\n",
    " \n",
    "# Set position of bar on X axis\n",
    "r1 = np.arange(len(bars1))\n",
    "r2 = [x + barWidth for x in r1]\n",
    " \n",
    "# Make the plot\n",
    "plt.bar(r1, bars1, color='darkorange', width=barWidth, edgecolor='white', label='Original Guess')\n",
    "plt.bar(r2, bars2, color='midnightblue', width=barWidth, edgecolor='white', label='Remaining Door')\n",
    " \n",
    "# Add xticks on the middle of the group bars\n",
    "plt.xlabel('Item', fontweight='bold')\n",
    "plt.xticks([r + barWidth/2 for r in range(len(bars1))], ['Car', 'Goat 1', 'Goat 2','Goat 3'])\n",
    " \n",
    "# Create legend & Show graphic\n",
    "plt.legend()\n",
    "plt.show()"
   ]
  },
  {
   "cell_type": "code",
   "execution_count": 27,
   "metadata": {
    "collapsed": false
   },
   "outputs": [
    {
     "data": {
      "image/png": "[encoded data removed]",
      "text/plain": [
       "<Figure size 864x504 with 1 Axes>"
      ]
     },
     "execution_count": 27,
     "metadata": {
      "image/png": {
       "height": 424,
       "width": 716
      },
      "needs_background": "light"
     },
     "output_type": "execute_result"
    }
   ],
   "source": [
    "c1 = []         #Create an empty list for the userguess\n",
    "c2 = []         #Create an empty list for the revealed\n",
    "c3 = []         #Create an empty list for the remaining1\n",
    "c4 = []         #Create an empty list for the remaining2\n",
    "\n",
    "for i in np.arange(100):         #Simulate the game for 1000 rounds - or any other number of rounds you desire\n",
    "    game = MHgame()\n",
    "    c1.append(game[0])             #In each round, add the first element to the userguess list\n",
    "    c2.append(game[1])             #In each round, add the second element to the revealed list\n",
    "    c3.append(game[2])             #In each round, add the third element to the remaining list1\n",
    "    c4.append(game[3])             #In each round, add the fourth element to the remaining list2\n",
    "\n",
    "#Create a data frame (gamedf) with 3 columns (\"Guess\",\"Revealed\", \"Remaining\") and 1000 (or how many number of rounds) rows\n",
    "gamedf = pd.DataFrame({'Guess':c1,\n",
    "                       'Revealed':c2,\n",
    "                       'Remaining1':c3,\n",
    "                       'Remaining2':c4})\n",
    "# Get the count of each item in the first and (3rd+4th) column\n",
    "original_car =gamedf[gamedf.Guess == 'Car'].shape[0]\n",
    "remaining_car =gamedf[gamedf.Remaining1 == 'Car'].shape[0] + gamedf[gamedf.Remaining2 == 'Car'].shape[0]\n",
    "\n",
    "original_g1 =gamedf[gamedf.Guess == 'Goat 1'].shape[0]\n",
    "remaining_g1 =gamedf[gamedf.Remaining1 == 'Goat 1'].shape[0] + gamedf[gamedf.Remaining2 == 'Goat 1'].shape[0]\n",
    "\n",
    "original_g2 =gamedf[gamedf.Guess == 'Goat 2'].shape[0]\n",
    "remaining_g2 =gamedf[gamedf.Remaining1 == 'Goat 2'].shape[0] + gamedf[gamedf.Remaining2 == 'Goat 2'].shape[0]\n",
    "\n",
    "original_g3 =gamedf[gamedf.Guess == 'Goat 3'].shape[0]\n",
    "remaining_g3 =gamedf[gamedf.Remaining1 == 'Goat 3'].shape[0] + gamedf[gamedf.Remaining2 == 'Goat 3'].shape[0]\n",
    "\n",
    "# set width of bar\n",
    "barWidth = 0.25\n",
    " \n",
    "# set height of bar\n",
    "bars1 = [original_car,original_g1,original_g2,original_g3]\n",
    "bars2 = [remaining_car,remaining_g1,remaining_g2,remaining_g3]\n",
    " \n",
    "# Set position of bar on X axis\n",
    "r1 = np.arange(len(bars1))\n",
    "r2 = [x + barWidth for x in r1]\n",
    " \n",
    "# Make the plot\n",
    "plt.bar(r1, bars1, color='darkorange', width=barWidth, edgecolor='white', label='Original Guess')\n",
    "plt.bar(r2, bars2, color='midnightblue', width=barWidth, edgecolor='white', label='Remaining Door')\n",
    " \n",
    "# Add xticks on the middle of the group bars\n",
    "plt.xlabel('Item', fontweight='bold')\n",
    "plt.xticks([r + barWidth/2 for r in range(len(bars1))], ['Car', 'Goat 1', 'Goat 2','Goat 3'])\n",
    " \n",
    "# Create legend & Show graphic\n",
    "plt.legend()\n",
    "plt.show()"
   ]
  },
  {
   "cell_type": "code",
   "execution_count": 28,
   "metadata": {
    "collapsed": false
   },
   "outputs": [
    {
     "data": {
      "image/png": "[encoded data removed]",
      "text/plain": [
       "<Figure size 864x504 with 1 Axes>"
      ]
     },
     "execution_count": 28,
     "metadata": {
      "image/png": {
       "height": 424,
       "width": 723
      },
      "needs_background": "light"
     },
     "output_type": "execute_result"
    }
   ],
   "source": [
    "c1 = []         #Create an empty list for the userguess\n",
    "c2 = []         #Create an empty list for the revealed\n",
    "c3 = []         #Create an empty list for the remaining1\n",
    "c4 = []         #Create an empty list for the remaining2\n",
    "\n",
    "for i in np.arange(1000):         #Simulate the game for 1000 rounds - or any other number of rounds you desire\n",
    "    game = MHgame()\n",
    "    c1.append(game[0])             #In each round, add the first element to the userguess list\n",
    "    c2.append(game[1])             #In each round, add the second element to the revealed list\n",
    "    c3.append(game[2])             #In each round, add the third element to the remaining list1\n",
    "    c4.append(game[3])             #In each round, add the fourth element to the remaining list2\n",
    "\n",
    "#Create a data frame (gamedf) with 3 columns (\"Guess\",\"Revealed\", \"Remaining\") and 1000 (or how many number of rounds) rows\n",
    "gamedf = pd.DataFrame({'Guess':c1,\n",
    "                       'Revealed':c2,\n",
    "                       'Remaining1':c3,\n",
    "                       'Remaining2':c4})\n",
    "# Get the count of each item in the first and (3rd+4th) column\n",
    "original_car =gamedf[gamedf.Guess == 'Car'].shape[0]\n",
    "remaining_car =gamedf[gamedf.Remaining1 == 'Car'].shape[0] + gamedf[gamedf.Remaining2 == 'Car'].shape[0]\n",
    "\n",
    "original_g1 =gamedf[gamedf.Guess == 'Goat 1'].shape[0]\n",
    "remaining_g1 =gamedf[gamedf.Remaining1 == 'Goat 1'].shape[0] + gamedf[gamedf.Remaining2 == 'Goat 1'].shape[0]\n",
    "\n",
    "original_g2 =gamedf[gamedf.Guess == 'Goat 2'].shape[0]\n",
    "remaining_g2 =gamedf[gamedf.Remaining1 == 'Goat 2'].shape[0] + gamedf[gamedf.Remaining2 == 'Goat 2'].shape[0]\n",
    "\n",
    "original_g3 =gamedf[gamedf.Guess == 'Goat 3'].shape[0]\n",
    "remaining_g3 =gamedf[gamedf.Remaining1 == 'Goat 3'].shape[0] + gamedf[gamedf.Remaining2 == 'Goat 3'].shape[0]\n",
    "\n",
    "# set width of bar\n",
    "barWidth = 0.25\n",
    " \n",
    "# set height of bar\n",
    "bars1 = [original_car,original_g1,original_g2,original_g3]\n",
    "bars2 = [remaining_car,remaining_g1,remaining_g2,remaining_g3]\n",
    " \n",
    "# Set position of bar on X axis\n",
    "r1 = np.arange(len(bars1))\n",
    "r2 = [x + barWidth for x in r1]\n",
    " \n",
    "# Make the plot\n",
    "plt.bar(r1, bars1, color='darkorange', width=barWidth, edgecolor='white', label='Original Guess')\n",
    "plt.bar(r2, bars2, color='midnightblue', width=barWidth, edgecolor='white', label='Remaining Door')\n",
    " \n",
    "# Add xticks on the middle of the group bars\n",
    "plt.xlabel('Item', fontweight='bold')\n",
    "plt.xticks([r + barWidth/2 for r in range(len(bars1))], ['Car', 'Goat 1', 'Goat 2','Goat 3'])\n",
    " \n",
    "# Create legend & Show graphic\n",
    "plt.legend()\n",
    "plt.show()"
   ]
  },
  {
   "cell_type": "code",
   "execution_count": 0,
   "metadata": {
    "collapsed": false
   },
   "outputs": [
   ],
   "source": [
   ]
  }
 ],
 "metadata": {
  "kernelspec": {
   "display_name": "Python 3 (system-wide)",
   "language": "python",
   "metadata": {
    "cocalc": {
     "description": "Python 3 programming language",
     "priority": 100,
     "url": "https://www.python.org/"
    }
   },
   "name": "python3"
  },
  "language_info": {
   "codemirror_mode": {
    "name": "ipython",
    "version": 3
   },
   "file_extension": ".py",
   "mimetype": "text/x-python",
   "name": "python",
   "nbconvert_exporter": "python",
   "pygments_lexer": "ipython3",
   "version": "3.8.2"
  }
 },
 "nbformat": 4,
 "nbformat_minor": 4
}