{
 "cells": [
  {
   "cell_type": "code",
   "execution_count": 1,
   "metadata": {
    "collapsed": false,
    "jupyter": {
     "outputs_hidden": false
    }
   },
   "outputs": [
    {
     "data": {
      "text/html": [
       "<!--Script block to left align Markdown Tables-->\n",
       "<style>\n",
       "  table {margin-left: 0 !important;}\n",
       "</style>\n"
      ],
      "text/plain": [
       "<IPython.core.display.HTML object>"
      ]
     },
     "metadata": {},
     "output_type": "display_data"
    }
   ],
   "source": [
    "%%html\n",
    "<!--Script block to left align Markdown Tables-->\n",
    "<style>\n",
    "  table {margin-left: 0 !important;}\n",
    "</style>"
   ]
  },
  {
   "cell_type": "code",
   "execution_count": 2,
   "metadata": {
    "collapsed": false,
    "jupyter": {
     "outputs_hidden": false
    }
   },
   "outputs": [
    {
     "name": "stdout",
     "output_type": "stream",
     "text": [
      "atomickitty.aws\n",
      "compthink\n",
      "/opt/jupyterhub/bin/python3\n",
      "3.6.9 (default, Jul 17 2020, 12:50:27) \n",
      "[GCC 8.4.0]\n",
      "sys.version_info(major=3, minor=6, micro=9, releaselevel='final', serial=0)\n"
     ]
    }
   ],
   "source": [
    "# Preamble script block to identify host, user, and kernel\n",
    "import sys\n",
    "! hostname\n",
    "! whoami\n",
    "print(sys.executable)\n",
    "print(sys.version)\n",
    "print(sys.version_info)"
   ]
  },
  {
   "cell_type": "markdown",
   "metadata": {},
   "source": [
    "## Full name: \n",
    "## R#: \n",
    "## HEX: \n",
    "## Title of the notebook\n",
    "## Date: "
   ]
  },
  {
   "cell_type": "markdown",
   "metadata": {},
   "source": [
    "# Laboratory 6 - Part 1"
   ]
  },
  {
   "cell_type": "markdown",
   "metadata": {},
   "source": [
    "## Example\n",
    "\n",
    "Let's write a class named '**Personnel**' to store the information of a company's employees and generate email addresses for them with the following format\n",
    " \"__firstname.lastname@DunderMifflinPaperCompany.com__\"\n",
    " \n",
    "Here are the employee names:\n",
    "| First Name  |   Last Name   |  Age  |\n",
    "| ----------- | --------------|-------|\n",
    "| Michael     | Scott         | 43    |\n",
    "| Pam         | Beesly        | 24    |\n",
    "| Jim         | Halpert       | 26    |\n",
    "| Dwight      | Schrute       | 36    |\n",
    "| Creed       | Bratton       | 63    |\n"
   ]
  },
  {
   "cell_type": "code",
   "execution_count": null,
   "metadata": {
    "collapsed": false,
    "jupyter": {
     "outputs_hidden": false
    }
   },
   "outputs": [],
   "source": []
  },
  {
   "cell_type": "markdown",
   "metadata": {},
   "source": [
    "#### Exercise 1:\n",
    "\n",
    "Given that we are living in the creepy year of 2020! use the script from the previous example and modify the \"Personnel\" class so that it can calculate the year each employee was born. \n",
    " \n",
    "Here are the employee names:\n",
    "| First Name  |   Last Name   |  Age  |\n",
    "| ----------- | --------------|-------|\n",
    "| Michael     | Scott         | 43    |\n",
    "| Pam         | Beesly        | 24    |\n",
    "| Jim         | Halpert       | 26    |\n",
    "| Dwight      | Schrute       | 36    |\n",
    "| Creed       | Bratton       | 63    |\n"
   ]
  },
  {
   "cell_type": "code",
   "execution_count": null,
   "metadata": {
    "collapsed": false,
    "jupyter": {
     "outputs_hidden": false
    }
   },
   "outputs": [],
   "source": []
  },
  {
   "cell_type": "markdown",
   "metadata": {},
   "source": [
    "#### Exercise 2: \n",
    "Write a class named '**CarSpeed**' to calculate the speed (in miles/hour) of different brands of cars based on the information given in the table below.  \n",
    "The formula to calculate speed is also given below.  \n",
    "Based on your output, which brand of car has the highest speed?\n",
    "\n",
    "$$Speed = \\frac{Distance}{Time}$$\n",
    "\n",
    "| Car brand   | Distance (miles) | Time (hours) |\n",
    "| ----------- | -----------------|------------|\n",
    "| Ford        | 120              | 1.75       |\n",
    "| Ferrari     | 100              | 1.20       |\n",
    "| BMW         | 205              | 2.35       |\n",
    "| Porsche     | 155              | 1.85       |\n",
    "| Audi        | 190              | 2.10       |\n",
    "| Jaguar      | 255              | 2.45       |\n",
    "\n",
    "##### Notes: \n",
    "1. Use docstrings to describe the purpose of the class.\n",
    "2. Create an object for each car brand and display the output as shown below.\n",
    "\n",
    "Ford_Speed (miles/hour): **SPEED**  \n",
    "Ferrari_Speed (miles/hour): **SPEED**   \n",
    "BMW_Speed (miles/hour): **SPEED**    \n",
    "Porsche_Speed (miles/hour): **SPEED**   \n",
    "Audi_Speed (miles/hour): **SPEED**  \n",
    "Jaguar_Speed (miles/hour): **SPEED**  \n",
    "The car with the highest speed is: **CAR BRAND**"
   ]
  },
  {
   "cell_type": "code",
   "execution_count": null,
   "metadata": {
    "collapsed": false,
    "jupyter": {
     "outputs_hidden": false
    }
   },
   "outputs": [],
   "source": []
  },
  {
   "cell_type": "code",
   "execution_count": null,
   "metadata": {
    "collapsed": false,
    "jupyter": {
     "outputs_hidden": false
    }
   },
   "outputs": [],
   "source": []
  },
  {
   "cell_type": "code",
   "execution_count": null,
   "metadata": {
    "collapsed": false,
    "jupyter": {
     "outputs_hidden": false
    }
   },
   "outputs": [],
   "source": []
  },
  {
   "cell_type": "code",
   "execution_count": null,
   "metadata": {
    "collapsed": false,
    "jupyter": {
     "outputs_hidden": false
    }
   },
   "outputs": [],
   "source": []
  },
  {
   "cell_type": "markdown",
   "metadata": {},
   "source": [
    "#### Exercise 3: \n",
    "Write a class named '**Tax**' to calculate the state tax (in dollars) of Employees at Texas Tech University based on their annual salary.  \n",
    "The state tax is 16% if the annual salary is below 80,000 dollars and 22% if the salary is more than 80,000 dollars. \n",
    "\n",
    "$$Tax = Annual salary \\times State\\, tax\\, \\%$$\n",
    "\n",
    "| Employee    | Annual salary (dollars) | \n",
    "| ----------- | ------------------------|\n",
    "| Bob         | 1,50,000                | \n",
    "| Mary        | 78,000                  | \n",
    "| John        | 55,000                  | \n",
    "| Danny       | 1,75,000                | \n",
    "\n",
    "#### Notes: \n",
    "1. Use docstrings to describe the purpose of the class.\n",
    "2. Use if....else conditional statements within the method of the class to choose the relevant tax % based on the annual salary.\n",
    "3. Create an object for employee and display the output as shown below.\n",
    "\n",
    "Bob's tax amount (in dollars): **AMOUNT**  \n",
    "Mary's tax amount (in dollars): **AMOUNT**  \n",
    "John's tax amount (in dollars): **AMOUNT**  \n",
    "Danny's tax amount (in dollars): **AMOUNT** "
   ]
  },
  {
   "cell_type": "code",
   "execution_count": null,
   "metadata": {
    "collapsed": false,
    "jupyter": {
     "outputs_hidden": false
    }
   },
   "outputs": [],
   "source": []
  },
  {
   "cell_type": "code",
   "execution_count": null,
   "metadata": {
    "collapsed": false,
    "jupyter": {
     "outputs_hidden": false
    }
   },
   "outputs": [],
   "source": []
  }
 ],
 "metadata": {
  "kernelspec": {
   "display_name": "Python 3",
   "language": "python",
   "name": "python3"
  },
  "language_info": {
   "codemirror_mode": {
    "name": "ipython",
    "version": 3
   },
   "file_extension": ".py",
   "mimetype": "text/x-python",
   "name": "python",
   "nbconvert_exporter": "python",
   "pygments_lexer": "ipython3",
   "version": "3.6.9"
  }
 },
 "nbformat": 4,
 "nbformat_minor": 4
}
