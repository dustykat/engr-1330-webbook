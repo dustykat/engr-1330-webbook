{
 "cells": [
  {
   "cell_type": "markdown",
   "metadata": {},
   "source": [
    "## Lecture session for 1) class and objects in Python and 2) file handling in Python"
   ]
  },
  {
   "cell_type": "markdown",
   "metadata": {},
   "source": [
    "### 1) Class and objects"
   ]
  },
  {
   "cell_type": "markdown",
   "metadata": {},
   "source": [
    "#### Numbers, strings, lists, and dictionaries are all objects in Python that are instances of a parent class"
   ]
  },
  {
   "cell_type": "code",
   "execution_count": 1,
   "metadata": {},
   "outputs": [
    {
     "name": "stdout",
     "output_type": "stream",
     "text": [
      "<class 'int'>\n"
     ]
    }
   ],
   "source": [
    "print(type(0))"
   ]
  },
  {
   "cell_type": "code",
   "execution_count": 2,
   "metadata": {},
   "outputs": [
    {
     "name": "stdout",
     "output_type": "stream",
     "text": [
      "<class 'str'>\n"
     ]
    }
   ],
   "source": [
    "print(type(\"\")) "
   ]
  },
  {
   "cell_type": "code",
   "execution_count": 3,
   "metadata": {},
   "outputs": [
    {
     "name": "stdout",
     "output_type": "stream",
     "text": [
      "<class 'list'>\n"
     ]
    }
   ],
   "source": [
    "print(type([1, 2, 3, 4]))"
   ]
  },
  {
   "cell_type": "markdown",
   "metadata": {},
   "source": [
    "#### To get more information about the built-in classes and objects, use dir( ) and help( ) functions"
   ]
  },
  {
   "cell_type": "code",
   "execution_count": 4,
   "metadata": {},
   "outputs": [
    {
     "name": "stdout",
     "output_type": "stream",
     "text": [
      "['__abs__', '__add__', '__and__', '__bool__', '__ceil__', '__class__', '__delattr__', '__dir__', '__divmod__', '__doc__', '__eq__', '__float__', '__floor__', '__floordiv__', '__format__', '__ge__', '__getattribute__', '__getnewargs__', '__gt__', '__hash__', '__index__', '__init__', '__init_subclass__', '__int__', '__invert__', '__le__', '__lshift__', '__lt__', '__mod__', '__mul__', '__ne__', '__neg__', '__new__', '__or__', '__pos__', '__pow__', '__radd__', '__rand__', '__rdivmod__', '__reduce__', '__reduce_ex__', '__repr__', '__rfloordiv__', '__rlshift__', '__rmod__', '__rmul__', '__ror__', '__round__', '__rpow__', '__rrshift__', '__rshift__', '__rsub__', '__rtruediv__', '__rxor__', '__setattr__', '__sizeof__', '__str__', '__sub__', '__subclasshook__', '__truediv__', '__trunc__', '__xor__', 'as_integer_ratio', 'bit_length', 'conjugate', 'denominator', 'from_bytes', 'imag', 'numerator', 'real', 'to_bytes']\n"
     ]
    }
   ],
   "source": [
    "print(dir(int))"
   ]
  },
  {
   "cell_type": "code",
   "execution_count": 1,
   "metadata": {},
   "outputs": [
    {
     "name": "stdout",
     "output_type": "stream",
     "text": [
      "Help on class str in module builtins:\n",
      "\n",
      "class str(object)\n",
      " |  str(object='') -> str\n",
      " |  str(bytes_or_buffer[, encoding[, errors]]) -> str\n",
      " |  \n",
      " |  Create a new string object from the given object. If encoding or\n",
      " |  errors is specified, then the object must expose a data buffer\n",
      " |  that will be decoded using the given encoding and error handler.\n",
      " |  Otherwise, returns the result of object.__str__() (if defined)\n",
      " |  or repr(object).\n",
      " |  encoding defaults to sys.getdefaultencoding().\n",
      " |  errors defaults to 'strict'.\n",
      " |  \n",
      " |  Methods defined here:\n",
      " |  \n",
      " |  __add__(self, value, /)\n",
      " |      Return self+value.\n",
      " |  \n",
      " |  __contains__(self, key, /)\n",
      " |      Return key in self.\n",
      " |  \n",
      " |  __eq__(self, value, /)\n",
      " |      Return self==value.\n",
      " |  \n",
      " |  __format__(self, format_spec, /)\n",
      " |      Return a formatted version of the string as described by format_spec.\n",
      " |  \n",
      " |  __ge__(self, value, /)\n",
      " |      Return self>=value.\n",
      " |  \n",
      " |  __getattribute__(self, name, /)\n",
      " |      Return getattr(self, name).\n",
      " |  \n",
      " |  __getitem__(self, key, /)\n",
      " |      Return self[key].\n",
      " |  \n",
      " |  __getnewargs__(...)\n",
      " |  \n",
      " |  __gt__(self, value, /)\n",
      " |      Return self>value.\n",
      " |  \n",
      " |  __hash__(self, /)\n",
      " |      Return hash(self).\n",
      " |  \n",
      " |  __iter__(self, /)\n",
      " |      Implement iter(self).\n",
      " |  \n",
      " |  __le__(self, value, /)\n",
      " |      Return self<=value.\n",
      " |  \n",
      " |  __len__(self, /)\n",
      " |      Return len(self).\n",
      " |  \n",
      " |  __lt__(self, value, /)\n",
      " |      Return self<value.\n",
      " |  \n",
      " |  __mod__(self, value, /)\n",
      " |      Return self%value.\n",
      " |  \n",
      " |  __mul__(self, value, /)\n",
      " |      Return self*value.\n",
      " |  \n",
      " |  __ne__(self, value, /)\n",
      " |      Return self!=value.\n",
      " |  \n",
      " |  __repr__(self, /)\n",
      " |      Return repr(self).\n",
      " |  \n",
      " |  __rmod__(self, value, /)\n",
      " |      Return value%self.\n",
      " |  \n",
      " |  __rmul__(self, value, /)\n",
      " |      Return value*self.\n",
      " |  \n",
      " |  __sizeof__(self, /)\n",
      " |      Return the size of the string in memory, in bytes.\n",
      " |  \n",
      " |  __str__(self, /)\n",
      " |      Return str(self).\n",
      " |  \n",
      " |  capitalize(self, /)\n",
      " |      Return a capitalized version of the string.\n",
      " |      \n",
      " |      More specifically, make the first character have upper case and the rest lower\n",
      " |      case.\n",
      " |  \n",
      " |  casefold(self, /)\n",
      " |      Return a version of the string suitable for caseless comparisons.\n",
      " |  \n",
      " |  center(self, width, fillchar=' ', /)\n",
      " |      Return a centered string of length width.\n",
      " |      \n",
      " |      Padding is done using the specified fill character (default is a space).\n",
      " |  \n",
      " |  count(...)\n",
      " |      S.count(sub[, start[, end]]) -> int\n",
      " |      \n",
      " |      Return the number of non-overlapping occurrences of substring sub in\n",
      " |      string S[start:end].  Optional arguments start and end are\n",
      " |      interpreted as in slice notation.\n",
      " |  \n",
      " |  encode(self, /, encoding='utf-8', errors='strict')\n",
      " |      Encode the string using the codec registered for encoding.\n",
      " |      \n",
      " |      encoding\n",
      " |        The encoding in which to encode the string.\n",
      " |      errors\n",
      " |        The error handling scheme to use for encoding errors.\n",
      " |        The default is 'strict' meaning that encoding errors raise a\n",
      " |        UnicodeEncodeError.  Other possible values are 'ignore', 'replace' and\n",
      " |        'xmlcharrefreplace' as well as any other name registered with\n",
      " |        codecs.register_error that can handle UnicodeEncodeErrors.\n",
      " |  \n",
      " |  endswith(...)\n",
      " |      S.endswith(suffix[, start[, end]]) -> bool\n",
      " |      \n",
      " |      Return True if S ends with the specified suffix, False otherwise.\n",
      " |      With optional start, test S beginning at that position.\n",
      " |      With optional end, stop comparing S at that position.\n",
      " |      suffix can also be a tuple of strings to try.\n",
      " |  \n",
      " |  expandtabs(self, /, tabsize=8)\n",
      " |      Return a copy where all tab characters are expanded using spaces.\n",
      " |      \n",
      " |      If tabsize is not given, a tab size of 8 characters is assumed.\n",
      " |  \n",
      " |  find(...)\n",
      " |      S.find(sub[, start[, end]]) -> int\n",
      " |      \n",
      " |      Return the lowest index in S where substring sub is found,\n",
      " |      such that sub is contained within S[start:end].  Optional\n",
      " |      arguments start and end are interpreted as in slice notation.\n",
      " |      \n",
      " |      Return -1 on failure.\n",
      " |  \n",
      " |  format(...)\n",
      " |      S.format(*args, **kwargs) -> str\n",
      " |      \n",
      " |      Return a formatted version of S, using substitutions from args and kwargs.\n",
      " |      The substitutions are identified by braces ('{' and '}').\n",
      " |  \n",
      " |  format_map(...)\n",
      " |      S.format_map(mapping) -> str\n",
      " |      \n",
      " |      Return a formatted version of S, using substitutions from mapping.\n",
      " |      The substitutions are identified by braces ('{' and '}').\n",
      " |  \n",
      " |  index(...)\n",
      " |      S.index(sub[, start[, end]]) -> int\n",
      " |      \n",
      " |      Return the lowest index in S where substring sub is found,\n",
      " |      such that sub is contained within S[start:end].  Optional\n",
      " |      arguments start and end are interpreted as in slice notation.\n",
      " |      \n",
      " |      Raises ValueError when the substring is not found.\n",
      " |  \n",
      " |  isalnum(self, /)\n",
      " |      Return True if the string is an alpha-numeric string, False otherwise.\n",
      " |      \n",
      " |      A string is alpha-numeric if all characters in the string are alpha-numeric and\n",
      " |      there is at least one character in the string.\n",
      " |  \n",
      " |  isalpha(self, /)\n",
      " |      Return True if the string is an alphabetic string, False otherwise.\n",
      " |      \n",
      " |      A string is alphabetic if all characters in the string are alphabetic and there\n",
      " |      is at least one character in the string.\n",
      " |  \n",
      " |  isascii(self, /)\n",
      " |      Return True if all characters in the string are ASCII, False otherwise.\n",
      " |      \n",
      " |      ASCII characters have code points in the range U+0000-U+007F.\n",
      " |      Empty string is ASCII too.\n",
      " |  \n",
      " |  isdecimal(self, /)\n",
      " |      Return True if the string is a decimal string, False otherwise.\n",
      " |      \n",
      " |      A string is a decimal string if all characters in the string are decimal and\n",
      " |      there is at least one character in the string.\n",
      " |  \n",
      " |  isdigit(self, /)\n",
      " |      Return True if the string is a digit string, False otherwise.\n",
      " |      \n",
      " |      A string is a digit string if all characters in the string are digits and there\n",
      " |      is at least one character in the string.\n",
      " |  \n",
      " |  isidentifier(self, /)\n",
      " |      Return True if the string is a valid Python identifier, False otherwise.\n",
      " |      \n",
      " |      Call keyword.iskeyword(s) to test whether string s is a reserved identifier,\n",
      " |      such as \"def\" or \"class\".\n",
      " |  \n",
      " |  islower(self, /)\n",
      " |      Return True if the string is a lowercase string, False otherwise.\n",
      " |      \n",
      " |      A string is lowercase if all cased characters in the string are lowercase and\n",
      " |      there is at least one cased character in the string.\n",
      " |  \n",
      " |  isnumeric(self, /)\n",
      " |      Return True if the string is a numeric string, False otherwise.\n",
      " |      \n",
      " |      A string is numeric if all characters in the string are numeric and there is at\n",
      " |      least one character in the string.\n",
      " |  \n",
      " |  isprintable(self, /)\n",
      " |      Return True if the string is printable, False otherwise.\n",
      " |      \n",
      " |      A string is printable if all of its characters are considered printable in\n",
      " |      repr() or if it is empty.\n",
      " |  \n",
      " |  isspace(self, /)\n",
      " |      Return True if the string is a whitespace string, False otherwise.\n",
      " |      \n",
      " |      A string is whitespace if all characters in the string are whitespace and there\n",
      " |      is at least one character in the string.\n",
      " |  \n",
      " |  istitle(self, /)\n",
      " |      Return True if the string is a title-cased string, False otherwise.\n",
      " |      \n",
      " |      In a title-cased string, upper- and title-case characters may only\n",
      " |      follow uncased characters and lowercase characters only cased ones.\n",
      " |  \n",
      " |  isupper(self, /)\n",
      " |      Return True if the string is an uppercase string, False otherwise.\n",
      " |      \n",
      " |      A string is uppercase if all cased characters in the string are uppercase and\n",
      " |      there is at least one cased character in the string.\n",
      " |  \n",
      " |  join(self, iterable, /)\n",
      " |      Concatenate any number of strings.\n",
      " |      \n",
      " |      The string whose method is called is inserted in between each given string.\n",
      " |      The result is returned as a new string.\n",
      " |      \n",
      " |      Example: '.'.join(['ab', 'pq', 'rs']) -> 'ab.pq.rs'\n",
      " |  \n",
      " |  ljust(self, width, fillchar=' ', /)\n",
      " |      Return a left-justified string of length width.\n",
      " |      \n",
      " |      Padding is done using the specified fill character (default is a space).\n",
      " |  \n",
      " |  lower(self, /)\n",
      " |      Return a copy of the string converted to lowercase.\n",
      " |  \n",
      " |  lstrip(self, chars=None, /)\n",
      " |      Return a copy of the string with leading whitespace removed.\n",
      " |      \n",
      " |      If chars is given and not None, remove characters in chars instead.\n",
      " |  \n",
      " |  partition(self, sep, /)\n",
      " |      Partition the string into three parts using the given separator.\n",
      " |      \n",
      " |      This will search for the separator in the string.  If the separator is found,\n",
      " |      returns a 3-tuple containing the part before the separator, the separator\n",
      " |      itself, and the part after it.\n",
      " |      \n",
      " |      If the separator is not found, returns a 3-tuple containing the original string\n",
      " |      and two empty strings.\n",
      " |  \n",
      " |  replace(self, old, new, count=-1, /)\n",
      " |      Return a copy with all occurrences of substring old replaced by new.\n",
      " |      \n",
      " |        count\n",
      " |          Maximum number of occurrences to replace.\n",
      " |          -1 (the default value) means replace all occurrences.\n",
      " |      \n",
      " |      If the optional argument count is given, only the first count occurrences are\n",
      " |      replaced.\n",
      " |  \n",
      " |  rfind(...)\n",
      " |      S.rfind(sub[, start[, end]]) -> int\n",
      " |      \n",
      " |      Return the highest index in S where substring sub is found,\n",
      " |      such that sub is contained within S[start:end].  Optional\n",
      " |      arguments start and end are interpreted as in slice notation.\n",
      " |      \n",
      " |      Return -1 on failure.\n",
      " |  \n",
      " |  rindex(...)\n",
      " |      S.rindex(sub[, start[, end]]) -> int\n",
      " |      \n",
      " |      Return the highest index in S where substring sub is found,\n",
      " |      such that sub is contained within S[start:end].  Optional\n",
      " |      arguments start and end are interpreted as in slice notation.\n",
      " |      \n",
      " |      Raises ValueError when the substring is not found.\n",
      " |  \n",
      " |  rjust(self, width, fillchar=' ', /)\n",
      " |      Return a right-justified string of length width.\n",
      " |      \n",
      " |      Padding is done using the specified fill character (default is a space).\n",
      " |  \n",
      " |  rpartition(self, sep, /)\n",
      " |      Partition the string into three parts using the given separator.\n",
      " |      \n",
      " |      This will search for the separator in the string, starting at the end. If\n",
      " |      the separator is found, returns a 3-tuple containing the part before the\n",
      " |      separator, the separator itself, and the part after it.\n",
      " |      \n",
      " |      If the separator is not found, returns a 3-tuple containing two empty strings\n",
      " |      and the original string.\n",
      " |  \n",
      " |  rsplit(self, /, sep=None, maxsplit=-1)\n",
      " |      Return a list of the words in the string, using sep as the delimiter string.\n",
      " |      \n",
      " |        sep\n",
      " |          The delimiter according which to split the string.\n",
      " |          None (the default value) means split according to any whitespace,\n",
      " |          and discard empty strings from the result.\n",
      " |        maxsplit\n",
      " |          Maximum number of splits to do.\n",
      " |          -1 (the default value) means no limit.\n",
      " |      \n",
      " |      Splits are done starting at the end of the string and working to the front.\n",
      " |  \n",
      " |  rstrip(self, chars=None, /)\n",
      " |      Return a copy of the string with trailing whitespace removed.\n",
      " |      \n",
      " |      If chars is given and not None, remove characters in chars instead.\n",
      " |  \n",
      " |  split(self, /, sep=None, maxsplit=-1)\n",
      " |      Return a list of the words in the string, using sep as the delimiter string.\n",
      " |      \n",
      " |      sep\n",
      " |        The delimiter according which to split the string.\n",
      " |        None (the default value) means split according to any whitespace,\n",
      " |        and discard empty strings from the result.\n",
      " |      maxsplit\n",
      " |        Maximum number of splits to do.\n",
      " |        -1 (the default value) means no limit.\n",
      " |  \n",
      " |  splitlines(self, /, keepends=False)\n",
      " |      Return a list of the lines in the string, breaking at line boundaries.\n",
      " |      \n",
      " |      Line breaks are not included in the resulting list unless keepends is given and\n",
      " |      true.\n",
      " |  \n",
      " |  startswith(...)\n",
      " |      S.startswith(prefix[, start[, end]]) -> bool\n",
      " |      \n",
      " |      Return True if S starts with the specified prefix, False otherwise.\n",
      " |      With optional start, test S beginning at that position.\n",
      " |      With optional end, stop comparing S at that position.\n",
      " |      prefix can also be a tuple of strings to try.\n",
      " |  \n",
      " |  strip(self, chars=None, /)\n",
      " |      Return a copy of the string with leading and trailing whitespace removed.\n",
      " |      \n",
      " |      If chars is given and not None, remove characters in chars instead.\n",
      " |  \n",
      " |  swapcase(self, /)\n",
      " |      Convert uppercase characters to lowercase and lowercase characters to uppercase.\n",
      " |  \n",
      " |  title(self, /)\n",
      " |      Return a version of the string where each word is titlecased.\n",
      " |      \n",
      " |      More specifically, words start with uppercased characters and all remaining\n",
      " |      cased characters have lower case.\n",
      " |  \n",
      " |  translate(self, table, /)\n",
      " |      Replace each character in the string using the given translation table.\n",
      " |      \n",
      " |        table\n",
      " |          Translation table, which must be a mapping of Unicode ordinals to\n",
      " |          Unicode ordinals, strings, or None.\n",
      " |      \n",
      " |      The table must implement lookup/indexing via __getitem__, for instance a\n",
      " |      dictionary or list.  If this operation raises LookupError, the character is\n",
      " |      left untouched.  Characters mapped to None are deleted.\n",
      " |  \n",
      " |  upper(self, /)\n",
      " |      Return a copy of the string converted to uppercase.\n",
      " |  \n",
      " |  zfill(self, width, /)\n",
      " |      Pad a numeric string with zeros on the left, to fill a field of the given width.\n",
      " |      \n",
      " |      The string is never truncated.\n",
      " |  \n",
      " |  ----------------------------------------------------------------------\n",
      " |  Static methods defined here:\n",
      " |  \n",
      " |  __new__(*args, **kwargs) from builtins.type\n",
      " |      Create and return a new object.  See help(type) for accurate signature.\n",
      " |  \n",
      " |  maketrans(...)\n",
      " |      Return a translation table usable for str.translate().\n",
      " |      \n",
      " |      If there is only one argument, it must be a dictionary mapping Unicode\n",
      " |      ordinals (integers) or characters to Unicode ordinals, strings or None.\n",
      " |      Character keys will be then converted to ordinals.\n",
      " |      If there are two arguments, they must be strings of equal length, and\n",
      " |      in the resulting dictionary, each character in x will be mapped to the\n",
      " |      character at the same position in y. If there is a third argument, it\n",
      " |      must be a string, whose characters will be mapped to None in the result.\n",
      "\n",
      "None\n"
     ]
    }
   ],
   "source": [
    "print(help(\"\"))"
   ]
  },
  {
   "cell_type": "markdown",
   "metadata": {},
   "source": [
    "#### User-defined classes: Defining objects and attributes"
   ]
  },
  {
   "cell_type": "code",
   "execution_count": 6,
   "metadata": {},
   "outputs": [],
   "source": [
    "class Apple:\n",
    "    pass"
   ]
  },
  {
   "cell_type": "code",
   "execution_count": 7,
   "metadata": {},
   "outputs": [],
   "source": [
    "class Apple:\n",
    "    color = \"\"\n",
    "    flavor = \"\""
   ]
  },
  {
   "cell_type": "code",
   "execution_count": 8,
   "metadata": {},
   "outputs": [],
   "source": [
    "gala = Apple()\n",
    "gala.color = \"red-yellow\"\n",
    "gala.flavor = \"sweet\""
   ]
  },
  {
   "cell_type": "code",
   "execution_count": 9,
   "metadata": {},
   "outputs": [],
   "source": [
    "cripps = Apple()\n",
    "cripps.color = \"pinkish-red\"\n",
    "cripps.flavor = \"sweet-tart\""
   ]
  },
  {
   "cell_type": "markdown",
   "metadata": {},
   "source": [
    "#### User-defined classes: Defining methods (i.e. functions)"
   ]
  },
  {
   "cell_type": "code",
   "execution_count": 10,
   "metadata": {},
   "outputs": [
    {
     "name": "stdout",
     "output_type": "stream",
     "text": [
      "woof! woof!\n",
      "woof! woof!\n"
     ]
    }
   ],
   "source": [
    "class Dog:\n",
    "    def sound(self):\n",
    "        print(\"woof! woof!\")\n",
    "        \n",
    "fudge = Dog()\n",
    "fudge.sound()\n",
    "\n",
    "maple = Dog()\n",
    "maple.sound()"
   ]
  },
  {
   "cell_type": "markdown",
   "metadata": {},
   "source": [
    "#### User-defined classes: Defining instance variables"
   ]
  },
  {
   "cell_type": "code",
   "execution_count": 11,
   "metadata": {},
   "outputs": [
    {
     "name": "stdout",
     "output_type": "stream",
     "text": [
      "woof! I am Fudge! woof!\n",
      "woof! I am Maple! woof!\n"
     ]
    }
   ],
   "source": [
    "class Dog:\n",
    "    name = \"\"\n",
    "    def sound(self):\n",
    "        print(\"woof! I am {}! woof!\".format(self.name))\n",
    "        \n",
    "fudge = Dog()\n",
    "fudge.name = \"Fudge\"\n",
    "fudge.sound()\n",
    "\n",
    "maple = Dog()\n",
    "maple.name = \"Maple\"\n",
    "maple.sound()"
   ]
  },
  {
   "cell_type": "code",
   "execution_count": 12,
   "metadata": {},
   "outputs": [
    {
     "name": "stdout",
     "output_type": "stream",
     "text": [
      "18\n",
      "13.5\n"
     ]
    }
   ],
   "source": [
    "class Dog:\n",
    "    years = 0\n",
    "    def dog_years(self):\n",
    "        return self.years*9\n",
    "        \n",
    "fudge = Dog()\n",
    "fudge.years = 2\n",
    "print(fudge.dog_years())\n",
    "\n",
    "maple = Dog()\n",
    "maple.years = 1.5\n",
    "print(maple.dog_years())"
   ]
  },
  {
   "cell_type": "markdown",
   "metadata": {},
   "source": [
    "#### User-defined classes: Defining constructors (i.e. special methods)"
   ]
  },
  {
   "cell_type": "code",
   "execution_count": 13,
   "metadata": {},
   "outputs": [],
   "source": [
    "class Dog:\n",
    "    def __init__(self, name, years):\n",
    "        self.name = name\n",
    "        self.years = years\n",
    "        \n",
    "fudge = Dog(\"Fudge\", 2)\n",
    "maple = Dog(\"Maple\", 1.5)"
   ]
  },
  {
   "cell_type": "markdown",
   "metadata": {},
   "source": [
    "#### User-defined classes: Discussion Exercise"
   ]
  },
  {
   "cell_type": "code",
   "execution_count": 1,
   "metadata": {},
   "outputs": [
    {
     "name": "stdout",
     "output_type": "stream",
     "text": [
      "woof! I am Fudge and I am 18 dog years old! woof!\n",
      "woof! I am Maple and I am 13.5 dog years old! woof!\n"
     ]
    }
   ],
   "source": [
    "class Dog:\n",
    "    def __init__(self, name, years):\n",
    "        self.name = name\n",
    "        self.years = years\n",
    "        \n",
    "    def dog_years(self):   \n",
    "        dog_age = self.years*9\n",
    "        return dog_age\n",
    "        \n",
    "    def sound(self):\n",
    "        dog_age = self.dog_years()\n",
    "        print(\"woof! I am {} and I am {} dog years old! woof!\".format(self.name, dog_age))\n",
    "        \n",
    "fudge = Dog(\"Fudge\", 2)\n",
    "maple = Dog(\"Maple\", 1.5)\n",
    "fudge.sound()\n",
    "maple.sound()"
   ]
  },
  {
   "cell_type": "markdown",
   "metadata": {},
   "source": [
    "#### User-defined classes: Defining docstrings"
   ]
  },
  {
   "cell_type": "code",
   "execution_count": 5,
   "metadata": {},
   "outputs": [
    {
     "name": "stdout",
     "output_type": "stream",
     "text": [
      "woof! I am Fudge and I am 18 dog years old! woof!\n",
      "woof! I am Maple and I am 13.5 dog years old! woof!\n"
     ]
    }
   ],
   "source": [
    "class Dog:\n",
    "    \"\"\"This class enables the dog to say its name and age in dog years\"\"\"\n",
    "    def __init__(self, name, years):\n",
    "        \"\"\"This function contains all the necessary attributes\"\"\"\n",
    "        self.name = name\n",
    "        self.years = years\n",
    "        self.dog_age = years*9\n",
    "        \n",
    "    def sound(self):\n",
    "        \"\"\"This function enables the dog to speak\"\"\"\n",
    "        print(\"woof! I am {} and I am {} dog years old! woof!\".format(self.name, self.dog_age))\n",
    "        \n",
    "fudge = Dog(\"Fudge\", 2)\n",
    "maple = Dog(\"Maple\", 1.5)\n",
    "fudge.sound()\n",
    "maple.sound()"
   ]
  },
  {
   "cell_type": "code",
   "execution_count": 6,
   "metadata": {},
   "outputs": [
    {
     "name": "stdout",
     "output_type": "stream",
     "text": [
      "Help on class Dog in module __main__:\n",
      "\n",
      "class Dog(builtins.object)\n",
      " |  Dog(name, years)\n",
      " |  \n",
      " |  Methods defined here:\n",
      " |  \n",
      " |  __init__(self, name, years)\n",
      " |      This function contains all the necessary attributes\n",
      " |  \n",
      " |  sound(self)\n",
      " |      This function enables the dog to speak\n",
      " |  \n",
      " |  ----------------------------------------------------------------------\n",
      " |  Data descriptors defined here:\n",
      " |  \n",
      " |  __dict__\n",
      " |      dictionary for instance variables (if defined)\n",
      " |  \n",
      " |  __weakref__\n",
      " |      list of weak references to the object (if defined)\n",
      "\n"
     ]
    }
   ],
   "source": [
    "help(Dog)"
   ]
  },
  {
   "cell_type": "markdown",
   "metadata": {},
   "source": [
    "### 2) File handling"
   ]
  },
  {
   "cell_type": "markdown",
   "metadata": {},
   "source": [
    "#### Reading and printing the contents of a file named 'sample.txt'"
   ]
  },
  {
   "cell_type": "code",
   "execution_count": 26,
   "metadata": {},
   "outputs": [],
   "source": [
    "sample_file = open(\"sample.txt\", \"r\")"
   ]
  },
  {
   "cell_type": "code",
   "execution_count": 27,
   "metadata": {},
   "outputs": [
    {
     "name": "stdout",
     "output_type": "stream",
     "text": [
      "Hello, my name is Bob\n",
      "I live in California\n",
      "I am 21 years old\n",
      "My major is in Civil Engineering\n",
      "I have 2 pet dogs\n"
     ]
    }
   ],
   "source": [
    "print(sample_file.read())"
   ]
  },
  {
   "cell_type": "code",
   "execution_count": 28,
   "metadata": {},
   "outputs": [],
   "source": [
    "sample_file.close()"
   ]
  },
  {
   "cell_type": "markdown",
   "metadata": {},
   "source": [
    "#### Appending a new line at the end of the file named 'sample.txt'.  Also, the contents of the file after appending the new line is printed out"
   ]
  },
  {
   "cell_type": "code",
   "execution_count": 29,
   "metadata": {},
   "outputs": [],
   "source": [
    "sample_file = open(\"sample.txt\", \"a\")"
   ]
  },
  {
   "cell_type": "code",
   "execution_count": 30,
   "metadata": {},
   "outputs": [
    {
     "data": {
      "text/plain": [
       "42"
      ]
     },
     "execution_count": 30,
     "metadata": {},
     "output_type": "execute_result"
    }
   ],
   "source": [
    "sample_file.write(\"\\nMy hobbies are dancing and playing tennis\")"
   ]
  },
  {
   "cell_type": "code",
   "execution_count": 31,
   "metadata": {},
   "outputs": [
    {
     "name": "stdout",
     "output_type": "stream",
     "text": [
      "Hello, my name is Bob\n",
      "I live in California\n",
      "I am 21 years old\n",
      "My major is in Civil Engineering\n",
      "I have 2 pet dogs\n",
      "My hobbies are dancing and playing tennis\n"
     ]
    }
   ],
   "source": [
    "sample_file = open(\"sample.txt\", \"r\")\n",
    "print(sample_file.read())"
   ]
  },
  {
   "cell_type": "code",
   "execution_count": 32,
   "metadata": {},
   "outputs": [],
   "source": [
    "import sys"
   ]
  },
  {
   "cell_type": "code",
   "execution_count": 33,
   "metadata": {},
   "outputs": [
    {
     "name": "stdout",
     "output_type": "stream",
     "text": [
      "total 2840\n",
      "-rw-rw-r-- 1 compthink compthink 2825878 Aug 20 19:47 ClassObjects_FileHandling_ENGR1330_CTwithDS.pptx\n",
      "-rw-rw-r-- 1 compthink compthink    9353 Sep  7 18:17 ClassObjects_FileHandling_LabSession.ipynb\n",
      "-rw-rw-r-- 1 compthink compthink   31285 Sep 10 14:11 ClassObjects_FileHandling_LectureSession.ipynb\n",
      "drwxrwxr-x 4 compthink compthink    4096 Sep  9 01:19 Lab6\n",
      "drwxr-xr-x 3 compthink compthink    4096 Sep  7 21:59 OriginalPowerpoint\n",
      "drwxr-xr-x 2 compthink compthink    4096 Aug 20 19:56 PsuedoLesson\n",
      "-rw-rw-r-- 1 compthink compthink     524 Aug 20 19:47 ReadingFile.txt\n",
      "-rw-rw-r-- 1 compthink compthink    4618 Sep 10 13:05 index.html\n",
      "-rw-rw-r-- 1 compthink compthink     111 Sep 10 14:08 sample-Copy1.txt\n",
      "-rw-rw-r-- 1 compthink compthink     153 Sep 10 14:08 sample.txt\n",
      "-rw-r--r-- 1 compthink compthink    3574 Aug 20 19:56 styles.css\n"
     ]
    }
   ],
   "source": [
    "! ls -l"
   ]
  },
  {
   "cell_type": "code",
   "execution_count": 35,
   "metadata": {},
   "outputs": [
    {
     "name": "stdout",
     "output_type": "stream",
     "text": [
      "Hello, my name is Bob\n",
      "I live in California\n",
      "I am 21 years old\n",
      "My major is in Civil Engineering\n",
      "I have 2 pet dogs"
     ]
    }
   ],
   "source": [
    "! cat sample-Copy1.txt"
   ]
  },
  {
   "cell_type": "code",
   "execution_count": 36,
   "metadata": {},
   "outputs": [
    {
     "name": "stdout",
     "output_type": "stream",
     "text": [
      "\t\t<!style type=\"text/css\">\n",
      "\t\t\tbody {\n",
      "\t\t\t\tbackground-color: #fff;\n",
      "\t\t\t\tcolor: #000;\n",
      "\t\t\t\tfont-size: 0.9em;\n",
      "\t\t\t\tfont-family: sans-serif,helvetica;\n",
      "\t\t\t\tmargin: 0;\n",
      "\t\t\t\tpadding: 0;\n",
      "\t\t\t}\n",
      "\t\t\t:link {\n",
      "\t\t\t\tcolor: #0000FF;\n",
      "\t\t\t}\n",
      "\t\t\t:visited {\n",
      "\t\t\t\tcolor: #0000FF;\n",
      "\t\t\t}\n",
      "\t\t\ta:hover {\n",
      "\t\t\t\tcolor: #3399FF;\n",
      "\t\t\t}\n",
      "\t\t\th1 {\n",
      "\t\t\t\ttext-align: left;\n",
      "\t\t\t\tfont-family: sans-serif,helvetica;\n",
      "\t\t\t\tmargin: 0;\n",
      "\t\t\t\tpadding: 0.6em 2em 0.4em;\n",
      "\t\t\t\tbackground-color: #0000FF;\n",
      "\t\t\t\tcolor: #ffffff;\n",
      "\t\t\t\tfont-weight: normal;\n",
      "\t\t\t\tfont-size: 1.75em;\n",
      "\t\t\t\tborder-bottom: 2px solid #000;\n",
      "\t\t\t}\n",
      "\t\t\th1 strong {\n",
      "\t\t\t\tfont-weight: bold;\n",
      "\t\t\t\t\t\t\t\tfont-family: sans-serif,helvetica;\n",
      "\t\t\t}\n",
      "\t\t\th2 {\n",
      "\t\t\t\tfont-size: 1.1em;\n",
      "\t\t\t\tfont-weight: bold;\n",
      "\t\t\t\t\t\t\t\tfont-family: sans-serif,helvetica;\n",
      "\t\t\t}\n",
      "            h3 {\n",
      "\t\t\t\tfont-size: 1.1em;\n",
      "\t\t\t\tfont-weight: bold;\n",
      "                color: #0000FF;\n",
      "                font-family: sans-serif,helvetica;\n",
      "\t\t\t}\n",
      "            \n",
      "\t\t\t.content {\n",
      "\t\t\t\tpadding: 1em 5em;\n",
      "\t\t\t\t\t\t\t\tfont-family: sans-serif,helvetica;\n",
      "\t\t\t}\n",
      "\t\t\t.content-columns {\n",
      "\t\t\t\t/* Setting relative positioning allows for \n",
      "\t\t\t\tabsolute positioning for sub-classes */\n",
      "\t\t\t\t\t\t\t\tfont-family: sans-serif,helvetica;\n",
      "\t\t\t\tposition: relative;\n",
      "\t\t\t\tpadding-top: 1em;\n",
      "\t\t\t}\n",
      "\t\t\t.content-column-left {\n",
      "\t\t\t\t/* Value for IE/Win; will be overwritten for other browsers */\n",
      "\t\t\t\t\t\t\t\tfont-family: sans-serif,helvetica;\n",
      "\t\t\t\twidth: 47%;\n",
      "\t\t\t\tpadding-right: 3%;\n",
      "\t\t\t\tfloat: left;\n",
      "\t\t\t\tpadding-bottom: 2em;\n",
      "\t\t\t}\n",
      "\t\t\t.content-column-right {\n",
      "\t\t\t\t/* Values for IE/Win; will be overwritten for other browsers */\n",
      "\t\t\t\t\t\t\t\tfont-family: sans-serif,helvetica;\n",
      "\t\t\t\twidth: 47%;\n",
      "\t\t\t\tpadding-left: 3%;\n",
      "\t\t\t\tfloat: left;\n",
      "\t\t\t\tpadding-bottom: 2em;\n",
      "\t\t\t}\n",
      "\t\t\t.content-columns>.content-column-left, .content-columns>.content-column-right {\n",
      "\t\t\t\t/* Non-IE/Win */\n",
      "\t\t\t}\n",
      "\t\t\timg {\n",
      "\t\t\t\tborder: 2px solid #fff;\n",
      "\t\t\t\tpadding: 2px;\n",
      "\t\t\t\tmargin: 2px;\n",
      "\t\t\t}\n",
      "\t\t\ta:hover img {\n",
      "\t\t\t\tborder: 2px solid #3399FF;\n",
      "\t\t\t}\n",
      "            /* TopNavigation Styles*/\n",
      "            .topnav {\n",
      "             overflow: hidden;\n",
      "             background-color: #333;\n",
      "             }\n",
      " \n",
      "             .topnav a {\n",
      "             float: left;\n",
      "             display: block;\n",
      "             color: #f2f2f2;\n",
      "             text-align: center;\n",
      "             padding: 14px 16px;\n",
      "             text-decoration: none;\n",
      "             font-size: 17px;\n",
      "             }\n",
      " \n",
      "             .topnav a:hover {\n",
      "             background-color: #ddd;\n",
      "             color: black;\n",
      "             }\n",
      " \n",
      "             .topnav a.active {\n",
      "             background-color: #4CAF50;\n",
      "             color: white;\n",
      "             }\n",
      "            /* Accordion Buttons */\n",
      "            button.accordion {\n",
      "                background-color: #eee;\n",
      "                color: #444;\n",
      "                cursor: pointer;\n",
      "                padding: 18px;\n",
      "                width: 100%;\n",
      "                border: none;\n",
      "                text-align: left;\n",
      "                outline: none;\n",
      "                font-size: 15px;\n",
      "                transition: 0.4s;\n",
      "            }\n",
      "\n",
      "            button.accordion.active, button.accordion:hover {\n",
      "                background-color: #ddd;\n",
      "            }\n",
      "\n",
      "            button.accordion:after {\n",
      "                content: '\\002B';\n",
      "                color: #777;\n",
      "                font-weight: bold;\n",
      "                float: right;\n",
      "                margin-left: 5px;\n",
      "            }\n",
      "\n",
      "            button.accordion.active:after {\n",
      "                content: \"\\2212\";\n",
      "            }\n",
      "\n",
      "            div.panel {\n",
      "                padding: 0 18px;\n",
      "                background-color: white;\n",
      "                max-height: 0;\n",
      "                overflow: hidden;\n",
      "                transition: max-height 0.2s ease-out;\n",
      "            }\n",
      "\n",
      "\t\t<!/style>\n"
     ]
    }
   ],
   "source": [
    "! cat styles.css"
   ]
  },
  {
   "cell_type": "code",
   "execution_count": null,
   "metadata": {},
   "outputs": [],
   "source": []
  }
 ],
 "metadata": {
  "kernelspec": {
   "display_name": "Python 3",
   "language": "python",
   "name": "python3"
  },
  "language_info": {
   "codemirror_mode": {
    "name": "ipython",
    "version": 3
   },
   "file_extension": ".py",
   "mimetype": "text/x-python",
   "name": "python",
   "nbconvert_exporter": "python",
   "pygments_lexer": "ipython3",
   "version": "3.8.5"
  }
 },
 "nbformat": 4,
 "nbformat_minor": 4
}
