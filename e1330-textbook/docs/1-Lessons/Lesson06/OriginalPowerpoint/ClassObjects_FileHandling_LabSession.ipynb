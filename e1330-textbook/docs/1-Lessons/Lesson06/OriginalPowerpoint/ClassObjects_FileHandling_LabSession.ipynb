{
 "cells": [
  {
   "cell_type": "markdown",
   "metadata": {},
   "source": [
    "## Lab session for 1) class and objects in Python and 2) file handling in Python"
   ]
  },
  {
   "cell_type": "markdown",
   "metadata": {},
   "source": [
    "### 1) Class and objects"
   ]
  },
  {
   "cell_type": "markdown",
   "metadata": {},
   "source": [
    "#### Exercise-1: Write a class named 'CarSpeed' to calculate the speed (in miles/hour) of different brands of cars based on the information given in the table below.  The formula to calculate speed is also given below.  Based on your output, which brand of car has the highest speed?\n",
    "\n",
    "$$Speed = \\frac{Distance}{Time}$$\n",
    "\n",
    "| Car brand   | Distance (miles) | Time (hours) |\n",
    "| ----------- | -----------------|------------|\n",
    "| Ford        | 120              | 1.75       |\n",
    "| Ferrari     | 100              | 1.20       |\n",
    "| BMW         | 205              | 2.35       |\n",
    "| Porsche     | 155              | 1.85       |\n",
    "| Audi        | 190              | 2.10       |\n",
    "| Jaguar      | 255              | 2.45       |\n",
    "\n",
    "#### Note-1: Use docstrings to describe the purpose of the class.\n",
    "\n",
    "#### Note-2: Create an object for each car brand and display the output as shown below.\n",
    "\n",
    "Ford_Speed (miles/hour): **SPEED**  \n",
    "Ferrari_Speed (miles/hour): **SPEED**   \n",
    "BMW_Speed (miles/hour): **SPEED**    \n",
    "Porsche_Speed (miles/hour): **SPEED**   \n",
    "Audi_Speed (miles/hour): **SPEED**  \n",
    "Jaguar_Speed (miles/hour): **SPEED**  \n",
    "The car with the highest speed is: **CAR BRAND**"
   ]
  },
  {
   "cell_type": "code",
   "execution_count": 34,
   "metadata": {
    "collapsed": true,
    "jupyter": {
     "outputs_hidden": true,
     "source_hidden": true
    }
   },
   "outputs": [
    {
     "name": "stdout",
     "output_type": "stream",
     "text": [
      "Ford_Speed (miles/hour): 68.57142857142857\n",
      "Ferrari_Speed (miles/hour): 83.33333333333334\n",
      "BMW_Speed (miles/hour): 87.23404255319149\n",
      "Porsche_Speed (miles/hour): 83.78378378378378\n",
      "Audi_Speed (miles/hour): 90.47619047619047\n",
      "Jaguar_Speed (miles/hour): 104.08163265306122\n",
      "The car with the highest speed is: Jaguar\n"
     ]
    }
   ],
   "source": [
    "class CarSpeed:\n",
    "    \"\"\"This class calculates the speed of the car based on the given distance and time\"\"\"\n",
    "    def __init__(self, distance, time):\n",
    "        self.distance = distance\n",
    "        self.time= time\n",
    "        \n",
    "    def speed(self):\n",
    "        return self.distance/self.time\n",
    "    \n",
    "ford = CarSpeed(120, 1.75)\n",
    "ferrari = CarSpeed(100, 1.20)\n",
    "bmw = CarSpeed(205, 2.35)\n",
    "porsche = CarSpeed(155, 1.85)\n",
    "audi = CarSpeed(190, 2.10)\n",
    "jaguar = CarSpeed(255, 2.45)\n",
    "\n",
    "print(\"Ford_Speed (miles/hour):\", ford.speed())\n",
    "print(\"Ferrari_Speed (miles/hour):\", ferrari.speed())\n",
    "print(\"BMW_Speed (miles/hour):\", bmw.speed())\n",
    "print(\"Porsche_Speed (miles/hour):\", porsche.speed())\n",
    "print(\"Audi_Speed (miles/hour):\", audi.speed())\n",
    "print(\"Jaguar_Speed (miles/hour):\", jaguar.speed())\n",
    "\n",
    "print(\"The car with the highest speed is: Jaguar\")"
   ]
  },
  {
   "cell_type": "markdown",
   "metadata": {},
   "source": [
    "#### Exercise-2: Write a class named 'Tax' to calculate the state tax (in dollars) of Employees at Texas Tech University based on their annual salary.  The state tax is 16% if the annual salary is below 80,000 dollars and 22% if the salary is more than 80,000 dollars. \n",
    "\n",
    "$$Tax = Annual salary \\times State\\, tax\\, \\%$$\n",
    "\n",
    "| Employee    | Annual salary (dollars) | \n",
    "| ----------- | ------------------------|\n",
    "| Bob         | 1,50,000                | \n",
    "| Mary        | 78,000                  | \n",
    "| John        | 55,000                  | \n",
    "| Danny       | 1,75,000                | \n",
    "\n",
    "#### Note-1: Use docstrings to describe the purpose of the class.\n",
    "\n",
    "#### Note-2: Use if....else conditional statements within the method of the class to choose the relevant tax % based on the annual salary.\n",
    "\n",
    "#### Note-3: Create an object for employee and display the output as shown below.\n",
    "\n",
    "Bob's tax amount (in dollars): **AMOUNT**  \n",
    "Mary's tax amount (in dollars): **AMOUNT**  \n",
    "John's tax amount (in dollars): **AMOUNT**  \n",
    "Danny's tax amount (in dollars): **AMOUNT** "
   ]
  },
  {
   "cell_type": "code",
   "execution_count": 35,
   "metadata": {
    "jupyter": {
     "source_hidden": true
    }
   },
   "outputs": [
    {
     "name": "stdout",
     "output_type": "stream",
     "text": [
      "Bob's tax amount (in dollars): 33000.0\n",
      "Mary's tax amount (in dollars): 12480.0\n",
      "John's tax amount (in dollars): 8800.0\n",
      "Danny's tax amount (in dollars): 38500.0\n"
     ]
    }
   ],
   "source": [
    "class Tax:\n",
    "    \"\"\"This class calculates the tax amount based on the annual salary and the state tax %\"\"\"\n",
    "    def __init__(self, salary):\n",
    "        self.salary = salary\n",
    "        \n",
    "    def taxamount(self):\n",
    "        if self.salary < 80000:\n",
    "            return self.salary*(16/100)\n",
    "        else: \n",
    "            return self.salary*(22/100)\n",
    "    \n",
    "bob = Tax(150000)\n",
    "mary = Tax(78000)\n",
    "john = Tax(55000)\n",
    "danny = Tax(175000)\n",
    "\n",
    "print(\"Bob's tax amount (in dollars):\", bob.taxamount())  \n",
    "print(\"Mary's tax amount (in dollars):\", mary.taxamount())  \n",
    "print(\"John's tax amount (in dollars):\", john.taxamount())  \n",
    "print(\"Danny's tax amount (in dollars):\", danny.taxamount())"
   ]
  },
  {
   "cell_type": "markdown",
   "metadata": {},
   "source": [
    "### 2) File handling"
   ]
  },
  {
   "cell_type": "markdown",
   "metadata": {},
   "source": [
    "#### Exercise-3: Read and print the contents of the text file named 'ReadingFile.txt' that is provided to you.\n"
   ]
  },
  {
   "cell_type": "code",
   "execution_count": 14,
   "metadata": {
    "jupyter": {
     "source_hidden": true
    }
   },
   "outputs": [
    {
     "name": "stdout",
     "output_type": "stream",
     "text": [
      "Data science is not a new term in the world of technology today. \n",
      "It has taken over the corporate world in the last few years. \n",
      "2.5 quintillion bytes of data sets get generated each day, and companies are trying to capture this data, convert it into insights, and utilize it to stay on top of the competition. \n",
      "The demand for skilled data science professionals has seen an upsurge, as organizations are on the constant look out for data science professionals to resolve business complexities with efficient data analysis.\n"
     ]
    }
   ],
   "source": [
    "readingfile = open(\"Readingfile.txt\",'r')\n",
    "print(readingfile.read())"
   ]
  },
  {
   "cell_type": "markdown",
   "metadata": {},
   "source": [
    "#### Exercise-4: Append the text that is given below to the file named \"Readingfile.txt\".  Print the output after appending the new line.\n",
    "\n",
    "\"With many people utilizing the power of data today, we have umpteen resources from where one can learn what is new in the domain.\"\n"
   ]
  },
  {
   "cell_type": "code",
   "execution_count": 15,
   "metadata": {
    "jupyter": {
     "source_hidden": true
    }
   },
   "outputs": [
    {
     "name": "stdout",
     "output_type": "stream",
     "text": [
      "Data science is not a new term in the world of technology today. \n",
      "It has taken over the corporate world in the last few years. \n",
      "2.5 quintillion bytes of data sets get generated each day, and companies are trying to capture this data, convert it into insights, and utilize it to stay on top of the competition. \n",
      "The demand for skilled data science professionals has seen an upsurge, as organizations are on the constant look out for data science professionals to resolve business complexities with efficient data analysis.\n",
      "With many people utilizing the power of data today, we have umpteen resources from where one can learn what is new in the domain.\n"
     ]
    }
   ],
   "source": [
    "appendingfile = open(\"Readingfile.txt\",'a')\n",
    "appendingfile.write(\"\\nWith many people utilizing the power of data today, we have umpteen resources from where one can learn what is new in the domain.\")\n",
    "readingfile = open(\"Readingfile.txt\",'r')\n",
    "print(readingfile.read())"
   ]
  }
 ],
 "metadata": {
  "kernelspec": {
   "display_name": "Python 3",
   "language": "python",
   "name": "python3"
  },
  "language_info": {
   "codemirror_mode": {
    "name": "ipython",
    "version": 3
   },
   "file_extension": ".py",
   "mimetype": "text/x-python",
   "name": "python",
   "nbconvert_exporter": "python",
   "pygments_lexer": "ipython3",
   "version": "3.8.5"
  }
 },
 "nbformat": 4,
 "nbformat_minor": 4
}
