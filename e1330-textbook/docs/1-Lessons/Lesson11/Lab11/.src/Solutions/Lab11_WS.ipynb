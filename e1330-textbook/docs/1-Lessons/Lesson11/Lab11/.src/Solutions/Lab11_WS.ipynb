{
 "cells": [
  {
   "cell_type": "code",
   "execution_count": 58,
   "metadata": {
    "collapsed": false
   },
   "outputs": [
    {
     "name": "stdout",
     "output_type": "stream",
     "text": [
      "project-265e7d65-78be-421c-9aed-07cc99a08366\r\n"
     ]
    },
    {
     "name": "stdout",
     "output_type": "stream",
     "text": [
      "user\r\n"
     ]
    },
    {
     "name": "stdout",
     "output_type": "stream",
     "text": [
      "/usr/bin/python3\n",
      "3.8.2 (default, Jul 16 2020, 14:00:26) \n",
      "[GCC 9.3.0]\n",
      "sys.version_info(major=3, minor=8, micro=2, releaselevel='final', serial=0)\n"
     ]
    }
   ],
   "source": [
    "# Preamble script block to identify host, user, and kernel\n",
    "import sys\n",
    "! hostname\n",
    "! whoami\n",
    "print(sys.executable)\n",
    "print(sys.version)\n",
    "print(sys.version_info)"
   ]
  },
  {
   "cell_type": "markdown",
   "metadata": {
    "collapsed": false
   },
   "source": [
    "## Full name: \n",
    "## R#: \n",
    "## HEX: \n",
    "## Title of the notebook\n",
    "## Date: "
   ]
  },
  {
   "cell_type": "markdown",
   "metadata": {
    "collapsed": false
   },
   "source": [
    "# Lab11: Probability and Python"
   ]
  },
  {
   "cell_type": "markdown",
   "metadata": {
    "collapsed": false
   },
   "source": [
    "### Important Terminology:\n",
    "__Experiment:__ An occurrence with an uncertain outcome that we can observe. <br>\n",
    "*For example, rolling a die.*<br>\n",
    "__Outcome:__ The result of an experiment; one particular state of the world. What Laplace calls a \"case.\"<br>\n",
    "*For example: 4.*<br>\n",
    "__Sample Space:__ The set of all possible outcomes for the experiment.<br>\n",
    "*For example, {1, 2, 3, 4, 5, 6}.*<br>\n",
    "__Event:__ A subset of possible outcomes that together have some property we are interested in.<br>\n",
    "*For example, the event \"even die roll\" is the set of outcomes {2, 4, 6}.*<br>\n",
    "__Probability:__ As Laplace said, the probability of an event with respect to a sample space is the number of favorable cases (outcomes from the sample space that are in the event) divided by the total number of cases in the sample space. (This assumes that all outcomes in the sample space are equally likely.) Since it is a ratio, probability will always be a number between 0 (representing an impossible event) and 1 (representing a certain event).<br>\n",
    "*For example, the probability of an even die roll is 3/6 = 1/2.*<br>\n",
    "\n",
    "__*From https://people.math.ethz.ch/~jteichma/probability.html*__"
   ]
  },
  {
   "cell_type": "code",
   "execution_count": 59,
   "metadata": {
    "collapsed": false
   },
   "outputs": [
   ],
   "source": [
    "import numpy as np\n",
    "import pandas as pd\n",
    "import matplotlib.pyplot as plt  "
   ]
  },
  {
   "cell_type": "markdown",
   "metadata": {
    "collapsed": false
   },
   "source": [
    "#### Example1: In a game of Russian Roulette, the chance of surviving each round is 5/6 which is almost 83%. Using a for loop, compute probability of surviving \n",
    "- For 2 rounds\n",
    "- For 5 rounds\n",
    "- For 10 rounds"
   ]
  },
  {
   "cell_type": "code",
   "execution_count": 60,
   "metadata": {
    "collapsed": false
   },
   "outputs": [
    {
     "data": {
      "text/html": [
       "<div>\n",
       "<style scoped>\n",
       "    .dataframe tbody tr th:only-of-type {\n",
       "        vertical-align: middle;\n",
       "    }\n",
       "\n",
       "    .dataframe tbody tr th {\n",
       "        vertical-align: top;\n",
       "    }\n",
       "\n",
       "    .dataframe thead th {\n",
       "        text-align: right;\n",
       "    }\n",
       "</style>\n",
       "<table border=\"1\" class=\"dataframe\">\n",
       "  <thead>\n",
       "    <tr style=\"text-align: right;\">\n",
       "      <th></th>\n",
       "      <th># of Rounds</th>\n",
       "      <th>Probability of Surviving</th>\n",
       "    </tr>\n",
       "  </thead>\n",
       "  <tbody>\n",
       "    <tr>\n",
       "      <th>0</th>\n",
       "      <td>0</td>\n",
       "      <td>1.000000</td>\n",
       "    </tr>\n",
       "    <tr>\n",
       "      <th>1</th>\n",
       "      <td>1</td>\n",
       "      <td>0.833333</td>\n",
       "    </tr>\n",
       "    <tr>\n",
       "      <th>2</th>\n",
       "      <td>2</td>\n",
       "      <td>0.694444</td>\n",
       "    </tr>\n",
       "  </tbody>\n",
       "</table>\n",
       "</div>"
      ],
      "text/plain": [
       "   # of Rounds  Probability of Surviving\n",
       "0            0                  1.000000\n",
       "1            1                  0.833333\n",
       "2            2                  0.694444"
      ]
     },
     "execution_count": 60,
     "metadata": {
     },
     "output_type": "execute_result"
    }
   ],
   "source": [
    "nrounds =[]\n",
    "probs =[]\n",
    "\n",
    "for i in range(3):\n",
    "    nrounds.append(i)\n",
    "    probs.append((5/6)**i) #probability of surviving- not getting the bullet!\n",
    "\n",
    "RRDF = pd.DataFrame({\"# of Rounds\": nrounds, \"Probability of Surviving\": probs})\n",
    "RRDF"
   ]
  },
  {
   "cell_type": "code",
   "execution_count": 61,
   "metadata": {
    "collapsed": false
   },
   "outputs": [
    {
     "data": {
      "text/html": [
       "<div>\n",
       "<style scoped>\n",
       "    .dataframe tbody tr th:only-of-type {\n",
       "        vertical-align: middle;\n",
       "    }\n",
       "\n",
       "    .dataframe tbody tr th {\n",
       "        vertical-align: top;\n",
       "    }\n",
       "\n",
       "    .dataframe thead th {\n",
       "        text-align: right;\n",
       "    }\n",
       "</style>\n",
       "<table border=\"1\" class=\"dataframe\">\n",
       "  <thead>\n",
       "    <tr style=\"text-align: right;\">\n",
       "      <th></th>\n",
       "      <th># of Rounds</th>\n",
       "      <th>Probability of Surviving</th>\n",
       "    </tr>\n",
       "  </thead>\n",
       "  <tbody>\n",
       "    <tr>\n",
       "      <th>0</th>\n",
       "      <td>0</td>\n",
       "      <td>1.000000</td>\n",
       "    </tr>\n",
       "    <tr>\n",
       "      <th>1</th>\n",
       "      <td>1</td>\n",
       "      <td>0.833333</td>\n",
       "    </tr>\n",
       "    <tr>\n",
       "      <th>2</th>\n",
       "      <td>2</td>\n",
       "      <td>0.694444</td>\n",
       "    </tr>\n",
       "    <tr>\n",
       "      <th>3</th>\n",
       "      <td>3</td>\n",
       "      <td>0.578704</td>\n",
       "    </tr>\n",
       "    <tr>\n",
       "      <th>4</th>\n",
       "      <td>4</td>\n",
       "      <td>0.482253</td>\n",
       "    </tr>\n",
       "    <tr>\n",
       "      <th>5</th>\n",
       "      <td>5</td>\n",
       "      <td>0.401878</td>\n",
       "    </tr>\n",
       "  </tbody>\n",
       "</table>\n",
       "</div>"
      ],
      "text/plain": [
       "   # of Rounds  Probability of Surviving\n",
       "0            0                  1.000000\n",
       "1            1                  0.833333\n",
       "2            2                  0.694444\n",
       "3            3                  0.578704\n",
       "4            4                  0.482253\n",
       "5            5                  0.401878"
      ]
     },
     "execution_count": 61,
     "metadata": {
     },
     "output_type": "execute_result"
    }
   ],
   "source": [
    "nrounds =[]\n",
    "probs =[]\n",
    "\n",
    "for i in range(6):\n",
    "    nrounds.append(i)\n",
    "    probs.append((5/6)**i) #probability of surviving- not getting the bullet!\n",
    "\n",
    "RRDF = pd.DataFrame({\"# of Rounds\": nrounds, \"Probability of Surviving\": probs})\n",
    "RRDF"
   ]
  },
  {
   "cell_type": "code",
   "execution_count": 62,
   "metadata": {
    "collapsed": false
   },
   "outputs": [
    {
     "data": {
      "text/html": [
       "<div>\n",
       "<style scoped>\n",
       "    .dataframe tbody tr th:only-of-type {\n",
       "        vertical-align: middle;\n",
       "    }\n",
       "\n",
       "    .dataframe tbody tr th {\n",
       "        vertical-align: top;\n",
       "    }\n",
       "\n",
       "    .dataframe thead th {\n",
       "        text-align: right;\n",
       "    }\n",
       "</style>\n",
       "<table border=\"1\" class=\"dataframe\">\n",
       "  <thead>\n",
       "    <tr style=\"text-align: right;\">\n",
       "      <th></th>\n",
       "      <th># of Rounds</th>\n",
       "      <th>Probability of Surviving</th>\n",
       "    </tr>\n",
       "  </thead>\n",
       "  <tbody>\n",
       "    <tr>\n",
       "      <th>0</th>\n",
       "      <td>0</td>\n",
       "      <td>1.000000</td>\n",
       "    </tr>\n",
       "    <tr>\n",
       "      <th>1</th>\n",
       "      <td>1</td>\n",
       "      <td>0.833333</td>\n",
       "    </tr>\n",
       "    <tr>\n",
       "      <th>2</th>\n",
       "      <td>2</td>\n",
       "      <td>0.694444</td>\n",
       "    </tr>\n",
       "    <tr>\n",
       "      <th>3</th>\n",
       "      <td>3</td>\n",
       "      <td>0.578704</td>\n",
       "    </tr>\n",
       "    <tr>\n",
       "      <th>4</th>\n",
       "      <td>4</td>\n",
       "      <td>0.482253</td>\n",
       "    </tr>\n",
       "    <tr>\n",
       "      <th>5</th>\n",
       "      <td>5</td>\n",
       "      <td>0.401878</td>\n",
       "    </tr>\n",
       "    <tr>\n",
       "      <th>6</th>\n",
       "      <td>6</td>\n",
       "      <td>0.334898</td>\n",
       "    </tr>\n",
       "    <tr>\n",
       "      <th>7</th>\n",
       "      <td>7</td>\n",
       "      <td>0.279082</td>\n",
       "    </tr>\n",
       "    <tr>\n",
       "      <th>8</th>\n",
       "      <td>8</td>\n",
       "      <td>0.232568</td>\n",
       "    </tr>\n",
       "    <tr>\n",
       "      <th>9</th>\n",
       "      <td>9</td>\n",
       "      <td>0.193807</td>\n",
       "    </tr>\n",
       "    <tr>\n",
       "      <th>10</th>\n",
       "      <td>10</td>\n",
       "      <td>0.161506</td>\n",
       "    </tr>\n",
       "  </tbody>\n",
       "</table>\n",
       "</div>"
      ],
      "text/plain": [
       "    # of Rounds  Probability of Surviving\n",
       "0             0                  1.000000\n",
       "1             1                  0.833333\n",
       "2             2                  0.694444\n",
       "3             3                  0.578704\n",
       "4             4                  0.482253\n",
       "5             5                  0.401878\n",
       "6             6                  0.334898\n",
       "7             7                  0.279082\n",
       "8             8                  0.232568\n",
       "9             9                  0.193807\n",
       "10           10                  0.161506"
      ]
     },
     "execution_count": 62,
     "metadata": {
     },
     "output_type": "execute_result"
    }
   ],
   "source": [
    "nrounds =[]\n",
    "probs =[]\n",
    "\n",
    "for i in range(11):\n",
    "    nrounds.append(i)\n",
    "    probs.append((5/6)**i) #probability of surviving- not getting the bullet!\n",
    "\n",
    "RRDF = pd.DataFrame({\"# of Rounds\": nrounds, \"Probability of Surviving\": probs})\n",
    "RRDF"
   ]
  },
  {
   "cell_type": "code",
   "execution_count": 63,
   "metadata": {
    "collapsed": false
   },
   "outputs": [
    {
     "data": {
      "text/plain": [
       "<AxesSubplot:xlabel='# of Rounds', ylabel='Probability of Surviving'>"
      ]
     },
     "execution_count": 63,
     "metadata": {
     },
     "output_type": "execute_result"
    },
    {
     "data": {
      "image/png": "[encoded data removed]",
      "text/plain": [
       "<Figure size 864x504 with 1 Axes>"
      ]
     },
     "execution_count": 63,
     "metadata": {
      "image/png": {
       "height": 424,
       "width": 720
      },
      "needs_background": "light"
     },
     "output_type": "execute_result"
    }
   ],
   "source": [
    "RRDF.plot.scatter(x=\"# of Rounds\", y=\"Probability of Surviving\",color=\"red\")"
   ]
  },
  {
   "cell_type": "markdown",
   "metadata": {
    "collapsed": false
   },
   "source": [
    "#### Example2: What will be the probability of constantly throwing an even number with a D20 in\n",
    "- For 2 rolls\n",
    "- For 5 rolls\n",
    "- For 10 rolls\n",
    "- For 15 rolls"
   ]
  },
  {
   "cell_type": "code",
   "execution_count": 5,
   "metadata": {
    "collapsed": false
   },
   "outputs": [
    {
     "data": {
      "text/html": [
       "<div>\n",
       "<style scoped>\n",
       "    .dataframe tbody tr th:only-of-type {\n",
       "        vertical-align: middle;\n",
       "    }\n",
       "\n",
       "    .dataframe tbody tr th {\n",
       "        vertical-align: top;\n",
       "    }\n",
       "\n",
       "    .dataframe thead th {\n",
       "        text-align: right;\n",
       "    }\n",
       "</style>\n",
       "<table border=\"1\" class=\"dataframe\">\n",
       "  <thead>\n",
       "    <tr style=\"text-align: right;\">\n",
       "      <th></th>\n",
       "      <th># of Rolls</th>\n",
       "      <th>Probability of constantly throwing an even number</th>\n",
       "    </tr>\n",
       "  </thead>\n",
       "  <tbody>\n",
       "    <tr>\n",
       "      <th>0</th>\n",
       "      <td>1</td>\n",
       "      <td>0.500000</td>\n",
       "    </tr>\n",
       "    <tr>\n",
       "      <th>1</th>\n",
       "      <td>2</td>\n",
       "      <td>0.250000</td>\n",
       "    </tr>\n",
       "    <tr>\n",
       "      <th>2</th>\n",
       "      <td>3</td>\n",
       "      <td>0.125000</td>\n",
       "    </tr>\n",
       "    <tr>\n",
       "      <th>3</th>\n",
       "      <td>4</td>\n",
       "      <td>0.062500</td>\n",
       "    </tr>\n",
       "    <tr>\n",
       "      <th>4</th>\n",
       "      <td>5</td>\n",
       "      <td>0.031250</td>\n",
       "    </tr>\n",
       "    <tr>\n",
       "      <th>5</th>\n",
       "      <td>6</td>\n",
       "      <td>0.015625</td>\n",
       "    </tr>\n",
       "    <tr>\n",
       "      <th>6</th>\n",
       "      <td>7</td>\n",
       "      <td>0.007812</td>\n",
       "    </tr>\n",
       "    <tr>\n",
       "      <th>7</th>\n",
       "      <td>8</td>\n",
       "      <td>0.003906</td>\n",
       "    </tr>\n",
       "    <tr>\n",
       "      <th>8</th>\n",
       "      <td>9</td>\n",
       "      <td>0.001953</td>\n",
       "    </tr>\n",
       "    <tr>\n",
       "      <th>9</th>\n",
       "      <td>10</td>\n",
       "      <td>0.000977</td>\n",
       "    </tr>\n",
       "    <tr>\n",
       "      <th>10</th>\n",
       "      <td>11</td>\n",
       "      <td>0.000488</td>\n",
       "    </tr>\n",
       "    <tr>\n",
       "      <th>11</th>\n",
       "      <td>12</td>\n",
       "      <td>0.000244</td>\n",
       "    </tr>\n",
       "    <tr>\n",
       "      <th>12</th>\n",
       "      <td>13</td>\n",
       "      <td>0.000122</td>\n",
       "    </tr>\n",
       "    <tr>\n",
       "      <th>13</th>\n",
       "      <td>14</td>\n",
       "      <td>0.000061</td>\n",
       "    </tr>\n",
       "    <tr>\n",
       "      <th>14</th>\n",
       "      <td>15</td>\n",
       "      <td>0.000031</td>\n",
       "    </tr>\n",
       "  </tbody>\n",
       "</table>\n",
       "</div>"
      ],
      "text/plain": [
       "    # of Rolls  Probability of constantly throwing an even number\n",
       "0            1                                           0.500000\n",
       "1            2                                           0.250000\n",
       "2            3                                           0.125000\n",
       "3            4                                           0.062500\n",
       "4            5                                           0.031250\n",
       "5            6                                           0.015625\n",
       "6            7                                           0.007812\n",
       "7            8                                           0.003906\n",
       "8            9                                           0.001953\n",
       "9           10                                           0.000977\n",
       "10          11                                           0.000488\n",
       "11          12                                           0.000244\n",
       "12          13                                           0.000122\n",
       "13          14                                           0.000061\n",
       "14          15                                           0.000031"
      ]
     },
     "execution_count": 5,
     "metadata": {
     },
     "output_type": "execute_result"
    }
   ],
   "source": [
    "nrolls =[]\n",
    "probs =[]\n",
    "\n",
    "for i in range(1,16,1):\n",
    "    nrolls.append(i)\n",
    "    probs.append((1/2)**i) #probability of throwing an even number-10/20 or 1/2\n",
    "\n",
    "DRDF = pd.DataFrame({\"# of Rolls\": nrolls, \"Probability of constantly throwing an even number\": probs})\n",
    "DRDF"
   ]
  },
  {
   "cell_type": "code",
   "execution_count": 6,
   "metadata": {
    "collapsed": false
   },
   "outputs": [
    {
     "data": {
      "text/plain": [
       "<AxesSubplot:xlabel='# of Rolls', ylabel='Probability of constantly throwing an even number'>"
      ]
     },
     "execution_count": 6,
     "metadata": {
     },
     "output_type": "execute_result"
    },
    {
     "data": {
      "image/png": "[encoded data removed]",
      "text/plain": [
       "<Figure size 864x504 with 1 Axes>"
      ]
     },
     "execution_count": 6,
     "metadata": {
      "image/png": {
       "height": 424,
       "width": 720
      },
      "needs_background": "light"
     },
     "output_type": "execute_result"
    }
   ],
   "source": [
    "DRDF.plot.scatter(x=\"# of Rolls\", y=\"Probability of constantly throwing an even number\",color=\"crimson\")"
   ]
  },
  {
   "cell_type": "markdown",
   "metadata": {
    "collapsed": false
   },
   "source": [
    "#### Exercise 1: What will be the probability of throwing a perfect 20 with a D20:\n",
    "- For 2 rolls\n",
    "- For 5 rolls\n",
    "- For 10 rolls\n"
   ]
  },
  {
   "cell_type": "code",
   "execution_count": 64,
   "metadata": {
    "collapsed": false
   },
   "outputs": [
    {
     "data": {
      "text/html": [
       "<div>\n",
       "<style scoped>\n",
       "    .dataframe tbody tr th:only-of-type {\n",
       "        vertical-align: middle;\n",
       "    }\n",
       "\n",
       "    .dataframe tbody tr th {\n",
       "        vertical-align: top;\n",
       "    }\n",
       "\n",
       "    .dataframe thead th {\n",
       "        text-align: right;\n",
       "    }\n",
       "</style>\n",
       "<table border=\"1\" class=\"dataframe\">\n",
       "  <thead>\n",
       "    <tr style=\"text-align: right;\">\n",
       "      <th></th>\n",
       "      <th># of Rolls</th>\n",
       "      <th>Probability of throwing perfect 20s</th>\n",
       "    </tr>\n",
       "  </thead>\n",
       "  <tbody>\n",
       "    <tr>\n",
       "      <th>0</th>\n",
       "      <td>1</td>\n",
       "      <td>0.0500</td>\n",
       "    </tr>\n",
       "    <tr>\n",
       "      <th>1</th>\n",
       "      <td>2</td>\n",
       "      <td>0.0025</td>\n",
       "    </tr>\n",
       "  </tbody>\n",
       "</table>\n",
       "</div>"
      ],
      "text/plain": [
       "   # of Rolls  Probability of throwing perfect 20s\n",
       "0           1                               0.0500\n",
       "1           2                               0.0025"
      ]
     },
     "execution_count": 64,
     "metadata": {
     },
     "output_type": "execute_result"
    }
   ],
   "source": [
    "nrolls =[]\n",
    "probs =[]\n",
    "\n",
    "for i in range(1,3,1):\n",
    "    nrolls.append(i)\n",
    "    probs.append((1/20)**i) #probability of throwing a perfect 20-1/20\n",
    "\n",
    "DRDF = pd.DataFrame({\"# of Rolls\": nrolls, \"Probability of throwing perfect 20s\": probs})\n",
    "DRDF"
   ]
  },
  {
   "cell_type": "code",
   "execution_count": 65,
   "metadata": {
    "collapsed": false
   },
   "outputs": [
    {
     "data": {
      "text/html": [
       "<div>\n",
       "<style scoped>\n",
       "    .dataframe tbody tr th:only-of-type {\n",
       "        vertical-align: middle;\n",
       "    }\n",
       "\n",
       "    .dataframe tbody tr th {\n",
       "        vertical-align: top;\n",
       "    }\n",
       "\n",
       "    .dataframe thead th {\n",
       "        text-align: right;\n",
       "    }\n",
       "</style>\n",
       "<table border=\"1\" class=\"dataframe\">\n",
       "  <thead>\n",
       "    <tr style=\"text-align: right;\">\n",
       "      <th></th>\n",
       "      <th># of Rolls</th>\n",
       "      <th>Probability of throwing perfect 20s</th>\n",
       "    </tr>\n",
       "  </thead>\n",
       "  <tbody>\n",
       "    <tr>\n",
       "      <th>0</th>\n",
       "      <td>1</td>\n",
       "      <td>5.000000e-02</td>\n",
       "    </tr>\n",
       "    <tr>\n",
       "      <th>1</th>\n",
       "      <td>2</td>\n",
       "      <td>2.500000e-03</td>\n",
       "    </tr>\n",
       "    <tr>\n",
       "      <th>2</th>\n",
       "      <td>3</td>\n",
       "      <td>1.250000e-04</td>\n",
       "    </tr>\n",
       "    <tr>\n",
       "      <th>3</th>\n",
       "      <td>4</td>\n",
       "      <td>6.250000e-06</td>\n",
       "    </tr>\n",
       "    <tr>\n",
       "      <th>4</th>\n",
       "      <td>5</td>\n",
       "      <td>3.125000e-07</td>\n",
       "    </tr>\n",
       "  </tbody>\n",
       "</table>\n",
       "</div>"
      ],
      "text/plain": [
       "   # of Rolls  Probability of throwing perfect 20s\n",
       "0           1                         5.000000e-02\n",
       "1           2                         2.500000e-03\n",
       "2           3                         1.250000e-04\n",
       "3           4                         6.250000e-06\n",
       "4           5                         3.125000e-07"
      ]
     },
     "execution_count": 65,
     "metadata": {
     },
     "output_type": "execute_result"
    }
   ],
   "source": [
    "nrolls =[]\n",
    "probs =[]\n",
    "\n",
    "for i in range(1,6,1):\n",
    "    nrolls.append(i)\n",
    "    probs.append((1/20)**i) #probability of throwing a perfect 20-1/20\n",
    "\n",
    "DRDF = pd.DataFrame({\"# of Rolls\": nrolls, \"Probability of throwing perfect 20s\": probs})\n",
    "DRDF"
   ]
  },
  {
   "cell_type": "code",
   "execution_count": 66,
   "metadata": {
    "collapsed": false
   },
   "outputs": [
    {
     "data": {
      "text/html": [
       "<div>\n",
       "<style scoped>\n",
       "    .dataframe tbody tr th:only-of-type {\n",
       "        vertical-align: middle;\n",
       "    }\n",
       "\n",
       "    .dataframe tbody tr th {\n",
       "        vertical-align: top;\n",
       "    }\n",
       "\n",
       "    .dataframe thead th {\n",
       "        text-align: right;\n",
       "    }\n",
       "</style>\n",
       "<table border=\"1\" class=\"dataframe\">\n",
       "  <thead>\n",
       "    <tr style=\"text-align: right;\">\n",
       "      <th></th>\n",
       "      <th># of Rolls</th>\n",
       "      <th>Probability of throwing perfect 20s</th>\n",
       "    </tr>\n",
       "  </thead>\n",
       "  <tbody>\n",
       "    <tr>\n",
       "      <th>0</th>\n",
       "      <td>1</td>\n",
       "      <td>5.000000e-02</td>\n",
       "    </tr>\n",
       "    <tr>\n",
       "      <th>1</th>\n",
       "      <td>2</td>\n",
       "      <td>2.500000e-03</td>\n",
       "    </tr>\n",
       "    <tr>\n",
       "      <th>2</th>\n",
       "      <td>3</td>\n",
       "      <td>1.250000e-04</td>\n",
       "    </tr>\n",
       "    <tr>\n",
       "      <th>3</th>\n",
       "      <td>4</td>\n",
       "      <td>6.250000e-06</td>\n",
       "    </tr>\n",
       "    <tr>\n",
       "      <th>4</th>\n",
       "      <td>5</td>\n",
       "      <td>3.125000e-07</td>\n",
       "    </tr>\n",
       "    <tr>\n",
       "      <th>5</th>\n",
       "      <td>6</td>\n",
       "      <td>1.562500e-08</td>\n",
       "    </tr>\n",
       "    <tr>\n",
       "      <th>6</th>\n",
       "      <td>7</td>\n",
       "      <td>7.812500e-10</td>\n",
       "    </tr>\n",
       "    <tr>\n",
       "      <th>7</th>\n",
       "      <td>8</td>\n",
       "      <td>3.906250e-11</td>\n",
       "    </tr>\n",
       "    <tr>\n",
       "      <th>8</th>\n",
       "      <td>9</td>\n",
       "      <td>1.953125e-12</td>\n",
       "    </tr>\n",
       "    <tr>\n",
       "      <th>9</th>\n",
       "      <td>10</td>\n",
       "      <td>9.765625e-14</td>\n",
       "    </tr>\n",
       "  </tbody>\n",
       "</table>\n",
       "</div>"
      ],
      "text/plain": [
       "   # of Rolls  Probability of throwing perfect 20s\n",
       "0           1                         5.000000e-02\n",
       "1           2                         2.500000e-03\n",
       "2           3                         1.250000e-04\n",
       "3           4                         6.250000e-06\n",
       "4           5                         3.125000e-07\n",
       "5           6                         1.562500e-08\n",
       "6           7                         7.812500e-10\n",
       "7           8                         3.906250e-11\n",
       "8           9                         1.953125e-12\n",
       "9          10                         9.765625e-14"
      ]
     },
     "execution_count": 66,
     "metadata": {
     },
     "output_type": "execute_result"
    }
   ],
   "source": [
    "nrolls =[]\n",
    "probs =[]\n",
    "\n",
    "for i in range(1,11,1):\n",
    "    nrolls.append(i)\n",
    "    probs.append((1/20)**i) #probability of throwing a perfect 20-1/20\n",
    "\n",
    "DRDF = pd.DataFrame({\"# of Rolls\": nrolls, \"Probability of throwing perfect 20s\": probs})\n",
    "DRDF"
   ]
  },
  {
   "cell_type": "markdown",
   "metadata": {
    "collapsed": false
   },
   "source": [
    "#### Example3: What will be the probability of throwing at least one 6 with a D6:\n",
    "- For 2 rolls\n",
    "- For 5 rolls\n",
    "- For 10 rolls\n",
    "- For 50 rolls - Make a scatter plot for this one!"
   ]
  },
  {
   "cell_type": "code",
   "execution_count": 69,
   "metadata": {
    "collapsed": false
   },
   "outputs": [
    {
     "data": {
      "text/html": [
       "<div>\n",
       "<style scoped>\n",
       "    .dataframe tbody tr th:only-of-type {\n",
       "        vertical-align: middle;\n",
       "    }\n",
       "\n",
       "    .dataframe tbody tr th {\n",
       "        vertical-align: top;\n",
       "    }\n",
       "\n",
       "    .dataframe thead th {\n",
       "        text-align: right;\n",
       "    }\n",
       "</style>\n",
       "<table border=\"1\" class=\"dataframe\">\n",
       "  <thead>\n",
       "    <tr style=\"text-align: right;\">\n",
       "      <th></th>\n",
       "      <th># of Rolls</th>\n",
       "      <th>Probability of rolling at least one 6</th>\n",
       "    </tr>\n",
       "  </thead>\n",
       "  <tbody>\n",
       "    <tr>\n",
       "      <th>0</th>\n",
       "      <td>1</td>\n",
       "      <td>0.166667</td>\n",
       "    </tr>\n",
       "    <tr>\n",
       "      <th>1</th>\n",
       "      <td>2</td>\n",
       "      <td>0.305556</td>\n",
       "    </tr>\n",
       "  </tbody>\n",
       "</table>\n",
       "</div>"
      ],
      "text/plain": [
       "   # of Rolls  Probability of rolling at least one 6\n",
       "0           1                               0.166667\n",
       "1           2                               0.305556"
      ]
     },
     "execution_count": 69,
     "metadata": {
     },
     "output_type": "execute_result"
    }
   ],
   "source": [
    "nRolls =[]\n",
    "probs =[]\n",
    "\n",
    "for i in range(1,3,1):\n",
    "    nRolls.append(i)\n",
    "    probs.append(1-(5/6)**i) #probability of at least one 6: 1-(5/6)\n",
    "\n",
    "rollsDF = pd.DataFrame({\"# of Rolls\": nRolls, \"Probability of rolling at least one 6\": probs})\n",
    "rollsDF"
   ]
  },
  {
   "cell_type": "code",
   "execution_count": 71,
   "metadata": {
    "collapsed": false
   },
   "outputs": [
    {
     "data": {
      "text/html": [
       "<div>\n",
       "<style scoped>\n",
       "    .dataframe tbody tr th:only-of-type {\n",
       "        vertical-align: middle;\n",
       "    }\n",
       "\n",
       "    .dataframe tbody tr th {\n",
       "        vertical-align: top;\n",
       "    }\n",
       "\n",
       "    .dataframe thead th {\n",
       "        text-align: right;\n",
       "    }\n",
       "</style>\n",
       "<table border=\"1\" class=\"dataframe\">\n",
       "  <thead>\n",
       "    <tr style=\"text-align: right;\">\n",
       "      <th></th>\n",
       "      <th># of Rolls</th>\n",
       "      <th>Probability of rolling at least one 6</th>\n",
       "    </tr>\n",
       "  </thead>\n",
       "  <tbody>\n",
       "    <tr>\n",
       "      <th>0</th>\n",
       "      <td>1</td>\n",
       "      <td>0.166667</td>\n",
       "    </tr>\n",
       "    <tr>\n",
       "      <th>1</th>\n",
       "      <td>2</td>\n",
       "      <td>0.305556</td>\n",
       "    </tr>\n",
       "    <tr>\n",
       "      <th>2</th>\n",
       "      <td>3</td>\n",
       "      <td>0.421296</td>\n",
       "    </tr>\n",
       "    <tr>\n",
       "      <th>3</th>\n",
       "      <td>4</td>\n",
       "      <td>0.517747</td>\n",
       "    </tr>\n",
       "    <tr>\n",
       "      <th>4</th>\n",
       "      <td>5</td>\n",
       "      <td>0.598122</td>\n",
       "    </tr>\n",
       "  </tbody>\n",
       "</table>\n",
       "</div>"
      ],
      "text/plain": [
       "   # of Rolls  Probability of rolling at least one 6\n",
       "0           1                               0.166667\n",
       "1           2                               0.305556\n",
       "2           3                               0.421296\n",
       "3           4                               0.517747\n",
       "4           5                               0.598122"
      ]
     },
     "execution_count": 71,
     "metadata": {
     },
     "output_type": "execute_result"
    }
   ],
   "source": [
    "nRolls =[]\n",
    "probs =[]\n",
    "\n",
    "for i in range(1,6,1):\n",
    "    nRolls.append(i)\n",
    "    probs.append(1-(5/6)**i) #probability of at least one 6: 1-(5/6)\n",
    "\n",
    "rollsDF = pd.DataFrame({\"# of Rolls\": nRolls, \"Probability of rolling at least one 6\": probs})\n",
    "rollsDF"
   ]
  },
  {
   "cell_type": "code",
   "execution_count": 72,
   "metadata": {
    "collapsed": false
   },
   "outputs": [
    {
     "data": {
      "text/html": [
       "<div>\n",
       "<style scoped>\n",
       "    .dataframe tbody tr th:only-of-type {\n",
       "        vertical-align: middle;\n",
       "    }\n",
       "\n",
       "    .dataframe tbody tr th {\n",
       "        vertical-align: top;\n",
       "    }\n",
       "\n",
       "    .dataframe thead th {\n",
       "        text-align: right;\n",
       "    }\n",
       "</style>\n",
       "<table border=\"1\" class=\"dataframe\">\n",
       "  <thead>\n",
       "    <tr style=\"text-align: right;\">\n",
       "      <th></th>\n",
       "      <th># of Rolls</th>\n",
       "      <th>Probability of rolling at least one 6</th>\n",
       "    </tr>\n",
       "  </thead>\n",
       "  <tbody>\n",
       "    <tr>\n",
       "      <th>0</th>\n",
       "      <td>1</td>\n",
       "      <td>0.166667</td>\n",
       "    </tr>\n",
       "    <tr>\n",
       "      <th>1</th>\n",
       "      <td>2</td>\n",
       "      <td>0.305556</td>\n",
       "    </tr>\n",
       "    <tr>\n",
       "      <th>2</th>\n",
       "      <td>3</td>\n",
       "      <td>0.421296</td>\n",
       "    </tr>\n",
       "    <tr>\n",
       "      <th>3</th>\n",
       "      <td>4</td>\n",
       "      <td>0.517747</td>\n",
       "    </tr>\n",
       "    <tr>\n",
       "      <th>4</th>\n",
       "      <td>5</td>\n",
       "      <td>0.598122</td>\n",
       "    </tr>\n",
       "    <tr>\n",
       "      <th>5</th>\n",
       "      <td>6</td>\n",
       "      <td>0.665102</td>\n",
       "    </tr>\n",
       "    <tr>\n",
       "      <th>6</th>\n",
       "      <td>7</td>\n",
       "      <td>0.720918</td>\n",
       "    </tr>\n",
       "    <tr>\n",
       "      <th>7</th>\n",
       "      <td>8</td>\n",
       "      <td>0.767432</td>\n",
       "    </tr>\n",
       "    <tr>\n",
       "      <th>8</th>\n",
       "      <td>9</td>\n",
       "      <td>0.806193</td>\n",
       "    </tr>\n",
       "    <tr>\n",
       "      <th>9</th>\n",
       "      <td>10</td>\n",
       "      <td>0.838494</td>\n",
       "    </tr>\n",
       "  </tbody>\n",
       "</table>\n",
       "</div>"
      ],
      "text/plain": [
       "   # of Rolls  Probability of rolling at least one 6\n",
       "0           1                               0.166667\n",
       "1           2                               0.305556\n",
       "2           3                               0.421296\n",
       "3           4                               0.517747\n",
       "4           5                               0.598122\n",
       "5           6                               0.665102\n",
       "6           7                               0.720918\n",
       "7           8                               0.767432\n",
       "8           9                               0.806193\n",
       "9          10                               0.838494"
      ]
     },
     "execution_count": 72,
     "metadata": {
     },
     "output_type": "execute_result"
    }
   ],
   "source": [
    "nRolls =[]\n",
    "probs =[]\n",
    "\n",
    "for i in range(1,11,1):\n",
    "    nRolls.append(i)\n",
    "    probs.append(1-(5/6)**i) #probability of at least one 6: 1-(5/6)\n",
    "\n",
    "rollsDF = pd.DataFrame({\"# of Rolls\": nRolls, \"Probability of rolling at least one 6\": probs})\n",
    "rollsDF"
   ]
  },
  {
   "cell_type": "code",
   "execution_count": 73,
   "metadata": {
    "collapsed": false
   },
   "outputs": [
   ],
   "source": [
    "nRolls =[]\n",
    "probs =[]\n",
    "\n",
    "for i in range(1,51,1):\n",
    "    nRolls.append(i)\n",
    "    probs.append(1-(5/6)**i) #probability of at least one 6: 1-(5/6)\n",
    "\n",
    "rollsDF = pd.DataFrame({\"# of Rolls\": nRolls, \"Probability of rolling at least one 6\": probs})"
   ]
  },
  {
   "cell_type": "code",
   "execution_count": 74,
   "metadata": {
    "collapsed": false
   },
   "outputs": [
    {
     "data": {
      "text/plain": [
       "<AxesSubplot:xlabel='# of Rolls', ylabel='Probability of rolling at least one 6'>"
      ]
     },
     "execution_count": 74,
     "metadata": {
     },
     "output_type": "execute_result"
    },
    {
     "data": {
      "image/png": "[encoded data removed]",
      "text/plain": [
       "<Figure size 864x504 with 1 Axes>"
      ]
     },
     "execution_count": 74,
     "metadata": {
      "image/png": {
       "height": 424,
       "width": 720
      },
      "needs_background": "light"
     },
     "output_type": "execute_result"
    }
   ],
   "source": [
    "rollsDF.plot.scatter(x=\"# of Rolls\", y=\"Probability of rolling at least one 6\")"
   ]
  },
  {
   "cell_type": "markdown",
   "metadata": {
    "collapsed": false
   },
   "source": [
    "#### Exercise 2: What will be the probability of throwing at least one perfect 20 with a D20:\n",
    "- For 2 rolls\n",
    "- For 5 rolls\n",
    "- For 10 rolls\n",
    "- For 50 rolls - Make a scatter plot for this one!"
   ]
  },
  {
   "cell_type": "code",
   "execution_count": 75,
   "metadata": {
    "collapsed": false
   },
   "outputs": [
    {
     "data": {
      "text/html": [
       "<div>\n",
       "<style scoped>\n",
       "    .dataframe tbody tr th:only-of-type {\n",
       "        vertical-align: middle;\n",
       "    }\n",
       "\n",
       "    .dataframe tbody tr th {\n",
       "        vertical-align: top;\n",
       "    }\n",
       "\n",
       "    .dataframe thead th {\n",
       "        text-align: right;\n",
       "    }\n",
       "</style>\n",
       "<table border=\"1\" class=\"dataframe\">\n",
       "  <thead>\n",
       "    <tr style=\"text-align: right;\">\n",
       "      <th></th>\n",
       "      <th># of Rolls</th>\n",
       "      <th>Probability of throwing at least one perfect 20</th>\n",
       "    </tr>\n",
       "  </thead>\n",
       "  <tbody>\n",
       "    <tr>\n",
       "      <th>0</th>\n",
       "      <td>1</td>\n",
       "      <td>0.0500</td>\n",
       "    </tr>\n",
       "    <tr>\n",
       "      <th>1</th>\n",
       "      <td>2</td>\n",
       "      <td>0.0975</td>\n",
       "    </tr>\n",
       "  </tbody>\n",
       "</table>\n",
       "</div>"
      ],
      "text/plain": [
       "   # of Rolls  Probability of throwing at least one perfect 20\n",
       "0           1                                           0.0500\n",
       "1           2                                           0.0975"
      ]
     },
     "execution_count": 75,
     "metadata": {
     },
     "output_type": "execute_result"
    }
   ],
   "source": [
    "nrolls =[]\n",
    "probs =[]\n",
    "\n",
    "for i in range(1,3,1):\n",
    "    nrolls.append(i)\n",
    "    probs.append(1-(19/20)**i) #probability of throwing at least one perfect 20-1 - 19/20\n",
    "\n",
    "DRDF = pd.DataFrame({\"# of Rolls\": nrolls, \"Probability of throwing at least one perfect 20\": probs})\n",
    "DRDF.head()"
   ]
  },
  {
   "cell_type": "code",
   "execution_count": 76,
   "metadata": {
    "collapsed": false
   },
   "outputs": [
    {
     "data": {
      "text/html": [
       "<div>\n",
       "<style scoped>\n",
       "    .dataframe tbody tr th:only-of-type {\n",
       "        vertical-align: middle;\n",
       "    }\n",
       "\n",
       "    .dataframe tbody tr th {\n",
       "        vertical-align: top;\n",
       "    }\n",
       "\n",
       "    .dataframe thead th {\n",
       "        text-align: right;\n",
       "    }\n",
       "</style>\n",
       "<table border=\"1\" class=\"dataframe\">\n",
       "  <thead>\n",
       "    <tr style=\"text-align: right;\">\n",
       "      <th></th>\n",
       "      <th># of Rolls</th>\n",
       "      <th>Probability of throwing at least one perfect 20</th>\n",
       "    </tr>\n",
       "  </thead>\n",
       "  <tbody>\n",
       "    <tr>\n",
       "      <th>0</th>\n",
       "      <td>1</td>\n",
       "      <td>0.050000</td>\n",
       "    </tr>\n",
       "    <tr>\n",
       "      <th>1</th>\n",
       "      <td>2</td>\n",
       "      <td>0.097500</td>\n",
       "    </tr>\n",
       "    <tr>\n",
       "      <th>2</th>\n",
       "      <td>3</td>\n",
       "      <td>0.142625</td>\n",
       "    </tr>\n",
       "    <tr>\n",
       "      <th>3</th>\n",
       "      <td>4</td>\n",
       "      <td>0.185494</td>\n",
       "    </tr>\n",
       "    <tr>\n",
       "      <th>4</th>\n",
       "      <td>5</td>\n",
       "      <td>0.226219</td>\n",
       "    </tr>\n",
       "  </tbody>\n",
       "</table>\n",
       "</div>"
      ],
      "text/plain": [
       "   # of Rolls  Probability of throwing at least one perfect 20\n",
       "0           1                                         0.050000\n",
       "1           2                                         0.097500\n",
       "2           3                                         0.142625\n",
       "3           4                                         0.185494\n",
       "4           5                                         0.226219"
      ]
     },
     "execution_count": 76,
     "metadata": {
     },
     "output_type": "execute_result"
    }
   ],
   "source": [
    "nrolls =[]\n",
    "probs =[]\n",
    "\n",
    "for i in range(1,6,1):\n",
    "    nrolls.append(i)\n",
    "    probs.append(1-(19/20)**i) #probability of throwing at least one perfect 20-1 - 19/20\n",
    "\n",
    "DRDF = pd.DataFrame({\"# of Rolls\": nrolls, \"Probability of throwing at least one perfect 20\": probs})\n",
    "DRDF.head()"
   ]
  },
  {
   "cell_type": "code",
   "execution_count": 77,
   "metadata": {
    "collapsed": false
   },
   "outputs": [
    {
     "data": {
      "text/html": [
       "<div>\n",
       "<style scoped>\n",
       "    .dataframe tbody tr th:only-of-type {\n",
       "        vertical-align: middle;\n",
       "    }\n",
       "\n",
       "    .dataframe tbody tr th {\n",
       "        vertical-align: top;\n",
       "    }\n",
       "\n",
       "    .dataframe thead th {\n",
       "        text-align: right;\n",
       "    }\n",
       "</style>\n",
       "<table border=\"1\" class=\"dataframe\">\n",
       "  <thead>\n",
       "    <tr style=\"text-align: right;\">\n",
       "      <th></th>\n",
       "      <th># of Rolls</th>\n",
       "      <th>Probability of throwing at least one perfect 20</th>\n",
       "    </tr>\n",
       "  </thead>\n",
       "  <tbody>\n",
       "    <tr>\n",
       "      <th>0</th>\n",
       "      <td>1</td>\n",
       "      <td>0.050000</td>\n",
       "    </tr>\n",
       "    <tr>\n",
       "      <th>1</th>\n",
       "      <td>2</td>\n",
       "      <td>0.097500</td>\n",
       "    </tr>\n",
       "    <tr>\n",
       "      <th>2</th>\n",
       "      <td>3</td>\n",
       "      <td>0.142625</td>\n",
       "    </tr>\n",
       "    <tr>\n",
       "      <th>3</th>\n",
       "      <td>4</td>\n",
       "      <td>0.185494</td>\n",
       "    </tr>\n",
       "    <tr>\n",
       "      <th>4</th>\n",
       "      <td>5</td>\n",
       "      <td>0.226219</td>\n",
       "    </tr>\n",
       "  </tbody>\n",
       "</table>\n",
       "</div>"
      ],
      "text/plain": [
       "   # of Rolls  Probability of throwing at least one perfect 20\n",
       "0           1                                         0.050000\n",
       "1           2                                         0.097500\n",
       "2           3                                         0.142625\n",
       "3           4                                         0.185494\n",
       "4           5                                         0.226219"
      ]
     },
     "execution_count": 77,
     "metadata": {
     },
     "output_type": "execute_result"
    }
   ],
   "source": [
    "nrolls =[]\n",
    "probs =[]\n",
    "\n",
    "for i in range(1,11,1):\n",
    "    nrolls.append(i)\n",
    "    probs.append(1-(19/20)**i) #probability of throwing at least one perfect 20-1 - 19/20\n",
    "\n",
    "DRDF = pd.DataFrame({\"# of Rolls\": nrolls, \"Probability of throwing at least one perfect 20\": probs})\n",
    "DRDF.head()"
   ]
  },
  {
   "cell_type": "code",
   "execution_count": 78,
   "metadata": {
    "collapsed": false
   },
   "outputs": [
    {
     "data": {
      "text/html": [
       "<div>\n",
       "<style scoped>\n",
       "    .dataframe tbody tr th:only-of-type {\n",
       "        vertical-align: middle;\n",
       "    }\n",
       "\n",
       "    .dataframe tbody tr th {\n",
       "        vertical-align: top;\n",
       "    }\n",
       "\n",
       "    .dataframe thead th {\n",
       "        text-align: right;\n",
       "    }\n",
       "</style>\n",
       "<table border=\"1\" class=\"dataframe\">\n",
       "  <thead>\n",
       "    <tr style=\"text-align: right;\">\n",
       "      <th></th>\n",
       "      <th># of Rolls</th>\n",
       "      <th>Probability of throwing at least one perfect 20</th>\n",
       "    </tr>\n",
       "  </thead>\n",
       "  <tbody>\n",
       "    <tr>\n",
       "      <th>0</th>\n",
       "      <td>1</td>\n",
       "      <td>0.050000</td>\n",
       "    </tr>\n",
       "    <tr>\n",
       "      <th>1</th>\n",
       "      <td>2</td>\n",
       "      <td>0.097500</td>\n",
       "    </tr>\n",
       "    <tr>\n",
       "      <th>2</th>\n",
       "      <td>3</td>\n",
       "      <td>0.142625</td>\n",
       "    </tr>\n",
       "    <tr>\n",
       "      <th>3</th>\n",
       "      <td>4</td>\n",
       "      <td>0.185494</td>\n",
       "    </tr>\n",
       "    <tr>\n",
       "      <th>4</th>\n",
       "      <td>5</td>\n",
       "      <td>0.226219</td>\n",
       "    </tr>\n",
       "  </tbody>\n",
       "</table>\n",
       "</div>"
      ],
      "text/plain": [
       "   # of Rolls  Probability of throwing at least one perfect 20\n",
       "0           1                                         0.050000\n",
       "1           2                                         0.097500\n",
       "2           3                                         0.142625\n",
       "3           4                                         0.185494\n",
       "4           5                                         0.226219"
      ]
     },
     "execution_count": 78,
     "metadata": {
     },
     "output_type": "execute_result"
    }
   ],
   "source": [
    "nrolls =[]\n",
    "probs =[]\n",
    "\n",
    "for i in range(1,51,1):\n",
    "    nrolls.append(i)\n",
    "    probs.append(1-(19/20)**i) #probability of throwing at least one perfect 20-1 - 19/20\n",
    "\n",
    "DRDF = pd.DataFrame({\"# of Rolls\": nrolls, \"Probability of throwing at least one perfect 20\": probs})\n",
    "DRDF.head()"
   ]
  },
  {
   "cell_type": "code",
   "execution_count": 9,
   "metadata": {
    "collapsed": false
   },
   "outputs": [
    {
     "data": {
      "text/plain": [
       "<AxesSubplot:xlabel='# of Rolls', ylabel='Probability of throwing at least one perfect 20'>"
      ]
     },
     "execution_count": 9,
     "metadata": {
     },
     "output_type": "execute_result"
    },
    {
     "data": {
      "image/png": "[encoded data removed]",
      "text/plain": [
       "<Figure size 864x504 with 1 Axes>"
      ]
     },
     "execution_count": 9,
     "metadata": {
      "image/png": {
       "height": 424,
       "width": 720
      },
      "needs_background": "light"
     },
     "output_type": "execute_result"
    }
   ],
   "source": [
    "DRDF.plot.scatter(x=\"# of Rolls\", y=\"Probability of throwing at least one perfect 20\")"
   ]
  },
  {
   "cell_type": "markdown",
   "metadata": {
    "collapsed": false
   },
   "source": [
    "#### Exercise 3: What is the probability of drawing an ace at least once (with replacement):\n",
    "- in 2 tries\n",
    "- in 5 tries\n",
    "- in 10 tries\n",
    "- in 20 tries - make a scatter plot.\n"
   ]
  },
  {
   "cell_type": "code",
   "execution_count": 79,
   "metadata": {
    "collapsed": false
   },
   "outputs": [
    {
     "data": {
      "text/html": [
       "<div>\n",
       "<style scoped>\n",
       "    .dataframe tbody tr th:only-of-type {\n",
       "        vertical-align: middle;\n",
       "    }\n",
       "\n",
       "    .dataframe tbody tr th {\n",
       "        vertical-align: top;\n",
       "    }\n",
       "\n",
       "    .dataframe thead th {\n",
       "        text-align: right;\n",
       "    }\n",
       "</style>\n",
       "<table border=\"1\" class=\"dataframe\">\n",
       "  <thead>\n",
       "    <tr style=\"text-align: right;\">\n",
       "      <th></th>\n",
       "      <th># of Draws</th>\n",
       "      <th>Probability of drawing an ace at least once</th>\n",
       "    </tr>\n",
       "  </thead>\n",
       "  <tbody>\n",
       "    <tr>\n",
       "      <th>0</th>\n",
       "      <td>1</td>\n",
       "      <td>0.076923</td>\n",
       "    </tr>\n",
       "    <tr>\n",
       "      <th>1</th>\n",
       "      <td>2</td>\n",
       "      <td>0.147929</td>\n",
       "    </tr>\n",
       "  </tbody>\n",
       "</table>\n",
       "</div>"
      ],
      "text/plain": [
       "   # of Draws  Probability of drawing an ace at least once\n",
       "0           1                                     0.076923\n",
       "1           2                                     0.147929"
      ]
     },
     "execution_count": 79,
     "metadata": {
     },
     "output_type": "execute_result"
    }
   ],
   "source": [
    "nDraws =[]\n",
    "probs =[]\n",
    "\n",
    "for i in range(1,3,1):\n",
    "    nDraws.append(i)\n",
    "    probs.append(1-(48/52)**i) #probability of drawing an ace least once : 1-(48/52)\n",
    "\n",
    "DrawsDF = pd.DataFrame({\"# of Draws\": nDraws, \"Probability of drawing an ace at least once\": probs})\n",
    "DrawsDF"
   ]
  },
  {
   "cell_type": "code",
   "execution_count": 80,
   "metadata": {
    "collapsed": false
   },
   "outputs": [
    {
     "data": {
      "text/html": [
       "<div>\n",
       "<style scoped>\n",
       "    .dataframe tbody tr th:only-of-type {\n",
       "        vertical-align: middle;\n",
       "    }\n",
       "\n",
       "    .dataframe tbody tr th {\n",
       "        vertical-align: top;\n",
       "    }\n",
       "\n",
       "    .dataframe thead th {\n",
       "        text-align: right;\n",
       "    }\n",
       "</style>\n",
       "<table border=\"1\" class=\"dataframe\">\n",
       "  <thead>\n",
       "    <tr style=\"text-align: right;\">\n",
       "      <th></th>\n",
       "      <th># of Draws</th>\n",
       "      <th>Probability of drawing an ace at least once</th>\n",
       "    </tr>\n",
       "  </thead>\n",
       "  <tbody>\n",
       "    <tr>\n",
       "      <th>0</th>\n",
       "      <td>1</td>\n",
       "      <td>0.076923</td>\n",
       "    </tr>\n",
       "    <tr>\n",
       "      <th>1</th>\n",
       "      <td>2</td>\n",
       "      <td>0.147929</td>\n",
       "    </tr>\n",
       "    <tr>\n",
       "      <th>2</th>\n",
       "      <td>3</td>\n",
       "      <td>0.213473</td>\n",
       "    </tr>\n",
       "    <tr>\n",
       "      <th>3</th>\n",
       "      <td>4</td>\n",
       "      <td>0.273975</td>\n",
       "    </tr>\n",
       "  </tbody>\n",
       "</table>\n",
       "</div>"
      ],
      "text/plain": [
       "   # of Draws  Probability of drawing an ace at least once\n",
       "0           1                                     0.076923\n",
       "1           2                                     0.147929\n",
       "2           3                                     0.213473\n",
       "3           4                                     0.273975"
      ]
     },
     "execution_count": 80,
     "metadata": {
     },
     "output_type": "execute_result"
    }
   ],
   "source": [
    "nDraws =[]\n",
    "probs =[]\n",
    "\n",
    "for i in range(1,6,1):\n",
    "    nDraws.append(i)\n",
    "    probs.append(1-(48/52)**i) #probability of drawing an ace least once : 1-(48/52)\n",
    "\n",
    "DrawsDF = pd.DataFrame({\"# of Draws\": nDraws, \"Probability of drawing an ace at least once\": probs})\n",
    "DrawsDF"
   ]
  },
  {
   "cell_type": "code",
   "execution_count": 82,
   "metadata": {
    "collapsed": false
   },
   "outputs": [
    {
     "data": {
      "text/html": [
       "<div>\n",
       "<style scoped>\n",
       "    .dataframe tbody tr th:only-of-type {\n",
       "        vertical-align: middle;\n",
       "    }\n",
       "\n",
       "    .dataframe tbody tr th {\n",
       "        vertical-align: top;\n",
       "    }\n",
       "\n",
       "    .dataframe thead th {\n",
       "        text-align: right;\n",
       "    }\n",
       "</style>\n",
       "<table border=\"1\" class=\"dataframe\">\n",
       "  <thead>\n",
       "    <tr style=\"text-align: right;\">\n",
       "      <th></th>\n",
       "      <th># of Draws</th>\n",
       "      <th>Probability of drawing an ace at least once</th>\n",
       "    </tr>\n",
       "  </thead>\n",
       "  <tbody>\n",
       "    <tr>\n",
       "      <th>0</th>\n",
       "      <td>1</td>\n",
       "      <td>0.076923</td>\n",
       "    </tr>\n",
       "    <tr>\n",
       "      <th>1</th>\n",
       "      <td>2</td>\n",
       "      <td>0.147929</td>\n",
       "    </tr>\n",
       "    <tr>\n",
       "      <th>2</th>\n",
       "      <td>3</td>\n",
       "      <td>0.213473</td>\n",
       "    </tr>\n",
       "    <tr>\n",
       "      <th>3</th>\n",
       "      <td>4</td>\n",
       "      <td>0.273975</td>\n",
       "    </tr>\n",
       "    <tr>\n",
       "      <th>4</th>\n",
       "      <td>5</td>\n",
       "      <td>0.329823</td>\n",
       "    </tr>\n",
       "    <tr>\n",
       "      <th>5</th>\n",
       "      <td>6</td>\n",
       "      <td>0.381375</td>\n",
       "    </tr>\n",
       "    <tr>\n",
       "      <th>6</th>\n",
       "      <td>7</td>\n",
       "      <td>0.428962</td>\n",
       "    </tr>\n",
       "    <tr>\n",
       "      <th>7</th>\n",
       "      <td>8</td>\n",
       "      <td>0.472888</td>\n",
       "    </tr>\n",
       "    <tr>\n",
       "      <th>8</th>\n",
       "      <td>9</td>\n",
       "      <td>0.513435</td>\n",
       "    </tr>\n",
       "    <tr>\n",
       "      <th>9</th>\n",
       "      <td>10</td>\n",
       "      <td>0.550863</td>\n",
       "    </tr>\n",
       "  </tbody>\n",
       "</table>\n",
       "</div>"
      ],
      "text/plain": [
       "   # of Draws  Probability of drawing an ace at least once\n",
       "0           1                                     0.076923\n",
       "1           2                                     0.147929\n",
       "2           3                                     0.213473\n",
       "3           4                                     0.273975\n",
       "4           5                                     0.329823\n",
       "5           6                                     0.381375\n",
       "6           7                                     0.428962\n",
       "7           8                                     0.472888\n",
       "8           9                                     0.513435\n",
       "9          10                                     0.550863"
      ]
     },
     "execution_count": 82,
     "metadata": {
     },
     "output_type": "execute_result"
    }
   ],
   "source": [
    "nDraws =[]\n",
    "probs =[]\n",
    "\n",
    "for i in range(1,11,1):\n",
    "    nDraws.append(i)\n",
    "    probs.append(1-(48/52)**i) #probability of drawing an ace least once : 1-(48/52)\n",
    "\n",
    "DrawsDF = pd.DataFrame({\"# of Draws\": nDraws, \"Probability of drawing an ace at least once\": probs})\n",
    "DrawsDF"
   ]
  },
  {
   "cell_type": "code",
   "execution_count": 83,
   "metadata": {
    "collapsed": false
   },
   "outputs": [
    {
     "data": {
      "text/html": [
       "<div>\n",
       "<style scoped>\n",
       "    .dataframe tbody tr th:only-of-type {\n",
       "        vertical-align: middle;\n",
       "    }\n",
       "\n",
       "    .dataframe tbody tr th {\n",
       "        vertical-align: top;\n",
       "    }\n",
       "\n",
       "    .dataframe thead th {\n",
       "        text-align: right;\n",
       "    }\n",
       "</style>\n",
       "<table border=\"1\" class=\"dataframe\">\n",
       "  <thead>\n",
       "    <tr style=\"text-align: right;\">\n",
       "      <th></th>\n",
       "      <th># of Draws</th>\n",
       "      <th>Probability of drawing an ace at least once</th>\n",
       "    </tr>\n",
       "  </thead>\n",
       "  <tbody>\n",
       "    <tr>\n",
       "      <th>0</th>\n",
       "      <td>1</td>\n",
       "      <td>0.076923</td>\n",
       "    </tr>\n",
       "    <tr>\n",
       "      <th>1</th>\n",
       "      <td>2</td>\n",
       "      <td>0.147929</td>\n",
       "    </tr>\n",
       "    <tr>\n",
       "      <th>2</th>\n",
       "      <td>3</td>\n",
       "      <td>0.213473</td>\n",
       "    </tr>\n",
       "    <tr>\n",
       "      <th>3</th>\n",
       "      <td>4</td>\n",
       "      <td>0.273975</td>\n",
       "    </tr>\n",
       "    <tr>\n",
       "      <th>4</th>\n",
       "      <td>5</td>\n",
       "      <td>0.329823</td>\n",
       "    </tr>\n",
       "    <tr>\n",
       "      <th>5</th>\n",
       "      <td>6</td>\n",
       "      <td>0.381375</td>\n",
       "    </tr>\n",
       "    <tr>\n",
       "      <th>6</th>\n",
       "      <td>7</td>\n",
       "      <td>0.428962</td>\n",
       "    </tr>\n",
       "    <tr>\n",
       "      <th>7</th>\n",
       "      <td>8</td>\n",
       "      <td>0.472888</td>\n",
       "    </tr>\n",
       "    <tr>\n",
       "      <th>8</th>\n",
       "      <td>9</td>\n",
       "      <td>0.513435</td>\n",
       "    </tr>\n",
       "    <tr>\n",
       "      <th>9</th>\n",
       "      <td>10</td>\n",
       "      <td>0.550863</td>\n",
       "    </tr>\n",
       "    <tr>\n",
       "      <th>10</th>\n",
       "      <td>11</td>\n",
       "      <td>0.585412</td>\n",
       "    </tr>\n",
       "    <tr>\n",
       "      <th>11</th>\n",
       "      <td>12</td>\n",
       "      <td>0.617303</td>\n",
       "    </tr>\n",
       "    <tr>\n",
       "      <th>12</th>\n",
       "      <td>13</td>\n",
       "      <td>0.646742</td>\n",
       "    </tr>\n",
       "    <tr>\n",
       "      <th>13</th>\n",
       "      <td>14</td>\n",
       "      <td>0.673915</td>\n",
       "    </tr>\n",
       "    <tr>\n",
       "      <th>14</th>\n",
       "      <td>15</td>\n",
       "      <td>0.698999</td>\n",
       "    </tr>\n",
       "    <tr>\n",
       "      <th>15</th>\n",
       "      <td>16</td>\n",
       "      <td>0.722153</td>\n",
       "    </tr>\n",
       "    <tr>\n",
       "      <th>16</th>\n",
       "      <td>17</td>\n",
       "      <td>0.743525</td>\n",
       "    </tr>\n",
       "    <tr>\n",
       "      <th>17</th>\n",
       "      <td>18</td>\n",
       "      <td>0.763254</td>\n",
       "    </tr>\n",
       "    <tr>\n",
       "      <th>18</th>\n",
       "      <td>19</td>\n",
       "      <td>0.781466</td>\n",
       "    </tr>\n",
       "    <tr>\n",
       "      <th>19</th>\n",
       "      <td>20</td>\n",
       "      <td>0.798276</td>\n",
       "    </tr>\n",
       "  </tbody>\n",
       "</table>\n",
       "</div>"
      ],
      "text/plain": [
       "    # of Draws  Probability of drawing an ace at least once\n",
       "0            1                                     0.076923\n",
       "1            2                                     0.147929\n",
       "2            3                                     0.213473\n",
       "3            4                                     0.273975\n",
       "4            5                                     0.329823\n",
       "5            6                                     0.381375\n",
       "6            7                                     0.428962\n",
       "7            8                                     0.472888\n",
       "8            9                                     0.513435\n",
       "9           10                                     0.550863\n",
       "10          11                                     0.585412\n",
       "11          12                                     0.617303\n",
       "12          13                                     0.646742\n",
       "13          14                                     0.673915\n",
       "14          15                                     0.698999\n",
       "15          16                                     0.722153\n",
       "16          17                                     0.743525\n",
       "17          18                                     0.763254\n",
       "18          19                                     0.781466\n",
       "19          20                                     0.798276"
      ]
     },
     "execution_count": 83,
     "metadata": {
     },
     "output_type": "execute_result"
    }
   ],
   "source": [
    "nDraws =[]\n",
    "probs =[]\n",
    "\n",
    "for i in range(1,21,1):\n",
    "    nDraws.append(i)\n",
    "    probs.append(1-(48/52)**i) #probability of drawing an ace at least once : 1-(48/52)\n",
    "\n",
    "DrawsDF = pd.DataFrame({\"# of Draws\": nDraws, \"Probability of drawing an ace at least once\": probs})\n",
    "DrawsDF"
   ]
  },
  {
   "cell_type": "code",
   "execution_count": 84,
   "metadata": {
    "collapsed": false
   },
   "outputs": [
    {
     "data": {
      "text/plain": [
       "<AxesSubplot:xlabel='# of Draws', ylabel='Probability of drawing an ace at least once'>"
      ]
     },
     "execution_count": 84,
     "metadata": {
     },
     "output_type": "execute_result"
    },
    {
     "data": {
      "image/png": "[encoded data removed]",
      "text/plain": [
       "<Figure size 864x504 with 1 Axes>"
      ]
     },
     "execution_count": 84,
     "metadata": {
      "image/png": {
       "height": 424,
       "width": 720
      },
      "needs_background": "light"
     },
     "output_type": "execute_result"
    }
   ],
   "source": [
    "DrawsDF.plot.scatter(x=\"# of Draws\", y=\"Probability of drawing an ace at least once\")"
   ]
  },
  {
   "cell_type": "markdown",
   "metadata": {
    "collapsed": false
   },
   "source": [
    "#### Example 4: \n",
    "- A) Write a function to find the probability of an event in percentage form based on given outcomes and sample space\n",
    "- B) Use the function and compute the probability of rolling a 4 with a D6\n",
    "- C) Use the function and compute the probability of drawing a King from a standard deck of cards\n",
    "- D) Use the function and compute the probability of drawing the King of Hearts from a standard deck of cards\n",
    "- E) Use the function and compute the probability of drawing an ace after drawing a king\n",
    "- F) Use the function and compute the probability of drawing an ace after drawing an ace\n",
    "- G) Use the function and compute the probability of drawing a heart OR a club\n",
    "- F) Use the function and compute the probability of drawing a Royal Flush <br>\n",
    "*hint: (in poker) a straight flush including ace, king, queen, jack, and ten all in the same suit, which is the hand of the highest possible value\n",
    "\n",
    "__This problem is designed based on an example by *Daniel Poston* from DataCamp, accessible @ *https://www.datacamp.com/community/tutorials/statistics-python-tutorial-probability-1*__"
   ]
  },
  {
   "cell_type": "code",
   "execution_count": 37,
   "metadata": {
    "collapsed": false
   },
   "outputs": [
   ],
   "source": [
    "# A\n",
    "# Create function that returns probability percent rounded to one decimal place\n",
    "def Prob(outcome, sampspace):\n",
    "    probability = (outcome / sampspace) * 100\n",
    "    return round(probability, 1)"
   ]
  },
  {
   "cell_type": "code",
   "execution_count": 38,
   "metadata": {
    "collapsed": false
   },
   "outputs": [
    {
     "data": {
      "text/plain": [
       "16.7"
      ]
     },
     "execution_count": 38,
     "metadata": {
     },
     "output_type": "execute_result"
    }
   ],
   "source": [
    "# B\n",
    "outcome = 1       #Rolling a 4 is only one of the possible outcomes\n",
    "space = 6         #Rolling a D6 can have 6 different outcomes\n",
    "Prob(outcome, space)"
   ]
  },
  {
   "cell_type": "code",
   "execution_count": 39,
   "metadata": {
    "collapsed": false
   },
   "outputs": [
    {
     "data": {
      "text/plain": [
       "7.7"
      ]
     },
     "execution_count": 39,
     "metadata": {
     },
     "output_type": "execute_result"
    }
   ],
   "source": [
    "# C\n",
    "outcome = 4       #Drawing a king is four of the possible outcomes\n",
    "space = 52        #Drawing from a standard deck of cards can have 52 different outcomes\n",
    "Prob(outcome, space)"
   ]
  },
  {
   "cell_type": "code",
   "execution_count": 40,
   "metadata": {
    "collapsed": false
   },
   "outputs": [
    {
     "data": {
      "text/plain": [
       "1.9"
      ]
     },
     "execution_count": 40,
     "metadata": {
     },
     "output_type": "execute_result"
    }
   ],
   "source": [
    "# D\n",
    "outcome = 1       #Drawing the king of hearts is only 1 of the possible outcomes\n",
    "space = 52        #Drawing from a standard deck of cards can have 52 different outcomes\n",
    "Prob(outcome, space)"
   ]
  },
  {
   "cell_type": "code",
   "execution_count": 41,
   "metadata": {
    "collapsed": false
   },
   "outputs": [
    {
     "data": {
      "text/plain": [
       "7.8"
      ]
     },
     "execution_count": 41,
     "metadata": {
     },
     "output_type": "execute_result"
    }
   ],
   "source": [
    "# E\n",
    "outcome = 4       #Drawing an ace is 4 of the possible outcomes\n",
    "space = 51        #One card has been drawn\n",
    "Prob(outcome, space)"
   ]
  },
  {
   "cell_type": "code",
   "execution_count": 42,
   "metadata": {
    "collapsed": false
   },
   "outputs": [
    {
     "data": {
      "text/plain": [
       "5.9"
      ]
     },
     "execution_count": 42,
     "metadata": {
     },
     "output_type": "execute_result"
    }
   ],
   "source": [
    "# F\n",
    "outcome = 3       #Once Ace is already drawn\n",
    "space = 51        #One card has been drawn\n",
    "Prob(outcome, space)"
   ]
  },
  {
   "cell_type": "code",
   "execution_count": 44,
   "metadata": {
    "collapsed": false
   },
   "outputs": [
    {
     "name": "stdout",
     "output_type": "stream",
     "text": [
      "Probability of drawing a heart or a club is 50.0 %\n"
     ]
    }
   ],
   "source": [
    "# G\n",
    "hearts = 13       #13 cards of hearts in a deck\n",
    "space = 52        #total number of cards in a deck\n",
    "clubs = 13        #13 cards of clubs in a deck\n",
    "Prob_heartsORclubs= Prob(hearts, space) + Prob(clubs, space)\n",
    "print(\"Probability of drawing a heart or a club is\",Prob_heartsORclubs,\"%\")"
   ]
  },
  {
   "cell_type": "code",
   "execution_count": 45,
   "metadata": {
    "collapsed": false
   },
   "outputs": [
    {
     "name": "stdout",
     "output_type": "stream",
     "text": [
      "Probability of drawing a royal flush is 1.5473203199999998e-06 %\n"
     ]
    }
   ],
   "source": [
    "# F\n",
    "draw1 = 5       #5 cards are needed\n",
    "space1 = 52        #out of the possible 52 cards\n",
    "draw2 = 4       #4 cards are needed\n",
    "space2 = 51        #out of the possible 51 cards\n",
    "draw3 = 3       #3 cards are needed\n",
    "space3 = 50        #out of the possible 50 cards\n",
    "draw4 = 2       #2 cards are needed\n",
    "space4 = 49        #out of the possible 49 cards\n",
    "draw5 = 1       #1 cards is needed\n",
    "space5 = 48        #out of the possible 48 cards\n",
    "\n",
    "#Probability of a getting a Royal Flush\n",
    "Prob_RF= 4*(Prob(draw1, space1)/100) * (Prob(draw2, space2)/100) * (Prob(draw3, space3)/100) * (Prob(draw4, space4)/100) * (Prob(draw5, space5)/100)     \n",
    "print(\"Probability of drawing a royal flush is\",Prob_RF,\"%\")"
   ]
  },
  {
   "cell_type": "markdown",
   "metadata": {
    "collapsed": false
   },
   "source": [
    "#### Exercise 4: Use the function from Example 4 and compute\n",
    "- A) The probability of drawing a spade card\n",
    "- B) The probability of drawing a spade card after drawing the Queen of spades\n",
    "- C) The probability of drawing three aces back to back\n",
    "- D) The probability of drawing a 10 of diamonds, or an ace, or a king"
   ]
  },
  {
   "cell_type": "code",
   "execution_count": 46,
   "metadata": {
    "collapsed": false
   },
   "outputs": [
   ],
   "source": [
    "# Create function that returns probability percent rounded to one decimal place\n",
    "def Prob(outcome, sampspace):\n",
    "    probability = (outcome / sampspace) * 100\n",
    "    return round(probability, 1)"
   ]
  },
  {
   "cell_type": "code",
   "execution_count": 55,
   "metadata": {
    "collapsed": false
   },
   "outputs": [
    {
     "name": "stdout",
     "output_type": "stream",
     "text": [
      "The probability of drawing a spade card is 25.0 %\n"
     ]
    }
   ],
   "source": [
    "# A\n",
    "outcome = 13       #There are 13 spade cards\n",
    "space = 52        #There are 52 card in total\n",
    "Prob(outcome, space)\n",
    "print(\"The probability of drawing a spade card is\",Prob(outcome, space),\"%\")"
   ]
  },
  {
   "cell_type": "code",
   "execution_count": 54,
   "metadata": {
    "collapsed": false
   },
   "outputs": [
    {
     "name": "stdout",
     "output_type": "stream",
     "text": [
      "The probability of drawing a spade card after drawing the Queen of spades is 0.004464999999999999 %\n"
     ]
    }
   ],
   "source": [
    "# B\n",
    "QueenofSpades = 1       #Queen of Spades is 1 specific card\n",
    "space1 = 52        #total number of cards in a deck\n",
    "otherspades = 12        #12 spade cards are left\n",
    "space2 = 51        #one card was removed in the previous draw\n",
    "\n",
    "ProbQandS= (Prob(QueenofSpades, space1)/100) * (Prob(otherspades, space2)/100)\n",
    "print(\"The probability of drawing a spade card after drawing the Queen of spades is\",ProbQandS,\"%\")"
   ]
  },
  {
   "cell_type": "code",
   "execution_count": 57,
   "metadata": {
    "collapsed": false
   },
   "outputs": [
    {
     "name": "stdout",
     "output_type": "stream",
     "text": [
      "The probability of drawing a 10 of diamonds, or an ace, or a king is 0.17600000000000002 %\n"
     ]
    }
   ],
   "source": [
    "# C\n",
    "Ace1 = 4       #4 possibility for the 1st ace\n",
    "space1 = 52        #total number of cards in a deck\n",
    "Ace2 = 3        #3 possibility for the 2nd ace\n",
    "space2 = 51        #one card was removed in the previous draw\n",
    "Ace3 = 2        #2 possibility for the 3rd ace\n",
    "space3 = 50        #two cards were removed in the previous draws\n",
    "\n",
    "probability= (Prob(Ace1, space1)/100) + (Prob(Ace2, space2)/100) + (Prob(Ace3, space3)/100)\n",
    "print(\"The probability of drawing a 10 of diamonds, or an ace, or a king is\",probability,\"%\")"
   ]
  },
  {
   "cell_type": "code",
   "execution_count": 0,
   "metadata": {
    "collapsed": false
   },
   "outputs": [
   ],
   "source": [
    "# D\n",
    "hearts10 = 1       #1 possibility for the 10 of hearts\n",
    "aces = 4        #4 possibility for an ace\n",
    "kings = 4        #4 possibility for a king\n",
    "\n",
    "space = 52        #total number of cards in a deck\n",
    "\n",
    "Prob= (Prob(hearts10, space) + Prob(aces, space) + Prob(kings, space))\n",
    "print(\"The probability of drawing three aces back to back is\",Prob3aces,\"%\")"
   ]
  },
  {
   "cell_type": "markdown",
   "metadata": {
    "collapsed": false
   },
   "source": [
    "#### Example 5: Two unbiased dice are thrown once and the total score is observed. Define an appropriate function and use a simulation to find the estimated probability that :\n",
    "- the total score is greater than 10?\n",
    "- the total score is even and greater than 7?\n",
    "\n",
    "\n",
    "__This problem is designed based on an example by *Elliott Saslow*\n",
    "from Medium.com, accessible @ *https://medium.com/future-vision/simulating-probability-events-in-python-5dd29e34e381*__"
   ]
  },
  {
   "cell_type": "code",
   "execution_count": 19,
   "metadata": {
    "collapsed": false
   },
   "outputs": [
    {
     "name": "stdout",
     "output_type": "stream",
     "text": [
      "The probability of rolling a number greater than 10 after 10000 rolld is: 8.24 %\n"
     ]
    }
   ],
   "source": [
    "import numpy as np\n",
    "def DiceRoll1(nSimulation):\n",
    "    count =0\n",
    "    dice = np.array([1,2,3,4,5,6])         #create a numpy array with values of a D6\n",
    "    for i in range(nSimulation):\n",
    "        die1 = np.random.choice(dice,1)    #randomly selecting a value from dice - throw the D6 once\n",
    "        die2 = np.random.choice(dice,1)    #randomly selecting a value from dice - throw the D6 once again!\n",
    "        score = die1 + die2                #summing them up\n",
    "        if score > 10:                     #if it meets our desired condition:\n",
    "            count +=1                      #add one to the \"count\"\n",
    "    return count/nSimulation               #compute the probability of the desired event by dividing count by the total number of trials\n",
    "\n",
    "nSimulation = 10000\n",
    "print(\"The probability of rolling a number greater than 10 after\",nSimulation,\"rolld is:\",DiceRoll1(nSimulation)*100,\"%\")\n"
   ]
  },
  {
   "cell_type": "code",
   "execution_count": 20,
   "metadata": {
    "collapsed": false
   },
   "outputs": [
    {
     "name": "stdout",
     "output_type": "stream",
     "text": [
      "The probability of rolling an even number or greater than 7 after 10000  rolls is: 66.88 %\n"
     ]
    }
   ],
   "source": [
    "import numpy as np\n",
    "def DiceRoll2(nSimulation):\n",
    "    count =0\n",
    "    dice = np.array([1,2,3,4,5,6])         #create a numpy array with values of a D6\n",
    "    for i in range(nSimulation):\n",
    "        die1 = np.random.choice(dice,1)    #randomly selecting a value from dice - throw the D6 once\n",
    "        die2 = np.random.choice(dice,1)    #randomly selecting a value from dice - throw the D6 once again!\n",
    "        score = die1 + die2\n",
    "        if score %2 ==0 or score > 7:      #the total score is even and greater than 7\n",
    "            count +=1\n",
    "    return count/nSimulation\n",
    "\n",
    "nSimulation = 10000\n",
    "print(\"The probability of rolling an even number or greater than 7 after\",nSimulation,\" rolls is:\",DiceRoll2(nSimulation)*100,\"%\")"
   ]
  },
  {
   "cell_type": "markdown",
   "metadata": {
    "collapsed": false
   },
   "source": [
    "#### Exercise 5: Based on Example 5, find the estimated probability that \n",
    "- the total score is less than 3?\n",
    "- the total score is divisible by 3?"
   ]
  },
  {
   "cell_type": "code",
   "execution_count": 21,
   "metadata": {
    "collapsed": false
   },
   "outputs": [
    {
     "name": "stdout",
     "output_type": "stream",
     "text": [
      "The probability of rolling a number less than 3 after 10000  rolls is: 2.59 %\n"
     ]
    }
   ],
   "source": [
    "import numpy as np\n",
    "def DiceRoll3(nSimulation):\n",
    "    count =0\n",
    "    dice = np.array([1,2,3,4,5,6])         #create a numpy array with values of a D6\n",
    "    for i in range(nSimulation):\n",
    "        die1 = np.random.choice(dice,1)    #randomly selecting a value from dice - throw the D6 once\n",
    "        die2 = np.random.choice(dice,1)    #randomly selecting a value from dice - throw the D6 once again!\n",
    "        score = die1 + die2\n",
    "        if score < 3:                     #the total score is less than 3\n",
    "            count +=1\n",
    "    return count/nSimulation\n",
    "\n",
    "nSimulation = 10000\n",
    "print(\"The probability of rolling a number less than 3 after\",nSimulation,\" rolls is:\",DiceRoll3(nSimulation)*100,\"%\")"
   ]
  },
  {
   "cell_type": "code",
   "execution_count": 22,
   "metadata": {
    "collapsed": false
   },
   "outputs": [
    {
     "name": "stdout",
     "output_type": "stream",
     "text": [
      "The probability of rolling a number divisible by 3 after 10000  rolls is: 33.019999999999996 %\n"
     ]
    }
   ],
   "source": [
    "import numpy as np\n",
    "def DiceRoll4(nSimulation):\n",
    "    count =0\n",
    "    dice = np.array([1,2,3,4,5,6])         #create a numpy array with values of a D6\n",
    "    for i in range(nSimulation):\n",
    "        die1 = np.random.choice(dice,1)    #randomly selecting a value from dice - throw the D6 once\n",
    "        die2 = np.random.choice(dice,1)    #randomly selecting a value from dice - throw the D6 once again!\n",
    "        score = die1 + die2\n",
    "        if score %3 ==0:                   #the total score is divisible by 3\n",
    "            count +=1\n",
    "    return count/nSimulation\n",
    "\n",
    "nSimulation = 10000\n",
    "print(\"The probability of rolling a number divisible by 3 after\",nSimulation,\" rolls is:\",DiceRoll4(nSimulation)*100,\"%\")"
   ]
  },
  {
   "cell_type": "markdown",
   "metadata": {
    "collapsed": false
   },
   "source": [
    "#### Example 6: An urn contains 10 white balls, 20 reds and 30 greens. We want to draw 5 balls with replacement. Use a simulation (10000 trials) to find the estimated probability that:\n",
    "- we draw 3 white and 2 red balls\n",
    "- we draw 5 balls of the same color\n",
    "\n",
    "\n",
    "__This problem is designed based on an example by *Elliott Saslow*\n",
    "from Medium.com, accessible @ *https://medium.com/future-vision/simulating-probability-events-in-python-5dd29e34e381*__"
   ]
  },
  {
   "cell_type": "code",
   "execution_count": 24,
   "metadata": {
    "collapsed": false
   },
   "outputs": [
    {
     "name": "stdout",
     "output_type": "stream",
     "text": [
      "The probability of drawing 3 white and 2 red balls is 0.44 %\n"
     ]
    }
   ],
   "source": [
    "# A\n",
    "import numpy as np\n",
    "import random\n",
    "d = {}                     #Create an empty dictionary to associate numbers and colors\n",
    "for i in range(0,60,1):     #total of 60 balls\n",
    "    if i <10:                 #10 white balls\n",
    "        d[i]=\"White\"\n",
    "    elif i>9 and i<30:         #20 red balls\n",
    "        d[i]=\"Red\"\n",
    "    else:                         #60-30=30 green balls\n",
    "        d[i]=\"Green\"\n",
    "#\n",
    "nSimulation= 10000         #How many trials?\n",
    "outcome1= 0                #initial value on the desired outcome counter\n",
    "\n",
    "for i in range(nSimulation):\n",
    "    draw=[]                     #an empty list for the draws\n",
    "    for i in range(5):                               #how many balls we want to draw?\n",
    "        draw.append(d[random.randint(0,59)])         #randomly choose a number from 0 to 59- simulation of drawing balls\n",
    "    drawarray = np.array(draw)                       #convert the list into a numpy array\n",
    "    white = sum(drawarray== \"White\")                 #count the white balls\n",
    "    red = sum(drawarray== \"Red\")                     #count the red balls\n",
    "    green = sum(drawarray== \"Green\")                 #count the green balls\n",
    "    if white ==3 and red==2:                         #If the desired condition is met, add one to the counter\n",
    "        outcome1 +=1\n",
    "print(\"The probability of drawing 3 white and 2 red balls is\",(outcome1/nSimulation)*100,\"%\")"
   ]
  },
  {
   "cell_type": "code",
   "execution_count": 0,
   "metadata": {
    "collapsed": false
   },
   "outputs": [
   ],
   "source": [
    "# B\n",
    "import numpy as np\n",
    "import random\n",
    "d = {}\n",
    "for i in range(0,60,1):\n",
    "    if i <10:\n",
    "        d[i]=\"White\"\n",
    "    elif i>9 and i<30:\n",
    "        d[i]=\"Red\"\n",
    "    else:\n",
    "        d[i]=\"Green\"\n",
    "#\n",
    "nSimulation= 10000\n",
    "outcome1= 0\n",
    "outcome2= 0         #we can consider multiple desired outcomes\n",
    "\n",
    "\n",
    "for i in range(nSimulation):\n",
    "    draw=[]\n",
    "    for i in range(5):\n",
    "        draw.append(d[random.randint(0,59)])\n",
    "    drawarray = np.array(draw)\n",
    "    white = sum(drawarray== \"White\")\n",
    "    red = sum(drawarray== \"Red\")\n",
    "    green = sum(drawarray== \"Green\")\n",
    "    if white ==3 and red==2:\n",
    "        outcome1 +=1\n",
    "    if white ==5 or red==5 or green==5:\n",
    "        outcome2 +=1\n",
    "\n",
    "print(\"The probability of drawing 3 white and 2 red balls is\",(outcome1/nSimulation)*100,\"%\")\n",
    "print(\"The probability of drawing 5 balls of the same color is\",(outcome2/nSimulation)*100,\"%\")\n"
   ]
  },
  {
   "cell_type": "markdown",
   "metadata": {
    "collapsed": false
   },
   "source": [
    "#### Exercise 6: Based on Example 6, use a simulation (10000 trials) to find the estimated probability that:\n",
    "- we draw 1 green, 2 white, and 2 red balls\n",
    "- we draw no green balls"
   ]
  },
  {
   "cell_type": "code",
   "execution_count": 26,
   "metadata": {
    "collapsed": false
   },
   "outputs": [
    {
     "name": "stdout",
     "output_type": "stream",
     "text": [
      "The probability of drawing 3 white and 2 red balls is 0.6 %\n",
      "The probability of drawing 5 balls of the same color is 3.55 %\n",
      "The probability of drawing 1 green, 2 white, and 2 red balls is 4.45 %\n",
      "The probability of drawing no green balls is 3.46 %\n"
     ]
    }
   ],
   "source": [
    "import numpy as np\n",
    "import random\n",
    "d = {}\n",
    "for i in range(0,60,1):\n",
    "    if i <10:\n",
    "        d[i]=\"White\"\n",
    "    elif i>9 and i<30:\n",
    "        d[i]=\"Red\"\n",
    "    else:\n",
    "        d[i]=\"Green\"\n",
    "#\n",
    "nSimulation= 10000\n",
    "\n",
    "outcome3= 0\n",
    "outcome4= 0\n",
    "\n",
    "for i in range(nSimulation):\n",
    "    draw=[]\n",
    "    for i in range(5):\n",
    "        draw.append(d[random.randint(0,59)])\n",
    "    drawarray = np.array(draw)\n",
    "    white = sum(drawarray== \"White\")\n",
    "    red = sum(drawarray== \"Red\")\n",
    "    green = sum(drawarray== \"Green\")\n",
    "\n",
    "    if white ==2 and red==2 and green==1:\n",
    "        outcome3 +=1\n",
    "    if green==0:\n",
    "        outcome4 +=1\n",
    "\n",
    "print(\"The probability of drawing 1 green, 2 white, and 2 red balls is\",(outcome3/nSimulation)*100,\"%\")\n",
    "print(\"The probability of drawing no green balls is\",(outcome4/nSimulation)*100,\"%\")"
   ]
  },
  {
   "cell_type": "code",
   "execution_count": 0,
   "metadata": {
    "collapsed": false
   },
   "outputs": [
   ],
   "source": [
   ]
  },
  {
   "cell_type": "code",
   "execution_count": 0,
   "metadata": {
    "collapsed": false
   },
   "outputs": [
   ],
   "source": [
   ]
  }
 ],
 "metadata": {
  "kernelspec": {
   "display_name": "Python 3 (system-wide)",
   "language": "python",
   "metadata": {
    "cocalc": {
     "description": "Python 3 programming language",
     "priority": 100,
     "url": "https://www.python.org/"
    }
   },
   "name": "python3"
  },
  "language_info": {
   "codemirror_mode": {
    "name": "ipython",
    "version": 3
   },
   "file_extension": ".py",
   "mimetype": "text/x-python",
   "name": "python",
   "nbconvert_exporter": "python",
   "pygments_lexer": "ipython3",
   "version": "3.8.2"
  }
 },
 "nbformat": 4,
 "nbformat_minor": 4
}