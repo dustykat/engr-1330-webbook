{
 "cells": [
  {
   "cell_type": "code",
   "execution_count": null,
   "metadata": {},
   "outputs": [],
   "source": [
    "# Preamble script block to identify host, user, and kernel\n",
    "import sys\n",
    "! hostname\n",
    "! whoami\n",
    "print(sys.executable)\n",
    "print(sys.version)\n",
    "print(sys.version_info)"
   ]
  },
  {
   "cell_type": "code",
   "execution_count": null,
   "metadata": {},
   "outputs": [],
   "source": [
    "%%html\n",
    "<!--Script block to left align Markdown Tables-->\n",
    "<style>\n",
    "  table {margin-left: 0 !important;}\n",
    "</style>"
   ]
  },
  {
   "cell_type": "markdown",
   "metadata": {},
   "source": [
    "# Program flow control (Loops)\n",
    "- Controlled repetition\n",
    "- Structured FOR Loop\n",
    "- Structured WHILE Loop"
   ]
  },
  {
   "cell_type": "markdown",
   "metadata": {},
   "source": [
    "## Count controlled repetition\n",
    "Count-controlled repetition is also called definite repetition because the number of repetitions is known before the loop begins executing. \n",
    "When we do not know in advance the number of times we want to execute a statement, we cannot use count-controlled repetition. \n",
    "In such an instance, we would use sentinel-controlled repetition. \n",
    "\n",
    "A count-controlled repetition will exit after running a certain number of times. \n",
    "The count is kept in a variable called an index or counter. \n",
    "When the index reaches a certain value (the loop bound) the loop will end. \n",
    "\n",
    "Count-controlled repetition requires\n",
    "\n",
    "* control variable (or loop counter)\n",
    "* initial value of the control variable\n",
    "* increment (or decrement) by which the control variable is modified each iteration through the loop\n",
    "* condition that tests for the final value of the control variable \n",
    "\n",
    "We can use both `for` and `while` loops, for count controlled repetition, but the `for` loop in combination with the `range()` function is more common.\n",
    "\n",
    "### Structured `FOR` loop\n",
    "We have seen the for loop already, but we will formally introduce it here. The `for` loop executes a block of code repeatedly until the condition in the `for` statement is no longer true.\n",
    "\n",
    "### Looping through an iterable\n",
    "An iterable is anything that can be looped over - typically a list, string, or tuple. \n",
    "The syntax for looping through an iterable is illustrated by an example.\n",
    "\n",
    "First a generic syntax\n",
    "\n",
    "    for a in iterable:\n",
    "    print(a)\n",
    "    \n",
    "Notice our friends the colon `:` and the indentation.\n",
    "Now a specific example"
   ]
  },
  {
   "cell_type": "code",
   "execution_count": 54,
   "metadata": {},
   "outputs": [],
   "source": [
    "# set a list\n",
    "MyPets = [\"dusty\",\"aspen\",\"merrimee\"]\n",
    "# loop thru the list\n",
    "for AllStrings in MyPets:\n",
    "    print(AllStrings)"
   ]
  },
  {
   "cell_type": "markdown",
   "metadata": {},
   "source": [
    "#### The `range()` function to create an iterable\n",
    "\n",
    "The `range(begin,end,increment)` function will create an iterable starting at a value of begin, in steps defined by increment (`begin += increment`), ending at `end`. \n",
    "\n",
    "So a generic syntax becomes\n",
    "\n",
    "    for a in range(begin,end,increment):\n",
    "    print(a)\n",
    "\n",
    "The example that follows is count-controlled repetition (increment skip if greater)"
   ]
  },
  {
   "cell_type": "code",
   "execution_count": 67,
   "metadata": {},
   "outputs": [
    {
     "name": "stdout",
     "output_type": "stream",
     "text": [
      "dusty\n",
      "aspen\n",
      "merrimee\n"
     ]
    }
   ],
   "source": [
    "# set a list\n",
    "MyPets = [\"dusty\",\"aspen\",\"merrimee\"]\n",
    "# loop thru the list\n",
    "for i in range(0,3,1): # Change the 1 to 2 and rerun, what happens?\n",
    "    print(MyPets[i])"
   ]
  },
  {
   "cell_type": "code",
   "execution_count": null,
   "metadata": {},
   "outputs": [],
   "source": [
    "# Exercise 1 here"
   ]
  },
  {
   "cell_type": "markdown",
   "metadata": {},
   "source": [
    "## Sentinel-controlled repetition.\n",
    "\n",
    "When loop control is based on the value of what we are processing, sentinel-controlled repetition is used. \n",
    "Sentinel-controlled repetition is also called indefinite repetition because it is not known in advance how many times the loop will be executed. \n",
    "It is a repetition procedure for solving a problem by using a sentinel value (also called a signal value, a dummy value or a flag value) to indicate \"end of process\". \n",
    "The sentinel value itself need not be a part of the processed data.\n",
    "\n",
    "One common example of using sentinel-controlled repetition is when we are processing data from a file and we do not know in advance when we would reach the end of the file. \n",
    "\n",
    "We can use both `for` and `while` loops, for count controlled repetition, but the `while` loop is more common.\n",
    "\n",
    "### Structured `WHILE` loop\n",
    "The `while` loop repeats a block of instructions inside the loop while a condition remainsvtrue.\n",
    "\n",
    "First a generic syntax\n",
    "\n",
    "    while condition is true:\n",
    "        execute a\n",
    "        execute b\n",
    "    ....\n",
    "\n",
    "Notice our friends the colon `:` and the indentation again."
   ]
  },
  {
   "cell_type": "raw",
   "metadata": {},
   "source": [
    "# set a counter\n",
    "counter = 5\n",
    "# while loop\n",
    "while counter > 0:\n",
    "    print(\"Counter = \",counter)\n",
    "    counter = counter -1"
   ]
  },
  {
   "cell_type": "markdown",
   "metadata": {},
   "source": [
    "The while loop structure just depicted is a \"decrement, skip if equal\" in lower level languages. \n",
    "The next structure, also a while loop is an \"increment, skip if greater\" structure."
   ]
  },
  {
   "cell_type": "raw",
   "metadata": {},
   "source": [
    "# set a counter\n",
    "counter = 0\n",
    "# while loop\n",
    "while counter < 5:  # change this line to: while counter <= 5: what happens?\n",
    "    print (\"Counter = \",counter)\n",
    "    counter = counter +1  # change this line to: counter +=1  what happens?"
   ]
  },
  {
   "cell_type": "markdown",
   "metadata": {},
   "source": [
    "## Nested Repetition\n",
    "\n",
    "Nested repetition is when a control structure is placed inside of the body or main part of another control structure."
   ]
  },
  {
   "cell_type": "raw",
   "metadata": {},
   "source": []
  },
  {
   "cell_type": "markdown",
   "metadata": {},
   "source": [
    "#### `break` to exit out of a loop\n",
    "\n",
    "Sometimes you may want to exit the loop when a certain condition different from the counting\n",
    "condition is met. Perhaps you are looping through a list and want to exit when you find the\n",
    "first element in the list that matches some criterion. The break keyword is useful for such\n",
    "an operation.\n",
    "For example run the following program:"
   ]
  },
  {
   "cell_type": "raw",
   "metadata": {},
   "source": [
    "#\n",
    "j = 0\n",
    "for i in range(0,5,1):\n",
    "    j += 2\n",
    "    print (\"i = \",i,\"j = \",j)\n",
    "    if j == 6:\n",
    "        break"
   ]
  },
  {
   "cell_type": "markdown",
   "metadata": {},
   "source": [
    "Next change the program slightly to:"
   ]
  },
  {
   "cell_type": "raw",
   "metadata": {},
   "source": [
    "j = 0\n",
    "for i in range(0,5,1):\n",
    "    j += 2\n",
    "    print( \"i = \",i,\"j = \",j)\n",
    "    if j == 7:\n",
    "        break"
   ]
  },
  {
   "cell_type": "markdown",
   "metadata": {},
   "source": [
    "In the first case, the for loop only executes 3 times before the condition j == 6 is TRUE and the loop is exited. \n",
    "In the second case, j == 7 never happens so the loop completes all its anticipated traverses.\n",
    "\n",
    "In both cases an `if` statement was used within a for loop. Such \"mixed\" control structures\n",
    "are quite common (and pretty necessary). \n",
    "A `while` loop contained within a `for` loop, with several `if` statements would be very common and such a structure is called nested control.\n",
    "There is typically an upper limit to nesting but the limit is pretty large - easily in the\n",
    "hundreds. It depends on the language and the system architecture ; suffice to say it is not\n",
    "a practical limit except possibly for general-domain AI applications."
   ]
  },
  {
   "cell_type": "markdown",
   "metadata": {},
   "source": [
    "Exercise 2.\n",
    "\n",
    "Write a Python script that takes a real input value (a float) for x and returns the y\n",
    "value according to the rules below\n",
    "\n",
    "\\begin{gather}\n",
    "y = x~for~0 <= x < 1 \\\\\n",
    "y = x2~for~1 <= x < 2 \\\\\n",
    "y = x + 2~for~2 <= x < 1 \\\\\n",
    "\\end{gather}\n",
    "\n",
    "Test the script with x values of 0.0, 1.0, 1.1, and 2.1"
   ]
  },
  {
   "cell_type": "code",
   "execution_count": null,
   "metadata": {},
   "outputs": [],
   "source": [
    "# Exercise 2"
   ]
  },
  {
   "cell_type": "markdown",
   "metadata": {},
   "source": [
    "Exercise 3.\n",
    "using your script above, add functionality to **automaticaly** populate the table below:\n",
    "\n",
    "|x|y(x)|\n",
    "|---:|---:|\n",
    "|0.0|  |\n",
    "|1.0|  |\n",
    "|2.0|  |\n",
    "|3.0|  |\n",
    "|4.0|  |\n",
    "|5.0|  |"
   ]
  },
  {
   "cell_type": "code",
   "execution_count": null,
   "metadata": {},
   "outputs": [],
   "source": [
    "# Exercise 3"
   ]
  },
  {
   "cell_type": "markdown",
   "metadata": {},
   "source": [
    "Exercise 4.\n",
    "Modify the script above to increment the values by 0.5. and automatically populate the table:\n",
    "\n",
    "|x|y(x)|\n",
    "|---:|---:|\n",
    "|0.0|  |\n",
    "|0.5|  |\n",
    "|1.0|  |\n",
    "|1.5|  |\n",
    "|2.0|  |\n",
    "|2.5|  |\n",
    "|3.0|  |\n",
    "|3.5|  |\n",
    "|4.0|  |\n",
    "|4.5|  |\n",
    "|5.0|  |\n"
   ]
  },
  {
   "cell_type": "code",
   "execution_count": null,
   "metadata": {},
   "outputs": [],
   "source": [
    "# Exercise 4"
   ]
  },
  {
   "cell_type": "markdown",
   "metadata": {},
   "source": [
    "#### The `continue` statement\n",
    "The continue instruction skips the block of code after it is executed for that iteration. \n",
    "It is\n",
    "best illustrated by an example."
   ]
  },
  {
   "cell_type": "raw",
   "metadata": {},
   "source": [
    "j = 0\n",
    "for i in range(0,5,1):\n",
    "    j += 2\n",
    "    print (\"\\n i = \", i , \", j = \", j) #here the \\n is a newline command\n",
    "    if j == 6:\n",
    "        continue\n",
    "    print(\" this message will be skipped over if j = 6 \") # still within the loop, so the skip is implemented"
   ]
  },
  {
   "cell_type": "markdown",
   "metadata": {},
   "source": [
    "When j ==6 the line after the continue keyword is not printed. \n",
    "Other than that one\n",
    "difference the rest of the script runs normally."
   ]
  },
  {
   "cell_type": "markdown",
   "metadata": {},
   "source": [
    "#### The `try`, `except` structure\n",
    "\n",
    "An important control structure (and a pretty cool one for error trapping) is the `try`, `except`\n",
    "statement.\n",
    "\n",
    "The statement controls how the program proceeds when an error occurs in an instruction.\n",
    "The structure is really useful to trap likely errors (divide by zero, wrong kind of input) \n",
    "yet let the program keep running or at least issue a meaningful message to the user.\n",
    "\n",
    "The syntax is:\n",
    "\n",
    "    try:\n",
    "    do something\n",
    "    except:\n",
    "    do something else if ``do something'' returns an error\n",
    "\n",
    "Here is a really simple, but hugely important example:"
   ]
  },
  {
   "cell_type": "raw",
   "metadata": {},
   "source": [
    "#MyErrorTrap.py\n",
    "x = 12.\n",
    "y = 12.\n",
    "while y >= -12.: # sentinel controlled repetition\n",
    "    try:         \n",
    "        print (\"x = \", x, \"y = \", y, \"x/y = \", x/y)\n",
    "    except:\n",
    "        print (\"error divide by zero\")\n",
    "    y -= 1"
   ]
  },
  {
   "cell_type": "code",
   "execution_count": null,
   "metadata": {},
   "outputs": [],
   "source": []
  },
  {
   "cell_type": "markdown",
   "metadata": {},
   "source": [
    "So this silly code starts with x fixed at a value of 12, and y starting at 12 and decreasing by\n",
    "1 until y equals -1. The code returns the ratio of x to y and at one point y is equal to zero\n",
    "and the division would be undefined. By trapping the error the code can issue us a measure\n",
    "and keep running.\n",
    "\n",
    "Modify the script as shown below,Run, and see what happens"
   ]
  },
  {
   "cell_type": "raw",
   "metadata": {},
   "source": [
    "#NoErrorTrap.py\n",
    "x = 12.\n",
    "y = 12.\n",
    "while y >= -12.: # sentinel controlled repetition\n",
    "    print (\"x = \", x, \"y = \", y, \"x/y = \", x/y)\n",
    "    y -= 1"
   ]
  },
  {
   "cell_type": "code",
   "execution_count": null,
   "metadata": {},
   "outputs": [],
   "source": []
  },
  {
   "cell_type": "markdown",
   "metadata": {},
   "source": [
    "#### The `pass` to move on nothing to see here"
   ]
  },
  {
   "cell_type": "code",
   "execution_count": null,
   "metadata": {},
   "outputs": [],
   "source": []
  },
  {
   "cell_type": "code",
   "execution_count": null,
   "metadata": {},
   "outputs": [],
   "source": []
  },
  {
   "cell_type": "code",
   "execution_count": null,
   "metadata": {},
   "outputs": [],
   "source": []
  }
 ],
 "metadata": {
  "kernelspec": {
   "display_name": "Python 38",
   "language": "python",
   "name": "python38"
  },
  "language_info": {
   "codemirror_mode": {
    "name": "ipython",
    "version": 3
   },
   "file_extension": ".py",
   "mimetype": "text/x-python",
   "name": "python",
   "nbconvert_exporter": "python",
   "pygments_lexer": "ipython3",
   "version": "3.8.3"
  }
 },
 "nbformat": 4,
 "nbformat_minor": 4
}
