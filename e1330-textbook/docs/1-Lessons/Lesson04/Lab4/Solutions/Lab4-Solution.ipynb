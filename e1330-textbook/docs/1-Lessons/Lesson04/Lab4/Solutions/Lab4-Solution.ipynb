{
 "cells": [
  {
   "cell_type": "code",
   "execution_count": 4,
   "metadata": {},
   "outputs": [
    {
     "name": "stdout",
     "output_type": "stream",
     "text": [
      "atomickitty.aws\n",
      "compthink\n",
      "/opt/conda/envs/python/bin/python\n",
      "3.8.3 (default, Jul  2 2020, 16:21:59) \n",
      "[GCC 7.3.0]\n",
      "sys.version_info(major=3, minor=8, micro=3, releaselevel='final', serial=0)\n"
     ]
    }
   ],
   "source": [
    "# Preamble script block to identify host, user, and kernel\n",
    "import sys\n",
    "! hostname\n",
    "! whoami\n",
    "print(sys.executable)\n",
    "print(sys.version)\n",
    "print(sys.version_info)"
   ]
  },
  {
   "cell_type": "markdown",
   "metadata": {},
   "source": [
    "## Full name: Farhang Forghanparast\n",
    "## R#: 321654987\n",
    "## HEX: 0x132c10cb\n",
    "## Title of the notebook\n",
    "## Date: 9/1/2020"
   ]
  },
  {
   "cell_type": "markdown",
   "metadata": {},
   "source": [
    "# Program flow control (Loops)\n",
    "- Controlled repetition\n",
    "- Structured FOR Loop\n",
    "- Structured WHILE Loop"
   ]
  },
  {
   "cell_type": "markdown",
   "metadata": {},
   "source": [
    "## Count controlled repetition\n",
    "Count-controlled repetition is also called definite repetition because the number of repetitions is known before the loop begins executing. \n",
    "When we do not know in advance the number of times we want to execute a statement, we cannot use count-controlled repetition. \n",
    "In such an instance, we would use sentinel-controlled repetition. \n",
    "\n",
    "A count-controlled repetition will exit after running a certain number of times. \n",
    "The count is kept in a variable called an index or counter. \n",
    "When the index reaches a certain value (the loop bound) the loop will end. \n",
    "\n",
    "Count-controlled repetition requires\n",
    "\n",
    "* control variable (or loop counter)\n",
    "* initial value of the control variable\n",
    "* increment (or decrement) by which the control variable is modified each iteration through the loop\n",
    "* condition that tests for the final value of the control variable \n",
    "\n",
    "We can use both `for` and `while` loops, for count controlled repetition, but the `for` loop in combination with the `range()` function is more common.\n",
    "\n",
    "### Structured `FOR` loop\n",
    "We have seen the for loop already, but we will formally introduce it here. The `for` loop executes a block of code repeatedly until the condition in the `for` statement is no longer true.\n",
    "\n",
    "### Looping through an iterable\n",
    "An iterable is anything that can be looped over - typically a list, string, or tuple. \n",
    "The syntax for looping through an iterable is illustrated by an example.\n",
    "\n",
    "First a generic syntax\n",
    "\n",
    "    for a in iterable:\n",
    "    print(a)\n",
    "    \n",
    "Notice our friends the colon `:` and the indentation.\n",
    "Now a specific example"
   ]
  },
  {
   "cell_type": "code",
   "execution_count": 5,
   "metadata": {
    "collapsed": false,
    "jupyter": {
     "outputs_hidden": false
    }
   },
   "outputs": [
    {
     "name": "stdout",
     "output_type": "stream",
     "text": [
      "dusty\n",
      "aspen\n",
      "merrimee\n"
     ]
    }
   ],
   "source": [
    "# set a list\n",
    "MyPets = [\"dusty\",\"aspen\",\"merrimee\"]\n",
    "# loop thru the list\n",
    "for AllStrings in MyPets:\n",
    "    print(AllStrings)"
   ]
  },
  {
   "cell_type": "markdown",
   "metadata": {},
   "source": [
    "#### The `range()` function to create an iterable\n",
    "\n",
    "The `range(begin,end,increment)` function will create an iterable starting at a value of begin, in steps defined by increment (`begin += increment`), ending at `end`. \n",
    "\n",
    "So a generic syntax becomes\n",
    "\n",
    "    for a in range(begin,end,increment):\n",
    "    print(a)\n",
    "\n",
    "The example that follows is count-controlled repetition (increment skip if greater)"
   ]
  },
  {
   "cell_type": "code",
   "execution_count": 6,
   "metadata": {},
   "outputs": [
    {
     "name": "stdout",
     "output_type": "stream",
     "text": [
      "dusty\n",
      "aspen\n",
      "merrimee\n"
     ]
    }
   ],
   "source": [
    "# set a list\n",
    "MyPets = [\"dusty\",\"aspen\",\"merrimee\"]\n",
    "# loop thru the list\n",
    "for i in range(0,3,1): # Change the 1 to 2 and rerun, what happens?\n",
    "    print(MyPets[i])"
   ]
  },
  {
   "cell_type": "code",
   "execution_count": 7,
   "metadata": {
    "collapsed": false,
    "jupyter": {
     "outputs_hidden": false
    }
   },
   "outputs": [
    {
     "name": "stdout",
     "output_type": "stream",
     "text": [
      "2\n",
      "3\n",
      "4\n",
      "5\n"
     ]
    }
   ],
   "source": [
    "# For loop with range\n",
    "for x in range(2,6,1): # a sequence from 2 to 5 with steps of 1\n",
    "  print(x)"
   ]
  },
  {
   "cell_type": "code",
   "execution_count": 8,
   "metadata": {
    "collapsed": false,
    "jupyter": {
     "outputs_hidden": false
    }
   },
   "outputs": [
    {
     "name": "stdout",
     "output_type": "stream",
     "text": [
      "1\n",
      "3\n",
      "5\n",
      "7\n",
      "9\n",
      "11\n",
      "13\n",
      "15\n",
      "17\n",
      "19\n",
      "21\n",
      "23\n",
      "25\n"
     ]
    }
   ],
   "source": [
    "# Another example of For loop with range\n",
    "for y in range(1,27,2): # a sequence from 1 to 26 with steps of 2\n",
    "  print(y)"
   ]
  },
  {
   "cell_type": "markdown",
   "metadata": {},
   "source": [
    "<hr>"
   ]
  },
  {
   "cell_type": "markdown",
   "metadata": {},
   "source": [
    "### Exercise 1 : My own loop\n",
    "\n",
    "1904 was a leap year. Write a for loop that prints out all the leap years from in the 20th century (1900-1999).  "
   ]
  },
  {
   "cell_type": "code",
   "execution_count": 3,
   "metadata": {
    "collapsed": false,
    "jupyter": {
     "outputs_hidden": false
    }
   },
   "outputs": [
    {
     "name": "stdout",
     "output_type": "stream",
     "text": [
      "1904\n",
      "1908\n",
      "1912\n",
      "1916\n",
      "1920\n",
      "1924\n",
      "1928\n",
      "1932\n",
      "1936\n",
      "1940\n",
      "1944\n",
      "1948\n",
      "1952\n",
      "1956\n",
      "1960\n",
      "1964\n",
      "1968\n",
      "1972\n",
      "1976\n",
      "1980\n",
      "1984\n",
      "1988\n",
      "1992\n",
      "1996\n"
     ]
    }
   ],
   "source": [
    "# Exercise 1\n",
    "for years in range(1904,2000,4): # a sequence from 1904 to 1999 with steps of 4\n",
    "  print(years)\n"
   ]
  },
  {
   "cell_type": "markdown",
   "metadata": {},
   "source": [
    "<hr>"
   ]
  },
  {
   "cell_type": "markdown",
   "metadata": {},
   "source": [
    "## Sentinel-controlled repetition.\n",
    "\n",
    "When loop control is based on the value of what we are processing, sentinel-controlled repetition is used. \n",
    "Sentinel-controlled repetition is also called indefinite repetition because it is not known in advance how many times the loop will be executed. \n",
    "It is a repetition procedure for solving a problem by using a sentinel value (also called a signal value, a dummy value or a flag value) to indicate \"end of process\". \n",
    "The sentinel value itself need not be a part of the processed data.\n",
    "\n",
    "One common example of using sentinel-controlled repetition is when we are processing data from a file and we do not know in advance when we would reach the end of the file. \n",
    "\n",
    "We can use both `for` and `while` loops, for __Sentinel__ controlled repetition, but the `while` loop is more common.\n",
    "\n",
    "### Structured `WHILE` loop\n",
    "The `while` loop repeats a block of instructions inside the loop while a condition remainsvtrue.\n",
    "\n",
    "First a generic syntax\n",
    "\n",
    "    while condition is true:\n",
    "        execute a\n",
    "        execute b\n",
    "    ....\n",
    "\n",
    "Notice our friends the colon `:` and the indentation again."
   ]
  },
  {
   "cell_type": "code",
   "execution_count": 10,
   "metadata": {
    "collapsed": false,
    "jupyter": {
     "outputs_hidden": false
    }
   },
   "outputs": [
    {
     "name": "stdout",
     "output_type": "stream",
     "text": [
      "Counter =  5\n",
      "Counter =  4\n",
      "Counter =  3\n",
      "Counter =  2\n",
      "Counter =  1\n"
     ]
    }
   ],
   "source": [
    "# set a counter\n",
    "counter = 5\n",
    "# while loop\n",
    "while counter > 0:\n",
    "    print(\"Counter = \",counter)\n",
    "    counter = counter -1"
   ]
  },
  {
   "cell_type": "markdown",
   "metadata": {},
   "source": [
    "The while loop structure just depicted is a \"decrement, skip if equal\" in lower level languages. \n",
    "The next structure, also a while loop is an \"increment, skip if greater\" structure."
   ]
  },
  {
   "cell_type": "code",
   "execution_count": 5,
   "metadata": {
    "collapsed": false,
    "jupyter": {
     "outputs_hidden": false
    }
   },
   "outputs": [
    {
     "name": "stdout",
     "output_type": "stream",
     "text": [
      "Counter =  0\n",
      "Counter =  1\n",
      "Counter =  2\n",
      "Counter =  3\n",
      "Counter =  4\n",
      "Counter =  5\n"
     ]
    }
   ],
   "source": [
    "# set a counter\n",
    "counter = 0\n",
    "# while loop\n",
    "while counter <= 5:  # change this line to: while counter <= 5: what happens?\n",
    "    print (\"Counter = \",counter)\n",
    "    counter = counter +1  # change this line to: counter +=1  what happens?"
   ]
  },
  {
   "cell_type": "markdown",
   "metadata": {},
   "source": [
    "## Nested Repetition\n",
    "\n",
    "Nested repetition is when a control structure is placed inside of the body or main part of another control structure."
   ]
  },
  {
   "cell_type": "markdown",
   "metadata": {},
   "source": [
    "#### `break` to exit out of a loop\n",
    "\n",
    "Sometimes you may want to exit the loop when a certain condition different from the counting\n",
    "condition is met. Perhaps you are looping through a list and want to exit when you find the\n",
    "first element in the list that matches some criterion. The break keyword is useful for such\n",
    "an operation.\n",
    "For example run the following program:"
   ]
  },
  {
   "cell_type": "code",
   "execution_count": 2,
   "metadata": {
    "collapsed": false,
    "jupyter": {
     "outputs_hidden": false
    }
   },
   "outputs": [
    {
     "name": "stdout",
     "output_type": "stream",
     "text": [
      "i =  0 j =  2\n",
      "i =  1 j =  4\n",
      "i =  2 j =  6\n"
     ]
    }
   ],
   "source": [
    "#\n",
    "j = 0\n",
    "for i in range(0,9,1):\n",
    "    j += 2\n",
    "    print (\"i = \",i,\"j = \",j)\n",
    "    if j == 6:\n",
    "        break       "
   ]
  },
  {
   "cell_type": "markdown",
   "metadata": {},
   "source": [
    "Next change the program slightly to:"
   ]
  },
  {
   "cell_type": "code",
   "execution_count": 13,
   "metadata": {
    "collapsed": false,
    "jupyter": {
     "outputs_hidden": false
    }
   },
   "outputs": [
    {
     "name": "stdout",
     "output_type": "stream",
     "text": [
      "i =  0 j =  2\n",
      "i =  1 j =  4\n",
      "i =  2 j =  6\n",
      "i =  3 j =  8\n",
      "i =  4 j =  10\n"
     ]
    }
   ],
   "source": [
    "j = 0\n",
    "for i in range(0,5,1):\n",
    "    j += 2\n",
    "    print( \"i = \",i,\"j = \",j)\n",
    "    if j == 7:\n",
    "        break"
   ]
  },
  {
   "cell_type": "markdown",
   "metadata": {},
   "source": [
    "In the first case, the for loop only executes 3 times before the condition j == 6 is TRUE and the loop is exited. \n",
    "In the second case, j == 7 never happens so the loop completes all its anticipated traverses.\n",
    "\n",
    "In both cases an `if` statement was used within a for loop. Such \"mixed\" control structures\n",
    "are quite common (and pretty necessary). \n",
    "A `while` loop contained within a `for` loop, with several `if` statements would be very common and such a structure is called __nested control.__\n",
    "There is typically an upper limit to nesting but the limit is pretty large - easily in the\n",
    "hundreds. It depends on the language and the system architecture ; suffice to say it is not\n",
    "a practical limit except possibly for general-domain AI applications.\n",
    "<hr>"
   ]
  },
  {
   "cell_type": "markdown",
   "metadata": {},
   "source": [
    "We can also do mundane activities and leverage loops, arithmetic, and format codes to make useful tables like\n"
   ]
  },
  {
   "cell_type": "code",
   "execution_count": 6,
   "metadata": {
    "collapsed": false,
    "jupyter": {
     "outputs_hidden": false
    }
   },
   "outputs": [
    {
     "name": "stdout",
     "output_type": "stream",
     "text": [
      "     Cosines     \n",
      "   x    |  cos(x) \n",
      "--------|--------\n",
      "0.000   |  1.0000 \n",
      "0.100   |  0.9950 \n",
      "0.200   |  0.9801 \n",
      "0.300   |  0.9553 \n",
      "0.400   |  0.9211 \n",
      "0.500   |  0.8776 \n",
      "0.600   |  0.8253 \n",
      "0.700   |  0.7648 \n",
      "0.800   |  0.6967 \n",
      "0.900   |  0.6216 \n",
      "1.000   |  0.5403 \n",
      "1.100   |  0.4536 \n",
      "1.200   |  0.3624 \n",
      "1.300   |  0.2675 \n",
      "1.400   |  0.1700 \n",
      "1.500   |  0.0707 \n",
      "1.600   |  -0.0292 \n",
      "1.700   |  -0.1288 \n",
      "1.800   |  -0.2272 \n",
      "1.900   |  -0.3233 \n",
      "2.000   |  -0.4161 \n",
      "2.100   |  -0.5048 \n",
      "2.200   |  -0.5885 \n",
      "2.300   |  -0.6663 \n",
      "2.400   |  -0.7374 \n",
      "2.500   |  -0.8011 \n",
      "2.600   |  -0.8569 \n",
      "2.700   |  -0.9041 \n",
      "2.800   |  -0.9422 \n",
      "2.900   |  -0.9710 \n",
      "3.000   |  -0.9900 \n",
      "3.100   |  -0.9991 \n",
      "3.200   |  -0.9983 \n",
      "3.300   |  -0.9875 \n",
      "3.400   |  -0.9668 \n",
      "3.500   |  -0.9365 \n",
      "3.600   |  -0.8968 \n",
      "3.700   |  -0.8481 \n",
      "3.800   |  -0.7910 \n",
      "3.900   |  -0.7259 \n",
      "4.000   |  -0.6536 \n",
      "4.100   |  -0.5748 \n",
      "4.200   |  -0.4903 \n",
      "4.300   |  -0.4008 \n",
      "4.400   |  -0.3073 \n",
      "4.500   |  -0.2108 \n",
      "4.600   |  -0.1122 \n",
      "4.700   |  -0.0124 \n",
      "4.800   |  0.0875 \n",
      "4.900   |  0.1865 \n",
      "5.000   |  0.2837 \n",
      "5.100   |  0.3780 \n",
      "5.200   |  0.4685 \n",
      "5.300   |  0.5544 \n",
      "5.400   |  0.6347 \n",
      "5.500   |  0.7087 \n",
      "5.600   |  0.7756 \n",
      "5.700   |  0.8347 \n",
      "5.800   |  0.8855 \n",
      "5.900   |  0.9275 \n",
      "6.000   |  0.9602 \n",
      "6.100   |  0.9833 \n",
      "6.200   |  0.9965 \n",
      "6.300   |  0.9999 \n",
      "6.400   |  0.9932 \n",
      "6.500   |  0.9766 \n",
      "6.600   |  0.9502 \n",
      "6.700   |  0.9144 \n",
      "6.800   |  0.8694 \n",
      "6.900   |  0.8157 \n",
      "7.000   |  0.7539 \n",
      "7.100   |  0.6845 \n",
      "7.200   |  0.6084 \n",
      "7.300   |  0.5261 \n",
      "7.400   |  0.4385 \n",
      "7.500   |  0.3466 \n",
      "7.600   |  0.2513 \n",
      "7.700   |  0.1534 \n",
      "7.800   |  0.0540 \n",
      "7.900   |  -0.0460 \n",
      "8.000   |  -0.1455 \n",
      "8.100   |  -0.2435 \n",
      "8.200   |  -0.3392 \n",
      "8.300   |  -0.4314 \n",
      "8.400   |  -0.5193 \n",
      "8.500   |  -0.6020 \n",
      "8.600   |  -0.6787 \n",
      "8.700   |  -0.7486 \n",
      "8.800   |  -0.8111 \n",
      "8.900   |  -0.8654 \n",
      "9.000   |  -0.9111 \n",
      "9.100   |  -0.9477 \n",
      "9.200   |  -0.9748 \n",
      "9.300   |  -0.9922 \n",
      "9.400   |  -0.9997 \n",
      "9.500   |  -0.9972 \n",
      "9.600   |  -0.9847 \n",
      "9.700   |  -0.9624 \n",
      "9.800   |  -0.9304 \n",
      "9.900   |  -0.8892 \n",
      "10.000   |  -0.8391 \n",
      "10.100   |  -0.7806 \n",
      "10.200   |  -0.7143 \n",
      "10.300   |  -0.6408 \n",
      "10.400   |  -0.5610 \n",
      "10.500   |  -0.4755 \n",
      "10.600   |  -0.3853 \n",
      "10.700   |  -0.2913 \n",
      "10.800   |  -0.1943 \n",
      "10.900   |  -0.0954 \n",
      "11.000   |  0.0044 \n",
      "11.100   |  0.1042 \n",
      "11.200   |  0.2030 \n",
      "11.300   |  0.2997 \n",
      "11.400   |  0.3935 \n",
      "11.500   |  0.4833 \n",
      "11.600   |  0.5683 \n",
      "11.700   |  0.6476 \n",
      "11.800   |  0.7204 \n",
      "11.900   |  0.7861 \n",
      "12.000   |  0.8439 \n",
      "12.100   |  0.8932 \n",
      "12.200   |  0.9336 \n",
      "12.300   |  0.9647 \n",
      "12.400   |  0.9862 \n",
      "12.500   |  0.9978 \n",
      "12.600   |  0.9994 \n",
      "12.700   |  0.9911 \n",
      "12.800   |  0.9728 \n",
      "12.900   |  0.9449 \n",
      "13.000   |  0.9074 \n",
      "13.100   |  0.8610 \n",
      "13.200   |  0.8059 \n",
      "13.300   |  0.7427 \n",
      "13.400   |  0.6722 \n",
      "13.500   |  0.5949 \n",
      "13.600   |  0.5117 \n",
      "13.700   |  0.4234 \n",
      "13.800   |  0.3308 \n",
      "13.900   |  0.2349 \n",
      "14.000   |  0.1367 \n",
      "14.100   |  0.0372 \n",
      "14.200   |  -0.0628 \n",
      "14.300   |  -0.1621 \n",
      "14.400   |  -0.2598 \n",
      "14.500   |  -0.3549 \n",
      "14.600   |  -0.4465 \n",
      "14.700   |  -0.5336 \n",
      "14.800   |  -0.6154 \n",
      "14.900   |  -0.6910 \n",
      "15.000   |  -0.7597 \n",
      "15.100   |  -0.8208 \n",
      "15.200   |  -0.8737 \n",
      "15.300   |  -0.9179 \n",
      "15.400   |  -0.9530 \n",
      "15.500   |  -0.9785 \n",
      "15.600   |  -0.9942 \n"
     ]
    }
   ],
   "source": [
    "import math # package that contains cosine\n",
    "print(\"     Cosines     \")\n",
    "print(\"   x   \",\"|\",\" cos(x) \")\n",
    "print(\"--------|--------\")\n",
    "for i in range(0,157,1):\n",
    "    x = float(i)*0.1\n",
    "    print(\"%.3f\" % x, \"  |\", \" %.4f \"  % math.cos(x)) # note the format code and the placeholder % and syntax of using package"
   ]
  },
  {
   "cell_type": "markdown",
   "metadata": {},
   "source": [
    "\n",
    "### Exercise 2.\n",
    "\n",
    "Write a Python script that takes a real input value (a float) for x and returns the y\n",
    "value according to the rules below\n",
    "\n",
    "\\begin{gather}\n",
    "y = x~for~0 <= x < 1 \\\\\n",
    "y = x^2~for~1 <= x < 2 \\\\\n",
    "y = x + 2~for~2 <= x < 1 \\\\\n",
    "\\end{gather}\n",
    "\n",
    "Test the script with x values of 0.0, 1.0, 1.1, and 2.1"
   ]
  },
  {
   "cell_type": "code",
   "execution_count": 15,
   "metadata": {
    "cocalc": {
     "outputs": {
      "0": {
       "name": "input",
       "opts": {
        "password": false,
        "prompt": "Enter enter a float"
       },
       "output_type": "stream",
       "value": "1.7"
      }
     }
    },
    "collapsed": false,
    "jupyter": {
     "outputs_hidden": false
    }
   },
   "outputs": [
    {
     "name": "stdin",
     "output_type": "stream",
     "text": [
      "Enter enter a float 4\n"
     ]
    },
    {
     "name": "stdout",
     "output_type": "stream",
     "text": [
      "x: 4.0\n",
      "y is equal to 6.0\n"
     ]
    }
   ],
   "source": [
    "# Exercise 2\n",
    "userInput = input('Enter enter a float') #ask for user's input\n",
    "x = float(userInput)\n",
    "print(\"x:\", x)\n",
    "\n",
    "if x >= 0 and x < 1:\n",
    "    y = x\n",
    "    print(\"y is equal to\",y)\n",
    "elif x >= 1 and x < 2:\n",
    "    y = x*x\n",
    "    print(\"y is equal to\",y)\n",
    "else:\n",
    "    y = x+2\n",
    "    print(\"y is equal to\",y)"
   ]
  },
  {
   "cell_type": "markdown",
   "metadata": {},
   "source": [
    "<hr>"
   ]
  },
  {
   "cell_type": "markdown",
   "metadata": {},
   "source": [
    "### Exercise 3.\n",
    "using your script above, add functionality to **automaticaly** populate the table below:\n",
    "\n",
    "|x|y(x)|\n",
    "|---:|---:|\n",
    "|0.0|  |\n",
    "|1.0|  |\n",
    "|2.0|  |\n",
    "|3.0|  |\n",
    "|4.0|  |\n",
    "|5.0|  |"
   ]
  },
  {
   "cell_type": "code",
   "execution_count": 16,
   "metadata": {
    "collapsed": false,
    "jupyter": {
     "outputs_hidden": false
    }
   },
   "outputs": [
    {
     "name": "stdout",
     "output_type": "stream",
     "text": [
      "for x equal to 0 , y is equal to 0\n",
      "for x equal to 1 , y is equal to 1\n",
      "for x equal to 2 , y is equal to 4\n",
      "for x equal to 3 , y is equal to 5\n",
      "for x equal to 4 , y is equal to 6\n",
      "for x equal to 5 , y is equal to 7\n",
      "+---+---+\n",
      "| x | y |\n",
      "+---+---+\n",
      "| 0 | 0 |\n",
      "| 1 | 1 |\n",
      "| 2 | 4 |\n",
      "| 3 | 5 |\n",
      "| 4 | 6 |\n",
      "| 5 | 7 |\n",
      "+---+---+\n"
     ]
    }
   ],
   "source": [
    "# Exercise 3  -- get this far in lab, next two can be homework | with prettytable\n",
    "\n",
    "from prettytable import PrettyTable #Required to create tables\n",
    "\n",
    "t = PrettyTable(['x', 'y']) #Define an empty table\n",
    "\n",
    "\n",
    "for x in range(0,6,1):\n",
    "    if x >= 0 and x < 1:\n",
    "        y = x\n",
    "        print(\"for x equal to\", x, \", y is equal to\",y)\n",
    "        t.add_row([x, y]) #will add a row to the table \"t\"\n",
    "    elif x >= 1 and x < 2:\n",
    "        y = x*x\n",
    "        print(\"for x equal to\", x, \", y is equal to\",y)\n",
    "        t.add_row([x, y])\n",
    "    else:\n",
    "        y = x+2\n",
    "        print(\"for x equal to\", x, \", y is equal to\",y)\n",
    "        t.add_row([x, y])\n",
    "\n",
    "print(t)"
   ]
  },
  {
   "cell_type": "code",
   "execution_count": 17,
   "metadata": {
    "collapsed": false,
    "jupyter": {
     "outputs_hidden": false
    }
   },
   "outputs": [
    {
     "name": "stdout",
     "output_type": "stream",
     "text": [
      "---x--- | ---y---\n",
      "--------|--------\n",
      "   0    |     0 \n",
      "   1    |     1 \n",
      "   2    |     4 \n",
      "   3    |     5 \n",
      "   4    |     6 \n",
      "   5    |     7 \n"
     ]
    }
   ],
   "source": [
    "# Exercise 3  -- get this far in lab, next two can be homework | without pretty table\n",
    "\n",
    "print(\"---x---\",\"|\",\"---y---\")\n",
    "print(\"--------|--------\")\n",
    "for x in range(0,6,1):\n",
    "    if x >= 0 and x < 1:\n",
    "        y = x\n",
    "        print(\"%4i\" % x, \"   |\", \" %4i \" % y)\n",
    "    elif x >= 1 and x < 2:\n",
    "        y = x*x\n",
    "        print(\"%4i\" % x, \"   |\", \" %4i \" % y)\n",
    "    else:\n",
    "        y = x+2\n",
    "        print(\"%4i\" % x, \"   |\", \" %4i \" % y)"
   ]
  },
  {
   "cell_type": "markdown",
   "metadata": {},
   "source": [
    "<hr>"
   ]
  },
  {
   "cell_type": "markdown",
   "metadata": {},
   "source": [
    "### Exercise 4.\n",
    "Modify the script above to increment the values by 0.5. and automatically populate the table:\n",
    "\n",
    "|x|y(x)|\n",
    "|---:|---:|\n",
    "|0.0|  |\n",
    "|0.5|  |\n",
    "|1.0|  |\n",
    "|1.5|  |\n",
    "|2.0|  |\n",
    "|2.5|  |\n",
    "|3.0|  |\n",
    "|3.5|  |\n",
    "|4.0|  |\n",
    "|4.5|  |\n",
    "|5.0|  |\n"
   ]
  },
  {
   "cell_type": "code",
   "execution_count": 18,
   "metadata": {
    "collapsed": false,
    "jupyter": {
     "outputs_hidden": false
    },
    "scrolled": true
   },
   "outputs": [
    {
     "name": "stdout",
     "output_type": "stream",
     "text": [
      "for x equal to 0.5 , y is equal to 0.5\n",
      "for x equal to 1.0 , y is equal to 1.0\n",
      "for x equal to 1.5 , y is equal to 2.25\n",
      "for x equal to 2.0 , y is equal to 4.0\n",
      "for x equal to 2.5 , y is equal to 4.5\n",
      "for x equal to 3.0 , y is equal to 5.0\n",
      "for x equal to 3.5 , y is equal to 5.5\n",
      "for x equal to 4.0 , y is equal to 6.0\n",
      "for x equal to 4.5 , y is equal to 6.5\n",
      "for x equal to 5.0 , y is equal to 7.0\n",
      "+-----+------+\n",
      "|  x  |  y   |\n",
      "+-----+------+\n",
      "| 0.5 | 0.5  |\n",
      "| 1.0 | 1.0  |\n",
      "| 1.5 | 2.25 |\n",
      "| 2.0 | 4.0  |\n",
      "| 2.5 | 4.5  |\n",
      "| 3.0 | 5.0  |\n",
      "| 3.5 | 5.5  |\n",
      "| 4.0 | 6.0  |\n",
      "| 4.5 | 6.5  |\n",
      "| 5.0 | 7.0  |\n",
      "+-----+------+\n"
     ]
    }
   ],
   "source": [
    "# Exercise 4 \n",
    "from prettytable import PrettyTable\n",
    "\n",
    "t = PrettyTable(['x', 'y'])\n",
    "\n",
    "x=0\n",
    "for i in range(0,11,1):\n",
    "    x += 0.5\n",
    "    if x >= 0 and x < 1:\n",
    "        y = x\n",
    "        print(\"for x equal to\", x, \", y is equal to\",y)\n",
    "        t.add_row([x, y])\n",
    "    elif x >= 1 and x < 2:\n",
    "        y = x*x\n",
    "        print(\"for x equal to\", x, \", y is equal to\",y)\n",
    "        t.add_row([x, y])\n",
    "    elif x > 5:\n",
    "        break\n",
    "    else:\n",
    "        y = x+2\n",
    "        print(\"for x equal to\", x, \", y is equal to\",y)\n",
    "        t.add_row([x, y])\n",
    "print(t)"
   ]
  },
  {
   "cell_type": "markdown",
   "metadata": {},
   "source": [
    "<hr>"
   ]
  },
  {
   "cell_type": "markdown",
   "metadata": {},
   "source": [
    "#### The `continue` statement\n",
    "The continue instruction skips the block of code after it is executed for that iteration. \n",
    "It is\n",
    "best illustrated by an example."
   ]
  },
  {
   "cell_type": "code",
   "execution_count": 19,
   "metadata": {
    "collapsed": false,
    "jupyter": {
     "outputs_hidden": false
    }
   },
   "outputs": [
    {
     "name": "stdout",
     "output_type": "stream",
     "text": [
      "\n",
      " i =  0 , j =  2\n",
      " this message will be skipped over if j = 6 \n",
      "\n",
      " i =  1 , j =  4\n",
      " this message will be skipped over if j = 6 \n",
      "\n",
      " i =  2 , j =  6\n",
      "\n",
      " i =  3 , j =  8\n",
      " this message will be skipped over if j = 6 \n",
      "\n",
      " i =  4 , j =  10\n",
      " this message will be skipped over if j = 6 \n"
     ]
    }
   ],
   "source": [
    "j = 0\n",
    "for i in range(0,5,1):\n",
    "    j += 2\n",
    "    print (\"\\n i = \", i , \", j = \", j) #here the \\n is a newline command\n",
    "    if j == 6:\n",
    "        continue\n",
    "    print(\" this message will be skipped over if j = 6 \") # still within the loop, so the skip is implemented"
   ]
  },
  {
   "cell_type": "markdown",
   "metadata": {},
   "source": [
    "When j ==6 the line after the continue keyword is not printed. \n",
    "Other than that one\n",
    "difference the rest of the script runs normally."
   ]
  },
  {
   "cell_type": "markdown",
   "metadata": {},
   "source": [
    "#### The `try`, `except` structure\n",
    "\n",
    "An important control structure (and a pretty cool one for error trapping) is the `try`, `except`\n",
    "statement.\n",
    "\n",
    "The statement controls how the program proceeds when an error occurs in an instruction.\n",
    "The structure is really useful to trap likely errors (divide by zero, wrong kind of input) \n",
    "yet let the program keep running or at least issue a meaningful message to the user.\n",
    "\n",
    "The syntax is:\n",
    "\n",
    "    try:\n",
    "    do something\n",
    "    except:\n",
    "    do something else if ``do something'' returns an error\n",
    "\n",
    "Here is a really simple, but hugely important example:"
   ]
  },
  {
   "cell_type": "code",
   "execution_count": 20,
   "metadata": {
    "collapsed": false,
    "jupyter": {
     "outputs_hidden": false
    }
   },
   "outputs": [
    {
     "name": "stdout",
     "output_type": "stream",
     "text": [
      "x =  12.0 y =  12.0 x/y =  1.0\n",
      "x =  12.0 y =  11.0 x/y =  1.0909090909090908\n",
      "x =  12.0 y =  10.0 x/y =  1.2\n",
      "x =  12.0 y =  9.0 x/y =  1.3333333333333333\n",
      "x =  12.0 y =  8.0 x/y =  1.5\n",
      "x =  12.0 y =  7.0 x/y =  1.7142857142857142\n",
      "x =  12.0 y =  6.0 x/y =  2.0\n",
      "x =  12.0 y =  5.0 x/y =  2.4\n",
      "x =  12.0 y =  4.0 x/y =  3.0\n",
      "x =  12.0 y =  3.0 x/y =  4.0\n",
      "x =  12.0 y =  2.0 x/y =  6.0\n",
      "x =  12.0 y =  1.0 x/y =  12.0\n",
      "error divide by zero\n",
      "x =  12.0 y =  -1.0 x/y =  -12.0\n",
      "x =  12.0 y =  -2.0 x/y =  -6.0\n",
      "x =  12.0 y =  -3.0 x/y =  -4.0\n",
      "x =  12.0 y =  -4.0 x/y =  -3.0\n",
      "x =  12.0 y =  -5.0 x/y =  -2.4\n",
      "x =  12.0 y =  -6.0 x/y =  -2.0\n",
      "x =  12.0 y =  -7.0 x/y =  -1.7142857142857142\n",
      "x =  12.0 y =  -8.0 x/y =  -1.5\n",
      "x =  12.0 y =  -9.0 x/y =  -1.3333333333333333\n",
      "x =  12.0 y =  -10.0 x/y =  -1.2\n",
      "x =  12.0 y =  -11.0 x/y =  -1.0909090909090908\n",
      "x =  12.0 y =  -12.0 x/y =  -1.0\n"
     ]
    }
   ],
   "source": [
    "#MyErrorTrap.py\n",
    "x = 12.\n",
    "y = 12.\n",
    "while y >= -12.: # sentinel controlled repetition\n",
    "    try:         \n",
    "        print (\"x = \", x, \"y = \", y, \"x/y = \", x/y)\n",
    "    except:\n",
    "        print (\"error divide by zero\")\n",
    "    y -= 1"
   ]
  },
  {
   "cell_type": "markdown",
   "metadata": {},
   "source": [
    "So this silly code starts with x fixed at a value of 12, and y starting at 12 and decreasing by\n",
    "1 until y equals -1. The code returns the ratio of x to y and at one point y is equal to zero\n",
    "and the division would be undefined. By trapping the error the code can issue us a measure\n",
    "and keep running.\n",
    "\n",
    "Modify the script as shown below,Run, and see what happens"
   ]
  },
  {
   "cell_type": "code",
   "execution_count": 21,
   "metadata": {
    "collapsed": false,
    "jupyter": {
     "outputs_hidden": false
    }
   },
   "outputs": [
    {
     "name": "stdout",
     "output_type": "stream",
     "text": [
      "x =  12.0 y =  12.0 x/y =  1.0\n",
      "x =  12.0 y =  11.0 x/y =  1.0909090909090908\n",
      "x =  12.0 y =  10.0 x/y =  1.2\n",
      "x =  12.0 y =  9.0 x/y =  1.3333333333333333\n",
      "x =  12.0 y =  8.0 x/y =  1.5\n",
      "x =  12.0 y =  7.0 x/y =  1.7142857142857142\n",
      "x =  12.0 y =  6.0 x/y =  2.0\n",
      "x =  12.0 y =  5.0 x/y =  2.4\n",
      "x =  12.0 y =  4.0 x/y =  3.0\n",
      "x =  12.0 y =  3.0 x/y =  4.0\n",
      "x =  12.0 y =  2.0 x/y =  6.0\n",
      "x =  12.0 y =  1.0 x/y =  12.0\n"
     ]
    },
    {
     "ename": "ZeroDivisionError",
     "evalue": "float division by zero",
     "output_type": "error",
     "traceback": [
      "\u001b[0;31m---------------------------------------------------------------------------\u001b[0m",
      "\u001b[0;31mZeroDivisionError\u001b[0m                         Traceback (most recent call last)",
      "\u001b[0;32m<ipython-input-21-82eeaceb9a12>\u001b[0m in \u001b[0;36m<module>\u001b[0;34m\u001b[0m\n\u001b[1;32m      3\u001b[0m \u001b[0my\u001b[0m \u001b[0;34m=\u001b[0m \u001b[0;36m12.\u001b[0m\u001b[0;34m\u001b[0m\u001b[0;34m\u001b[0m\u001b[0m\n\u001b[1;32m      4\u001b[0m \u001b[0;32mwhile\u001b[0m \u001b[0my\u001b[0m \u001b[0;34m>=\u001b[0m \u001b[0;34m-\u001b[0m\u001b[0;36m12.\u001b[0m\u001b[0;34m:\u001b[0m \u001b[0;31m# sentinel controlled repetition\u001b[0m\u001b[0;34m\u001b[0m\u001b[0;34m\u001b[0m\u001b[0m\n\u001b[0;32m----> 5\u001b[0;31m     \u001b[0mprint\u001b[0m \u001b[0;34m(\u001b[0m\u001b[0;34m\"x = \"\u001b[0m\u001b[0;34m,\u001b[0m \u001b[0mx\u001b[0m\u001b[0;34m,\u001b[0m \u001b[0;34m\"y = \"\u001b[0m\u001b[0;34m,\u001b[0m \u001b[0my\u001b[0m\u001b[0;34m,\u001b[0m \u001b[0;34m\"x/y = \"\u001b[0m\u001b[0;34m,\u001b[0m \u001b[0mx\u001b[0m\u001b[0;34m/\u001b[0m\u001b[0my\u001b[0m\u001b[0;34m)\u001b[0m\u001b[0;34m\u001b[0m\u001b[0;34m\u001b[0m\u001b[0m\n\u001b[0m\u001b[1;32m      6\u001b[0m     \u001b[0my\u001b[0m \u001b[0;34m-=\u001b[0m \u001b[0;36m1\u001b[0m\u001b[0;34m\u001b[0m\u001b[0;34m\u001b[0m\u001b[0m\n",
      "\u001b[0;31mZeroDivisionError\u001b[0m: float division by zero"
     ]
    }
   ],
   "source": [
    "#NoErrorTrap.py\n",
    "x = 12.\n",
    "y = 12.\n",
    "while y >= -12.: # sentinel controlled repetition\n",
    "    print (\"x = \", x, \"y = \", y, \"x/y = \", x/y)\n",
    "    y -= 1"
   ]
  },
  {
   "cell_type": "markdown",
   "metadata": {},
   "source": [
    "### Exercise 5.\n",
    "\n",
    "Modify your Exercise 3 script to prompt the user for three inputs, a starting value for $x$ an increment to change $x$ by and how many steps to take.  Your script should produce a table like\n",
    "\n",
    "|x|y(x)|\n",
    "|---:|---:|\n",
    "|0.0|  |\n",
    "|1.0|  |\n",
    "|2.0|  |\n",
    "|3.0|  |\n",
    "|4.0|  |\n",
    "|5.0|  |\n",
    "\n",
    "but the increment can be different from 1.0 as above.\n",
    "\n",
    "Include error trapping that:\n",
    "\n",
    "1. Takes any numeric input for $x$ or its increment, and forces into a float.\n",
    "2. Takes any numeric input for number of steps. and forces into an integer.\n",
    "3. Takes any non-numeric input, issues a message that the input needs to be numeric, and makes the user try again.\n",
    "\n",
    "Once you have acceptable input, trap the condition if x < 0 and issue a message, otherwise complete the requisite arithmetic and build the table.\n",
    "\n",
    "Test your script with the following inputs for x, x_increment, num_steps\n",
    "\n",
    "    Case 1) fred , 0.5, 7\n",
    "    \n",
    "    Case 2) 0.0, 0.5, 7\n",
    "      \n",
    "    Case 3) -3.0, 0.5, 14"
   ]
  },
  {
   "cell_type": "code",
   "execution_count": 22,
   "metadata": {
    "cocalc": {
     "outputs": {
      "0": {
       "name": "input",
       "opts": {
        "password": false,
        "prompt": "Enter the starting value for x"
       },
       "output_type": "stream",
       "value": "0"
      },
      "1": {
       "name": "input",
       "opts": {
        "password": false,
        "prompt": "Enter the increment for x"
       },
       "output_type": "stream",
       "value": "0.5"
      },
      "2": {
       "name": "input",
       "opts": {
        "password": false,
        "prompt": "Enter how many steps for x"
       },
       "output_type": "stream",
       "value": "7"
      }
     }
    },
    "collapsed": false,
    "jupyter": {
     "outputs_hidden": false
    }
   },
   "outputs": [
    {
     "name": "stdin",
     "output_type": "stream",
     "text": [
      "Enter the starting value for x 3\n",
      "Enter the increment for x 2\n",
      "Enter how many steps for x 9\n"
     ]
    },
    {
     "name": "stdout",
     "output_type": "stream",
     "text": [
      "the range for x goes from 3.0  to 18.0  by increments of 2.0\n",
      "for x equal to 3.0 , y is equal to 5.0\n",
      "for x equal to 5.0 , y is equal to 7.0\n",
      "for x equal to 7.0 , y is equal to 9.0\n",
      "for x equal to 9.0 , y is equal to 11.0\n",
      "for x equal to 11.0 , y is equal to 13.0\n",
      "for x equal to 13.0 , y is equal to 15.0\n",
      "for x equal to 15.0 , y is equal to 17.0\n",
      "for x equal to 17.0 , y is equal to 19.0\n",
      "for x equal to 19.0 , y is equal to 21.0\n",
      "+------+------+\n",
      "|  x   |  y   |\n",
      "+------+------+\n",
      "| 3.0  | 5.0  |\n",
      "| 5.0  | 7.0  |\n",
      "| 7.0  | 9.0  |\n",
      "| 9.0  | 11.0 |\n",
      "| 11.0 | 13.0 |\n",
      "| 13.0 | 15.0 |\n",
      "| 15.0 | 17.0 |\n",
      "| 17.0 | 19.0 |\n",
      "| 19.0 | 21.0 |\n",
      "+------+------+\n"
     ]
    }
   ],
   "source": [
    "# Exercise 5  -- \n",
    "from prettytable import PrettyTable\n",
    "\n",
    "try:\n",
    "    userInput = input('Enter the starting value for x') #ask for user's input on the initial value\n",
    "    start = float(userInput)\n",
    "    userInput2 = input('Enter the increment for x') #ask for user's input on the increment\n",
    "    step = float(userInput2)\n",
    "    userInput3 = float(input('Enter how many steps for x')) #ask for user's input on the number of steps)\n",
    "    ns = int(userInput3)\n",
    "\n",
    "    stop = step*ns #compute the endpoint of the range by multiplying number of steps and their size\n",
    "    print(\"the range for x goes from\", start, \" to\", stop, \" by increments of\", step)\n",
    "    t = PrettyTable(['x', 'y'])\n",
    "    x=start - step\n",
    "    for i in range(0,ns,1):\n",
    "        x += step \n",
    "        if x >= 0 and x < 1:\n",
    "            y = x\n",
    "            print(\"for x equal to\", x, \", y is equal to\",y)\n",
    "            t.add_row([x, y])\n",
    "        elif x >= 1 and x < 2:\n",
    "            y = x*x\n",
    "            print(\"for x equal to\", x, \", y is equal to\",y)\n",
    "            t.add_row([x, y])\n",
    "        else:\n",
    "            y = x+2\n",
    "            print(\"for x equal to\", x, \", y is equal to\",y)\n",
    "            t.add_row([x, y])\n",
    "    print(t)\n",
    "except:\n",
    "    print (\"the input needs to be numeric. Please try again!\")\n"
   ]
  },
  {
   "cell_type": "code",
   "execution_count": null,
   "metadata": {},
   "outputs": [],
   "source": []
  }
 ],
 "metadata": {
  "kernelspec": {
   "display_name": "Python 3",
   "language": "python",
   "name": "python3"
  },
  "language_info": {
   "codemirror_mode": {
    "name": "ipython",
    "version": 3
   },
   "file_extension": ".py",
   "mimetype": "text/x-python",
   "name": "python",
   "nbconvert_exporter": "python",
   "pygments_lexer": "ipython3",
   "version": "3.8.5"
  }
 },
 "nbformat": 4,
 "nbformat_minor": 4
}
