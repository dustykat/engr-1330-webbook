{
 "cells": [
  {
   "cell_type": "code",
   "execution_count": 3,
   "metadata": {
    "collapsed": false,
    "jupyter": {
     "outputs_hidden": false,
     "source_hidden": true
    }
   },
   "outputs": [
    {
     "name": "stdout",
     "output_type": "stream",
     "text": [
      "atomickitty.aws\n",
      "compthink\n",
      "/opt/conda/envs/python/bin/python\n",
      "3.8.3 (default, Jul  2 2020, 16:21:59) \n",
      "[GCC 7.3.0]\n",
      "sys.version_info(major=3, minor=8, micro=3, releaselevel='final', serial=0)\n"
     ]
    }
   ],
   "source": [
    "# Preamble script block to identify host, user, and kernel\n",
    "import sys\n",
    "! hostname\n",
    "! whoami\n",
    "print(sys.executable)\n",
    "print(sys.version)\n",
    "print(sys.version_info)"
   ]
  },
  {
   "cell_type": "markdown",
   "metadata": {
    "jupyter": {
     "source_hidden": true
    }
   },
   "source": [
    "## Full name: Farhang Forghanparast\n",
    "## R#: 321654987\n",
    "## HEX: 0x132c10cb\n",
    "## Title of the notebook\n",
    "## Date: 9/1/2020"
   ]
  },
  {
   "cell_type": "markdown",
   "metadata": {},
   "source": [
    "# Program flow control (Loops)\n",
    "- Controlled repetition\n",
    "- Structured FOR Loop\n",
    "- Structured WHILE Loop"
   ]
  },
  {
   "cell_type": "markdown",
   "metadata": {},
   "source": [
    "## Count controlled repetition\n",
    "Count-controlled repetition is also called definite repetition because the number of repetitions is known before the loop begins executing. \n",
    "When we do not know in advance the number of times we want to execute a statement, we cannot use count-controlled repetition. \n",
    "In such an instance, we would use sentinel-controlled repetition. \n",
    "\n",
    "A count-controlled repetition will exit after running a certain number of times. \n",
    "The count is kept in a variable called an index or counter. \n",
    "When the index reaches a certain value (the loop bound) the loop will end. \n",
    "\n",
    "Count-controlled repetition requires\n",
    "\n",
    "* control variable (or loop counter)\n",
    "* initial value of the control variable\n",
    "* increment (or decrement) by which the control variable is modified each iteration through the loop\n",
    "* condition that tests for the final value of the control variable \n",
    "\n",
    "We can use both `for` and `while` loops, for count controlled repetition, but the `for` loop in combination with the `range()` function is more common.\n",
    "\n",
    "### Structured `FOR` loop\n",
    "We have seen the for loop already, but we will formally introduce it here. The `for` loop executes a block of code repeatedly until the condition in the `for` statement is no longer true.\n",
    "\n",
    "### Looping through an iterable\n",
    "An iterable is anything that can be looped over - typically a list, string, or tuple. \n",
    "The syntax for looping through an iterable is illustrated by an example.\n",
    "\n",
    "First a generic syntax\n",
    "\n",
    "    for a in iterable:\n",
    "    print(a)\n",
    "    \n",
    "Notice our friends the colon `:` and the indentation.\n",
    "Now a specific example"
   ]
  },
  {
   "cell_type": "code",
   "execution_count": 1,
   "metadata": {
    "collapsed": false,
    "jupyter": {
     "outputs_hidden": false
    }
   },
   "outputs": [
    {
     "name": "stdout",
     "output_type": "stream",
     "text": [
      "dusty\n",
      "aspen\n",
      "merrimee\n"
     ]
    }
   ],
   "source": [
    "# set a list\n",
    "MyPets = [\"dusty\",\"aspen\",\"merrimee\"]\n",
    "# loop thru the list\n",
    "for AllStrings in MyPets:\n",
    "    print(AllStrings)"
   ]
  },
  {
   "cell_type": "markdown",
   "metadata": {},
   "source": [
    "#### The `range()` function to create an iterable\n",
    "\n",
    "The `range(begin,end,increment)` function will create an iterable starting at a value of begin, in steps defined by increment (`begin += increment`), ending at `end`. \n",
    "\n",
    "So a generic syntax becomes\n",
    "\n",
    "    for a in range(begin,end,increment):\n",
    "    print(a)\n",
    "\n",
    "The example that follows is count-controlled repetition (increment skip if greater)  (change from RAW to CODE to run)"
   ]
  },
  {
   "cell_type": "raw",
   "metadata": {},
   "source": [
    "# set a list # change to CODE cell and run\n",
    "MyPets = [\"dusty\",\"aspen\",\"merrimee\"]\n",
    "# loop thru the list\n",
    "for i in range(0,3,1): # Change the 1 to 2 and rerun, what happens?\n",
    "    print(MyPets[i])"
   ]
  },
  {
   "cell_type": "raw",
   "metadata": {
    "jupyter": {
     "outputs_hidden": false
    }
   },
   "source": [
    "# For loop with range # change to CODE cell and run\n",
    "for x in range(2,6,1): # a sequence from 2 to 5 with steps of 1\n",
    "  print(x)"
   ]
  },
  {
   "cell_type": "raw",
   "metadata": {
    "jupyter": {
     "outputs_hidden": false
    }
   },
   "source": [
    "# Another example of For loop with range # change to CODE cell and run\n",
    "for y in range(1,27,2): # a sequence from 1 to 26 with steps of 2\n",
    "  print(y)"
   ]
  },
  {
   "cell_type": "markdown",
   "metadata": {},
   "source": [
    "<hr>"
   ]
  },
  {
   "cell_type": "markdown",
   "metadata": {},
   "source": [
    "### Exercise 1 : My own loop\n",
    "\n",
    "1904 was a leap year. Write a for loop that prints out all the leap years in the 20th century (1900-1999).  "
   ]
  },
  {
   "cell_type": "code",
   "execution_count": null,
   "metadata": {
    "collapsed": false,
    "jupyter": {
     "outputs_hidden": false
    }
   },
   "outputs": [],
   "source": [
    "# Exercise 1"
   ]
  },
  {
   "cell_type": "markdown",
   "metadata": {},
   "source": [
    "<hr>"
   ]
  },
  {
   "cell_type": "markdown",
   "metadata": {},
   "source": [
    "## Sentinel-controlled repetition.\n",
    "\n",
    "When loop control is based on the value of what we are processing, sentinel-controlled repetition is used. \n",
    "Sentinel-controlled repetition is also called indefinite repetition because it is not known in advance how many times the loop will be executed. \n",
    "It is a repetition procedure for solving a problem by using a sentinel value (also called a signal value, a dummy value or a flag value) to indicate \"end of process\". \n",
    "The sentinel value itself need not be a part of the processed data.\n",
    "\n",
    "One common example of using sentinel-controlled repetition is when we are processing data from a file and we do not know in advance when we would reach the end of the file. \n",
    "\n",
    "We can use both `for` and `while` loops, for __Sentinel__ controlled repetition, but the `while` loop is more common.\n",
    "\n",
    "### Structured `WHILE` loop\n",
    "The `while` loop repeats a block of instructions inside the loop while a condition remainsvtrue.\n",
    "\n",
    "First a generic syntax\n",
    "\n",
    "    while condition is true:\n",
    "        execute a\n",
    "        execute b\n",
    "    ....\n",
    "\n",
    "Notice our friends the colon `:` and the indentation again.  "
   ]
  },
  {
   "cell_type": "raw",
   "metadata": {
    "jupyter": {
     "outputs_hidden": false
    }
   },
   "source": [
    "# set a counter # change to CODE cell and run\n",
    "counter = 5\n",
    "# while loop\n",
    "while counter > 0:\n",
    "    print(\"Counter = \",counter)\n",
    "    counter = counter -1"
   ]
  },
  {
   "cell_type": "markdown",
   "metadata": {},
   "source": [
    "The while loop structure just depicted is a \"decrement, skip if equal\" in lower level languages. \n",
    "The next structure, also a while loop is an \"increment, skip if greater\" structure."
   ]
  },
  {
   "cell_type": "raw",
   "metadata": {
    "jupyter": {
     "outputs_hidden": false
    }
   },
   "source": [
    "# set a counter # change to CODE cell and run\n",
    "counter = 0\n",
    "# while loop\n",
    "while counter <= 5:  # change this line to: while counter <= 5: what happens?\n",
    "    print (\"Counter = \",counter)\n",
    "    counter = counter +1  # change this line to: counter +=1  what happens?"
   ]
  },
  {
   "cell_type": "markdown",
   "metadata": {},
   "source": [
    "## Nested Repetition\n",
    "\n",
    "Nested repetition is when a control structure is placed inside of the body or main part of another control structure."
   ]
  },
  {
   "cell_type": "markdown",
   "metadata": {},
   "source": [
    "#### `break` to exit out of a loop\n",
    "\n",
    "Sometimes you may want to exit the loop when a certain condition different from the counting\n",
    "condition is met. Perhaps you are looping through a list and want to exit when you find the\n",
    "first element in the list that matches some criterion. The break keyword is useful for such\n",
    "an operation.\n",
    "For example run the following program:"
   ]
  },
  {
   "cell_type": "raw",
   "metadata": {
    "jupyter": {
     "outputs_hidden": false
    }
   },
   "source": [
    "# change to CODE cell and run\n",
    "j = 0\n",
    "for i in range(0,5,1):\n",
    "    j += 2\n",
    "    print (\"i = \",i,\"j = \",j)\n",
    "    if j == 6:\n",
    "        break"
   ]
  },
  {
   "cell_type": "markdown",
   "metadata": {},
   "source": [
    "Next change the program slightly to:"
   ]
  },
  {
   "cell_type": "raw",
   "metadata": {
    "jupyter": {
     "outputs_hidden": false
    }
   },
   "source": [
    "# change to CODE cell and run\n",
    "j = 0\n",
    "for i in range(0,5,1):\n",
    "    j += 2\n",
    "    print( \"i = \",i,\"j = \",j)\n",
    "    if j == 7:\n",
    "        break"
   ]
  },
  {
   "cell_type": "markdown",
   "metadata": {},
   "source": [
    "In the first case, the for loop only executes 3 times before the condition j == 6 is TRUE and the loop is exited. \n",
    "In the second case, j == 7 never happens so the loop completes all its anticipated traverses.\n",
    "\n",
    "In both cases an `if` statement was used within a for loop. Such \"mixed\" control structures\n",
    "are quite common (and pretty necessary). \n",
    "A `while` loop contained within a `for` loop, with several `if` statements would be very common and such a structure is called __nested control.__\n",
    "There is typically an upper limit to nesting but the limit is pretty large - easily in the\n",
    "hundreds. It depends on the language and the system architecture ; suffice to say it is not\n",
    "a practical limit except possibly for general-domain AI applications.\n",
    "<hr>"
   ]
  },
  {
   "cell_type": "markdown",
   "metadata": {},
   "source": [
    "We can also do mundane activities and leverage loops, arithmetic, and format codes to make useful tables like\n"
   ]
  },
  {
   "cell_type": "raw",
   "metadata": {
    "jupyter": {
     "outputs_hidden": false
    }
   },
   "source": [
    "# change to CODE cell and run\n",
    "import math # package that contains cosine\n",
    "print(\"     Cosines     \")\n",
    "print(\"   x   \",\"|\",\" cos(x) \")\n",
    "print(\"--------|--------\")\n",
    "for i in range(0,157,1):\n",
    "    x = float(i)*0.001\n",
    "    print(\"%.3f\" % x, \"  |\", \" %.4f \"  % math.cos(x)) # note the format code and the placeholder % and syntax of using package"
   ]
  },
  {
   "cell_type": "markdown",
   "metadata": {},
   "source": [
    "<hr>\n",
    "### Exercise 2.\n",
    "\n",
    "Write a Python script that takes a real input value (a float) for x and returns the y\n",
    "value according to the rules below\n",
    "\n",
    "\\begin{gather}\n",
    "y = x~for~0 <= x < 1 \\\\\n",
    "y = x^2~for~1 <= x < 2 \\\\\n",
    "y = x + 2~for~2 <= x < 1 \\\\\n",
    "\\end{gather}\n",
    "\n",
    "Test the script with x values of 0.0, 1.0, 1.1, and 2.1"
   ]
  },
  {
   "cell_type": "code",
   "execution_count": null,
   "metadata": {
    "cocalc": {
     "outputs": {
      "0": {
       "name": "input",
       "opts": {
        "password": false,
        "prompt": "Enter enter a float"
       },
       "output_type": "stream",
       "value": "1.7"
      }
     }
    },
    "collapsed": false,
    "jupyter": {
     "outputs_hidden": false
    }
   },
   "outputs": [],
   "source": [
    "# Exercise 2"
   ]
  },
  {
   "cell_type": "markdown",
   "metadata": {},
   "source": [
    "<hr>"
   ]
  },
  {
   "cell_type": "markdown",
   "metadata": {},
   "source": [
    "### Exercise 3.\n",
    "using your script above, add functionality to **automaticaly** populate the table below:\n",
    "\n",
    "|x|y(x)|\n",
    "|---:|---:|\n",
    "|0.0|  |\n",
    "|1.0|  |\n",
    "|2.0|  |\n",
    "|3.0|  |\n",
    "|4.0|  |\n",
    "|5.0|  |"
   ]
  },
  {
   "cell_type": "code",
   "execution_count": null,
   "metadata": {
    "collapsed": false,
    "jupyter": {
     "outputs_hidden": false
    }
   },
   "outputs": [],
   "source": [
    "# Exercise 3  "
   ]
  },
  {
   "cell_type": "code",
   "execution_count": null,
   "metadata": {
    "collapsed": false,
    "jupyter": {
     "outputs_hidden": false
    }
   },
   "outputs": [],
   "source": []
  },
  {
   "cell_type": "markdown",
   "metadata": {},
   "source": [
    "<hr>"
   ]
  },
  {
   "cell_type": "markdown",
   "metadata": {},
   "source": [
    "### Exercise 4.\n",
    "Modify the script above to increment the values by 0.5. and automatically populate the table:\n",
    "\n",
    "|x|y(x)|\n",
    "|---:|---:|\n",
    "|0.0|  |\n",
    "|0.5|  |\n",
    "|1.0|  |\n",
    "|1.5|  |\n",
    "|2.0|  |\n",
    "|2.5|  |\n",
    "|3.0|  |\n",
    "|3.5|  |\n",
    "|4.0|  |\n",
    "|4.5|  |\n",
    "|5.0|  |\n"
   ]
  },
  {
   "cell_type": "code",
   "execution_count": null,
   "metadata": {
    "collapsed": false,
    "jupyter": {
     "outputs_hidden": false
    }
   },
   "outputs": [],
   "source": [
    "# Exercise 4 "
   ]
  },
  {
   "cell_type": "markdown",
   "metadata": {},
   "source": [
    "<hr>"
   ]
  },
  {
   "cell_type": "markdown",
   "metadata": {},
   "source": [
    "#### The `continue` statement\n",
    "The continue instruction skips the block of code after it is executed for that iteration. \n",
    "It is\n",
    "best illustrated by an example."
   ]
  },
  {
   "cell_type": "raw",
   "metadata": {
    "jupyter": {
     "outputs_hidden": false
    }
   },
   "source": [
    "# change to CODE cell and run\n",
    "j = 0\n",
    "for i in range(0,5,1):\n",
    "    j += 2\n",
    "    print (\"\\n i = \", i , \", j = \", j) #here the \\n is a newline command\n",
    "    if j == 6:\n",
    "        continue\n",
    "    print(\" this message will be skipped over if j = 6 \") # still within the loop, so the skip is implemented"
   ]
  },
  {
   "cell_type": "markdown",
   "metadata": {},
   "source": [
    "When j ==6 the line after the continue keyword is not printed. \n",
    "Other than that one\n",
    "difference the rest of the script runs normally."
   ]
  },
  {
   "cell_type": "markdown",
   "metadata": {},
   "source": [
    "#### The `try`, `except` structure\n",
    "\n",
    "An important control structure (and a pretty cool one for error trapping) is the `try`, `except`\n",
    "statement.\n",
    "\n",
    "The statement controls how the program proceeds when an error occurs in an instruction.\n",
    "The structure is really useful to trap likely errors (divide by zero, wrong kind of input) \n",
    "yet let the program keep running or at least issue a meaningful message to the user.\n",
    "\n",
    "The syntax is:\n",
    "\n",
    "    try:\n",
    "    do something\n",
    "    except:\n",
    "    do something else if ``do something'' returns an error\n",
    "\n",
    "Here is a really simple, but hugely important example:"
   ]
  },
  {
   "cell_type": "raw",
   "metadata": {
    "jupyter": {
     "outputs_hidden": false
    }
   },
   "source": [
    "#MyErrorTrap.py  # change to CODE cell and run\n",
    "x = 12.\n",
    "y = 12.\n",
    "while y >= -12.: # sentinel controlled repetition\n",
    "    try:         \n",
    "        print (\"x = \", x, \"y = \", y, \"x/y = \", x/y)\n",
    "    except:\n",
    "        print (\"error divide by zero\")\n",
    "    y -= 1"
   ]
  },
  {
   "cell_type": "markdown",
   "metadata": {},
   "source": [
    "So this silly code starts with x fixed at a value of 12, and y starting at 12 and decreasing by\n",
    "1 until y equals -1. The code returns the ratio of x to y and at one point y is equal to zero\n",
    "and the division would be undefined. By trapping the error the code can issue us a measure\n",
    "and keep running.\n",
    "\n",
    "Modify the script as shown below,Run, and see what happens"
   ]
  },
  {
   "cell_type": "raw",
   "metadata": {
    "jupyter": {
     "outputs_hidden": false
    }
   },
   "source": [
    "#NoErrorTrap.py  # change to CODE cell and run\n",
    "x = 12.\n",
    "y = 12.\n",
    "while y >= -12.: # sentinel controlled repetition\n",
    "    print (\"x = \", x, \"y = \", y, \"x/y = \", x/y)\n",
    "    y -= 1"
   ]
  },
  {
   "cell_type": "markdown",
   "metadata": {},
   "source": [
    "### Exercise 5.\n",
    "\n",
    "Modify your Exercise 3 script to prompt the user for three inputs, a starting value for $x$ an increment to change $x$ by and how many steps to take.  Your script should produce a table like\n",
    "\n",
    "|x|y(x)|\n",
    "|---:|---:|\n",
    "|0.0|  |\n",
    "|1.0|  |\n",
    "|2.0|  |\n",
    "|3.0|  |\n",
    "|4.0|  |\n",
    "|5.0|  |\n",
    "\n",
    "but the increment can be different from 1.0 as above.\n",
    "\n",
    "Include error trapping that:\n",
    "\n",
    "1. Takes any numeric input for $x$ or its increment, and forces into a float.\n",
    "2. Takes any numeric input for number of steps. and forces into an integer.\n",
    "3. Takes any non-numeric input, issues a message that the input needs to be numeric, and makes the user try again.\n",
    "\n",
    "Once you have acceptable input, trap the condition if x < 0 and issue a message, otherwise complete the requisite arithmetic and build the table.\n",
    "\n",
    "Test your script with the following inputs for x, x_increment, num_steps\n",
    "\n",
    "    Case 1) fred , 0.5, 7\n",
    "    \n",
    "    Case 2) 0.0, 0.5, 7\n",
    "      \n",
    "    Case 3) -3.0, 0.5, 14"
   ]
  },
  {
   "cell_type": "code",
   "execution_count": null,
   "metadata": {
    "cocalc": {
     "outputs": {
      "0": {
       "name": "input",
       "opts": {
        "password": false,
        "prompt": "Enter the starting value for x"
       },
       "output_type": "stream",
       "value": "0"
      },
      "1": {
       "name": "input",
       "opts": {
        "password": false,
        "prompt": "Enter the increment for x"
       },
       "output_type": "stream",
       "value": "0.5"
      },
      "2": {
       "name": "input",
       "opts": {
        "password": false,
        "prompt": "Enter how many steps for x"
       },
       "output_type": "stream",
       "value": "7"
      }
     }
    },
    "collapsed": false,
    "jupyter": {
     "outputs_hidden": false
    }
   },
   "outputs": [],
   "source": [
    "# Exercise 5 "
   ]
  }
 ],
 "metadata": {
  "kernelspec": {
   "display_name": "Python 38",
   "language": "python",
   "name": "python38"
  },
  "language_info": {
   "codemirror_mode": {
    "name": "ipython",
    "version": 3
   },
   "file_extension": ".py",
   "mimetype": "text/x-python",
   "name": "python",
   "nbconvert_exporter": "python",
   "pygments_lexer": "ipython3",
   "version": "3.8.3"
  }
 },
 "nbformat": 4,
 "nbformat_minor": 4
}
