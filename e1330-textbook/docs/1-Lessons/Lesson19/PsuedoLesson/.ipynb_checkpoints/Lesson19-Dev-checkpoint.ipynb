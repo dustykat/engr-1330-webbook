{
 "cells": [
  {
   "cell_type": "code",
   "execution_count": 5,
   "metadata": {},
   "outputs": [
    {
     "data": {
      "text/html": [
       "<!--Script block to left align Markdown Tables-->\n",
       "<style>\n",
       "  table {margin-left: 0 !important;}\n",
       "</style>\n"
      ],
      "text/plain": [
       "<IPython.core.display.HTML object>"
      ]
     },
     "metadata": {},
     "output_type": "display_data"
    }
   ],
   "source": [
    "%%html\n",
    "<!--Script block to left align Markdown Tables-->\n",
    "<style>\n",
    "  table {margin-left: 0 !important;}\n",
    "</style>"
   ]
  },
  {
   "cell_type": "code",
   "execution_count": 6,
   "metadata": {
    "collapsed": true,
    "jupyter": {
     "outputs_hidden": true
    }
   },
   "outputs": [
    {
     "name": "stdout",
     "output_type": "stream",
     "text": [
      "atomickitty.aws\n",
      "compthink\n",
      "/opt/conda/envs/python/bin/python\n",
      "3.8.3 (default, Jul  2 2020, 16:21:59) \n",
      "[GCC 7.3.0]\n",
      "sys.version_info(major=3, minor=8, micro=3, releaselevel='final', serial=0)\n"
     ]
    }
   ],
   "source": [
    "# Preamble script block to identify host, user, and kernel\n",
    "import sys\n",
    "! hostname\n",
    "! whoami\n",
    "print(sys.executable)\n",
    "print(sys.version)\n",
    "print(sys.version_info)"
   ]
  },
  {
   "cell_type": "markdown",
   "metadata": {},
   "source": [
    "# Data Modeling: Regression Approach\n",
    "\n",
    "Regression is a basic and commonly used type of predictive analysis.  \n",
    "The overall idea of regression is to assess: \n",
    "\n",
    "- does a set of predictor/explainatory variables (features) do a good job in predicting an outcome (dependent/response) variable?  \n",
    "- Which explainatory variables (features) in particular are significant predictors of the outcome variable, and in what way do they–indicated by the magnitude and sign of the beta estimates–impact the outcome variable?  \n",
    "- What is the estimated(predicted) value of the response under various excitation (explainatory) variable values?\n",
    "- What is the uncertainty involved in the prediction?\n",
    "\n",
    "These regression estimates are used to explain the relationship between one dependent variable and one or more independent variables.  \n",
    "\n",
    "The simplest form is a linear regression equation with one dependent(response) and one independent(explainatory) variable is defined by the formula \n",
    "\n",
    "$y_i = \\beta_0 + \\beta_1*x_i$, where $y_i$ = estimated dependent(response) variable value, $\\beta_0$ = constant(intercept), $\\beta_1$ = regression coefficient (slope), and $x_i$ = independent(predictor) variable value"
   ]
  },
  {
   "cell_type": "markdown",
   "metadata": {},
   "source": [
    "## Outline\n",
    "\n",
    "- Linear Regression – purpose\n",
    "- Background and simple by-hand examples\n",
    "- Linear systems representation(s)\n"
   ]
  },
  {
   "cell_type": "markdown",
   "metadata": {},
   "source": [
    "## Objectives\n",
    "\n",
    "- Create linear regression models from data using primitive python\n",
    "- Create linear regression models from data using NumPy and Pandas tools\n",
    "- Create presentation-quality graphs and charts for reporting results"
   ]
  },
  {
   "cell_type": "markdown",
   "metadata": {},
   "source": [
    "## Computational Thinking\n",
    "\n",
    "|Description|Computational Thinking Concept|\n",
    "|:---|:---|\n",
    "|Linear Model|Abstraction|\n",
    "|Response and Explanatory Variables|Decomposition|\n",
    "|Primitive arrays: vectors and matrices|Data Representation|\n",
    "|NumPy arrays: vectors and matrices|Data Representation|\n",
    "\n",
    "## Fundamental Questions\n",
    "\n",
    "- What is regression used for?\n",
    "- Why is it useful?\n",
    "\n",
    "Three major uses for regression analysis are (1) determining the strength of predictors, (2) forecasting an effect, and (3) trend forecasting.\n",
    "\n",
    "First, the regression might be used to identify the strength of the effect that the independent variable(s) have on a dependent variable.  Typical questions are what is the strength of relationship between dose and effect, sales and marketing spending, or age and income.\n",
    "\n",
    "Second, it can be used to forecast effects or impact of changes.  That is, the regression analysis helps us to understand how much the dependent variable changes with a change in one or more independent variables.  A typical question is, “how much additional sales income do I get for each additional $1000 spent on marketing?”\n",
    "\n",
    "Third, regression analysis predicts trends and future values.  The regression analysis can be used to get point estimates.  A typical question is, “what will the price of gold be in 6 months?”"
   ]
  },
  {
   "cell_type": "markdown",
   "metadata": {},
   "source": [
    "Consider the image below from a Texas Instruments Calculator user manual\n",
    "\n",
    "![](ti-manual.png)\n",
    "\n",
    "In the context of our class, the straight solid line is the `Data Model` whose equation is\n",
    "$Y = \\beta_0 + \\beta_1*X$.\n",
    "The ordered pairs $(x_i,y_i)$ in the scatterplot are the observation (or training set).\n",
    "As depicted here $Y$ is the response to different values of the explainitory variable $X$. The typical convention is response on the up-down axis, but not always.\n",
    "The model parameters are $\\beta_0$ and $\\beta_1$ ; once known can estimate (predict) response to (as yet) unobserved values of $x$\n",
    "\n",
    "Classically, the normal equations are evaluated to find the model parameters:\n",
    "\n",
    "$\\beta_1 = \\frac{\\sum x\\sum y~-~N\\sum xy}{(\\sum x)^2~-~N\\sum x^2}$ and $\\beta_0 = \\bar y - \\beta_1 \\bar x$"
   ]
  },
  {
   "cell_type": "markdown",
   "metadata": {},
   "source": [
    "### Classical Regression by Normal Equations\n",
    "\n",
    "We will illustrate the classical approach to finding the slope and intercept using the normal equations first a plotting function, then we will use the values from the Texas Instruments TI-55 user manual."
   ]
  },
  {
   "cell_type": "code",
   "execution_count": 3,
   "metadata": {},
   "outputs": [],
   "source": [
    "### Lets Make a Plotting Package\n",
    "\n",
    "def makeAbear(xvalues,yvalues,xleft,yleft,xright,yright,xlab,ylab,title):\n",
    "# plotting function dependent on matplotlib installed above \n",
    "# xvalues, yvalues == data pairs to scatterplot; FLOAT\n",
    "# xleft,yleft == left endpoint line to draw; FLOAT\n",
    "# xright,yright == right endpoint line to draw; FLOAT\n",
    "# xlab,ylab == axis labels, STRINGS!!\n",
    "# title == Plot title, STRING\n",
    "    import matplotlib.pyplot \n",
    "    matplotlib.pyplot.scatter(xvalues,yvalues)\n",
    "    matplotlib.pyplot.plot([xleft, xright], [yleft, yright], 'k--', lw=2, color=\"red\")\n",
    "    matplotlib.pyplot.xlabel(xlab)\n",
    "    matplotlib.pyplot.ylabel(ylab)\n",
    "    matplotlib.pyplot.title(title)\n",
    "    matplotlib.pyplot.show()\n",
    "    return"
   ]
  },
  {
   "cell_type": "code",
   "execution_count": 4,
   "metadata": {},
   "outputs": [
    {
     "data": {
      "image/png": "[encoded data removed]",
      "text/plain": [
       "<Figure size 432x288 with 1 Axes>"
      ]
     },
     "metadata": {
      "needs_background": "light"
     },
     "output_type": "display_data"
    }
   ],
   "source": [
    "# Make two lists\n",
    "sample_length = [101.3,103.7,98.6,99.9,97.2,100.1]\n",
    "sample_weight = [609,626,586,594,579,605]\n",
    "# We will assume weight is the explainatory variable, and it is to be used to predict length.\n",
    "makeAbear(sample_weight, sample_length,580,96,630,106,'Weight (g)','Length (cm)','Length versus Weight for \\n NASA CF0132 Fiber Reinforced Polymer')"
   ]
  },
  {
   "cell_type": "markdown",
   "metadata": {},
   "source": [
    "Notice the dashed line, we supplied only two (x,y) pairs to plot the line, so lets get a colonoscope and find where it came from."
   ]
  },
  {
   "cell_type": "code",
   "execution_count": 6,
   "metadata": {},
   "outputs": [],
   "source": [
    "def myline(slope,intercept,value1,value2):\n",
    "    '''Returns a tuple ([x1,x2],[y1,y2]) from y=slope*value+intercept'''\n",
    "    listy = [] \n",
    "    listx = []\n",
    "    listx.append(value1)\n",
    "    listx.append(value2)\n",
    "    listy.append(slope*listx[0]+intercept)\n",
    "    listy.append(slope*listx[1]+intercept)\n",
    "    return(listx,listy)"
   ]
  },
  {
   "cell_type": "code",
   "execution_count": 19,
   "metadata": {},
   "outputs": [
    {
     "data": {
      "image/png": "[encoded data removed]",
      "text/plain": [
       "<Figure size 432x288 with 1 Axes>"
      ]
     },
     "metadata": {
      "needs_background": "light"
     },
     "output_type": "display_data"
    }
   ],
   "source": [
    "slope = 0.129  #0.13\n",
    "intercept = 22.813 # 23\n",
    "xlow = 580\n",
    "xhigh = 630\n",
    "object = myline(slope,intercept,xlow,xhigh)\n",
    "xone = object[0][0]; xtwo = object[0][1]; yone = object[1][0]; ytwo = object[1][1]\n",
    "makeAbear(sample_weight, sample_length,xone,yone,xtwo,ytwo,'Weight (g)','Length (cm)','Length versus Weight for \\n NASA CF0132 Fiber Reinforced Polymer')"
   ]
  },
  {
   "cell_type": "code",
   "execution_count": 17,
   "metadata": {},
   "outputs": [
    {
     "name": "stdout",
     "output_type": "stream",
     "text": [
      "580 97.4\n",
      "630 103.9\n"
     ]
    }
   ],
   "source": [
    "print(xone,yone)\n",
    "print(xtwo,ytwo)"
   ]
  },
  {
   "cell_type": "code",
   "execution_count": 18,
   "metadata": {},
   "outputs": [
    {
     "name": "stdout",
     "output_type": "stream",
     "text": [
      "Linear Model is y=0.129 x + 22.813\n"
     ]
    }
   ],
   "source": [
    "# Evaluate the normal equations\n",
    "sumx = 0.0\n",
    "sumy = 0.0\n",
    "sumxy = 0.0\n",
    "sumx2 = 0.0\n",
    "sumy2 = 0.0\n",
    "for i in range(len(sample_weight)):\n",
    "    sumx = sumx + sample_weight[i]\n",
    "    sumx2 = sumx2 + sample_weight[i]**2\n",
    "    sumy = sumy + sample_length[i]\n",
    "    sumy2 = sumy2 + sample_length[i]**2\n",
    "    sumxy = sumxy + sample_weight[i]*sample_length[i]\n",
    "b1 = (sumx*sumy - len(sample_weight)*sumxy)/(sumx**2-len(sample_weight)*sumx2)\n",
    "b0 = sumy/len(sample_length) - b1* (sumx/len(sample_weight))\n",
    "lineout = (\"Linear Model is y=%.3f\" % b1) + (\"x + %.3f\" % b0)\n",
    "print(\"Linear Model is y=%.3f\" % b1 ,\"x + %.3f\" % b0)"
   ]
  },
  {
   "cell_type": "code",
   "execution_count": 20,
   "metadata": {},
   "outputs": [
    {
     "data": {
      "image/png": "[encoded data removed]",
      "text/plain": [
       "<Figure size 432x288 with 1 Axes>"
      ]
     },
     "metadata": {
      "needs_background": "light"
     },
     "output_type": "display_data"
    }
   ],
   "source": [
    "slope = 0.129  #0.129\n",
    "intercept = 22.813  # 22.813\n",
    "xlow = 580\n",
    "xhigh = 630\n",
    "object = myline(slope,intercept,xlow,xhigh)\n",
    "xone = object[0][0]; xtwo = object[0][1]; yone = object[1][0]; ytwo = object[1][1]\n",
    "makeAbear(sample_weight, sample_length,xone,yone,xtwo,ytwo,'Weight (g)','Length (cm)','Length versus Weight for \\n NASA CF0132 Fiber Reinforced Polymer')"
   ]
  },
  {
   "cell_type": "markdown",
   "metadata": {},
   "source": [
    "### Where do these normal equations come from?\n",
    "Consider our linear model $y = \\beta_0 + \\beta_1 \\cdot x + \\epsilon$. Where $\\epsilon$ is the error in the estimate. If we square each error and add them up (for our training set) we will have $\\sum \\epsilon^2 = \\sum (y_i - \\beta_0 - \\beta_1 \\cdot x_i)^2 $.  Our goal is to minimize this error by our choice of $\\beta_0 $ and $ \\beta_1 $\n",
    "\n",
    "The necessary and sufficient conditions for a minimum is that the first partial derivatives of the `error` as a function must vanish (be equal to zero).  We can leverage that requirement as\n",
    "\n",
    "$\\frac{\\partial(\\sum \\epsilon^2)}{\\partial \\beta_0} = \\frac{\\partial{\\sum (y_i - \\beta_0 - \\beta_1 \\cdot x_i)^2}}{\\partial \\beta_0} = - \\sum 2[y_i - \\beta_0 + \\beta_1 \\cdot x_i] = -2(\\sum_{i=1}^n y_i - n \\beta_0 - \\beta_1 \\sum_{i=1}^n x_i) = 0 $\n",
    "\n",
    "and\n",
    "\n",
    "$\\frac{\\partial(\\sum \\epsilon^2)}{\\partial \\beta_1} = \\frac{\\partial{\\sum (y_i - \\beta_0 - \\beta_1 \\cdot x_i)^2}}{\\partial \\beta_1} = - \\sum 2[y_i - \\beta_0 + \\beta_1 \\cdot x_i]x_i = -2(\\sum_{i=1}^n x_i y_i - n \\beta_0 \\sum_{i=1}^n x_i - \\beta_1 \\sum_{i=1}^n x_i^2) = 0 $\n",
    "\n",
    "Solving the two equations for $\\beta_0$ and $\\beta_1$ produces the normal equations (for linear least squares), which leads to\n",
    "\n",
    "$\\beta_1 = \\frac{\\sum x\\sum y~-~n\\sum xy}{(\\sum x)^2~-~n\\sum x^2}$\n",
    "$\\beta_0 = \\bar y - \\beta_1 \\bar x$\n",
    "\n"
   ]
  },
  {
   "cell_type": "markdown",
   "metadata": {},
   "source": [
    "Lets consider a more flexible way by fitting the data model using linear algebra instead of the summation notation.\n",
    "\n",
    "### Computational Linear Algebra \n",
    "We will start again with our linear data model\n",
    "\n",
    "$y_i = \\beta_0 + \\beta_1 \\cdot x_i + \\epsilon_i$  then replace with vectors as\n",
    "\n",
    "\\begin{gather}\n",
    "\\mathbf{Y}=\n",
    "\\begin{pmatrix}\n",
    "y_1 \\\\\n",
    "y_2 \\\\\n",
    "\\vdots \\\\\n",
    "y_n \\\\\n",
    "\\end{pmatrix}\n",
    "\\end{gather}\n",
    "\n",
    "\\begin{gather}\n",
    "\\mathbf{\\beta}=\n",
    "\\begin{pmatrix}\n",
    "\\beta_0 \\\\\n",
    "\\beta_1 \\\\\n",
    "\\end{pmatrix}\n",
    "\\end{gather}\n",
    "\n",
    "\\begin{gather}\n",
    "\\mathbf{X}=\n",
    "\\begin{pmatrix}\n",
    "1 & x_1 \\\\\n",
    "1 & x_2 \\\\\n",
    "\\vdots \\\\\n",
    "1 & x_n \\\\\n",
    "\\end{pmatrix}\n",
    "\\end{gather}\n",
    "\n",
    "\\begin{gather}\n",
    "\\mathbf{\\epsilon}=\n",
    "\\begin{pmatrix}\n",
    "\\epsilon_1 \\\\\n",
    "\\epsilon_2 \\\\\n",
    "\\vdots \\\\\n",
    "\\epsilon_n \\\\\n",
    "\\end{pmatrix}\n",
    "\\end{gather}\n",
    "\n",
    "So our system can now be expressed in matrix-vector form as\n",
    "\n",
    "$\\mathbf{Y}=\\mathbf{X}\\mathbf{\\beta}+\\mathbf{\\epsilon}$ if we perfrom the same vector calculus as before we will end up with a result where pre-multiply by the transpose of $\\mathbf{X}$ we will have a linear system in $\\mathbf{\\beta}$ which we can solve using Gaussian reduction, or LU decomposition or some other similar method.\n",
    "\n",
    "The resulting system (that minimizes $\\mathbf{\\epsilon^T}\\mathbf{\\epsilon}$) is\n",
    "\n",
    "$\\mathbf{X^T}\\mathbf{Y}=\\mathbf{X^T}\\mathbf{X}\\mathbf{\\beta}$ and solving for the parameters gives\n",
    "$\\mathbf{\\beta}=(\\mathbf{X^T}\\mathbf{X})^{-1}\\mathbf{X^T}\\mathbf{Y}$\n",
    "\n",
    "So lets apply it to our example - what follows is mostly in python primative"
   ]
  },
  {
   "cell_type": "code",
   "execution_count": 21,
   "metadata": {},
   "outputs": [],
   "source": [
    "# linearsolver with pivoting adapted from \n",
    "# https://stackoverflow.com/questions/31957096/gaussian-elimination-with-pivoting-in-python/31959226\n",
    "def linearsolver(A,b):\n",
    "    n = len(A)\n",
    "    M = A\n",
    "\n",
    "    i = 0\n",
    "    for x in M:\n",
    "     x.append(b[i])\n",
    "     i += 1\n",
    "# row reduction with pivots\n",
    "    for k in range(n):\n",
    "     for i in range(k,n):\n",
    "       if abs(M[i][k]) > abs(M[k][k]):\n",
    "          M[k], M[i] = M[i],M[k]\n",
    "       else:\n",
    "          pass\n",
    "\n",
    "     for j in range(k+1,n):\n",
    "         q = float(M[j][k]) / M[k][k]\n",
    "         for m in range(k, n+1):\n",
    "            M[j][m] -=  q * M[k][m]\n",
    "# allocate space for result\n",
    "    x = [0 for i in range(n)]\n",
    "# back-substitution\n",
    "    x[n-1] =float(M[n-1][n])/M[n-1][n-1]\n",
    "    for i in range (n-1,-1,-1):\n",
    "      z = 0\n",
    "      for j in range(i+1,n):\n",
    "          z = z  + float(M[i][j])*x[j]\n",
    "      x[i] = float(M[i][n] - z)/M[i][i]\n",
    "# return result\n",
    "    return(x)\n",
    "#######"
   ]
  },
  {
   "cell_type": "code",
   "execution_count": 22,
   "metadata": {},
   "outputs": [
    {
     "data": {
      "image/png": "[encoded data removed]",
      "text/plain": [
       "<Figure size 432x288 with 1 Axes>"
      ]
     },
     "metadata": {
      "needs_background": "light"
     },
     "output_type": "display_data"
    }
   ],
   "source": [
    "# matrix multiply script\n",
    "def mmult(amatrix,bmatrix,rowNumA,colNumA,rowNumB,colNumB):\n",
    "    result_matrix = [[0 for j in range(colNumB)] for i in range(rowNumA)]\n",
    "    for i in range(0,rowNumA):\n",
    "        for j in range(0,colNumB):\n",
    "            for k in range(0,colNumA):\n",
    "                result_matrix[i][j]=result_matrix[i][j]+amatrix[i][k]*bmatrix[k][j]\n",
    "    return(result_matrix)\n",
    "# matrix vector multiply script\n",
    "def mvmult(amatrix,bvector,rowNumA,colNumA):\n",
    "    result_v = [0 for i in range(rowNumA)]\n",
    "    for i in range(0,rowNumA):\n",
    "        for j in range(0,colNumA):\n",
    "                result_v[i]=result_v[i]+amatrix[i][j]*bvector[j]\n",
    "    return(result_v)\n",
    "\n",
    "colNumX=2 #\n",
    "rowNumX=len(sample_weight)\n",
    "xmatrix = [[1 for j in range(colNumX)]for i in range(rowNumX)]\n",
    "xtransp = [[1 for j in range(rowNumX)]for i in range(colNumX)]\n",
    "yvector = [0 for i in range(rowNumX)]\n",
    "for irow in range(rowNumX):\n",
    "    xmatrix[irow][1]=sample_weight[irow]\n",
    "    xtransp[1][irow]=sample_weight[irow]\n",
    "    yvector[irow]   =sample_length[irow]\n",
    "xtx = [[0 for j in range(colNumX)]for i in range(colNumX)]\n",
    "xty = []\n",
    "\n",
    "xtx = mmult(xtransp,xmatrix,colNumX,rowNumX,rowNumX,colNumX)\n",
    "xty = mvmult(xtransp,yvector,colNumX,rowNumX)\n",
    "\n",
    "beta = []\n",
    "#solve XtXB = XtY for B\n",
    "beta = linearsolver(xtx,xty) #Solve the linear system\n",
    "\n",
    "slope = beta[1] #0.129\n",
    "intercept = beta[0]  # 22.813\n",
    "xlow = 580\n",
    "xhigh = 630\n",
    "object = myline(slope,intercept,xlow,xhigh)\n",
    "xone = object[0][0]; xtwo = object[0][1]; yone = object[1][0]; ytwo = object[1][1]\n",
    "makeAbear(sample_weight, sample_length,xone,yone,xtwo,ytwo,'Weight (g)','Length (cm)','Length versus Weight for \\n NASA CF0132 Fiber Reinforced Polymer')"
   ]
  },
  {
   "cell_type": "code",
   "execution_count": 75,
   "metadata": {},
   "outputs": [
    {
     "data": {
      "text/plain": [
       "[22.812624584693076, 0.12890365448509072]"
      ]
     },
     "execution_count": 75,
     "metadata": {},
     "output_type": "execute_result"
    }
   ],
   "source": [
    "beta"
   ]
  },
  {
   "cell_type": "markdown",
   "metadata": {},
   "source": [
    "#### What's the Value of the Computational Linear Algebra ?\n",
    "\n",
    "The value comes when we have more explainatory variables, and we may want to deal with curvature."
   ]
  },
  {
   "cell_type": "code",
   "execution_count": 23,
   "metadata": {},
   "outputs": [
    {
     "data": {
      "image/png": "[encoded data removed]",
      "text/plain": [
       "<Figure size 432x288 with 1 Axes>"
      ]
     },
     "metadata": {
      "needs_background": "light"
     },
     "output_type": "display_data"
    }
   ],
   "source": [
    "# Make two lists\n",
    "yyy = [0,0,1,1,3]\n",
    "xxx = [-2,-1,0,1,2]\n",
    "slope = 0.5  #0.129\n",
    "intercept = 1  # 22.813\n",
    "xlow = -3\n",
    "xhigh = 3\n",
    "object = myline(slope,intercept,xlow,xhigh)\n",
    "xone = object[0][0]; xtwo = object[0][1]; yone = object[1][0]; ytwo = object[1][1]\n",
    "makeAbear(xxx, yyy,xone,yone,xtwo,ytwo,'xxx','yyy','yyy versus xxx')"
   ]
  },
  {
   "cell_type": "code",
   "execution_count": 24,
   "metadata": {},
   "outputs": [
    {
     "data": {
      "image/png": "[encoded data removed]",
      "text/plain": [
       "<Figure size 432x288 with 1 Axes>"
      ]
     },
     "metadata": {
      "needs_background": "light"
     },
     "output_type": "display_data"
    }
   ],
   "source": [
    "colNumX=2 #\n",
    "rowNumX=len(xxx)\n",
    "xmatrix = [[1 for j in range(colNumX)]for i in range(rowNumX)]\n",
    "xtransp = [[1 for j in range(rowNumX)]for i in range(colNumX)]\n",
    "yvector = [0 for i in range(rowNumX)]\n",
    "for irow in range(rowNumX):\n",
    "    xmatrix[irow][1]=xxx[irow]\n",
    "    xtransp[1][irow]=xxx[irow]\n",
    "    yvector[irow]   =yyy[irow]\n",
    "xtx = [[0 for j in range(colNumX)]for i in range(colNumX)]\n",
    "xty = []\n",
    "\n",
    "xtx = mmult(xtransp,xmatrix,colNumX,rowNumX,rowNumX,colNumX)\n",
    "xty = mvmult(xtransp,yvector,colNumX,rowNumX)\n",
    "\n",
    "beta = []\n",
    "#solve XtXB = XtY for B\n",
    "beta = linearsolver(xtx,xty) #Solve the linear system\n",
    "\n",
    "slope = beta[1] #0.129\n",
    "intercept = beta[0]  # 22.813\n",
    "xlow = -3\n",
    "xhigh = 3\n",
    "object = myline(slope,intercept,xlow,xhigh)\n",
    "xone = object[0][0]; xtwo = object[0][1]; yone = object[1][0]; ytwo = object[1][1]\n",
    "makeAbear(xxx, yyy,xone,yone,xtwo,ytwo,'xxx','yyy','yyy versus xxx')"
   ]
  },
  {
   "cell_type": "code",
   "execution_count": 25,
   "metadata": {},
   "outputs": [],
   "source": [
    "colNumX=3 #\n",
    "rowNumX=len(xxx)\n",
    "xmatrix = [[1 for j in range(colNumX)]for i in range(rowNumX)]\n",
    "xtransp = [[1 for j in range(rowNumX)]for i in range(colNumX)]\n",
    "yvector = [0 for i in range(rowNumX)]\n",
    "for irow in range(rowNumX):\n",
    "    xmatrix[irow][1]=xxx[irow]\n",
    "    xmatrix[irow][2]=xxx[irow]**2\n",
    "    xtransp[1][irow]=xxx[irow]\n",
    "    xtransp[2][irow]=xxx[irow]**2\n",
    "    yvector[irow]   =yyy[irow]\n",
    "xtx = [[0 for j in range(colNumX)]for i in range(colNumX)]\n",
    "xty = []\n",
    "\n",
    "xtx = mmult(xtransp,xmatrix,colNumX,rowNumX,rowNumX,colNumX)\n",
    "xty = mvmult(xtransp,yvector,colNumX,rowNumX)\n",
    "\n",
    "beta = []\n",
    "#solve XtXB = XtY for B\n",
    "beta = linearsolver(xtx,xty) #Solve the linear system\n",
    "\n"
   ]
  },
  {
   "cell_type": "code",
   "execution_count": 29,
   "metadata": {},
   "outputs": [
    {
     "data": {
      "image/png": "[encoded data removed]",
      "text/plain": [
       "<Figure size 720x360 with 1 Axes>"
      ]
     },
     "metadata": {
      "needs_background": "light"
     },
     "output_type": "display_data"
    }
   ],
   "source": [
    "howMany = 20\n",
    "xlow = -2\n",
    "xhigh = 2\n",
    "deltax = (xhigh - xlow)/howMany\n",
    "xmodel = []\n",
    "ymodel = []\n",
    "for i in range(howMany+1):\n",
    "    xnow = xlow + deltax*float(i)\n",
    "    xmodel.append(xnow)\n",
    "    ymodel.append(beta[0]+beta[1]*xnow+beta[2]*xnow**2)\n",
    "\n",
    "# Now plot the sample values and plotting position\n",
    "import matplotlib.pyplot \n",
    "myfigure = matplotlib.pyplot.figure(figsize = (10,5)) # generate a object from the figure class, set aspect ratio\n",
    "\n",
    "# Built the plot\n",
    "matplotlib.pyplot.scatter(xxx, yyy,  color ='blue') \n",
    "matplotlib.pyplot.plot(xmodel, ymodel,  color ='red') \n",
    "matplotlib.pyplot.ylabel(\"Y\") \n",
    "matplotlib.pyplot.xlabel(\"X\") \n",
    "mytitle = \"YYY versus XXX\"\n",
    "matplotlib.pyplot.title(mytitle) \n",
    "matplotlib.pyplot.show()"
   ]
  },
  {
   "cell_type": "code",
   "execution_count": null,
   "metadata": {},
   "outputs": [],
   "source": [
    "### Now using numpy "
   ]
  }
 ],
 "metadata": {
  "kernelspec": {
   "display_name": "Python 38",
   "language": "python",
   "name": "python38"
  },
  "language_info": {
   "codemirror_mode": {
    "name": "ipython",
    "version": 3
   },
   "file_extension": ".py",
   "mimetype": "text/x-python",
   "name": "python",
   "nbconvert_exporter": "python",
   "pygments_lexer": "ipython3",
   "version": "3.8.3"
  }
 },
 "nbformat": 4,
 "nbformat_minor": 4
}
