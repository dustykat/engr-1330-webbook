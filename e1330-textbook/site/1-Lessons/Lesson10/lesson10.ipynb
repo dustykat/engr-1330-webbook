{
 "cells": [
  {
   "cell_type": "code",
   "execution_count": 132,
   "metadata": {},
   "outputs": [
    {
     "name": "stdout",
     "output_type": "stream",
     "text": [
      "/opt/jupyterhub/bin/python3\n",
      "3.8.5 (default, Jan 27 2021, 15:41:15) \n",
      "[GCC 9.3.0]\n",
      "sys.version_info(major=3, minor=8, micro=5, releaselevel='final', serial=0)\n"
     ]
    }
   ],
   "source": [
    "# Environment Check -- Deactivate on a working host\n",
    "import sys\n",
    "print(sys.executable)\n",
    "print(sys.version)\n",
    "print(sys.version_info)"
   ]
  },
  {
   "cell_type": "markdown",
   "metadata": {},
   "source": [
    "\n",
    "Copyright © DATE Author, *all rights reserved*\n",
    "\n",
    "# Transporting Wind Turbine Blades\n",
    "\n",
    "Consider the transport of Turbine Blades, they are rather long, and often the transport compaines have to navigate difficult turns as in Figure 1.\n",
    "\n",
    "![https://www.doll.eu/fileadmin/_processed_/2/b/csm_Transport_2_09ee9bf954.jpg](https://www.doll.eu/fileadmin/_processed_/2/b/csm_Transport_2_09ee9bf954.jpg)\n",
    "\n",
    "Consider route planning using a simple case:\n",
    "\n",
    "Two intersecting mountain road cuts (think of vertical walls) meet at an angle of 123$^o$, as shown in Figure 2.  The East-West road is 7 feet wide, while the Southwest-Northeast road is 9 feet wide.  What is the longest blade that can negotiate the turn?  You can neglect the blade thickness (think of it as a line segment) and cannot tip it to make it through the corner.  Build a tool (solution script) that can allow for general use where the angle $A$ is variable as are the road widths.\n",
    "\n",
    "![mountain-cut.png](mountain-cut.png)"
   ]
  },
  {
   "cell_type": "markdown",
   "metadata": {},
   "source": [
    "## Analysis\n",
    "\n",
    "Visualize the turbine blade in sucessive positions as we transport it around the corner; there will be some critical position where each end touch the road cut walls while a point on the blade touches the corner of the intersection.\n",
    "\n",
    "![turn-analysis.png](turn-analysis.png)"
   ]
  },
  {
   "cell_type": "markdown",
   "metadata": {},
   "source": [
    "If we analyze the various triangles formed by the turbine blade we can express the lengths in terms of the widths and angles.\n",
    "\n",
    "For the part of the blade on the East-West portion we obtain:\n",
    "\n",
    "$$ l_1 = \\frac{w_2}{sin(B)}$$\n",
    "\n",
    "For the part of the blade on the Southeast-Northwest portion we obtain:\n",
    "\n",
    "$$ l_2 = \\frac{w_1}{sin(C)}$$\n",
    "\n",
    "The angles are related as:\n",
    "\n",
    "$$ B = \\pi - A - C $$\n",
    "\n",
    "And the turbine total length is:\n",
    "\n",
    "$$ l = l_1 + l_2 = \\frac{w_2}{sin(B)} + \\frac{w_1}{sin(C)}$$\n",
    "\n",
    "Substitute our expression for $B$, and we have everything in terms on road widths, and intersection angle:\n",
    "\n",
    "$$ l =  \\frac{w_2}{sin(\\pi - A - C)} + \\frac{w_1}{sin(C)}$$\n",
    "\n",
    "Now we want to find the smallest $l$ as a function of $C$, the necessary condition for such a minimum is\n",
    "\n",
    "$$\\frac{dl}{dC}=0$$\n",
    "\n",
    "which by application of Calculus produces:\n",
    "\n",
    "$$\\frac{dl}{dC}=\\frac{w_2 cos(\\pi - A - C)}{sin^2(\\pi - A - C)} - \\frac{w_1 cos(C)}{sin^2(C)}=0 $$\n",
    "\n",
    "where $A$, $w_1$, and $w_2$ are known, now we have to find a solution to this equation. and once we have found the value of $C$ that satisfies $\\frac{dl}{dC}=0$ we can recover the length from\n",
    "\n",
    "$$ l =  \\frac{w_2}{sin(\\pi - A - C)} + \\frac{w_1}{sin(C)} $$\n",
    "\n",
    "Lets consider some methods to find the length:\n",
    "\n",
    "1. Plot the function, find the value from the plot\n",
    "2. Apply a search method (grid searching) \n",
    "3. Newton's method (with finite difference approximations to derivative)\n",
    "\n",
    "\n"
   ]
  },
  {
   "cell_type": "code",
   "execution_count": 191,
   "metadata": {},
   "outputs": [],
   "source": [
    "# Plot the function, find the value from the plot\n",
    "\n",
    "## forward define prototype functions \n",
    "\n",
    "# Our plotting function\n",
    "import matplotlib.pyplot as plt\n",
    "def makeAplot(listx1,listy1,strlablx,strlably,strtitle):\n",
    "    mydata = plt.figure(figsize = (10,5)) # build a square drawing canvass from figure class\n",
    "    plt.plot(listx1,listy1, c='red', marker='o',linewidth=1) # basic data plot\n",
    "    plt.xlabel(strlablx)\n",
    "    plt.ylabel(strlably)\n",
    "    plt.title(strtitle)\n",
    "    plt.show()\n",
    "    \n",
    "# prototype dl/dC function\n",
    "import math\n",
    "def func(x):\n",
    "    # x is angle C in radians\n",
    "    global w1,w2,A\n",
    "    # w1,w2 are road cut widths, A is angle in radians; GLOBAL DEFINE\n",
    "    numer1 =w2*math.cos(math.pi - A - x)\n",
    "    denom1 = math.sin(math.pi - A - x)**2\n",
    "    numer2 = w1*math.cos(x)\n",
    "    denom2 = math.sin(x)**2\n",
    "    func = numer1/denom1 - numer2/denom2\n",
    "    return(func)\n",
    "\n",
    "# prototype length function\n",
    "def blade_length(x):\n",
    "    # x is angle C in radians\n",
    "    global w1,w2,A\n",
    "    # w1,w2 are road cut widths, A is angle in radians; GLOBAL DEFINE\n",
    "    numer1 = w2\n",
    "    denom1 = math.sin(math.pi - A - x)\n",
    "    numer2 = w1\n",
    "    denom2 = math.sin(x)\n",
    "    blade_length = numer1/denom1 + numer2/denom2\n",
    "    return(blade_length)"
   ]
  },
  {
   "cell_type": "code",
   "execution_count": 193,
   "metadata": {},
   "outputs": [
    {
     "data": {
      "image/png": "[encoded data removed]",
      "text/plain": [
       "<Figure size 720x360 with 1 Axes>"
      ]
     },
     "metadata": {
      "needs_background": "light"
     },
     "output_type": "display_data"
    }
   ],
   "source": [
    "# Plot the function\n",
    "\n",
    "c_angle = [] # empty list to populate\n",
    "f_value = [] # empty list to populate\n",
    "\n",
    "# set problem constants\n",
    "A = 90.1 # intersection angle in degrees\n",
    "Cm = 180 - A # biggest C angle in degrees\n",
    "A = A * (1/180.00)*math.pi  # intersection angle in radians\n",
    "w1 = 17.0 #road cut width in feet\n",
    "w2 = 19.0 #road cut width in feet\n",
    "\n",
    "stepsize = 0.01 # increments of angle (degrees)\n",
    "total_steps = int(Cm/stepsize)\n",
    "tolerance = 5 # Only save a result close to the zero\n",
    "\n",
    "for i in range(1,total_steps):\n",
    "    test_angle = float(i)*math.pi/total_steps\n",
    "    test_value = func(test_angle)\n",
    "    if abs(test_value) <= tolerance:\n",
    "        c_angle.append((test_angle*180)/math.pi) # angle in degrees\n",
    "        f_value.append(test_value) # value of dl/dC function\n",
    "#        print((test_angle*180)/math.pi,test_value) # activate to examine values\n",
    "\n",
    "makeAplot(c_angle,f_value,'strlablx','strlably','strtitle')"
   ]
  },
  {
   "cell_type": "code",
   "execution_count": 196,
   "metadata": {},
   "outputs": [
    {
     "name": "stdout",
     "output_type": "stream",
     "text": [
      "Maximum blade length for C angle of  43.9  degrees is  50.93  feet\n",
      " dl/dC function target is zero; current value is  -0.002\n"
     ]
    }
   ],
   "source": [
    "# Now get the length from our best guess from plot; trial and error to refine guess\n",
    "visual_angle = 43.888 # based on eyeball fit!\n",
    "print('Maximum blade length for C angle of ',round(visual_angle,1),' degrees is ',round(blade_length(visual_angle*math.pi/180.),3),' feet')\n",
    "print(' dl/dC function target is zero; current value is ',round(func(visual_angle*math.pi/180.),3))"
   ]
  },
  {
   "cell_type": "markdown",
   "metadata": {},
   "source": [
    "## Grid Search\n",
    "\n",
    "Describe method then show example\n"
   ]
  },
  {
   "cell_type": "code",
   "execution_count": 197,
   "metadata": {},
   "outputs": [
    {
     "name": "stdout",
     "output_type": "stream",
     "text": [
      "Searched  89900  interference angles in steps of  0.001  degrees of arc\n",
      "   Lower C angle  0.0 degrees of arc\n",
      "   Upper C angle  89.9 degrees of arc\n",
      "Best C angle     43.889 degrees of arc\n",
      "Longest Blade Length to Fit Intersection is  50.93  feet\n"
     ]
    }
   ],
   "source": [
    "# Apply a search method\n",
    "    \n",
    "# set problem constants\n",
    "A = 90.1 # intersection angle in degrees\n",
    "Cm = 180 - A # biggest C angle in degrees\n",
    "A = A * (1/180.00)*math.pi  # intersection angle in radians\n",
    "w1 = 17.0 #road cut width in feet\n",
    "w2 = 19.0 #road cut width in feet\n",
    "\n",
    "tolerance = 0.01 # define close enough to zero\n",
    "stepsize = 0.001 # increments of angle (degrees)\n",
    "total_steps = int(Cm/stepsize)\n",
    "best_size = 1e9\n",
    "\n",
    "for i in range(1,total_steps):\n",
    "    test_angle = float(i)*math.pi/total_steps\n",
    "    test_value = func(test_angle)\n",
    "    if abs(test_value) <= tolerance: # are we close to zero?\n",
    "        if abs(test_value) < best_size: # are better than last close to zero?\n",
    "            best_size = abs(test_value)\n",
    "            best_angle = test_angle\n",
    "#            print(float(i),test_value,best_size)\n",
    "    else:\n",
    "        pass\n",
    "#print(((best_angle*180)/math.pi),best_size)\n",
    "# Now report values\n",
    "print('Searched ',total_steps,' interference angles in steps of ',stepsize,' degrees of arc')\n",
    "print('   Lower C angle ',round(float(1)*math.pi/total_steps,3),'degrees of arc')\n",
    "#print(' Blade Length to Fit Intersection is ',round(blade_length(float(1)*math.pi/total_steps),3),' feet')\n",
    "print('   Upper C angle ',round(Cm,3), 'degrees of arc')\n",
    "print('Best C angle    ',round(((best_angle*180)/math.pi),3), 'degrees of arc')\n",
    "print('Longest Blade Length to Fit Intersection is ',round(blade_length(best_angle),3),' feet')\n"
   ]
  },
  {
   "cell_type": "markdown",
   "metadata": {},
   "source": [
    "# Single Variable Newtons Method\n",
    "Newton's method is an iterative technique that can produce good estimates of solutions to implicit equations. The method is employed by rewriting the equation in the form `f(x) = 0`,\n",
    "then successively manipulating guesses for `x` until the function evaluates to a value close\n",
    "enough to zero for the modeler to accept.In the turbine blade case the $\\frac{dl}{dC}=0$ function is already in the correct form.\n",
    "\n",
    "## Background\n",
    "\n",
    "   ![figure](newton1.png)\n",
    "\n",
    "The figure above is a graph of some function whose intercept with the `x-axis` is unknown. The goal\n",
    "of Newton's method is to find this intersection (root) from a realistic first guess. Suppose\n",
    "the first guess is `x1`, shown on the figure as the right-most specific value of `x`. The value\n",
    "of the function at this location is `f(x1)`. Because `x1` is supposed to be a root the difference\n",
    "from the value zero represents an error in the estimate. Newton's method simply provides a\n",
    "recipe for corrections to this error.\n",
    "\n",
    "Provided `x1` is not near a minimum or maximum (slope of the function is not zero) then a\n",
    "better estimate of the root can be obtained by extending a tangent line from `x1, f(x1)` to\n",
    "the `x-axis`. The intersection of this line with the axis represents a better estimate of the\n",
    "root.  This new estimate is `x2`. A formula for `x2` can be derived from the geometry of the triangle\n",
    "`x2,f(x1),x1`. Recall from calculus that the tangent to a function at a particular point is\n",
    "the first derivative of the function. Therefore, from the geometry of the triangle and the\n",
    "definition of tangent we can write, \n",
    "\n",
    "\\begin{equation}\n",
    "tan(\\theta)=\\frac{df}{dx}\\Biggr\\vert_{x_1} = \\frac{f(x_1)}{x_1 - x_2}\n",
    "\\end{equation}\n",
    "\n",
    "Solving the equation for `x`2 results in a formula that expresses `x2` in terms of the first guess\n",
    "plus a correction term.\n",
    "\n",
    "\\begin{equation}\n",
    "x_2=x_1 - \\frac{f(x_1)}{\\frac{df}{dx}\\vert_{x_1}} \n",
    "\\end{equation}\n",
    "\n",
    "The second term on the right hand side is the correction term to the estimate on the right\n",
    "hand side. Once `x2` is calculated we can repeat the formula substituting `x2` for `x1` and `x3` for\n",
    "`x2` in the formula. Repeated application usually leads to one of three outcomes:\n",
    "1. a root;\n",
    "2. divergence to +/- $\\inf$ ; or\n",
    "3. cycling.\n",
    "\n",
    "These three outcomes are discussed below in various subsections along with some remedies.\n",
    "The generalized formula is\n",
    "\n",
    "\\begin{equation}\n",
    "x_{k+1}=x_{k} - \\frac{  f(x_{k})  }{   \\frac{df}{dx}\\rvert_{x_k} } \n",
    "\\label{eqn:NewtonFormula}\n",
    "\\end{equation}\n",
    "\n",
    "If the derivative is evaluated using analytical derivatives the method is called Newton's\n",
    "method, if approximations to the derivative are used, it is called a quasi-Newton method.\n",
    "\n",
    "## Newton's Method --- Using analytical derivatives\n",
    "This subsection is an example in Python of implementing Newton's method with analytical derivatives.   \n",
    "\n",
    "The recipe itself is:\n",
    "\n",
    "1. Write the function in proper form, and code it into a computer.\n",
    "2. Write the derivative in proper form and code it into a computer.\n",
    "3. Make an initial guess of the solution (0 and 1 are always convenient guesses).\n",
    "4. Evaluate the function, evaluate the derivative, calculate their ratio.\n",
    "5. Subtract the ratio from the current guess and save the result as the update.\n",
    "6. Test for stopping:\n",
    "  1. Did the update stay the same value? Yes, then stop, probably have a solution.\n",
    "  2. Is the function nearly zero?  Yes, then stop we probably have a solution.\n",
    "  3. Have we tried too many updates? Yes, then stop the process is probably cycling, stop.\n",
    "7. If stopping is indicated proceed to next step, otherwise proceed back to step 4.\n",
    "8. Stopping indicated, report last update as the result (or report failure to find solution), and related information about the status of the numerical method.\n",
    "\n",
    "\n",
    "The following example illustrates these step as well as an ipython implementation of Newton's method.\n",
    "\n",
    "Suppose we wish to find a root (value of `x`) that satisfies:\n",
    "\n",
    "\\begin{equation}\n",
    "f(x) = e^x - 10 cos(x) -100\n",
    "\\end{equation}\n",
    "\n",
    "Then we will need to code it into a script.   Here is a code fragment that will generate the prototype function"
   ]
  },
  {
   "cell_type": "code",
   "execution_count": 137,
   "metadata": {},
   "outputs": [],
   "source": [
    "#  import built in function for e^x, cosine\n",
    "from math import exp, cos, sin\n",
    "# Define the function\n",
    "def func(x):\n",
    "    func = exp(x) - 10*cos(x) - 100  #using the name as the temp var\n",
    "    return func"
   ]
  },
  {
   "cell_type": "markdown",
   "metadata": {},
   "source": [
    "Notice in the code fragment we import three built-in functions from the Python math package, specifically $\\exp()$, $\\sin()$, and $\\cos ()$.\n",
    "The next step is to code the derivative.   In this case the derivative is \n",
    "\n",
    "\\begin{equation}\n",
    "\\frac{df}{dx}\\vert{(x)} = e^x + 10 \\sin(x)\n",
    "\\end{equation}\n",
    "\n",
    "and the prototype function is coded as "
   ]
  },
  {
   "cell_type": "code",
   "execution_count": 138,
   "metadata": {},
   "outputs": [],
   "source": [
    "def dfdx(x):\n",
    "    dfdx = exp(x) + 10*sin(x)\n",
    "    return dfdx"
   ]
  },
  {
   "cell_type": "markdown",
   "metadata": {},
   "source": [
    "Next we will need script to read in an initial guess, and ask us how many trials we will use to try to find a solution, as well as how close to zero we should be before we declare victory."
   ]
  },
  {
   "cell_type": "code",
   "execution_count": 139,
   "metadata": {},
   "outputs": [
    {
     "name": "stdin",
     "output_type": "stream",
     "text": [
      "Enter an initial guess for Newton method \n",
      " 2\n",
      "Enter iteration maximum \n",
      " 9\n",
      "Enter a solution tolerance (e.g. 1e-06) \n",
      " 1e-6\n"
     ]
    }
   ],
   "source": [
    "# Now for the Newton Method Implementation\n",
    "# Get initial guess, use a simple error trap\n",
    "yes=0\n",
    "while yes == 0:\n",
    "    xnow = input(\"Enter an initial guess for Newton method \\n\")\n",
    "    try:\n",
    "        xnow = float(xnow)\n",
    "        yes =1\n",
    "    except:\n",
    "        print (\"Value should be numeric, try again \\n\")\n",
    "# Get number trials, use a simple error trap\n",
    "yes=0\n",
    "while yes == 0:\n",
    "    HowMany = input(\"Enter iteration maximum \\n\")\n",
    "    try:\n",
    "        HowMany = int(HowMany)\n",
    "        yes =1\n",
    "    except:\n",
    "        print (\"Value should be numeric, try again \\n\")\n",
    "# Get stopping criterion\n",
    "yes=0\n",
    "while yes == 0:\n",
    "    HowSmall = input(\"Enter a solution tolerance (e.g. 1e-06) \\n\")\n",
    "    try:\n",
    "        HowSmall= float(HowSmall)\n",
    "        yes =1\n",
    "    except:\n",
    "        print (\"Value should be numeric, try again \\n\")"
   ]
  },
  {
   "cell_type": "markdown",
   "metadata": {},
   "source": [
    "The use of `HowSmall` is called a zero tolerance.   We will use the same numerical value for two tolerance tests.   Also notice how we are using error traps to force numeric input.   \n",
    "Probably overkill for this example, but because we already wrote the try-except code in an earlier lesson, might as well reuse the code.  \n",
    "\n",
    "Professional codes do a lot of error checking before launching into the actual processing - especially if the processing part is time consuming, its worth the time to check for obvious errors before running for a few hours then at some point failing because of an input value error that was predictable.\n",
    "\n",
    "Now back to the tolerance tests. \n",
    "The first test is to determine if the update has changed or not.   \n",
    "If it has not, we may not have a correct answer, but there is no point continuing because the update is unlikely to move further.   \n",
    "The test is something like\n",
    "\n",
    "\\begin{equation}\n",
    "\\text{IF}~\\lvert x_{k+1} - x_{k} \\rvert < \\text{Tol.~ THEN Exit and Report Results}\n",
    "\\end{equation}  \n",
    "\n",
    "The second test is if the function value is close to zero.   \n",
    "The structure of the test is similar, just an different argument.   The second test is something like\n",
    "\n",
    "\\begin{equation}\n",
    "\\text{IF}~\\lvert f(x_{k+1}) \\rvert < \\text{Tol.~ THEN Exit and Report Results}\n",
    "\\end{equation} \n",
    "\n",
    "One can see from the nature of the two tests that a programmer might want to make the tolerance values different.   \n",
    "This modification is left as a reader exercise.\n",
    "\n",
    "Checking for maximum iterations is relatively easy, we just include code that checks for normal exit the loop.\n",
    "\n",
    "Here is code fragment that implements the method, makes the various tests, and reports results."
   ]
  },
  {
   "cell_type": "code",
   "execution_count": 140,
   "metadata": {},
   "outputs": [
    {
     "name": "stdout",
     "output_type": "stream",
     "text": [
      "Update not changing \n",
      "\n",
      "Function value = 1.4210854715202004e-14\n",
      " Root value    = 4.593209147284144\n",
      "End of NewtonMethod.py \n"
     ]
    }
   ],
   "source": [
    "# now we begin the process\n",
    "count = 0\n",
    "for i in range(0,HowMany,1):\n",
    "    xnew = xnow - func(xnow)/dfdx(xnow)\n",
    "# stopping criteria -- update not changing\n",
    "    if abs(xnew - xnow) < HowSmall:\n",
    "        print (\"Update not changing \\n\")\n",
    "        print(\"Function value =\",func(xnew))\n",
    "        print(\" Root value    =\",xnew)\n",
    "        break\n",
    "    else:\n",
    "        xnow = xnew\n",
    "        count = count +1\n",
    "        continue\n",
    "# stopping criteria -- function close to zero\n",
    "    if abs( func(xnew) ) < HowSmall:\n",
    "        print (\"Function value close to zero \\n\")\n",
    "        print(\"Function value =\",func(xnew))\n",
    "        print(\" Root value    =\",xnew)\n",
    "        break\n",
    "    else:\n",
    "        xnow = xnew\n",
    "        count = count +1\n",
    "        continue\n",
    "# next step, then have either broken from the loop or iteration counted out\n",
    "if count == HowMany:\n",
    "    print(\" Iteration Limit Reached \")\n",
    "    print(\"Function value =\",func(xnew))\n",
    "    print(\" Root value    =\",xnew)\n",
    "print(\"End of NewtonMethod.py \")"
   ]
  },
  {
   "cell_type": "markdown",
   "metadata": {},
   "source": [
    "Now we simply connect the three fragments, and we would have a working Python script that implements Newton's method for the example equation.  The example is specific to the particular function provided, but the programmer could move the two functions `func` and `dfdx` into a user specified module, and then load that module in the program to make it even more generic.   The next section will use such an approach to illustrate the ability to build a generalized Newton method and <em>only have to program the function itself</em>"
   ]
  },
  {
   "cell_type": "markdown",
   "metadata": {},
   "source": [
    "## Newton's Method --- Using finite-differences to estimate the derivative\n",
    "\n",
    "A practical difficulty in using Newton's method is determining the value of the derivative in cases where differentiation is difficult.  \n",
    "In these cases we can replace the derivative by a finite difference equation and then proceed as in Newton's method. \n",
    "\n",
    "Recall from calculus that the derivative was defined as the limit of the difference quotient:\n",
    "\n",
    "\\begin{equation}\n",
    "\\frac{df}{dx}\\vert_{x} = \\lim_{\\Delta x \\rightarrow 0}\\frac{f(x + \\Delta x) - f(x) }{\\Delta x}\n",
    "\\end{equation}\n",
    "\n",
    "A good approximation to the derivative should be possible by using this formula with a small, but non-zero value for $\\Delta x$.\n",
    "\n",
    "\\begin{equation}\n",
    "\\frac{df}{dx}\\vert_{x} \\approx \\frac{f(x + \\Delta x) - f(x) }{\\Delta x}\n",
    "\\end{equation}\n",
    "\n",
    "When one replaces the derivative with the difference formula the root finding method the resulting update formula is\n",
    "\n",
    "\\begin{equation}\n",
    "x_{k+1}=x_k - \\frac{f(x_k) \\Delta x}{f(x_k + \\Delta x)-f(x_k)} \n",
    "\\end{equation}\n",
    "\n",
    "This root-finding method is called a quasi-Newton method.\n",
    "\n",
    "Here is the code fragment that we change by commenting out the analytical derivative and replacing it with a first-order finite difference approximation of the derivative.  The numerical value $1e-06$ is called the step size ($\\Delta x$)  and should be an input value (rather than built-in to the code as shown here) like the tolerance test values, and be passed to the function as another argument."
   ]
  },
  {
   "cell_type": "code",
   "execution_count": 198,
   "metadata": {},
   "outputs": [],
   "source": [
    "# reset the notebook\n",
    "%reset -f"
   ]
  },
  {
   "cell_type": "code",
   "execution_count": 199,
   "metadata": {},
   "outputs": [],
   "source": [
    "#  import built in function for e^x, cosine\n",
    "from math import exp, cos, sin\n",
    "# Define the function\n",
    "def func(x):\n",
    "    func = exp(x) - 10*cos(x) - 100  #using the name as the temp var\n",
    "    return func\n",
    "def dfdx(x):\n",
    "#    dfdx = exp(x) + 10*sin(x)\n",
    "    dfdx = (func(x + 1e-06) - func(x) )/ (1e-06)\n",
    "    return (dfdx)"
   ]
  },
  {
   "cell_type": "code",
   "execution_count": 200,
   "metadata": {},
   "outputs": [
    {
     "name": "stdin",
     "output_type": "stream",
     "text": [
      "Enter an initial guess for Newton method \n",
      " 1\n",
      "Enter iteration maximum \n",
      " 10\n",
      "Enter a solution tolerance (e.g. 1e-06) \n",
      " 1e-6\n"
     ]
    }
   ],
   "source": [
    "# Now for the Newton Method Implementation\n",
    "# Get initial guess, use a simple error trap\n",
    "yes=0\n",
    "while yes == 0:\n",
    "    xnow = input(\"Enter an initial guess for Newton method \\n\")\n",
    "    try:\n",
    "        xnow = float(xnow)\n",
    "        yes =1\n",
    "    except:\n",
    "        print (\"Value should be numeric, try again \\n\")\n",
    "# Get number trials, use a simple error trap\n",
    "yes=0\n",
    "while yes == 0:\n",
    "    HowMany = input(\"Enter iteration maximum \\n\")\n",
    "    try:\n",
    "        HowMany = int(HowMany)\n",
    "        yes =1\n",
    "    except:\n",
    "        print (\"Value should be numeric, try again \\n\")\n",
    "# Get stopping criterion\n",
    "yes=0\n",
    "while yes == 0:\n",
    "    HowSmall = input(\"Enter a solution tolerance (e.g. 1e-06) \\n\")\n",
    "    try:\n",
    "        HowSmall= float(HowSmall)\n",
    "        yes =1\n",
    "    except:\n",
    "        print (\"Value should be numeric, try again \\n\")"
   ]
  },
  {
   "cell_type": "code",
   "execution_count": 201,
   "metadata": {},
   "outputs": [
    {
     "name": "stdout",
     "output_type": "stream",
     "text": [
      " Iteration Limit Reached \n",
      "Function value = 0.00017750521082859905\n",
      " Root value    = 4.593211144371335\n",
      "End of NewtonMethod.py \n"
     ]
    }
   ],
   "source": [
    "# now we begin the process\n",
    "count = 0\n",
    "for i in range(0,HowMany,1):\n",
    "    xnew = xnow - func(xnow)/dfdx(xnow)\n",
    "# stopping criteria -- update not changing\n",
    "    if abs(xnew - xnow) < HowSmall:\n",
    "        print (\"Update not changing \\n\")\n",
    "        print(\"Function value =\",func(xnew))\n",
    "        print(\" Root value    =\",xnew)\n",
    "        break\n",
    "    else:\n",
    "        xnow = xnew\n",
    "        count = count +1\n",
    "        continue\n",
    "# stopping criteria -- function close to zero\n",
    "    if abs( func(xnew) ) < HowSmall:\n",
    "        print (\"Function value close to zero \\n\")\n",
    "        print(\"Function value =\",func(xnew))\n",
    "        print(\" Root value    =\",xnew)\n",
    "        break\n",
    "    else:\n",
    "        xnow = xnew\n",
    "        count = count +1\n",
    "        continue\n",
    "# next step, then have either broken from the loop or iteration counted out\n",
    "if count == HowMany:\n",
    "    print(\" Iteration Limit Reached \")\n",
    "    print(\"Function value =\",func(xnew))\n",
    "    print(\" Root value    =\",xnew)\n",
    "print(\"End of NewtonMethod.py \")"
   ]
  },
  {
   "cell_type": "markdown",
   "metadata": {},
   "source": [
    "Pretty much the same result, but now we dont have to determine the analytical derivative."
   ]
  },
  {
   "cell_type": "markdown",
   "metadata": {},
   "source": [
    "## Turbine Example using Newton's Method\n",
    "\n",
    "All we have to do is redefine the various functions, copy from above (because we reset the notebook twice, we lost these objects)"
   ]
  },
  {
   "cell_type": "code",
   "execution_count": 202,
   "metadata": {},
   "outputs": [],
   "source": [
    "# reset the notebook\n",
    "%reset -f"
   ]
  },
  {
   "cell_type": "code",
   "execution_count": 203,
   "metadata": {},
   "outputs": [],
   "source": [
    "# prototype dl/dC function\n",
    "import math\n",
    "def func(x):\n",
    "    # x is angle C in radians\n",
    "    global w1,w2,A\n",
    "    # w1,w2 are road cut widths, A is angle in radians; GLOBAL DEFINE\n",
    "    numer1 =w2*math.cos(math.pi - A - x)\n",
    "    denom1 = math.sin(math.pi - A - x)**2\n",
    "    numer2 = w1*math.cos(x)\n",
    "    denom2 = math.sin(x)**2\n",
    "    func = numer1/denom1 - numer2/denom2\n",
    "    return(func)\n",
    "\n",
    "# prototype length function\n",
    "def blade_length(x):\n",
    "    # x is angle C in radians\n",
    "    global w1,w2,A\n",
    "    # w1,w2 are road cut widths, A is angle in radians; GLOBAL DEFINE\n",
    "    numer1 = w2\n",
    "    denom1 = math.sin(math.pi - A - x)\n",
    "    numer2 = w1\n",
    "    denom2 = math.sin(x)\n",
    "    blade_length = numer1/denom1 + numer2/denom2\n",
    "    return(blade_length)\n",
    "\n",
    "# prototype finite difference approximation to derivative\n",
    "def dfdx(x): \n",
    "    dfdx = (func(x + 1e-09) - func(x) )/ (1e-09)\n",
    "    return (dfdx)"
   ]
  },
  {
   "cell_type": "code",
   "execution_count": 204,
   "metadata": {},
   "outputs": [],
   "source": [
    "# set problem constants\n",
    "A = 90.1 # intersection angle in degrees\n",
    "Cm = 180 - A # biggest C angle in degrees\n",
    "A = A * (1/180.00)*math.pi  # intersection angle in radians\n",
    "w1 = 17.0 #road cut width in feet\n",
    "w2 = 19.0 #road cut width in feet"
   ]
  },
  {
   "cell_type": "code",
   "execution_count": 205,
   "metadata": {},
   "outputs": [
    {
     "name": "stdin",
     "output_type": "stream",
     "text": [
      "Enter an initial guess for Newton method \n",
      " 30\n",
      "Enter iteration maximum \n",
      " 12\n",
      "Enter a solution tolerance (e.g. 1e-06) \n",
      " 1e-6\n"
     ]
    }
   ],
   "source": [
    "# Now for the Newton Method Implementation\n",
    "# Get initial guess, use a simple error trap\n",
    "yes=0\n",
    "while yes == 0:\n",
    "    xnow = input(\"Enter an initial guess for Newton method \\n\")\n",
    "    try:\n",
    "        xnow = float(xnow)\n",
    "        yes =1\n",
    "    except:\n",
    "        print (\"Value should be numeric, try again \\n\")\n",
    "# Get number trials, use a simple error trap\n",
    "yes=0\n",
    "while yes == 0:\n",
    "    HowMany = input(\"Enter iteration maximum \\n\")\n",
    "    try:\n",
    "        HowMany = int(HowMany)\n",
    "        yes =1\n",
    "    except:\n",
    "        print (\"Value should be numeric, try again \\n\")\n",
    "# Get stopping criterion\n",
    "yes=0\n",
    "while yes == 0:\n",
    "    HowSmall = input(\"Enter a solution tolerance (e.g. 1e-06) \\n\")\n",
    "    try:\n",
    "        HowSmall= float(HowSmall)\n",
    "        yes =1\n",
    "    except:\n",
    "        print (\"Value should be numeric, try again \\n\")"
   ]
  },
  {
   "cell_type": "code",
   "execution_count": 206,
   "metadata": {},
   "outputs": [],
   "source": [
    "# need to convert to radians\n",
    "xnow = xnow*math.pi/180."
   ]
  },
  {
   "cell_type": "code",
   "execution_count": 207,
   "metadata": {},
   "outputs": [
    {
     "name": "stdout",
     "output_type": "stream",
     "text": [
      "0.5235987755982988 -46.15910654595476 0.6916206270990959 -11.659686294276273\n",
      "0.6916206270990959 -11.659686294276273 0.7630538719365358 -0.4517499985484186\n",
      "0.7630538719365358 -0.4517499985484186 0.7660021307306737 -0.00012395061385106487\n",
      "0.7660021307306737 -0.00012395061385106487 0.7660029400921291 -2.327027459614328e-12\n",
      "Iteration 3  Update not changing \n",
      "\n",
      "Function value = -2.327027459614328e-12\n",
      " Root value    = 0.7660029400921291\n",
      "End of NewtonMethod.py \n"
     ]
    }
   ],
   "source": [
    "# now we begin the process\n",
    "count = 0\n",
    "for i in range(0,HowMany,1):\n",
    "    xnew = xnow - func(xnow)/dfdx(xnow)\n",
    "    print(xnow,func(xnow),xnew,func(xnew))\n",
    "    \n",
    "# stopping criteria -- update not changing\n",
    "    if abs(xnew - xnow) < HowSmall:\n",
    "        print (\"Iteration\",i,\" Update not changing \\n\",)\n",
    "        print(\"Function value =\",func(xnew))\n",
    "        print(\" Root value    =\",xnew)\n",
    "        break\n",
    "    else:\n",
    "        xnow = xnew\n",
    "        count = count +1\n",
    "        continue\n",
    "# stopping criteria -- function close to zero\n",
    "    if abs( func(xnew) ) < HowSmall:\n",
    "        print (\"Function value close to zero \\n\")\n",
    "        print(\"Function value =\",func(xnew))\n",
    "        print(\" Root value    =\",xnew)\n",
    "        break\n",
    "    else:\n",
    "        xnow = xnew\n",
    "        count = count +1\n",
    "        continue\n",
    "# next step, then have either broken from the loop or iteration counted out\n",
    "if count == HowMany:\n",
    "    print(\" Iteration Limit Reached \")\n",
    "    print(\"Function value =\",func(xnew))\n",
    "    print(\" Root value    =\",xnew)\n",
    "print(\"End of NewtonMethod.py \")"
   ]
  },
  {
   "cell_type": "code",
   "execution_count": 208,
   "metadata": {},
   "outputs": [
    {
     "name": "stdout",
     "output_type": "stream",
     "text": [
      "C angle  43.88873556189143\n"
     ]
    }
   ],
   "source": [
    "# need to convert back to degrees\n",
    "newton_angle = xnew*180/math.pi\n",
    "print(\"C angle \",newton_angle)"
   ]
  },
  {
   "cell_type": "code",
   "execution_count": 209,
   "metadata": {},
   "outputs": [
    {
     "name": "stdout",
     "output_type": "stream",
     "text": [
      "Maximum blade length for C angle of  43.9  degrees is  50.93  feet\n",
      " dl/dC function target is zero; current value is  -0.0\n"
     ]
    }
   ],
   "source": [
    "# Now get the length from our best guess from plot\n",
    "#newton_angle = 43.8887 # based on newton method fit!\n",
    "print('Maximum blade length for C angle of ',round(newton_angle,1),' degrees is ',round(blade_length(newton_angle*math.pi/180.),3),' feet')\n",
    "print(' dl/dC function target is zero; current value is ',round(func(newton_angle*math.pi/180.),3))"
   ]
  },
  {
   "cell_type": "code",
   "execution_count": 210,
   "metadata": {},
   "outputs": [
    {
     "name": "stdout",
     "output_type": "stream",
     "text": [
      "Using scipy the C angle is  43.888735561892304\n",
      "Maximum blade length for C angle of  43.9  degrees is  50.93  feet\n",
      " dl/dC function target is zero; current value is  -0.0\n"
     ]
    }
   ],
   "source": [
    "# Newton's method using scipy\n",
    "import scipy.optimize \n",
    "\n",
    "myguess =  30\n",
    "myguess = myguess*math.pi/180.\n",
    "\n",
    "newton_angle = scipy.optimize.newton(func, myguess)*180/math.pi\n",
    "\n",
    "print(\"Using scipy the C angle is \",newton_angle)\n",
    "print('Maximum blade length for C angle of ',round(newton_angle,1),' degrees is ',round(blade_length(newton_angle*math.pi/180.),3),' feet')\n",
    "print(' dl/dC function target is zero; current value is ',round(func(newton_angle*math.pi/180.),3))"
   ]
  },
  {
   "cell_type": "code",
   "execution_count": null,
   "metadata": {},
   "outputs": [],
   "source": []
  }
 ],
 "metadata": {
  "kernelspec": {
   "display_name": "Python 3",
   "language": "python",
   "name": "python3"
  },
  "language_info": {
   "codemirror_mode": {
    "name": "ipython",
    "version": 3
   },
   "file_extension": ".py",
   "mimetype": "text/x-python",
   "name": "python",
   "nbconvert_exporter": "python",
   "pygments_lexer": "ipython3",
   "version": "3.8.5"
  }
 },
 "nbformat": 4,
 "nbformat_minor": 4
}
