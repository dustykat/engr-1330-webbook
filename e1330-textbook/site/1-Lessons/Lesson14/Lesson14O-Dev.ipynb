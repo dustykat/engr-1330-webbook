{
 "cells": [
  {
   "cell_type": "code",
   "execution_count": 1,
   "metadata": {
    "jupyter": {
     "source_hidden": true
    }
   },
   "outputs": [
    {
     "name": "stdout",
     "output_type": "stream",
     "text": [
      "atomickitty\n",
      "compthink\n",
      "/opt/jupyterhub/bin/python3\n",
      "3.8.5 (default, Jul 28 2020, 12:59:40) \n",
      "[GCC 9.3.0]\n",
      "sys.version_info(major=3, minor=8, micro=5, releaselevel='final', serial=0)\n",
      "/home/compthink/engr-1330-webroot/1-Lessons/Lesson14/PsuedoLesson\n"
     ]
    }
   ],
   "source": [
    "# Preamble script block to identify host, user, and kernel\n",
    "import sys\n",
    "! hostname\n",
    "! whoami\n",
    "print(sys.executable)\n",
    "print(sys.version)\n",
    "print(sys.version_info)\n",
    "! pwd"
   ]
  },
  {
   "cell_type": "code",
   "execution_count": 2,
   "metadata": {},
   "outputs": [
    {
     "data": {
      "text/html": [
       "<!--Script block to left align Markdown Tables-->\n",
       "<style>\n",
       "  table {margin-left: 0 !important;}\n",
       "</style>\n"
      ],
      "text/plain": [
       "<IPython.core.display.HTML object>"
      ]
     },
     "metadata": {},
     "output_type": "display_data"
    }
   ],
   "source": [
    "%%html\n",
    "<!--Script block to left align Markdown Tables-->\n",
    "<style>\n",
    "  table {margin-left: 0 !important;}\n",
    "</style>"
   ]
  },
  {
   "cell_type": "markdown",
   "metadata": {},
   "source": [
    "# Lesson 14, Towards Hypothesis Testing:\n",
    "\n",
    "## Empirical Distributions\n",
    "\n",
    "Last lesson we introduced empirical (based on observations) distributions and fit models to them - made the red line explain the blue dots.  Ltes refresh a little:\n",
    "\n",
    "__Plotting Position:__ An empirical distribution, based on a random sample from some underlying distribution, is obtained by plotting an estimate of the exceedance (or cumulative) probability of the sample distribution against the sample value. <br>\n",
    "\n",
    "The exceedance probability estimate for a particular sample value is a function of sample size and the rank of the particular sample. \n",
    "For exceedance probabilities, the sample values are ranked from largest to smallest. \n",
    "\n",
    "The general expression in common use for plotting position is $ P = \\frac{m - b}{N + 1 -2b} $\n",
    "\n",
    "where m is the ordered rank of a sample value, N is the sample size, and b is a constant between 0 and 1, depending on the plotting method.<br>\n",
    "\n",
    "Lets look at some real data from https://www.depts.ttu.edu/techmrtweb/reports/complete_reports/0-6654-1_Final.pdf The database in the report is available at: http://54.243.252.9/engr-1330-psuedo-course/CECE-1330-PsuedoCourse/1-Lessons/Lesson14/database_txdot0-6654.txt\n",
    "\n",
    "A proper URL reading would look something like:\n",
    "\n",
    "    import requests \n",
    "    remote_url=\"http://54.243.252.9/engr-1330-psuedo-course/CECE-1330-PsuedoCourse/1-Lessons/Lesson14/database_txdot0-6654.txt\"\n",
    "    rget = requests.get(remote_url, allow_redirects=True)  \n",
    "    open('database_txdot0-6654.txt','wb').write(rget.content) \n",
    "    \n",
    "Of course neither of these will work with CoCalc, so you have to manually obtain the file.\n",
    "\n",
    "Here we already have the file downloaded."
   ]
  },
  {
   "cell_type": "code",
   "execution_count": 22,
   "metadata": {},
   "outputs": [
    {
     "data": {
      "text/html": [
       "<div>\n",
       "<style scoped>\n",
       "    .dataframe tbody tr th:only-of-type {\n",
       "        vertical-align: middle;\n",
       "    }\n",
       "\n",
       "    .dataframe tbody tr th {\n",
       "        vertical-align: top;\n",
       "    }\n",
       "\n",
       "    .dataframe thead th {\n",
       "        text-align: right;\n",
       "    }\n",
       "</style>\n",
       "<table border=\"1\" class=\"dataframe\">\n",
       "  <thead>\n",
       "    <tr style=\"text-align: right;\">\n",
       "      <th></th>\n",
       "      <th>STATION</th>\n",
       "      <th>LATDEG</th>\n",
       "      <th>LONDEG</th>\n",
       "      <th>CDA</th>\n",
       "      <th>MCS</th>\n",
       "      <th>PCS</th>\n",
       "      <th>MCS1085</th>\n",
       "      <th>MAP</th>\n",
       "      <th>OMEGAEM</th>\n",
       "      <th>Q</th>\n",
       "      <th>A</th>\n",
       "      <th>V</th>\n",
       "      <th>B</th>\n",
       "      <th>FDC</th>\n",
       "    </tr>\n",
       "  </thead>\n",
       "  <tbody>\n",
       "    <tr>\n",
       "      <th>0</th>\n",
       "      <td>7227500</td>\n",
       "      <td>35.47028</td>\n",
       "      <td>101.87917</td>\n",
       "      <td>584.0</td>\n",
       "      <td>0.000993</td>\n",
       "      <td>-0.001302</td>\n",
       "      <td>0.01</td>\n",
       "      <td>48636.71</td>\n",
       "      <td>-0.071</td>\n",
       "      <td>373.0</td>\n",
       "      <td>117.0</td>\n",
       "      <td>3.19</td>\n",
       "      <td>104.0</td>\n",
       "      <td>0.8844</td>\n",
       "    </tr>\n",
       "    <tr>\n",
       "      <th>1</th>\n",
       "      <td>7227500</td>\n",
       "      <td>35.47028</td>\n",
       "      <td>101.87917</td>\n",
       "      <td>584.0</td>\n",
       "      <td>0.000993</td>\n",
       "      <td>-0.001302</td>\n",
       "      <td>0.01</td>\n",
       "      <td>48636.71</td>\n",
       "      <td>-0.071</td>\n",
       "      <td>961.0</td>\n",
       "      <td>300.0</td>\n",
       "      <td>3.20</td>\n",
       "      <td>285.0</td>\n",
       "      <td>0.9520</td>\n",
       "    </tr>\n",
       "    <tr>\n",
       "      <th>2</th>\n",
       "      <td>7227500</td>\n",
       "      <td>35.47028</td>\n",
       "      <td>101.87917</td>\n",
       "      <td>584.0</td>\n",
       "      <td>0.000993</td>\n",
       "      <td>-0.001302</td>\n",
       "      <td>0.01</td>\n",
       "      <td>48636.71</td>\n",
       "      <td>-0.071</td>\n",
       "      <td>1240.0</td>\n",
       "      <td>370.0</td>\n",
       "      <td>3.35</td>\n",
       "      <td>285.0</td>\n",
       "      <td>0.9619</td>\n",
       "    </tr>\n",
       "    <tr>\n",
       "      <th>3</th>\n",
       "      <td>7227500</td>\n",
       "      <td>35.47028</td>\n",
       "      <td>101.87917</td>\n",
       "      <td>584.0</td>\n",
       "      <td>0.000993</td>\n",
       "      <td>-0.001302</td>\n",
       "      <td>0.01</td>\n",
       "      <td>48636.71</td>\n",
       "      <td>-0.071</td>\n",
       "      <td>3240.0</td>\n",
       "      <td>613.0</td>\n",
       "      <td>5.29</td>\n",
       "      <td>259.0</td>\n",
       "      <td>0.9852</td>\n",
       "    </tr>\n",
       "    <tr>\n",
       "      <th>4</th>\n",
       "      <td>7227500</td>\n",
       "      <td>35.47028</td>\n",
       "      <td>101.87917</td>\n",
       "      <td>584.0</td>\n",
       "      <td>0.000993</td>\n",
       "      <td>-0.001302</td>\n",
       "      <td>0.01</td>\n",
       "      <td>48636.71</td>\n",
       "      <td>-0.071</td>\n",
       "      <td>2790.0</td>\n",
       "      <td>564.0</td>\n",
       "      <td>4.95</td>\n",
       "      <td>244.0</td>\n",
       "      <td>0.9830</td>\n",
       "    </tr>\n",
       "  </tbody>\n",
       "</table>\n",
       "</div>"
      ],
      "text/plain": [
       "   STATION    LATDEG     LONDEG    CDA       MCS       PCS  MCS1085       MAP  \\\n",
       "0  7227500  35.47028  101.87917  584.0  0.000993 -0.001302     0.01  48636.71   \n",
       "1  7227500  35.47028  101.87917  584.0  0.000993 -0.001302     0.01  48636.71   \n",
       "2  7227500  35.47028  101.87917  584.0  0.000993 -0.001302     0.01  48636.71   \n",
       "3  7227500  35.47028  101.87917  584.0  0.000993 -0.001302     0.01  48636.71   \n",
       "4  7227500  35.47028  101.87917  584.0  0.000993 -0.001302     0.01  48636.71   \n",
       "\n",
       "   OMEGAEM       Q      A     V      B     FDC  \n",
       "0   -0.071   373.0  117.0  3.19  104.0  0.8844  \n",
       "1   -0.071   961.0  300.0  3.20  285.0  0.9520  \n",
       "2   -0.071  1240.0  370.0  3.35  285.0  0.9619  \n",
       "3   -0.071  3240.0  613.0  5.29  259.0  0.9852  \n",
       "4   -0.071  2790.0  564.0  4.95  244.0  0.9830  "
      ]
     },
     "execution_count": 22,
     "metadata": {},
     "output_type": "execute_result"
    }
   ],
   "source": [
    "import pandas \n",
    "data = pandas.read_csv(\"database_txdot0-6654.txt\",sep=\"|\") \n",
    "data.head()"
   ]
  },
  {
   "cell_type": "markdown",
   "metadata": {},
   "source": [
    "The file contains various fields, here let's just name a few.\n",
    "\n",
    "CDA is the contributing drainage area, V is the mean section velocity in the stream at a gaging station, B  is the topwidth, A is the cross section area of flow, Q is the beasured discharge.\n",
    "\n"
   ]
  },
  {
   "cell_type": "code",
   "execution_count": 23,
   "metadata": {},
   "outputs": [
    {
     "data": {
      "text/html": [
       "<div>\n",
       "<style scoped>\n",
       "    .dataframe tbody tr th:only-of-type {\n",
       "        vertical-align: middle;\n",
       "    }\n",
       "\n",
       "    .dataframe tbody tr th {\n",
       "        vertical-align: top;\n",
       "    }\n",
       "\n",
       "    .dataframe thead th {\n",
       "        text-align: right;\n",
       "    }\n",
       "</style>\n",
       "<table border=\"1\" class=\"dataframe\">\n",
       "  <thead>\n",
       "    <tr style=\"text-align: right;\">\n",
       "      <th></th>\n",
       "      <th>STATION</th>\n",
       "      <th>LATDEG</th>\n",
       "      <th>LONDEG</th>\n",
       "      <th>CDA</th>\n",
       "      <th>MCS</th>\n",
       "      <th>PCS</th>\n",
       "      <th>MCS1085</th>\n",
       "      <th>MAP</th>\n",
       "      <th>OMEGAEM</th>\n",
       "      <th>Q</th>\n",
       "      <th>A</th>\n",
       "      <th>V</th>\n",
       "      <th>B</th>\n",
       "      <th>FDC</th>\n",
       "    </tr>\n",
       "  </thead>\n",
       "  <tbody>\n",
       "    <tr>\n",
       "      <th>count</th>\n",
       "      <td>8.716000e+04</td>\n",
       "      <td>87160.000000</td>\n",
       "      <td>87160.000000</td>\n",
       "      <td>87160.000000</td>\n",
       "      <td>87160.000000</td>\n",
       "      <td>87160.000000</td>\n",
       "      <td>87160.000000</td>\n",
       "      <td>87160.000000</td>\n",
       "      <td>87160.000000</td>\n",
       "      <td>87160.000000</td>\n",
       "      <td>87160.000000</td>\n",
       "      <td>87160.000000</td>\n",
       "      <td>87160.000000</td>\n",
       "      <td>87160.000000</td>\n",
       "    </tr>\n",
       "    <tr>\n",
       "      <th>mean</th>\n",
       "      <td>8.031553e+06</td>\n",
       "      <td>30.964611</td>\n",
       "      <td>97.559126</td>\n",
       "      <td>3456.175954</td>\n",
       "      <td>0.001911</td>\n",
       "      <td>0.001024</td>\n",
       "      <td>0.001568</td>\n",
       "      <td>89782.819833</td>\n",
       "      <td>0.035240</td>\n",
       "      <td>1391.274509</td>\n",
       "      <td>560.867726</td>\n",
       "      <td>1.363315</td>\n",
       "      <td>102.836440</td>\n",
       "      <td>0.576762</td>\n",
       "    </tr>\n",
       "    <tr>\n",
       "      <th>std</th>\n",
       "      <td>2.645115e+05</td>\n",
       "      <td>1.822558</td>\n",
       "      <td>1.945012</td>\n",
       "      <td>6863.027946</td>\n",
       "      <td>0.002500</td>\n",
       "      <td>0.002222</td>\n",
       "      <td>0.001779</td>\n",
       "      <td>25066.180563</td>\n",
       "      <td>0.144071</td>\n",
       "      <td>6105.778306</td>\n",
       "      <td>1862.221619</td>\n",
       "      <td>1.040581</td>\n",
       "      <td>332.885599</td>\n",
       "      <td>0.297862</td>\n",
       "    </tr>\n",
       "    <tr>\n",
       "      <th>min</th>\n",
       "      <td>7.227500e+06</td>\n",
       "      <td>27.264170</td>\n",
       "      <td>93.519440</td>\n",
       "      <td>2.310000</td>\n",
       "      <td>-0.000041</td>\n",
       "      <td>-0.020000</td>\n",
       "      <td>-0.000864</td>\n",
       "      <td>30279.510000</td>\n",
       "      <td>-0.428000</td>\n",
       "      <td>0.001000</td>\n",
       "      <td>0.003000</td>\n",
       "      <td>0.001000</td>\n",
       "      <td>0.040000</td>\n",
       "      <td>0.000100</td>\n",
       "    </tr>\n",
       "    <tr>\n",
       "      <th>25%</th>\n",
       "      <td>8.058900e+06</td>\n",
       "      <td>29.570030</td>\n",
       "      <td>95.919170</td>\n",
       "      <td>188.000000</td>\n",
       "      <td>0.000646</td>\n",
       "      <td>-0.000028</td>\n",
       "      <td>0.000509</td>\n",
       "      <td>71566.780000</td>\n",
       "      <td>-0.071000</td>\n",
       "      <td>8.030000</td>\n",
       "      <td>10.600000</td>\n",
       "      <td>0.680000</td>\n",
       "      <td>18.000000</td>\n",
       "      <td>0.326275</td>\n",
       "    </tr>\n",
       "    <tr>\n",
       "      <th>50%</th>\n",
       "      <td>8.104100e+06</td>\n",
       "      <td>30.517220</td>\n",
       "      <td>97.620560</td>\n",
       "      <td>584.000000</td>\n",
       "      <td>0.001307</td>\n",
       "      <td>0.000468</td>\n",
       "      <td>0.000967</td>\n",
       "      <td>86816.740000</td>\n",
       "      <td>0.048000</td>\n",
       "      <td>49.800000</td>\n",
       "      <td>44.700000</td>\n",
       "      <td>1.110000</td>\n",
       "      <td>40.000000</td>\n",
       "      <td>0.592200</td>\n",
       "    </tr>\n",
       "    <tr>\n",
       "      <th>75%</th>\n",
       "      <td>8.166000e+06</td>\n",
       "      <td>32.199170</td>\n",
       "      <td>98.897170</td>\n",
       "      <td>2342.000000</td>\n",
       "      <td>0.002232</td>\n",
       "      <td>0.001929</td>\n",
       "      <td>0.001912</td>\n",
       "      <td>107752.900000</td>\n",
       "      <td>0.146000</td>\n",
       "      <td>389.000000</td>\n",
       "      <td>280.000000</td>\n",
       "      <td>1.740000</td>\n",
       "      <td>100.000000</td>\n",
       "      <td>0.850800</td>\n",
       "    </tr>\n",
       "    <tr>\n",
       "      <th>max</th>\n",
       "      <td>8.447020e+06</td>\n",
       "      <td>36.238610</td>\n",
       "      <td>104.001110</td>\n",
       "      <td>41412.000000</td>\n",
       "      <td>0.030000</td>\n",
       "      <td>0.020000</td>\n",
       "      <td>0.010000</td>\n",
       "      <td>150543.320000</td>\n",
       "      <td>0.336000</td>\n",
       "      <td>268600.000000</td>\n",
       "      <td>74700.000000</td>\n",
       "      <td>13.850000</td>\n",
       "      <td>45983.000000</td>\n",
       "      <td>1.000000</td>\n",
       "    </tr>\n",
       "  </tbody>\n",
       "</table>\n",
       "</div>"
      ],
      "text/plain": [
       "            STATION        LATDEG        LONDEG           CDA           MCS  \\\n",
       "count  8.716000e+04  87160.000000  87160.000000  87160.000000  87160.000000   \n",
       "mean   8.031553e+06     30.964611     97.559126   3456.175954      0.001911   \n",
       "std    2.645115e+05      1.822558      1.945012   6863.027946      0.002500   \n",
       "min    7.227500e+06     27.264170     93.519440      2.310000     -0.000041   \n",
       "25%    8.058900e+06     29.570030     95.919170    188.000000      0.000646   \n",
       "50%    8.104100e+06     30.517220     97.620560    584.000000      0.001307   \n",
       "75%    8.166000e+06     32.199170     98.897170   2342.000000      0.002232   \n",
       "max    8.447020e+06     36.238610    104.001110  41412.000000      0.030000   \n",
       "\n",
       "                PCS       MCS1085            MAP       OMEGAEM              Q  \\\n",
       "count  87160.000000  87160.000000   87160.000000  87160.000000   87160.000000   \n",
       "mean       0.001024      0.001568   89782.819833      0.035240    1391.274509   \n",
       "std        0.002222      0.001779   25066.180563      0.144071    6105.778306   \n",
       "min       -0.020000     -0.000864   30279.510000     -0.428000       0.001000   \n",
       "25%       -0.000028      0.000509   71566.780000     -0.071000       8.030000   \n",
       "50%        0.000468      0.000967   86816.740000      0.048000      49.800000   \n",
       "75%        0.001929      0.001912  107752.900000      0.146000     389.000000   \n",
       "max        0.020000      0.010000  150543.320000      0.336000  268600.000000   \n",
       "\n",
       "                  A             V             B           FDC  \n",
       "count  87160.000000  87160.000000  87160.000000  87160.000000  \n",
       "mean     560.867726      1.363315    102.836440      0.576762  \n",
       "std     1862.221619      1.040581    332.885599      0.297862  \n",
       "min        0.003000      0.001000      0.040000      0.000100  \n",
       "25%       10.600000      0.680000     18.000000      0.326275  \n",
       "50%       44.700000      1.110000     40.000000      0.592200  \n",
       "75%      280.000000      1.740000    100.000000      0.850800  \n",
       "max    74700.000000     13.850000  45983.000000      1.000000  "
      ]
     },
     "execution_count": 23,
     "metadata": {},
     "output_type": "execute_result"
    }
   ],
   "source": [
    "data.describe()"
   ]
  },
  {
   "cell_type": "markdown",
   "metadata": {},
   "source": [
    "Lets build two datasets, one with CDA > 300, and one CDA < 300 and examine the velocities under these two classifications."
   ]
  },
  {
   "cell_type": "code",
   "execution_count": 24,
   "metadata": {},
   "outputs": [],
   "source": [
    "dataBig = data[data['CDA'] >= 300][['STATION','CDA','V']]\n",
    "dataLittle = data[data['CDA'] < 300][['STATION','CDA','V']]"
   ]
  },
  {
   "cell_type": "markdown",
   "metadata": {},
   "source": [
    "Now lets pose a simple question. Are the velocities from large drainage areas, bigger than small areas?\n",
    "We can try a describe approach."
   ]
  },
  {
   "cell_type": "code",
   "execution_count": 25,
   "metadata": {},
   "outputs": [
    {
     "data": {
      "text/html": [
       "<div>\n",
       "<style scoped>\n",
       "    .dataframe tbody tr th:only-of-type {\n",
       "        vertical-align: middle;\n",
       "    }\n",
       "\n",
       "    .dataframe tbody tr th {\n",
       "        vertical-align: top;\n",
       "    }\n",
       "\n",
       "    .dataframe thead th {\n",
       "        text-align: right;\n",
       "    }\n",
       "</style>\n",
       "<table border=\"1\" class=\"dataframe\">\n",
       "  <thead>\n",
       "    <tr style=\"text-align: right;\">\n",
       "      <th></th>\n",
       "      <th>STATION</th>\n",
       "      <th>CDA</th>\n",
       "      <th>V</th>\n",
       "    </tr>\n",
       "  </thead>\n",
       "  <tbody>\n",
       "    <tr>\n",
       "      <th>count</th>\n",
       "      <td>5.628300e+04</td>\n",
       "      <td>56283.000000</td>\n",
       "      <td>56283.000000</td>\n",
       "    </tr>\n",
       "    <tr>\n",
       "      <th>mean</th>\n",
       "      <td>8.004816e+06</td>\n",
       "      <td>5280.254819</td>\n",
       "      <td>1.483542</td>\n",
       "    </tr>\n",
       "    <tr>\n",
       "      <th>std</th>\n",
       "      <td>3.003822e+05</td>\n",
       "      <td>7971.520408</td>\n",
       "      <td>1.087066</td>\n",
       "    </tr>\n",
       "    <tr>\n",
       "      <th>min</th>\n",
       "      <td>7.227500e+06</td>\n",
       "      <td>303.000000</td>\n",
       "      <td>0.003000</td>\n",
       "    </tr>\n",
       "    <tr>\n",
       "      <th>25%</th>\n",
       "      <td>8.044000e+06</td>\n",
       "      <td>585.000000</td>\n",
       "      <td>0.780000</td>\n",
       "    </tr>\n",
       "    <tr>\n",
       "      <th>50%</th>\n",
       "      <td>8.104500e+06</td>\n",
       "      <td>1321.000000</td>\n",
       "      <td>1.230000</td>\n",
       "    </tr>\n",
       "    <tr>\n",
       "      <th>75%</th>\n",
       "      <td>8.167800e+06</td>\n",
       "      <td>5228.000000</td>\n",
       "      <td>1.870000</td>\n",
       "    </tr>\n",
       "    <tr>\n",
       "      <th>max</th>\n",
       "      <td>8.447020e+06</td>\n",
       "      <td>41412.000000</td>\n",
       "      <td>13.850000</td>\n",
       "    </tr>\n",
       "  </tbody>\n",
       "</table>\n",
       "</div>"
      ],
      "text/plain": [
       "            STATION           CDA             V\n",
       "count  5.628300e+04  56283.000000  56283.000000\n",
       "mean   8.004816e+06   5280.254819      1.483542\n",
       "std    3.003822e+05   7971.520408      1.087066\n",
       "min    7.227500e+06    303.000000      0.003000\n",
       "25%    8.044000e+06    585.000000      0.780000\n",
       "50%    8.104500e+06   1321.000000      1.230000\n",
       "75%    8.167800e+06   5228.000000      1.870000\n",
       "max    8.447020e+06  41412.000000     13.850000"
      ]
     },
     "execution_count": 25,
     "metadata": {},
     "output_type": "execute_result"
    }
   ],
   "source": [
    "dataBig.describe()"
   ]
  },
  {
   "cell_type": "code",
   "execution_count": 26,
   "metadata": {},
   "outputs": [
    {
     "data": {
      "text/html": [
       "<div>\n",
       "<style scoped>\n",
       "    .dataframe tbody tr th:only-of-type {\n",
       "        vertical-align: middle;\n",
       "    }\n",
       "\n",
       "    .dataframe tbody tr th {\n",
       "        vertical-align: top;\n",
       "    }\n",
       "\n",
       "    .dataframe thead th {\n",
       "        text-align: right;\n",
       "    }\n",
       "</style>\n",
       "<table border=\"1\" class=\"dataframe\">\n",
       "  <thead>\n",
       "    <tr style=\"text-align: right;\">\n",
       "      <th></th>\n",
       "      <th>STATION</th>\n",
       "      <th>CDA</th>\n",
       "      <th>V</th>\n",
       "    </tr>\n",
       "  </thead>\n",
       "  <tbody>\n",
       "    <tr>\n",
       "      <th>count</th>\n",
       "      <td>3.087700e+04</td>\n",
       "      <td>30877.000000</td>\n",
       "      <td>30877.000000</td>\n",
       "    </tr>\n",
       "    <tr>\n",
       "      <th>mean</th>\n",
       "      <td>8.080290e+06</td>\n",
       "      <td>131.221109</td>\n",
       "      <td>1.144164</td>\n",
       "    </tr>\n",
       "    <tr>\n",
       "      <th>std</th>\n",
       "      <td>1.713293e+05</td>\n",
       "      <td>84.080353</td>\n",
       "      <td>0.910045</td>\n",
       "    </tr>\n",
       "    <tr>\n",
       "      <th>min</th>\n",
       "      <td>7.227920e+06</td>\n",
       "      <td>2.310000</td>\n",
       "      <td>0.001000</td>\n",
       "    </tr>\n",
       "    <tr>\n",
       "      <th>25%</th>\n",
       "      <td>8.066200e+06</td>\n",
       "      <td>63.300000</td>\n",
       "      <td>0.550000</td>\n",
       "    </tr>\n",
       "    <tr>\n",
       "      <th>50%</th>\n",
       "      <td>8.095400e+06</td>\n",
       "      <td>120.000000</td>\n",
       "      <td>0.900000</td>\n",
       "    </tr>\n",
       "    <tr>\n",
       "      <th>75%</th>\n",
       "      <td>8.164503e+06</td>\n",
       "      <td>206.000000</td>\n",
       "      <td>1.450000</td>\n",
       "    </tr>\n",
       "    <tr>\n",
       "      <th>max</th>\n",
       "      <td>8.431700e+06</td>\n",
       "      <td>299.000000</td>\n",
       "      <td>10.440000</td>\n",
       "    </tr>\n",
       "  </tbody>\n",
       "</table>\n",
       "</div>"
      ],
      "text/plain": [
       "            STATION           CDA             V\n",
       "count  3.087700e+04  30877.000000  30877.000000\n",
       "mean   8.080290e+06    131.221109      1.144164\n",
       "std    1.713293e+05     84.080353      0.910045\n",
       "min    7.227920e+06      2.310000      0.001000\n",
       "25%    8.066200e+06     63.300000      0.550000\n",
       "50%    8.095400e+06    120.000000      0.900000\n",
       "75%    8.164503e+06    206.000000      1.450000\n",
       "max    8.431700e+06    299.000000     10.440000"
      ]
     },
     "execution_count": 26,
     "metadata": {},
     "output_type": "execute_result"
    }
   ],
   "source": [
    "dataLittle.describe()"
   ]
  },
  {
   "cell_type": "markdown",
   "metadata": {},
   "source": [
    "Hard to tell, the mean values are pretty close, standard deviation about the same, the IQR is close.\n",
    "Lets try to plot two histograms side-by-side.  We can get some guidance from\n",
    "https://stackoverflow.com/questions/45069828/how-to-plot-2-histograms-side-by-side?rq=1\n",
    "\n",
    "And then Copy, Modify, Run (CMR) our new script."
   ]
  },
  {
   "cell_type": "code",
   "execution_count": 27,
   "metadata": {},
   "outputs": [
    {
     "data": {
      "text/plain": [
       "<AxesSubplot:title={'center':'Velocity: Little Watersheds'}>"
      ]
     },
     "execution_count": 27,
     "metadata": {},
     "output_type": "execute_result"
    },
    {
     "data": {
      "image/png": "[encoded data removed]",
      "text/plain": [
       "<Figure size 576x288 with 2 Axes>"
      ]
     },
     "metadata": {
      "needs_background": "light"
     },
     "output_type": "display_data"
    }
   ],
   "source": [
    "import matplotlib.pyplot \n",
    "# make a couple of dataframes\n",
    "set1 = dataBig['V']\n",
    "set2 = dataLittle['V']\n",
    "# use subplots\n",
    "fig, axes = matplotlib.pyplot.subplots(1, 2)\n",
    "axes[0].set_title('Velocity: Big Watersheds') \n",
    "axes[1].set_title('Velocity: Little Watersheds')\n",
    "# here we build the plots - notice the ax variable\n",
    "set1.hist( bins=100, rwidth=1, color='blue', density=True, ax=axes[0],figsize = (8,4))\n",
    "set2.hist( bins=100, rwidth=1, color='red', density=True, ax=axes[1],figsize = (8,4))"
   ]
  },
  {
   "cell_type": "markdown",
   "metadata": {},
   "source": [
    "The plots look pretty darned similar, not identical, but too similar to conclude the size matters.\n",
    "\n",
    "So lets try our empirical distribution approach"
   ]
  },
  {
   "cell_type": "code",
   "execution_count": 28,
   "metadata": {},
   "outputs": [],
   "source": [
    "# First copy into numpy arrays\n",
    "import numpy\n",
    "big1s = numpy.array(dataBig['V'])\n",
    "little1s = numpy.array(dataLittle['V'])"
   ]
  },
  {
   "cell_type": "code",
   "execution_count": 29,
   "metadata": {},
   "outputs": [],
   "source": [
    "def weibull_pp(sample): # Weibull plotting position function\n",
    "# returns a list of plotting positions; sample must be a numeric list\n",
    "    weibull_pp = [] # null list to return after fill\n",
    "    sample.sort() # sort the sample list in place\n",
    "    for i in range(0,len(sample),1):\n",
    "        weibull_pp.append((i+1)/(len(sample)+1)) #values from the gringorten formula\n",
    "    return weibull_pp"
   ]
  },
  {
   "cell_type": "code",
   "execution_count": 30,
   "metadata": {},
   "outputs": [],
   "source": [
    "#Apply the weibull pp function\n",
    "big1s_wei = weibull_pp(big1s)\n",
    "little1s_wei = weibull_pp(little1s)"
   ]
  },
  {
   "cell_type": "code",
   "execution_count": 31,
   "metadata": {},
   "outputs": [
    {
     "data": {
      "image/png": "[encoded data removed]",
      "text/plain": [
       "<Figure size 288x576 with 1 Axes>"
      ]
     },
     "metadata": {
      "needs_background": "light"
     },
     "output_type": "display_data"
    }
   ],
   "source": [
    "import matplotlib.pyplot\n",
    "myfigure = matplotlib.pyplot.figure(figsize = (4,8)) # generate a object from the figure class, set aspect ratio\n",
    "matplotlib.pyplot.scatter(big1s_wei, big1s ,color ='blue')\n",
    "matplotlib.pyplot.scatter(little1s_wei, little1s ,color ='orange')\n",
    "matplotlib.pyplot.xlabel(\"Density or Quantile Value\") \n",
    "matplotlib.pyplot.ylabel(\"Velocity Value\") \n",
    "matplotlib.pyplot.title(\"Quantile Plot for Big and Little based on Weibull Plotting Function\") \n",
    "matplotlib.pyplot.show()"
   ]
  },
  {
   "cell_type": "markdown",
   "metadata": {},
   "source": [
    "Now we have something, the gold line looks different in a probabilistic sense than the blue line except in the extreme part of the diagram, so the mean velocity is smaller on small watersheds, but such watersheds are quite capable of generating high velocities on rare occasion.\n",
    "\n",
    "Lets log transform the results and look again - it does not change anything, but will highlight differences."
   ]
  },
  {
   "cell_type": "code",
   "execution_count": 32,
   "metadata": {},
   "outputs": [
    {
     "data": {
      "image/png": "[encoded data removed]",
      "text/plain": [
       "<Figure size 288x576 with 1 Axes>"
      ]
     },
     "metadata": {
      "needs_background": "light"
     },
     "output_type": "display_data"
    }
   ],
   "source": [
    "import math\n",
    "def loggit(x):  # A prototype function to log transform x\n",
    "    return(math.log(x))\n",
    "\n",
    "big1s = numpy.array(dataBig['V'].apply(loggit).tolist())\n",
    "little1s = numpy.array(dataLittle['V'].apply(loggit).tolist())\n",
    "\n",
    "#Apply the weibull pp function\n",
    "big1s_wei = weibull_pp(big1s)\n",
    "little1s_wei = weibull_pp(little1s)\n",
    "\n",
    "myfigure = matplotlib.pyplot.figure(figsize = (4,8)) # generate a object from the figure class, set aspect ratio\n",
    "matplotlib.pyplot.scatter(big1s_wei, big1s ,color ='blue')\n",
    "matplotlib.pyplot.scatter(little1s_wei, little1s ,color ='orange')\n",
    "matplotlib.pyplot.xlabel(\"Density or Quantile Value\") \n",
    "matplotlib.pyplot.ylabel(\"Velocity Value\") \n",
    "matplotlib.pyplot.title(\"Quantile Plot for Big and Little based on Weibull Plotting Function\") \n",
    "matplotlib.pyplot.show()"
   ]
  },
  {
   "cell_type": "markdown",
   "metadata": {},
   "source": [
    "In log space we see even more of a difference. Next lesson we will learn about \"hypothesis\" tests where we can test if the differences are big enough to be meaningful, or are just a chance occurance."
   ]
  },
  {
   "cell_type": "markdown",
   "metadata": {},
   "source": [
    "Now let's play the same game with discharge, the product of velocity and area."
   ]
  },
  {
   "cell_type": "code",
   "execution_count": 45,
   "metadata": {},
   "outputs": [
    {
     "name": "stdout",
     "output_type": "stream",
     "text": [
      "            STATION           CDA              Q\n",
      "count  7.995900e+04  79959.000000   79959.000000\n",
      "mean   8.027296e+06   3764.698449    1504.954378\n",
      "std    2.696393e+05   7084.554644    6359.728799\n",
      "min    7.227500e+06     62.800000       0.001000\n",
      "25%    8.055500e+06    244.000000      10.400000\n",
      "50%    8.103800e+06    737.000000      59.200000\n",
      "75%    8.166140e+06   2958.000000     468.000000\n",
      "max    8.447020e+06  41412.000000  268600.000000\n",
      "            STATION          CDA             Q\n",
      "count  7.201000e+03  7201.000000   7201.000000\n",
      "mean   8.078828e+06    30.380903    128.987519\n",
      "std    1.926699e+05    15.705497    627.289584\n",
      "min    7.311630e+06     2.310000      0.001000\n",
      "25%    8.068780e+06    17.300000      1.100000\n",
      "50%    8.115000e+06    28.700000      5.270000\n",
      "75%    8.160800e+06    44.100000     28.800000\n",
      "max    8.431700e+06    57.000000  16500.000000\n"
     ]
    }
   ],
   "source": [
    "dataBig = data[data['CDA'] >= 60][['STATION','CDA','Q']]\n",
    "dataLittle = data[data['CDA'] < 60][['STATION','CDA','Q']]\n",
    "print(dataBig.describe())\n",
    "print(dataLittle.describe())"
   ]
  },
  {
   "cell_type": "code",
   "execution_count": 46,
   "metadata": {},
   "outputs": [
    {
     "data": {
      "text/plain": [
       "<AxesSubplot:title={'center':'Discharge: Little Watersheds'}>"
      ]
     },
     "execution_count": 46,
     "metadata": {},
     "output_type": "execute_result"
    },
    {
     "data": {
      "image/png": "[encoded data removed]",
      "text/plain": [
       "<Figure size 576x288 with 2 Axes>"
      ]
     },
     "metadata": {
      "needs_background": "light"
     },
     "output_type": "display_data"
    }
   ],
   "source": [
    "# make a couple of dataframes\n",
    "set1 = dataBig['Q']\n",
    "set2 = dataLittle['Q']\n",
    "# use subplots\n",
    "fig, axes = matplotlib.pyplot.subplots(1, 2)\n",
    "axes[0].set_title('Discharge: Big Watersheds') \n",
    "axes[1].set_title('Discharge: Little Watersheds')\n",
    "# here we build the plots - notice the ax variable\n",
    "set1.hist( bins=100, rwidth=1, color='blue', density=True, ax=axes[0],figsize = (8,4))\n",
    "set2.hist( bins=100, rwidth=1, color='red', density=True, ax=axes[1],figsize = (8,4))"
   ]
  },
  {
   "cell_type": "code",
   "execution_count": 47,
   "metadata": {},
   "outputs": [],
   "source": [
    "big1s = numpy.array(dataBig['Q'])\n",
    "little1s = numpy.array(dataLittle['Q'])"
   ]
  },
  {
   "cell_type": "code",
   "execution_count": 48,
   "metadata": {},
   "outputs": [],
   "source": [
    "#Apply the weibull pp function\n",
    "big1s_wei = weibull_pp(big1s)\n",
    "little1s_wei = weibull_pp(little1s)"
   ]
  },
  {
   "cell_type": "code",
   "execution_count": 49,
   "metadata": {},
   "outputs": [
    {
     "data": {
      "image/png": "[encoded data removed]",
      "text/plain": [
       "<Figure size 576x576 with 1 Axes>"
      ]
     },
     "metadata": {
      "needs_background": "light"
     },
     "output_type": "display_data"
    }
   ],
   "source": [
    "myfigure = matplotlib.pyplot.figure(figsize = (8,8)) # generate a object from the figure class, set aspect ratio\n",
    "matplotlib.pyplot.scatter(big1s_wei, big1s ,color ='blue')\n",
    "matplotlib.pyplot.scatter(little1s_wei, little1s ,color ='orange')\n",
    "matplotlib.pyplot.xlabel(\"Density or Quantile Value\") \n",
    "matplotlib.pyplot.ylabel(\"Discharge Value\") \n",
    "matplotlib.pyplot.title(\"Quantile Plot for Big and Little based on Weibull Plotting Function\") \n",
    "matplotlib.pyplot.show()"
   ]
  },
  {
   "cell_type": "markdown",
   "metadata": {},
   "source": [
    "Here we see some difference - but would be hard to quantify meaningfully, lets repeat in log space. We will log transform the values and reanalyze."
   ]
  },
  {
   "cell_type": "code",
   "execution_count": 38,
   "metadata": {},
   "outputs": [],
   "source": [
    "import math\n",
    "def loggit(x):  # A prototype function to log transform x\n",
    "    return(math.log(x))\n",
    "\n",
    "big1s = numpy.array(dataBig['Q'].apply(loggit).tolist())\n",
    "little1s = numpy.array(dataLittle['Q'].apply(loggit).tolist())"
   ]
  },
  {
   "cell_type": "code",
   "execution_count": 39,
   "metadata": {},
   "outputs": [],
   "source": [
    "#Apply the weibull pp function\n",
    "big1s_wei = weibull_pp(big1s)\n",
    "little1s_wei = weibull_pp(little1s)"
   ]
  },
  {
   "cell_type": "code",
   "execution_count": 40,
   "metadata": {},
   "outputs": [
    {
     "data": {
      "image/png": "[encoded data removed]",
      "text/plain": [
       "<Figure size 576x576 with 1 Axes>"
      ]
     },
     "metadata": {
      "needs_background": "light"
     },
     "output_type": "display_data"
    }
   ],
   "source": [
    "myfigure = matplotlib.pyplot.figure(figsize = (8,8)) # generate a object from the figure class, set aspect ratio\n",
    "matplotlib.pyplot.scatter(big1s_wei, big1s ,color ='blue')\n",
    "matplotlib.pyplot.scatter(little1s_wei, little1s ,color ='orange')\n",
    "matplotlib.pyplot.xlabel(\"Density or Quantile Value\") \n",
    "matplotlib.pyplot.ylabel(\"Discharge Value\") \n",
    "matplotlib.pyplot.title(\"Quantile Plot for Big and Little based on Weibull Plotting Function\") \n",
    "matplotlib.pyplot.show()"
   ]
  },
  {
   "cell_type": "markdown",
   "metadata": {},
   "source": [
    "# Are they different enough?\n",
    "\n",
    "In these cases, yes (at least for the mean value), we will learn methods next time to test for more subtle differences - in the general field called hypothesis tests."
   ]
  },
  {
   "cell_type": "code",
   "execution_count": 43,
   "metadata": {},
   "outputs": [
    {
     "data": {
      "image/png": "[encoded data removed]",
      "text/plain": [
       "<Figure size 576x576 with 1 Axes>"
      ]
     },
     "metadata": {
      "needs_background": "light"
     },
     "output_type": "display_data"
    }
   ],
   "source": [
    "import math\n",
    "def loggit(x):  # A prototype function to log transform x\n",
    "    return(math.log(x))\n",
    "big1s = numpy.array(dataLittle['Q'].apply(loggit).tolist())\n",
    "little1s = numpy.array(dataLittle['Q'].apply(loggit).tolist())\n",
    "#Apply the weibull pp function\n",
    "big1s_wei = weibull_pp(big1s)\n",
    "little1s_wei = weibull_pp(little1s)\n",
    "myfigure = matplotlib.pyplot.figure(figsize = (8,8)) # generate a object from the figure class, set aspect ratio\n",
    "matplotlib.pyplot.scatter(big1s_wei, big1s ,color ='blue')\n",
    "matplotlib.pyplot.scatter(little1s_wei, little1s ,color ='orange')\n",
    "matplotlib.pyplot.xlabel(\"Density or Quantile Value\") \n",
    "matplotlib.pyplot.ylabel(\"Discharge Value\") \n",
    "matplotlib.pyplot.title(\"Quantile Plot for Big and Little based on Weibull Plotting Function\") \n",
    "matplotlib.pyplot.show()"
   ]
  },
  {
   "cell_type": "code",
   "execution_count": null,
   "metadata": {},
   "outputs": [],
   "source": []
  }
 ],
 "metadata": {
  "kernelspec": {
   "display_name": "Python 3",
   "language": "python",
   "name": "python3"
  },
  "language_info": {
   "codemirror_mode": {
    "name": "ipython",
    "version": 3
   },
   "file_extension": ".py",
   "mimetype": "text/x-python",
   "name": "python",
   "nbconvert_exporter": "python",
   "pygments_lexer": "ipython3",
   "version": "3.8.5"
  }
 },
 "nbformat": 4,
 "nbformat_minor": 4
}
