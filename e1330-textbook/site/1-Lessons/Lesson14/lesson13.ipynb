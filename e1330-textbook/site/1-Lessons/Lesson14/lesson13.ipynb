{
 "cells": [
  {
   "cell_type": "code",
   "execution_count": 43,
   "metadata": {},
   "outputs": [
    {
     "data": {
      "text/html": [
       "<!--Script block to left align Markdown Tables-->\n",
       "<style>\n",
       "  table {margin-left: 0 !important;}\n",
       "</style>\n"
      ],
      "text/plain": [
       "<IPython.core.display.HTML object>"
      ]
     },
     "metadata": {},
     "output_type": "display_data"
    }
   ],
   "source": [
    "%%html\n",
    "<!--Script block to left align Markdown Tables-->\n",
    "<style>\n",
    "  table {margin-left: 0 !important;}\n",
    "</style>"
   ]
  },
  {
   "cell_type": "markdown",
   "metadata": {},
   "source": [
    "# ENGR 1330 Computational Thinking with Data Science \n",
    "Last GitHub Commit Date: 2 Mar 2021\n",
    "\n",
    "## Lesson 13 : Probability Estimation Modeling\n",
    "\n",
    "An extension of data modeling with special functions (probability distributions) where one axis is a probability estimate.\n",
    "\n",
    "<!--![](http://54.243.252.9/engr-1330-psuedo-course/CECE-1330-PsuedoCourse/1-Lessons/Lesson13/PsuedoLesson/roulette.png)-->\n",
    "\n",
    "## Objectives\n",
    "- To apply fundamental concepts involved in probability estimation modeling;\n",
    "  - Concept of a fitting function (again)\n",
    "- Introduce select special functions\n",
    "  - Plotting position functions\n",
    "  - Normal distribution function\n",
    "  - Gamma distribution function\n",
    "  - Extreme value distribution function\n",
    "  - Pearson Type 3 distribution function\n",
    "  \n",
    "\n",
    "---\n",
    "\n",
    "## Computational Thinking Concepts\n",
    "The CT concepts include:\n",
    "\n",
    "- Decomposition => Assert data are drawn from some process that is functionally explainable\n",
    "- Abstraction => Represent data behavior with a function \n",
    "- Algorithm Design =>  Use the function to predict \"new\" values of observations\n",
    "---\n",
    "\n",
    "## Data Model Process"
   ]
  },
  {
   "cell_type": "markdown",
   "metadata": {},
   "source": [
    "Recall the data modeling process we implemented last time:\n",
    "\n",
    "1. Prepare our data series \n",
    "1. Select a function type as the data model (in this case polynomials of order 1 and 2)\n",
    "2. Use a plotting tool to plot observed data (red) and our model (blue)\n",
    "3. Adjust model parameters (b0,b1,b2, ...) to get the blue model to pass through the red dots as best we can.\n",
    "\n",
    "\n",
    "\n"
   ]
  },
  {
   "cell_type": "markdown",
   "metadata": {},
   "source": [
    "### Recall the time/speed example:\n",
    "\n",
    "Same as before, but allowing a cubic equation named polynomial."
   ]
  },
  {
   "cell_type": "code",
   "execution_count": 44,
   "metadata": {},
   "outputs": [],
   "source": [
    "# Our data ##################################\n",
    "time = [0,1.0,2.0,3.0,4.0,5.0,6.0]\n",
    "speed = [0,3,7,12,20,30,45.6]\n",
    "# Our new model ##############################\n",
    "def polynomial(b0,b1,b2,b3,x):\n",
    "    # return y = b0 + b1*x + b2*x**2 + b3*x**3\n",
    "    polynomial=b0+b1*x+b2*x**2+b3*x**3  \n",
    "    return(polynomial)\n",
    "# Our plotting function ######################\n",
    "import matplotlib.pyplot as plt\n",
    "def make2plot(listx1,listy1,listx2,listy2,strlablx,strlably,strtitle):\n",
    "    mydata = plt.figure(figsize = (10,5)) # build a square drawing canvass from figure class\n",
    "    plt.plot(listx1,listy1, c='red', marker='v',linewidth=0) # basic data plot\n",
    "    plt.plot(listx2,listy2, c='blue',linewidth=1) # basic model plot\n",
    "    plt.xlabel(strlablx)\n",
    "    plt.ylabel(strlably)\n",
    "    plt.legend(['Series 1','Series 2'])# modify for argument insertion\n",
    "    plt.title(strtitle)\n",
    "    plt.show()"
   ]
  },
  {
   "cell_type": "code",
   "execution_count": 45,
   "metadata": {},
   "outputs": [
    {
     "data": {
      "image/png": "[encoded data removed]",
      "text/plain": [
       "<Figure size 720x360 with 1 Axes>"
      ]
     },
     "metadata": {
      "needs_background": "light"
     },
     "output_type": "display_data"
    }
   ],
   "source": [
    "# Our \"fitting\" process ####################\n",
    "intercept = 0.0      # set to 0.0\n",
    "linear = 1.5          # adjust to 2.0\n",
    "quadratic = 0.7     # adjust to 0.9 \n",
    "cubic = 0.05\n",
    "modelSpeed = [] # empty list\n",
    "for i in range(len(time)):\n",
    "    modelSpeed.append(polynomial(intercept,linear,quadratic,cubic,time[i]))\n",
    "# Plotting results\n",
    "make2plot(time,speed,time,modelSpeed,'time (sec.)','speed (m/s)','Plot of model and observations')"
   ]
  },
  {
   "cell_type": "markdown",
   "metadata": {},
   "source": [
    "### Using our model"
   ]
  },
  {
   "cell_type": "code",
   "execution_count": 46,
   "metadata": {},
   "outputs": [
    {
     "name": "stdout",
     "output_type": "stream",
     "text": [
      "Speed estimate at time  6.5 is  53.056250000000006\n"
     ]
    }
   ],
   "source": [
    "time2go = 6.5\n",
    "print('Speed estimate at time ',time2go,'is ',polynomial(intercept,linear,quadratic,cubic,time2go))"
   ]
  },
  {
   "cell_type": "markdown",
   "metadata": {},
   "source": [
    "---\n",
    "## Probability Estimation Modeling\n",
    "\n",
    "Probability estimation modeling is the use of probability distributions (**population** data models) to model or explain behavior in observed (**sample** data) values.  \n",
    "Once a particular distribution is selected, then the concept of risk (probability) can be explored for events of varying magnitudes.\n",
    "\n",
    "Two important “extremes” in engineering:\n",
    "\n",
    "- Uncommon (rare) events (floods, nuclear plant explosions, etc.)\n",
    "\n",
    "- Common, almost predictable events (routine discharges, traffic accidents at a dangerous intersection, network failure on a due date, etc.)\n",
    "\n",
    "The probability distribution is just a model of the data, like a trend line for deterministic behavior; different distributions have different shapes, and domains and can explain certain types of observations better than others.\n",
    "\n",
    "Some Useful Distributions (data models) include:\n",
    "\n",
    "- Normal\n",
    "- LogNormal\n",
    "- Gamma\n",
    "- Weibull\n",
    "- Extreme Value (Gumbell)\n",
    "- Beta\n",
    "\n",
    "There are many more; they all have the common property that they integrate to unity on the domain $-\\infty~to ~ \\infty$.  \n",
    "\n",
    "The probability distributions (models) are often expressed as a density function or a cumulative distribution function. "
   ]
  },
  {
   "cell_type": "code",
   "execution_count": 47,
   "metadata": {},
   "outputs": [],
   "source": [
    "import math\n",
    "\n",
    "def normdensity(mu,sigma,x):  # positional arguments are in form: parameters,variable\n",
    "    weight = 1.0 /(sigma * math.sqrt(2.0*math.pi))\n",
    "    argument = ((x - mu)**2)/(2.0*sigma**2)\n",
    "    normdensity = weight*math.exp(-1.0*argument)\n",
    "    return normdensity\n",
    "\n",
    "def normdist(mu,sigma,x):\n",
    "    argument = (x - mu)/(math.sqrt(2.0)*sigma)    \n",
    "    normdist = (1.0 + math.erf(argument))/2.0\n",
    "    return normdist"
   ]
  },
  {
   "cell_type": "code",
   "execution_count": 48,
   "metadata": {},
   "outputs": [
    {
     "data": {
      "image/png": "[encoded data removed]",
      "text/plain": [
       "<Figure size 720x360 with 1 Axes>"
      ]
     },
     "metadata": {
      "needs_background": "light"
     },
     "output_type": "display_data"
    }
   ],
   "source": [
    "# Standard Normal Distribution Plots\n",
    "\n",
    "mu = 0\n",
    "sigma = 1\n",
    "\n",
    "x = []\n",
    "ypdf = []\n",
    "ycdf = []\n",
    "\n",
    "xlow = -10\n",
    "xhigh = 10\n",
    "howMany = 100\n",
    "xstep = (xhigh - xlow)/howMany\n",
    "\n",
    "for i in range(0,howMany+1,1):\n",
    "    x.append(xlow + i*xstep)\n",
    "    yvalue = normdensity(mu,sigma,xlow + i*xstep)\n",
    "    ypdf.append(yvalue)\n",
    "    yvalue = normdist(mu,sigma,xlow + i*xstep)\n",
    "    ycdf.append(yvalue)  \n",
    "\n",
    "#x\n",
    "#ypdf\n",
    "#ycdf\n",
    "make2plot(x,ypdf,x,ycdf,\"Value of RV\",\n",
    "          \"Density or Quantile Value\",\"Normal Distribution Data Model\")"
   ]
  },
  {
   "cell_type": "markdown",
   "metadata": {},
   "source": [
    "Make the plot above, nothing too special just yet. Plots of the density (in red) and cumulative density (probability) in blue."
   ]
  },
  {
   "cell_type": "markdown",
   "metadata": {},
   "source": [
    "### Exceedence Probability \n",
    "\n",
    "The purpose of distributions is to model data and allow us to estimate an answer to the question **what is the probability that we will observe a value of the random variable less than or equal to some sentinel value?**.  A common way to plot the quantile function ($F(X)$) is with accumulated probability on the horizontal axis, and random variable value on the vertical axis.\n",
    "Consider the figure below;\n",
    "\n",
    "![](http://54.243.252.9/engr-1330-psuedo-course/CECE-1330-PsuedoCourse/1-Lessons/Lesson13/PsuedoLesson/exceedence.png)\n",
    "\n",
    "The RV Value is about 50,000 indicated by the horizontal magenta line.  \n",
    "The blue curve is some data model, for instance one of our distributions below.\n",
    "The accumulated probability value at 50,000 is 0.1 or roughly 10% chance, but we also have to stipulate whether we are interested in less than or greater than.  \n",
    "\n",
    "In the figure shown, $P(x <= 50,000)~ =~1.00~-~0.1~= 0.9~or~90\\%$ and is a non-exceedence probability. In words we would state \n",
    "\"The probability of observing a value less than or equal to 50,000 is 90%\" the other side of the vertical line is the exceedence probability; in the figure $P(x > 50,000)~=~0.1~or~10\\%$.  In words we would state \"The probability of observing a value equal to or greater than 50,000 is 10%.\"  In risk analysis the sense of the probability is easily confusing, so when you can - make a plot.  Another way to look at the situation is to simply realize that the blue curve is the quantile function $F(X)$ with $X$ plotted on the vertical axis, and $F(X)$ plotted on the horizontal axis.\n",
    "\n",
    "Now lets put these ideas to use.  We will sample from the population of integers from 0 to 100, with replacement.  Any single pull from the population is equally likely. Lets take 25 samples (about 1/4 of the total population - usually we dont know the size of the population)."
   ]
  },
  {
   "cell_type": "code",
   "execution_count": 49,
   "metadata": {},
   "outputs": [],
   "source": [
    "import numpy\n",
    "\n",
    "population = []\n",
    "for i in range(0,101,1):\n",
    "    population.append(i)"
   ]
  },
  {
   "cell_type": "code",
   "execution_count": 50,
   "metadata": {},
   "outputs": [],
   "source": [
    "#population"
   ]
  },
  {
   "cell_type": "code",
   "execution_count": 51,
   "metadata": {},
   "outputs": [
    {
     "data": {
      "text/plain": [
       "array([84, 78, 78, 39, 97, 82, 23, 34, 91,  4, 15, 94, 48, 90, 74, 78,  3,\n",
       "       47, 73, 37, 47, 20, 50,  3, 87])"
      ]
     },
     "execution_count": 51,
     "metadata": {},
     "output_type": "execute_result"
    }
   ],
   "source": [
    "sample = numpy.random.choice(population,25)\n",
    "sample"
   ]
  },
  {
   "cell_type": "code",
   "execution_count": 52,
   "metadata": {},
   "outputs": [],
   "source": [
    "# lets get some statistics\n",
    "sample_mean = sample.mean()\n",
    "sample_variance = sample.std()**2"
   ]
  },
  {
   "cell_type": "code",
   "execution_count": 53,
   "metadata": {},
   "outputs": [],
   "source": [
    "# sort the sample in place!\n",
    "sample.sort()\n",
    "# built a relative frequency approximation to probability, assume each pick is equally likely, use weibull plotting position formula\n",
    "weibull_pp = []\n",
    "for i in range(0,len(sample),1):\n",
    "    weibull_pp.append((i+1)/(len(sample)+1))"
   ]
  },
  {
   "cell_type": "code",
   "execution_count": 54,
   "metadata": {},
   "outputs": [
    {
     "data": {
      "image/png": "[encoded data removed]",
      "text/plain": [
       "<Figure size 720x360 with 1 Axes>"
      ]
     },
     "metadata": {
      "needs_background": "light"
     },
     "output_type": "display_data"
    }
   ],
   "source": [
    "make2plot(weibull_pp, sample,ycdf, x,\"Density or Quantile Value\",\n",
    "          \"Value of RV\",\"Normal Distribution Data Model\")"
   ]
  },
  {
   "cell_type": "markdown",
   "metadata": {},
   "source": [
    "What a horrible plot, but lets now use the sample statistics to \"fit\" the data model (blue) to the observations (red). Notice we have already rotated the axes so this plot and ones that follow are structured like the \"Exceedence\" plot above."
   ]
  },
  {
   "cell_type": "code",
   "execution_count": 55,
   "metadata": {},
   "outputs": [],
   "source": [
    "# Fitted Model\n",
    "\n",
    "mu = sample_mean\n",
    "sigma = math.sqrt(sample_variance)\n",
    "\n",
    "x = []\n",
    "ycdf = []\n",
    "\n",
    "xlow = 0\n",
    "xhigh = 100\n",
    "howMany = 100\n",
    "xstep = (xhigh - xlow)/howMany\n",
    "\n",
    "for i in range(0,howMany+1,1):\n",
    "    x.append(xlow + i*xstep)\n",
    "    yvalue = normdist(mu,sigma,xlow + i*xstep)\n",
    "    ycdf.append(yvalue) "
   ]
  },
  {
   "cell_type": "code",
   "execution_count": 56,
   "metadata": {},
   "outputs": [],
   "source": [
    "mytitle = \"Normal Distribution Data Model sample mean = : \" + str(round(sample_mean,3)) +\" sample variance =: \" + str(round(sample_variance,3))                                                              "
   ]
  },
  {
   "cell_type": "code",
   "execution_count": 57,
   "metadata": {},
   "outputs": [
    {
     "data": {
      "image/png": "[encoded data removed]",
      "text/plain": [
       "<Figure size 720x360 with 1 Axes>"
      ]
     },
     "metadata": {
      "needs_background": "light"
     },
     "output_type": "display_data"
    }
   ],
   "source": [
    "make2plot(weibull_pp, sample,ycdf, x,\"Density or Quantile Value\",\n",
    "          \"Value of RV\",mytitle)"
   ]
  },
  {
   "cell_type": "markdown",
   "metadata": {},
   "source": [
    "Now for grins, lets use population values because we sampled from a population that we already created above."
   ]
  },
  {
   "cell_type": "code",
   "execution_count": 58,
   "metadata": {},
   "outputs": [
    {
     "data": {
      "image/png": "[encoded data removed]",
      "text/plain": [
       "<Figure size 720x360 with 1 Axes>"
      ]
     },
     "metadata": {
      "needs_background": "light"
     },
     "output_type": "display_data"
    }
   ],
   "source": [
    "popmean = numpy.array(population).mean()\n",
    "popvar = numpy.array(population).std()**2\n",
    "# Fitted Model\n",
    "\n",
    "mu = popmean\n",
    "sigma = math.sqrt(popvar)\n",
    "\n",
    "x = []\n",
    "ycdf = []\n",
    "\n",
    "xlow = 0\n",
    "xhigh = 100\n",
    "howMany = 100\n",
    "xstep = (xhigh - xlow)/howMany\n",
    "\n",
    "for i in range(0,howMany+1,1):\n",
    "    x.append(xlow + i*xstep)\n",
    "    yvalue = normdist(mu,sigma,(xlow + i*xstep))\n",
    "    ycdf.append(yvalue) \n",
    "\n",
    "    \n",
    "# Now plot the sample values and plotting position\n",
    "mytitle = \"Normal Distribution Data Model Population mean = : \" + str(round(popmean,3)) +\" Population variance =: \" + str(round(popvar,3))       \n",
    "make2plot(weibull_pp, sample,ycdf, x,\"Value of RV\",\n",
    "          \"Density or Quantile Value\",mytitle)"
   ]
  },
  {
   "cell_type": "markdown",
   "metadata": {},
   "source": [
    "Some observations are in order:\n",
    "\n",
    "- The population is a uniformly distributed collection. \n",
    "- By random sampling, and keeping the sample size small, the sample distribution appears approximately normal.  \n",
    "\n",
    "Real things of engineering interest are not always bounded as shown here, the choice of the Weibull plotting position is not arbitrary.  The red dot scatterplot in practice is called the empirical distribution function, or empirical quantile function.   \n",
    "\n",
    "Now we will apply these ideas to some realistic data.\n",
    "\n",
    "### Beargrass Creek\n",
    "\n",
    "The file `beargrass.txt` contains annual peak flows for Beargrass Creek.  The year is a water year, so the peaks occur on different days in each year; thus it is not a time series. Let's examine the data and see how well a Normal distribution data model fits, then estimate from the distribution the peak magnitude with exceedence probability 0.01 (1%-chance that will observe a value equal to or greater)."
   ]
  },
  {
   "cell_type": "code",
   "execution_count": 59,
   "metadata": {},
   "outputs": [
    {
     "data": {
      "text/html": [
       "<div>\n",
       "<style scoped>\n",
       "    .dataframe tbody tr th:only-of-type {\n",
       "        vertical-align: middle;\n",
       "    }\n",
       "\n",
       "    .dataframe tbody tr th {\n",
       "        vertical-align: top;\n",
       "    }\n",
       "\n",
       "    .dataframe thead th {\n",
       "        text-align: right;\n",
       "    }\n",
       "</style>\n",
       "<table border=\"1\" class=\"dataframe\">\n",
       "  <thead>\n",
       "    <tr style=\"text-align: right;\">\n",
       "      <th></th>\n",
       "      <th>Year</th>\n",
       "      <th>Peak</th>\n",
       "    </tr>\n",
       "  </thead>\n",
       "  <tbody>\n",
       "    <tr>\n",
       "      <th>0</th>\n",
       "      <td>1945</td>\n",
       "      <td>1810</td>\n",
       "    </tr>\n",
       "    <tr>\n",
       "      <th>1</th>\n",
       "      <td>1946</td>\n",
       "      <td>791</td>\n",
       "    </tr>\n",
       "    <tr>\n",
       "      <th>2</th>\n",
       "      <td>1947</td>\n",
       "      <td>839</td>\n",
       "    </tr>\n",
       "    <tr>\n",
       "      <th>3</th>\n",
       "      <td>1948</td>\n",
       "      <td>1750</td>\n",
       "    </tr>\n",
       "    <tr>\n",
       "      <th>4</th>\n",
       "      <td>1949</td>\n",
       "      <td>898</td>\n",
       "    </tr>\n",
       "  </tbody>\n",
       "</table>\n",
       "</div>"
      ],
      "text/plain": [
       "   Year  Peak\n",
       "0  1945  1810\n",
       "1  1946   791\n",
       "2  1947   839\n",
       "3  1948  1750\n",
       "4  1949   898"
      ]
     },
     "execution_count": 59,
     "metadata": {},
     "output_type": "execute_result"
    }
   ],
   "source": [
    "import pandas\n",
    "beargrass = pandas.read_csv('beargrass.txt')  #Reading a .csv file\n",
    "beargrass.head()"
   ]
  },
  {
   "cell_type": "code",
   "execution_count": 60,
   "metadata": {},
   "outputs": [
    {
     "data": {
      "text/plain": [
       "<AxesSubplot:xlabel='Year'>"
      ]
     },
     "execution_count": 60,
     "metadata": {},
     "output_type": "execute_result"
    },
    {
     "data": {
      "image/png": "[encoded data removed]",
      "text/plain": [
       "<Figure size 432x288 with 1 Axes>"
      ]
     },
     "metadata": {
      "needs_background": "light"
     },
     "output_type": "display_data"
    }
   ],
   "source": [
    "beargrass.plot(x='Year',y='Peak')"
   ]
  },
  {
   "cell_type": "code",
   "execution_count": 61,
   "metadata": {},
   "outputs": [
    {
     "data": {
      "text/html": [
       "<div>\n",
       "<style scoped>\n",
       "    .dataframe tbody tr th:only-of-type {\n",
       "        vertical-align: middle;\n",
       "    }\n",
       "\n",
       "    .dataframe tbody tr th {\n",
       "        vertical-align: top;\n",
       "    }\n",
       "\n",
       "    .dataframe thead th {\n",
       "        text-align: right;\n",
       "    }\n",
       "</style>\n",
       "<table border=\"1\" class=\"dataframe\">\n",
       "  <thead>\n",
       "    <tr style=\"text-align: right;\">\n",
       "      <th></th>\n",
       "      <th>Year</th>\n",
       "      <th>Peak</th>\n",
       "    </tr>\n",
       "  </thead>\n",
       "  <tbody>\n",
       "    <tr>\n",
       "      <th>count</th>\n",
       "      <td>31.000000</td>\n",
       "      <td>31.000000</td>\n",
       "    </tr>\n",
       "    <tr>\n",
       "      <th>mean</th>\n",
       "      <td>1960.000000</td>\n",
       "      <td>1599.258065</td>\n",
       "    </tr>\n",
       "    <tr>\n",
       "      <th>std</th>\n",
       "      <td>9.092121</td>\n",
       "      <td>1006.239500</td>\n",
       "    </tr>\n",
       "    <tr>\n",
       "      <th>min</th>\n",
       "      <td>1945.000000</td>\n",
       "      <td>707.000000</td>\n",
       "    </tr>\n",
       "    <tr>\n",
       "      <th>25%</th>\n",
       "      <td>1952.500000</td>\n",
       "      <td>908.000000</td>\n",
       "    </tr>\n",
       "    <tr>\n",
       "      <th>50%</th>\n",
       "      <td>1960.000000</td>\n",
       "      <td>1250.000000</td>\n",
       "    </tr>\n",
       "    <tr>\n",
       "      <th>75%</th>\n",
       "      <td>1967.500000</td>\n",
       "      <td>1945.000000</td>\n",
       "    </tr>\n",
       "    <tr>\n",
       "      <th>max</th>\n",
       "      <td>1975.000000</td>\n",
       "      <td>5200.000000</td>\n",
       "    </tr>\n",
       "  </tbody>\n",
       "</table>\n",
       "</div>"
      ],
      "text/plain": [
       "              Year         Peak\n",
       "count    31.000000    31.000000\n",
       "mean   1960.000000  1599.258065\n",
       "std       9.092121  1006.239500\n",
       "min    1945.000000   707.000000\n",
       "25%    1952.500000   908.000000\n",
       "50%    1960.000000  1250.000000\n",
       "75%    1967.500000  1945.000000\n",
       "max    1975.000000  5200.000000"
      ]
     },
     "execution_count": 61,
     "metadata": {},
     "output_type": "execute_result"
    }
   ],
   "source": [
    "# what is the 25%,50%,75% \"Peak\"?,  min and max? \n",
    "beargrass.describe()"
   ]
  },
  {
   "cell_type": "markdown",
   "metadata": {},
   "source": [
    " Now we will modify our already built code (***the miracle of cut-n-paste!***)"
   ]
  },
  {
   "cell_type": "code",
   "execution_count": 62,
   "metadata": {},
   "outputs": [
    {
     "data": {
      "image/png": "[encoded data removed]",
      "text/plain": [
       "<Figure size 720x360 with 1 Axes>"
      ]
     },
     "metadata": {
      "needs_background": "light"
     },
     "output_type": "display_data"
    }
   ],
   "source": [
    "sample = beargrass['Peak'].tolist() # put the peaks into a list\n",
    "sample_mean = numpy.array(sample).mean()\n",
    "sample_variance = numpy.array(sample).std()**2\n",
    "sample.sort() # sort the sample in place!\n",
    "weibull_pp = [] # built a relative frequency approximation to probability, assume each pick is equally likely\n",
    "for i in range(0,len(sample),1):\n",
    "    weibull_pp.append((i+1)/(len(sample)+1))\n",
    "################\n",
    "mu = sample_mean # Fitted Model\n",
    "sigma = math.sqrt(sample_variance)\n",
    "x = []; ycdf = []\n",
    "xlow = 0; xhigh = 1.2*max(sample) ; howMany = 100\n",
    "xstep = (xhigh - xlow)/howMany\n",
    "for i in range(0,howMany+1,1):\n",
    "    x.append(xlow + i*xstep)\n",
    "    yvalue = normdist(mu,sigma,xlow + i*xstep)\n",
    "    ycdf.append(yvalue) \n",
    "# Now plot the sample values and plotting position\n",
    "mytitle = \"Beargrass Creek \\n Normal Distribution Data Model \\n Sample mean = : \" + str(round(sample_mean,3)) +\" Sample variance =: \" + str(round(sample_variance,3))       \n",
    "make2plot(weibull_pp, sample,ycdf, x,\"Density or Quantile Value\",\n",
    "          \"Value of RV\",mytitle)"
   ]
  },
  {
   "cell_type": "code",
   "execution_count": 63,
   "metadata": {},
   "outputs": [
    {
     "data": {
      "text/plain": [
       "count      31.000000\n",
       "mean     1599.258065\n",
       "std      1006.239500\n",
       "min       707.000000\n",
       "25%       908.000000\n",
       "50%      1250.000000\n",
       "75%      1945.000000\n",
       "max      5200.000000\n",
       "Name: Peak, dtype: float64"
      ]
     },
     "execution_count": 63,
     "metadata": {},
     "output_type": "execute_result"
    }
   ],
   "source": [
    "beargrass['Peak'].describe()"
   ]
  },
  {
   "cell_type": "markdown",
   "metadata": {},
   "source": [
    "A 1% chance exceedence is on the right side of the chart, it is the compliment of 99% non-exceedence, in terms of our quantile function we want to find the value $X$ that returns a quantile of 0.99."
   ]
  },
  {
   "cell_type": "code",
   "execution_count": 64,
   "metadata": {},
   "outputs": [
    {
     "name": "stdout",
     "output_type": "stream",
     "text": [
      "1599.258064516129 989.8767915427474\n",
      "0.99\n"
     ]
    }
   ],
   "source": [
    "myguess = 3902  # 3903\n",
    "print(mu,sigma)\n",
    "print(round(normdist(mu,sigma,myguess),4))"
   ]
  },
  {
   "cell_type": "code",
   "execution_count": 65,
   "metadata": {},
   "outputs": [
    {
     "name": "stdout",
     "output_type": "stream",
     "text": [
      "3902.0558340839666\n"
     ]
    }
   ],
   "source": [
    "# If we want to get fancy we can use Newton's method to get really close to the root\n",
    "\n",
    "from scipy.optimize import newton\n",
    "\n",
    "def f(x):\n",
    "    mu = 1599.258064516129\n",
    "    sigma = 989.8767915427474\n",
    "    quantile = 0.99\n",
    "    argument = (x - mu)/(math.sqrt(2.0)*sigma)    \n",
    "    normdist = (1.0 + math.erf(argument))/2.0\n",
    "    return normdist - quantile\n",
    "\n",
    "print(newton(f, myguess))\n"
   ]
  },
  {
   "cell_type": "markdown",
   "metadata": {},
   "source": [
    "So a peak discharge of 4000 or so is expected to be observed with 1% chance, notice we took the value from the fitted distribution, not the empirical set.  \n",
    "\n",
    "From visual interpretation, the Normal model is a so-so data model for **these** observations, and we would be encouraged to seek a better data model; its OK when we are operating near the mean value and $\\pm$ 1 standard deviation, but is alarmingly off at either end where our risk interests lie."
   ]
  },
  {
   "cell_type": "markdown",
   "metadata": {},
   "source": [
    "### Log-Normal\n",
    "\n",
    "Another data model we can try is log-normal, where we stipulate that the logarithms of the observations are normal.  The scripts are practically the same, but there is an inverse transformation required to recover original value scale.  Again we will use Beargrass creek.  "
   ]
  },
  {
   "cell_type": "code",
   "execution_count": 66,
   "metadata": {},
   "outputs": [
    {
     "data": {
      "image/png": "[encoded data removed]",
      "text/plain": [
       "<Figure size 720x360 with 1 Axes>"
      ]
     },
     "metadata": {
      "needs_background": "light"
     },
     "output_type": "display_data"
    }
   ],
   "source": [
    "def loggit(x):  # A prototype function to log transform x\n",
    "    return(math.log(x))\n",
    "\n",
    "logsample = beargrass['Peak'].apply(loggit).tolist() # put the peaks into a list\n",
    "sample_mean = numpy.array(logsample).mean()\n",
    "sample_variance = numpy.array(logsample).std()**2\n",
    "logsample.sort() # sort the sample in place!\n",
    "weibull_pp = [] # built a relative frequency approximation to probability, assume each pick is equally likely\n",
    "for i in range(0,len(sample),1):\n",
    "    weibull_pp.append((i+1)/(len(sample)+1))\n",
    "################\n",
    "mu = sample_mean # Fitted Model in Log Space\n",
    "sigma = math.sqrt(sample_variance)\n",
    "x = []; ycdf = []\n",
    "xlow = 1; xhigh = 1.05*max(logsample) ; howMany = 100\n",
    "xstep = (xhigh - xlow)/howMany\n",
    "for i in range(0,howMany+1,1):\n",
    "    x.append(xlow + i*xstep)\n",
    "    yvalue = normdist(mu,sigma,xlow + i*xstep)\n",
    "    ycdf.append(yvalue) \n",
    "# Now plot the sample values and plotting position\n",
    "# Now plot the sample values and plotting position\n",
    "mytitle = \"Beargrass Creek \\n LogNormal Data Model (in log space) \\n Sample mean = : \" + str(round(sample_mean,3)) +\" Sample variance =: \" + str(round(sample_variance,3))       \n",
    "make2plot(weibull_pp, logsample,ycdf, x,\"Density or Quantile Value\",\"Value of RV\"\n",
    "          ,mytitle)"
   ]
  },
  {
   "cell_type": "markdown",
   "metadata": {},
   "source": [
    "The plot doesn't look too bad, but we are in log-space, which is hard to interpret, so we will transform back to arithmetic space "
   ]
  },
  {
   "cell_type": "code",
   "execution_count": 67,
   "metadata": {},
   "outputs": [
    {
     "data": {
      "image/png": "[encoded data removed]",
      "text/plain": [
       "<Figure size 720x360 with 1 Axes>"
      ]
     },
     "metadata": {
      "needs_background": "light"
     },
     "output_type": "display_data"
    }
   ],
   "source": [
    "def antiloggit(x):  # A prototype function to log transform x\n",
    "    return(math.exp(x))\n",
    "\n",
    "sample = beargrass['Peak'].tolist() # pull original list\n",
    "sample.sort() # sort in place\n",
    "################\n",
    "mu = sample_mean # Fitted Model in Log Space\n",
    "sigma = math.sqrt(sample_variance)\n",
    "x = []; ycdf = []\n",
    "xlow = 1; xhigh = 1.05*max(logsample) ; howMany = 100\n",
    "xstep = (xhigh - xlow)/howMany\n",
    "for i in range(0,howMany+1,1):\n",
    "    x.append(antiloggit(xlow + i*xstep))\n",
    "    yvalue = normdist(mu,sigma,xlow + i*xstep)\n",
    "    ycdf.append(yvalue) \n",
    "# Now plot the sample values and plotting position\n",
    "mytitle = \"Beargrass Creek \\n LogNormal Data Model (in original space) \\n Sample mean = : \" + str(round(sample_mean,3)) +\" Sample variance =: \" + str(round(sample_variance,3))       \n",
    "make2plot(weibull_pp, sample,ycdf, x,\"Density or Quantile Value\",\n",
    "          \"Value of RV\",mytitle)"
   ]
  },
  {
   "cell_type": "markdown",
   "metadata": {},
   "source": [
    "Visually a better data model, now lets determine the 1% chance value."
   ]
  },
  {
   "cell_type": "code",
   "execution_count": 68,
   "metadata": {},
   "outputs": [
    {
     "name": "stdout",
     "output_type": "stream",
     "text": [
      "7.23730905616488 0.4984855728993489\n",
      "0.9948789251186081\n"
     ]
    }
   ],
   "source": [
    "myguess = 5000\n",
    "print(mu,sigma)\n",
    "print(normdist(mu,sigma,loggit(myguess))) # mu, sigma already in log space - convert myguess"
   ]
  },
  {
   "cell_type": "code",
   "execution_count": 69,
   "metadata": {},
   "outputs": [
    {
     "name": "stdout",
     "output_type": "stream",
     "text": [
      "5020.690747057739\n"
     ]
    }
   ],
   "source": [
    "# If we want to get fancy we can use Newton's method to get really close to the root\n",
    "\n",
    "from scipy.optimize import newton\n",
    "\n",
    "def f(x):\n",
    "    mu = 7.23730905616488\n",
    "    sigma = 0.4984855728993489\n",
    "    quantile = 0.995\n",
    "    argument = (loggit(x) - mu)/(math.sqrt(2.0)*sigma)    \n",
    "    normdist = (1.0 + math.erf(argument))/2.0\n",
    "    return normdist - quantile\n",
    "\n",
    "print(newton(f, myguess))"
   ]
  },
  {
   "cell_type": "markdown",
   "metadata": {},
   "source": [
    "Now we have a decent method, we should put stuff into functions to keep code concise, lets examine a couple more data models\n",
    "\n",
    "### Gumbell (Double Exponential) Distribution\n",
    "\n",
    "The Gumbell is also called the Extreme-Value Type I distribution, the density and quantile function are:\n",
    "\n",
    "$$ \\text{pdf(x)} = \\frac{1}{\\beta} \\cdot exp [-\\frac{(x-\\alpha)}{\\beta} - exp (-\\frac{(x-\\alpha)}{\\beta}) ]$$\n",
    "\n",
    "$$ F(X) =  \\int_{-\\infty}^X{\\frac{1}{\\beta} \\cdot exp [-\\frac{(x-\\alpha)}{\\beta} - exp (-\\frac{(x-\\alpha)}{\\beta}) ] dx} = exp [- exp (-\\frac{(X-\\alpha)}{\\beta})] $$\n",
    "\n",
    "The distribution has two parameters, $\\alpha$ and $\\beta$, which in some sense play the same role as mean and variance. Lets modify our scripts further to see how this data model performs on the Bearcreek data.\n",
    "\n",
    "Of course we need a way to estimate the parameters, a good approximation can be obtained using:\n",
    "\n",
    "$$ \\alpha = \\mu \\cdot \\frac{\\sqrt{6}}{\\pi} $$\n",
    "\n",
    "and\n",
    "\n",
    "$$ \\beta = 0.45 \\cdot \\sigma $$\n",
    "\n",
    "where $\\mu$ and $\\sigma^2$ are the sample mean and variance."
   ]
  },
  {
   "cell_type": "code",
   "execution_count": 70,
   "metadata": {},
   "outputs": [],
   "source": [
    "def ev1dist(alpha,beta,x):\n",
    "    argument = (x - alpha)/beta\n",
    "    constant = 1.0/beta\n",
    "    ev1dist = math.exp(-1.0*math.exp(-1.0*argument))\n",
    "    return ev1dist"
   ]
  },
  {
   "cell_type": "markdown",
   "metadata": {},
   "source": [
    "Now literally substitute into our prior code!"
   ]
  },
  {
   "cell_type": "code",
   "execution_count": 71,
   "metadata": {},
   "outputs": [
    {
     "data": {
      "image/png": "[encoded data removed]",
      "text/plain": [
       "<Figure size 720x360 with 1 Axes>"
      ]
     },
     "metadata": {
      "needs_background": "light"
     },
     "output_type": "display_data"
    }
   ],
   "source": [
    "sample = beargrass['Peak'].tolist() # put the peaks into a list\n",
    "sample_mean = numpy.array(sample).mean()\n",
    "sample_variance = numpy.array(sample).std()**2\n",
    "alpha_mom = sample_mean*math.sqrt(6)/math.pi\n",
    "beta_mom = math.sqrt(sample_variance)*0.45\n",
    "sample.sort() # sort the sample in place!\n",
    "weibull_pp = [] # built a relative frequency approximation to probability, assume each pick is equally likely\n",
    "for i in range(0,len(sample),1):\n",
    "    weibull_pp.append((i+1)/(len(sample)+1))\n",
    "################\n",
    "mu = sample_mean # Fitted Model\n",
    "sigma = math.sqrt(sample_variance)\n",
    "x = []; ycdf = []\n",
    "xlow = 0; xhigh = 1.2*max(sample) ; howMany = 100\n",
    "xstep = (xhigh - xlow)/howMany\n",
    "for i in range(0,howMany+1,1):\n",
    "    x.append(xlow + i*xstep)\n",
    "    yvalue = ev1dist(alpha_mom,beta_mom,xlow + i*xstep)\n",
    "    ycdf.append(yvalue) \n",
    "# Now plot the sample values and plotting position\n",
    "mytitle = \"Extreme Value Type 1 Data Model (in original space) \\n Sample mean = : \" + str(round(sample_mean,3)) +\" Sample variance =: \" + str(round(sample_variance,3))       \n",
    "make2plot(weibull_pp, sample,ycdf, x,\"Density or Quantile Value\",\n",
    "          \"Value of RV\",mytitle)"
   ]
  },
  {
   "cell_type": "markdown",
   "metadata": {},
   "source": [
    "Again a so-so visual fit.\n",
    "To find the 1% chance value"
   ]
  },
  {
   "cell_type": "code",
   "execution_count": 72,
   "metadata": {},
   "outputs": [
    {
     "name": "stdout",
     "output_type": "stream",
     "text": [
      "1246.9363972503857 445.4445561942363\n",
      "0.010622687292172417\n"
     ]
    }
   ],
   "source": [
    "myguess = 3269\n",
    "print(alpha_mom,beta_mom)\n",
    "print(1.0 - ev1dist(alpha_mom,beta_mom,myguess)) # "
   ]
  },
  {
   "cell_type": "code",
   "execution_count": 73,
   "metadata": {},
   "outputs": [
    {
     "name": "stdout",
     "output_type": "stream",
     "text": [
      "3296.047827999136\n"
     ]
    }
   ],
   "source": [
    "# If we want to get fancy we can use Newton's method to get really close to the root\n",
    "\n",
    "from scipy.optimize import newton\n",
    "\n",
    "def f(x):\n",
    "    alpha = 1246.9363972503857\n",
    "    beta = 445.4445561942363\n",
    "    quantile = 0.99\n",
    "    argument = (x - alpha)/beta\n",
    "    constant = 1.0/beta\n",
    "    ev1dist = math.exp(-1.0*math.exp(-1.0*argument))\n",
    "    return ev1dist - quantile\n",
    "\n",
    "print(newton(f, myguess))"
   ]
  },
  {
   "cell_type": "markdown",
   "metadata": {},
   "source": [
    "### Pearson Type 3 (particular case of a Gamma Distribution)\n",
    "\n",
    "One last data model to consider is one that is specifically **stipulated for use by federal agencies for probability estimation of extreme hydrologic events**.  The data model is called the Log-Pearson Type III distribution, its actually a specific case of a Gamma distrubution.  \n",
    "\n",
    "This example we will dispense with tyring to build it in python primative, and just use a package - the density function is not all that hard, but the quantile function is elaborate.  \n",
    "\n",
    "Learn more at http://54.243.252.9/engr-1330-psuedo-course/CECE-1330-PsuedoCourse/3-Readings/NumericalRecipesinF77.pdf (in particular around Page 276)\n",
    "\n",
    "As usual, lets let Google do some work for us, using the search term \"gamma quantile function; scipy\" we get to this nice blog entry https://docs.scipy.org/doc/scipy/reference/generated/scipy.stats.gamma.html which is a good start. \n",
    "\n",
    "A Pearson Type III data model has the following density function:\n",
    "\n",
    "$$ f(x|\\tau,\\alpha,\\beta) = \\frac{(\\frac{x-\\tau}{\\beta})^{\\alpha -1}\\cdot exp( - \\frac{x-\\tau}{\\beta})}{|\\beta| \\Gamma(\\alpha)}$$\n",
    "\n",
    "If we make some substitutions:\n",
    "$ \\lambda = \\frac{1}{\\beta} ; \\hat{x} = x -\\tau $ then the density function is\n",
    "\n",
    "$$ f(\\hat{x}) = \\frac{ 1}{\\Gamma(\\alpha)} (\\lambda \\hat{x})^{\\alpha -1}\\cdot exp( - \\lambda \\hat{x} )$$\n",
    "\n",
    "which is now a one parameter Gamma density function just like the example in the link.\n",
    "\n",
    "Reading a little from Bulletin 17C (need a link) we can relate the transformations to descriptive statistics (shown below without explaination) as:\n",
    "\n",
    "$\\mu = \\text{sample mean}$,\n",
    "\n",
    "$\\sigma = \\text{sample standard deviation}$, \n",
    "\n",
    "$\\gamma = \\text{sample skew coefficient} = (\\frac{n}{\\sigma^3(n-1)(n-2)})\\sum_{i=1}^n(x_i - \\mu)^3 $\n",
    "\n",
    "$\\alpha = \\frac{4}{\\gamma^2}$  \n",
    "\n",
    "$\\beta = sign(\\gamma)\\sqrt{\\frac{\\sigma^2}{\\alpha}}$\n",
    "\n",
    "$\\tau = \\mu - \\alpha \\cdot \\beta$\n",
    "\n",
    "So we have a bit of work to do.  The name of the functions in `scipy` we are interested in are `gamma.pdf(x,a)` and `gamma.cdf(x,a)`  So lets build a tool to generate a Log-Pearson Type III data model, then apply it to Beargrass Creek.  We will use a lot of glue here.\n",
    "\n",
    "First load in dependencies, and define support functions we will need "
   ]
  },
  {
   "cell_type": "code",
   "execution_count": 74,
   "metadata": {},
   "outputs": [],
   "source": [
    "import scipy.stats # import scipy stats package\n",
    "import math        # import math package\n",
    "import numpy       # import numpy package\n",
    "# log and antilog\n",
    "def loggit(x):  # A prototype function to log transform x\n",
    "    return(math.log(x))\n",
    "def antiloggit(x):  # A prototype function to inverse logx (x = 10^logx)\n",
    "    return(math.exp(x))\n",
    "def weibull_pp(sample): # plotting position function\n",
    "# returns a list of plotting positions; sample must be a numeric list\n",
    "    weibull_pp = [] # null list to return after fill\n",
    "    sample.sort() # sort the sample list in place\n",
    "    for i in range(0,len(sample),1):\n",
    "        weibull_pp.append((i+1)/(len(sample)+1))\n",
    "    return weibull_pp\n"
   ]
  },
  {
   "cell_type": "markdown",
   "metadata": {},
   "source": [
    "Then the gamma distribution from scipy, modified for our type of inputs."
   ]
  },
  {
   "cell_type": "code",
   "execution_count": 75,
   "metadata": {},
   "outputs": [],
   "source": [
    "def gammacdf(x,tau,alpha,beta): # Gamma Cumulative Density function - with three parameter to one parameter convert\n",
    "    xhat = x-tau\n",
    "    lamda = 1.0/beta\n",
    "    gammacdf = scipy.stats.gamma.cdf(lamda*xhat, alpha)\n",
    "    return gammacdf"
   ]
  },
  {
   "cell_type": "markdown",
   "metadata": {},
   "source": [
    "Then load in the data from the data frame, log transform and generate descriptive statistics."
   ]
  },
  {
   "cell_type": "code",
   "execution_count": 76,
   "metadata": {},
   "outputs": [],
   "source": [
    "#sample = beargrass['Peak'].tolist() # put the peaks into a list\n",
    "sample = beargrass['Peak'].apply(loggit).tolist() # put the log peaks into a list\n",
    "sample_mean  = numpy.array(sample).mean()\n",
    "sample_stdev = numpy.array(sample).std()\n",
    "sample_skew  = 3.0 # scipy.stats.skew(sample)\n",
    "sample_alpha = 4.0/(sample_skew**2)\n",
    "sample_beta  = numpy.sign(sample_skew)*math.sqrt(sample_stdev**2/sample_alpha)\n",
    "sample_tau   = sample_mean - sample_alpha*sample_beta"
   ]
  },
  {
   "cell_type": "markdown",
   "metadata": {},
   "source": [
    "Now generate plotting positions for the sample observations"
   ]
  },
  {
   "cell_type": "code",
   "execution_count": 77,
   "metadata": {},
   "outputs": [],
   "source": [
    "plotting = weibull_pp(sample)"
   ]
  },
  {
   "cell_type": "markdown",
   "metadata": {},
   "source": [
    "Now generate values for the data model (for plotting our blue line \"fit\"), set limits to be a little beyond the sample range."
   ]
  },
  {
   "cell_type": "code",
   "execution_count": 78,
   "metadata": {},
   "outputs": [],
   "source": [
    "x = []; ycdf = []\n",
    "xlow = (0.9*min(sample)); xhigh = (1.1*max(sample)) ; howMany = 100\n",
    "xstep = (xhigh - xlow)/howMany\n",
    "for i in range(0,howMany+1,1):\n",
    "    x.append(xlow + i*xstep)\n",
    "    yvalue = gammacdf(xlow + i*xstep,sample_tau,sample_alpha,sample_beta)\n",
    "    ycdf.append(yvalue) "
   ]
  },
  {
   "cell_type": "markdown",
   "metadata": {},
   "source": [
    "Now reverse transform back to native scale, and plot the sample values vs plotting position in blue, and the data model in red"
   ]
  },
  {
   "cell_type": "code",
   "execution_count": 79,
   "metadata": {},
   "outputs": [
    {
     "data": {
      "image/png": "[encoded data removed]",
      "text/plain": [
       "<Figure size 720x360 with 1 Axes>"
      ]
     },
     "metadata": {
      "needs_background": "light"
     },
     "output_type": "display_data"
    }
   ],
   "source": [
    "# reverse transform the peaks, and the data model peaks\n",
    "for i in range(len(sample)):\n",
    "    sample[i] = antiloggit(sample[i])\n",
    "for i in range(len(x)):\n",
    "    x[i] = antiloggit(x[i])\n",
    "    \n",
    "# Now plot the sample values and plotting position\n",
    "mytitle = \"Log Pearson Type III Data Model (in original space) \\n Sample mean = : \" + str(round(sample_mean,3)) +\" Sample variance =: \" + str(round(sample_variance,3))       \n",
    "make2plot(plotting, sample,ycdf, x,\"Density or Quantile Value\",\n",
    "          \"Value of RV\",mytitle)"
   ]
  },
  {
   "cell_type": "markdown",
   "metadata": {},
   "source": [
    "And as before lets find the value that retruns the 99% quantile - we will just use the newton method above.\n",
    "First recover the required model parameters. Then we will paste these into the $f(x)$ function for the Newton's method."
   ]
  },
  {
   "cell_type": "code",
   "execution_count": 80,
   "metadata": {},
   "outputs": [
    {
     "name": "stdout",
     "output_type": "stream",
     "text": [
      "6.904985340898647\n",
      "0.4444444444444444\n",
      "0.7477283593490234\n"
     ]
    }
   ],
   "source": [
    "print(sample_tau)\n",
    "print(sample_alpha)\n",
    "print(sample_beta)"
   ]
  },
  {
   "cell_type": "code",
   "execution_count": 81,
   "metadata": {},
   "outputs": [
    {
     "name": "stdout",
     "output_type": "stream",
     "text": [
      "5856.10913158364\n"
     ]
    }
   ],
   "source": [
    "# If we want to get fancy we can use Newton's method to get really close to the root\n",
    "\n",
    "from scipy.optimize import newton\n",
    "\n",
    "def f(x):\n",
    "    sample_tau = 5.976005311346212\n",
    "    sample_alpha = 6.402272915026134\n",
    "    sample_beta = 0.1970087438569494\n",
    "    quantile = 0.9900\n",
    "    argument = loggit(x)\n",
    "    gammavalue = gammacdf(argument,sample_tau,sample_alpha,sample_beta)\n",
    "    return gammavalue - quantile\n",
    "\n",
    "myguess =  5000\n",
    "print(newton(f, myguess))"
   ]
  },
  {
   "cell_type": "markdown",
   "metadata": {},
   "source": [
    "Trust, but verify!"
   ]
  },
  {
   "cell_type": "code",
   "execution_count": 82,
   "metadata": {},
   "outputs": [
    {
     "data": {
      "text/plain": [
       "0.9756"
      ]
     },
     "execution_count": 82,
     "metadata": {},
     "output_type": "execute_result"
    }
   ],
   "source": [
    "round(gammacdf(loggit(5900.109),sample_tau,sample_alpha,sample_beta),4)"
   ]
  },
  {
   "cell_type": "markdown",
   "metadata": {},
   "source": [
    "Now lets summarize our efforts regarding Beargrass Creek annual peaks and probabilities anticipated.\n",
    "\n",
    "|Data Model|99% Peak Flow|Remarks|\n",
    "|:---|:---|:---|\n",
    "|Normal|3902|so-so visual fit|           \n",
    "|Log-Normal|4433|better visual fit|            \n",
    "|Gumbell|3296|better visual fit|            \n",
    "|Log-Pearson III|5856|best (of the set) visual fit|\n",
    "\n",
    "At this point, now we have to choose our model and then can investigate different questions.  So using LP3 as our favorite, lets now determine anticipated flow values for different probabilities (from the data model) - easy enought to just change the quantile value and rerun the newtons optimizer, for example:\n",
    "\n",
    "|Exceedence Probability|Flow Value|Remarks|\n",
    "|:---|:---|:---|\n",
    "|25% |968| First Quartile Divider|           \n",
    "|50% |1302| Median, and Second Quartile Divider|            \n",
    "|75% |1860| 3rd Quartile Divider|            \n",
    "|90% |2706| 10% chance of greater value|\n",
    "|99% |5856| 1% chance of greater value (in flood statistics, this is the 1 in 100-yr chance event)|\n",
    "|99.8%|9420| 0.002% chance of greater value (in flood statistics, this is the 1 in 500-yr chance event)|\n",
    "|99.9%|11455| 0.001% chance of greater value (in flood statistics, this is the 1 in 1000-yr chance event)|"
   ]
  },
  {
   "cell_type": "code",
   "execution_count": 83,
   "metadata": {},
   "outputs": [
    {
     "name": "stdout",
     "output_type": "stream",
     "text": [
      "1302.814639184079\n"
     ]
    }
   ],
   "source": [
    "# If we want to get fancy we can use Newton's method to get really close to the root\n",
    "\n",
    "from scipy.optimize import newton\n",
    "\n",
    "def f(x):\n",
    "    sample_tau = 5.976005311346212\n",
    "    sample_alpha = 6.402272915026134\n",
    "    sample_beta = 0.1970087438569494\n",
    "    quantile = 0.50\n",
    "    argument = loggit(x)\n",
    "    gammavalue = gammacdf(argument,sample_tau,sample_alpha,sample_beta)\n",
    "    return gammavalue - quantile\n",
    "\n",
    "myguess =  1000\n",
    "print(newton(f, myguess))"
   ]
  },
  {
   "cell_type": "markdown",
   "metadata": {},
   "source": [
    "## References:\n",
    "\n",
    "0. Computational and Inferential Thinking: The Foundations of Data Science. By Ani Adhikari and John DeNero, with Contributions by David Wagner and Henry Milner.  Creative Commons Attribution-NonCommercial-NoDerivatives 4.0 International (CC BY-NC-ND 4.0). https://www.inferentialthinking.com/chapters/10/Sampling_and_Empirical_Distributions.html\n",
    "\n",
    "1. Computational and Inferential Thinking: The Foundations of Data Science. By Ani Adhikari and John DeNero, with Contributions by David Wagner and Henry Milner.  Creative Commons Attribution-NonCommercial-NoDerivatives 4.0 International (CC BY-NC-ND 4.0). https://www.inferentialthinking.com/chapters/15/Prediction.html\n",
    "\n",
    "2. Jamie Chan (2014) Learn Python in One Day and Learn It Well. LCF Publishing. Kindle Edition. http://www.learncodingfast.com/python\n",
    "\n",
    "3. Grus, Joel. Data Science from Scratch: First Principles with Python. O'Reilly Media. Kindle Edition. (http://safaribooksonline.com)\n",
    "\n",
    "2. Christian, B, and Griffiths Tom (2016) Algorithms to live by: The computer science of human decisions. Henry Holt and Company, ISBN 9781627790369 (hardcover)|ISBN 9781627790376 (electronic book)\n",
    "\n",
    "3. https://www.amazon.com/Distributional-Statistics-Environment-Statistical-Computing/dp/1463508417\n",
    "    \n",
    "4. England, J.F. Jr., Cohn, T.A., Faber, B.A., Stedinger, J.R., Thomas Jr., W.O., Veilleux, A.G., Kiang, J.E., and Mason, R.R.Jr., 2018, Guidelines for Determining Flood Flow Frequency—Bulletin 17C: U.S. Geological Survey Techniques andMethods, book 4, chap. B5, 146 p., https://doi.org/10.3133/tm4B5\n",
    "\n",
    "5. https://www.astroml.org/book_figures/chapter3/fig_gamma_distribution.html\n"
   ]
  },
  {
   "cell_type": "code",
   "execution_count": 84,
   "metadata": {},
   "outputs": [
    {
     "name": "stdout",
     "output_type": "stream",
     "text": [
      "Hostname:  atomickitty\n",
      "Username:  sensei\n"
     ]
    }
   ],
   "source": [
    "# Preamble script block to identify host, user, and kernel\n",
    "import sys\n",
    "! echo 'Hostname: ' $HOSTNAME\n",
    "! echo 'Username: ' $USER\n",
    "#print(sys.executable,sys.version)\n",
    "#print(sys.version)\n",
    "#print(sys.version_info)\n",
    "#! pwd"
   ]
  }
 ],
 "metadata": {
  "kernelspec": {
   "display_name": "Python 3",
   "language": "python",
   "name": "python3"
  },
  "language_info": {
   "codemirror_mode": {
    "name": "ipython",
    "version": 3
   },
   "file_extension": ".py",
   "mimetype": "text/x-python",
   "name": "python",
   "nbconvert_exporter": "python",
   "pygments_lexer": "ipython3",
   "version": "3.8.5"
  }
 },
 "nbformat": 4,
 "nbformat_minor": 4
}
