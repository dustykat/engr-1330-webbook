{
 "cells": [
  {
   "cell_type": "markdown",
   "metadata": {},
   "source": [
    "# <font color=darkorange>A Demo on TkInter ... </font>"
   ]
  },
  {
   "cell_type": "markdown",
   "metadata": {},
   "source": [
    "### First things first :"
   ]
  },
  {
   "cell_type": "code",
   "execution_count": 9,
   "metadata": {},
   "outputs": [],
   "source": [
    "import matplotlib\n",
    "matplotlib.use('Agg')\n",
    "#%matplotlib inline\n",
    "import tkinter as tk"
   ]
  },
  {
   "cell_type": "markdown",
   "metadata": {},
   "source": [
    "### To open a new, yet blank window:"
   ]
  },
  {
   "cell_type": "code",
   "execution_count": 6,
   "metadata": {},
   "outputs": [],
   "source": [
    "import tkinter\n",
    "import sys\n",
    "import os\n",
    "\n",
    "if os.environ.get('DISPLAY','') == '':\n",
    "    print('no display found. Using :0.0')\n",
    "    os.environ.__setitem__('DISPLAY', ':0.0')\n",
    "\n",
    "\n",
    "#create main window\n",
    "master = tkinter.Tk()\n",
    "master.title(\"tester\")\n",
    "master.geometry(\"300x100\")\n",
    "\n",
    "\n",
    "#make a label for the window\n",
    "label1 = tkinter.Label(master, text='Hellooooo')\n",
    "# Lay out label\n",
    "label1.pack()\n",
    "\n",
    "#create button to destroy the window\n",
    "tkinter.Button(master,text=\"Close Window\", command=master.destroy).pack()\n",
    "\n",
    "\n",
    "# Run forever!\n",
    "master.mainloop()\n"
   ]
  },
  {
   "cell_type": "code",
   "execution_count": null,
   "metadata": {},
   "outputs": [],
   "source": []
  },
  {
   "cell_type": "code",
   "execution_count": null,
   "metadata": {},
   "outputs": [],
   "source": []
  },
  {
   "cell_type": "code",
   "execution_count": null,
   "metadata": {},
   "outputs": [],
   "source": []
  },
  {
   "cell_type": "code",
   "execution_count": 8,
   "metadata": {},
   "outputs": [],
   "source": [
    "window = tkinter.Tk()\n",
    "window.mainloop()"
   ]
  },
  {
   "cell_type": "markdown",
   "metadata": {},
   "source": [
    "### In a window, we can add widgets:\n",
    "\n",
    "### They are the elements through which users interact with your program. Each widget in Tkinter is defined by a class. Here are some of the widgets available:\n",
    "\n",
    "#### Label: A widget used to display text on the screen\n",
    "___\n",
    "#### Button: A button that can contain text and can perform an action when clicked\n",
    "___\n",
    "#### Entry: A text entry widget that allows only a single line of text\n",
    "___\n",
    "#### Text: A text entry widget that allows multiline text entry\n",
    "___\n",
    "#### Frame: A rectangular region used to group related widgets or provide padding between widgets\n",
    "\n",
    "## Displaying Text With Label Widgets\n",
    "\n",
    "Label widgets are used to display text or images. The text displayed by a Label widget can’t be edited by the user. It’s for display purposes only. As you saw in the example at the beginning of this tutorial, you can create a Label widget by instantiating the Label class and passing a string to the text parameter:"
   ]
  },
  {
   "cell_type": "code",
   "execution_count": 10,
   "metadata": {},
   "outputs": [],
   "source": [
    "greeting = tkinter.Label(text=\"Hello, I am a Label Widget! I am quite ugly but I can be handy!\")\n",
    "greeting.pack()\n",
    "greeting.mainloop()"
   ]
  },
  {
   "cell_type": "code",
   "execution_count": 11,
   "metadata": {},
   "outputs": [],
   "source": [
    "greeting = tkinter.Label(text=\"Now I am kinda cooler!\",\n",
    "    foreground=\"white\",  # Set the text color to white\n",
    "    background=\"black\")  # Set the background color to black\n",
    "greeting.pack()\n",
    "greeting.mainloop()"
   ]
  },
  {
   "cell_type": "code",
   "execution_count": 12,
   "metadata": {},
   "outputs": [],
   "source": [
    "greeting = tkinter.Label(text=\"Even cooler!\",\n",
    "    fg=\"black\",\n",
    "    bg=\"darkorange\") \n",
    "greeting.pack()\n",
    "greeting.mainloop()"
   ]
  },
  {
   "cell_type": "markdown",
   "metadata": {},
   "source": [
    "The width and height of a label can be controlled with the width and height parameters:"
   ]
  },
  {
   "cell_type": "code",
   "execution_count": 13,
   "metadata": {},
   "outputs": [],
   "source": [
    "greeting = tkinter.Label(text=\"Hello, Tkinter\",\n",
    "    fg=\"white\",\n",
    "    bg=\"black\",\n",
    "    width=30,\n",
    "    height=12)  \n",
    "greeting.pack()\n",
    "greeting.mainloop()"
   ]
  },
  {
   "cell_type": "markdown",
   "metadata": {},
   "source": [
    "It should be noted that the width and height are measured in text units. One horizontal text unit is determined by the width of the character \"0\", or the number zero, in the default system font. Similarly, one vertical text unit is determined by the height of the character \"0\"."
   ]
  },
  {
   "cell_type": "markdown",
   "metadata": {},
   "source": [
    "## Displaying Clickable Buttons With Button Widgets\n",
    "\n",
    "Button widgets are used to display clickable buttons. They can be configured to call a function whenever they’re clicked. There are many similarities between Button and Label widgets. In many ways, a Button is just a Label that you can click! The same keyword arguments you use to create and style a Label will work with Button widgets."
   ]
  },
  {
   "cell_type": "code",
   "execution_count": 14,
   "metadata": {},
   "outputs": [],
   "source": [
    "button = tkinter.Button(\n",
    "    text=\"Click me!\",\n",
    "    width=25,\n",
    "    height=5,\n",
    "    bg=\"blue\",\n",
    "    fg=\"yellow\",\n",
    ") \n",
    "button.pack()\n",
    "button.mainloop()"
   ]
  },
  {
   "cell_type": "markdown",
   "metadata": {},
   "source": [
    "### Another example:"
   ]
  },
  {
   "cell_type": "code",
   "execution_count": 15,
   "metadata": {},
   "outputs": [],
   "source": [
    "import tkinter\n",
    "\n",
    "window = tkinter.Tk()\n",
    "# to rename the title of the window\n",
    "window.title(\"This will be the title: 1330 Computational Thinking for example\")\n",
    "# pack is used to show the object in the window\n",
    "label = tkinter.Label(window, text = \"Welcome to ENGR1330 by Dr. Cleveland and Farhang\").pack()\n",
    "window.mainloop()"
   ]
  },
  {
   "cell_type": "code",
   "execution_count": 16,
   "metadata": {},
   "outputs": [],
   "source": [
    "import tkinter\n",
    "window = tkinter.Tk()\n",
    "window.title(\"Button Example\")\n",
    "button_widget = tkinter.Button(window,text=\"How About A Click?\")\n",
    "button_widget.pack()\n",
    "tkinter.mainloop()"
   ]
  },
  {
   "cell_type": "markdown",
   "metadata": {},
   "source": [
    "### Multiple Bottuns !"
   ]
  },
  {
   "cell_type": "code",
   "execution_count": 17,
   "metadata": {},
   "outputs": [],
   "source": [
    "import tkinter\n",
    "\n",
    "# Let's create the Tkinter window.\n",
    "window = tkinter.Tk()\n",
    "window.title(\"GUI\")\n",
    "\n",
    "# You will first create a division with the help of Frame class and align them on TOP and BOTTOM with pack() method.\n",
    "top_frame = tkinter.Frame(window).pack()\n",
    "bottom_frame = tkinter.Frame(window).pack(side = \"bottom\")\n",
    "\n",
    "# Once the frames are created then you are all set to add widgets in both the frames.\n",
    "btn1 = tkinter.Button(top_frame, text = \"A Button for the top\", fg = \"red\").pack() #'fg or foreground' is for coloring the contents (buttons)\n",
    "\n",
    "btn2 = tkinter.Button(top_frame, text = \"Some Green In The Middle\", fg = \"green\").pack()\n",
    "\n",
    "btn3 = tkinter.Button(bottom_frame, text = \"Button3\", fg = \"purple\").pack(side = \"left\") #'side' is used to left or right align the widgets\n",
    "\n",
    "btn4 = tkinter.Button(bottom_frame, text = \"Button4\", fg = \"orange\").pack(side = \"right\")\n",
    "\n",
    "\n",
    "window.mainloop()"
   ]
  },
  {
   "cell_type": "markdown",
   "metadata": {},
   "source": [
    "### A Different Style to Allow Selection "
   ]
  },
  {
   "cell_type": "code",
   "execution_count": 18,
   "metadata": {},
   "outputs": [],
   "source": [
    "import tkinter\n",
    "from tkinter import *\n",
    "top = tkinter.Tk()\n",
    "CheckVar1 = IntVar()\n",
    "CheckVar2 = IntVar()\n",
    "tkinter.Checkbutton(top, text = \"Regression\",variable = CheckVar1,onvalue = 1, offvalue=0).grid(row=0,sticky=W)\n",
    "tkinter.Checkbutton(top, text = \"Classification\", variable = CheckVar2, onvalue = 0, offvalue =1).grid(row=1,sticky=W)\n",
    "top.mainloop()"
   ]
  },
  {
   "cell_type": "markdown",
   "metadata": {},
   "source": [
    "### Asking for Entry"
   ]
  },
  {
   "cell_type": "code",
   "execution_count": 19,
   "metadata": {},
   "outputs": [],
   "source": [
    "import tkinter\n",
    "# Let's create the Tkinter window\n",
    "window = tkinter.Tk()\n",
    "window.title(\"GUI\")\n",
    "\n",
    "# You will create two text labels namely 'username' and 'password' and and two input labels for them\n",
    "\n",
    "tkinter.Label(window, text = \"Username\").grid(row = 0) #'username' is placed on position 00 (row - 0 and column - 0)\n",
    "\n",
    "# 'Entry' class is used to display the input-field for 'username' text label\n",
    "tkinter.Entry(window).grid(row = 0, column = 1) # first input-field is placed on position 01 (row - 0 and column - 1)\n",
    "\n",
    "tkinter.Label(window, text = \"Password\").grid(row = 1) #'password' is placed on position 10 (row - 1 and column - 0)\n",
    "\n",
    "tkinter.Entry(window).grid(row = 1, column = 1) #second input-field is placed on position 11 (row - 1 and column - 1)\n",
    "\n",
    "# 'Checkbutton' class is for creating a checkbutton which will take a 'columnspan' of width two (covers two columns)\n",
    "tkinter.Checkbutton(window, text = \"Keep Me Logged In\").grid(columnspan = 2)                 \n",
    "\n",
    "window.mainloop()"
   ]
  },
  {
   "cell_type": "markdown",
   "metadata": {},
   "source": [
    "### Adding functionality to buttons"
   ]
  },
  {
   "cell_type": "code",
   "execution_count": 20,
   "metadata": {},
   "outputs": [],
   "source": [
    "import tkinter\n",
    "# Let's create the Tkinter window\n",
    "window = tkinter.Tk()\n",
    "window.title(\"Do Something\")\n",
    "\n",
    "# creating a function called DataCamp_Tutorial()\n",
    "def Farhang_Function():\n",
    "    tkinter.Label(window, text = \"Something!\").pack()\n",
    "\n",
    "tkinter.Button(window, text = \"Click Me to See Something! -Click Again if not satisfied!\", command = Farhang_Function).pack()\n",
    "window.mainloop()"
   ]
  },
  {
   "cell_type": "markdown",
   "metadata": {},
   "source": [
    "#### This was cool but not necessarily practical for us:"
   ]
  },
  {
   "cell_type": "code",
   "execution_count": 21,
   "metadata": {},
   "outputs": [],
   "source": [
    "import tkinter\n",
    "# Let's create the Tkinter window\n",
    "window = tkinter.Tk()\n",
    "window.title(\"GUI\")\n",
    "\n",
    "#You will create three different functions for three different events\n",
    "def left_click(event):\n",
    "    tkinter.Label(window, text = \"Left Click!\").pack()\n",
    "\n",
    "def middle_click(event):\n",
    "    tkinter.Label(window, text = \"Middle Click!\").pack()\n",
    "\n",
    "def right_click(event):\n",
    "    tkinter.Label(window, text = \"Right Click!\").pack()\n",
    "\n",
    "window.bind(\"<Button-1>\", left_click)\n",
    "window.bind(\"<Button-2>\", middle_click)\n",
    "window.bind(\"<Button-3>\", right_click)\n",
    "\n",
    "window.mainloop()"
   ]
  },
  {
   "cell_type": "markdown",
   "metadata": {},
   "source": [
    "### A warning massege could be set:"
   ]
  },
  {
   "cell_type": "code",
   "execution_count": 22,
   "metadata": {},
   "outputs": [],
   "source": [
    "import tkinter\n",
    "import tkinter.messagebox\n",
    "\n",
    "# Let's create the Tkinter window\n",
    "window = tkinter.Tk()\n",
    "window.title(\"Warning + Question\")\n",
    "\n",
    "# Let's create a alert box with 'messagebox' function\n",
    "tkinter.messagebox.showinfo(\"Alert Message\", \"This is a WARNING! You are about to see a question!\")\n",
    "\n",
    "# Let's also create a question for the user and based upon the response [Yes or No Question] display a message.\n",
    "response = tkinter.messagebox.askquestion(\"Tricky Question\", \"Do you need a classification model?\")\n",
    "\n",
    "# A basic 'if/else' block where if user clicks on 'Yes' then it returns 1 else it returns 0. For each response you will display a message with the help of 'Label' method.\n",
    "if response == 1:\n",
    "    tkinter.Label(window, text = \"No, My target variable is continuous!\").pack()\n",
    "else:\n",
    "    tkinter.Label(window, text = \"Yes, My target is discrete!\").pack()\n",
    "\n",
    "window.mainloop()"
   ]
  },
  {
   "cell_type": "markdown",
   "metadata": {},
   "source": [
    "#### This is a full-blown example of an interactive calculator! "
   ]
  },
  {
   "cell_type": "code",
   "execution_count": 72,
   "metadata": {},
   "outputs": [],
   "source": [
    "from tkinter import *\n",
    "\n",
    "# Let's create the Tkinter window\n",
    "window = Tk()\n",
    "\n",
    "# Then, you will define the size of the window in width(312) and height(324) using the 'geometry' method\n",
    "window.geometry(\"390x324\")\n",
    "\n",
    "# In order to prevent the window from getting resized you will call 'resizable' method on the window\n",
    "window.resizable(0, 0)\n",
    "\n",
    "#Finally, define the title of the window\n",
    "window.title(\"Calculator\")\n",
    "\n",
    "\n",
    "# Let's now define the required functions for the Calculator to function properly.\n",
    "\n",
    "# 1. First is the button click 'btn_click' function which will continuously update the input field whenever a number is entered or any button is pressed it will act as a button click update.\n",
    "def btn_click(item):\n",
    "    global expression\n",
    "    expression = expression + str(item)\n",
    "    input_text.set(expression)\n",
    "\n",
    "# 2. Second is the button clear 'btn_clear' function clears the input field or previous calculations using the button \"C\"\n",
    "def btn_clear():\n",
    "    global expression\n",
    "    expression = \"\"\n",
    "    input_text.set(\"\")\n",
    "\n",
    "# 3. Third and the final function is button equal (\"=\") 'btn_equal' function which will calculate the expression present in input field. For example: User clicks button 2, + and 3 then clicks \"=\" will result in an output 5.\n",
    "def btn_equal():\n",
    "    global expression\n",
    "    result = str(eval(expression)) # 'eval' function is used for evaluating the string expressions directly\n",
    "    # you can also implement your own function to evalute the expression istead of 'eval' function\n",
    "    input_text.set(result)\n",
    "    expression = \"\"\n",
    "\n",
    "def btn_off():\n",
    "    window.destroy\n",
    "\n",
    "expression = \"\"\n",
    "# In order to get the instance of the input field 'StringVar()' is used\n",
    "input_text = StringVar()\n",
    "\n",
    "# Once all the functions are defined then comes the main section where you will start defining the structure of the calculator inside the GUI.\n",
    "\n",
    "# The first thing is to create a frame for the input field\n",
    "input_frame = Frame(window, width = 312, height = 50, bd = 0, highlightbackground = \"black\", highlightcolor = \"black\", highlightthickness = 1)\n",
    "input_frame.pack(side = TOP)\n",
    "\n",
    "\n",
    "# Then you will create an input field inside the 'Frame' that was created in the previous step. Here the digits or the output will be displayed as 'right' aligned\n",
    "input_field = Entry(input_frame, font = ('arial', 18, 'bold'), textvariable = input_text, width = 50, bg = \"#eee\", bd = 0, justify = RIGHT)\n",
    "input_field.grid(row = 0, column = 0)\n",
    "input_field.pack(ipady = 10) # 'ipady' is an internal padding to increase the height of input field\n",
    "\n",
    "\n",
    "# Once you have the input field defined then you need a separate frame which will incorporate all the buttons inside it below the 'input field'\n",
    "btns_frame = Frame(window, width = 312, height = 272.5, bg = \"grey\")\n",
    "btns_frame.pack()\n",
    "      \n",
    "#################################################################################################################################################################################################################\n",
    "# The first row will comprise of the buttons 'Clear (C)' and 'Divide (/)'\n",
    "clear = Button(btns_frame, text = \"Clear\", fg = \"black\", width = 24, height = 3, bd = 0, bg = \"#eee\", cursor = \"hand2\", command = lambda: btn_clear()).grid(row = 0, column = 0, columnspan = 2, padx = 1, pady = 1)\n",
    "close = Button(btns_frame,text=\"Off\", fg = \"black\", width = 10, height = 3, bd = 0, bg = \"#eee\", cursor = \"hand2\" ,command = window.destroy).grid(row = 0,column =2,padx = 1, pady = 1)\n",
    "divide = Button(btns_frame, text = \"/\", fg = \"black\", width = 10, height = 3, bd = 0, bg = \"#eee\", cursor = \"hand2\", command = lambda: btn_click(\"/\")).grid(row = 0, column = 3, padx = 1, pady = 1)\n",
    "\n",
    "# The second row will comprise of the buttons '7', '8', '9' and 'Multiply (*)'\n",
    "seven = Button(btns_frame, text = \"7\", fg = \"black\", width = 10, height = 3, bd = 0, bg = \"#fff\", cursor = \"hand2\", command = lambda: btn_click(7)).grid(row = 1, column = 0, padx = 1, pady = 1)\n",
    "eight = Button(btns_frame, text = \"8\", fg = \"black\", width = 10, height = 3, bd = 0, bg = \"#fff\", cursor = \"hand2\", command = lambda: btn_click(8)).grid(row = 1, column = 1, padx = 1, pady = 1)\n",
    "nine = Button(btns_frame, text = \"9\", fg = \"black\", width = 10, height = 3, bd = 0, bg = \"#fff\", cursor = \"hand2\", command = lambda: btn_click(9)).grid(row = 1, column = 2, padx = 1, pady = 1)\n",
    "multiply = Button(btns_frame, text = \"*\", fg = \"black\", width = 10, height = 3, bd = 0, bg = \"#eee\", cursor = \"hand2\", command = lambda: btn_click(\"*\")).grid(row = 1, column = 3, padx = 1, pady = 1)\n",
    "\n",
    "\n",
    "# The third row will comprise of the buttons '4', '5', '6' and 'Subtract (-)'\n",
    "four = Button(btns_frame, text = \"4\", fg = \"black\", width = 10, height = 3, bd = 0, bg = \"#fff\", cursor = \"hand2\", command = lambda: btn_click(4)).grid(row = 2, column = 0, padx = 1, pady = 1)\n",
    "five = Button(btns_frame, text = \"5\", fg = \"black\", width = 10, height = 3, bd = 0, bg = \"#fff\", cursor = \"hand2\", command = lambda: btn_click(5)).grid(row = 2, column = 1, padx = 1, pady = 1)\n",
    "six = Button(btns_frame, text = \"6\", fg = \"black\", width = 10, height = 3, bd = 0, bg = \"#fff\", cursor = \"hand2\", command = lambda: btn_click(6)).grid(row = 2, column = 2, padx = 1, pady = 1)\n",
    "minus = Button(btns_frame, text = \"-\", fg = \"black\", width = 10, height = 3, bd = 0, bg = \"#eee\", cursor = \"hand2\", command = lambda: btn_click(\"-\")).grid(row = 2, column = 3, padx = 1, pady = 1)\n",
    "\n",
    "\n",
    "# The fourth row will comprise of the buttons '1', '2', '3' and 'Addition (+)'\n",
    "one = Button(btns_frame, text = \"1\", fg = \"black\", width = 10, height = 3, bd = 0, bg = \"#fff\", cursor = \"hand2\", command = lambda: btn_click(1)).grid(row = 3, column = 0, padx = 1, pady = 1)\n",
    "two = Button(btns_frame, text = \"2\", fg = \"black\", width = 10, height = 3, bd = 0, bg = \"#fff\", cursor = \"hand2\", command = lambda: btn_click(2)).grid(row = 3, column = 1, padx = 1, pady = 1)\n",
    "three = Button(btns_frame, text = \"3\", fg = \"black\", width = 10, height = 3, bd = 0, bg = \"#fff\", cursor = \"hand2\", command = lambda: btn_click(3)).grid(row = 3, column = 2, padx = 1, pady = 1)\n",
    "plus = Button(btns_frame, text = \"+\", fg = \"black\", width = 10, height = 3, bd = 0, bg = \"#eee\", cursor = \"hand2\", command = lambda: btn_click(\"+\")).grid(row = 3, column = 3, padx = 1, pady = 1)\n",
    "\n",
    "\n",
    "# Finally, the fifth row will comprise of the buttons '0', 'Decimal (.)', and 'Equal To (=)'\n",
    "zero = Button(btns_frame, text = \"0\", fg = \"black\", width = 24, height = 3, bd = 0, bg = \"#fff\", cursor = \"hand2\", command = lambda: btn_click(0)).grid(row = 4, column = 0, columnspan = 2, padx = 1, pady = 1)\n",
    "point = Button(btns_frame, text = \".\", fg = \"black\", width = 10, height = 3, bd = 0, bg = \"#eee\", cursor = \"hand2\", command = lambda: btn_click(\".\")).grid(row = 4, column = 2, padx = 1, pady = 1)\n",
    "equals = Button(btns_frame, text = \"=\", fg = \"black\", width = 10, height = 3, bd = 0, bg = \"#eee\", cursor = \"hand2\", command = lambda: btn_equal()).grid(row = 4, column = 3, padx = 1, pady = 1)\n",
    "\n",
    "\n",
    "\n",
    "window.mainloop()"
   ]
  },
  {
   "cell_type": "code",
   "execution_count": null,
   "metadata": {},
   "outputs": [],
   "source": []
  },
  {
   "cell_type": "markdown",
   "metadata": {},
   "source": [
    "## Some good references: \n",
    "\n",
    "- \"Python GUI Programming With Tkinter\" @ https://realpython.com/python-gui-tkinter/\n",
    "- \"Introduction to GUI With Tkinter in Python\" @ https://www.datacamp.com/community/tutorials/gui-tkinter-python\n",
    "- \"Turn your previous Python projects into awesome tools — with Tkinter\" @ https://towardsdatascience.com/turn-your-previous-python-projects-into-awesome-tools-with-tkinter-2e61f2241e29\n",
    "- \"Learn Tkinter in 20 Minutes\" @ https://www.youtube.com/watch?v=_lSNIrR1nZU\n",
    "- \"Create a GUI app with Tkinter - Step by Step Tutorial\" @ https://www.youtube.com/watch?v=itRLRfuL_PQ"
   ]
  },
  {
   "cell_type": "code",
   "execution_count": null,
   "metadata": {},
   "outputs": [],
   "source": []
  }
 ],
 "metadata": {
  "kernelspec": {
   "display_name": "Python 3",
   "language": "python",
   "name": "python3"
  },
  "language_info": {
   "codemirror_mode": {
    "name": "ipython",
    "version": 3
   },
   "file_extension": ".py",
   "mimetype": "text/x-python",
   "name": "python",
   "nbconvert_exporter": "python",
   "pygments_lexer": "ipython3",
   "version": "3.8.5"
  }
 },
 "nbformat": 4,
 "nbformat_minor": 4
}
