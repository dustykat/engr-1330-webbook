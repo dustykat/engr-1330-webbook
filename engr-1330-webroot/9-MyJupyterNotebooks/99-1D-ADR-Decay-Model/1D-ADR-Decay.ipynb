{
 "cells": [
  {
   "cell_type": "markdown",
   "metadata": {},
   "source": [
    "# Plot a Function, Save the plot to a file\n",
    "This notebook shows how to plot an elabortae function, then send to output to a file.  The example is adapted from a server-side implementation of the same problem:\n",
    "\n",
    "    In the server-side implementation the following steps are used\n",
    "    1) Input interface is an html web page, with input cells (built into html)\n",
    "    2) Action button, uses POST method to send request to the python script housed in cgi-bin directory linked to the webroot.\n",
    "    3) Parse the form , structure the inputs -- in the code below, the interactive inputs `` variable = float(input{\"message\")``replace the parser script.\n",
    "    4) Run the calculations - prepare the plot\n",
    "    5) Send the plot to a file\n",
    "    6) Create output html, use the plot as an image source.\n",
    "    7) Done! \n",
    "    "
   ]
  },
  {
   "cell_type": "markdown",
   "metadata": {},
   "source": [
    "Here we will only do step 3 (modified) and step 4; there is substantial added work to do the web interface -- that's shown at the end of this notebook.\n",
    "\n",
    "For our notebook, we will need ``math`` and ``matplotlib``. There are someother imports from the cgi-bin script, that are commented out."
   ]
  },
  {
   "cell_type": "code",
   "execution_count": null,
   "metadata": {},
   "outputs": [],
   "source": []
  },
  {
   "cell_type": "code",
   "execution_count": 1,
   "metadata": {},
   "outputs": [],
   "source": [
    "# This is script is a test for SERVER-SIDE computation\n",
    "# Values to enter via a web interface and leave in a graphic\n",
    "# T Cleveland 2016-0216\n",
    "#\n",
    "# Import mathlibrary to get special functions\n",
    "#\n",
    "from math import sqrt,erf,erfc,exp  # get special math functions\n",
    "#\n",
    "# Import graphics routines for picture making\n",
    "#\n",
    "from matplotlib import pyplot as plt\n",
    "#\n",
    "# Import system calls to nicely exit the program -- may need to change for server-side processing\n",
    "#\n",
    "#import sys ## used in the html/cgi-bin, not needed here"
   ]
  },
  {
   "cell_type": "code",
   "execution_count": null,
   "metadata": {},
   "outputs": [],
   "source": []
  },
  {
   "cell_type": "code",
   "execution_count": null,
   "metadata": {},
   "outputs": [],
   "source": []
  },
  {
   "cell_type": "markdown",
   "metadata": {},
   "source": [
    "## Forward Define the Functions\n",
    "This step is important, the functions must be defined before they are called -- in an interpreter, this is usually done at the top of the script.  Other scripting languages store the scripts at the end (JavaScript usually keeps scripts at end of the file -- it internally promotes then to the top before it runs its JIT bytecode compiler.\n",
    "\n",
    "In a compiled language, this is not as necessary (predefinition is, location not so much). \n",
    "\n",
    "These prototype functions are usually written so that they are organic with respect to their variables, so there is no leakage -- in these two functions, the input list is just names, and the output is just a value that must be assigned in the calling script.\n",
    "\n",
    "Our first function evaluates:\n",
    "\n",
    "\\begin{equation}\n",
    "C(x,t) = \\frac{a}{b}\n",
    "\\end{equation}"
   ]
  },
  {
   "cell_type": "code",
   "execution_count": 2,
   "metadata": {},
   "outputs": [],
   "source": [
    "# contaminant function\n",
    "def concentration(c_initial,c_source,space,time,t_pulse,dispersion,velocity,retardation,mu,lamda):\n",
    "# PARAMETERS (ARGUMENTS)\n",
    "# c_initial == concentration everywhere at time = 0, excpet at source\n",
    "# c_source == concentration at source (x=0), for any time\n",
    "# space == distance from source at x=0\n",
    "# time  == elapsed time from t=0\n",
    "# t_pulse == duration of finite source pulse\n",
    "# dispersion == dispersion (diffusion) coefficient (length^2/time)\n",
    "# velocity == species velocity (mean section velocity/porosity) (length/time)  Calculate before call function\n",
    "# retardation == retardation coefficient (adjusted time) Calculate before call function\n",
    "# mu == 1st order decay rate coefficient (time^-1)\n",
    "# lamda == 0th order rate constant (concentration/time)\n",
    "#################################################\n",
    "## COMPUTE A                                   ##\n",
    "#################################################\n",
    "    termA1 = (1.0-0.5*erfc(((retardation*space)-(velocity*time))/(2.0*sqrt(dispersion*retardation*time))))\n",
    "    termA2 = (-0.5*exp(velocity*space/dispersion)*erfc(((retardation*space)+(velocity*time))/(2.0*sqrt(dispersion*retardation*time))))\n",
    "    termA3 = (exp(-mu*time/retardation))\n",
    "    termA = termA1*(termA2+termA3)\n",
    "#################################################\n",
    "# error handler for negative (undefined) time ###\n",
    "#################################################\n",
    "    if(time < 0):\n",
    "        print(\"negative time -- no solution\")\n",
    "        concentration = (-999.9)\n",
    "        return (concentration)\n",
    "################################################\n",
    "# During the finite pulse                    ###\n",
    "################################################\n",
    "    if(time <= t_pulse):\n",
    "        concentration = (lamda/mu)+(c_initial - lamda/mu)*termA + (c_source - lamda/mu)*termB(space,time,velocity,dispersion,retardation,mu)\n",
    "        return(concentration)\n",
    "    else:\n",
    "        concentration = (lamda/mu)+(c_initial - lamda/mu)*termA + (c_source - lamda/mu)*termB(space,time,velocity,dispersion,retardation,mu) -c_source*termB(space,time-t_pulse,velocity,disersion,retardation,mu)\n",
    "        return(concentration)\n",
    "#################################################\n",
    "# error handler for impossible\n",
    "    print(\"no path to this message\")\n",
    "    concentration = -999.0\n",
    "    return(concentration)\n",
    "#################################################"
   ]
  },
  {
   "cell_type": "markdown",
   "metadata": {},
   "source": [
    "Here is the other function, this uses a concept of adjusted time to account for a linear equilibrium isotherm for the underlying mass transport process.  Code wise nothing special, just another funcion"
   ]
  },
  {
   "cell_type": "code",
   "execution_count": null,
   "metadata": {},
   "outputs": [],
   "source": []
  },
  {
   "cell_type": "code",
   "execution_count": 3,
   "metadata": {},
   "outputs": [],
   "source": [
    "# term B function to handle time shift\n",
    "def termB(space,time,velocity,dispersion,retardation,mu):\n",
    "## COMPUTE B ##\n",
    "## Compute adjusted velocity\n",
    "    u = velocity* sqrt(1.0+(4.0*mu*dispersion)/(velocity**2)) # cm/day\n",
    "#\n",
    "    termB1 =(0.5)*exp(0.5*((velocity-u)*space)/(dispersion))\n",
    "    termB2 = erfc(((retardation*space)-(u*time))/(2.0*sqrt(dispersion*retardation*time)))\n",
    "    termB3 = termB1*termB2\n",
    "#\n",
    "    termB4 =(0.5)*exp(0.5*((velocity+u)*space)/(dispersion))\n",
    "    termB5 = erfc(((retardation*space)+(u*time))/(2.0*sqrt(dispersion*retardation*time)))\n",
    "    termB6 = termB4*termB5\n",
    "#\n",
    "    termB = termB3+termB6\n",
    "    return(termB)\n",
    "\n",
    "#################################################"
   ]
  },
  {
   "cell_type": "code",
   "execution_count": null,
   "metadata": {},
   "outputs": [],
   "source": [
    "# lets test\n",
    "c_initial = float(input(\"Initial Concentration 0\"))\n",
    "c_source = float(input(\"Source Concentration 1000\"))\n",
    "space = float(input(\"Space 1\"))\n",
    "time  = float(input(\"Time 10\"))\n",
    "t_pulse = float(input(\"Pulse Duration 100\"))\n",
    "dispersion = float(input(\"Dispersion Coefficient 1\"))\n",
    "velocity = float(input(\"Velocity .5\"))\n",
    "retardation = float(input(\"Retardation Factor 1.0\"))\n",
    "mu = 0.0000001\n",
    "lamda = 0.0\n",
    "\n",
    "#c_initial = 0.0\n",
    "#c_source = 1000.0\n",
    "#space = 1.\n",
    "#time  = 10.\n",
    "#t_pulse = 100.0\n",
    "#dispersion = 1.0\n",
    "#velocity = 0.5\n",
    "#retardation = 1.0\n",
    "#mu = 0.0000001\n",
    "#lamda = 0.0\n",
    "\n",
    "#\n",
    "# forward define and initialize vectors for a profile plot\n",
    "#\n",
    "how_many_points = 50\n",
    "x = range(0,how_many_points,1) # null list\n",
    "c = [0.0 for i in range(how_many_points)] # null list\n",
    "#\n",
    "# initialize the vectors so can use ordinary arithmetic\n",
    "#dist = [0.1,1.0,2.0,3.0,4.0,5.0]\n",
    "#dist = range(0,50,1)\n",
    "for i in range(0,how_many_points,1):\n",
    "    c[i] = concentration(c_initial,c_source,x[i],time,t_pulse,dispersion,velocity,retardation,mu,lamda)\n",
    "#    print (x[i],c[i])  # cool, now can build plot\n",
    "#\n",
    "# Building the Plot\n",
    "#\n",
    "plt.plot(x,c, color='red', marker='o', linestyle = 'solid')  # make the plot object\n",
    "plt.title(\" Concentration Profile \") # caption the plot object\n",
    "plt.xlabel(\" Distance from Source \") # label x-axis\n",
    "plt.ylabel(\" Concentration        \") # label y-axis\n",
    "plt.savefig(\"1D-ADR.png\")\n",
    "plt.show() # plot to stdio -- has to be last call as it kills prior objects\n",
    "plt.close('all') # needed when plt.show call not invoked\n",
    "print(\"end of script\")\n",
    "#sys.exit() # used to elegant exit for CGI-BIN use"
   ]
  },
  {
   "cell_type": "code",
   "execution_count": null,
   "metadata": {},
   "outputs": [],
   "source": []
  },
  {
   "cell_type": "code",
   "execution_count": null,
   "metadata": {},
   "outputs": [],
   "source": []
  }
 ],
 "metadata": {
  "kernelspec": {
   "display_name": "Python 3",
   "language": "python",
   "name": "python3"
  },
  "language_info": {
   "codemirror_mode": {
    "name": "ipython",
    "version": 3
   },
   "file_extension": ".py",
   "mimetype": "text/x-python",
   "name": "python",
   "nbconvert_exporter": "python",
   "pygments_lexer": "ipython3",
   "version": "3.8.2"
  }
 },
 "nbformat": 4,
 "nbformat_minor": 4
}
