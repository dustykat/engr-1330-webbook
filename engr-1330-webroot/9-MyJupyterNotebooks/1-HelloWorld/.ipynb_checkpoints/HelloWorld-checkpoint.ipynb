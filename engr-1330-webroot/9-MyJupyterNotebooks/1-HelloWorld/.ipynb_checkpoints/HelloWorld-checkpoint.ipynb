{
 "cells": [
  {
   "cell_type": "markdown",
   "metadata": {},
   "source": [
    "# HELLO WORLD\n",
    "The cell below contains the classic \"first program\" of many languages.\n",
    "\n",
    "The script input is quite simple, we instruct the computer to print the literal\n",
    "string \"hello world\" to standard input/output device which is the console. Here our jupyter interface intercepts to output stream and embeds it into this document."
   ]
  },
  {
   "cell_type": "code",
   "execution_count": 1,
   "metadata": {},
   "outputs": [
    {
     "name": "stdout",
     "output_type": "stream",
     "text": [
      "hello world\n"
     ]
    }
   ],
   "source": [
    "print(\"hello world\")"
   ]
  },
  {
   "cell_type": "markdown",
   "metadata": {},
   "source": [
    "## Change Contents and Run Again\n",
    "Now we try changing the contents of the literal string (everything between the quotes is the literal.  I'll try with something elaborate like:\n",
    "\n",
    "Were gonna build a dog park, the best one ever - and the cats are gonna pay for it!"
   ]
  },
  {
   "cell_type": "code",
   "execution_count": 2,
   "metadata": {
    "scrolled": true
   },
   "outputs": [
    {
     "name": "stdout",
     "output_type": "stream",
     "text": [
      "Were gonna build a dog park, the best one ever - and the cats are gonna pay for it!\n"
     ]
    }
   ],
   "source": [
    "print(\"Were gonna build a dog park, the best one ever - and the cats are gonna pay for it!\")"
   ]
  },
  {
   "cell_type": "code",
   "execution_count": null,
   "metadata": {},
   "outputs": [],
   "source": []
  }
 ],
 "metadata": {
  "kernelspec": {
   "display_name": "Python 3",
   "language": "python",
   "name": "python3"
  },
  "language_info": {
   "codemirror_mode": {
    "name": "ipython",
    "version": 3
   },
   "file_extension": ".py",
   "mimetype": "text/x-python",
   "name": "python",
   "nbconvert_exporter": "python",
   "pygments_lexer": "ipython3",
   "version": "3.8.2"
  }
 },
 "nbformat": 4,
 "nbformat_minor": 4
}
