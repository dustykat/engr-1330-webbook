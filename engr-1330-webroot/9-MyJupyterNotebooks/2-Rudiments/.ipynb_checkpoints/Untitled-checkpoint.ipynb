{
 "cells": [
  {
   "cell_type": "markdown",
   "metadata": {},
   "source": [
    "# Rudimentary Python (aka Baby Snakes)\n",
    "More on variables, their types, uses and such.\n",
    "\n",
    "## Variables and Operators\n",
    "Variables are names given to data that we want to store and manipulate in programs. A\n",
    "variable has a name and a value. The value representation depends on what type of object\n",
    "the variable represents. \n",
    "\n",
    "The utility of variables comes in when we have a structure that is universal, but values of\n",
    "variables within the structure will change -- otherwise it would be simple enough to just\n",
    "hardwire the arithmetic.\n",
    "\n",
    "Suppose we want to store the time of concentration for some hydrologic calculation. To do\n",
    "so, we can name the variable ``TimeOfConcentration``, and then assign a value to the variable,\n",
    "for instance:\n",
    "\n",
    "    TimeOfConcentration = 0.0\n",
    "    \n",
    "After this assignment statement the variable is created in the program and has a value of\n",
    "0.0. The use of a decimal point in the initial assignment establishes the variable as a \n",
    "float (a real variable is called a floating point representation -- or just a float).\n",
    "\n",
    "We can define multiple variables on a single line if we wish like:\n",
    "\n",
    "    TimeOfConcentration = 0.0; Area= 0.0; Depth = 0.0\n",
    "\n",
    "I personally don't like multiple definitions on a single line, i find it makes the code hard to\n",
    "maintain, but the choice is individual preference -- there is certainly logic in grouping items\n",
    "that are related together so if you like that approach then by all means use it.\n",
    "\n",
    "The code fragment below illustrates the creation/assignments:"
   ]
  },
  {
   "cell_type": "code",
   "execution_count": null,
   "metadata": {},
   "outputs": [],
   "source": [
    "TimeOfConcentration = 0.0\n",
    "print(TimeOfConcentration)\n",
    "print(Area) # Not yet defined"
   ]
  },
  {
   "cell_type": "markdown",
   "metadata": {},
   "source": [
    "What is the difference between print( 3 + 2 ) and print( '3 + 2')?\n",
    "Change MyNumber = 3+2 to MyNumber = 3+2.0, and re-run the script, what happens?"
   ]
  },
  {
   "cell_type": "code",
   "execution_count": null,
   "metadata": {},
   "outputs": [],
   "source": [
    "TimeOfConcentration = 0.0; Area= 0.0; Depth = 0.0\n",
    "print(TimeOfConcentration)\n",
    "print(Area) # Now defined!"
   ]
  },
  {
   "cell_type": "code",
   "execution_count": null,
   "metadata": {},
   "outputs": [],
   "source": []
  }
 ],
 "metadata": {
  "kernelspec": {
   "display_name": "Python 3",
   "language": "python",
   "name": "python3"
  },
  "language_info": {
   "codemirror_mode": {
    "name": "ipython",
    "version": 3
   },
   "file_extension": ".py",
   "mimetype": "text/x-python",
   "name": "python",
   "nbconvert_exporter": "python",
   "pygments_lexer": "ipython3",
   "version": "3.8.2"
  }
 },
 "nbformat": 4,
 "nbformat_minor": 4
}
