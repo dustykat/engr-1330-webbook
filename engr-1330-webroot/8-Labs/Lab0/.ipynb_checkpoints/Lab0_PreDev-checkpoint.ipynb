{
 "cells": [
  {
   "cell_type": "markdown",
   "metadata": {},
   "source": [
    "# ENGR 1330 Computational Thinking with Data Science \n",
    "Last GitHub Commit Date: 19 January 2021\n",
    "- Building the JupyterLab (iPython) programming environment \n",
    "\n",
    "### Special Script Blocks"
   ]
  },
  {
   "cell_type": "code",
   "execution_count": 4,
   "metadata": {},
   "outputs": [
    {
     "name": "stdout",
     "output_type": "stream",
     "text": [
      "ip-172-26-4-2\n",
      "compthink\n",
      "/home/compthink/engr-1330-webroot/8-Labs/Lab0\n",
      "/opt/jupyterhub/bin/python3\n",
      "3.8.5 (default, Jul 28 2020, 12:59:40) \n",
      "[GCC 9.3.0]\n",
      "sys.version_info(major=3, minor=8, micro=5, releaselevel='final', serial=0)\n"
     ]
    }
   ],
   "source": [
    "# Script block to identify host, user, and kernel\n",
    "import sys\n",
    "! hostname\n",
    "! whoami\n",
    "! pwd\n",
    "print(sys.executable)\n",
    "print(sys.version)\n",
    "print(sys.version_info)"
   ]
  },
  {
   "cell_type": "code",
   "execution_count": 5,
   "metadata": {},
   "outputs": [
    {
     "data": {
      "text/html": [
       "<!-- Script Block to set tables to left alignment -->\n",
       "<style>\n",
       "  table {margin-left: 0 !important;}\n",
       "</style>\n"
      ],
      "text/plain": [
       "<IPython.core.display.HTML object>"
      ]
     },
     "metadata": {},
     "output_type": "display_data"
    }
   ],
   "source": [
    "%%html\n",
    "<!-- Script Block to set tables to left alignment -->\n",
    "<style>\n",
    "  table {margin-left: 0 !important;}\n",
    "</style>"
   ]
  },
  {
   "cell_type": "markdown",
   "metadata": {},
   "source": [
    "# Building the JupyterLab (iPython) programming environment \n",
    "\n",
    "The laboratory and homeworks are to be accomplished using JupyterLab/iPython notebooks.  \n",
    "The recomended integrated development environment (IDE) is called Anaconda (www.anaconda.com).\n",
    "\n",
    "The three primary means to get a working JupyterLab/iPython environment are shown below"
   ]
  },
  {
   "cell_type": "markdown",
   "metadata": {},
   "source": [
    "## Installing Anaconda on a Machine you own (i.e. your laptop)\n",
    "\n",
    "### Install Anaconda on Windows 10 Machine\n",
    "\n",
    "The video https://youtu.be/xBfoK6jDpTw shows an install onto a Windows machine.  \n",
    "\n",
    "### Install Anaconda on MacOS Machine\n",
    "\n",
    "The video https://youtu.be/y26RCKWlv7M shows a step-by-step install onto a Macintosh (Catalina OS) machine.  "
   ]
  },
  {
   "cell_type": "markdown",
   "metadata": {},
   "source": [
    "## Installing Anaconda on a Cloud-Hosted Machine\n",
    "\n",
    "### Install Anaconda on AWS Windows Instance\n",
    "The video https://youtu.be/s8CJKq2Rvgg shows a step-by-step install onto a Windows machine hosted on Amazon Web Services (cloud hosted). "
   ]
  },
  {
   "cell_type": "markdown",
   "metadata": {},
   "source": [
    "## Installing JupyterHub on a non-x86-64 chipset (i.e. Raspberry Pi, Hardkernel, ... )\n",
    "\n",
    "If you have a machine that does not use the x86-64 chipset (so not an Intel or not AMD), then you have extra bonus problems.  Compared to the above its a monumental pain.  The notes below follow https://jupyterhub.readthedocs.io/en/stable/installation-guide-hard.html\n",
    "\n",
    "Here's what worked for me:\n",
    "\n",
    "1. Build an OS (Raspian or Ubuntu) \n",
    "    1. initial updates\n",
    "        - sudo apt-get update\n",
    "        - sudo apt-get upgrade\n",
    "        - sudo apt-get dist-upgrade\n",
    "    2. change hostname (optional)\n",
    "        - sudo hostnamectl set-hostname atomickitty.arm64\n",
    "    3. create users (also optional, but suggest at least one non-sudo)\n",
    "        - sudo useradd -m -d /home/polaris -s /bin/bash polaris\n",
    "        - sudo useradd -m -d /home/antares -s /bin/bash antares\n",
    "        - sudo useradd -m -d /home/aquarius -s /bin/bash aquarius\n",
    "    4. set passwords\n",
    "        - polaris == password\n",
    "        - antares == password\n",
    "        - aquarius == password\n",
    "    5. install and configure apache (or nginx). Optional but useful to secure the proxy\n",
    "        - sudo apt install apache2\n",
    "        - sudo systemctl status apache2\n",
    "        - sudo systemctl stop apache2\n",
    "    6. install and configure **JupyterHub**\n",
    "        - sudo apt install -y python3-pip\n",
    "        - sudo apt install -y build-essential libssl-dev libffi-dev python3-dev\n",
    "        - sudo apt-get install python3-venv\n",
    "        - sudo python3 -m venv /opt/jupyterhub/\n",
    "        - sudo apt install nodejs npm\n",
    "        - sudo npm install -g configurable-http-proxy\n",
    "        - sudo /opt/jupyterhub/bin/python3 -m pip install wheel\n",
    "        - sudo /opt/jupyterhub/bin/python3 -m pip install jupyterhub jupyterlab\n",
    "        - sudo /opt/jupyterhub/bin/python3 -m pip install ipywidgets\n",
    "        - sudo mkdir -p /opt/jupyterhub/etc/jupyterhub/\n",
    "        - cd /opt/jupyterhub/etc/jupyterhub/\n",
    "        - sudo /opt/jupyterhub/bin/jupyterhub --generate-config\n",
    "2. Configure the JupyterHub\n",
    "    7. Edit the config file just created and make change to `\"c.Spawner.default_url = '/lab'\"`\n",
    "    8. Set up as a system service\n",
    "         - sudo mkdir -p /opt/jupyterhub/etc/systemd\n",
    "         - sudo nano /opt/jupyterhub/etc/systemd/jupyterhub.service\n",
    "    9. Edit the jupyterhub.service file just opened in nano\n",
    "\n",
    "        - ADD:\n",
    "        \n",
    "[Unit]\\\n",
    "Description=JupyterHub\\\n",
    "After=syslog.target network.target\n",
    "\n",
    "[Service]\\\n",
    "User=root\\\n",
    "Environment=\"PATH=/bin:/usr/local/sbin:/usr/local/bin:/usr/sbin:/usr/bin:/opt/jupyterhub/bin\"\\\n",
    "ExecStart=/opt/jupyterhub/bin/jupyterhub -f /opt/jupyterhub/etc/jupyterhub/jupyterhub_config.py\n",
    "\n",
    "[Install]\\\n",
    "WantedBy=multi-user.target"
   ]
  },
  {
   "cell_type": "markdown",
   "metadata": {},
   "source": [
    "3. Link the service definition file to system;enable the service\n",
    "    - sudo ln -s /opt/jupyterhub/etc/systemd/jupyterhub.service /etc/systemd/system/jupyterhub.service\n",
    "    - sudo systemctl daemon-reload\n",
    "    - sudo systemctl enable jupyterhub.service\n",
    "    - sudo systemctl status jupyterhub.service\n",
    "    - sudo systemctl start jupyterhub.service\n",
    "\n",
    "4. enable https\n",
    "    1. sudo openssl req -x509 -nodes -days 365 -newkey rsa:2048 -keyout /etc/ssl/private/apache-selfsigned.key -out /etc/ssl/certs/apache-selfsigned.crt\n",
    "    2. SSLCertificateFile      /etc/ssl/certs/apache-selfsigned.crt\n",
    "    3. SSLCertificateKeyFile /etc/ssl/private/apache-selfsigned.key\n",
    "\n",
    "5. Restart everything\n",
    "    - sudo systemctl restart apache2.service\n",
    "    - sudo systemctl restart jupyterhub.service"
   ]
  },
  {
   "cell_type": "markdown",
   "metadata": {},
   "source": [
    "If you like to tinker, you would have a functioning JupyterHub that you can share.  The above also works for x86-64 linux builds; although if you are on x86-64, I would just use the anaconda for linux files."
   ]
  },
  {
   "cell_type": "code",
   "execution_count": null,
   "metadata": {},
   "outputs": [],
   "source": []
  }
 ],
 "metadata": {
  "kernelspec": {
   "display_name": "Python 3",
   "language": "python",
   "name": "python3"
  },
  "language_info": {
   "codemirror_mode": {
    "name": "ipython",
    "version": 3
   },
   "file_extension": ".py",
   "mimetype": "text/x-python",
   "name": "python",
   "nbconvert_exporter": "python",
   "pygments_lexer": "ipython3",
   "version": "3.8.5"
  }
 },
 "nbformat": 4,
 "nbformat_minor": 4
}
