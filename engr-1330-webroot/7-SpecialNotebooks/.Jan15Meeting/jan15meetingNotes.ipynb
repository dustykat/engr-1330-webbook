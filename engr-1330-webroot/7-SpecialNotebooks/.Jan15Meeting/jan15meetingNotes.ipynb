{
 "cells": [
  {
   "cell_type": "markdown",
   "metadata": {},
   "source": [
    "#  \n",
    "Need to rework the schedule for the Spring semester\n",
    "    - Exam Weeks\n",
    "Need to incorporate any new information that has come from Dr. Hernandez regarding COVID\n",
    "    - Syllabus content update \n",
    "Need to write down:\n",
    "- What changes you will make in the Spring semester to incorporate more CT with DS in the place of some Python\n",
    "    - Thematically incorporate algorithmic, data science, computational thinking with **explicit examples**\n",
    "    - Show how to accomplish task in natural language then show python implemntation\n",
    "    - Problem solving should be problem driven; come up with a recipe to solve, then python is TOOL to solve the problem.\n",
    "        - Ideas how to solve problems\n",
    "        - Show organized approaches to problem solving\n",
    "        - Diagnosis of errors\n",
    "        - Verify success\n",
    "\n",
    "- What Python tools/editors/environments/etc. were used during the Fall but will not be used during the Spring\n",
    "    - No CoClac (its dead to us!)\n",
    "    - Google Collab for when Anaconda not working for a student.\n",
    "    - Use html2pdf.com as needed (video link to demo)\n",
    "    - Standardize on OneDrive for inter-team sharing\n",
    "    - F2F and Hybrid sections need to redistribute 15% same allocation all sections\n",
    "    - Explore nbgrader\n",
    "    - Structure Lab+homework = 30% (instructor/ta flexibility)\n",
    "\n",
    "-Describe and then document how the end of the Spring semester will be different than the end of the Fall semester.\n",
    "This was discussed during the post-semester wrap-up but you need to write it down\n",
    "- Other items\n",
    "Standing instructor meeting Wednesday 5:00pm \n",
    "Communication direct TA/Instructors as needed. "
   ]
  },
  {
   "cell_type": "code",
   "execution_count": null,
   "metadata": {},
   "outputs": [],
   "source": []
  }
 ],
 "metadata": {
  "kernelspec": {
   "display_name": "Python 3",
   "language": "python",
   "name": "python3"
  },
  "language_info": {
   "codemirror_mode": {
    "name": "ipython",
    "version": 3
   },
   "file_extension": ".py",
   "mimetype": "text/x-python",
   "name": "python",
   "nbconvert_exporter": "python",
   "pygments_lexer": "ipython3",
   "version": "3.8.5"
  }
 },
 "nbformat": 4,
 "nbformat_minor": 4
}
