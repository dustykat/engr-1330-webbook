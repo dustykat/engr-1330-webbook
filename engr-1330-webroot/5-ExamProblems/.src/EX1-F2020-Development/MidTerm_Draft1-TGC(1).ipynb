{
 "cells": [
  {
   "cell_type": "markdown",
   "metadata": {},
   "source": [
    "## In Class Part"
   ]
  },
  {
   "cell_type": "markdown",
   "metadata": {},
   "source": [
    "#### Q1: What does this statement represent: \"x//y\" ?\n",
    "**A) Divides value in x by value in y**<br>\n",
    "**B) Divides value in x by value in y, truncate result to whole number**<br>\n",
    "**C) Returns remainder when value in x is divided by value in y**<br>\n",
    "**D) Raises value in x by value in y**<br>"
   ]
  },
  {
   "cell_type": "markdown",
   "metadata": {},
   "source": [
    "#### Q2: x*=3 is equivalent to ?\n",
    "**A) x = x+3**<br>\n",
    "**B) x = x*3**<br>\n",
    "__C) x = x**3__<br>\n",
    "**D) x = x/3**<br>"
   ]
  },
  {
   "cell_type": "markdown",
   "metadata": {},
   "source": [
    "#### Q3: Which function can be used to convert an integer to a float ?\n",
    "**A) int()**<br>\n",
    "**B) float()**<br>\n",
    "__C) hex()__<br>\n",
    "**D) type()**<br>"
   ]
  },
  {
   "cell_type": "markdown",
   "metadata": {},
   "source": [
    "#### Q4: Python does not allow users to have integers, floats, and strings in the same list.\n",
    "**A) TRUE**<br>\n",
    "**B) FALSE**<br>"
   ]
  },
  {
   "cell_type": "markdown",
   "metadata": {},
   "source": [
    "#### Q5: What is the difference between a list and a tuple?\n",
    "**A) a list can only hold one type of objects**<br>\n",
    "**B) a tuple cannot hold strings**<br>\n",
    "__C) a list cannot be changed once defined__<br>\n",
    "**D) a tuple cannot be changed once defined**<br>"
   ]
  },
  {
   "cell_type": "markdown",
   "metadata": {},
   "source": [
    "#### Q6: In a dictionary, the first item in each pair is called the_________ and the second item is the ______.\n",
    "**A) counter , object**<br>\n",
    "**B) object , counter**<br>\n",
    "__C) key , data__<br>\n",
    "**D) data , key**<br>"
   ]
  },
  {
   "cell_type": "markdown",
   "metadata": {},
   "source": [
    "#### Q7: In a dictionary, the key should be unique.\n",
    "**A) TRUE**<br>\n",
    "**B) FALSE**<br>"
   ]
  },
  {
   "cell_type": "markdown",
   "metadata": {},
   "source": [
    "#### Q8: The data associated with a key in a dictionary, cannot contain a list.\n",
    "**A) TRUE**<br>\n",
    "**B) FALSE**<br>"
   ]
  },
  {
   "cell_type": "markdown",
   "metadata": {},
   "source": [
    "#### Q9: Which scoping delimiter can be used to define a dictionary?\n",
    "**A) ()**<br>\n",
    "**B) {}**<br>\n",
    "__C) []__<br>\n",
    "**D) <>**<br>"
   ]
  },
  {
   "cell_type": "markdown",
   "metadata": {},
   "source": [
    "#### Q10: Under what condition will an \"or\" statement return a FALSE?\n",
    "**A) If and only if all conditions are False**<br>\n",
    "**B) If one of the conditions is false**<br>\n",
    "__C) If the conditions cannot be true together__<br>\n",
    "**D) The \"or\" statement will never returns a False**<br>"
   ]
  },
  {
   "cell_type": "markdown",
   "metadata": {},
   "source": [
    "#### Q11: Python uses indentation to ... \n",
    "**A) Provide easier readability**<br>\n",
    "**B) Separate \"FOR loops\" from other forms of syntax**<br>\n",
    "__C) Isolate blocks of code__<br>\n",
    "**D) Repel the weak from programming!**<br>"
   ]
  },
  {
   "cell_type": "markdown",
   "metadata": {},
   "source": [
    "#### Q12: Which one is the correct syntax for Inline `if` statement?\n",
    "**A) `if` condition is TRUE do TaskA  `elif` do TaskB**<br>\n",
    "**B) do TaskA `if` condition is TRUE `elif` do TaskB**<br>\n",
    "__C) `if` condition is TRUE do TaskA  `else` do TaskB__<br>\n",
    "**D) do TaskA `if` condition is TRUE `else` do TaskB**<br>\n",
    "\n"
   ]
  },
  {
   "cell_type": "markdown",
   "metadata": {},
   "source": [
    "#### Q13: What is the difference between count-controlled and sentinel-controlled repetition?\n",
    "**A) In count-controlled repetition, the number of iterations is known prior to definition of the loop**<br>\n",
    "**B) In sentinel-controlled repetition, the number of iterations is known prior to definition of the loop**<br>\n",
    "__C) Count-controlled repetition is faster than sentinel-controlled repetition__<br>\n",
    "**D) Sentinel-controlled repetition is faster than count-controlled repetition**<br>"
   ]
  },
  {
   "cell_type": "markdown",
   "metadata": {},
   "source": [
    "#### Q14: Count-controlled repetition requires\n",
    "\n",
    "**A) control variable (or loop counter)**<br>\n",
    "**B) initial value of the control variable**<br>\n",
    "__C) increment (or decrement) by which the control variable is modified each iteration through the loop__<br>\n",
    "**D) All of the above**<br>"
   ]
  },
  {
   "cell_type": "markdown",
   "metadata": {},
   "source": [
    "#### Q15: Which one is true about the range() function?\n",
    "**A) The syntax is (start,increment,number of steps)**<br>\n",
    "**B) Can only be used in combination with \"For loops\"**<br>\n",
    "__C) Does not work with float objects__<br>\n",
    "**D) Can produce sequences with inconsistant increments**<br>"
   ]
  },
  {
   "cell_type": "markdown",
   "metadata": {},
   "source": [
    "#### Q16: Which one is correct about the break statement?\n",
    "**A) The break statement terminates the current loop and resumes execution at the next statement outside the current loop**<br>\n",
    "**B) The break statement can only be used with \"While loops\"**<br>\n",
    "__C) The break statement can only be used with \"For loops\"__<br>\n",
    "**D) The break statement is a necessary part of count-controlled repetition**<br>"
   ]
  },
  {
   "cell_type": "markdown",
   "metadata": {},
   "source": [
    "#### Q17: Which statement is true about the try, except structure?\n",
    "**A) It is a control structure**<br>\n",
    "**B) It is  useful to trap likely errors**<br>\n",
    "__C) It allows the user to set specific instruction in case of an exception__<br>\n",
    "**D) All of the above**<br>"
   ]
  },
  {
   "cell_type": "markdown",
   "metadata": {},
   "source": [
    "#### Q18: Which one is not a built-in Python function?\n",
    "**A) print()**<br>\n",
    "**B) math.exp()**<br>\n",
    "__C) float()__<br>\n",
    "**D) dict()**<br>"
   ]
  },
  {
   "cell_type": "markdown",
   "metadata": {},
   "source": [
    "#### Q19: Which statement is true about user-built functions?\n",
    "**A) The keyword return must be followed by a string**<br>\n",
    "**B) There can be multiple return statements in a function**<br>\n",
    "__C) The keyword return cannot be omitted from the function definition__<br>\n",
    "**D) All of the above**<br>\n",
    "\n"
   ]
  },
  {
   "cell_type": "markdown",
   "metadata": {},
   "source": [
    "#### Q20: Which one is NOT true about local and program variables?\n",
    "**A) Any variable declared within a function is a local variable**<br>\n",
    "**B) Any variable declared outside a function is known as a program variable**<br>\n",
    "__C) A local variable cannot be accessed outside its function__<br>\n",
    "**D) A program variable cannot be used in a function**<br>"
   ]
  },
  {
   "cell_type": "markdown",
   "metadata": {},
   "source": [
    "#### Q21: The script below is intended to print out all the leap years from 1952 to 1996 (inclusive). However, the programmer keeps getting an error and has become frustrated with it! Please have a look at the code, the error(s), and the output and fix it so that it does what the user wants. Then, explain what was wrong with the script and how you have managed to fix it.  "
   ]
  },
  {
   "cell_type": "code",
   "execution_count": 3,
   "metadata": {
    "collapsed": false,
    "jupyter": {
     "outputs_hidden": false
    }
   },
   "outputs": [
    {
     "ename": "TypeError",
     "evalue": "'float' object cannot be interpreted as an integer",
     "output_type": "error",
     "traceback": [
      "\u001b[0;31m---------------------------------------------------------------------------\u001b[0m",
      "\u001b[0;31mTypeError\u001b[0m                                 Traceback (most recent call last)",
      "\u001b[0;32m<ipython-input-3-d7c12f7d99fa>\u001b[0m in \u001b[0;36m<module>\u001b[0;34m\u001b[0m\n\u001b[0;32m----> 1\u001b[0;31m \u001b[0;32mfor\u001b[0m \u001b[0myears\u001b[0m \u001b[0;32min\u001b[0m \u001b[0mrange\u001b[0m\u001b[0;34m(\u001b[0m\u001b[0;36m1952\u001b[0m\u001b[0;34m,\u001b[0m\u001b[0;36m1996\u001b[0m\u001b[0;34m,\u001b[0m\u001b[0;36m4.0\u001b[0m\u001b[0;34m)\u001b[0m\u001b[0;34m:\u001b[0m\u001b[0;34m\u001b[0m\u001b[0;34m\u001b[0m\u001b[0m\n\u001b[0m\u001b[1;32m      2\u001b[0m   \u001b[0mprint\u001b[0m\u001b[0;34m(\u001b[0m\u001b[0myears\u001b[0m\u001b[0;34m)\u001b[0m\u001b[0;34m\u001b[0m\u001b[0;34m\u001b[0m\u001b[0m\n",
      "\u001b[0;31mTypeError\u001b[0m: 'float' object cannot be interpreted as an integer"
     ]
    }
   ],
   "source": [
    "for years in range(1952,1996,4.0): \n",
    "  print(years)"
   ]
  },
  {
   "cell_type": "markdown",
   "metadata": {},
   "source": [
    "#### Explain the diagnosis and the way you fixed it:"
   ]
  },
  {
   "cell_type": "markdown",
   "metadata": {},
   "source": [
    "#### Q22: The script below is intended to compute the cosine of values from 0 to 10 (inclusive), store them in a separate list called ylist, and ultimately print out a table. However, the programmer keeps getting an error and has become frustrated with it! Please have a look at the code, the error(s), and the output and fix it so that it does what the user wants. Then, explain what was wrong with the script and how you have managed to fix it."
   ]
  },
  {
   "cell_type": "code",
   "execution_count": 7,
   "metadata": {
    "collapsed": false,
    "jupyter": {
     "outputs_hidden": false
    }
   },
   "outputs": [
    {
     "name": "stdout",
     "output_type": "stream",
     "text": [
      "     Cosines     \n",
      "   x    |  cos(x) \n",
      "--------|--------\n"
     ]
    },
    {
     "ename": "AttributeError",
     "evalue": "'tuple' object has no attribute 'append'",
     "output_type": "error",
     "traceback": [
      "\u001b[0;31m---------------------------------------------------------------------------\u001b[0m",
      "\u001b[0;31mAttributeError\u001b[0m                            Traceback (most recent call last)",
      "\u001b[0;32m<ipython-input-7-07d3d368a680>\u001b[0m in \u001b[0;36m<module>\u001b[0;34m\u001b[0m\n\u001b[1;32m      7\u001b[0m \u001b[0;34m\u001b[0m\u001b[0m\n\u001b[1;32m      8\u001b[0m \u001b[0;32mfor\u001b[0m \u001b[0mx\u001b[0m \u001b[0;32min\u001b[0m \u001b[0mrange\u001b[0m\u001b[0;34m(\u001b[0m\u001b[0;36m0\u001b[0m\u001b[0;34m,\u001b[0m\u001b[0;36m10\u001b[0m\u001b[0;34m)\u001b[0m\u001b[0;34m:\u001b[0m\u001b[0;34m\u001b[0m\u001b[0;34m\u001b[0m\u001b[0m\n\u001b[0;32m----> 9\u001b[0;31m     \u001b[0mxlist\u001b[0m\u001b[0;34m.\u001b[0m\u001b[0mappend\u001b[0m\u001b[0;34m(\u001b[0m\u001b[0mx\u001b[0m\u001b[0;34m*\u001b[0m\u001b[0;36m1.0\u001b[0m\u001b[0;34m)\u001b[0m\u001b[0;34m\u001b[0m\u001b[0;34m\u001b[0m\u001b[0m\n\u001b[0m\u001b[1;32m     10\u001b[0m     \u001b[0mylist\u001b[0m\u001b[0;34m.\u001b[0m\u001b[0mappend\u001b[0m\u001b[0;34m(\u001b[0m\u001b[0mmath\u001b[0m\u001b[0;34m.\u001b[0m\u001b[0mcos\u001b[0m\u001b[0;34m(\u001b[0m\u001b[0mx\u001b[0m\u001b[0;34m*\u001b[0m\u001b[0;36m1.0\u001b[0m\u001b[0;34m)\u001b[0m\u001b[0;34m)\u001b[0m\u001b[0;34m\u001b[0m\u001b[0;34m\u001b[0m\u001b[0m\n\u001b[1;32m     11\u001b[0m     \u001b[0mprint\u001b[0m\u001b[0;34m(\u001b[0m\u001b[0;34m\"%.3f\"\u001b[0m \u001b[0;34m%\u001b[0m \u001b[0mxlist\u001b[0m\u001b[0;34m[\u001b[0m\u001b[0mx\u001b[0m\u001b[0;34m]\u001b[0m\u001b[0;34m,\u001b[0m \u001b[0;34m\"  |\"\u001b[0m\u001b[0;34m,\u001b[0m \u001b[0;34m\" %.2f \"\u001b[0m  \u001b[0;34m%\u001b[0m \u001b[0mylist\u001b[0m\u001b[0;34m[\u001b[0m\u001b[0mx\u001b[0m\u001b[0;34m]\u001b[0m\u001b[0;34m)\u001b[0m\u001b[0;34m\u001b[0m\u001b[0;34m\u001b[0m\u001b[0m\n",
      "\u001b[0;31mAttributeError\u001b[0m: 'tuple' object has no attribute 'append'"
     ]
    }
   ],
   "source": [
    "xlist = ()\n",
    "ylist = ()\n",
    "\n",
    "print(\"     Cosines     \")\n",
    "print(\"   x   \",\"|\",\" cos(x) \")\n",
    "print(\"--------|--------\")\n",
    "\n",
    "for x in range(0,10):\n",
    "    xlist.append(x*1.0)\n",
    "    ylist.append(math.cos(x*1.0))\n",
    "    print(\"%.3f\" % xlist[x], \"  |\", \" %.2f \"  % ylist[x])"
   ]
  },
  {
   "cell_type": "code",
   "execution_count": 8,
   "metadata": {},
   "outputs": [],
   "source": []
  },
  {
   "cell_type": "markdown",
   "metadata": {},
   "source": [
    "****************************************************************************************************************"
   ]
  },
  {
   "cell_type": "markdown",
   "metadata": {},
   "source": [
    "#########################################################################################################"
   ]
  },
  {
   "cell_type": "markdown",
   "metadata": {},
   "source": [
    "****************************************************************************************************************"
   ]
  },
  {
   "cell_type": "markdown",
   "metadata": {},
   "source": [
    "## Take Home Part"
   ]
  },
  {
   "cell_type": "markdown",
   "metadata": {},
   "source": [
    "#### Question 2: Follow the steps below. Add comments to your script and signify when each step and each task is done. *hint: For this problem you will need the numpy and pandas libraries.\n",
    "- __STEP1: There are 8 digits in your R#. Define a 2x4 array with these 8 digits, name it \"Rarray\", and print it__\n",
    "- __STEP2: Find the maximum value of the \"Rarray\" and its position__\n",
    "- __STEP3: Sort the \"Rarray\" along the rows, store it in a new array named \"Rarraysort\", and print the new array out__\n",
    "- __STEP4: Define and print a 4x4 array that has the \"Rarray\" as its two first rows, and \"Rarraysort\" as its next rows. Name this new array \"DoubleRarray\"__\n",
    "- __STEP5: Slice and print a 4x3 array from the \"DoubleRarray\" that contains the last three columns of it. Name this new array \"SliceRarray\".__\n",
    "- __STEP6: Define the \"SliceRarray\" as a panda dataframe:__\n",
    "    - name it \"Rdataframe\",\n",
    "    - name the rows as \"Row A\",\"Row B\",\"Row C\", and \"Row D\"\n",
    "    - name the columns as \"Column 1\", \"Column 2\", and \"Column 3\"\n",
    "- __STEP7: Print  the first few rows of the \"Rdataframe\".__\n",
    "- __STEP8: Create a new dataframe object (\"R2dataframe\") by adding a column to the \"Rdataframe\", name it \"Column X\" and fill it with \"None\" values. Then, use the appropriate descriptor function and print the data model (data column count, names, data types) of the \"R2dataframe\"__\n",
    "- __STEP9: Replace the **'None'** in the \"R2dataframe\" with 0. Then, print the summary statistics of each numeric column in the data frame.__\n",
    "- __STEP10: Define a function based on the equation below, apply on the entire \"R2dataframe\", store the results in a new dataframe (\"R3dataframe\"), and print the results and the summary statistics again.__  \n",
    "$$ y = x^2 - 5x +7 $$\n",
    "- __STEP11: Print the number of occurrences of each unique value in \"Column 3\"__\n",
    "- __STEP12: Sort the data frame with respect to \"Column 1\" with a descending order and print it__\n",
    "- __STEP13: Write the final format of the \"R3dataframe\" on a CSV file, named \"Rfile.csv\"__\n",
    "- __STEP14: Read the \"Rfile.csv\" and print its content.__<br>\n",
    "** __Make sure to attach the \"Rfile.csv\" file to your midterm exam submission.__\n",
    "\n"
   ]
  },
  {
   "cell_type": "code",
   "execution_count": 10,
   "metadata": {
    "collapsed": false,
    "jupyter": {
     "outputs_hidden": false
    }
   },
   "outputs": [
    {
     "name": "stdout",
     "output_type": "stream",
     "text": [
      "[[1 6 7 4]\n",
      " [5 2 3 8]]\n",
      "8\n",
      "7\n",
      "[[1 4 6 7]\n",
      " [2 3 5 8]]\n",
      "[[1 6 7 4]\n",
      " [5 2 3 8]\n",
      " [1 4 6 7]\n",
      " [2 3 5 8]]\n",
      "[[6 7 4]\n",
      " [2 3 8]\n",
      " [4 6 7]\n",
      " [3 5 8]]\n",
      "       Column 1  Column 2  Column 3\n",
      "Row A         6         7         4\n",
      "Row B         2         3         8\n",
      "Row C         4         6         7\n",
      "Row D         3         5         8\n",
      "<class 'pandas.core.frame.DataFrame'>\n",
      "Index: 4 entries, Row A to Row D\n",
      "Data columns (total 4 columns):\n",
      " #   Column    Non-Null Count  Dtype \n",
      "---  ------    --------------  ----- \n",
      " 0   Column 1  4 non-null      int64 \n",
      " 1   Column 2  4 non-null      int64 \n",
      " 2   Column 3  4 non-null      int64 \n",
      " 3   Column X  0 non-null      object\n",
      "dtypes: int64(3), object(1)\n",
      "memory usage: 160.0+ bytes\n",
      "None\n",
      "       Column 1  Column 2  Column 3  Column X\n",
      "count  4.000000  4.000000  4.000000       4.0\n",
      "mean   3.750000  5.250000  6.750000       0.0\n",
      "std    1.707825  1.707825  1.892969       0.0\n",
      "min    2.000000  3.000000  4.000000       0.0\n",
      "25%    2.750000  4.500000  6.250000       0.0\n",
      "50%    3.500000  5.500000  7.500000       0.0\n",
      "75%    4.500000  6.250000  8.000000       0.0\n",
      "max    6.000000  7.000000  8.000000       0.0\n",
      "       Column 1  Column 2  Column 3  Column X\n",
      "Row A       -17       -14       -17         7\n",
      "Row B        -9       -14        -9         7\n",
      "Row C       -17       -17       -14         7\n",
      "Row D       -14       -18        -9         7\n",
      "        Column 1   Column 2   Column 3  Column X\n",
      "count   4.000000   4.000000   4.000000       4.0\n",
      "mean  -14.250000 -15.750000 -12.250000       7.0\n",
      "std     3.774917   2.061553   3.947573       0.0\n",
      "min   -17.000000 -18.000000 -17.000000       7.0\n",
      "25%   -17.000000 -17.250000 -14.750000       7.0\n",
      "50%   -15.500000 -15.500000 -11.500000       7.0\n",
      "75%   -12.750000 -14.000000  -9.000000       7.0\n",
      "max    -9.000000 -14.000000  -9.000000       7.0\n",
      "-9     2\n",
      "-14    1\n",
      "-17    1\n",
      "Name: Column 3, dtype: int64\n",
      "       Column 1  Column 2  Column 3  Column X\n",
      "Row B        -9       -14        -9         7\n",
      "Row D       -14       -18        -9         7\n",
      "Row A       -17       -14       -17         7\n",
      "Row C       -17       -17       -14         7\n",
      "  Unnamed: 0  Column 1  Column 2  Column 3  Column X\n",
      "0      Row A       -17       -14       -17         7\n",
      "1      Row B        -9       -14        -9         7\n",
      "2      Row C       -17       -17       -14         7\n",
      "3      Row D       -14       -18        -9         7\n"
     ]
    }
   ],
   "source": [
    "#Suggested Solution:\n",
    "\n",
    "#Step0:\n",
    "import numpy as np\n",
    "import pandas as pd\n",
    "#Step1:\n",
    "Rarray = np.array([[1,6,7,4],[5,2,3,8]])     #Define Rarray\n",
    "print(Rarray)\n",
    "#Step2:\n",
    "print(np.max(Rarray))          #Find the maximum Value\n",
    "print(np.argmax(Rarray))       #Find the posirtion of the maximum value\n",
    "#Step3:\n",
    "Rarraysort = np.sort(Rarray,axis = 1) #Sort Rarray along the rows and define a new array\n",
    "print(Rarraysort)          \n",
    "#Step4:\n",
    "DoubleRarray = np.array([[1,6,7,4],[5,2,3,8],[1,4,6,7],[2,3,5,8]])     #Define DoubleRarray\n",
    "print(DoubleRarray)\n",
    "#Step5:\n",
    "SliceRarray = DoubleRarray[0:4,1:4]     #Slice DoubleRarray and Define SliceRarray\n",
    "print(SliceRarray)\n",
    "#Step6:\n",
    "myrowname = [\"Row A\",\"Row B\",\"Row C\",\"Row D\"]\n",
    "mycolname = [\"Column 1\", \"Column 2\",\"Column 3\"]\n",
    "Rdataframe = pd.DataFrame(SliceRarray,myrowname,mycolname)     #Define Rdataframe\n",
    "#Step7:\n",
    "print(Rdataframe.head())     #Print the first few rows of the Rdataframe\n",
    "#Step8:\n",
    "Rdataframe['Column X']= None     #Add a new column, \"Column X\"\n",
    "R2dataframe = Rdataframe         #Define R2dataframe\n",
    "print(R2dataframe.info())               #Get the info\n",
    "#Step9:\n",
    "R2dataframe = R2dataframe.fillna(0)     #Replace NAs with 0\n",
    "print(R2dataframe.describe())                 #Get the summary statistics\n",
    "#Step10:\n",
    "def myfunc(x):  # A user-built function\n",
    "    y = (x**2) - (10*x) +7\n",
    "    return(y)\n",
    "R3dataframe = R2dataframe.apply(myfunc)     #Apply the function on the entire R2dataframe\n",
    "print(R3dataframe)\n",
    "print(R3dataframe.describe())\n",
    "#Step11:\n",
    "print(R3dataframe['Column 3'].value_counts())  #Returns the number of occurences of each unique value in Column 3\n",
    "#Step12:\n",
    "print(R3dataframe.sort_values('Column 1', ascending = False)) #Sorting based on Column 1\n",
    "#Step13:\n",
    "R3dataframe.to_csv('Rfile.csv')     #Write R3dataframe on a CSV file\n",
    "#Step14:\n",
    "readfilecsv = pd.read_csv('Rfile.csv') #Read the Rfile.csv\n",
    "print(readfilecsv)         #Print the contents of the Rfile.csv"
   ]
  },
  {
   "cell_type": "markdown",
   "metadata": {},
   "source": [
    "### Question3:\n",
    "__create a class to compute the average grade (out of 10) of the students based on their grades in Quiz1, Quiz2, the Mid-term, Quiz3, and the Final exam.__\n",
    "\n",
    "| Student Name  |   Quiz 1   |   Quiz 2   |   Mid-term   |   Quiz 3   |  Final Exam  |\n",
    "| ------------- | -----------| -----------| -------------| -----------| -------------|\n",
    "| Harry         | 8          | 9          | 8            | 10         | 9            |\n",
    "| Ron           | 7          | 8          | 8            | 7          | 9            |\n",
    "| Hermione      | 10         | 10         | 9            | 10         | 10           |\n",
    "| Draco         | 8          | 7          | 9            | 8          | 9            |\n",
    "| Luna          | 9          | 8          | 7            | 6          | 5            |\n",
    "\n",
    "1. __Use docstrings to describe the purpose of the class.__\n",
    "2. __Create an object for each car brand and display the output as shown below.__\n",
    "\n",
    "\"Student Name\": **Average Grade**  \n",
    "\n",
    "3. __Create and print out a dictionary with the student names as keys and their average grades as data.__\n"
   ]
  },
  {
   "cell_type": "code",
   "execution_count": 42,
   "metadata": {
    "collapsed": false,
    "jupyter": {
     "outputs_hidden": false
    }
   },
   "outputs": [
    {
     "name": "stdout",
     "output_type": "stream",
     "text": [
      "Harry 8.8\n",
      "Ron 7.8\n",
      "Hermione 9.8\n",
      "Draco 8.2\n",
      "Luna 7.0\n",
      "{'Harry': 8.8, 'Ron': 7.8, 'Hermione': 9.8, 'Draco': 8.2, 'Luna': 7.0}\n"
     ]
    }
   ],
   "source": [
    "#Suggested Solution:\n",
    "\n",
    "class Hogwarts:\n",
    "    \"\"\"This class calculates the average grade of the students\"\"\"\n",
    "    def __init__(self, Name,Quiz1,Quiz2,MidTerm,Quiz3,Final):\n",
    "        self.Name = Name\n",
    "        self.Quiz1 = Quiz1\n",
    "        self.Quiz2 = Quiz2\n",
    "        self.MidTerm = MidTerm\n",
    "        self.Quiz3 = Quiz3\n",
    "        self.Final= Final\n",
    "        \n",
    "    def average(self):\n",
    "        return (self.Quiz1 + self.Quiz2 + self.MidTerm + self.Quiz3 + self.Final) /5\n",
    "\n",
    "\n",
    "S1 = Hogwarts('Harry',8,9,8,10,9)                      #Fill the instances\n",
    "S2 = Hogwarts('Ron',7,8,8,7,9)\n",
    "S3 = Hogwarts('Hermione',10,10,9,10,10)\n",
    "S4 = Hogwarts('Draco',8,7,9,8,9)\n",
    "S5 = Hogwarts('Luna',9,8,7,6,5)\n",
    "\n",
    "print(\"Harry\", S1.average())\n",
    "print(\"Ron\", S2.average())\n",
    "print(\"Hermione\", S3.average())\n",
    "print(\"Draco\", S4.average())\n",
    "print(\"Luna\", S5.average())\n",
    "\n",
    "GradeDict = {\"Harry\":S1.average(),\"Ron\":S2.average(),\"Hermione\":S3.average(),\"Draco\":S4.average(),\"Luna\":S5.average()}\n",
    "print(GradeDict)"
   ]
  },
  {
   "cell_type": "markdown",
   "metadata": {},
   "source": [
    "#### Question 4:\n",
    "- __When it is 8:00 in Lubbock,__\n",
    "    - __It is 9:00 in New York__\n",
    "    - __It is 14:00 in London__\n",
    "    - __It is 15:00 in Cairo__\n",
    "    - __It is 16:00 in Istanbul__\n",
    "    - __It is 19:00 in Hyderabad__\n",
    "    - __It is 22:00 in Tokyo__ <br>\n",
    "\n",
    "__Write a function that reports the time in New York, London, Cairo, Istanbul, Hyderabad, and Tokyo based on the time in Lubbock. Use a 24-hour time format. Include error trapping that:__<br>\n",
    "\n",
    "1- Issues a message like \"Please Enter A Number from 00 to 23\" if the first input is numeric but outside the range of [0,23].<br>\n",
    "2- Takes any numeric input for \"Lubbock time\" selection , and forces it into an integer.<br>\n",
    "3- Issues an appropriate message if the user's selection is non-numeric.<br>\n",
    "\n",
    "__Check your function for these times:__\n",
    "- 8:00\n",
    "- 17:00\n",
    "- 0:00"
   ]
  },
  {
   "cell_type": "code",
   "execution_count": 29,
   "metadata": {
    "collapsed": false,
    "jupyter": {
     "outputs_hidden": false
    }
   },
   "outputs": [],
   "source": [
    "#Suggested Solution:\n",
    "\n",
    "def LBBtime():\n",
    "    try:\n",
    "        LBK = int(input('What hour is it in Lubbock?- Please enter a number from 0 to 23'))\n",
    "        if LBK>23:\n",
    "            print('Please Enter A Number from 00 to 23')\n",
    "        if LBK<23 and LBK>=0:\n",
    "            print(\"Time in New York is\",LBK+1,\":00\")\n",
    "            print(\"Time in London is\",LBK+6,\":00\")\n",
    "            print(\"Time in Cairo is\",LBK+7,\":00\")\n",
    "            print(\"Time in Istanbul is\",LBK+8,\":00\")\n",
    "            print(\"Time in Hyderabad is\",LBK+11,\":00\")\n",
    "            print(\"Time in Tokyo is\",LBK+14,\":00\")\n",
    "            return #null return\n",
    "    except:\n",
    "        print(\"Please Enter an Appropriate Input\")"
   ]
  },
  {
   "cell_type": "code",
   "execution_count": 32,
   "metadata": {
    "cocalc": {
     "outputs": {
      "0": {
       "name": "input",
       "opts": {
        "password": false,
        "prompt": "What hour is it in Lubbock?- Please enter a number from 0 to 23"
       },
       "output_type": "stream",
       "value": "Tokyo"
      }
     }
    },
    "collapsed": false,
    "jupyter": {
     "outputs_hidden": false
    }
   },
   "outputs": [
    {
     "name": "stdout",
     "output_type": "stream",
     "text": [
      "What hour is it in Lubbock?- Please enter a number from 0 to 23 TokyoPlease Enter an Appropriate Input\n"
     ]
    }
   ],
   "source": [
    "LBBtime()"
   ]
  },
  {
   "cell_type": "markdown",
   "metadata": {},
   "source": [
    "### Bonus Question for extra credit!\n",
    "#### Write the VOLUME Function to compute the volume of Cylinders, Spheres, Cones, and Rectangular Boxes. This function should:\n",
    "- First, ask the user about __the shape of the object__ of interest using this statement:<br>\n",
    "*\"Please choose the shape of the object. Enter 1 for \"Cylinder\", 2 for \"Sphere\", 3 for \"Cone\", or 4 for \"Rectangular Box\"\"*<br>\n",
    "- Second, based on user's choice in the previous step, __ask for the right inputs__.\n",
    "- Third, print out an statement with __the input values and the calculated volumes__.\n",
    "\n",
    "#### Include error trapping that:\n",
    "\n",
    "1. Issues a message that *\"The object should be either a Cylinder, a Sphere, a Cone, or a Rectangular Box. Please Enter A Number from 1,2,3, and 4!\"* if the first input is non-numeric.\n",
    "2. Takes any numeric input for the initial selection , and force it into an integer.\n",
    "4. Issues an appropriate message if the user's selection is numeric but outside the range of [1,4]\n",
    "3. Takes any numeric input for the shape characteristics , and force it into a float.\n",
    "4. Issues an appropriate message if the object characteristics are as non-numerics.\n",
    "\n",
    "#### Test the script for:\n",
    "1. __Sphere, r=10__\n",
    "2. __r=10 , Sphere__\n",
    "3. __Rectangular Box, w=5, h=10, l=0.5__\n",
    "\n",
    "\n",
    "- <font color=orange>__Volume of a Cylinder = πr²h__</font>\n",
    "- <font color=orange>__Volume of a Sphere = 4(πr3)/3__</font>\n",
    "- <font color=orange>__Volume of a Cone = (πr²h)/3__</font>\n",
    "- <font color=orange>__Volume of a Rectangular Box = whl__</font>"
   ]
  },
  {
   "cell_type": "code",
   "execution_count": 44,
   "metadata": {
    "collapsed": false,
    "jupyter": {
     "outputs_hidden": false
    }
   },
   "outputs": [],
   "source": [
    "#Suggested Solution:\n",
    "\n",
    "import numpy as np # import NumPy: for large, multi-dimensional arrays and matrices, along with  high-level mathematical functions to operate on these arrays.\n",
    "pi = np.pi #pi value from the np package\n",
    "\n",
    "def VOLUME():\n",
    "    try:\n",
    "        UI = input('Please choose the shape of the object. Enter 1 for \"Cylinder\", 2 for \"Sphere\", 3 for \"Cone\", or 4 for \"Rectangular Box\"')\n",
    "        UI =int(UI)\n",
    "        if UI==1:\n",
    "                try:\n",
    "                    UI2 = input('Please enter the radius of the Cylinder')\n",
    "                    r= float(UI2)\n",
    "                    UI3 = input('Please enter the height of the Cylinder')\n",
    "                    h= float(UI3)\n",
    "                    V= pi*h*r**2\n",
    "                    print(\"The volume of the Cylinder with the radius of \",r,\" and the height of \",h,\" is equal to\", V)\n",
    "                except:\n",
    "                    print(\"The radius and height of the Cylinder must be numerics. Please Try Again!\")\n",
    "        elif UI==2:\n",
    "                try:\n",
    "                    UI2 = input('Please enter the radius of the Sphere')\n",
    "                    r= float(UI2)\n",
    "                    V= (4*pi*r**3)/3\n",
    "                    print(\"The volume of the Sphere with the radius of \",r,\" is equal to\", V)\n",
    "                except:\n",
    "                    print(\"The radius of the Sphere must be numeric. Please Try Again!\")\n",
    "        elif UI==3:\n",
    "                try:\n",
    "                    UI2 = input('Please enter the radius of the Cone')\n",
    "                    r= float(UI2)\n",
    "                    UI3 = input('Please enter the height of the Cone')\n",
    "                    h= float(UI3)\n",
    "                    V= (pi*h*r**2)/3\n",
    "                    print(\"The volume of the Cone with the radius of \",r,\" and the height of \",h,\" is equal to\", V)\n",
    "                except:\n",
    "                    print(\"The radius and height of the Cone must be numerics. Please Try Again!\")\n",
    "        elif UI==4:\n",
    "                try:\n",
    "                    UI2 = input('Please enter the width of the Rectangular Box')\n",
    "                    w= float(UI2)\n",
    "                    UI3 = input('Please enter the height of the Rectangular Box')\n",
    "                    h= float(UI3)\n",
    "                    UI4 = input('Please enter the length of the Rectangular Box')\n",
    "                    l= float(UI4)\n",
    "                    V= w*h*l\n",
    "                    print(\"The volume of the Rectangular Box with the width of \",w,\" and the height of \",h,\" and the length of \",l,\" is equal to\", V)\n",
    "                except:\n",
    "                    print(\"The width, height, and length of the Rectangular Box must be numerics. Please Try Again!\")\n",
    "        else:\n",
    "            print(\"Please Enter A Number from 1,2,3, and 4!\")\n",
    "\n",
    "    except:\n",
    "        print(\"The object should be either a Cylinder, a Sphere, a Cone, or a Rectangular Box. Please Enter A Number from 1,2,3, and 4!\")\n",
    "\n",
    "\n",
    "\n"
   ]
  },
  {
   "cell_type": "code",
   "execution_count": 45,
   "metadata": {
    "cocalc": {
     "outputs": {
      "0": {
       "name": "input",
       "opts": {
        "password": false,
        "prompt": "Please choose the shape of the object. Enter 1 for \"Cylinder\", 2 for \"Sphere\", 3 for \"Cone\", or 4 for \"Rectangular Box\""
       },
       "output_type": "stream",
       "value": "4"
      },
      "1": {
       "name": "input",
       "opts": {
        "password": false,
        "prompt": "Please enter the width of the Rectangular Box"
       },
       "output_type": "stream",
       "value": "2"
      },
      "2": {
       "name": "input",
       "opts": {
        "password": false,
        "prompt": "Please enter the height of the Rectangular Box"
       },
       "output_type": "stream",
       "value": "5"
      },
      "3": {
       "name": "input",
       "opts": {
        "password": false,
        "prompt": "Please enter the length of the Rectangular Box"
       },
       "output_type": "stream",
       "value": "10"
      }
     }
    },
    "collapsed": false,
    "jupyter": {
     "outputs_hidden": false
    }
   },
   "outputs": [
    {
     "name": "stdout",
     "output_type": "stream",
     "text": [
      "Please choose the shape of the object. Enter 1 for \"Cylinder\", 2 for \"Sphere\", 3 for \"Cone\", or 4 for \"Rectangular Box\" 4Please enter the width of the Rectangular Box 2Please enter the height of the Rectangular Box 5Please enter the length of the Rectangular Box 10The volume of the Rectangular Box with the width of  2.0  and the height of  5.0  and the length of  10.0  is equal to 100.0\n"
     ]
    }
   ],
   "source": [
    "VOLUME()"
   ]
  },
  {
   "cell_type": "markdown",
   "metadata": {
    "jupyter": {
     "outputs_hidden": false
    }
   },
   "source": [
    "# Problem XX\n",
    "\n",
    "Graphing Functions Special Functions \n",
    "\n",
    "Consider the two functions listed below:\n",
    "\n",
    "\\begin{equation}\n",
    "f(x) = e^{-\\alpha x}\n",
    "\\label{eqn:fofx}\n",
    "\\end{equation}\n",
    "\n",
    "\\begin{equation}\n",
    "g(x) = \\gamma sin(\\beta  x)\n",
    "\\label{eqn:gofx}\n",
    "\\end{equation}\n",
    "\n",
    "Prepare a plot of the two functions on the same graph. \n",
    "\n",
    "Use the values in Table below for $\\alpha$, $\\beta$, and $\\gamma$.\n",
    "\n",
    "|Parameter|Value|\n",
    "|:---|---:|\n",
    "|$\\alpha$|0.50|\n",
    "|$\\beta$|3.00|\n",
    "|$\\gamma$|$\\frac{\\pi}{2}$|\n",
    "\n",
    "\n",
    "The plot should have $x$ values ranging from $0$ to $10$ (inclusive) in sufficiently small increments to see curvature in the two functions as well as to identify the number and approximate locations of intersections. In this problem, intersections are locations in the $x-y$ plane where the two \"curves\" cross one another of the two plots."
   ]
  },
  {
   "cell_type": "code",
   "execution_count": 13,
   "metadata": {},
   "outputs": [],
   "source": [
    "# By-hand evaluate f(x) for x=1, alpha = 1/2"
   ]
  },
  {
   "cell_type": "code",
   "execution_count": 14,
   "metadata": {},
   "outputs": [],
   "source": [
    "# By-hand evaluate g(x) for x=3.14, beta = 1/2, gamma = 2"
   ]
  },
  {
   "cell_type": "code",
   "execution_count": 15,
   "metadata": {},
   "outputs": [
    {
     "data": {
      "text/plain": [
       "0.6065306597126334"
      ]
     },
     "execution_count": 15,
     "metadata": {},
     "output_type": "execute_result"
    }
   ],
   "source": [
    "# Define the first function f(x,alpha), test the function using your by hand answer\n",
    "def f(x,alpha):\n",
    "    import math\n",
    "    f = math.exp(-1.0*alpha*x)\n",
    "    return f\n",
    "\n",
    "f(1,0.5)"
   ]
  },
  {
   "cell_type": "code",
   "execution_count": 16,
   "metadata": {},
   "outputs": [
    {
     "data": {
      "text/plain": [
       "1.9999993658636692"
      ]
     },
     "execution_count": 16,
     "metadata": {},
     "output_type": "execute_result"
    }
   ],
   "source": [
    "# Define the second function g(x,beta,gamma), test the function using your by hand answer\n",
    "def g(x,beta,gamma):\n",
    "    import math\n",
    "    f = gamma*math.sin(beta*x)\n",
    "    return f\n",
    "\n",
    "g(3.14,0.5,2.0)"
   ]
  },
  {
   "cell_type": "code",
   "execution_count": 17,
   "metadata": {},
   "outputs": [],
   "source": [
    "# Built a list for x that ranges from 0 to 10, inclusive, with adjustable step sizes for plotting later on\n",
    "howMany = 10\n",
    "scale = 10.0/howMany\n",
    "xvector = []\n",
    "for i in range(0,howMany+1):\n",
    "    xvector.append(scale*i)\n",
    "#xvector # activate to display"
   ]
  },
  {
   "cell_type": "code",
   "execution_count": 18,
   "metadata": {},
   "outputs": [
    {
     "data": {
      "image/png": "[encoded data removed]",
      "text/plain": [
       "<Figure size 432x288 with 1 Axes>"
      ]
     },
     "metadata": {
      "needs_background": "light"
     },
     "output_type": "display_data"
    }
   ],
   "source": [
    "# Build a plotting function that plots both functions on the same chart\n",
    "alpha = 0.5\n",
    "beta = 0.5\n",
    "gamma = 2.0\n",
    "yf = []\n",
    "yg = []\n",
    "for i in range(0,howMany+1):\n",
    "    yf.append(f(xvector[i],alpha))\n",
    "    yg.append(g(xvector[i],beta,gamma))\n",
    "\n",
    "def plot2lines(list11,list21,list12,list22,strx,stry,strtitle): # plot list1 on x, list2 on y, xlabel, ylabel, title\n",
    "    from matplotlib import pyplot as plt # import the plotting library from matplotlibplt.show()\n",
    "    plt.plot( list11, list21, color ='green', marker ='s', linestyle ='dashdot' , label = \"Observed\" ) # create a line chart, years on x-axis, gdp on y-axis\n",
    "    plt.plot( list12, list22, color ='red', marker ='o', linestyle ='solid' , label = \"Model\") # create a line chart, years on x-axis, gdp on y-axis\n",
    "    plt.legend()\n",
    "    plt.title(strtitle)# add a title\n",
    "    plt.ylabel(stry)# add a label to the x and y-axes\n",
    "    plt.xlabel(strx)\n",
    "    plt.show() # display the plot\n",
    "    return #null return\n",
    "\n",
    "plot2lines(xvector,yf,xvector,yg,'x-value','y-value','plot of f and g')"
   ]
  },
  {
   "cell_type": "code",
   "execution_count": null,
   "metadata": {},
   "outputs": [],
   "source": []
  },
  {
   "cell_type": "code",
   "execution_count": null,
   "metadata": {},
   "outputs": [],
   "source": []
  },
  {
   "cell_type": "markdown",
   "metadata": {},
   "source": [
    "#### Question 1: Substitute Intersection Plot\n",
    "- __Define a function, called \"myplotfunc\" that takes__\n",
    "    - A list of numeric for x\n",
    "    - A list of numeric for y\n",
    "    - A string for the plot title\n",
    "    - A string for the x-axis label\n",
    "    - A string for the y-axis label <br>\n",
    " __as inputs and plots a curve with \"red\" color, '*' shaped marker, and 'dashdot' linestyle__ \n",
    "\n",
    "- __Use the \"myplotfunc\" function to create a plot of__\n",
    "$$ y = -5x^5 +4sin(x)^4 -3x^3 +2cos(x)^2 -x $$\n",
    "__for x raging from -10 to 10 (inclusive) in steps of 0.5.__"
   ]
  },
  {
   "cell_type": "code",
   "execution_count": 12,
   "metadata": {},
   "outputs": [
    {
     "data": {
      "image/png": "[encoded data removed]",
      "text/plain": [
       "<Figure size 432x288 with 1 Axes>"
      ]
     },
     "metadata": {
      "needs_background": "light"
     },
     "output_type": "display_data"
    }
   ],
   "source": [
    "#Suggested Solution:\n",
    "\n",
    "def plotfunc(list1,list2,strtitle,strx,stry):\n",
    "    from matplotlib import pyplot as plt\n",
    "    plt.plot( list1, list2, color ='red', marker ='*', linestyle ='dashdot')\n",
    "    plt.title(strtitle)\n",
    "    plt.xlabel(strx)\n",
    "    plt.ylabel(stry)\n",
    "    plt.show()\n",
    "    return\n",
    "\n",
    "import math\n",
    "xxx = [] # null list\n",
    "yyy = [] # null list\n",
    "for i in range(-20,21,1):\n",
    "    x=0.5*i\n",
    "    xxx.append(x)\n",
    "    y= -5*(x**5) +4*(math.sin(x))**4 -3*(x**3) +2*(math.cos(x))**2 -x \n",
    "    yyy.append(y)\n",
    "plotfunc(xxx,yyy,\"y = -5x^5 +4sin(x)^4 -3x^3 +2cos(x)^2 -x\",\"X\",\"Y\")"
   ]
  },
  {
   "cell_type": "code",
   "execution_count": null,
   "metadata": {},
   "outputs": [],
   "source": []
  },
  {
   "cell_type": "code",
   "execution_count": null,
   "metadata": {},
   "outputs": [],
   "source": []
  },
  {
   "cell_type": "code",
   "execution_count": null,
   "metadata": {},
   "outputs": [],
   "source": []
  },
  {
   "cell_type": "code",
   "execution_count": null,
   "metadata": {},
   "outputs": [],
   "source": []
  },
  {
   "cell_type": "code",
   "execution_count": null,
   "metadata": {},
   "outputs": [],
   "source": []
  },
  {
   "cell_type": "code",
   "execution_count": null,
   "metadata": {},
   "outputs": [],
   "source": []
  },
  {
   "cell_type": "code",
   "execution_count": null,
   "metadata": {},
   "outputs": [],
   "source": []
  },
  {
   "cell_type": "code",
   "execution_count": null,
   "metadata": {},
   "outputs": [],
   "source": []
  },
  {
   "cell_type": "code",
   "execution_count": null,
   "metadata": {},
   "outputs": [],
   "source": []
  }
 ],
 "metadata": {
  "kernelspec": {
   "display_name": "Python 3",
   "language": "python",
   "name": "python3"
  },
  "language_info": {
   "codemirror_mode": {
    "name": "ipython",
    "version": 3
   },
   "file_extension": ".py",
   "mimetype": "text/x-python",
   "name": "python",
   "nbconvert_exporter": "python",
   "pygments_lexer": "ipython3",
   "version": "3.6.9"
  }
 },
 "nbformat": 4,
 "nbformat_minor": 4
}
