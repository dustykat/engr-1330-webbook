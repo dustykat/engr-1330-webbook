{
 "cells": [
  {
   "cell_type": "markdown",
   "metadata": {},
   "source": [
    "# ENGR 1330 Exam 1 Sec 003/004 Fall 2020\n",
    "Take Home Portion of Exam 1\n",
    "<hr>\n",
    "\n",
    "## Full name\n",
    "## R#:\n",
    "## HEX:\n",
    "## ENGR 1330 Exam 1 Sec 003/004\n",
    "## Date:\n",
    "<hr>"
   ]
  },
  {
   "cell_type": "markdown",
   "metadata": {},
   "source": [
    "## Question 1 (1 pts):\n",
    "Run the cell below, and leave the results in your notebook (Windows users may get an error, leave the error in place)  "
   ]
  },
  {
   "cell_type": "code",
   "execution_count": 2,
   "metadata": {
    "scrolled": true
   },
   "outputs": [
    {
     "name": "stdout",
     "output_type": "stream",
     "text": [
      "atomickitty.aws\n",
      "compthink\n",
      "/opt/conda/envs/python/bin/python\n"
     ]
    }
   ],
   "source": [
    "#### RUN! the Cell ####\n",
    "import sys\n",
    "! hostname\n",
    "! whoami\n",
    "print(sys.executable) # OK if generates an exception message on Windows machines"
   ]
  },
  {
   "cell_type": "markdown",
   "metadata": {},
   "source": [
    "<hr>"
   ]
  },
  {
   "cell_type": "markdown",
   "metadata": {},
   "source": [
    "## Question 2 (9 pts):\n",
    "- __When it is 8:00 in Lubbock,__\n",
    "    - __It is 9:00 in New York__\n",
    "    - __It is 14:00 in London__\n",
    "    - __It is 15:00 in Cairo__\n",
    "    - __It is 16:00 in Istanbul__\n",
    "    - __It is 19:00 in Hyderabad__\n",
    "    - __It is 22:00 in Tokyo__ <br>\n",
    "\n",
    "__Write a function that reports the time in New York, London, Cairo, Istanbul, Hyderabad, and Tokyo based on the time in Lubbock. Use a 24-hour time format. Include error trapping that:__<br>\n",
    "\n",
    "1- Issues a message like \"Please Enter A Number from 00 to 23\" if the first input is numeric but outside the range of [0,23].<br>\n",
    "2- Takes any numeric input for \"Lubbock time\" selection , and forces it into an integer.<br>\n",
    "3- Issues an appropriate message if the user's selection is non-numeric.<br>\n",
    "\n",
    "__Check your function for these times:__\n",
    "- 8:00\n",
    "- 17:00\n",
    "- 0:00"
   ]
  },
  {
   "cell_type": "code",
   "execution_count": 1,
   "metadata": {},
   "outputs": [],
   "source": [
    "def LBBtime():\n",
    "    try:\n",
    "        LBK = int(input('What hour is it in Lubbock?- Please enter a number from 0 to 23'))\n",
    "        if LBK>23:\n",
    "            print('Please Enter A Number from 00 to 23')\n",
    "        if LBK<23 and LBK>=0:\n",
    "            if LBK+1>23:\n",
    "                print(\"Time in New York is\",(LBK+1)-24,\":00\")\n",
    "            else:\n",
    "                print(\"Time in New York is\",(LBK+1),\":00\")\n",
    "            if LBK+6>23:\n",
    "                print(\"Time in London is\",(LBK+6)-24,\":00\")\n",
    "            else:\n",
    "                print(\"Time in London is\",(LBK+6),\":00\")\n",
    "            if LBK+7>23:\n",
    "                print(\"Time in Cairo is\",(LBK+7)-24,\":00\")\n",
    "            else:\n",
    "                print(\"Time in Cairo is\",(LBK+7),\":00\")\n",
    "            if LBK+8>23:\n",
    "                print(\"Time in Istanbul is\",(LBK+8)-24,\":00\")\n",
    "            else:\n",
    "                print(\"Time in Istanbul is\",(LBK+8),\":00\")\n",
    "            if LBK+11>23:\n",
    "                print(\"Time in Hyderabad is\",(LBK+11)-24,\":00\")\n",
    "            else:\n",
    "                print(\"Time in Hyderabad is\",(LBK+11),\":00\")\n",
    "            if LBK+14>23:\n",
    "                print(\"Time in Tokyo is\",(LBK+14)-24,\":00\")\n",
    "            else:\n",
    "                print(\"Time in Tokyo is\",(LBK+14),\":00\")\n",
    "            return #null return\n",
    "    except:\n",
    "            print(\"Please Enter an Appropriate Input\")"
   ]
  },
  {
   "cell_type": "code",
   "execution_count": 4,
   "metadata": {},
   "outputs": [
    {
     "name": "stdin",
     "output_type": "stream",
     "text": [
      "What hour is it in Lubbock?- Please enter a number from 0 to 23 8\n"
     ]
    },
    {
     "name": "stdout",
     "output_type": "stream",
     "text": [
      "Time in New York is 9 :00\n",
      "Time in London is 14 :00\n",
      "Time in Cairo is 15 :00\n",
      "Time in Istanbul is 16 :00\n",
      "Time in Hyderabad is 19 :00\n",
      "Time in Tokyo is 22 :00\n"
     ]
    }
   ],
   "source": [
    "LBBtime()"
   ]
  },
  {
   "cell_type": "code",
   "execution_count": 5,
   "metadata": {},
   "outputs": [
    {
     "name": "stdin",
     "output_type": "stream",
     "text": [
      "What hour is it in Lubbock?- Please enter a number from 0 to 23 17\n"
     ]
    },
    {
     "name": "stdout",
     "output_type": "stream",
     "text": [
      "Time in New York is 18 :00\n",
      "Time in London is 23 :00\n",
      "Time in Cairo is 0 :00\n",
      "Time in Istanbul is 1 :00\n",
      "Time in Hyderabad is 4 :00\n",
      "Time in Tokyo is 7 :00\n"
     ]
    }
   ],
   "source": [
    "LBBtime()"
   ]
  },
  {
   "cell_type": "code",
   "execution_count": 6,
   "metadata": {},
   "outputs": [
    {
     "name": "stdin",
     "output_type": "stream",
     "text": [
      "What hour is it in Lubbock?- Please enter a number from 0 to 23 0\n"
     ]
    },
    {
     "name": "stdout",
     "output_type": "stream",
     "text": [
      "Time in New York is 1 :00\n",
      "Time in London is 6 :00\n",
      "Time in Cairo is 7 :00\n",
      "Time in Istanbul is 8 :00\n",
      "Time in Hyderabad is 11 :00\n",
      "Time in Tokyo is 14 :00\n"
     ]
    }
   ],
   "source": [
    "LBBtime()"
   ]
  },
  {
   "cell_type": "markdown",
   "metadata": {},
   "source": [
    "<hr>\n",
    "\n",
    "## Question 3 (28 pts): \n",
    "Follow the steps below. Add comments to your script and signify when each step and each task is done. *hint: For this problem you will need the numpy and pandas libraries.\n",
    "- __STEP1: There are 8 digits in your R#. Define a 2x4 array with these 8 digits, name it \"Rarray\", and print it__\n",
    "- __STEP2: Find the maximum value of the \"Rarray\" and its position__\n",
    "- __STEP3: Sort the \"Rarray\" along the rows, store it in a new array named \"Rarraysort\", and print the new array out__\n",
    "- __STEP4: Define and print a 4x4 array that has the \"Rarray\" as its two first rows, and \"Rarraysort\" as its next rows. Name this new array \"DoubleRarray\"__\n",
    "- __STEP5: Slice and print a 4x3 array from the \"DoubleRarray\" that contains the last three columns of it. Name this new array \"SliceRarray\".__\n",
    "- __STEP6: Define the \"SliceRarray\" as a panda dataframe:__\n",
    "    - name it \"Rdataframe\",\n",
    "    - name the rows as \"Row A\",\"Row B\",\"Row C\", and \"Row D\"\n",
    "    - name the columns as \"Column 1\", \"Column 2\", and \"Column 3\"\n",
    "- __STEP7: Print  the first few rows of the \"Rdataframe\".__\n",
    "- __STEP8: Create a new dataframe object (\"R2dataframe\") by adding a column to the \"Rdataframe\", name it \"Column X\" and fill it with \"None\" values. Then, use the appropriate descriptor function and print the data model (data column count, names, data types) of the \"R2dataframe\"__\n",
    "- __STEP9: Replace the **'None'** in the \"R2dataframe\" with 0. Then, print the summary statistics of each numeric column in the data frame.__\n",
    "- __STEP10: Define a function based on the equation below, apply on the entire \"R2dataframe\", store the results in a new dataframe (\"R3dataframe\"), and print the results and the summary statistics again.__  \n",
    "$$ y = x^2 - 5x +7 $$\n",
    "- __STEP11: Print the number of occurrences of each unique value in \"Column 3\"__\n",
    "- __STEP12: Sort the data frame with respect to \"Column 1\" with a descending order and print it__\n",
    "- __STEP13: Write the final format of the \"R3dataframe\" on a CSV file, named \"Rfile.csv\"__\n",
    "- __STEP14: Read the \"Rfile.csv\" and print its content.__<br>\n",
    "** __Make sure to attach the \"Rfile.csv\" file to your midterm exam submission.__"
   ]
  },
  {
   "cell_type": "code",
   "execution_count": 7,
   "metadata": {
    "collapsed": false,
    "jupyter": {
     "outputs_hidden": false
    }
   },
   "outputs": [
    {
     "name": "stdout",
     "output_type": "stream",
     "text": [
      "#Step0: Install Dependencies\n",
      "#Step1: Create the array\n",
      "[[1 6 7 4]\n",
      " [5 2 3 8]]\n",
      "#Step2: find max and its position \n",
      "8\n",
      "7\n",
      "#Step3: Sort the array\n",
      "[[1 4 6 7]\n",
      " [2 3 5 8]]\n",
      "#Step4: Create the double array - manual entry\n",
      "[[1 6 7 4]\n",
      " [5 2 3 8]\n",
      " [1 4 6 7]\n",
      " [2 3 5 8]]\n",
      "#Step5: Slice the array\n",
      "[[6 7 4]\n",
      " [2 3 8]\n",
      " [4 6 7]\n",
      " [3 5 8]]\n",
      "#Step6: Make a dataframey\n",
      "#Step7: head method on dataframe\n",
      "       Column 1  Column 2  Column 3\n",
      "Row A         6         7         4\n",
      "Row B         2         3         8\n",
      "Row C         4         6         7\n",
      "Row D         3         5         8\n",
      "#Step8: add column to a dataframe\n",
      "<class 'pandas.core.frame.DataFrame'>\n",
      "Index: 4 entries, Row A to Row D\n",
      "Data columns (total 4 columns):\n",
      " #   Column    Non-Null Count  Dtype \n",
      "---  ------    --------------  ----- \n",
      " 0   Column 1  4 non-null      int64 \n",
      " 1   Column 2  4 non-null      int64 \n",
      " 2   Column 3  4 non-null      int64 \n",
      " 3   Column X  0 non-null      object\n",
      "dtypes: int64(3), object(1)\n",
      "memory usage: 160.0+ bytes\n",
      "None\n",
      "#Step9: Replace NA\n",
      "       Column 1  Column 2  Column 3  Column X\n",
      "count  4.000000  4.000000  4.000000       4.0\n",
      "mean   3.750000  5.250000  6.750000       0.0\n",
      "std    1.707825  1.707825  1.892969       0.0\n",
      "min    2.000000  3.000000  4.000000       0.0\n",
      "25%    2.750000  4.500000  6.250000       0.0\n",
      "50%    3.500000  5.500000  7.500000       0.0\n",
      "75%    4.500000  6.250000  8.000000       0.0\n",
      "max    6.000000  7.000000  8.000000       0.0\n",
      "#Step10: Define a function, apply to a dataframe\n",
      "       Column 1  Column 2  Column 3  Column X\n",
      "Row A       -17       -14       -17         7\n",
      "Row B        -9       -14        -9         7\n",
      "Row C       -17       -17       -14         7\n",
      "Row D       -14       -18        -9         7\n",
      "        Column 1   Column 2   Column 3  Column X\n",
      "count   4.000000   4.000000   4.000000       4.0\n",
      "mean  -14.250000 -15.750000 -12.250000       7.0\n",
      "std     3.774917   2.061553   3.947573       0.0\n",
      "min   -17.000000 -18.000000 -17.000000       7.0\n",
      "25%   -17.000000 -17.250000 -14.750000       7.0\n",
      "50%   -15.500000 -15.500000 -11.500000       7.0\n",
      "75%   -12.750000 -14.000000  -9.000000       7.0\n",
      "max    -9.000000 -14.000000  -9.000000       7.0\n",
      "#Step11: Descriptors\n",
      "-9     2\n",
      "-14    1\n",
      "-17    1\n",
      "Name: Column 3, dtype: int64\n",
      "#Step12: Sort on values\n",
      "       Column 1  Column 2  Column 3  Column X\n",
      "Row B        -9       -14        -9         7\n",
      "Row D       -14       -18        -9         7\n",
      "Row A       -17       -14       -17         7\n",
      "Row C       -17       -17       -14         7\n",
      "#Step13: Write to an external file\n",
      "#Step14: Verify the write\n",
      "  Unnamed: 0  Column 1  Column 2  Column 3  Column X\n",
      "0      Row A       -17       -14       -17         7\n",
      "1      Row B        -9       -14        -9         7\n",
      "2      Row C       -17       -17       -14         7\n",
      "3      Row D       -14       -18        -9         7\n"
     ]
    }
   ],
   "source": [
    "# Code and Run your solution here:\n",
    "\n",
    "print('#Step0: Install Dependencies')\n",
    "import numpy as np\n",
    "import pandas as pd\n",
    "print('#Step1: Create the array')\n",
    "Rarray = np.array([[1,6,7,4],[5,2,3,8]])     #Define Rarray\n",
    "print(Rarray)\n",
    "print('#Step2: find max and its position ')\n",
    "print(np.max(Rarray))          #Find the maximum Value\n",
    "print(np.argmax(Rarray))       #Find the posirtion of the maximum value\n",
    "print('#Step3: Sort the array')\n",
    "Rarraysort = np.sort(Rarray,axis = 1) #Sort Rarray along the rows and define a new array\n",
    "print(Rarraysort)          \n",
    "print('#Step4: Create the double array - manual entry')\n",
    "DoubleRarray = np.array([[1,6,7,4],[5,2,3,8],[1,4,6,7],[2,3,5,8]])     #Define DoubleRarray\n",
    "print(DoubleRarray)\n",
    "print('#Step5: Slice the array')\n",
    "SliceRarray = DoubleRarray[0:4,1:4]     #Slice DoubleRarray and Define SliceRarray\n",
    "print(SliceRarray)\n",
    "print('#Step6: Make a dataframey')\n",
    "myrowname = [\"Row A\",\"Row B\",\"Row C\",\"Row D\"]\n",
    "mycolname = [\"Column 1\", \"Column 2\",\"Column 3\"]\n",
    "Rdataframe = pd.DataFrame(SliceRarray,myrowname,mycolname)     #Define Rdataframe\n",
    "print('#Step7: head method on dataframe')\n",
    "print(Rdataframe.head())     #Print the first few rows of the Rdataframe\n",
    "print('#Step8: add column to a dataframe')\n",
    "Rdataframe['Column X']= None     #Add a new column, \"Column X\"\n",
    "R2dataframe = Rdataframe         #Define R2dataframe\n",
    "print(R2dataframe.info())               #Get the info\n",
    "print('#Step9: Replace NA')\n",
    "R2dataframe = R2dataframe.fillna(0)     #Replace NAs with 0\n",
    "print(R2dataframe.describe())                 #Get the summary statistics\n",
    "print('#Step10: Define a function, apply to a dataframe')\n",
    "def myfunc(x):  # A user-built function\n",
    "    y = (x**2) - (10*x) +7\n",
    "    return(y)\n",
    "R3dataframe = R2dataframe.apply(myfunc)     #Apply the function on the entire R2dataframe\n",
    "print(R3dataframe)\n",
    "print(R3dataframe.describe())\n",
    "print('#Step11: Descriptors')\n",
    "print(R3dataframe['Column 3'].value_counts())  #Returns the number of occurences of each unique value in Column 3\n",
    "print('#Step12: Sort on values')\n",
    "print(R3dataframe.sort_values('Column 1', ascending = False)) #Sorting based on Column 1\n",
    "print('#Step13: Write to an external file')\n",
    "R3dataframe.to_csv('Rfile.csv')     #Write R3dataframe on a CSV file\n",
    "print('#Step14: Verify the write')\n",
    "readfilecsv = pd.read_csv('Rfile.csv') #Read the Rfile.csv\n",
    "print(readfilecsv)         #Print the contents of the Rfile.csv"
   ]
  },
  {
   "cell_type": "markdown",
   "metadata": {
    "jupyter": {
     "outputs_hidden": false
    }
   },
   "source": [
    "<hr>\n",
    "\n",
    "## Problem 4 (32 pts)\n",
    "\n",
    "Graphing Functions Special Functions \n",
    "\n",
    "Consider the two functions listed below:\n",
    "\n",
    "\\begin{equation}\n",
    "f(x) = e^{-\\alpha x}\n",
    "\\label{eqn:fofx}\n",
    "\\end{equation}\n",
    "\n",
    "\\begin{equation}\n",
    "g(x) = \\gamma sin(\\beta  x)\n",
    "\\label{eqn:gofx}\n",
    "\\end{equation}\n",
    "\n",
    "Prepare a plot of the two functions on the same graph. \n",
    "\n",
    "Use the values in Table below for $\\alpha$, $\\beta$, and $\\gamma$.\n",
    "\n",
    "|Parameter|Value|\n",
    "|:---|---:|\n",
    "|$\\alpha$|0.50|\n",
    "|$\\beta$|3.00|\n",
    "|$\\gamma$|$\\frac{\\pi}{2}$|\n",
    "\n",
    "\n",
    "The plot should have $x$ values ranging from $0$ to $10$ (inclusive) in sufficiently small increments to see curvature in the two functions as well as to identify the number and approximate locations of intersections. In this problem, intersections are locations in the $x-y$ plane where the two \"curves\" cross one another of the two plots."
   ]
  },
  {
   "cell_type": "markdown",
   "metadata": {},
   "source": [
    "#### By-hand evaluate f(x) for x=1, alpha = 1/2 (Simply enter your answer from a calculator)\n",
    "f(x) = 0.61"
   ]
  },
  {
   "cell_type": "markdown",
   "metadata": {},
   "source": [
    "#### By-hand evaluate g(x) for x=3.14, beta = 1/2, gamma = 2 (Simply enter your answer from a calculator)\n",
    "g(x) = 1.99"
   ]
  },
  {
   "cell_type": "code",
   "execution_count": 1,
   "metadata": {},
   "outputs": [
    {
     "data": {
      "text/plain": [
       "0.6065306597126334"
      ]
     },
     "execution_count": 1,
     "metadata": {},
     "output_type": "execute_result"
    }
   ],
   "source": [
    "# Define the first function f(x,alpha), test the function using your by hand answer\n",
    "# Define the first function f(x,alpha), test the function using your by hand answer\n",
    "def f(x,alpha):\n",
    "    import math\n",
    "    f = math.exp(-1.0*alpha*x)\n",
    "    return f\n",
    "\n",
    "f(1,0.5)"
   ]
  },
  {
   "cell_type": "code",
   "execution_count": 2,
   "metadata": {},
   "outputs": [
    {
     "data": {
      "text/plain": [
       "1.9999993658636692"
      ]
     },
     "execution_count": 2,
     "metadata": {},
     "output_type": "execute_result"
    }
   ],
   "source": [
    "# Define the second function g(x,beta,gamma), test the function using your by hand answer\n",
    "def g(x,beta,gamma):\n",
    "    import math\n",
    "    g = gamma*math.sin(beta*x)\n",
    "    return g\n",
    "\n",
    "g(3.14,0.5,2.0)"
   ]
  },
  {
   "cell_type": "code",
   "execution_count": 3,
   "metadata": {},
   "outputs": [],
   "source": [
    "# Built a list for x that ranges from 0 to 10, inclusive, with adjustable step sizes for plotting later on\n",
    "howMany = 100\n",
    "scale = 10.0/howMany\n",
    "xvector = []\n",
    "for i in range(0,howMany+1):\n",
    "    xvector.append(scale*i)\n",
    "#xvector # activate to display"
   ]
  },
  {
   "cell_type": "code",
   "execution_count": 4,
   "metadata": {},
   "outputs": [],
   "source": [
    "# xvector"
   ]
  },
  {
   "cell_type": "code",
   "execution_count": 5,
   "metadata": {},
   "outputs": [
    {
     "data": {
      "image/png": "[encoded data removed]",
      "text/plain": [
       "<Figure size 432x288 with 1 Axes>"
      ]
     },
     "metadata": {
      "needs_background": "light"
     },
     "output_type": "display_data"
    }
   ],
   "source": [
    "# Build a plotting function that plots both functions on the same chart\n",
    "# Build a plotting function that plots both functions on the same chart\n",
    "import mplcursors\n",
    "alpha = 0.5\n",
    "beta = 3.0\n",
    "gamma = 1.57\n",
    "yf = []\n",
    "yg = []\n",
    "for i in range(0,howMany+1):\n",
    "    yf.append(f(xvector[i],alpha))\n",
    "    yg.append(g(xvector[i],beta,gamma))\n",
    "\n",
    "def plot2lines(list11,list21,list12,list22,strx,stry,strtitle): # plot list1 on x, list2 on y, xlabel, ylabel, title\n",
    "    from matplotlib import pyplot as plt # import the plotting library from matplotlibplt.show()\n",
    "    plt.plot( list11, list21, color ='green', marker ='s', linestyle ='dashdot' , label = \"Observed\" ) # create a line chart, years on x-axis, gdp on y-axis\n",
    "    plt.plot( list12, list22, color ='red', marker ='o', linestyle ='solid' , label = \"Model\") # create a line chart, years on x-axis, gdp on y-axis\n",
    "    plt.legend()\n",
    "    plt.title(strtitle)# add a title\n",
    "    plt.ylabel(stry)# add a label to the x and y-axes\n",
    "    plt.xlabel(strx)\n",
    "    mplcursors.cursor()\n",
    "    plt.show() # display the plot\n",
    "    return #null return\n",
    "\n",
    "plot2lines(xvector,yf,xvector,yg,'x-value','y-value','plot of f and g')"
   ]
  },
  {
   "cell_type": "code",
   "execution_count": null,
   "metadata": {},
   "outputs": [],
   "source": [
    "\n",
    "\n",
    "\n"
   ]
  },
  {
   "cell_type": "code",
   "execution_count": null,
   "metadata": {},
   "outputs": [],
   "source": []
  },
  {
   "cell_type": "code",
   "execution_count": 15,
   "metadata": {},
   "outputs": [
    {
     "name": "stdout",
     "output_type": "stream",
     "text": [
      "f(x) - g(x) = -0.006872140479148858  at x =  0.72\n",
      "f(x) - g(x) = 0.005863926097657193  at x =  6.245\n"
     ]
    }
   ],
   "source": [
    "# Using the plot as a guide, find the approximate values of x where the two curves intercept (i.e. f(x) = g(x))\n",
    "# You can either use interactive input, or direct specify x values, but need to show results\n",
    "# Using the plot as a guide, find the values of x where the two curves intercept (i.e. f(x) = g(x))\n",
    "\n",
    "#xguess = float(input('my guess for x')) # ~0.7, and 6.25\n",
    "alpha = 0.5\n",
    "beta = 0.5\n",
    "gamma = 2.0\n",
    "xguess = 0.72\n",
    "result = f(xguess,alpha) - g(xguess,beta,gamma)\n",
    "print('f(x) - g(x) =', result,' at x = ', xguess)\n",
    "xguess = 6.245\n",
    "result = f(xguess,alpha) - g(xguess,beta,gamma)\n",
    "print('f(x) - g(x) =', result,' at x = ', xguess)"
   ]
  },
  {
   "cell_type": "markdown",
   "metadata": {},
   "source": [
    "<hr>\n",
    "\n",
    "## Bonus Problem 1. Extra Credit (You must complete the regular problems)!\n",
    "__create a class to compute the average grade (out of 10) of the students based on their grades in Quiz1, Quiz2, the Mid-term, Quiz3, and the Final exam.__\n",
    "\n",
    "| Student Name  |   Quiz 1   |   Quiz 2   |   Mid-term   |   Quiz 3   |  Final Exam  |\n",
    "| ------------- | -----------| -----------| -------------| -----------| -------------|\n",
    "| Harry         | 8          | 9          | 8            | 10         | 9            |\n",
    "| Ron           | 7          | 8          | 8            | 7          | 9            |\n",
    "| Hermione      | 10         | 10         | 9            | 10         | 10           |\n",
    "| Draco         | 8          | 7          | 9            | 8          | 9            |\n",
    "| Luna          | 9          | 8          | 7            | 6          | 5            |\n",
    "\n",
    "1. __Use docstrings to describe the purpose of the class.__\n",
    "2. __Create an object for each car brand and display the output as shown below.__\n",
    "\n",
    "\"Student Name\": **Average Grade**  \n",
    "\n",
    "3. __Create and print out a dictionary with the student names as keys and their average grades as data.__\n"
   ]
  },
  {
   "cell_type": "code",
   "execution_count": 14,
   "metadata": {},
   "outputs": [
    {
     "name": "stdout",
     "output_type": "stream",
     "text": [
      "Harry 8.8\n",
      "Ron 7.8\n",
      "Hermione 9.8\n",
      "Draco 8.2\n",
      "Luna 7.0\n",
      "{'Harry': 8.8, 'Ron': 7.8, 'Hermione': 9.8, 'Draco': 8.2, 'Luna': 7.0}\n"
     ]
    }
   ],
   "source": [
    "#Code and run your solution here:\n",
    "\n",
    "#Suggested Solution:\n",
    "\n",
    "class Hogwarts:\n",
    "    \"\"\"This class calculates the average grade of the students\"\"\"\n",
    "    def __init__(self, Name,Quiz1,Quiz2,MidTerm,Quiz3,Final):\n",
    "        self.Name = Name\n",
    "        self.Quiz1 = Quiz1\n",
    "        self.Quiz2 = Quiz2\n",
    "        self.MidTerm = MidTerm\n",
    "        self.Quiz3 = Quiz3\n",
    "        self.Final= Final\n",
    "        \n",
    "    def average(self):\n",
    "        return (self.Quiz1 + self.Quiz2 + self.MidTerm + self.Quiz3 + self.Final) /5\n",
    "\n",
    "\n",
    "S1 = Hogwarts('Harry',8,9,8,10,9)                      #Fill the instances\n",
    "S2 = Hogwarts('Ron',7,8,8,7,9)\n",
    "S3 = Hogwarts('Hermione',10,10,9,10,10)\n",
    "S4 = Hogwarts('Draco',8,7,9,8,9)\n",
    "S5 = Hogwarts('Luna',9,8,7,6,5)\n",
    "\n",
    "print(\"Harry\", S1.average())\n",
    "print(\"Ron\", S2.average())\n",
    "print(\"Hermione\", S3.average())\n",
    "print(\"Draco\", S4.average())\n",
    "print(\"Luna\", S5.average())\n",
    "\n",
    "GradeDict = {\"Harry\":S1.average(),\"Ron\":S2.average(),\"Hermione\":S3.average(),\"Draco\":S4.average(),\"Luna\":S5.average()}\n",
    "print(GradeDict)"
   ]
  },
  {
   "cell_type": "markdown",
   "metadata": {},
   "source": [
    "<hr>\n",
    "\n",
    "## Bonus 2 Extra credit (You must complete the regular problems)!\n",
    "#### Write the VOLUME Function to compute the volume of Cylinders, Spheres, Cones, and Rectangular Boxes. This function should:\n",
    "- First, ask the user about __the shape of the object__ of interest using this statement:<br>\n",
    "**\"Please choose the shape of the object. Enter 1 for \"Cylinder\", 2 for \"Sphere\", 3 for \"Cone\", or 4 for \"Rectangular Box\"\"**<br>\n",
    "- Second, based on user's choice in the previous step, __ask for the right inputs__.\n",
    "- Third, print out an statement with __the input values and the calculated volumes__.\n",
    "\n",
    "#### Include error trapping that:\n",
    "\n",
    "1. Issues a message that **\"The object should be either a Cylinder, a Sphere, a Cone, or a Rectangular Box. Please Enter A Number from 1,2,3, and 4!\"** if the first input is non-numeric.\n",
    "2. Takes any numeric input for the initial selection , and force it into an integer.\n",
    "4. Issues an appropriate message if the user's selection is numeric but outside the range of [1,4]\n",
    "3. Takes any numeric input for the shape characteristics , and force it into a float.\n",
    "4. Issues an appropriate message if the object characteristics are as non-numerics.\n",
    "\n",
    "#### Test the script for:\n",
    "1. __Sphere, r=10__\n",
    "2. __r=10 , Sphere__\n",
    "3. __Rectangular Box, w=5, h=10, l=0.5__\n",
    "\n",
    "\n",
    "- <font color=orange>__Volume of a Cylinder = πr²h__</font>\n",
    "- <font color=orange>__Volume of a Sphere = 4(πr3)/3__</font>\n",
    "- <font color=orange>__Volume of a Cone = (πr²h)/3__</font>\n",
    "- <font color=orange>__Volume of a Rectangular Box = whl__</font>"
   ]
  },
  {
   "cell_type": "code",
   "execution_count": 15,
   "metadata": {},
   "outputs": [],
   "source": [
    "#Code and Run your solution here\n",
    "\n",
    "#Suggested Solution:\n",
    "\n",
    "import numpy as np # import NumPy: for large, multi-dimensional arrays and matrices, along with  high-level mathematical functions to operate on these arrays.\n",
    "pi = np.pi #pi value from the np package\n",
    "\n",
    "def VOLUME():\n",
    "    try:\n",
    "        UI = input('Please choose the shape of the object. Enter 1 for \"Cylinder\", 2 for \"Sphere\", 3 for \"Cone\", or 4 for \"Rectangular Box\"')\n",
    "        UI =int(UI)\n",
    "        if UI==1:\n",
    "                try:\n",
    "                    UI2 = input('Please enter the radius of the Cylinder')\n",
    "                    r= float(UI2)\n",
    "                    UI3 = input('Please enter the height of the Cylinder')\n",
    "                    h= float(UI3)\n",
    "                    V= pi*h*r**2\n",
    "                    print(\"The volume of the Cylinder with the radius of \",r,\" and the height of \",h,\" is equal to\", V)\n",
    "                except:\n",
    "                    print(\"The radius and height of the Cylinder must be numerics. Please Try Again!\")\n",
    "        elif UI==2:\n",
    "                try:\n",
    "                    UI2 = input('Please enter the radius of the Sphere')\n",
    "                    r= float(UI2)\n",
    "                    V= (4*pi*r**3)/3\n",
    "                    print(\"The volume of the Sphere with the radius of \",r,\" is equal to\", V)\n",
    "                except:\n",
    "                    print(\"The radius of the Sphere must be numeric. Please Try Again!\")\n",
    "        elif UI==3:\n",
    "                try:\n",
    "                    UI2 = input('Please enter the radius of the Cone')\n",
    "                    r= float(UI2)\n",
    "                    UI3 = input('Please enter the height of the Cone')\n",
    "                    h= float(UI3)\n",
    "                    V= (pi*h*r**2)/3\n",
    "                    print(\"The volume of the Cone with the radius of \",r,\" and the height of \",h,\" is equal to\", V)\n",
    "                except:\n",
    "                    print(\"The radius and height of the Cone must be numerics. Please Try Again!\")\n",
    "        elif UI==4:\n",
    "                try:\n",
    "                    UI2 = input('Please enter the width of the Rectangular Box')\n",
    "                    w= float(UI2)\n",
    "                    UI3 = input('Please enter the height of the Rectangular Box')\n",
    "                    h= float(UI3)\n",
    "                    UI4 = input('Please enter the length of the Rectangular Box')\n",
    "                    l= float(UI4)\n",
    "                    V= w*h*l\n",
    "                    print(\"The volume of the Rectangular Box with the width of \",w,\" and the height of \",h,\" and the length of \",l,\" is equal to\", V)\n",
    "                except:\n",
    "                    print(\"The width, height, and length of the Rectangular Box must be numerics. Please Try Again!\")\n",
    "        else:\n",
    "            print(\"Please Enter A Number from 1,2,3, and 4!\")\n",
    "\n",
    "    except:\n",
    "        print(\"The object should be either a Cylinder, a Sphere, a Cone, or a Rectangular Box. Please Enter A Number from 1,2,3, and 4!\")\n",
    "        "
   ]
  },
  {
   "cell_type": "code",
   "execution_count": 16,
   "metadata": {},
   "outputs": [
    {
     "name": "stdin",
     "output_type": "stream",
     "text": [
      "Please choose the shape of the object. Enter 1 for \"Cylinder\", 2 for \"Sphere\", 3 for \"Cone\", or 4 for \"Rectangular Box\" 1\n",
      "Please enter the radius of the Cylinder 1\n",
      "Please enter the height of the Cylinder 1\n"
     ]
    },
    {
     "name": "stdout",
     "output_type": "stream",
     "text": [
      "The volume of the Cylinder with the radius of  1.0  and the height of  1.0  is equal to 3.141592653589793\n"
     ]
    }
   ],
   "source": [
    "VOLUME()"
   ]
  }
 ],
 "metadata": {
  "kernelspec": {
   "display_name": "Python 38",
   "language": "python",
   "name": "python38"
  },
  "language_info": {
   "codemirror_mode": {
    "name": "ipython",
    "version": 3
   },
   "file_extension": ".py",
   "mimetype": "text/x-python",
   "name": "python",
   "nbconvert_exporter": "python",
   "pygments_lexer": "ipython3",
   "version": "3.8.3"
  }
 },
 "nbformat": 4,
 "nbformat_minor": 4
}
