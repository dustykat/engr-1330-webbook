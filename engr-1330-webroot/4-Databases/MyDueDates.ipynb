{
 "cells": [
  {
   "cell_type": "markdown",
   "metadata": {},
   "source": [
    "# My ENGR 1330 Due dates\n",
    "---"
   ]
  },
  {
   "cell_type": "markdown",
   "metadata": {},
   "source": [
    "## Laboratory\n",
    "- Laboratory 0 29 Jan 2021\n",
    "- Laboratory 1  2 Feb 2021\n",
    "- Laboratory 2  5 Feb 2021\n",
    "- Laboratory 3  9 Feb 2021\n",
    "- Laboratory 4 11 Feb 2021\n",
    "- Laboratory 5 16 Feb 2021\n",
    "- Laboratory 6 18 Feb 2021\n",
    "- Laboratory 7\n",
    "- Laboratory 8\n",
    "- Laboratory 9\n",
    "- Laboratory 10\n",
    "- Laboratory 11\n",
    "- Laboratory 12\n",
    "- Laboratory 13\n",
    "- Laboratory 14\n",
    "- Laboratory 15\n",
    "- Laboratory 16\n",
    "- Laboratory 17\n",
    "- Laboratory 18\n",
    "- Laboratory 19\n",
    "- Laboratory 20\n",
    "- Laboratory 21\n",
    "- Laboratory 22\n",
    "- Laboratory 23\n",
    "- Laboratory 24\n",
    "- Laboratory 25"
   ]
  },
  {
   "cell_type": "markdown",
   "metadata": {},
   "source": [
    "---\n",
    "## Homework\n",
    "- Week 1 ES 1: 3 Feb 2021\n",
    "- Week 2 ES 2: 10 Feb 2021\n",
    "- Week 3 ES 3  17 Feb 2021\n",
    "- Week 4 ES 4 \n",
    "- Week 5 ES 5 \n",
    "- Week 6 ES 6 \n",
    "- Week 7 ES 7 \n",
    "- Week 8 ES 8 \n",
    "- Week 9 ES 9 \n",
    "- Week 10 ES 10\n",
    "- Week 10 ES 11 \n",
    "- Week 12 ES 12 \n",
    "- Week 13 ES 13 \n",
    "- Week 14 ES 14 \n",
    "- Week 15 ES 15 "
   ]
  },
  {
   "cell_type": "markdown",
   "metadata": {},
   "source": [
    "## Other\n",
    "---\n",
    "- Quiz 1: 29 Jan 2021\n",
    "- Quiz 2\n",
    "- Quiz 3\n",
    "- Quiz 4\n",
    "- Quiz 5\n",
    "- Quiz 6"
   ]
  },
  {
   "cell_type": "code",
   "execution_count": null,
   "metadata": {},
   "outputs": [],
   "source": []
  }
 ],
 "metadata": {
  "kernelspec": {
   "display_name": "Python 3",
   "language": "python",
   "name": "python3"
  },
  "language_info": {
   "codemirror_mode": {
    "name": "ipython",
    "version": 3
   },
   "file_extension": ".py",
   "mimetype": "text/x-python",
   "name": "python",
   "nbconvert_exporter": "python",
   "pygments_lexer": "ipython3",
   "version": "3.8.5"
  }
 },
 "nbformat": 4,
 "nbformat_minor": 4
}
