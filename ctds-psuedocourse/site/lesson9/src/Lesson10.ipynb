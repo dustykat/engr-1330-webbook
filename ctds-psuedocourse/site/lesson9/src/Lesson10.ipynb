{
 "cells": [
  {
   "cell_type": "code",
   "execution_count": 1,
   "metadata": {},
   "outputs": [
    {
     "name": "stdout",
     "output_type": "stream",
     "text": [
      "atomickitty.aws\n",
      "compthink\n",
      "/opt/conda/envs/python/bin/python\n",
      "3.8.3 (default, Jul  2 2020, 16:21:59) \n",
      "[GCC 7.3.0]\n",
      "sys.version_info(major=3, minor=8, micro=3, releaselevel='final', serial=0)\n",
      "/home/compthink/CECE-1330-PsuedoCourse/1-Lessons/Lesson10/PsuedoLesson\n"
     ]
    }
   ],
   "source": [
    "# Preamble script block to identify host, user, and kernel\n",
    "import sys\n",
    "! hostname\n",
    "! whoami\n",
    "print(sys.executable)\n",
    "print(sys.version)\n",
    "print(sys.version_info)\n",
    "! pwd"
   ]
  },
  {
   "cell_type": "code",
   "execution_count": 2,
   "metadata": {},
   "outputs": [
    {
     "data": {
      "text/html": [
       "<!--Script block to left align Markdown Tables-->\n",
       "<style>\n",
       "  table {margin-left: 0 !important;}\n",
       "</style>\n"
      ],
      "text/plain": [
       "<IPython.core.display.HTML object>"
      ]
     },
     "metadata": {},
     "output_type": "display_data"
    }
   ],
   "source": [
    "%%html\n",
    "<!--Script block to left align Markdown Tables-->\n",
    "<style>\n",
    "  table {margin-left: 0 !important;}\n",
    "</style>"
   ]
  },
  {
   "cell_type": "markdown",
   "metadata": {},
   "source": [
    "# Data Modeling: The Statistical Approach:\n",
    "\n",
    "## Objectives\n",
    "- To understand the fundamental concepts involved in establishing causality.\n",
    "\n",
    "- To understand the fundamental concepts involved in iteration.\n",
    "\n",
    "- To understand the fundamental concepts involved in simulation\n",
    "\n",
    "## Computational Thinking Concepts\n",
    "\n",
    "Causality, Iteration, Simulation => `Algorithm Design`\n",
    "\n",
    "Iteration, Simulation => `Create Computational Models`\n"
   ]
  },
  {
   "cell_type": "markdown",
   "metadata": {},
   "source": [
    "## Correlation and Causality\n",
    "\n",
    "What is causality? People tend to find patterns in information and like to think causally. \n",
    "The general formation of causality is \"why?, because ...\"  In fact the answer to a because question, should be the \"cause.\"  Many authors use \"since\" to imply cause, but it is incorrect grammar - since answers the question of when?\n",
    "\n",
    "Think \"CAUSE\" => \"EFFECT\"\n",
    "\n",
    "Correlation doesn’t mean cause (although it is a really good predictor of the crap we all buy - its why Amazon is sucessfull)\n",
    "\n",
    "Consider the following from Ford (2009);\n",
    "\n",
    "    \"One of the more interesting developments to arise out of the Internet has been the appearance of online prediction markets. A prediction market is really just another name for a betting market, and it operates in a similar fashion to the futures markets that allow traders to place bets on the future direction of things like oil prices and stock market indexes. Prediction markets, such as the Iowa Electronic Markets (IEM) and Intrade, allow participants to bet real money on things like elections, economic developments (such as recessions), or specific events in the business or entertainment worlds. \n",
    "\n",
    "    While prediction markets are specifically set up to predict future events, we know that we can expand this idea and say that all free markets are, in essence, prediction markets. If you buy a particular company’s stock, then you are placing a bet that, in the future, that stock will trade at a higher value. Collectively, the millions of participants in the world’s stock markets often act as a sort of predictive barometer for the economy as a whole. Historically, the U.S. stock market has often anticipated recessions by six months or so. Likewise, recovery from a recession is very often preceded by a rise in the stock market. \n",
    "\n",
    "    This predictive feature also applies to all the other various markets with which we interact, including the housing market, the job market, and the mass market for goods and services. The reason is quite obvious. People are rational beings and every individual, to some degree, incorporates his or her expectations for the future into his or her current actions. If you expect that you will receive a large sum of money at some point in the near future, you are very likely to begin spending some of that money even before you actually receive it.\"\n",
    "\n",
    "We all experience prediction markets when we use the internet, and our browser negotiates with several agents to place advertisements that are predicted to generate sales -- these predictions are really just elaborate correlation engines that consider who we are (persistent cookies in our browser cache identifies us as a teen age girl interested in make up) what we have purchased in the past (i.e the cookie gives enough identity to check our **Amazon** account, **Etsy** account, and others), how frequently, and makes a guess of what we are likely to be willing to buy ASAP.  Its all correlation (although I suppose one could argue cause, because if we are never offered an item we won't buy it).\n",
    "\n",
    "What is really amazing, is how fast this happens (microseconds), and the relative accuracy (there are millions of teen age girls) the correlation has the law of large numbers in its favor.  It also needs very little personal information -- the correlation only needs the identy of your computer, and can determine from the vendors if that computer was used to buy something, it really does not need to know precisely who you are.\n",
    "\n",
    "The point is **correlation** is a valuable practical tool, and can be used to identify potential cause and effect, but correlation is not causation.\n",
    "\n",
    "Consider the chart below\n",
    "\n",
    "![](correlationgraph.png)\n",
    "\n",
    "The correlation between money spent on pets and the number of lawyers is quite good (nearly perfect), so does having pets cause lawyers?  \n",
    "\n",
    "Nice video : Correlation and Causation https://www.youtube.com/watch?v=1Sa2v7kVEc0\n",
    "\n",
    "<hr>\n",
    "\n",
    "### Implications\n",
    "Most research questions attempt to assign a cause to an effect. \n",
    "A careful examination of data can help answer these questions.\n",
    "In data science, many such studies involve observations on a group of individuals, a factor of interest called a treatment (explainatory variable, predictor variable, predictor feature ...), and an outcome (response, state, predicted value ...) measured on each individual.\n",
    "The establishment of causality takes place in two stages. \n",
    "\n",
    "First, an association is observed. \n",
    "Any relation between the treatment and the outcome is called an association (our friend correlation!).\n",
    "\n",
    "Second, A more careful analysis is used to establish causality.\n",
    "\n",
    "One approach would be to control all variables other than the suspected (explainatory) variables, which for any meaningful process is essentially impossible.\n",
    "\n",
    "An accepted approach is to establish randomized control studies:\n",
    "\n",
    "1. Start with a sample from a population (e.g. volunteers to test Covid 19 vaccines)\n",
    "2. Randomly assign members to either\n",
    "    a. Control group\n",
    "    b. Treatment group\n",
    "3. Expose the two groups identically, except the control group recieves a false (null) treatment\n",
    "4. Compare the responses of the two groups, if they are same, no evidence that the treatment variable CAUSES a response\n",
    "\n",
    "These concepts can be extended with some ingenuity to engineered systems and natural systems.  \n",
    "\n",
    "Lets consider how to use the correlation/cause thinking process.\n",
    "We may theorize that evaporation is caused by addition of thermal energy to a liquid or solid, the relative humidity (partial pressure of gasses including the evaporating substance) of the surrounding atmosphere.  \n",
    "\n",
    "Then we may design an experiment to test these conjectures, and discover that in two identical test cells, one that is shaded  from the sun and one not so much, that evaporation is different even when temperature in maintained the same in the test cell, and the partial pressures of everything are the same. That would seem to preclude either of these variables as a predictor - or we might conclude that shade itself is the problem.  We would probably rethink our results and consider that light itself can impart energy into the substance, rerun our experiments while accounting for the different light intensity.\n",
    "Eventually building up our understanding of things that cause evaporation\n",
    "\n",
    "\n"
   ]
  },
  {
   "cell_type": "code",
   "execution_count": null,
   "metadata": {},
   "outputs": [],
   "source": []
  },
  {
   "cell_type": "code",
   "execution_count": null,
   "metadata": {},
   "outputs": [],
   "source": []
  },
  {
   "cell_type": "code",
   "execution_count": null,
   "metadata": {},
   "outputs": [],
   "source": []
  },
  {
   "cell_type": "code",
   "execution_count": null,
   "metadata": {},
   "outputs": [],
   "source": []
  },
  {
   "cell_type": "code",
   "execution_count": null,
   "metadata": {},
   "outputs": [],
   "source": []
  },
  {
   "cell_type": "markdown",
   "metadata": {},
   "source": [
    "## Randomness: Iteration, simulation"
   ]
  },
  {
   "cell_type": "code",
   "execution_count": null,
   "metadata": {},
   "outputs": [],
   "source": []
  },
  {
   "cell_type": "code",
   "execution_count": null,
   "metadata": {},
   "outputs": [],
   "source": []
  },
  {
   "cell_type": "markdown",
   "metadata": {},
   "source": [
    "References\n",
    "\n",
    "Ford, Martin. 2009 The Lights in the Tunnel: Automation, Accelerating Technology and the Economy of the Future (p. 107). Acculant Publishing. Kindle Edition. "
   ]
  }
 ],
 "metadata": {
  "kernelspec": {
   "display_name": "Python 3",
   "language": "python",
   "name": "python3"
  },
  "language_info": {
   "codemirror_mode": {
    "name": "ipython",
    "version": 3
   },
   "file_extension": ".py",
   "mimetype": "text/x-python",
   "name": "python",
   "nbconvert_exporter": "python",
   "pygments_lexer": "ipython3",
   "version": "3.8.5"
  }
 },
 "nbformat": 4,
 "nbformat_minor": 4
}
