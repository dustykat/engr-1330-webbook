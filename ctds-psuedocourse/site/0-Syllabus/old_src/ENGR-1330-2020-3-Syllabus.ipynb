{
 "cells": [
  {
   "cell_type": "code",
   "execution_count": 1,
   "metadata": {},
   "outputs": [
    {
     "name": "stdout",
     "output_type": "stream",
     "text": [
      "atomickitty\n",
      "orion\n",
      "/opt/jupyterhub/bin/python3\n",
      "3.8.2 (default, Jul 16 2020, 14:00:26) \n",
      "[GCC 9.3.0]\n",
      "sys.version_info(major=3, minor=8, micro=2, releaselevel='final', serial=0)\n"
     ]
    }
   ],
   "source": [
    "# Script block to identify host, user, and kernel\n",
    "import sys\n",
    "! hostname\n",
    "! whoami\n",
    "print(sys.executable)\n",
    "print(sys.version)\n",
    "print(sys.version_info)\n",
    "# Script block to left align Markdown Tables"
   ]
  },
  {
   "cell_type": "code",
   "execution_count": 2,
   "metadata": {},
   "outputs": [
    {
     "data": {
      "text/html": [
       "<style>\n",
       "  table {margin-left: 0 !important;}\n",
       "</style>\n"
      ],
      "text/plain": [
       "<IPython.core.display.HTML object>"
      ]
     },
     "metadata": {},
     "output_type": "display_data"
    }
   ],
   "source": [
    "%%html\n",
    "<style>\n",
    "  table {margin-left: 0 !important;}\n",
    "</style>"
   ]
  },
  {
   "cell_type": "markdown",
   "metadata": {},
   "source": [
    "# ENGR 1330 Computational Thinking with Data Science"
   ]
  },
  {
   "cell_type": "markdown",
   "metadata": {},
   "source": [
    "## Course Description: \n",
    "Introducion to Python programming, its relevant modules and libraries, and computational thinking for solving problems in Data Science. Data science approaches for importing, manipulating, and analyzing data.  Modeling and visualizing real-world data sets in various science and engineering disciplines.\n",
    "\n",
    "3 credit hours comprising of lectures and hands-on lab sessions.\n",
    "\n",
    "This course provides a hands-on learning experience in programming and data science using iPython and JupyterLab. iPython is the interactive python kernel implemented in JupyterLab. \n",
    "\n",
    "## Prerequisites: \n",
    "\n",
    "Prior programming background is NOT required.  The course is intended for first-year WCOE students (aka engineering foundational) \n"
   ]
  },
  {
   "cell_type": "markdown",
   "metadata": {},
   "source": [
    "## COVID-19 Important Guidelines:\n",
    "* If Texas Tech University campus operations are required to change because of health concerns related to the COVID-19 pandemic, it is possible that this course will move to a fully online delivery format.  Should that be necessary, students will be advised of technical and/or equipment requirements, including remote proctoring software.  \n",
    "\n",
    "* Policy on absences resulting from illness: We anticipate that some students may have extended absences.  To avoid students feeling compelled to attend in-person class periods when having symptoms or feeling unwell, a standard policy is provided that holds students harmless for illness-related absences (see Section A below).\n",
    "\n",
    "\n",
    "### A. Illness-Based Absence Policy (Face-to-Face CLasses)\n",
    "If at any time during the semester you are ill, in the interest of your own health and safety as well as the health and safety of your instructors and classmates, you are encouraged not to attend face-to-face class meetings or events.  Please review the steps outlined below that you should follow to ensure your absence for illness will be excused.  These steps also apply to not participating in synchronous online class meetings if you feel too ill to do so and missing specified assignment due dates in asynchronous online classes because of illness.\n",
    "\n",
    "1. If you are ill and think the symptoms might be COVID-19-related:\n",
    "\n",
    "    1. Call Student Health Services at 806.743.2848 or your health care provider.  During after-hours and on weekends, contact TTU COVID-19 Helpline at TBD.\n",
    "    2. Self-report as soon as possible using the Dean of Students COVID-19 webpage. This website has specific directions about how to upload documentation from a medical provider and what will happen if your illness renders you unable to participate in classes for more than one week.\n",
    "    3. If your illness is determined to be COVID-19-related, all remaining documentation and communication will be handled through the Office of the Dean of Students, including notification of your instructors of the time you may be absent from and may return to classes.\n",
    "    4. If your illness is determined not to be COVID-19-related, please follow steps 2.a-d below.\n",
    "\n",
    "\n",
    "2. If you are ill and can attribute your symptoms to something other than COVID-19:\n",
    "\n",
    "    1. If your illness renders you unable to attend face-to-face classes, participate in synchronous online classes, or miss specified assignment due dates in asynchronous online classes, you are encouraged to contact either Student Health Services at 806.743.2848 or your health care provider.  Note that Student Health Services and your own and other health care providers may arrange virtual visits.\n",
    "    2. During the health provider visit, request a “return to school” note.\n",
    "    3. E-mail the instructor a picture of that note.\n",
    "    4. Return to class by the next class period after the date indicated on your note.\n",
    "\n",
    "Following the steps outlined above helps to keep your instructors informed about your absences and ensures your absence or missing an assignment due date because of illness will be marked excused.  You will still be responsible to complete within a week of returning to class any assignments, quizzes, or exams you miss because of illness.\n",
    "\n",
    "### B. Illness-Based Absence Policy (Telepresence CLasses)\n",
    "Same as above with respect potential to infect others; go to a health care provider if you are ill.  Telepresence courses are recorded and will be available on TTU MediaSite and/or YouTube (unlisted).  Exercises, Quizzes, and Examinations are all administered by a Learning Management System (Blackboard) and users need to allow enough time to complete and upload their work>"
   ]
  },
  {
   "cell_type": "markdown",
   "metadata": {},
   "source": [
    "## Course Sections\n",
    "Lesson time, days, and location: \n",
    "\n",
    "1. Section 003; CRN 42882; 0800-0920 T, TH ; Telepresence\n",
    "   1. Lab Section D52; CRN 43065; 0930-1050 T, TH\n",
    "\n",
    "\n",
    "2. Section 004; CRN 42884; 0800-0920 T, TH ; Telepresence\n",
    "    2. Lab Section D54; CRN 43067; 0930-1050 T, TH\n",
    "\n",
    "## Course Instructor:\n",
    "\n",
    "Instructor: Theodore G. Cleveland, Ph.D., P.E., M. ASCE, F. EWRI\n",
    "\n",
    "Email: theodore.cleveland@ttu.edu  (put ENGR 1330 in subject line for email related to this class)\n",
    "\n",
    "Office location: Telepresence (Zoom; GoToMeeting; etc.)\n",
    "\n",
    "Office hours: TBD\n",
    "\n",
    "## Teaching assistants:\n",
    "Email : TBD \n",
    "\n",
    "Office location: Telepresence\n",
    "\n",
    "Office hours: TBD"
   ]
  },
  {
   "cell_type": "markdown",
   "metadata": {},
   "source": [
    "## Textbook: \n",
    "Ani Adhikari and John DeNero, Computational and Inferential Thinking, The Foundations of Data Science, Creative Commons Attribution-NonCommercial-NoDerivatives 4.0 International (CC BY-NC-ND 4.0).  Link: https://www.inferentialthinking.com/chapters/intro.\n"
   ]
  },
  {
   "cell_type": "markdown",
   "metadata": {},
   "source": [
    "## Course Contents: \n",
    "* Computational thinking for problem-solving: Logical problem solving, decomposition, pattern recognition, abstraction, representation, algorithm design, and generalization.\n",
    "* Python Programming: \n",
    "    1. Variables, constants, data types, data structures, strings, math operators\n",
    "    2. boolean operators, expressions, program constructs, functions, \n",
    "    3. looping, I/O files, modules, and database.\n",
    "* Data science fundamentals:\n",
    "\t1. Experimental setup: \n",
    "        1. Importing and formatting data sets, \n",
    "        2. Displaying data, \n",
    "        3. Data pre-processing.\n",
    "\t2. Introductory statistical analysis with Python: \n",
    "        1. Elementary statistics, randomness, sampling, probability distributions,\n",
    "        2. Confidence intervals, hypothesis testing, and A/B testing.\n",
    "\t3. Basic data analysis, visualization, and machine learning: \n",
    "        1. Data pre-processing, \n",
    "        2. Supervised/unsupervised learning, \n",
    "        3. Performance evaluation metrics.\n",
    "\n"
   ]
  },
  {
   "cell_type": "markdown",
   "metadata": {},
   "source": [
    "## Learning Outcomes: \n",
    "On completion of the course, students will have\n",
    "* Created Python programs employing computational thinking concepts to\n",
    "* Employed Python libraries relevant to data science.\n",
    "* Downloaded data files from selected public sources and analyzed content.\n",
    "* Created scripts to perform fundamental data analytics and basic visualization.\n"
   ]
  },
  {
   "cell_type": "markdown",
   "metadata": {},
   "source": [
    "## ABET Student Outcomes\n",
    "* Engineering:\n",
    "    1. An ability to identify, formulate, and solve complex engineering problems by applying principles of engineering, science, and mathematics.\n",
    "    2. An ability to acquire and apply new knowledge as needed, using appropriate learning strategies. \n",
    "    \n",
    "\n",
    "* Computer Science:\n",
    "\n",
    "    1. Analyze a complex computing problem and to apply principles of computing and other relevant disciplines to identify solutions.  \n",
    "    2. Design, implement, and evaluate a computing-based solution to meet a given set of computing requirements in the context of the program’s discipline.  \n"
   ]
  },
  {
   "cell_type": "markdown",
   "metadata": {},
   "source": [
    "## Resources/Tools\n",
    "### Platforms for Python Programming (for your own computers)\n",
    "\n",
    "1. Anaconda platform (https://www.anaconda.com/): Anaconda distribution is an open-source Data Science Distribution Development Platform.  It includes Python 3 with over 1,500 data science packages making it easy to manage libraries and dependencies.  Available in Linux, Windows, and Mac OS X.  \n",
    "\n",
    "2. Jupyter (https://jupyter.org/): JupyterLab is a web-based interactive development environment for Jupyter notebooks, code, and data. JupyterLab is flexible: Configure and arrange the user interface to support a wide range of workflows in data science, scientific computing, and machine learning. `note` Anaconda for MacOS includes a JupyterLab instance, so a separate install is not required.\n",
    "\n",
    "### Additional Modules for Python Programming\n",
    "3. Math module (https://docs.python.org/3/library/math.html): Gives access to the mathematical functions defined by the C standard e.g. factorial, gcd, exponential, logarithm. \n",
    "4. Operator module (https://docs.python.org/3/library/operator.html): Helps in exporting a set of efficient functions corresponding to the intrinsic operators of Python.  For example, the operator add(x,y) is equivalent to the expression x+y.\n",
    "\n",
    "### Python Modules for Data Science\n",
    "5. Scipy module (https://www.scipy.org/): A Python-based ecosystem of open-source software for mathematics, science, and engineering. Some of the core packages are:\n",
    "    * Numpy: Provides n-dimensional array package\n",
    "    * Scipy: Fundamental for scientific computing (e.g. linear algorithm, optimization)\n",
    "    * Matplotlib: Visualizations/2D plotting\n",
    "    * IPython: Enhanced interactive console <<= this is the kernel used in JupyterLab\n",
    "    * Pandas: Data structures and data analysis\n",
    "6. Scikit-learn module (https://scikit-learn.org/stable/): A library for machine learning in Python. It is a simple and efficient tool for predictive data analysis.  It is built on NumPy, SciPy, and matplotlib modules.\n",
    "\n",
    "\n",
    "### Some thoughts on \"your own machine\"\n",
    "\n",
    "If you already have an Apple computer: The MacOS install is the easiest, and does a good job of installing everything - with a caveat! MacOS uses python 2.7+ as part of the OS (for upgrades and such), you have to be sure you are using the correct environment: `conda activate/deactivate` will become your friend. Do not buy an Apple computer for this course or any engineering course.  Apple makes a fine product, but professional engineering software is PC-centric.  Apple computers using a hypervisor are fine, but that's getting into complexity that will degrade the educational experience.  As a prediction, the first few years of Apple on ARM chips is going to be a disaster (for Apple) as most x86-64 application layers do not play well with ARM when the function calls are recursive -- but Apple will eventually work it out.\n",
    "\n",
    "My advice for WCOE students is to buy a PC if you can, even a cheap POS will serve you well at TTU.  \n",
    "\n",
    "A Windows 10 install is almost as easy, be sure you accept default paths of you will never get it to work right.\n",
    "\n",
    "A Linux install is the hardest of the three because of environment settings.  I found Ubuntu (Debian based, so same for Raspian) easier than CentOS (RHEL based).  Some things to remember, don't run conda as `sudo` it puts stuff in wrong place.  \n",
    "### On-Line Options\n",
    "While network dependent the https://cocalc.com/ environment is a good option, they have the kernels installed and running, you log-in and work on their servers.  The free tier is probabl;y more than adequate for this class.\n",
    "\n",
    "### CECE Support Site\n",
    "The instructor maintains a web-site with a lot of useful content related to this course; nearly all the examples I will use in class will be stored at this site in addition to TTU-owned sites.  Feel free to visit and use the materials with attribution located at http://atomickitty.ddns.net/documents/JupyterOrion/\n",
    "\n",
    "In fact this syllabus was created using a JupyterLab notebook (as a markdown processor). "
   ]
  },
  {
   "cell_type": "markdown",
   "metadata": {},
   "source": [
    "## Course Schedule \n",
    "\n",
    "| Item | Lesson | Lab |\n",
    "|:---|:---|:---|\n",
    "|25 Aug 2020| Introduction to Computational Thinking with Data Science: <br> - Computational thinking concepts <br> - Python as a programming environment <br> - Data science and practices| Environment set up: <br> – Jupyter notebook <br> - Computational Thinking Examples |\n",
    "|27 Aug 2020|Programming Principles:<br> - Data types (int, float, string, bool)<br> - Variables, operators, expressions, basic I/O<br> - String functions and operations|Introduction to Python<br> - Data types (e.g. int, float, string, bool)<br> - Expressions|\n",
    "|3|Programming Principles:<br> - Data structures: Array, list, tuple, set, dictionary<br> - Conditional statements |Introduction to Python<br> - Data structures<br> - Conditional statements|\n",
    "|4|Programming Principles:<br> - Loops |Introduction to Python<br> - Loops|\n",
    "|5|Programming Principles:<br> - Functions<br> - Variable scope|Introduction to Python<br> - Functions<br> - Variable scope|\n",
    "|6|Programming Principles:<br> - Class and objects <br> - File handling|Introduction to Python<br> - Class and objects<br> - File handling|\n",
    "|7|Review – Python programming principles|Exercises on Python programming principles|\n",
    "|8|Data Representation and Operations:<br> Python library: <strong>NumPy</strong><br> - Data representation: Arrays, vectors, matrices <br> - Data operations: Indexing, math functions |Exercises on NumPy|\n",
    "|9|Data Query and Manipulation: <br> Python Library: <strong>Pandas</strong> <br> - Data frame: Create, index, read/write to file, summarize statistics, and fill and drop values|Exercises on Pandas|\n",
    "|10|Data Display:<br> Python Libraries: <strong>Matplotlib</strong><br> - Data Display for line charts, bar charts,<br> box plot, scatter plot, and histograms|Exercises on data display|\n",
    "|11|Review – NumPy, Pandas, Matplotlib| Demos |\n",
    "|12|Midterm-1<br> - LMS administered| |\n",
    "|13| Data Modeling: Statistical Approach:<br> -   Establishing causality<br> -   Randomness: Iteration, simulation| Exercises on causality and simulation |\n",
    "|14|Randomness: Probabilities|Exercises on probabilities|\n",
    "|15|Sampling and empirical distributions|Exercises on sampling|\n",
    "|16|Hypothesis testing: General concept and examples of assessing models. |Exercises on hypothesis testing|\n",
    "|17|Hypothesis testing: Comparing proportions, type1 & type2 errors, p-value.|Exercises on hypothesis testing|\n",
    "|18|Comparing two samples: A/B Testing|Exercises on A/B testing|\n",
    "|19|Comparing two samples: A/B Testing|Exercises on A/B testing|\n",
    "|20|Confidence intervals|Exercises on confidence intervals|\n",
    "|21|Interpreting confidence intervals|Exercises on confidence intervals|\n",
    "|22|Center and spread|Exercises on center and spread|\n",
    "|23|Normal distribution|Exercises on normal distribution|\n",
    "|24|Sample means|Exercises on sample means|\n",
    "|25|Review – Statistical analysis| Demos |\n",
    "|26|Midterm-2 <br> - LMS administered| |\n",
    "|27| Data Modeling: Machine Learning Approach:<br> - Correlation <br> - Presentation template<br> - Final projects|Exercises on correlation|\n",
    "|28|Linear regression|Exercises on linear regression|\n",
    "|29|Least Squares|Exercises on least squares|\n",
    "|30|Residuals|Exercises on computing residuals|\n",
    "|31|Regression Inference|Exercises on regression|\n",
    "|32|Regression:<br> - Evaluation metrics: Accuracy, error|Exercises on regression with evaluation|\n",
    "|33|Classification: <br>- Supervised learning<br>- Nearest neighbor|Exercises on KNN|\n",
    "|34|Classification Evaluation and Making Decisions: <br> - Confusion matrix, precision, recall, accuracy, F-score.<br> - Making decisions|Exercises on KNN with evaluation|\n",
    "|35|Review – Machine learning| Demos |\n",
    "|36|Midterm-3<br> - LMS administered| |"
   ]
  },
  {
   "cell_type": "markdown",
   "metadata": {},
   "source": [
    "## Course Assessment and Grading Criteria:\n",
    "There will be three midterm exams and one comprehensive final project for the course.  \n",
    "In addition, lab participation, quizzes, and assignments also contribute to the final grade.  \n",
    "<strong>Late</strong> assignments will not be scored.  \n",
    "\n",
    "Grades will be based on the following components; weighting is approximate:\n",
    "\n",
    "|Assessment Instrument|Total points|Weight(%)|\n",
    "|---|---:|---:|\n",
    "|Midterm-1|100|16|\n",
    "|Midterm-2|100|16|\n",
    "|Midterm-3|100|16|\n",
    "|Lab participation|30|5|\n",
    "|Quizzes|100|16|\n",
    "|Assignments|70|11|\n",
    "|Final project|100|16|\n",
    "|Overall total|600|100|\n",
    "\n",
    "Letter grades will be assigned using the following proportions:\n",
    "\n",
    "|Normalized Score Range|Letter Grade|\n",
    "|:-|---:|\n",
    "|≥ 90|A|\n",
    "|80-89|B|\n",
    "|70-79|C|\n",
    "|55-69|D|\n",
    "|< 55|F|\n",
    "\n",
    "\n"
   ]
  },
  {
   "cell_type": "markdown",
   "metadata": {},
   "source": [
    "## Classroom Policy:\n",
    "The following activities are not allowed in the classroom: Texting or talking on the cellphone or other electronic devices, and reading non-course related materials.\n",
    "### Telepresence (On-line) Courses\n",
    "Obviously electronic devices are vital; disrupting the webinar is prohibited, please mute your microphone unless you have a question - consider typing your question into the chat window as well. \n"
   ]
  },
  {
   "cell_type": "markdown",
   "metadata": {},
   "source": [
    "## ADA Statement: \n",
    "Any student who, because of a disability, may require special arrangements in order to meet the course requirements should contact the instructor as soon as possible to make necessary arrangements.  Students must present appropriate verification from Student Disability Services during the instructor's office hours.  Please note that instructors are not allowed to provide classroom accommodation to a student until appropriate verification from Student Disability Services has been provided.  For additional information, please contact Student Disability Services \n",
    "office in 335 West Hall or call 806.742.2405.\n",
    "\n",
    "## Academic Integrity Statement:\n",
    "Academic integrity is taking responsibility for one’s own class and/or course work, being individually accountable, and demonstrating intellectual honesty and ethical behavior.  Academic integrity is a personal choice to abide by the standards of intellectual honesty and responsibility.  Because education is a shared effort to achieve learning through the exchange of ideas, students, faculty, and staff have the collective responsibility to build mutual trust and respect.  Ethical behavior and independent thought are essential for the highest level of academic achievement, which then must be measured.  Academic achievement includes scholarship, teaching, and learning, all of which are shared endeavors.  Grades are a device used to quantify the successful accumulation of knowledge through learning.  Adhering to the standards of academic integrity ensures grades are earned honestly.  Academic integrity is the foundation upon which students, faculty, and staff build their educational and professional careers.  [Texas Tech University (“University”) Quality Enhancement Plan, Academic Integrity Task Force, 2010].\n",
    "\n",
    "## Religious Holy Day Statement: \n",
    "“Religious holy day” means a holy day observed by a religion whose places of worship are exempt from property taxation under Texas Tax Code §11.20.  A student who intends to observe a religious holy day should make that intention known to the instructor prior to the absence.  A student who is absent from classes for the observance of a religious holy day shall be allowed to take an examination or complete an assignment scheduled for that day within a reasonable time after the absence.  A student who is excused may not be penalized for the absence; however, the instructor may respond appropriately if the student fails to complete the assignment satisfactorily.\n",
    "\n",
    "## Ethical Conduct Policy:\n",
    "Cheating is prohibited, and the representation of the work of another person as your own will be grounds for receiving a failing grade in the course.\n"
   ]
  },
  {
   "cell_type": "code",
   "execution_count": null,
   "metadata": {},
   "outputs": [],
   "source": []
  }
 ],
 "metadata": {
  "kernelspec": {
   "display_name": "Python 3",
   "language": "python",
   "name": "python3"
  },
  "language_info": {
   "codemirror_mode": {
    "name": "ipython",
    "version": 3
   },
   "file_extension": ".py",
   "mimetype": "text/x-python",
   "name": "python",
   "nbconvert_exporter": "python",
   "pygments_lexer": "ipython3",
   "version": "3.8.5"
  }
 },
 "nbformat": 4,
 "nbformat_minor": 4
}
