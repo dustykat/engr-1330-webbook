{
 "cells": [
  {
   "cell_type": "code",
   "execution_count": null,
   "metadata": {},
   "outputs": [],
   "source": []
  },
  {
   "cell_type": "code",
   "execution_count": 1,
   "metadata": {},
   "outputs": [
    {
     "name": "stdout",
     "output_type": "stream",
     "text": [
      "/opt/jupyterhub/bin/python3\n",
      "3.8.2 (default, Apr 27 2020, 15:53:34) \n",
      "[GCC 9.3.0]\n",
      "sys.version_info(major=3, minor=8, micro=2, releaselevel='final', serial=0)\n"
     ]
    }
   ],
   "source": [
    "# Environment Check -- Deactivate on a working host\n",
    "import sys\n",
    "print(sys.executable)\n",
    "print(sys.version)\n",
    "print(sys.version_info)"
   ]
  },
  {
   "cell_type": "markdown",
   "metadata": {},
   "source": [
    "# Nature Inspired Portal Design\n",
    "\n",
    "This notebook examines the design of a portal (like a doorway) using Biological Inspired Design principles from ENGR 1320 (we will examine geological inspiration too), and Computational Thinking from ENGR 1330.\n",
    "\n",
    "\n",
    "## Design Process\n",
    "A design flowchart for a civil engineering project is shown below\n",
    "\n",
    "![](designflowchart.png)\n",
    "\n",
    "The flowchart identifies four major phases represented by rectangular blocks, with information and decision flows.\n",
    "The diagram depicts decision flow as a feed-forward process, whereas the information is a feed-back process, the result of a decision in an attempt to move the design from planning to operation creates information requirements that feed backward, and may influence the decision.  \n",
    "\n",
    "### Planning \n",
    "The planning phase identifies a specific plan from a general idea.\n",
    "\n",
    "### Design\n",
    "The design phase identifies within the limits of the specific plan a complete detailed design; dimensions, materials selection, sub-system sequencing, and such.\n",
    "\n",
    "### Construction\n",
    "The construction phase is carried out within the limits defined by the detailed design to create a complete physical project; a building, vehicle, report, computer program, or such -- in Civil Engineering the result is usually something in the built environment, although process control software (SCADA for instance) also fits within this process flow, as does a drainage master plan; the point here is construction actually builds the project into some tangible object.\n",
    "\n",
    "### Operation\n",
    "The operation phase is the actual use of the object along with meaningful recordkeeping to assess the success or failure of the project. The operation phase is limited by what the three prior phases have provided.\n",
    "\n",
    "This process diagram is a useful roadmap for an engineering design, now onward with the example"
   ]
  },
  {
   "cell_type": "markdown",
   "metadata": {},
   "source": [
    "## Problem Layout\n",
    "\n",
    "The portal frame below is to be designed in steel (a material selection that can be examined further on) on a rigid-plastic basis to have a factor of safety of 2.0 for the loading condition shown.\n",
    "\n",
    "![](portalframe.png)\n",
    "\n",
    "The two columns are of identical section and the beam may have a different section.\n",
    "\n",
    "In classical design literature the design process at this point is stated something along the lines of\n",
    "\n",
    "\"<em>Because member lengths are known, and the material is specified,  the design process consists of selecting the appropriate member cross section.  As a rigid-plastic design is required, an appropriate choice for a measure of the size of a member is its fully plastic moment. The designer has to make decisions upon the fully plastic moment of the beam member, to which a variable $M_1$ will be assigned, and the column members to which variable $M_2$ is assigned.</em>\"\n",
    "\n",
    "We will proceede with this analysis process initially to frame a design approach, then appeal to nature-inspired for some additional guidance if we relax the material choice, and expand our concept of a material cross section to a composite (e.g. a truss is a macroscopic composite of air and steel) section.\n",
    "\n",
    "Some principles from `statics` we will apply in what follows include:\n",
    "\n",
    "  - kinematics (failure mode geometries) \n",
    "  - rigid joint (moment transmission) vs pin connection \n",
    "  - virtual work \n",
    "\n",
    "\n"
   ]
  },
  {
   "cell_type": "markdown",
   "metadata": {},
   "source": [
    "#### Failure Modes\n",
    "Limits on the values the two moments can take are governed by the factor of safety requirement of 2.0 against collapse under the given loading. The designer wants to ensure that in a possible collapse mode of the frame, the work done on the frame by the factored applied loads does not exceede the energy capacity of the plastic deformations (rotations at plastic hinges -- the corner junctions, possibly welds, and the support connections -- also possibly welds) of the frame.\n",
    "\n",
    "The figure below shows six possible collapse mechanisms of the frame and the energy-balance requirement associated with each kinematic mechanism.  There are three general failure mechanisms: a beam failure (a and b), a sway failure (c and d), and combined failure (e and f).  There are two mechanisms for each general failure type because until the sections are specified we do not know if the beam is weaker than the column ($M_1 < M_2$) or the opposite.\n",
    "\n",
    "![](failuremodes.png)\n",
    "\n",
    "The hinge failuers at junctions B and C of the frame will always occur in the weaker member (the junctions here are rigid, not pins, hence will transmit moments) at the joins because less energy is needed to fail the weaker member.\n",
    "\n",
    "With ech of the six failure modes, there is a relationship between the work done by the factored loads and the energy absorbed by the deformations.  \n",
    "\n",
    "\n",
    "\n",
    "\n"
   ]
  },
  {
   "cell_type": "markdown",
   "metadata": {},
   "source": [
    "##### Virtual Work Mode A\n",
    "\n",
    "All the work is done by the 40kN load (20kN actual x 2.0 factor of safety), because the beam is the weaker member.  The columns do not deform, thus the horizontal loading does no work. The work is\n",
    "\n",
    "\\begin{equation}\n",
    "W_B = F \\cdot d = 2 \\times 20 kN \\times 3 m \\times \\theta\n",
    "\\end{equation}"
   ]
  },
  {
   "cell_type": "markdown",
   "metadata": {},
   "source": [
    "##### Virtual Work Mode B\n",
    "\n",
    "All the work is done by the 40kN load (20kN actual x 2.0 factor of safety), because the beam is the weaker member.  The columns do not deform, thus the horizontal loading does no work. The work is\n",
    "\n",
    "\\begin{equation}\n",
    "W_B = F \\cdot d = 2 \\times 20 kN \\times 3 m \\times \\theta\n",
    "\\end{equation}\n",
    "\n",
    "Thus virtual work applied for mode B is $120 \\theta$ kN-m.  \n",
    "\n",
    "This work is absorbed in the 4 hinges formed - two at the center of the beam, each with a bend angle of $\\theta$ and two at the beam-column connection also with value $\\theta$, here the columns are bending at their tops.\n",
    "\n",
    "The column bends are $ 2 \\times M_2 \\times \\theta $ kN-m, the beam bend(s) are  $ 2 \\times M_1 \\times \\theta $ where $M_1$ and $M_2$ are the maximum bending moments in the beam and columns respectively.  \n",
    "\n",
    "For the frame to survive the load the work absorbed by the bends must exceede the applied work or\n",
    "\n",
    "\\begin{equation}\n",
    "2 M_2 \\theta + 2 M_1 \\theta >= 120 \\theta\n",
    "\\end{equation}\n",
    "\n",
    "\n"
   ]
  },
  {
   "cell_type": "code",
   "execution_count": 5,
   "metadata": {},
   "outputs": [
    {
     "data": {
      "text/plain": [
       "120.0"
      ]
     },
     "execution_count": 5,
     "metadata": {},
     "output_type": "execute_result"
    }
   ],
   "source": [
    "column_height = 3.0\n",
    "beam_length = 6.0\n",
    "load_vertical = 20.0\n",
    "load_horizontal = 10.0\n",
    "factor_safety = 2.0\n",
    "#work case b\n",
    "angle = 1\n",
    "work_b = factor_safety * load_vertical * (beam_length/2.0) * angle\n",
    "work_b"
   ]
  },
  {
   "cell_type": "markdown",
   "metadata": {},
   "source": []
  },
  {
   "cell_type": "markdown",
   "metadata": {},
   "source": [
    "##### Virtual Work Mode C\n",
    "\n",
    "All the work is done by the 40kN load (20kN actual x 2.0 factor of safety), because the beam is the weaker member.  The columns do not deform, thus the horizontal loading does no work. The work is\n",
    "\n",
    "\\begin{equation}\n",
    "W_B = F \\cdot d = 2 \\times 20 kN \\times 3 m \\times \\theta\n",
    "\\end{equation}"
   ]
  },
  {
   "cell_type": "code",
   "execution_count": null,
   "metadata": {},
   "outputs": [],
   "source": []
  },
  {
   "cell_type": "markdown",
   "metadata": {},
   "source": [
    "##### Virtual Work Mode D\n",
    "\n",
    "All the work is done by the 40kN load (20kN actual x 2.0 factor of safety), because the beam is the weaker member.  The columns do not deform, thus the horizontal loading does no work. The work is\n",
    "\n",
    "\\begin{equation}\n",
    "W_B = F \\cdot d = 2 \\times 20 kN \\times 3 m \\times \\theta\n",
    "\\end{equation}"
   ]
  },
  {
   "cell_type": "markdown",
   "metadata": {},
   "source": [
    "##### Virtual Work Mode E\n",
    "\n",
    "All the work is done by the 40kN load (20kN actual x 2.0 factor of safety), because the beam is the weaker member.  The columns do not deform, thus the horizontal loading does no work. The work is\n",
    "\n",
    "\\begin{equation}\n",
    "W_B = F \\cdot d = 2 \\times 20 kN \\times 3 m \\times \\theta\n",
    "\\end{equation}"
   ]
  }
 ],
 "metadata": {
  "kernelspec": {
   "display_name": "Python 3",
   "language": "python",
   "name": "python3"
  },
  "language_info": {
   "codemirror_mode": {
    "name": "ipython",
    "version": 3
   },
   "file_extension": ".py",
   "mimetype": "text/x-python",
   "name": "python",
   "nbconvert_exporter": "python",
   "pygments_lexer": "ipython3",
   "version": "3.6.9"
  }
 },
 "nbformat": 4,
 "nbformat_minor": 4
}
