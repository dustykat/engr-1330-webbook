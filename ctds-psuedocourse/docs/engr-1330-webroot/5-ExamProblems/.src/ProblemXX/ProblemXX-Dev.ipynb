{
 "cells": [
  {
   "cell_type": "code",
   "execution_count": 9,
   "metadata": {},
   "outputs": [
    {
     "data": {
      "text/html": [
       "<!--Script block to left align Markdown Tables-->\n",
       "<style>\n",
       "  table {margin-left: 0 !important;}\n",
       "</style>\n"
      ],
      "text/plain": [
       "<IPython.core.display.HTML object>"
      ]
     },
     "metadata": {},
     "output_type": "display_data"
    }
   ],
   "source": [
    "%%html\n",
    "<!--Script block to left align Markdown Tables-->\n",
    "<style>\n",
    "  table {margin-left: 0 !important;}\n",
    "</style>"
   ]
  },
  {
   "cell_type": "markdown",
   "metadata": {},
   "source": [
    "##### Notes\n",
    "\n",
    "Leave script block above in place to left justify the table.\n",
    "This problem can also be used as laboratory exercise in `matplotlib` lesson.  \n",
    "Dependencies: `matplotlib` and `math`; could also be solved using `numpy` and/or `pandas`"
   ]
  },
  {
   "cell_type": "code",
   "execution_count": null,
   "metadata": {},
   "outputs": [],
   "source": []
  },
  {
   "cell_type": "code",
   "execution_count": null,
   "metadata": {},
   "outputs": [],
   "source": []
  },
  {
   "cell_type": "markdown",
   "metadata": {},
   "source": [
    "# Problem XX\n",
    "\n",
    "Graphing Functions Special Functions \n",
    "\n",
    "Consider the two functions listed below:\n",
    "\n",
    "\\begin{equation}\n",
    "f(x) = e^{-\\alpha x}\n",
    "\\label{eqn:fofx}\n",
    "\\end{equation}\n",
    "\n",
    "\\begin{equation}\n",
    "g(x) = \\gamma sin(\\beta  x)\n",
    "\\label{eqn:gofx}\n",
    "\\end{equation}\n",
    "\n",
    "Prepare a plot of the two functions on the same graph. \n",
    "\n",
    "Use the values in Table below for $\\alpha$, $\\beta$, and $\\gamma$.\n",
    "\n",
    "|Parameter|Value|\n",
    "|:---|---:|\n",
    "|$\\alpha$|0.50|\n",
    "|$\\beta$|3.00|\n",
    "|$\\gamma$|$\\frac{\\pi}{2}$|\n",
    "\n",
    "\n",
    "The plot should have $x$ values ranging from $0$ to $10$ (inclusive) in sufficiently small increments to see curvature in the two functions as well as to identify the number and approximate locations of intersections. In this problem, intersections are locations in the $x-y$ plane where the two \"curves\" cross one another of the two plots.\n"
   ]
  },
  {
   "cell_type": "code",
   "execution_count": 10,
   "metadata": {},
   "outputs": [],
   "source": [
    "# By-hand evaluate f(x) for x=1, alpha = 1/2"
   ]
  },
  {
   "cell_type": "code",
   "execution_count": 11,
   "metadata": {},
   "outputs": [],
   "source": [
    "# By-hand evaluate g(x) for x=3.14, beta = 1/2, gamma = 2"
   ]
  },
  {
   "cell_type": "code",
   "execution_count": 12,
   "metadata": {},
   "outputs": [],
   "source": [
    "# Define the first function f(x,alpha), test the function using your by hand answer"
   ]
  },
  {
   "cell_type": "code",
   "execution_count": 13,
   "metadata": {},
   "outputs": [],
   "source": [
    "# Define the second function g(x,beta,gamma), test the function using your by hand answer"
   ]
  },
  {
   "cell_type": "code",
   "execution_count": 14,
   "metadata": {},
   "outputs": [],
   "source": [
    "# Built a list for x that ranges from 0 to 10, inclusive, with adjustable step sizes for plotting later on"
   ]
  },
  {
   "cell_type": "code",
   "execution_count": 15,
   "metadata": {},
   "outputs": [],
   "source": [
    "# Build a plotting function that plots both functions on the same chart"
   ]
  },
  {
   "cell_type": "code",
   "execution_count": null,
   "metadata": {},
   "outputs": [],
   "source": []
  }
 ],
 "metadata": {
  "kernelspec": {
   "display_name": "Python 38",
   "language": "python",
   "name": "python38"
  },
  "language_info": {
   "codemirror_mode": {
    "name": "ipython",
    "version": 3
   },
   "file_extension": ".py",
   "mimetype": "text/x-python",
   "name": "python",
   "nbconvert_exporter": "python",
   "pygments_lexer": "ipython3",
   "version": "3.8.3"
  }
 },
 "nbformat": 4,
 "nbformat_minor": 4
}
