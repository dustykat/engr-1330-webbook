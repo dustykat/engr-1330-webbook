{
 "cells": [
  {
   "cell_type": "code",
   "execution_count": 1,
   "metadata": {},
   "outputs": [
    {
     "data": {
      "text/html": [
       "<!--Script block to left align Markdown Tables-->\n",
       "<style>\n",
       "  table {margin-left: 0 !important;}\n",
       "</style>\n"
      ],
      "text/plain": [
       "<IPython.core.display.HTML object>"
      ]
     },
     "metadata": {},
     "output_type": "display_data"
    }
   ],
   "source": [
    "%%html\n",
    "<!--Script block to left align Markdown Tables-->\n",
    "<style>\n",
    "  table {margin-left: 0 !important;}\n",
    "</style>"
   ]
  },
  {
   "cell_type": "markdown",
   "metadata": {},
   "source": [
    "##### Notes\n",
    "\n",
    "Leave script block above in place to left justify the table.\n",
    "This problem can also be used as laboratory exercise in `matplotlib` lesson.  \n",
    "Dependencies: `matplotlib` and `math`; could also be solved using `numpy` and/or `pandas`"
   ]
  },
  {
   "cell_type": "code",
   "execution_count": null,
   "metadata": {},
   "outputs": [],
   "source": []
  },
  {
   "cell_type": "code",
   "execution_count": null,
   "metadata": {},
   "outputs": [],
   "source": []
  },
  {
   "cell_type": "markdown",
   "metadata": {},
   "source": [
    "# Problem XX\n",
    "\n",
    "Graphing Functions Special Functions \n",
    "\n",
    "Consider the two functions listed below:\n",
    "\n",
    "\\begin{equation}\n",
    "f(x) = e^{-\\alpha x}\n",
    "\\label{eqn:fofx}\n",
    "\\end{equation}\n",
    "\n",
    "\\begin{equation}\n",
    "g(x) = \\gamma sin(\\beta  x)\n",
    "\\label{eqn:gofx}\n",
    "\\end{equation}\n",
    "\n",
    "Prepare a plot of the two functions on the same graph. \n",
    "\n",
    "Use the values in Table below for $\\alpha$, $\\beta$, and $\\gamma$.\n",
    "\n",
    "|Parameter|Value|\n",
    "|:---|---:|\n",
    "|$\\alpha$|0.50|\n",
    "|$\\beta$|3.00|\n",
    "|$\\gamma$|$\\frac{\\pi}{2}$|\n",
    "\n",
    "\n",
    "The plot should have $x$ values ranging from $0$ to $10$ (inclusive) in sufficiently small increments to see curvature in the two functions as well as to identify the number and approximate locations of intersections. In this problem, intersections are locations in the $x-y$ plane where the two \"curves\" cross one another of the two plots.\n"
   ]
  },
  {
   "cell_type": "code",
   "execution_count": null,
   "metadata": {},
   "outputs": [],
   "source": [
    "# By-hand evaluate f(x) for x=1, alpha = 1/2"
   ]
  },
  {
   "cell_type": "code",
   "execution_count": null,
   "metadata": {},
   "outputs": [],
   "source": [
    "# By-hand evaluate g(x) for x=3.14, beta = 1/2, gamma = 2"
   ]
  },
  {
   "cell_type": "code",
   "execution_count": 2,
   "metadata": {},
   "outputs": [
    {
     "data": {
      "text/plain": [
       "0.6065306597126334"
      ]
     },
     "execution_count": 2,
     "metadata": {},
     "output_type": "execute_result"
    }
   ],
   "source": [
    "# Define the first function f(x,alpha), test the function using your by hand answer\n",
    "def f(x,alpha):\n",
    "    import math\n",
    "    f = math.exp(-1.0*alpha*x)\n",
    "    return f\n",
    "\n",
    "f(1,0.5)"
   ]
  },
  {
   "cell_type": "code",
   "execution_count": 3,
   "metadata": {},
   "outputs": [
    {
     "data": {
      "text/plain": [
       "1.9999993658636692"
      ]
     },
     "execution_count": 3,
     "metadata": {},
     "output_type": "execute_result"
    }
   ],
   "source": [
    "# Define the second function g(x,beta,gamma), test the function using your by hand answer\n",
    "def g(x,beta,gamma):\n",
    "    import math\n",
    "    f = gamma*math.sin(beta*x)\n",
    "    return f\n",
    "\n",
    "g(3.14,0.5,2.0)"
   ]
  },
  {
   "cell_type": "raw",
   "metadata": {},
   "source": [
    "# Built a list for x that ranges from 0 to 10, inclusive, with adjustable step sizes for plotting later on\n",
    "howMany = 10\n",
    "scale = 10.0/howMany\n",
    "xvector = []\n",
    "for i in range(0,howMany+1):\n",
    "    xvector.append(scale*i)\n",
    "#xvector # activate to display"
   ]
  },
  {
   "cell_type": "code",
   "execution_count": null,
   "metadata": {},
   "outputs": [],
   "source": [
    "# Build a plotting function that plots both functions on the same chart\n",
    "alpha = 0.5\n",
    "beta = 0.5\n",
    "gamma = 2.0\n",
    "yf = []\n",
    "yg = []\n",
    "for i in range(0,howMany+1):\n",
    "    yf.append(f(xvector[i],alpha))\n",
    "    yg.append(g(xvector[i],beta,gamma))\n",
    "\n",
    "def plot2lines(list11,list21,list12,list22,strx,stry,strtitle): # plot list1 on x, list2 on y, xlabel, ylabel, title\n",
    "    from matplotlib import pyplot as plt # import the plotting library from matplotlibplt.show()\n",
    "    plt.plot( list11, list21, color ='green', marker ='o', linestyle ='none' , label = \"Observed\" ) # create a line chart, years on x-axis, gdp on y-axis\n",
    "    plt.plot( list12, list22, color ='red', marker ='o', linestyle ='solid' , label = \"Model\") # create a line chart, years on x-axis, gdp on y-axis\n",
    "    plt.legend()\n",
    "    plt.title(strtitle)# add a title\n",
    "    plt.ylabel(stry)# add a label to the x and y-axes\n",
    "    plt.xlabel(strx)\n",
    "    plt.show() # display the plot\n",
    "    return #null return\n",
    "\n",
    "plot2lines(xvector,yf,xvector,yg,'x-value','y-value','plot of f and g')"
   ]
  },
  {
   "cell_type": "code",
   "execution_count": null,
   "metadata": {},
   "outputs": [],
   "source": []
  }
 ],
 "metadata": {
  "kernelspec": {
   "display_name": "Python 38",
   "language": "python",
   "name": "python38"
  },
  "language_info": {
   "codemirror_mode": {
    "name": "ipython",
    "version": 3
   },
   "file_extension": ".py",
   "mimetype": "text/x-python",
   "name": "python",
   "nbconvert_exporter": "python",
   "pygments_lexer": "ipython3",
   "version": "3.6.9"
  }
 },
 "nbformat": 4,
 "nbformat_minor": 4
}
