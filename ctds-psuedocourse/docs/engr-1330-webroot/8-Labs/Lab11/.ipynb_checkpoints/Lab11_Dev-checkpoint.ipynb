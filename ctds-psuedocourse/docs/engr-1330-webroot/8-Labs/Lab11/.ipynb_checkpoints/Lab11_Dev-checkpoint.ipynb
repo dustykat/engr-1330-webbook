{
 "cells": [
  {
   "cell_type": "markdown",
   "metadata": {},
   "source": [
    "# <font color=darkred>Laboratory 11: \"Avoiding Data Alexithymia\" or \"Perks of Using Descriptive Statistics</font>"
   ]
  },
  {
   "cell_type": "code",
   "execution_count": 3,
   "metadata": {},
   "outputs": [
    {
     "name": "stdout",
     "output_type": "stream",
     "text": [
      "DESKTOP-EH6HD63\n",
      "desktop-eh6hd63\\farha\n",
      "C:\\Users\\Farha\\Anaconda3\\python.exe\n",
      "3.7.4 (default, Aug  9 2019, 18:34:13) [MSC v.1915 64 bit (AMD64)]\n",
      "sys.version_info(major=3, minor=7, micro=4, releaselevel='final', serial=0)\n"
     ]
    }
   ],
   "source": [
    "# Preamble script block to identify host, user, and kernel\n",
    "import sys\n",
    "! hostname\n",
    "! whoami\n",
    "print(sys.executable)\n",
    "print(sys.version)\n",
    "print(sys.version_info)"
   ]
  },
  {
   "cell_type": "markdown",
   "metadata": {},
   "source": [
    "## Full name: \n",
    "## R#: \n",
    "## Title of the notebook:\n",
    "## Date:\n",
    "___"
   ]
  },
  {
   "cell_type": "markdown",
   "metadata": {},
   "source": [
    "# <font color=purple>Descriptive Statistics with Python</font>"
   ]
  },
  {
   "cell_type": "markdown",
   "metadata": {},
   "source": [
    "![](https://sd.keepcalms.com/i/keep-calm-and-study-descriptive-statistics.png)\n"
   ]
  },
  {
   "cell_type": "code",
   "execution_count": 90,
   "metadata": {
    "collapsed": false,
    "jupyter": {
     "outputs_hidden": false
    }
   },
   "outputs": [],
   "source": [
    "# Let's import the necessary libraries:\n",
    "import numpy as np\n",
    "import pandas as pd\n",
    "import statistics\n",
    "import scipy.stats\n",
    "import matplotlib.pyplot as plt "
   ]
  },
  {
   "cell_type": "markdown",
   "metadata": {},
   "source": [
    "___\n",
    "### Example1: \n",
    "__1. Read the \"AirTraffic.csv\" file as a dataframe and check its first few rows.__<br>\n",
    "__2. Use descriptive functions of the Pandas library to learn more about the dataframe__<br>\n",
    "__3. Compute the arithmetic and harmonic mean of 'Distance'.__<br>\n",
    "__4. Find the median of 'Distance'.__<br>\n",
    "__5. Find the range of 'Distance'.__<br>\n",
    "__6. Find the IQR of 'Distance'.__<br>\n",
    "__7. Use descriptive functions of the Pandas library to get a 5-number summary of 'Distance'. Plot a box plot without outliers.__<br>\n",
    "__8. Find the variance and standard deviation of 'Distance'.__<br>\n",
    "__9. Find the skewness and kurtosis 'Distance'.__<br>"
   ]
  },
  {
   "cell_type": "code",
   "execution_count": 84,
   "metadata": {
    "collapsed": false,
    "jupyter": {
     "outputs_hidden": false
    }
   },
   "outputs": [
    {
     "data": {
      "text/html": [
       "<div>\n",
       "<style scoped>\n",
       "    .dataframe tbody tr th:only-of-type {\n",
       "        vertical-align: middle;\n",
       "    }\n",
       "\n",
       "    .dataframe tbody tr th {\n",
       "        vertical-align: top;\n",
       "    }\n",
       "\n",
       "    .dataframe thead th {\n",
       "        text-align: right;\n",
       "    }\n",
       "</style>\n",
       "<table border=\"1\" class=\"dataframe\">\n",
       "  <thead>\n",
       "    <tr style=\"text-align: right;\">\n",
       "      <th></th>\n",
       "      <th>DISTANCE</th>\n",
       "      <th>ORIGIN_COUNTRY_NAME</th>\n",
       "      <th>DEST_COUNTRY_NAME</th>\n",
       "      <th>AIRCRAFT_GROUP</th>\n",
       "      <th>CLASS</th>\n",
       "      <th>DATA_SOURCE</th>\n",
       "    </tr>\n",
       "  </thead>\n",
       "  <tbody>\n",
       "    <tr>\n",
       "      <td>0</td>\n",
       "      <td>3855</td>\n",
       "      <td>United States</td>\n",
       "      <td>Germany</td>\n",
       "      <td>6</td>\n",
       "      <td>G</td>\n",
       "      <td>IF</td>\n",
       "    </tr>\n",
       "    <tr>\n",
       "      <td>1</td>\n",
       "      <td>5805</td>\n",
       "      <td>United States</td>\n",
       "      <td>Germany</td>\n",
       "      <td>6</td>\n",
       "      <td>G</td>\n",
       "      <td>IF</td>\n",
       "    </tr>\n",
       "    <tr>\n",
       "      <td>2</td>\n",
       "      <td>801</td>\n",
       "      <td>United States</td>\n",
       "      <td>United States</td>\n",
       "      <td>6</td>\n",
       "      <td>G</td>\n",
       "      <td>DF</td>\n",
       "    </tr>\n",
       "    <tr>\n",
       "      <td>3</td>\n",
       "      <td>4343</td>\n",
       "      <td>United States</td>\n",
       "      <td>Germany</td>\n",
       "      <td>6</td>\n",
       "      <td>G</td>\n",
       "      <td>IF</td>\n",
       "    </tr>\n",
       "    <tr>\n",
       "      <td>4</td>\n",
       "      <td>5142</td>\n",
       "      <td>United States</td>\n",
       "      <td>Germany</td>\n",
       "      <td>6</td>\n",
       "      <td>G</td>\n",
       "      <td>IF</td>\n",
       "    </tr>\n",
       "  </tbody>\n",
       "</table>\n",
       "</div>"
      ],
      "text/plain": [
       "   DISTANCE ORIGIN_COUNTRY_NAME DEST_COUNTRY_NAME  AIRCRAFT_GROUP CLASS  \\\n",
       "0      3855       United States           Germany               6     G   \n",
       "1      5805       United States           Germany               6     G   \n",
       "2       801       United States     United States               6     G   \n",
       "3      4343       United States           Germany               6     G   \n",
       "4      5142       United States           Germany               6     G   \n",
       "\n",
       "  DATA_SOURCE  \n",
       "0          IF  \n",
       "1          IF  \n",
       "2          DF  \n",
       "3          IF  \n",
       "4          IF  "
      ]
     },
     "execution_count": 84,
     "metadata": {},
     "output_type": "execute_result"
    }
   ],
   "source": [
    "AT = pd.read_csv(\"AirTraffic.csv\")         #Read the .csv file a data frame\n",
    "AT.head()"
   ]
  },
  {
   "cell_type": "code",
   "execution_count": 85,
   "metadata": {
    "collapsed": false,
    "jupyter": {
     "outputs_hidden": false
    }
   },
   "outputs": [
    {
     "name": "stdout",
     "output_type": "stream",
     "text": [
      "<class 'pandas.core.frame.DataFrame'>\n",
      "RangeIndex: 118279 entries, 0 to 118278\n",
      "Data columns (total 6 columns):\n",
      "DISTANCE               118279 non-null int64\n",
      "ORIGIN_COUNTRY_NAME    118279 non-null object\n",
      "DEST_COUNTRY_NAME      118279 non-null object\n",
      "AIRCRAFT_GROUP         118279 non-null int64\n",
      "CLASS                  118279 non-null object\n",
      "DATA_SOURCE            118279 non-null object\n",
      "dtypes: int64(2), object(4)\n",
      "memory usage: 5.4+ MB\n"
     ]
    }
   ],
   "source": [
    "AT.info()"
   ]
  },
  {
   "cell_type": "code",
   "execution_count": 87,
   "metadata": {
    "collapsed": false,
    "jupyter": {
     "outputs_hidden": false
    }
   },
   "outputs": [
    {
     "name": "stdout",
     "output_type": "stream",
     "text": [
      "The arithmetic mean distance of the 2020 flights is  1101.12 miles\n",
      "The harmonic mean distance of the 2020 flights is  220.81 miles\n"
     ]
    }
   ],
   "source": [
    "Distance = AT['DISTANCE']\n",
    "# Use the mean function from the statistics library\n",
    "mean = statistics.mean(Distance)\n",
    "print(\"The arithmetic mean distance of the 2020 flights is \",round(mean,2),\"miles\")\n",
    "hmean = statistics.harmonic_mean(Distance)\n",
    "print(\"The harmonic mean distance of the 2020 flights is \",round(hmean,2),\"miles\")"
   ]
  },
  {
   "cell_type": "code",
   "execution_count": 88,
   "metadata": {
    "collapsed": false,
    "jupyter": {
     "outputs_hidden": false
    }
   },
   "outputs": [
    {
     "name": "stdout",
     "output_type": "stream",
     "text": [
      "The median of distance of the 2020  flights is  740 miles\n"
     ]
    }
   ],
   "source": [
    "Distance = AT['DISTANCE']\n",
    "# Use the mean function from the statistics library\n",
    "median = statistics.median(Distance)\n",
    "print(\"The median of distance of the 2020  flights is \",median,\"miles\")"
   ]
  },
  {
   "cell_type": "code",
   "execution_count": 92,
   "metadata": {
    "collapsed": false,
    "jupyter": {
     "outputs_hidden": false
    }
   },
   "outputs": [
    {
     "name": "stdout",
     "output_type": "stream",
     "text": [
      "The range of distance of the 2020  flights is  9778 miles\n"
     ]
    },
    {
     "name": "stderr",
     "output_type": "stream",
     "text": [
      "C:\\Users\\Farha\\Anaconda3\\lib\\site-packages\\numpy\\core\\fromnumeric.py:2389: FutureWarning: Method .ptp is deprecated and will be removed in a future version. Use numpy.ptp instead.\n",
      "  return ptp(axis=axis, out=out, **kwargs)\n"
     ]
    }
   ],
   "source": [
    "Distance = AT['DISTANCE']\n",
    "Range = np.ptp(Distance) #ptp stands for Peak To Peak\n",
    "print(\"The range of distance of the 2020  flights is \",Range,\"miles\")"
   ]
  },
  {
   "cell_type": "code",
   "execution_count": 94,
   "metadata": {
    "collapsed": false,
    "jupyter": {
     "outputs_hidden": false
    }
   },
   "outputs": [
    {
     "name": "stdout",
     "output_type": "stream",
     "text": [
      "The IQR of distance of the 2020  flights is  968.0 miles\n"
     ]
    }
   ],
   "source": [
    "Distance = AT['DISTANCE']\n",
    "\n",
    "IQR = scipy.stats.iqr(Distance)\n",
    "print(\"The IQR of distance of the 2020  flights is \",IQR,\"miles\")"
   ]
  },
  {
   "cell_type": "code",
   "execution_count": 95,
   "metadata": {
    "collapsed": false,
    "jupyter": {
     "outputs_hidden": false
    }
   },
   "outputs": [
    {
     "data": {
      "text/plain": [
       "count    118279.000000\n",
       "mean       1101.120165\n",
       "std        1260.423448\n",
       "min           1.000000\n",
       "25%         335.000000\n",
       "50%         740.000000\n",
       "75%        1303.000000\n",
       "max        9779.000000\n",
       "Name: DISTANCE, dtype: float64"
      ]
     },
     "execution_count": 95,
     "metadata": {},
     "output_type": "execute_result"
    }
   ],
   "source": [
    "Distance = AT['DISTANCE']\n",
    "Distance.describe()"
   ]
  },
  {
   "cell_type": "code",
   "execution_count": 96,
   "metadata": {
    "collapsed": false,
    "jupyter": {
     "outputs_hidden": false
    }
   },
   "outputs": [
    {
     "data": {
      "image/png": "[encoded data removed]",
      "text/plain": [
       "<Figure size 504x360 with 1 Axes>"
      ]
     },
     "metadata": {
      "needs_background": "light"
     },
     "output_type": "display_data"
    }
   ],
   "source": [
    "fig = plt.figure(figsize =(7, 5))\n",
    "plt.boxplot(Distance,medianprops={'linewidth': 1, 'color': 'purple'},showfliers=False)\n",
    "\n",
    "plt.show()"
   ]
  },
  {
   "cell_type": "code",
   "execution_count": 97,
   "metadata": {
    "collapsed": false,
    "jupyter": {
     "outputs_hidden": false
    }
   },
   "outputs": [
    {
     "name": "stdout",
     "output_type": "stream",
     "text": [
      "The variance and standard deviation of distance of the 2020 flights is  1588667.27  and  1260.42  respectively\n"
     ]
    }
   ],
   "source": [
    "Distance = AT['DISTANCE']\n",
    "var = statistics.variance(Distance)\n",
    "sd = statistics.stdev(Distance)\n",
    "print(\"The variance and standard deviation of distance of the 2020 flights is \",round(var,2),\" and \",round(sd,2),\" respectively\")"
   ]
  },
  {
   "cell_type": "code",
   "execution_count": 98,
   "metadata": {
    "collapsed": false,
    "jupyter": {
     "outputs_hidden": false
    }
   },
   "outputs": [
    {
     "name": "stdout",
     "output_type": "stream",
     "text": [
      "The skewness and kurtosis of distance of the 2020 flights is  2.63  and  8.13  respectively\n"
     ]
    }
   ],
   "source": [
    "Distance = AT['DISTANCE']\n",
    "skew = scipy.stats.skew(Distance)\n",
    "kurtosis = scipy.stats.kurtosis(Distance)\n",
    "print(\"The skewness and kurtosis of distance of the 2020 flights is \",round(skew,2),\" and \",round(kurtosis,2),\" respectively\")"
   ]
  },
  {
   "cell_type": "markdown",
   "metadata": {},
   "source": [
    "___\n",
    "### Example: \n",
    "__1. Read the \"Lubbock_Oct_T&P.csv\" file as a dataframe and check its first few rows.__<br>\n",
    "__2. Use descriptive functions of the Pandas library and explain the format of the dataframe__<br>\n",
    "__3. Compute the arithmetic and harmonic mean of 'temperature'.__<br>\n",
    "__4. Find the median of 'precipitation' and 'temperature'.__<br>\n",
    "__5. Find the range and IQR of 'precipitation'.__<br>\n",
    "__6. Find the 10th,40th, and 70th percentile of 'temperature'.__<br>\n",
    "__7. Provide a 5-number summary of 'precipitation'. Plot a box plot without outliers. Interpret it in your own words__<br>\n",
    "__8. Find the variance and standard deviation of 'precipitation'.__<br>\n",
    "__9. Find the skewness and kurtosis 'precipitation'.__<br>"
   ]
  },
  {
   "cell_type": "code",
   "execution_count": null,
   "metadata": {
    "collapsed": false,
    "jupyter": {
     "outputs_hidden": false
    }
   },
   "outputs": [],
   "source": []
  },
  {
   "cell_type": "code",
   "execution_count": null,
   "metadata": {
    "collapsed": false,
    "jupyter": {
     "outputs_hidden": false
    }
   },
   "outputs": [],
   "source": []
  },
  {
   "cell_type": "code",
   "execution_count": null,
   "metadata": {
    "collapsed": false,
    "jupyter": {
     "outputs_hidden": false
    }
   },
   "outputs": [],
   "source": []
  },
  {
   "cell_type": "code",
   "execution_count": null,
   "metadata": {
    "collapsed": false,
    "jupyter": {
     "outputs_hidden": false
    }
   },
   "outputs": [],
   "source": []
  },
  {
   "cell_type": "code",
   "execution_count": null,
   "metadata": {
    "collapsed": false,
    "jupyter": {
     "outputs_hidden": false
    }
   },
   "outputs": [],
   "source": []
  },
  {
   "cell_type": "code",
   "execution_count": null,
   "metadata": {
    "collapsed": false,
    "jupyter": {
     "outputs_hidden": false
    }
   },
   "outputs": [],
   "source": []
  },
  {
   "cell_type": "code",
   "execution_count": null,
   "metadata": {
    "collapsed": false,
    "jupyter": {
     "outputs_hidden": false
    }
   },
   "outputs": [],
   "source": []
  },
  {
   "cell_type": "code",
   "execution_count": null,
   "metadata": {
    "collapsed": false,
    "jupyter": {
     "outputs_hidden": false
    }
   },
   "outputs": [],
   "source": []
  },
  {
   "cell_type": "code",
   "execution_count": null,
   "metadata": {
    "collapsed": false,
    "jupyter": {
     "outputs_hidden": false
    }
   },
   "outputs": [],
   "source": []
  },
  {
   "cell_type": "markdown",
   "metadata": {},
   "source": [
    "___\n",
    "![](https://media2.giphy.com/media/5nj4ZZWl6QwneEaBX4/source.gif) <br>\n",
    "\n",
    "\n",
    "*Here are some great reads on this topic:* \n",
    "- __\"Python Statistics Fundamentals: How to Describe Your Data\"__ by __Mirko Stojiljković__ available at *https://realpython.com/python-statistics/* <br>\n",
    "- __\"Introduction to Descriptive Statistics and Probability for Data Science\"__ by __Abhishek Kumar__ available at *https://towardsdatascience.com/intro-to-descriptive-statistics-and-probability-for-data-science-8effec826488*<br>\n",
    "- __\"Statistics for Data Science — A beginners guide to Descriptive Statistics in Python\"__ by __Angel Das__ available at *https://towardsdatascience.com/statistics-for-data-science-a-beginners-guide-to-descriptive-statistics-in-python-9e0daa30809a*<br>\n",
    "- __\"Interpreting Data Using Descriptive Statistics with Python\"__ by __Deepika Singh__ available at *https://www.pluralsight.com/guides/interpreting-data-using-descriptive-statistics-python*<br>\n",
    "\n",
    "\n",
    "*Here are some great videos on these topics:* \n",
    "- __\"Descriptive Statistics Using Scipy , Numpy and Pandas in Python - Tutorial 13\"__ by __TheEngineeringWorld__ available at *https://www.youtube.com/watch?v=mWIwXqtZmd8* <br>\n",
    "- __\"Python for Data Analysis: Descriptive Statistics\"__ by __DataDaft__ available at *https://www.youtube.com/watch?v=3mELSEnGBvA* <br>\n",
    "- __\"Introduction to Descriptive Statistics\"__ by __Teresa Johnson__ available at *https://www.youtube.com/watch?v=QoQbR4lVLrs* <br>"
   ]
  },
  {
   "cell_type": "markdown",
   "metadata": {},
   "source": [
    "___\n",
    "![](https://media2.giphy.com/media/dNgK7Ws7y176U/200.gif) <br>\n"
   ]
  },
  {
   "cell_type": "markdown",
   "metadata": {},
   "source": [
    "## Exercise: Why Descriptive Statistics?  <br>\n",
    "\n",
    "### What is the importance and application of descriptive statistics, especially in Engineering. \n",
    "\n",
    "#### _Make sure to cite any resources that you may use._ "
   ]
  },
  {
   "cell_type": "code",
   "execution_count": null,
   "metadata": {},
   "outputs": [],
   "source": []
  },
  {
   "cell_type": "markdown",
   "metadata": {},
   "source": [
    "![](https://cdn.quotes.pub/660x400/descriptive-statistics-exist-to-simplify-whi-383494.jpg)"
   ]
  }
 ],
 "metadata": {
  "kernelspec": {
   "display_name": "Python 3",
   "language": "python",
   "name": "python3"
  },
  "language_info": {
   "codemirror_mode": {
    "name": "ipython",
    "version": 3
   },
   "file_extension": ".py",
   "mimetype": "text/x-python",
   "name": "python",
   "nbconvert_exporter": "python",
   "pygments_lexer": "ipython3",
   "version": "3.7.4"
  }
 },
 "nbformat": 4,
 "nbformat_minor": 4
}
