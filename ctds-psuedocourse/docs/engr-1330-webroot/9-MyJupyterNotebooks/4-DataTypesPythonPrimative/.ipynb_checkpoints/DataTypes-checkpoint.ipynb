{
 "cells": [
  {
   "cell_type": "markdown",
   "metadata": {},
   "source": [
    "# Data Types\n",
    "\n",
    "In the computer data are all binary digits (usually 0 and +5.5 volts). \n",
    "At a higher level of abstraction data are typed into integers, real, or alphanumeric representation. \n",
    "\n",
    "The type affects the kind of arithmetic operations that are allowed (as well as the kind of arithmetic\n",
    "-- integer versus real arithmetic; lexicographical ordering of alphanumeric , etc.)\n",
    "\n",
    "In scientific programming, a common (and really difficult to detect) source of slight inaccuracies (that tend to snowball as the program runs) is mixed mode arithmetic required because two numeric values are of different types (integer and real).\n",
    "\n",
    "### Integer\n",
    "Integers are numbers without any fractional portion (nothing after the decimal point -- which\n",
    "is not used in integers). Numbers like -3, -2, -1, 0, 1, 2, 200 are integers. \n",
    "A number like 1.1 is not an integer, and 1.0 is also not an integer (the presence of the decimal point makes the\n",
    "number a real).\n",
    "\n",
    "To declare an integer in Python, just assign the variable name to an integer for example\n",
    "\n",
    "    MyPhoneNumber = 14158576309\n"
   ]
  },
  {
   "cell_type": "code",
   "execution_count": 1,
   "metadata": {},
   "outputs": [
    {
     "name": "stdout",
     "output_type": "stream",
     "text": [
      "14158576309\n"
     ]
    }
   ],
   "source": [
    "# Integer Assignment\n",
    "MyPhoneNumber = 14158576309\n",
    "print(MyPhoneNumber)"
   ]
  },
  {
   "cell_type": "markdown",
   "metadata": {},
   "source": [
    "### Real (Float)\n",
    "A real or float is a number that has (or can have) a fractional portion -- the number has\n",
    "decimal parts. The numbers 3.14159, -0.001, 11.11, 1., are all \n",
    "floats. \n",
    "The last one is especially tricky, if you don't notice the decimal point you might think it is an integer but the\n",
    "inclusion of the decimal point in Python tells the program that the value is to be treated as\n",
    "a float.\n",
    "To declare a float in Python, just assign the variable name to a float for example\n",
    "\n",
    "    MyMassInKilos = 74.8427"
   ]
  },
  {
   "cell_type": "code",
   "execution_count": 3,
   "metadata": {},
   "outputs": [
    {
     "name": "stdout",
     "output_type": "stream",
     "text": [
      "74.8427\n"
     ]
    }
   ],
   "source": [
    "# Float Assignment\n",
    "MyMassInKilos = 74.8427\n",
    "print(MyMassInKilos)"
   ]
  },
  {
   "cell_type": "markdown",
   "metadata": {},
   "source": [
    "## String (Alphanumeric)\n",
    "A string is a data type that is treated as text elements. The usual letters are strings, but\n",
    "numbers can be included. The numbers in a string are simply characters and cannot be\n",
    "directly used in arithmetic. There are some kinds of arithmetic that can be performed\n",
    "on strings but generally we process string variables to capture the text nature of their\n",
    "contents.\n",
    "To declare a string in Python, just assign the variable name to a string value { the trick\n",
    "is the value is enclosed in quotes. The quotes are delimiters that tell the program that the\n",
    "characters between the quotes are characters and are to be treated as literal representation.\n",
    "For example\n",
    "\n",
    "    MyName = 'Theodore'\n",
    "    MyCatName = \"Dusty\"\n",
    "    DustyMassInKilos = \"7.48427\"\n",
    "\n",
    "are all string variables. The last assignment is made a string on purpose. String variables\n",
    "can be combined using an operation called ``concatenation``. The symbol for concatenation is\n",
    "the plus symbol +.\n",
    "\n",
    "Strings can also be converted to all upper case using the ``upper()`` function. The syntax for\n",
    "the ``upper()`` function is <strong>'string to be upper case'.upper()</strong>. Notice the \"dot\" in the\n",
    "syntax. The operation passes everything to the left of the dot to the function which then\n",
    "operates on that content and returns the result all upper case (or an error if the input stream\n",
    "is not a string)."
   ]
  },
  {
   "cell_type": "code",
   "execution_count": 11,
   "metadata": {},
   "outputs": [
    {
     "name": "stdout",
     "output_type": "stream",
     "text": [
      "all about me\n",
      "My name is :  Theodore My Mass is : 74.8427  kilograms\n",
      "My Phone Number is : 14158576309\n",
      "My cat's name is :  Dusty My cat's mass is : 7.48427  kilograms\n",
      "Concatenation Examples\n",
      "Silly String : DustyTheodore7.48427\n",
      "SILLY STRING : DUSTYTHEODORE7.48427\n"
     ]
    }
   ],
   "source": [
    "MyName = 'Theodore'\n",
    "MyCatName = \"Dusty\"\n",
    "DustyMassInKilos = \"7.48427\"\n",
    "print(\"all about me\")\n",
    "print(\"My name is : \",MyName,\"My Mass is :\",MyMassInKilos,\" kilograms\")\n",
    "print(\"My Phone Number is :\",MyPhoneNumber)\n",
    "print(\"My cat's name is : \",MyCatName,\"My cat's mass is :\",DustyMassInKilos,\" kilograms\")\n",
    "print(\"Concatenation Examples\")\n",
    "print(\"Silly String :\",MyCatName + MyName + DustyMassInKilos)\n",
    "print(\"SILLY STRING :\",(MyCatName + MyName + DustyMassInKilos).upper())"
   ]
  },
  {
   "cell_type": "markdown",
   "metadata": {},
   "source": [
    "Notice how Dusty's mass appears to be a number, but in reality it is a string variable -- if it were used in ordinary arithmetic\n",
    "it would cause an error.\n",
    "\n",
    "### Formatting Strings\n",
    "Strings can be formatted using the ``%`` operator or the ``format()`` function. The concepts will\n",
    "be introduced later on as needed, you can Google search for examples of\n",
    "how to do such formatting. My personal preference would be with the ``format()`` function\n",
    "because it is clear what is going on, whereas the ``%`` operator is hard to interpret when \n",
    "maintaining code, its also a modulo operator in arithmetic contexts.\n",
    "\n",
    "## Changing Types\n",
    "A variable type can be changed. This activity is called type casting. Three functions allow\n",
    "type casting: int(), float(), and str(). The function names indicate the result of using\n",
    "the function, hence int() returns an integer, float() returns a \n",
    "float, and str() returns a\n",
    "string.\n",
    "\n",
    "The easiest way to understand is to see an example. We cannot convert arbitrary strings (with letters) into numeric variables\n",
    "using the functions as-is, there would be some coding involved.  Strings have a numeric value called their lexographical value -- its a really advanced concept and used in sorting."
   ]
  },
  {
   "cell_type": "code",
   "execution_count": 19,
   "metadata": {},
   "outputs": [
    {
     "name": "stdout",
     "output_type": "stream",
     "text": [
      "234 876.543 what is your name?\n",
      "Convert integer to float 234.0\n",
      "Convert float to integer 876\n",
      "Convert integer to string 234\n"
     ]
    },
    {
     "data": {
      "text/plain": [
       "'0b11101010'"
      ]
     },
     "execution_count": 19,
     "metadata": {},
     "output_type": "execute_result"
    }
   ],
   "source": [
    "MyInteger=234\n",
    "MyFloat=876.543\n",
    "MyString=\"what is your name?\"\n",
    "print(MyInteger,MyFloat,MyString)\n",
    "print(\"Convert integer to float\",float(MyInteger))\n",
    "print(\"Convert float to integer\",int(MyFloat))\n",
    "print(\"Convert integer to string\",str(MyInteger))"
   ]
  },
  {
   "cell_type": "markdown",
   "metadata": {},
   "source": [
    "## List (Array)\n",
    "A list is a collection of data that are somehow related. It is a convenient way to refer to a\n",
    "collection of similar things by a single name, and using an index (like a subscript in math)\n",
    "to identify a particular item.\n",
    "Consider the variable ``x`` :\n",
    "    [$x_0 = 7$,\n",
    "    $x_1 = 11$,\n",
    "    $x_2 = 5$,\n",
    "    $x_3 = 9$,\n",
    "    $x_4 = 13$,\n",
    "    $\\dots$,\n",
    "    $x_N = 223$]\n",
    "    \n",
    "The variable name is ``x`` and the subscripts correspond to different values. Thus the value of\n",
    "the variable named ``x`` associated with subscript 3 is the number 9."
   ]
  },
  {
   "cell_type": "markdown",
   "metadata": {},
   "source": [
    "A visual representation of the concept that treats a variable as a collection of\n",
    "cells is shown below\n",
    "\n",
    "![](ListSchematic.png)\n",
    "\n",
    "In the figure, the variable <strong>name</strong> is ``MyList``, the subscripts are replaced by an index\n",
    "which identifies which cell is being referenced. The <strong>value</strong> is the cell content at the particular\n",
    "<strong>index</strong>. So in the figure the <strong>value</strong> of ``MyList`` at <strong>Index</strong> = 1 is the number 11.\n",
    "\n",
    "In engineering programming we use lists a lot -- we usually call then vectors, arrays, matrices\n",
    "and such, but they are ultimately just lists.\n",
    "To declare a list you can write the list name and assign it values. \n",
    "The square brackets areused to identify that the variable is a list. \n",
    "Like:\n",
    "\n",
    "    MyList = [7,11,5,9,13,66,99,223]\n",
    "\n",
    "One can also declare a null list and use the append() method to fill it as needed.\n",
    "\n",
    "    MyOtherList = [ ]\n",
    "\n",
    "Ok in Python, indices always start at ZERO. This tends to be a source of confusion because\n",
    "many other languages start counting at ONE. Otherwise its\n",
    "just the convention. \n",
    "The first element in a list has an index of 0, the second an index of 1,\n",
    "and so on.We access the contents of a list by referring to its name and index. For example \n",
    "\n",
    "    MyList[3] has a value of  9.\n",
    "    \n",
    "The script below shows some of these list operations. The example creates\n",
    "``MyList`` then prints its contents. That shows as the list printed across the line. Then\n",
    "the 4th element (index == 3) is printed. \n",
    "\n",
    "Lastly a special kind of list is built using the ``range(start,end,step)``  constructor function. This function returns a list of numbers that starts at \"start\", ends at \"end\", and increments in units of \"step.\" The result is assigned to a\n",
    "variable named ``HowMany`` and this variable is itself just a list. We could have put the range\n",
    "function directly into the \"for\" loop -- but it makes the parts of the example harder to keep\n",
    "track of.\n",
    "\n",
    "We have seen a \"for\" loop earlier in an exercise. Engineering programming uses loops a lot (in\n",
    "fact most programming uses loops { the benefit of a computer is the ability for it do do stuff\n",
    "over and over again;  this process is called iteration (or repetition)). \n",
    "There are tricks to doing loops fast, but that's for another time."
   ]
  },
  {
   "cell_type": "code",
   "execution_count": 21,
   "metadata": {},
   "outputs": [
    {
     "name": "stdout",
     "output_type": "stream",
     "text": [
      "MyList :  [7, 11, 5, 9, 13, 66, 99, 223]\n",
      "MyList[3] :  9\n",
      "Loopa del Mare\n",
      "MyList[ 0 ]=  7\n",
      "MyList[ 1 ]=  11\n",
      "MyList[ 2 ]=  5\n",
      "MyList[ 3 ]=  9\n",
      "MyList[ 4 ]=  13\n",
      "MyList[ 5 ]=  66\n",
      "MyList[ 6 ]=  99\n",
      "MyList[ 7 ]=  223\n"
     ]
    }
   ],
   "source": [
    "# Lists\n",
    "MyList = [7,11,5,9,13,66,99,223]\n",
    "print(\"MyList : \", MyList)\n",
    "print(\"MyList[3] : \",MyList[3])\n",
    "# lets go for a loop\n",
    "print(\"Loopa del Mare\")\n",
    "HowMany = range(0,len(MyList),1)\n",
    "for i in HowMany:\n",
    "    print(\"MyList[\",i,\"]= \",MyList[i])"
   ]
  },
  {
   "cell_type": "markdown",
   "metadata": {},
   "source": [
    "### Special List:  Tuple\n",
    "A tuple is a special kind of list where the values cannot be changed after the list is created.\n",
    "It is useful for list-like things that are static -- like days in a week, or months of a year.\n",
    "You declare a tuple like a list, except use round brackets instead of square brackets.\n",
    "\n",
    "    MyTupleName = (\"Jan\",\"Feb\",\"Mar\",\"Apr\",\"May\",\"Jun\",\"Jul\",\"Aug\",\"Sep\",\"Oct\",\"Nov\",\"Dec\")"
   ]
  },
  {
   "cell_type": "code",
   "execution_count": 23,
   "metadata": {},
   "outputs": [
    {
     "data": {
      "text/plain": [
       "'Apr'"
      ]
     },
     "execution_count": 23,
     "metadata": {},
     "output_type": "execute_result"
    }
   ],
   "source": [
    "MyTupleName = (\"Jan\",\"Feb\",\"Mar\",\"Apr\",\"May\",\"Jun\",\"Jul\",\"Aug\",\"Sep\",\"Oct\",\"Nov\",\"Dec\")\n",
    "MyTupleName[3]"
   ]
  },
  {
   "cell_type": "code",
   "execution_count": 24,
   "metadata": {},
   "outputs": [
    {
     "ename": "TypeError",
     "evalue": "'tuple' object does not support item assignment",
     "output_type": "error",
     "traceback": [
      "\u001b[0;31m---------------------------------------------------------------------------\u001b[0m",
      "\u001b[0;31mTypeError\u001b[0m                                 Traceback (most recent call last)",
      "\u001b[0;32m<ipython-input-24-e0175139116d>\u001b[0m in \u001b[0;36m<module>\u001b[0;34m\u001b[0m\n\u001b[0;32m----> 1\u001b[0;31m \u001b[0mMyTupleName\u001b[0m\u001b[0;34m[\u001b[0m\u001b[0;36m3\u001b[0m\u001b[0;34m]\u001b[0m\u001b[0;34m=\u001b[0m\u001b[0;34m'fred'\u001b[0m\u001b[0;34m\u001b[0m\u001b[0;34m\u001b[0m\u001b[0m\n\u001b[0m",
      "\u001b[0;31mTypeError\u001b[0m: 'tuple' object does not support item assignment"
     ]
    }
   ],
   "source": [
    "MyTupleName[3]='fred'"
   ]
  },
  {
   "cell_type": "markdown",
   "metadata": {},
   "source": [
    "## Special List: Dictionary\n",
    "A dictionary is a special kind of list where the items are related data PAIRS. It is a lot like\n",
    "a relational database (it probably is one in fact) where the first item in the pair is called\n",
    "the key, and must be unique in a dictionary, and the second item in the pair is the data.\n",
    "The second item could itself be a list, so a dictionary would be a meaningful way to build a\n",
    "database in Python.\n",
    "One declares a dictionary using curly brackets\n",
    "\n",
    "    MyPetsNamesAndMass = { \"Dusty\":7.8 , \"Aspen\":6.3, \"Merrimee\":0.03}\n",
    "or by using the ``dict()`` method\n",
    "\n",
    "    MyPetsNamesAndMassToo = dict(Dusty = 7.8 , Aspen = 6.3, Merrimee = 0.03)\n",
    "The script below shows some examples of a Tuple and Dictionary constructs. The last row in the\n",
    "program is an attempt to clobber the contents of a Tuple and the related error message."
   ]
  },
  {
   "cell_type": "code",
   "execution_count": 25,
   "metadata": {},
   "outputs": [
    {
     "name": "stdout",
     "output_type": "stream",
     "text": [
      "Aspen's Mass 6.3\n"
     ]
    }
   ],
   "source": [
    "MyPetsNamesAndMass = { \"Dusty\":7.8 , \"Aspen\":6.3, \"Merrimee\":0.03} #create dictionary\n",
    "print(\"Aspen's Mass\",MyPetsNamesAndMass['Aspen'])"
   ]
  },
  {
   "cell_type": "code",
   "execution_count": 26,
   "metadata": {},
   "outputs": [
    {
     "name": "stdout",
     "output_type": "stream",
     "text": [
      "Merrimee's Mass 0.03\n",
      "Merrimee's Mass 31.0\n"
     ]
    }
   ],
   "source": [
    "print(\"Merrimee's Mass\",MyPetsNamesAndMass['Merrimee'])\n",
    "# update entry\n",
    "MyPetsNamesAndMass['Merrimee'] = 31.0\n",
    "print(\"Merrimee's Mass\",MyPetsNamesAndMass['Merrimee']) # she ate a lot!"
   ]
  },
  {
   "cell_type": "code",
   "execution_count": 27,
   "metadata": {},
   "outputs": [
    {
     "name": "stdout",
     "output_type": "stream",
     "text": [
      "Merrimee's Mass 0.03\n"
     ]
    }
   ],
   "source": [
    "MyPetsNamesAndMassToo = dict(Dusty = 7.8 , Aspen = 6.3, Merrimee = 0.03) # alternate constructor\n",
    "print(\"Merrimee's Mass\",MyPetsNamesAndMassToo['Merrimee'])"
   ]
  },
  {
   "cell_type": "markdown",
   "metadata": {},
   "source": [
    "Getting data into a program { the input() function\n",
    "We this notebook with introduction to the ``input()`` function so that we can start\n",
    "some meaningful exercises. The input function has the following structure it looks like\n",
    "\n",
    "    MyVariable = input(\"Message to prompt input\")\n",
    "    \n",
    "The script below  is an example of using the ``input()`` function for very simplistic input. \n",
    "Later on\n",
    "when we learn about formatted strings for the message body, much more complicated input\n",
    "can be used. "
   ]
  },
  {
   "cell_type": "code",
   "execution_count": 28,
   "metadata": {},
   "outputs": [
    {
     "name": "stdin",
     "output_type": "stream",
     "text": [
      "message to prompt user fum\n"
     ]
    },
    {
     "name": "stdout",
     "output_type": "stream",
     "text": [
      "fum\n"
     ]
    }
   ],
   "source": [
    "# input\n",
    "MyVariable = input(\"message to prompt user\")\n",
    "print(MyVariable)"
   ]
  },
  {
   "cell_type": "code",
   "execution_count": 29,
   "metadata": {},
   "outputs": [
    {
     "name": "stdin",
     "output_type": "stream",
     "text": [
      "enter a number 33.4\n",
      "enter a number too 33.4\n",
      "enter some text \"I heart cats\"\n"
     ]
    },
    {
     "name": "stdout",
     "output_type": "stream",
     "text": [
      "MyInteger =  33.4\n",
      "MyFloat =  33.4\n",
      "MyString =  \"I heart cats\"\n"
     ]
    }
   ],
   "source": [
    "MyInteger = 0\n",
    "MyFloat = 0.0\n",
    "MyString = \"G\"\n",
    "MyInteger = input(\"enter a number\")\n",
    "MyFloat = input(\"enter a number too\")\n",
    "MyString = input(\"enter some text\")\n",
    "print(\"MyInteger = \",MyInteger)\n",
    "print(\"MyFloat = \",MyFloat)\n",
    "print(\"MyString = \",MyString)"
   ]
  },
  {
   "cell_type": "markdown",
   "metadata": {},
   "source": [
    "<em>Notice how the input function clobbers our integer variable and wrote the\n",
    "value to the variable as type == float.</em> As presented here the input function will read the\n",
    "input stream and make a guess as to the data type and assign that to the destination variable,\n",
    "clobbering the existing variable type if necessary.\n",
    "\n",
    "A simple way to control behavior is to type cast the input something like\n",
    "\n",
    "    MyInteger = int(input(\"enter a number\"))\n",
    "\n",
    "or use a try/except structure and explicitly  trap exceptions.\n"
   ]
  },
  {
   "cell_type": "markdown",
   "metadata": {},
   "source": [
    "## Exercises\n",
    "1) Run the script below. "
   ]
  },
  {
   "cell_type": "code",
   "execution_count": 32,
   "metadata": {},
   "outputs": [
    {
     "name": "stdout",
     "output_type": "stream",
     "text": [
      "integers and reals\n",
      "x1 =  1.0  y1 =  1.0  z1 =  1\n",
      "x2 =  5.0  y2 =  5.0  z2 =  5\n",
      "x1/x2 =  0.2  y1/y2 =  0.2  z1/z2 =  0.2\n"
     ]
    }
   ],
   "source": [
    "print ('integers and reals')\n",
    "x1 = 1.0\n",
    "y1 = 1.\n",
    "z1 = 1\n",
    "x2 = 5.0\n",
    "y2 = 5.\n",
    "z2 = 5\n",
    "print ('x1 = ', x1, ' y1 = ', y1, ' z1 = ', z1)\n",
    "print ('x2 = ', x2, ' y2 = ', y2, ' z2 = ', z2)\n",
    "print ('x1/x2 = ',x1/x2,' y1/y2 = ',y1/y2,' z1/z2 = ',z1/z2)"
   ]
  },
  {
   "cell_type": "markdown",
   "metadata": {},
   "source": [
    "    (a) Of the six variables, which are integers?\n",
    "    (b) What is the difference (in effect) between x1=1.0 and y1=1.?\n",
    "    (c) Examine the division results; Why does z1/z2 return a value of 0?"
   ]
  },
  {
   "cell_type": "markdown",
   "metadata": {},
   "source": [
    "2) Using the for loop example, we can have the script square each element in the list and\n",
    "place that result in a second list."
   ]
  },
  {
   "cell_type": "code",
   "execution_count": 33,
   "metadata": {},
   "outputs": [
    {
     "name": "stdout",
     "output_type": "stream",
     "text": [
      "x:  [-1, 0, 1, 2]\n",
      "y:  [1, 0, 1, 4]\n"
     ]
    }
   ],
   "source": [
    "# list of squares\n",
    "x = [-1,0,1,2]\n",
    "y = [0,0,0,0]\n",
    "HowMany = range(0,len(x),1)\n",
    "for i in HowMany:\n",
    "    y[i]=x[i]**2\n",
    "print (\"x: \",x)\n",
    "print (\"y: \",y)"
   ]
  },
  {
   "cell_type": "markdown",
   "metadata": {},
   "source": [
    "Now modify the code to do the same exercise except\n",
    "with the list of six elements\n",
    "$x_0 = -1$,$ x_1 = 0 $,$x_2 = 1$,$ x_3 = 2$,$ x_4 = 3 $,$x_5 = 4$\n",
    "\n",
    "(a) Why is the variable ``y`` declared as a list of zeros instead of a null list?\n",
    "\n",
    "(b) Employ a different way to build ``y`` so the programmer doesn't have to modify\n",
    "both lists for the longer mathematical list."
   ]
  },
  {
   "cell_type": "code",
   "execution_count": 43,
   "metadata": {},
   "outputs": [
    {
     "name": "stdout",
     "output_type": "stream",
     "text": [
      "x:  [-1, 0, 1, 2, 3, 4]\n",
      "y:  [1, 0, 1, 4, 9, 16]\n"
     ]
    }
   ],
   "source": [
    "# list of squares\n",
    "y = []\n",
    "x = [-1,0,1,2,3,4]\n",
    "HowMany = range(0,len(x),1)\n",
    "for i in HowMany:\n",
    "    y.append(x[i]**2)\n",
    "print (\"x: \",x)\n",
    "print (\"y: \",y)"
   ]
  },
  {
   "cell_type": "markdown",
   "metadata": {},
   "source": [
    "3) Use the input function to write a script that asks the user for a number, and returns\n",
    "the cube of the number."
   ]
  },
  {
   "cell_type": "code",
   "execution_count": null,
   "metadata": {},
   "outputs": [],
   "source": []
  }
 ],
 "metadata": {
  "kernelspec": {
   "display_name": "Python 3",
   "language": "python",
   "name": "python3"
  },
  "language_info": {
   "codemirror_mode": {
    "name": "ipython",
    "version": 3
   },
   "file_extension": ".py",
   "mimetype": "text/x-python",
   "name": "python",
   "nbconvert_exporter": "python",
   "pygments_lexer": "ipython3",
   "version": "3.8.2"
  }
 },
 "nbformat": 4,
 "nbformat_minor": 4
}
