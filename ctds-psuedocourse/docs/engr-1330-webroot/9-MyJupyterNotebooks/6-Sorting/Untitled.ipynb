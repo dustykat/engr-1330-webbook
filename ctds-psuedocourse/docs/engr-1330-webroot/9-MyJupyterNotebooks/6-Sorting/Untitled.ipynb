{
 "cells": [
  {
   "cell_type": "code",
   "execution_count": 1,
   "metadata": {},
   "outputs": [
    {
     "name": "stdout",
     "output_type": "stream",
     "text": [
      "/opt/jupyterhub/bin/python3\n",
      "3.8.2 (default, Apr 27 2020, 15:53:34) \n",
      "[GCC 9.3.0]\n",
      "sys.version_info(major=3, minor=8, micro=2, releaselevel='final', serial=0)\n"
     ]
    }
   ],
   "source": [
    " import sys\n",
    " print(sys.executable)\n",
    " print(sys.version)\n",
    " print(sys.version_info)"
   ]
  },
  {
   "cell_type": "markdown",
   "metadata": {},
   "source": [
    "# Sorting\n",
    "Introduce need for sorting algorithms first paragraph.\n",
    "\n",
    "Sorting is frequently necessary when data are being handled; for example in integration\n",
    "and differentiation the data are usually presented to the various algorithms in ascending or\n",
    "descending order (at least on the x-axis).\n",
    "One may have tables of numbers, representing one or more explanatory variables, and one or\n",
    "more responses. At times we may need to arrange these tables in an order dictated by one\n",
    "or another of these various variables. Alternatively we may want to \f",
    "nd the median value\n",
    "or upper quartile of such a list { this task requires sorting.\n",
    "When sorting, one can also carry along operations to maintain correspondence with other\n",
    "lists (for lack of better name lets call this sort-and-carry).\n",
    "Tasks that fall under the broad category of sorting are:\n",
    "- Sort ; rearrange an array of numbers into numerical order (ascending or descending).\n",
    "- Sort and carry along ; rearrange an array of numbers into numerical order while per-\n",
    "forming the same rearrangement of one or more additional arrays so that the correspon-\n",
    "dence between elements in all arrays is maintained (the sets of arrays are essentially\n",
    "a relational database { so that each record (row) maintains the cross-record (\f",
    "elds;\n",
    "columns) relationship).\n",
    "- Index ; given an array, prepare an index table that is a table of pointers that indicates\n",
    "which number array element comes \f",
    "rst in numerical order, which is second, and so\n",
    "on.\n",
    "- Rank ; given an array, prepare a rank table that tells the numerical rank of an array\n",
    "element.\n",
    "The task of sorting `N` elements requires on the order of $K \\cdot Nlog2N$ operations. The\n",
    "algorithm inventor tries to make $K$ as small as possible (understanding that $K = 0$ is\n",
    "practically impossible). Three useful sorting algorithms are:\n",
    "    \n",
    "    1. Straight insertion sort;\n",
    "    2. Heapsort sort; and\n",
    "    3. Quicksort sort.\n",
    "    \n",
    "The choice of method depends on the size of the list that needs to be sorted. If the list is\n",
    "short (perhaps $N < 50$ elements) then straight insertion is fast enough, concise, and simple\n",
    "to program. For a long list ($N > 1000$ elements) Quicksort is faster, but achieves the speed\n",
    "by use of extra memory. Heapsort is also good for large lists, and is an in-place routine.\n",
    "\n",
    "Python lists have a built-in `sort()` method that modifies the list in-place and a `sorted()`\n",
    "built-in function that builds a new sorted list from an iterable. So when sorting needs to\n",
    "be done, you should use the built-in tools. However, because it is a useful programming\n",
    "construct, the three sorting algorithms are presented as Python primitive codes."
   ]
  },
  {
   "cell_type": "code",
   "execution_count": null,
   "metadata": {},
   "outputs": [],
   "source": []
  }
 ],
 "metadata": {
  "kernelspec": {
   "display_name": "Python 3",
   "language": "python",
   "name": "python3"
  },
  "language_info": {
   "codemirror_mode": {
    "name": "ipython",
    "version": 3
   },
   "file_extension": ".py",
   "mimetype": "text/x-python",
   "name": "python",
   "nbconvert_exporter": "python",
   "pygments_lexer": "ipython3",
   "version": "3.6.9"
  }
 },
 "nbformat": 4,
 "nbformat_minor": 4
}
