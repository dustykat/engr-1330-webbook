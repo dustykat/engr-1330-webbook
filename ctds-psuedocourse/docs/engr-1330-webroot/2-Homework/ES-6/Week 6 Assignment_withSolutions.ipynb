{
 "cells": [
  {
   "cell_type": "markdown",
   "metadata": {},
   "source": [
    "# <font color=darkblue>Week 6 Assignment </font>"
   ]
  },
  {
   "cell_type": "markdown",
   "metadata": {},
   "source": [
    "## Full name: \n",
    "## R#: \n",
    "## Title of the notebook:\n",
    "## Date: "
   ]
  },
  {
   "cell_type": "markdown",
   "metadata": {},
   "source": [
    "![](https://i.pinimg.com/originals/50/83/e0/5083e0a2a7dcaae07c142e8b87036a27.gif) <br>\n"
   ]
  },
  {
   "cell_type": "markdown",
   "metadata": {},
   "source": [
    "___\n",
    "### Question 1: A Perfect 20\n",
    "\n",
    "#### What will be the probability of throwing a perfect 20 with a D20:\n",
    "\n",
    "- For 2 rolls\n",
    "- For 5 rolls\n",
    "- For 10 rolls\n",
    "\n"
   ]
  },
  {
   "cell_type": "code",
   "execution_count": 18,
   "metadata": {
    "collapsed": false,
    "jupyter": {
     "outputs_hidden": false
    }
   },
   "outputs": [
    {
     "data": {
      "text/html": [
       "<div>\n",
       "<style scoped>\n",
       "    .dataframe tbody tr th:only-of-type {\n",
       "        vertical-align: middle;\n",
       "    }\n",
       "\n",
       "    .dataframe tbody tr th {\n",
       "        vertical-align: top;\n",
       "    }\n",
       "\n",
       "    .dataframe thead th {\n",
       "        text-align: right;\n",
       "    }\n",
       "</style>\n",
       "<table border=\"1\" class=\"dataframe\">\n",
       "  <thead>\n",
       "    <tr style=\"text-align: right;\">\n",
       "      <th></th>\n",
       "      <th># of Rolls</th>\n",
       "      <th>Probability of throwing perfect 20s</th>\n",
       "    </tr>\n",
       "  </thead>\n",
       "  <tbody>\n",
       "    <tr>\n",
       "      <td>0</td>\n",
       "      <td>1</td>\n",
       "      <td>0.0500</td>\n",
       "    </tr>\n",
       "    <tr>\n",
       "      <td>1</td>\n",
       "      <td>2</td>\n",
       "      <td>0.0025</td>\n",
       "    </tr>\n",
       "  </tbody>\n",
       "</table>\n",
       "</div>"
      ],
      "text/plain": [
       "   # of Rolls  Probability of throwing perfect 20s\n",
       "0           1                               0.0500\n",
       "1           2                               0.0025"
      ]
     },
     "execution_count": 18,
     "metadata": {},
     "output_type": "execute_result"
    }
   ],
   "source": [
    "nrolls =[]\n",
    "probs =[]\n",
    "\n",
    "for i in range(1,3,1):\n",
    "    nrolls.append(i)\n",
    "    probs.append((1/20)**i) #probability of throwing a perfect 20-1/20\n",
    "\n",
    "DRDF = pd.DataFrame({\"# of Rolls\": nrolls, \"Probability of throwing perfect 20s\": probs})\n",
    "DRDF"
   ]
  },
  {
   "cell_type": "code",
   "execution_count": 19,
   "metadata": {
    "collapsed": false,
    "jupyter": {
     "outputs_hidden": false
    }
   },
   "outputs": [
    {
     "data": {
      "text/html": [
       "<div>\n",
       "<style scoped>\n",
       "    .dataframe tbody tr th:only-of-type {\n",
       "        vertical-align: middle;\n",
       "    }\n",
       "\n",
       "    .dataframe tbody tr th {\n",
       "        vertical-align: top;\n",
       "    }\n",
       "\n",
       "    .dataframe thead th {\n",
       "        text-align: right;\n",
       "    }\n",
       "</style>\n",
       "<table border=\"1\" class=\"dataframe\">\n",
       "  <thead>\n",
       "    <tr style=\"text-align: right;\">\n",
       "      <th></th>\n",
       "      <th># of Rolls</th>\n",
       "      <th>Probability of throwing perfect 20s</th>\n",
       "    </tr>\n",
       "  </thead>\n",
       "  <tbody>\n",
       "    <tr>\n",
       "      <td>0</td>\n",
       "      <td>1</td>\n",
       "      <td>5.000000e-02</td>\n",
       "    </tr>\n",
       "    <tr>\n",
       "      <td>1</td>\n",
       "      <td>2</td>\n",
       "      <td>2.500000e-03</td>\n",
       "    </tr>\n",
       "    <tr>\n",
       "      <td>2</td>\n",
       "      <td>3</td>\n",
       "      <td>1.250000e-04</td>\n",
       "    </tr>\n",
       "    <tr>\n",
       "      <td>3</td>\n",
       "      <td>4</td>\n",
       "      <td>6.250000e-06</td>\n",
       "    </tr>\n",
       "    <tr>\n",
       "      <td>4</td>\n",
       "      <td>5</td>\n",
       "      <td>3.125000e-07</td>\n",
       "    </tr>\n",
       "  </tbody>\n",
       "</table>\n",
       "</div>"
      ],
      "text/plain": [
       "   # of Rolls  Probability of throwing perfect 20s\n",
       "0           1                         5.000000e-02\n",
       "1           2                         2.500000e-03\n",
       "2           3                         1.250000e-04\n",
       "3           4                         6.250000e-06\n",
       "4           5                         3.125000e-07"
      ]
     },
     "execution_count": 19,
     "metadata": {},
     "output_type": "execute_result"
    }
   ],
   "source": [
    "nrolls =[]\n",
    "probs =[]\n",
    "\n",
    "for i in range(1,6,1):\n",
    "    nrolls.append(i)\n",
    "    probs.append((1/20)**i) #probability of throwing a perfect 20-1/20\n",
    "\n",
    "DRDF = pd.DataFrame({\"# of Rolls\": nrolls, \"Probability of throwing perfect 20s\": probs})\n",
    "DRDF"
   ]
  },
  {
   "cell_type": "code",
   "execution_count": 20,
   "metadata": {},
   "outputs": [
    {
     "data": {
      "text/html": [
       "<div>\n",
       "<style scoped>\n",
       "    .dataframe tbody tr th:only-of-type {\n",
       "        vertical-align: middle;\n",
       "    }\n",
       "\n",
       "    .dataframe tbody tr th {\n",
       "        vertical-align: top;\n",
       "    }\n",
       "\n",
       "    .dataframe thead th {\n",
       "        text-align: right;\n",
       "    }\n",
       "</style>\n",
       "<table border=\"1\" class=\"dataframe\">\n",
       "  <thead>\n",
       "    <tr style=\"text-align: right;\">\n",
       "      <th></th>\n",
       "      <th># of Rolls</th>\n",
       "      <th>Probability of throwing perfect 20s</th>\n",
       "    </tr>\n",
       "  </thead>\n",
       "  <tbody>\n",
       "    <tr>\n",
       "      <td>0</td>\n",
       "      <td>1</td>\n",
       "      <td>5.000000e-02</td>\n",
       "    </tr>\n",
       "    <tr>\n",
       "      <td>1</td>\n",
       "      <td>2</td>\n",
       "      <td>2.500000e-03</td>\n",
       "    </tr>\n",
       "    <tr>\n",
       "      <td>2</td>\n",
       "      <td>3</td>\n",
       "      <td>1.250000e-04</td>\n",
       "    </tr>\n",
       "    <tr>\n",
       "      <td>3</td>\n",
       "      <td>4</td>\n",
       "      <td>6.250000e-06</td>\n",
       "    </tr>\n",
       "    <tr>\n",
       "      <td>4</td>\n",
       "      <td>5</td>\n",
       "      <td>3.125000e-07</td>\n",
       "    </tr>\n",
       "    <tr>\n",
       "      <td>5</td>\n",
       "      <td>6</td>\n",
       "      <td>1.562500e-08</td>\n",
       "    </tr>\n",
       "    <tr>\n",
       "      <td>6</td>\n",
       "      <td>7</td>\n",
       "      <td>7.812500e-10</td>\n",
       "    </tr>\n",
       "    <tr>\n",
       "      <td>7</td>\n",
       "      <td>8</td>\n",
       "      <td>3.906250e-11</td>\n",
       "    </tr>\n",
       "    <tr>\n",
       "      <td>8</td>\n",
       "      <td>9</td>\n",
       "      <td>1.953125e-12</td>\n",
       "    </tr>\n",
       "    <tr>\n",
       "      <td>9</td>\n",
       "      <td>10</td>\n",
       "      <td>9.765625e-14</td>\n",
       "    </tr>\n",
       "  </tbody>\n",
       "</table>\n",
       "</div>"
      ],
      "text/plain": [
       "   # of Rolls  Probability of throwing perfect 20s\n",
       "0           1                         5.000000e-02\n",
       "1           2                         2.500000e-03\n",
       "2           3                         1.250000e-04\n",
       "3           4                         6.250000e-06\n",
       "4           5                         3.125000e-07\n",
       "5           6                         1.562500e-08\n",
       "6           7                         7.812500e-10\n",
       "7           8                         3.906250e-11\n",
       "8           9                         1.953125e-12\n",
       "9          10                         9.765625e-14"
      ]
     },
     "execution_count": 20,
     "metadata": {},
     "output_type": "execute_result"
    }
   ],
   "source": [
    "nrolls =[]\n",
    "probs =[]\n",
    "\n",
    "for i in range(1,11,1):\n",
    "    nrolls.append(i)\n",
    "    probs.append((1/20)**i) #probability of throwing a perfect 20-1/20\n",
    "\n",
    "DRDF = pd.DataFrame({\"# of Rolls\": nrolls, \"Probability of throwing perfect 20s\": probs})\n",
    "DRDF"
   ]
  },
  {
   "cell_type": "markdown",
   "metadata": {},
   "source": [
    "___\n",
    "### Question 2: Perfection... at least once!\n",
    "\n",
    "#### What will be the probability of throwing at least one perfect 20 with a D20:\n",
    "\n",
    "- For 2 rolls\n",
    "- For 5 rolls\n",
    "- For 10 rolls\n",
    "- For 50 rolls - Make a scatter plot for this one!"
   ]
  },
  {
   "cell_type": "code",
   "execution_count": 22,
   "metadata": {
    "collapsed": false,
    "jupyter": {
     "outputs_hidden": false
    }
   },
   "outputs": [
    {
     "data": {
      "text/html": [
       "<div>\n",
       "<style scoped>\n",
       "    .dataframe tbody tr th:only-of-type {\n",
       "        vertical-align: middle;\n",
       "    }\n",
       "\n",
       "    .dataframe tbody tr th {\n",
       "        vertical-align: top;\n",
       "    }\n",
       "\n",
       "    .dataframe thead th {\n",
       "        text-align: right;\n",
       "    }\n",
       "</style>\n",
       "<table border=\"1\" class=\"dataframe\">\n",
       "  <thead>\n",
       "    <tr style=\"text-align: right;\">\n",
       "      <th></th>\n",
       "      <th># of Rolls</th>\n",
       "      <th>Probability of throwing at least one perfect 20</th>\n",
       "    </tr>\n",
       "  </thead>\n",
       "  <tbody>\n",
       "    <tr>\n",
       "      <td>0</td>\n",
       "      <td>1</td>\n",
       "      <td>0.0500</td>\n",
       "    </tr>\n",
       "    <tr>\n",
       "      <td>1</td>\n",
       "      <td>2</td>\n",
       "      <td>0.0975</td>\n",
       "    </tr>\n",
       "  </tbody>\n",
       "</table>\n",
       "</div>"
      ],
      "text/plain": [
       "   # of Rolls  Probability of throwing at least one perfect 20\n",
       "0           1                                           0.0500\n",
       "1           2                                           0.0975"
      ]
     },
     "execution_count": 22,
     "metadata": {},
     "output_type": "execute_result"
    }
   ],
   "source": [
    "nrolls =[]\n",
    "probs =[]\n",
    "\n",
    "for i in range(1,3,1):\n",
    "    nrolls.append(i)\n",
    "    probs.append(1-(19/20)**i) #probability of throwing at least one perfect 20-1 - 19/20\n",
    "\n",
    "DRDF = pd.DataFrame({\"# of Rolls\": nrolls, \"Probability of throwing at least one perfect 20\": probs})\n",
    "DRDF.head()"
   ]
  },
  {
   "cell_type": "code",
   "execution_count": 23,
   "metadata": {
    "collapsed": false,
    "jupyter": {
     "outputs_hidden": false
    }
   },
   "outputs": [
    {
     "data": {
      "text/html": [
       "<div>\n",
       "<style scoped>\n",
       "    .dataframe tbody tr th:only-of-type {\n",
       "        vertical-align: middle;\n",
       "    }\n",
       "\n",
       "    .dataframe tbody tr th {\n",
       "        vertical-align: top;\n",
       "    }\n",
       "\n",
       "    .dataframe thead th {\n",
       "        text-align: right;\n",
       "    }\n",
       "</style>\n",
       "<table border=\"1\" class=\"dataframe\">\n",
       "  <thead>\n",
       "    <tr style=\"text-align: right;\">\n",
       "      <th></th>\n",
       "      <th># of Rolls</th>\n",
       "      <th>Probability of throwing at least one perfect 20</th>\n",
       "    </tr>\n",
       "  </thead>\n",
       "  <tbody>\n",
       "    <tr>\n",
       "      <td>0</td>\n",
       "      <td>1</td>\n",
       "      <td>0.050000</td>\n",
       "    </tr>\n",
       "    <tr>\n",
       "      <td>1</td>\n",
       "      <td>2</td>\n",
       "      <td>0.097500</td>\n",
       "    </tr>\n",
       "    <tr>\n",
       "      <td>2</td>\n",
       "      <td>3</td>\n",
       "      <td>0.142625</td>\n",
       "    </tr>\n",
       "    <tr>\n",
       "      <td>3</td>\n",
       "      <td>4</td>\n",
       "      <td>0.185494</td>\n",
       "    </tr>\n",
       "    <tr>\n",
       "      <td>4</td>\n",
       "      <td>5</td>\n",
       "      <td>0.226219</td>\n",
       "    </tr>\n",
       "  </tbody>\n",
       "</table>\n",
       "</div>"
      ],
      "text/plain": [
       "   # of Rolls  Probability of throwing at least one perfect 20\n",
       "0           1                                         0.050000\n",
       "1           2                                         0.097500\n",
       "2           3                                         0.142625\n",
       "3           4                                         0.185494\n",
       "4           5                                         0.226219"
      ]
     },
     "execution_count": 23,
     "metadata": {},
     "output_type": "execute_result"
    }
   ],
   "source": [
    "nrolls =[]\n",
    "probs =[]\n",
    "\n",
    "for i in range(1,6,1):\n",
    "    nrolls.append(i)\n",
    "    probs.append(1-(19/20)**i) #probability of throwing at least one perfect 20-1 - 19/20\n",
    "\n",
    "DRDF = pd.DataFrame({\"# of Rolls\": nrolls, \"Probability of throwing at least one perfect 20\": probs})\n",
    "DRDF.head()"
   ]
  },
  {
   "cell_type": "code",
   "execution_count": 24,
   "metadata": {
    "collapsed": false,
    "jupyter": {
     "outputs_hidden": false
    }
   },
   "outputs": [
    {
     "data": {
      "text/html": [
       "<div>\n",
       "<style scoped>\n",
       "    .dataframe tbody tr th:only-of-type {\n",
       "        vertical-align: middle;\n",
       "    }\n",
       "\n",
       "    .dataframe tbody tr th {\n",
       "        vertical-align: top;\n",
       "    }\n",
       "\n",
       "    .dataframe thead th {\n",
       "        text-align: right;\n",
       "    }\n",
       "</style>\n",
       "<table border=\"1\" class=\"dataframe\">\n",
       "  <thead>\n",
       "    <tr style=\"text-align: right;\">\n",
       "      <th></th>\n",
       "      <th># of Rolls</th>\n",
       "      <th>Probability of throwing at least one perfect 20</th>\n",
       "    </tr>\n",
       "  </thead>\n",
       "  <tbody>\n",
       "    <tr>\n",
       "      <td>0</td>\n",
       "      <td>1</td>\n",
       "      <td>0.050000</td>\n",
       "    </tr>\n",
       "    <tr>\n",
       "      <td>1</td>\n",
       "      <td>2</td>\n",
       "      <td>0.097500</td>\n",
       "    </tr>\n",
       "    <tr>\n",
       "      <td>2</td>\n",
       "      <td>3</td>\n",
       "      <td>0.142625</td>\n",
       "    </tr>\n",
       "    <tr>\n",
       "      <td>3</td>\n",
       "      <td>4</td>\n",
       "      <td>0.185494</td>\n",
       "    </tr>\n",
       "    <tr>\n",
       "      <td>4</td>\n",
       "      <td>5</td>\n",
       "      <td>0.226219</td>\n",
       "    </tr>\n",
       "  </tbody>\n",
       "</table>\n",
       "</div>"
      ],
      "text/plain": [
       "   # of Rolls  Probability of throwing at least one perfect 20\n",
       "0           1                                         0.050000\n",
       "1           2                                         0.097500\n",
       "2           3                                         0.142625\n",
       "3           4                                         0.185494\n",
       "4           5                                         0.226219"
      ]
     },
     "execution_count": 24,
     "metadata": {},
     "output_type": "execute_result"
    }
   ],
   "source": [
    "nrolls =[]\n",
    "probs =[]\n",
    "\n",
    "for i in range(1,11,1):\n",
    "    nrolls.append(i)\n",
    "    probs.append(1-(19/20)**i) #probability of throwing at least one perfect 20-1 - 19/20\n",
    "\n",
    "DRDF = pd.DataFrame({\"# of Rolls\": nrolls, \"Probability of throwing at least one perfect 20\": probs})\n",
    "DRDF.head()"
   ]
  },
  {
   "cell_type": "code",
   "execution_count": 25,
   "metadata": {
    "collapsed": false,
    "jupyter": {
     "outputs_hidden": false
    }
   },
   "outputs": [
    {
     "data": {
      "text/html": [
       "<div>\n",
       "<style scoped>\n",
       "    .dataframe tbody tr th:only-of-type {\n",
       "        vertical-align: middle;\n",
       "    }\n",
       "\n",
       "    .dataframe tbody tr th {\n",
       "        vertical-align: top;\n",
       "    }\n",
       "\n",
       "    .dataframe thead th {\n",
       "        text-align: right;\n",
       "    }\n",
       "</style>\n",
       "<table border=\"1\" class=\"dataframe\">\n",
       "  <thead>\n",
       "    <tr style=\"text-align: right;\">\n",
       "      <th></th>\n",
       "      <th># of Rolls</th>\n",
       "      <th>Probability of throwing at least one perfect 20</th>\n",
       "    </tr>\n",
       "  </thead>\n",
       "  <tbody>\n",
       "    <tr>\n",
       "      <td>0</td>\n",
       "      <td>1</td>\n",
       "      <td>0.050000</td>\n",
       "    </tr>\n",
       "    <tr>\n",
       "      <td>1</td>\n",
       "      <td>2</td>\n",
       "      <td>0.097500</td>\n",
       "    </tr>\n",
       "    <tr>\n",
       "      <td>2</td>\n",
       "      <td>3</td>\n",
       "      <td>0.142625</td>\n",
       "    </tr>\n",
       "    <tr>\n",
       "      <td>3</td>\n",
       "      <td>4</td>\n",
       "      <td>0.185494</td>\n",
       "    </tr>\n",
       "    <tr>\n",
       "      <td>4</td>\n",
       "      <td>5</td>\n",
       "      <td>0.226219</td>\n",
       "    </tr>\n",
       "  </tbody>\n",
       "</table>\n",
       "</div>"
      ],
      "text/plain": [
       "   # of Rolls  Probability of throwing at least one perfect 20\n",
       "0           1                                         0.050000\n",
       "1           2                                         0.097500\n",
       "2           3                                         0.142625\n",
       "3           4                                         0.185494\n",
       "4           5                                         0.226219"
      ]
     },
     "execution_count": 25,
     "metadata": {},
     "output_type": "execute_result"
    }
   ],
   "source": [
    "nrolls =[]\n",
    "probs =[]\n",
    "\n",
    "for i in range(1,51,1):\n",
    "    nrolls.append(i)\n",
    "    probs.append(1-(19/20)**i) #probability of throwing at least one perfect 20-1 - 19/20\n",
    "\n",
    "DRDF = pd.DataFrame({\"# of Rolls\": nrolls, \"Probability of throwing at least one perfect 20\": probs})\n",
    "DRDF.head()"
   ]
  },
  {
   "cell_type": "code",
   "execution_count": 26,
   "metadata": {
    "collapsed": false,
    "jupyter": {
     "outputs_hidden": false
    }
   },
   "outputs": [
    {
     "data": {
      "text/plain": [
       "<matplotlib.axes._subplots.AxesSubplot at 0x1b9ed767708>"
      ]
     },
     "execution_count": 26,
     "metadata": {},
     "output_type": "execute_result"
    },
    {
     "data": {
      "image/png": "[encoded data removed]",
      "text/plain": [
       "<Figure size 432x288 with 1 Axes>"
      ]
     },
     "metadata": {
      "needs_background": "light"
     },
     "output_type": "display_data"
    }
   ],
   "source": [
    "DRDF.plot.scatter(x=\"# of Rolls\", y=\"Probability of throwing at least one perfect 20\")"
   ]
  },
  {
   "cell_type": "markdown",
   "metadata": {},
   "source": [
    "___\n",
    "### Question 3: Deal the cards as a meditation!\n",
    "\n",
    "#### What will be the probability of throwing at least one perfect 20 with a D20:\n",
    "\n",
    "- A) Write a function to find the probability of an event in percentage form based on given outcomes and sample space\n",
    "- B) The probability of drawing a spade card\n",
    "- C) The probability of drawing a spade card after drawing the Queen of spades\n",
    "- D) The probability of drawing three aces back to back\n",
    "- E) The probability of drawing a 10 of diamonds, or an ace, or a king"
   ]
  },
  {
   "cell_type": "code",
   "execution_count": 27,
   "metadata": {
    "collapsed": false,
    "jupyter": {
     "outputs_hidden": false
    }
   },
   "outputs": [],
   "source": [
    "# A\n",
    "# Create function that returns probability percent rounded to one decimal place\n",
    "def Prob(outcome, sampspace):\n",
    "    probability = (outcome / sampspace) * 100\n",
    "    return round(probability, 1)"
   ]
  },
  {
   "cell_type": "code",
   "execution_count": 28,
   "metadata": {
    "collapsed": false,
    "jupyter": {
     "outputs_hidden": false
    }
   },
   "outputs": [
    {
     "name": "stdout",
     "output_type": "stream",
     "text": [
      "The probability of drawing a spade card is 25.0 %\n"
     ]
    }
   ],
   "source": [
    "# B\n",
    "outcome = 13       #There are 13 spade cards\n",
    "space = 52        #There are 52 card in total\n",
    "Prob(outcome, space)\n",
    "print(\"The probability of drawing a spade card is\",Prob(outcome, space),\"%\")"
   ]
  },
  {
   "cell_type": "code",
   "execution_count": 29,
   "metadata": {
    "collapsed": false,
    "jupyter": {
     "outputs_hidden": false
    }
   },
   "outputs": [
    {
     "name": "stdout",
     "output_type": "stream",
     "text": [
      "The probability of drawing a spade card after drawing the Queen of spades is 0.004464999999999999 %\n"
     ]
    }
   ],
   "source": [
    "# C\n",
    "QueenofSpades = 1       #Queen of Spades is 1 specific card\n",
    "space1 = 52        #total number of cards in a deck\n",
    "otherspades = 12        #12 spade cards are left\n",
    "space2 = 51        #one card was removed in the previous draw\n",
    "\n",
    "ProbQandS= (Prob(QueenofSpades, space1)/100) * (Prob(otherspades, space2)/100)\n",
    "print(\"The probability of drawing a spade card after drawing the Queen of spades is\",ProbQandS,\"%\")"
   ]
  },
  {
   "cell_type": "code",
   "execution_count": 57,
   "metadata": {
    "collapsed": false,
    "jupyter": {
     "outputs_hidden": false
    }
   },
   "outputs": [
    {
     "name": "stdout",
     "output_type": "stream",
     "text": [
      "The probability of drawing a 10 of diamonds, or an ace, or a king is 0.17600000000000002 %\n"
     ]
    }
   ],
   "source": [
    "# D\n",
    "Ace1 = 4       #4 possibility for the 1st ace\n",
    "space1 = 52        #total number of cards in a deck\n",
    "Ace2 = 3        #3 possibility for the 2nd ace\n",
    "space2 = 51        #one card was removed in the previous draw\n",
    "Ace3 = 2        #2 possibility for the 3rd ace\n",
    "space3 = 50        #two cards were removed in the previous draws\n",
    "\n",
    "probability= (Prob(Ace1, space1)/100) + (Prob(Ace2, space2)/100) + (Prob(Ace3, space3)/100)\n",
    "print(\"The probability of drawing a 10 of diamonds, or an ace, or a king is\",probability,\"%\")"
   ]
  },
  {
   "cell_type": "code",
   "execution_count": null,
   "metadata": {
    "collapsed": false,
    "jupyter": {
     "outputs_hidden": false
    }
   },
   "outputs": [],
   "source": [
    "# E\n",
    "hearts10 = 1       #1 possibility for the 10 of hearts\n",
    "aces = 4        #4 possibility for an ace\n",
    "kings = 4        #4 possibility for a king\n",
    "\n",
    "space = 52        #total number of cards in a deck\n",
    "\n",
    "Prob= (Prob(hearts10, space) + Prob(aces, space) + Prob(kings, space))\n",
    "print(\"The probability of drawing three aces back to back is\",Prob3aces,\"%\")"
   ]
  },
  {
   "cell_type": "code",
   "execution_count": null,
   "metadata": {},
   "outputs": [],
   "source": []
  },
  {
   "cell_type": "markdown",
   "metadata": {},
   "source": [
    "![](https://freight.cargo.site/w/1200/i/c96b2ce17b2aee95c6e837552e3e38d058ac4ad2a6759448ed78128963790744/Happy_Coding_BC_6-03-05.png)"
   ]
  }
 ],
 "metadata": {
  "kernelspec": {
   "display_name": "Python 3",
   "language": "python",
   "name": "python3"
  },
  "language_info": {
   "codemirror_mode": {
    "name": "ipython",
    "version": 3
   },
   "file_extension": ".py",
   "mimetype": "text/x-python",
   "name": "python",
   "nbconvert_exporter": "python",
   "pygments_lexer": "ipython3",
   "version": "3.7.4"
  }
 },
 "nbformat": 4,
 "nbformat_minor": 4
}
