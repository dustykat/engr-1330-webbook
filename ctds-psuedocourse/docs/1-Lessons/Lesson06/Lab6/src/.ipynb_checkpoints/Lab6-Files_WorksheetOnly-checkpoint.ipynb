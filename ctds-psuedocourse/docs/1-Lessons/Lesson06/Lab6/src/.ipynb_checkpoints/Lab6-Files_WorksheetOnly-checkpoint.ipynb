{
 "cells": [
  {
   "cell_type": "code",
   "execution_count": 1,
   "metadata": {
    "collapsed": false
   },
   "outputs": [
    {
     "data": {
      "text/html": [
       "<!--Script block to left align Markdown Tables-->\n",
       "<style>\n",
       "  table {margin-left: 0 !important;}\n",
       "</style>\n"
      ],
      "text/plain": [
       "<IPython.core.display.HTML object>"
      ]
     },
     "execution_count": 1,
     "metadata": {
     },
     "output_type": "execute_result"
    }
   ],
   "source": [
    "%%html\n",
    "<!--Script block to left align Markdown Tables-->\n",
    "<style>\n",
    "  table {margin-left: 0 !important;}\n",
    "</style>"
   ]
  },
  {
   "cell_type": "code",
   "execution_count": 2,
   "metadata": {
    "collapsed": false
   },
   "outputs": [
    {
     "name": "stdout",
     "output_type": "stream",
     "text": [
      "atomickitty.aws\n",
      "compthink\n",
      "/opt/conda/envs/python/bin/python\n",
      "3.8.3 (default, Jul  2 2020, 16:21:59) \n",
      "[GCC 7.3.0]\n",
      "sys.version_info(major=3, minor=8, micro=3, releaselevel='final', serial=0)\n"
     ]
    }
   ],
   "source": [
    "# Preamble script block to identify host, user, and kernel\n",
    "import sys\n",
    "! hostname\n",
    "! whoami\n",
    "print(sys.executable)\n",
    "print(sys.version)\n",
    "print(sys.version_info)"
   ]
  },
  {
   "cell_type": "markdown",
   "metadata": {
    "collapsed": false
   },
   "source": [
    "## Full name: \n",
    "## R#: \n",
    "## HEX: \n",
    "## Title of the notebook\n",
    "## Date: "
   ]
  },
  {
   "cell_type": "markdown",
   "metadata": {
    "collapsed": false
   },
   "source": [
    "# Laboratory 6 - Part 2 "
   ]
  },
  {
   "cell_type": "markdown",
   "metadata": {
    "collapsed": false
   },
   "source": [
    "#### Example: Create a file, write to it. \n",
    "\n",
    "Below is an example of creating a file that does not yet exist.\n",
    "The script is a bit pendandic on purpose.\n",
    "\n",
    "First will use some system commands to view the contents of the local directory"
   ]
  },
  {
   "cell_type": "code",
   "execution_count": 1,
   "metadata": {
    "collapsed": false
   },
   "outputs": [
    {
     "name": "stdout",
     "output_type": "stream",
     "text": [
      "/home/user\r\n"
     ]
    }
   ],
   "source": [
    "import sys\n",
    "! rm -rf myfirstfile.txt # delete file if it exists\n",
    "! pwd # list name of working directory, note it includes path, so it is an absolute path"
   ]
  },
  {
   "cell_type": "code",
   "execution_count": 2,
   "metadata": {
    "collapsed": false
   },
   "outputs": [
    {
     "name": "stdout",
     "output_type": "stream",
     "text": [
      "total 38\r\n",
      "-rw-r--r-- 1 user user 11947 Sep  8 19:12 Lab6-Classes.ipynb\r\n",
      "-rw-r--r-- 1 user user 20658 Sep  8 21:53 Lab6-Classes_FP.ipynb\r\n",
      "-rw-r--r-- 1 user user 24796 Sep  8 19:12 Lab6-Files.ipynb\r\n",
      "-rw-r--r-- 1 user user 24796 Sep  8 21:54 Lab6-Files_FP.ipynb\r\n",
      "-rw-r--r-- 1 user user   524 Sep  8 19:12 ReadingFile-Original.txt\r\n",
      "-rw-r--r-- 1 user user  1044 Sep  8 19:12 ReadingFile.txt\r\n",
      "-rw-r--r-- 1 user user   115 Sep  8 19:12 Sample.txt\r\n"
     ]
    }
   ],
   "source": [
    "! ls -l # list contents of working directory"
   ]
  },
  {
   "cell_type": "code",
   "execution_count": 3,
   "metadata": {
    "collapsed": false
   },
   "outputs": [
   ],
   "source": [
    "# create file example\n",
    "externalfile = open(\"myfirstfile.txt\",'w') # create connection to file, set to write (w), file does not need to exist\n",
    "mymessage = 'message in a bottle' #some object to write, in this case a string\n",
    "externalfile.write(mymessage)# write the contents of mymessage to the file\n",
    "externalfile.close() # close the file connection"
   ]
  },
  {
   "cell_type": "markdown",
   "metadata": {
    "collapsed": false
   },
   "source": [
    "At this point our new file should exist, lets list the directory and see if that is so"
   ]
  },
  {
   "cell_type": "code",
   "execution_count": 4,
   "metadata": {
    "collapsed": false
   },
   "outputs": [
    {
     "name": "stdout",
     "output_type": "stream",
     "text": [
      "total 39\r\n",
      "-rw-r--r-- 1 user user 11947 Sep  8 19:12 Lab6-Classes.ipynb\r\n",
      "-rw-r--r-- 1 user user 20658 Sep  8 21:53 Lab6-Classes_FP.ipynb\r\n",
      "-rw-r--r-- 1 user user 24796 Sep  8 19:12 Lab6-Files.ipynb\r\n",
      "-rw-r--r-- 1 user user 24855 Sep  8 22:03 Lab6-Files_FP.ipynb\r\n",
      "-rw-r--r-- 1 user user   524 Sep  8 19:12 ReadingFile-Original.txt\r\n",
      "-rw-r--r-- 1 user user  1044 Sep  8 19:12 ReadingFile.txt\r\n",
      "-rw-r--r-- 1 user user   115 Sep  8 19:12 Sample.txt\r\n",
      "-rw-r--r-- 1 user user    19 Sep  8 22:03 myfirstfile.txt\r\n"
     ]
    }
   ],
   "source": [
    "! ls -l # list contents of working directory"
   ]
  },
  {
   "cell_type": "markdown",
   "metadata": {
    "collapsed": false
   },
   "source": [
    "Sure enough, its there, we will use a `bash` command `cat` to look at the contents of the file."
   ]
  },
  {
   "cell_type": "code",
   "execution_count": 5,
   "metadata": {
    "collapsed": false
   },
   "outputs": [
    {
     "name": "stdout",
     "output_type": "stream",
     "text": [
      "message in a bottle"
     ]
    }
   ],
   "source": [
    "! cat myfirstfile.txt"
   ]
  },
  {
   "cell_type": "markdown",
   "metadata": {
    "collapsed": false
   },
   "source": [
    "Thats about it, use of system commands, of course depends on the system, the examples above should work OK on CoCalc or a Macintosh; on Winderz the shell commands are a little different.  If you have the linux subsystem installed then these should work as is."
   ]
  },
  {
   "cell_type": "markdown",
   "metadata": {
    "collapsed": false
   },
   "source": [
    "#### Example: Read from an existing file. \n",
    "\n",
    "We will continue using the file we just made, and read from it the example is below"
   ]
  },
  {
   "cell_type": "code",
   "execution_count": 6,
   "metadata": {
    "collapsed": false
   },
   "outputs": [
    {
     "name": "stdout",
     "output_type": "stream",
     "text": [
      "message in a bottle\n"
     ]
    }
   ],
   "source": [
    "# read file example\n",
    "externalfile = open(\"myfirstfile.txt\",'r') # create connection to file, set to read (r), file must exist\n",
    "silly_string = externalfile.read() # read the contents\n",
    "externalfile.close() # close the file connection\n",
    "print(silly_string)"
   ]
  },
  {
   "cell_type": "code",
   "execution_count": 0,
   "metadata": {
    "collapsed": false
   },
   "outputs": [
   ],
   "source": [
   ]
  },
  {
   "cell_type": "markdown",
   "metadata": {
    "collapsed": false
   },
   "source": [
    "#### Example: Update a file.\n",
    "\n",
    "This example continues with our same file, but we will now add contents without destroying existing contents. The keyword is `append`"
   ]
  },
  {
   "cell_type": "code",
   "execution_count": 7,
   "metadata": {
    "collapsed": false
   },
   "outputs": [
   ],
   "source": [
    "externalfile = open(\"myfirstfile.txt\",'a') # create connection to file, set to append (a), file does not need to exist\n",
    "externalfile.write('\\n') # adds a newline character\n",
    "what_to_add = 'I love rock-and-roll, put another dime in the jukebox baby ... \\n' \n",
    "externalfile.write(what_to_add) # add a string including the linefeed\n",
    "what_to_add = '... the waiting is the hardest part \\n' \n",
    "externalfile.write(what_to_add) # add a string including the linefeed\n",
    "mylist = [1,2,3,4,5] # a list of numbers\n",
    "what_to_add = ','.join(map(repr, mylist)) + \"\\n\" # one way to write the list\n",
    "externalfile.write(what_to_add)\n",
    "what_to_add = ','.join(map(repr, mylist[0:len(mylist)])) + \"\\n\" # another way to write the list\n",
    "externalfile.write(what_to_add)\n",
    "externalfile.close()"
   ]
  },
  {
   "cell_type": "markdown",
   "metadata": {
    "collapsed": false
   },
   "source": [
    "As before we can examine the contents using a shell command sent from the notebook."
   ]
  },
  {
   "cell_type": "code",
   "execution_count": 8,
   "metadata": {
    "collapsed": false
   },
   "outputs": [
    {
     "name": "stdout",
     "output_type": "stream",
     "text": [
      "message in a bottle\r\n",
      "I love rock-and-roll, put another dime in the jukebox baby ... \r\n",
      "... the waiting is the hardest part \r\n",
      "1,2,3,4,5\r\n",
      "1,2,3,4,5\r\n"
     ]
    }
   ],
   "source": [
    "! cat myfirstfile.txt"
   ]
  },
  {
   "cell_type": "markdown",
   "metadata": {
    "collapsed": false
   },
   "source": [
    "#### Example: Delete a file\n",
    "\n",
    "Delete can be done by a system call as we did above to clear the local directory\n",
    "\n",
    "In a JupyterLab notebook, we can either use\n",
    "\n",
    "    import sys\n",
    "    ! rm -rf myfirstfile.txt # delete file if it exists\n",
    "\n",
    "or\n",
    "\n",
    "    import os\n",
    "    os.remove(\"myfirstfile.txt\")\n",
    "\n",
    "they both have same effect, both equally dangerous to your filesystem.\n",
    "\n",
    "\n",
    "Learn more about CRUD with text files at https://www.guru99.com/reading-and-writing-files-in-python.html\n",
    "\n",
    "Learn more about file delete at https://www.dummies.com/programming/python/how-to-delete-a-file-in-python/\n",
    "    "
   ]
  },
  {
   "cell_type": "code",
   "execution_count": 9,
   "metadata": {
    "collapsed": false
   },
   "outputs": [
    {
     "name": "stdout",
     "output_type": "stream",
     "text": [
      "myfirstfile.txt  missing or deleted !\n"
     ]
    }
   ],
   "source": [
    "# import os\n",
    "file2kill = \"myfirstfile.txt\"\n",
    "try:\n",
    "    os.remove(file2kill) # file must exist or will generate an exception\n",
    "except:\n",
    "    pass # example of using pass to improve readability\n",
    "print(file2kill, \" missing or deleted !\")"
   ]
  },
  {
   "cell_type": "markdown",
   "metadata": {
    "collapsed": false
   },
   "source": [
    "## Example\n",
    "\n",
    "- create a text file, name it __\"MyFavoriteQuotation\"__.\n",
    "- Write __your favorite quotation__ in the file.\n",
    "- Read the file.\n",
    "- Add this string to it in a new line : \"And that's something I wish I had said...\"\n",
    "- Show the final outcome."
   ]
  },
  {
   "cell_type": "code",
   "execution_count": 0,
   "metadata": {
    "collapsed": false
   },
   "outputs": [
   ],
   "source": [
   ]
  },
  {
   "cell_type": "markdown",
   "metadata": {
    "collapsed": false
   },
   "source": [
    "#### Exercise-3: \n",
    "\n",
    "Read and print the contents of the text file named '**ReadingFile.txt**' that is located on the content server.  \n",
    "You will have to download the file, then upload to CoCalc."
   ]
  },
  {
   "cell_type": "code",
   "execution_count": 0,
   "metadata": {
    "collapsed": false
   },
   "outputs": [
   ],
   "source": [
   ]
  },
  {
   "cell_type": "markdown",
   "metadata": {
    "collapsed": false
   },
   "source": [
    "#### Exercise-4: \n",
    "Append the text that is given below to the file named \"**Readingfile.txt**\".  \n",
    "\n",
    "\"*With many people utilizing the power of data today, we have umpteen resources from where one can learn what is new in the domain.*\"\n",
    "\n",
    "Print the output after appending the new line.\n",
    "\n",
    "Use the system command \"**! cat Readingfile.txt**\" to show the appended file contains the new content\n"
   ]
  },
  {
   "cell_type": "code",
   "execution_count": 0,
   "metadata": {
    "collapsed": false
   },
   "outputs": [
   ],
   "source": [
   ]
  },
  {
   "cell_type": "code",
   "execution_count": 0,
   "metadata": {
    "collapsed": false
   },
   "outputs": [
   ],
   "source": [
   ]
  },
  {
   "cell_type": "markdown",
   "metadata": {
    "collapsed": false
   },
   "source": [
    "## References\n",
    "Overland, B. (2018). Python Without Fear. Addison-Wesley ISBN 978-0-13-468747-6. \n",
    "\n",
    "Grus, Joel (2015). Data Science from Scratch: First Principles with Python O’Reilly\n",
    "Media. Kindle Edition.\n",
    "\n",
    "Precord, C. (2010) wxPython 2.8 Application Development Cookbook Packt Publishing Ltd. Birmingham , B27 6PA, UK ISBN 978-1-849511-78-0."
   ]
  }
 ],
 "metadata": {
  "kernelspec": {
   "display_name": "Python 3 (system-wide)",
   "language": "python",
   "metadata": {
    "cocalc": {
     "description": "Python 3 programming language",
     "priority": 100,
     "url": "https://www.python.org/"
    }
   },
   "name": "python3"
  },
  "language_info": {
   "codemirror_mode": {
    "name": "ipython",
    "version": 3
   },
   "file_extension": ".py",
   "mimetype": "text/x-python",
   "name": "python",
   "nbconvert_exporter": "python",
   "pygments_lexer": "ipython3",
   "version": "3.8.2"
  }
 },
 "nbformat": 4,
 "nbformat_minor": 4
}