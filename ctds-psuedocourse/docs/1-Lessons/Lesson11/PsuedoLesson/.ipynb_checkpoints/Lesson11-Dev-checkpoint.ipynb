{
 "cells": [
  {
   "cell_type": "code",
   "execution_count": 1,
   "metadata": {
    "jupyter": {
     "source_hidden": true
    }
   },
   "outputs": [
    {
     "name": "stdout",
     "output_type": "stream",
     "text": [
      "atomickitty.aws\n",
      "compthink\n",
      "/opt/conda/envs/python/bin/python\n",
      "3.8.3 (default, Jul  2 2020, 16:21:59) \n",
      "[GCC 7.3.0]\n",
      "sys.version_info(major=3, minor=8, micro=3, releaselevel='final', serial=0)\n",
      "/home/compthink/CECE-1330-PsuedoCourse/1-Lessons/Lesson11/PsuedoLesson\n"
     ]
    }
   ],
   "source": [
    "# Preamble script block to identify host, user, and kernel\n",
    "import sys\n",
    "! hostname\n",
    "! whoami\n",
    "print(sys.executable)\n",
    "print(sys.version)\n",
    "print(sys.version_info)\n",
    "! pwd"
   ]
  },
  {
   "cell_type": "code",
   "execution_count": 2,
   "metadata": {
    "jupyter": {
     "source_hidden": true
    }
   },
   "outputs": [
    {
     "data": {
      "text/html": [
       "<!--Script block to left align Markdown Tables-->\n",
       "<style>\n",
       "  table {margin-left: 0 !important;}\n",
       "</style>\n"
      ],
      "text/plain": [
       "<IPython.core.display.HTML object>"
      ]
     },
     "metadata": {},
     "output_type": "display_data"
    }
   ],
   "source": [
    "%%html\n",
    "<!--Script block to left align Markdown Tables-->\n",
    "<style>\n",
    "  table {margin-left: 0 !important;}\n",
    "</style>"
   ]
  },
  {
   "cell_type": "markdown",
   "metadata": {},
   "source": [
    "# Randomness and Probabilities\n",
    "\n",
    "This lesson introduces probability as the chance of occurance of some event. \n",
    "Concepts of sampling and empirical distributions are introduced.\n",
    "\n",
    "The textbook presents randomness at: https://www.inferentialthinking.com/chapters/09/Randomness.html\n",
    "\n",
    "Section 9.5 of that link elaborates on probabilities\n",
    "\n",
    "\"Over the centuries, there has been considerable philosophical debate about what probabilities are. Some people think that probabilities are relative frequencies; others think they are long run relative frequencies; still others think that probabilities are a subjective measure of their own personal degree of uncertainty.\"\n",
    "\n",
    "As a practical matter, most probabilities are relative frequencies.  If you are a Bayesian statistician, its just conditioned relative frequency.  By convention, probabilities are numbers between 0 and 1, or, equivalently, 0% and 100%. Impossible events have probability 0. Events that are certain have probability 1.\n",
    "\n",
    "![](https://encrypted-tbn0.gstatic.com/images?q=tbn%3AANd9GcRY93kpa8YEikMTZsMZk8Rka4DTQrpxkDxmkA&usqp=CAU)\n",
    "\n",
    "As a silly example, the probability that a Great White shark will swim up your sewer pipe and bite you on the bottom, is zero.  Unless the sewer pipe is pretty big, the shark cannot physically get to you - hence impossible.  Now if you are swimming in a freshwater river, lets say the Columbia river on the Oregon border, that probability of sharkbite increases a bit, perhaps 1 in 100 million, or 0.000001% chance of a Great White shark (a pelagic species adapted to salt water), swimming upriver in freshwater, past a couple of fish ladders, still hungry enough bite your bottom. It would be a rare bite indeed; but not physically impossible.\n",
    "\n",
    "\n",
    "![](https://www.myyosemitepark.com/.image/t_share/MTQ3OTg4NjE5NjM3MTcxNjc5/yt-galen-clark-overhanging-rock_georgefiske1900.jpg)\n",
    "\n",
    "At the other end of the scale, \"sure things\" have a probability close to 1. If you run and jump off Glacier point in Yosemite Valley, its almost guarenteed that you will have a 1000 foot plunge until you hit the apron of the cliff and make a big red smear - there could be a gust of wind pushing you away into the trees, but pretty unlikely. So without a squirrel suit and a parachute you are pretty much going to expire with probability 100% chance.\n",
    "\n",
    "Math is the main tool for finding probabilities exactly, though computers are useful for this purpose too. Simulation can provide excellent approximations. In this section, we will informally develop a few simple rules that govern the calculation of probabilities. In subsequent sections we will return to simulations to approximate probabilities of complex events.\n",
    "\n",
    "We will use the standard notation 𝑃(event) to denote the probability that \"event\" happens, and we will use the words \"chance\" and \"probability\" interchangeably.\n",
    "\n",
    "\n",
    "    \n",
    "    Concepts of sample, population, and probabilities​\n",
    "\n",
    "    Computing probability: single events, both events, at least event."
   ]
  },
  {
   "cell_type": "markdown",
   "metadata": {},
   "source": [
    "## Simple Exclusion \n",
    "\n",
    "If the chance that event happens is 40%, then the chance that it doesn't happen is 60%. \n",
    "This natural calculation can be described in general as follows:\n",
    "\n",
    "𝑃(an event doesn't happen) = 1−𝑃(the event happens)\n",
    "\n",
    "The result is correct if the entireity of possibilities are enumerated, that is the entire population is described."
   ]
  },
  {
   "cell_type": "markdown",
   "metadata": {},
   "source": [
    "## Complete Enumeration\n",
    "\n",
    "If you are rolling an ordinary die, a natural assumption is that all six faces are equally likely. \n",
    "Then probabilities of how one roll comes out can be easily calculated as a ratio. \n",
    "For example, the chance that the die shows an even number is \n",
    "\n",
    "$$\\frac{number~of~even~faces}{number~of~all~faces} =  \\frac{\\#{2,4,6}}{\\#{1,2,3,4,5,6}} = \\frac{3}{6} $$\n",
    "\n",
    "Similarly,\n",
    "$$𝑃(die~shows~a~multiple~of~3) = \\frac{\\#{3,6}}{\\#{1,2,3,4,5,6}} = \\frac{2}{6}$$\n",
    "\n",
    "In general,\n",
    "𝑃(an event happens) = #{outcomes that make the event happen}#{all outcomes}\n",
    "\n",
    "Provided all the outcomes are equally likely.  As above, this presumes the entireity of possibilities are enumerated.  \n",
    "\n",
    "In the case of a single die, there are six outcomes - these comprise the entire **population** of outcomes.  If we roll two die there are 12 outcomes, three die 18 and so on.  \n",
    "\n",
    "Not all random phenomena are as simple as one roll of a die. The two main rules of probability, developed below, allow mathematicians to find probabilities even in complex situations."
   ]
  },
  {
   "cell_type": "markdown",
   "metadata": {},
   "source": [
    "## Conditioning (Two events must happen)\n",
    "\n",
    "Suppose you have a box that contains three tickets: one red, one blue, and one green. Suppose you draw two tickets at random without replacement; that is, you shuffle the three tickets, draw one, shuffle the remaining two, and draw another from those two. What is the chance you get the green ticket first, followed by the red one?\n",
    "\n",
    "There are six possible pairs of colors: RB, BR, RG, GR, BG, GB (we've abbreviated the names of each color to just its first letter). All of these are equally likely by the sampling scheme, and only one of them (GR) makes the event happen. So\n",
    "$$ 𝑃(green~first,~then~red) = \\frac{GR}{RB, BR, RG, GR, BG, GB} = \\frac{1}{6} $$\n",
    "\n",
    "But there is another way of arriving at the answer, by thinking about the event in two stages. First, the green ticket has to be drawn. That has chance 1/3, which means that the green ticket is drawn first in about 1/3 of all repetitions of the experiment. \n",
    "\n",
    "But that doesn't complete the event. Among the 1/3 of repetitions when green is drawn first, the red ticket has to be drawn next. \n",
    "That happens in about 1/2 of those repetitions, and so:\n",
    "\n",
    "$$𝑃(green~first,~then~red) = \\frac{1}{2} of \\frac{1}{3} = \\frac{1}{6} $$\n",
    "\n",
    "This calculation is usually written \"in chronological order,\" as follows.\n",
    "\n",
    "$$𝑃(green~first,~then~red) = \\frac{1}{3} of \\frac{1}{2} = \\frac{1}{6} $$\n",
    "\n",
    "The factor of $$\\frac{1}{2}$$ is called \" the **conditional** chance that the red ticket appears second, given that the green ticket appeared first.\"\n",
    "\n",
    "In general, we have the multiplication rule:\n",
    "\n",
    "$$ 𝑃(two~events~both~happen) = 𝑃(one~event~happens)\\times 𝑃(the~other~event~happens, given~that~the~first~one~happened) $$\n",
    "\n",
    "Thus, when there are two conditions – one event must happen, as well as another – the chance is a fraction of a fraction, which is smaller than either of the two component fractions. The more conditions that have to be satisfied, the less likely they are to all be satisfied."
   ]
  },
  {
   "cell_type": "markdown",
   "metadata": {},
   "source": [
    "## Partitioning (When sequence doesn't matter) - A kind of enumeration!\n",
    "\n",
    "Suppose instead we want the chance that one of the two tickets is green and the other red. \n",
    "This event doesn't specify the order in which the colors must appear. \n",
    "So they can appear in either order.\n",
    "\n",
    "A good way to tackle problems like this is to partition the event so that it can happen in exactly one of several different ways. \n",
    "The natural partition of \"one green and one red\" is: GR, RG.\n",
    "\n",
    "Each of GR and RG has chance 1/6 by the calculation above. \n",
    "\n",
    "So you can calculate the chance of \"one green and one red\" by adding them up.\n",
    " \n",
    "$$𝑃(one~green~and~one~red) = 𝑃(GR)+𝑃(RG) = \\frac{1}{6} + \\frac{1}{6} = \\frac{2}{6} $$\n",
    "\n",
    "In general, we have the addition rule:\n",
    "\n",
    "$$ 𝑃(an~event~happens) = 𝑃(first~way~it~can~happen)+𝑃(second~way~it~can~happen) $$\n",
    "\n",
    "provided the event happens in exactly one of the two ways.\n",
    "\n",
    "Thus, when an event can happen in one of two different ways, the chance that it happens is a sum of chances, and hence bigger than the chance of either of the individual ways.\n",
    "\n",
    "The multiplication rule has a natural extension to more than two events, as we will see below. So also the addition rule has a natural extension to events that can happen in one of several different ways.\n",
    "\n",
    "Learn more at: https://ocw.mit.edu/courses/mathematics/18-440-probability-and-random-variables-spring-2014/lecture-notes/MIT18_440S14_Lecture3.pdf"
   ]
  },
  {
   "cell_type": "markdown",
   "metadata": {},
   "source": [
    "## At Least One Success (A kind of exclusion/partition)\n",
    "Data scientists work with random samples from populations. \n",
    "A question that sometimes arises is about the likelihood that a particular individual in the population is selected to be in the sample. \n",
    "To work out the chance, that individual is called a \"success,\" and the problem is to find the chance that the sample contains a success.\n",
    "\n",
    "To see how such chances might be calculated, we start with a simpler setting: tossing a coin two times.\n",
    "\n",
    "If you toss a coin twice, there are four equally likely outcomes: HH, HT, TH, and TT. \n",
    "We have abbreviated \"Heads\" to H and \"Tails\" to T. \n",
    "The chance of getting at least one head in two tosses is therefore 3/4.\n",
    "\n",
    "Another way of coming up with this answer is to work out what happens if you don't get at least one head: both the tosses have to land tails. So\n",
    "$$𝑃(at~least~one~head~in~two~tosses) = 1−𝑃(both~tails) = 1−\\frac{1}{4} = \\frac{3}{4}$$\n",
    "\n",
    "Notice also that\n",
    "$$𝑃(both~tails) = \\frac{1}{4} = \\frac{1}{2} \\times \\frac{1}{2} = (\\frac{1}{2})^2$$\n",
    "\n",
    "by the multiplication rule.\n",
    "\n",
    "These two observations allow us to find the chance of at least one head in any given number of tosses. For example,\n",
    "$$𝑃(at~least~one~head~in~17~tosses) = 1−𝑃(all~17~are~tails) = 1−(\\frac{1}{2})^{17}$$\n",
    "\n",
    "And now we are in a position to find the chance that the face with six spots comes up at least once in rolls of a die.\n",
    "\n",
    "For example,\n",
    "$$𝑃(a~single~roll~is~not~6) = 𝑃(1)+𝑃(2)+𝑃(3)+𝑃(4)+𝑃(5) = \\frac{5}{6}$$\n",
    "\n",
    "Therefore,\n",
    "$$𝑃(at~least~one~6~in~two~rolls) = 1−𝑃(both~rolls~are~not~6) = 1−(\\frac{5}{6})^2$$\n",
    "\n",
    "and\n",
    "$$𝑃(at~least~one~6~in~17~rolls) = 1−(\\frac{5}{6})^{17}$$\n",
    "\n",
    "The table below shows these probabilities as the number of rolls increases from 1 to 50."
   ]
  },
  {
   "cell_type": "code",
   "execution_count": 6,
   "metadata": {},
   "outputs": [
    {
     "data": {
      "text/plain": [
       "<AxesSubplot:xlabel='NumRolls', ylabel='Prob at least 6'>"
      ]
     },
     "execution_count": 6,
     "metadata": {},
     "output_type": "execute_result"
    },
    {
     "data": {
      "image/png": "[encoded data removed]",
      "text/plain": [
       "<Figure size 432x288 with 1 Axes>"
      ]
     },
     "metadata": {
      "needs_background": "light"
     },
     "output_type": "display_data"
    }
   ],
   "source": [
    "import pandas as pd\n",
    "\n",
    "numRolls = []\n",
    "probabilities = []\n",
    "for i in range(50):\n",
    "    numRolls.append(i)\n",
    "    probabilities.append(1-(5/6)**i)\n",
    "\n",
    "rolls = {\n",
    "    \"NumRolls\": numRolls,\n",
    "    \"Prob at least 6\": probabilities\n",
    "}\n",
    "\n",
    "df = pd.DataFrame(rolls)\n",
    "df.plot.scatter(x=\"NumRolls\", y=\"Prob at least 6\")"
   ]
  },
  {
   "cell_type": "code",
   "execution_count": 10,
   "metadata": {},
   "outputs": [
    {
     "data": {
      "text/html": [
       "<div>\n",
       "<style scoped>\n",
       "    .dataframe tbody tr th:only-of-type {\n",
       "        vertical-align: middle;\n",
       "    }\n",
       "\n",
       "    .dataframe tbody tr th {\n",
       "        vertical-align: top;\n",
       "    }\n",
       "\n",
       "    .dataframe thead th {\n",
       "        text-align: right;\n",
       "    }\n",
       "</style>\n",
       "<table border=\"1\" class=\"dataframe\">\n",
       "  <thead>\n",
       "    <tr style=\"text-align: right;\">\n",
       "      <th></th>\n",
       "      <th>NumRolls</th>\n",
       "      <th>Prob at least 6</th>\n",
       "    </tr>\n",
       "  </thead>\n",
       "  <tbody>\n",
       "    <tr>\n",
       "      <th>0</th>\n",
       "      <td>0</td>\n",
       "      <td>0.000000</td>\n",
       "    </tr>\n",
       "    <tr>\n",
       "      <th>1</th>\n",
       "      <td>1</td>\n",
       "      <td>0.166667</td>\n",
       "    </tr>\n",
       "    <tr>\n",
       "      <th>2</th>\n",
       "      <td>2</td>\n",
       "      <td>0.305556</td>\n",
       "    </tr>\n",
       "    <tr>\n",
       "      <th>3</th>\n",
       "      <td>3</td>\n",
       "      <td>0.421296</td>\n",
       "    </tr>\n",
       "    <tr>\n",
       "      <th>4</th>\n",
       "      <td>4</td>\n",
       "      <td>0.517747</td>\n",
       "    </tr>\n",
       "  </tbody>\n",
       "</table>\n",
       "</div>"
      ],
      "text/plain": [
       "   NumRolls  Prob at least 6\n",
       "0         0         0.000000\n",
       "1         1         0.166667\n",
       "2         2         0.305556\n",
       "3         3         0.421296\n",
       "4         4         0.517747"
      ]
     },
     "execution_count": 10,
     "metadata": {},
     "output_type": "execute_result"
    }
   ],
   "source": [
    "df.head()"
   ]
  },
  {
   "cell_type": "markdown",
   "metadata": {},
   "source": [
    "## Why Should anyone buy Flood Protection?\n",
    "\n",
    "Lets apply these ideas to insurance.\n",
    "\n",
    "![](https://www.snopes.com/uploads/2015/05/tropical-storm-allison-865x452.jpg)\n",
    "\n",
    "Suppose you have a house that is located in the 100-year ARI (Annual Recurrance Interval) regulatory flood plain; and you are in a community with a good engineer, who got the probability correct, that is the chance in any year of a **total loss** is 1 in 100 or 0.01. Thus the chance of **no loss** in any year is 99 in 100 or 0.99 (pretty good odds)! \n",
    "\n",
    "So what is the chance during a 30-year loan, of no loss?\n",
    "\n",
    "We can just apply the multiplication rule on the **no loss** probability \n",
    " $$ P(No~Loss) = 0.99^{30} $$\n",
    "\n",
    "But lets simulate - literally adapting the prior script."
   ]
  },
  {
   "cell_type": "code",
   "execution_count": 40,
   "metadata": {},
   "outputs": [
    {
     "data": {
      "text/plain": [
       "<AxesSubplot:xlabel='Years from Start of Loan'>"
      ]
     },
     "execution_count": 40,
     "metadata": {},
     "output_type": "execute_result"
    },
    {
     "data": {
      "image/png": "[encoded data removed]",
      "text/plain": [
       "<Figure size 432x288 with 1 Axes>"
      ]
     },
     "metadata": {
      "needs_background": "light"
     },
     "output_type": "display_data"
    }
   ],
   "source": [
    "import pandas as pd\n",
    "HowManyYears = 30\n",
    "numYears = []\n",
    "nolossprobabilities = []\n",
    "lossprobabilities = []\n",
    "for i in range(HowManyYears):\n",
    "    numYears.append(i) # How many years in the sequence\n",
    "    nolossprobabilities.append((1-(1/100))**i) #Probability of No Loss after i-years\n",
    "    lossprobabilities.append(1 - (1-(1/100))**i) #Probability of Loss after i-years\n",
    "years = {\n",
    "    \"Years from Start of Loan\": numYears,\n",
    "    \"Probability of No Loss\": nolossprobabilities,\n",
    "    \"Probability of Loss\": lossprobabilities\n",
    "}\n",
    "\n",
    "df = pd.DataFrame(years)\n",
    "df.plot.line(x=\"Years from Start of Loan\", y=\"Probability of Loss\")\n",
    "# df.plot.line(x=\"Years from Start of Loan\", y=\"Probability of No Loss\")"
   ]
  },
  {
   "cell_type": "code",
   "execution_count": 24,
   "metadata": {},
   "outputs": [
    {
     "data": {
      "text/html": [
       "<div>\n",
       "<style scoped>\n",
       "    .dataframe tbody tr th:only-of-type {\n",
       "        vertical-align: middle;\n",
       "    }\n",
       "\n",
       "    .dataframe tbody tr th {\n",
       "        vertical-align: top;\n",
       "    }\n",
       "\n",
       "    .dataframe thead th {\n",
       "        text-align: right;\n",
       "    }\n",
       "</style>\n",
       "<table border=\"1\" class=\"dataframe\">\n",
       "  <thead>\n",
       "    <tr style=\"text-align: right;\">\n",
       "      <th></th>\n",
       "      <th>Years from Start of Loan</th>\n",
       "      <th>Probability of No Loss</th>\n",
       "      <th>Probability of Loss</th>\n",
       "    </tr>\n",
       "  </thead>\n",
       "  <tbody>\n",
       "    <tr>\n",
       "      <th>0</th>\n",
       "      <td>0</td>\n",
       "      <td>1.000000</td>\n",
       "      <td>0.000000</td>\n",
       "    </tr>\n",
       "    <tr>\n",
       "      <th>1</th>\n",
       "      <td>1</td>\n",
       "      <td>0.990000</td>\n",
       "      <td>0.010000</td>\n",
       "    </tr>\n",
       "    <tr>\n",
       "      <th>2</th>\n",
       "      <td>2</td>\n",
       "      <td>0.980100</td>\n",
       "      <td>0.019900</td>\n",
       "    </tr>\n",
       "    <tr>\n",
       "      <th>3</th>\n",
       "      <td>3</td>\n",
       "      <td>0.970299</td>\n",
       "      <td>0.029701</td>\n",
       "    </tr>\n",
       "    <tr>\n",
       "      <th>4</th>\n",
       "      <td>4</td>\n",
       "      <td>0.960596</td>\n",
       "      <td>0.039404</td>\n",
       "    </tr>\n",
       "  </tbody>\n",
       "</table>\n",
       "</div>"
      ],
      "text/plain": [
       "   Years from Start of Loan  Probability of No Loss  Probability of Loss\n",
       "0                         0                1.000000             0.000000\n",
       "1                         1                0.990000             0.010000\n",
       "2                         2                0.980100             0.019900\n",
       "3                         3                0.970299             0.029701\n",
       "4                         4                0.960596             0.039404"
      ]
     },
     "execution_count": 24,
     "metadata": {},
     "output_type": "execute_result"
    }
   ],
   "source": [
    "df.head()"
   ]
  },
  {
   "cell_type": "code",
   "execution_count": 34,
   "metadata": {},
   "outputs": [
    {
     "data": {
      "text/plain": [
       "0.25282790566840385"
      ]
     },
     "execution_count": 34,
     "metadata": {},
     "output_type": "execute_result"
    }
   ],
   "source": [
    "df[\"Probability of Loss\"].loc[29]"
   ]
  },
  {
   "cell_type": "code",
   "execution_count": null,
   "metadata": {},
   "outputs": [],
   "source": []
  }
 ],
 "metadata": {
  "kernelspec": {
   "display_name": "Python 38",
   "language": "python",
   "name": "python38"
  },
  "language_info": {
   "codemirror_mode": {
    "name": "ipython",
    "version": 3
   },
   "file_extension": ".py",
   "mimetype": "text/x-python",
   "name": "python",
   "nbconvert_exporter": "python",
   "pygments_lexer": "ipython3",
   "version": "3.8.3"
  }
 },
 "nbformat": 4,
 "nbformat_minor": 4
}
