{
 "cells": [
  {
   "cell_type": "code",
   "execution_count": null,
   "metadata": {},
   "outputs": [],
   "source": [
    "# build your deploy, then move solutions into /src/Solution"
   ]
  },
  {
   "cell_type": "code",
   "execution_count": 1,
   "metadata": {},
   "outputs": [
    {
     "name": "stdout",
     "output_type": "stream",
     "text": [
      "/home/compthink/CECE-1330-PsuedoCourse/1-Lessons/Lesson10/Lab10\n"
     ]
    }
   ],
   "source": [
    "# check current dir\n",
    "! pwd"
   ]
  },
  {
   "cell_type": "code",
   "execution_count": 2,
   "metadata": {},
   "outputs": [],
   "source": [
    "! mv ./src ./.src # activate to hide\n",
    "    \n",
    "#! mv ./.src ./src # activate to unhide"
   ]
  },
  {
   "cell_type": "code",
   "execution_count": 3,
   "metadata": {},
   "outputs": [
    {
     "name": "stdout",
     "output_type": "stream",
     "text": [
      "total 112\n",
      "drwxrwxr-x 4 compthink compthink  4096 Sep 29 12:47 .\n",
      "drwxrwxr-x 6 compthink compthink  4096 Sep 29 12:45 ..\n",
      "drwxrwxr-x 2 compthink compthink  4096 Sep 29 12:47 .ipynb_checkpoints\n",
      "drwxrwxr-x 4 compthink compthink  4096 Sep 29 12:47 .src\n",
      "-rw-rw-r-- 1 compthink compthink 92529 Sep 29 12:29 Lab10_Classversion.ipynb\n",
      "-rw-rw-r-- 1 compthink compthink  1973 Sep 28 18:04 ReadMe.ipynb\n"
     ]
    }
   ],
   "source": [
    "! ls -la"
   ]
  },
  {
   "cell_type": "code",
   "execution_count": null,
   "metadata": {},
   "outputs": [],
   "source": []
  }
 ],
 "metadata": {
  "kernelspec": {
   "display_name": "Python 38",
   "language": "python",
   "name": "python38"
  },
  "language_info": {
   "codemirror_mode": {
    "name": "ipython",
    "version": 3
   },
   "file_extension": ".py",
   "mimetype": "text/x-python",
   "name": "python",
   "nbconvert_exporter": "python",
   "pygments_lexer": "ipython3",
   "version": "3.8.3"
  }
 },
 "nbformat": 4,
 "nbformat_minor": 4
}
