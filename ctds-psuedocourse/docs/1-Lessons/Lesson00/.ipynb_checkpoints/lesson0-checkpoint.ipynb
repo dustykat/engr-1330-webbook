{
 "cells": [
  {
   "cell_type": "markdown",
   "metadata": {},
   "source": [
    "**Download** (right-click, save target as ...) this page as a jupyterlab notebook from:\n",
    "\n",
    "[https://3.137.111.182/engr-1330-webroot/engr-1330-webbook/ctds-psuedocourse/docs/1-Lessons/Lesson00/lesson0.ipynb](https://3.137.111.182/engr-1330-webroot/engr-1330-webbook/ctds-psuedocourse/docs/1-Lessons/Lesson00/lesson0.ipynb)\n"
   ]
  },
  {
   "cell_type": "markdown",
   "metadata": {},
   "source": [
    "## Introduction to Computational Thinking with Data Science: \n",
    "\n",
    "Copyright © 2021 Theodore G. Cleveland, Farhang Forghanparast, Dinesh Sundaravadivelu Devarajan, Turgut Batuhan Baturalp (Batu), Tanja Karp, Long Nguyen, and Mona Rizvi. *The contents of this book are licensed for free consumption under the following license:* [Creative Commons Attribution-NonCommercial-NoDerivatives 4.0 International (CC BY-NC-ND 4.0)](https://creativecommons.org/licenses/by-nc-nd/4.0/).\n",
    "\n",
    "Last GitHub Commit Date: 13 July 2021\n"
   ]
  },
  {
   "cell_type": "code",
   "execution_count": 1,
   "metadata": {},
   "outputs": [
    {
     "data": {
      "text/html": [
       "<!-- Script Block to set tables to left alignment -->\n",
       "<style>\n",
       "  table {margin-left: 0 !important;}\n",
       "</style>\n"
      ],
      "text/plain": [
       "<IPython.core.display.HTML object>"
      ]
     },
     "metadata": {},
     "output_type": "display_data"
    }
   ],
   "source": [
    "%%html\n",
    "<!-- Script Block to set tables to left alignment -->\n",
    "<style>\n",
    "  table {margin-left: 0 !important;}\n",
    "</style>"
   ]
  },
  {
   "cell_type": "markdown",
   "metadata": {},
   "source": [
    "## Computational Thinking Concepts\n",
    "\n",
    "Computational thinking (CT) refers to the thought processes involved in expressing solutions as computational steps or algorithms that can be carried out by a computer. \n",
    "\n",
    "Much of what follows is borrowed from [https://www.ncbi.nlm.nih.gov/pmc/articles/PMC2696102/](https://www.ncbi.nlm.nih.gov/pmc/articles/PMC2696102/).\n",
    "\n",
    "Computational thinking is taking an approach to solving problems, designing systems and understanding human behaviour that draws on concepts fundamental to computing [http://www.cs.cmu.edu/~15110-s13/Wing06-ct.pdf](http://www.cs.cmu.edu/~15110-s13/Wing06-ct.pdf).\n",
    "\n",
    "Computational thinking is a kind of analytical thinking:\n",
    "\n",
    "- It shares with mathematical thinking in the general ways in which we might approach solving a problem. \n",
    "- It shares with engineering thinking in the general ways in which we might approach designing and evaluating a large, complex system that operates within the constraints of the real world. - It shares with scientific thinking in the general ways in which we might approach understanding computability, intelligence, the mind and human behaviour.\n",
    "\n",
    "The essence of computational thinking is **abstraction** and **automation**. \n",
    "In computing, we abstract notions beyond the physical dimensions of time and space. Our abstractions are extremely general because they are symbolic, where numeric abstractions are just a special case.\n",
    "\n",
    "### CT Foundations\n",
    "\n",
    "CT is literally a process for breaking down a problem into smaller parts, looking for patterns in the problems, identifying what kind of information is needed, developing a step-by-step solution, and implementing that solution. \n",
    "\n",
    "1. Decomposition\n",
    "2. Pattern Recognition\n",
    "3. Abstraction\n",
    "4. Algorithms\n",
    "5. System Integration (implementation)\n",
    "\n",
    "#### Decomposition\n",
    "Decomposition is the process of taking a complex problem and breaking it into more manageable sub-problems. Examples include:  \n",
    "\n",
    "- Writing a paper:  \n",
    " - Introduction \n",
    " - Body \n",
    " - Conclusion \n",
    " \n",
    "- Wide-viewed (Panorama) image: \n",
    " - Taking multiple overlapped photos \n",
    " - Stitch them\n",
    " \n",
    "Decomposition often leaves a **framework** of sub-problems that later have to be **assembled (system integration)** to produce a desired solution.\n",
    " \n",
    "#### Pattern Recognition\n",
    "Refers to finding similarities, or shared characteristics of problems.  Allows a complex problem to become easier to solve. Allows use of same solution method for each occurrence of the pattern. \n",
    "\n",
    "Pattern recognition allows use of **automation** to process things - its a fundamental drilled shaft of CT.  It also provides a way to use analogs from old problems to address new situations; it too will require **assembly (system integration)** to produce a desired solution.\n",
    "\n",
    "#### Abstraction\n",
    "\n",
    "Determine important characteristics of the problem and ignore characteristics that are not important. Use these characteristics to create a representation of what we are trying to solve. \n",
    "\n",
    "Books in an online bookstore\n",
    "\n",
    "|Important| NOT important| \n",
    "|:--------|:-------------|\n",
    "|title    | Cover color  |\n",
    "|ISBN     |Author’s hometown| \n",
    "|Authors  | ... |\n",
    "|...      | ... |\n",
    "\n",
    "\n",
    "#### Algorithms\n",
    "Step-by-step instructions of how to solve a problem (https://en.wikipedia.org/wiki/Algorithm). \n",
    "Identifies what is to be done, and the order in which they should be done.\n",
    "\n",
    "![https://3.137.111.182/engr-1330-webroot/engr-1330-webbook/ctds-psuedocourse/docs/1-Lessons/Lesson00/algorithm.png](https://3.137.111.182/engr-1330-webroot/engr-1330-webbook/ctds-psuedocourse/docs/1-Lessons/Lesson00/algorithm.png)\n",
    "\n",
    "||Image from [https://www.newyorker.com/magazine/2021/01/18/whats-wrong-with-the-way-we-work?utm_source=pocket-newtab](https://www.newyorker.com/magazine/2021/01/18/whats-wrong-with-the-way-we-work?utm_source=pocket-newtab)||\n",
    "|---|------------|---|\n",
    "\n",
    "An algorithm is a **finite** sequence of defined, instructions, typically to solve a class of problems or to perform a computation. Algorithms are unambiguous and are used as specifications for performing calculations, data processing, automated reasoning, and other tasks. Starting from an initial state and initial input (perhaps empty), the instructions describe a computation that, when executed, proceeds through a finite number of defined successive states, eventually producing \"output\" and terminating at a final ending state. The transition from one state to the next is not necessarily deterministic; some algorithms, known as randomized algorithms, can incorporate random input.\n",
    "\n",
    "#### System Integration (implementation)\n",
    "\n",
    "System integration is the assembly of the parts above into the complete (integrated) solution.  Integration combines parts into a program which is the realization of an algorithm using a syntax that the computer can understand. "
   ]
  },
  {
   "cell_type": "markdown",
   "metadata": {},
   "source": [
    "## Data Science and Practice\n",
    "\n",
    "Data science is leveraging existing data sources, to create new ones as needed in order to extract meaningful information and actionable insights through business domain expertise, effective communication and results interpretation. Data science uses relevant statistical techniques, programming languages, software packages and libraries, and data infrastructure; The insights are used to drive business decisions and take actions intended to achieve business goals. \n",
    "\n",
    "Why is this important for engineers? Because engineering is a business! \n",
    "\n",
    "A list of typical skills [https://elitedatascience.com/data-science-resources](https://elitedatascience.com/data-science-resources):\n",
    "\n",
    "- Foundational Skills\n",
    "    - **Programming and Data Manipulation** \n",
    "    - **Statistics and Probability**\n",
    "- Technical Skills\n",
    "    - Data Collection\n",
    "    - SQL\n",
    "    - **Data Visualization**\n",
    "    - **Applied Machine Learning**\n",
    "- Business Skills\n",
    "    - **Communication**\n",
    "    - Creativity and Innovation\n",
    "    - Operations and Strategy\n",
    "    - Business Analytics\n",
    "- Supplementary Skills\n",
    "    - Natural Language Processing\n",
    "    - Recommendation Systems\n",
    "    - **Time Series Analysis**\n",
    "- Practice\n",
    "    - **Projects**\n",
    "    - Competitions\n",
    "    - Problem Solving Challenges\n",
    "\n"
   ]
  },
  {
   "cell_type": "markdown",
   "metadata": {},
   "source": [
    "## Programming as a problem solving process\n",
    "The entire point of this course is to develop problem solving skills and begin using some tools (Statistics, Numerical Methods, Data Science, implemented as JupyterLab/Python programs).\n",
    "\n",
    "The scientific method [https://en.wikipedia.org/wiki/Scientific_method](https://en.wikipedia.org/wiki/Scientific_method) is one example of an effective problem solving strategy. Stated as a protocol it goes something like:\n",
    "\n",
    "1. Observation: Formulation of a question\n",
    "2. Hypothesis: A  conjecture that may explain observed behavior. Falsifiable by an experiment whose outcome conflicts with predictions deduced from the hypothesis\n",
    "3. Prediction: How the experiment should conclude if hypothesis is correct \n",
    "4. Testing: Experimental design, and conduct of the experiment.\n",
    "5. Analysis: Interpretation of experimental results\n",
    " \n",
    "This protocol can be directly adapted to CT/DS problems as:\n",
    "\n",
    "1. Define the problem (problem statement)\n",
    "2. Gather information (identify known and unknown values, and governing equations)\n",
    "3. Generate and evaluate potential solutions\n",
    "4. Refine and implement a solution\n",
    "5. Verify and test the solution.\n",
    "\n",
    "For actual computational methods the protocol becomes:\n",
    "\n",
    "1. Explicitly state the problem\n",
    "2. Gather and state Input information, Governing equations or principles, and the required output information.\n",
    "3. Work a sample problem by-hand for testing the general solution.\n",
    "4. Develop a general solution method (coding).\n",
    "5. Test the general solution against the by-hand example(s), then apply to the real problem.\n",
    "\n",
    "Oddly enough the first step is the most important and sometimes the most difficult. In a practical problem, step 2 is sometimes difficult because a skilled programmer is needed to translate the governing principles into an algorithm for the general solution (step 4)."
   ]
  },
  {
   "cell_type": "markdown",
   "metadata": {},
   "source": [
    "### Example 1 Problem Solving Process\n",
    "\n",
    "Consider a need to compute an arithmetic mean, what would the process look like?\n",
    "\n",
    "**Step 1.** Develop script to compute the arithmetic mean of a stream of data of unknown length.\n",
    "\n",
    "**Step 2.** \n",
    "  - Inputs: The data stream \n",
    "  - Governing equation: $ \\bar x = \\frac{1}{N} \\sum_{i=1}^{N} x_i $ where $N$ is the number of items in the data stream, and $x_i$ is the value of the i-th element.\n",
    "  - Outputs: The arithmetic mean $\\bar x$\n",
    "\n",
    "**Step 3.** Work a sample problem by-hand for testing the general solution.\n",
    "\n",
    "|Data|\n",
    "|---:|\n",
    "|23.43|\n",
    "|37.43|\n",
    "|34.91|\n",
    "|28.37|\n",
    "|30.62|\n",
    "\n",
    "The arithmetic mean requires us to count how many elements are in the data stream (in this case there are 5) and compute their sum (in this case 154.76), and finally divide the sum by the count and report this result as the arithmetic mean.\n",
    "\n",
    "$$ \\bar x = \\frac{1}{5}(23.43+37.43+34.91+28.37+30.62)=\\frac{154.76}{5}=30.95 $$\n",
    "\n",
    "**Step 4.** Develop a general solution (code)\n",
    "\n",
    "The by-hand exercise helps identify the required steps in an “algorithm” or recipe to compute mean values. First we essentially capture or read the values then count how many there are (either as we go or as a separate step), then sum the values, then divide the values by the count, and finally report the result.\n",
    "\n",
    "In a flow-chart it would look like:\n",
    "\n",
    "![https://3.137.111.182/engr-1330-webroot/engr-1330-webbook/ctds-psuedocourse/docs/1-Lessons/Lesson00/Lesson1-flowchart.png](https://3.137.111.182/engr-1330-webroot/engr-1330-webbook/ctds-psuedocourse/docs/1-Lessons/Lesson00/Lesson1-flowchart.png)\n",
    "\n",
    "||Flowchart for Artihmetic Mean Algorithm||\n",
    "|---|------------|---|\n",
    "\n",
    "**Step 5.** This step we would code the algorithm expressed in the figure and test it with the by-hand data and other small datasets until we are convinced it works correctly.\n",
    "\n",
    "In a simple JupyterLab script"
   ]
  },
  {
   "cell_type": "code",
   "execution_count": 2,
   "metadata": {},
   "outputs": [
    {
     "name": "stdout",
     "output_type": "stream",
     "text": [
      "arithmetic mean =  30.951999999999998\n"
     ]
    }
   ],
   "source": [
    "# Arithmetic Mean in Very Elementary and Primative Python\n",
    "xlist = [23.43,37.43,34.91,28.37,30.62] # list is a type of data structure\n",
    "howlong = len(xlist) # len is a built-in function that returns how many items in a list\n",
    "accumulator = 0 # a variable to accumulate the sum\n",
    "for i in range(howlong):\n",
    "    accumulator = accumulator + xlist[i]\n",
    "print(\"arithmetic mean = \",(accumulator/howlong))"
   ]
  },
  {
   "cell_type": "markdown",
   "metadata": {},
   "source": [
    "**Step 6.** This step we would refine the code to generalize the algorithm.  In the example we want a way to supply the `xlist` from a file perhaps, and tidy the output by rounding to only two decimal places - rounding is relatively simple:"
   ]
  },
  {
   "cell_type": "code",
   "execution_count": 3,
   "metadata": {},
   "outputs": [
    {
     "name": "stdout",
     "output_type": "stream",
     "text": [
      "arithmetic mean =  30.95\n"
     ]
    }
   ],
   "source": [
    "# Arithmetic Mean in Very Elementary and Primative Python\n",
    "xlist = [23.43,37.43,34.91,28.37,30.62] # list is a type of data structure\n",
    "howlong = len(xlist) # len is a built-in function that returns how many items in a list\n",
    "accumulator = 0 # a variable to accumulate the sum\n",
    "for i in range(howlong):\n",
    "    accumulator = accumulator + xlist[i]\n",
    "print(\"arithmetic mean = \",round((accumulator/howlong),2))"
   ]
  },
  {
   "cell_type": "markdown",
   "metadata": {},
   "source": [
    "Reading from a file, is a bit more complicated.  We need to create a connection to the file, then read the contents into our script, then put the contents into the `xlist`"
   ]
  },
  {
   "cell_type": "code",
   "execution_count": 4,
   "metadata": {},
   "outputs": [
    {
     "name": "stdout",
     "output_type": "stream",
     "text": [
      "arithmetic mean =  30.95\n"
     ]
    }
   ],
   "source": [
    "xlist=[] # list (null) is a type of data structure\n",
    "externalfile = open(\"data.txt\",'r') # create connection to file, set to read (r), file must exist\n",
    "how_many_lines = 0\n",
    "for line in externalfile: # parse each line, append to xlist\n",
    "    xlist.append(line)\n",
    "    how_many_lines += 1\n",
    "externalfile.close() # close the file connection\n",
    "\n",
    "howlong = len(xlist) # len is a built-in function that returns how many items in a list\n",
    "accumulator = 0 # a variable to accumulate the sum\n",
    "for i in range(howlong):\n",
    "    accumulator = accumulator + float(xlist[i])\n",
    "print(\"arithmetic mean = \",round((accumulator/howlong),2))"
   ]
  },
  {
   "cell_type": "markdown",
   "metadata": {},
   "source": [
    "Finally, if we want to reuse the code a lot, it is convienent to make it into a function"
   ]
  },
  {
   "cell_type": "code",
   "execution_count": 5,
   "metadata": {},
   "outputs": [],
   "source": [
    "def average(inputlist):\n",
    "# inputlist should be a list of values\n",
    "    howlong = len(inputlist) # len is a built-in function that returns how many items in a list\n",
    "    accumulator = 0 # a variable to accumulate the sum\n",
    "    for i in range(howlong):\n",
    "        accumulator = accumulator + float(inputlist[i])\n",
    "    result = (accumulator/howlong)\n",
    "    return(result)"
   ]
  },
  {
   "cell_type": "markdown",
   "metadata": {},
   "source": [
    "Put our file reading and compute mean code here"
   ]
  },
  {
   "cell_type": "code",
   "execution_count": 6,
   "metadata": {},
   "outputs": [
    {
     "name": "stdout",
     "output_type": "stream",
     "text": [
      "arithmetic mean =  30.95\n"
     ]
    }
   ],
   "source": [
    "xlist=[] # list (null) is a type of data structure\n",
    "externalfile = open(\"data.txt\",'r') # create connection to file, set to read (r), file must exist\n",
    "how_many_lines = 0\n",
    "for line in externalfile: # parse each line, append to xlist\n",
    "    xlist.append(line)\n",
    "    how_many_lines += 1\n",
    "externalfile.close() # close the file connection\n",
    "print(\"arithmetic mean = \",round(average(xlist),2))"
   ]
  },
  {
   "cell_type": "markdown",
   "metadata": {},
   "source": [
    "So the simple task of computing the mean of a collection of values, is a bit more complex when decomposed that it first appears, but illustrates a five step process (with a refinement step).  Throughout the course this process is always in the background."
   ]
  },
  {
   "cell_type": "markdown",
   "metadata": {},
   "source": [
    "## CCMR Approach\n",
    "\n",
    "A lot of the problems we will encounter from a CT/DS perspective have already been solved, or at least analogs have been solved.  It is perfectly acceptable to use prior work for a new set of conditions as long as proper attribution is made.  We call this process CCMR:\n",
    "\n",
    "1. **Copy:** Find a solution to your problem from some online example:  SourceForge, StackOverflow, GeeksForGeeks, DigitalOcean, etc.\n",
    "2. **Cite:** Cite the original source.  In general a citation will look like one of the references below, but a URL to the source is sufficient at first.\n",
    "3. **Modify:** Modify the original cited work for your specific needs.  Note the changes in the code using comment statements.\n",
    "4. **Run:** Apply the modified code to the problem of interest. \n",
    "\n",
    "In cases where we use CCMR we are not so much programming and developing our own work as scaffolding parts [https://en.wikipedia.org/wiki/Scaffold_(programming)](https://en.wikipedia.org/wiki/Scaffold_(programming)) - a legitimate and valuable engineering activity."
   ]
  },
  {
   "cell_type": "markdown",
   "metadata": {},
   "source": [
    "## Readings\n",
    "\n",
    "Computational and Inferential Thinking Ani Adhikari and John DeNero, Computational and Inferential Thinking, The Foundations of Data Science, Creative Commons Attribution-NonCommercial-NoDerivatives 4.0 International (CC BY-NC-ND) Chapter 1 [ https://www.inferentialthinking.com/chapters/01/what-is-data-science.html](https://www.inferentialthinking.com/chapters/01/what-is-data-science.html)"
   ]
  }
 ],
 "metadata": {
  "kernelspec": {
   "display_name": "Python 3",
   "language": "python",
   "name": "python3"
  },
  "language_info": {
   "codemirror_mode": {
    "name": "ipython",
    "version": 3
   },
   "file_extension": ".py",
   "mimetype": "text/x-python",
   "name": "python",
   "nbconvert_exporter": "python",
   "pygments_lexer": "ipython3",
   "version": "3.8.10"
  }
 },
 "nbformat": 4,
 "nbformat_minor": 4
}
