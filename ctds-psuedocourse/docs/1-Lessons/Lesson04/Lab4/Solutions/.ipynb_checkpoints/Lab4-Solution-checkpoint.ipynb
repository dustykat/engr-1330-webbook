{
 "cells": [
  {
   "cell_type": "code",
   "execution_count": 4,
   "metadata": {},
   "outputs": [
    {
     "name": "stdout",
     "output_type": "stream",
     "text": [
      "atomickitty.aws\n",
      "compthink\n",
      "/opt/conda/envs/python/bin/python\n",
      "3.8.3 (default, Jul  2 2020, 16:21:59) \n",
      "[GCC 7.3.0]\n",
      "sys.version_info(major=3, minor=8, micro=3, releaselevel='final', serial=0)\n"
     ]
    }
   ],
   "source": [
    "# Preamble script block to identify host, user, and kernel\n",
    "import sys\n",
    "! hostname\n",
    "! whoami\n",
    "print(sys.executable)\n",
    "print(sys.version)\n",
    "print(sys.version_info)"
   ]
  },
  {
   "cell_type": "markdown",
   "metadata": {},
   "source": [
    "## Full name: Farhang Forghanparast\n",
    "## R#: 321654987\n",
    "## HEX: 0x132c10cb\n",
    "## Title of the notebook\n",
    "## Date: 9/1/2020"
   ]
  },
  {
   "cell_type": "markdown",
   "metadata": {},
   "source": [
    "# Program flow control (Loops)\n",
    "- Controlled repetition\n",
    "- Structured FOR Loop\n",
    "- Structured WHILE Loop"
   ]
  },
  {
   "cell_type": "markdown",
   "metadata": {},
   "source": [
    "## Count controlled repetition\n",
    "Count-controlled repetition is also called definite repetition because the number of repetitions is known before the loop begins executing. \n",
    "When we do not know in advance the number of times we want to execute a statement, we cannot use count-controlled repetition. \n",
    "In such an instance, we would use sentinel-controlled repetition. \n",
    "\n",
    "A count-controlled repetition will exit after running a certain number of times. \n",
    "The count is kept in a variable called an index or counter. \n",
    "When the index reaches a certain value (the loop bound) the loop will end. \n",
    "\n",
    "Count-controlled repetition requires\n",
    "\n",
    "* control variable (or loop counter)\n",
    "* initial value of the control variable\n",
    "* increment (or decrement) by which the control variable is modified each iteration through the loop\n",
    "* condition that tests for the final value of the control variable \n",
    "\n",
    "We can use both `for` and `while` loops, for count controlled repetition, but the `for` loop in combination with the `range()` function is more common.\n",
    "\n",
    "### Structured `FOR` loop\n",
    "We have seen the for loop already, but we will formally introduce it here. The `for` loop executes a block of code repeatedly until the condition in the `for` statement is no longer true.\n",
    "\n",
    "### Looping through an iterable\n",
    "An iterable is anything that can be looped over - typically a list, string, or tuple. \n",
    "The syntax for looping through an iterable is illustrated by an example.\n",
    "\n",
    "First a generic syntax\n",
    "\n",
    "    for a in iterable:\n",
    "    print(a)\n",
    "    \n",
    "Notice our friends the colon `:` and the indentation.\n",
    "Now a specific example"
   ]
  },
  {
   "cell_type": "code",
   "execution_count": 5,
   "metadata": {
    "collapsed": false,
    "jupyter": {
     "outputs_hidden": false
    }
   },
   "outputs": [
    {
     "name": "stdout",
     "output_type": "stream",
     "text": [
      "dusty\n",
      "aspen\n",
      "merrimee\n"
     ]
    }
   ],
   "source": [
    "# set a list\n",
    "MyPets = [\"dusty\",\"aspen\",\"merrimee\"]\n",
    "# loop thru the list\n",
    "for AllStrings in MyPets:\n",
    "    print(AllStrings)"
   ]
  },
  {
   "cell_type": "markdown",
   "metadata": {},
   "source": [
    "#### The `range()` function to create an iterable\n",
    "\n",
    "The `range(begin,end,increment)` function will create an iterable starting at a value of begin, in steps defined by increment (`begin += increment`), ending at `end`. \n",
    "\n",
    "So a generic syntax becomes\n",
    "\n",
    "    for a in range(begin,end,increment):\n",
    "    print(a)\n",
    "\n",
    "The example that follows is count-controlled repetition (increment skip if greater)"
   ]
  },
  {
   "cell_type": "code",
   "execution_count": 6,
   "metadata": {},
   "outputs": [
    {
     "name": "stdout",
     "output_type": "stream",
     "text": [
      "dusty\n",
      "aspen\n",
      "merrimee\n"
     ]
    }
   ],
   "source": [
    "# set a list\n",
    "MyPets = [\"dusty\",\"aspen\",\"merrimee\"]\n",
    "# loop thru the list\n",
    "for i in range(0,3,1): # Change the 1 to 2 and rerun, what happens?\n",
    "    print(MyPets[i])"
   ]
  },
  {
   "cell_type": "code",
   "execution_count": 7,
   "metadata": {
    "collapsed": false,
    "jupyter": {
     "outputs_hidden": false
    }
   },
   "outputs": [
    {
     "name": "stdout",
     "output_type": "stream",
     "text": [
      "2\n",
      "3\n",
      "4\n",
      "5\n"
     ]
    }
   ],
   "source": [
    "# For loop with range\n",
    "for x in range(2,6,1): # a sequence from 2 to 5 with steps of 1\n",
    "  print(x)"
   ]
  },
  {
   "cell_type": "code",
   "execution_count": 8,
   "metadata": {
    "collapsed": false,
    "jupyter": {
     "outputs_hidden": false
    }
   },
   "outputs": [
    {
     "name": "stdout",
     "output_type": "stream",
     "text": [
      "1\n",
      "3\n",
      "5\n",
      "7\n",
      "9\n",
      "11\n",
      "13\n",
      "15\n",
      "17\n",
      "19\n",
      "21\n",
      "23\n",
      "25\n"
     ]
    }
   ],
   "source": [
    "# Another example of For loop with range\n",
    "for y in range(1,27,2): # a sequence from 1 to 26 with steps of 2\n",
    "  print(y)"
   ]
  },
  {
   "cell_type": "markdown",
   "metadata": {},
   "source": [
    "<hr>"
   ]
  },
  {
   "cell_type": "markdown",
   "metadata": {},
   "source": [
    "### Exercise 1 : My own loop\n",
    "\n",
    "1904 was a leap year. Write a for loop that prints out all the leap years from in the 20th century (1900-1999).  "
   ]
  },
  {
   "cell_type": "code",
   "execution_count": 9,
   "metadata": {
    "collapsed": false,
    "jupyter": {
     "outputs_hidden": false
    }
   },
   "outputs": [
    {
     "name": "stdout",
     "output_type": "stream",
     "text": [
      "1904\n",
      "1908\n",
      "1912\n",
      "1916\n",
      "1920\n",
      "1924\n",
      "1928\n",
      "1932\n",
      "1936\n",
      "1940\n",
      "1944\n",
      "1948\n",
      "1952\n",
      "1956\n",
      "1960\n",
      "1964\n",
      "1968\n",
      "1972\n",
      "1976\n",
      "1980\n",
      "1984\n",
      "1988\n",
      "1992\n",
      "1996\n"
     ]
    }
   ],
   "source": [
    "# Exercise 1\n",
    "for years in range(1904,2000,4): # a sequence from 1904 to 1999 with steps of 4\n",
    "  print(years)\n"
   ]
  },
  {
   "cell_type": "markdown",
   "metadata": {},
   "source": [
    "<hr>"
   ]
  },
  {
   "cell_type": "markdown",
   "metadata": {},
   "source": [
    "## Sentinel-controlled repetition.\n",
    "\n",
    "When loop control is based on the value of what we are processing, sentinel-controlled repetition is used. \n",
    "Sentinel-controlled repetition is also called indefinite repetition because it is not known in advance how many times the loop will be executed. \n",
    "It is a repetition procedure for solving a problem by using a sentinel value (also called a signal value, a dummy value or a flag value) to indicate \"end of process\". \n",
    "The sentinel value itself need not be a part of the processed data.\n",
    "\n",
    "One common example of using sentinel-controlled repetition is when we are processing data from a file and we do not know in advance when we would reach the end of the file. \n",
    "\n",
    "We can use both `for` and `while` loops, for __Sentinel__ controlled repetition, but the `while` loop is more common.\n",
    "\n",
    "### Structured `WHILE` loop\n",
    "The `while` loop repeats a block of instructions inside the loop while a condition remainsvtrue.\n",
    "\n",
    "First a generic syntax\n",
    "\n",
    "    while condition is true:\n",
    "        execute a\n",
    "        execute b\n",
    "    ....\n",
    "\n",
    "Notice our friends the colon `:` and the indentation again."
   ]
  },
  {
   "cell_type": "code",
   "execution_count": 10,
   "metadata": {
    "collapsed": false,
    "jupyter": {
     "outputs_hidden": false
    }
   },
   "outputs": [
    {
     "name": "stdout",
     "output_type": "stream",
     "text": [
      "Counter =  5\n",
      "Counter =  4\n",
      "Counter =  3\n",
      "Counter =  2\n",
      "Counter =  1\n"
     ]
    }
   ],
   "source": [
    "# set a counter\n",
    "counter = 5\n",
    "# while loop\n",
    "while counter > 0:\n",
    "    print(\"Counter = \",counter)\n",
    "    counter = counter -1"
   ]
  },
  {
   "cell_type": "markdown",
   "metadata": {},
   "source": [
    "The while loop structure just depicted is a \"decrement, skip if equal\" in lower level languages. \n",
    "The next structure, also a while loop is an \"increment, skip if greater\" structure."
   ]
  },
  {
   "cell_type": "code",
   "execution_count": 11,
   "metadata": {
    "collapsed": false,
    "jupyter": {
     "outputs_hidden": false
    }
   },
   "outputs": [
    {
     "name": "stdout",
     "output_type": "stream",
     "text": [
      "Counter =  0\n",
      "Counter =  1\n",
      "Counter =  2\n",
      "Counter =  3\n",
      "Counter =  4\n",
      "Counter =  5\n"
     ]
    }
   ],
   "source": [
    "# set a counter\n",
    "counter = 0\n",
    "# while loop\n",
    "while counter <= 5:  # change this line to: while counter <= 5: what happens?\n",
    "    print (\"Counter = \",counter)\n",
    "    counter = counter +1  # change this line to: counter +=1  what happens?"
   ]
  },
  {
   "cell_type": "markdown",
   "metadata": {},
   "source": [
    "## Nested Repetition\n",
    "\n",
    "Nested repetition is when a control structure is placed inside of the body or main part of another control structure."
   ]
  },
  {
   "cell_type": "markdown",
   "metadata": {},
   "source": [
    "#### `break` to exit out of a loop\n",
    "\n",
    "Sometimes you may want to exit the loop when a certain condition different from the counting\n",
    "condition is met. Perhaps you are looping through a list and want to exit when you find the\n",
    "first element in the list that matches some criterion. The break keyword is useful for such\n",
    "an operation.\n",
    "For example run the following program:"
   ]
  },
  {
   "cell_type": "code",
   "execution_count": 12,
   "metadata": {
    "collapsed": false,
    "jupyter": {
     "outputs_hidden": false
    }
   },
   "outputs": [
    {
     "name": "stdout",
     "output_type": "stream",
     "text": [
      "i =  0 j =  2\n",
      "i =  1 j =  4\n",
      "i =  2 j =  6\n"
     ]
    }
   ],
   "source": [
    "#\n",
    "j = 0\n",
    "for i in range(0,5,1):\n",
    "    j += 2\n",
    "    print (\"i = \",i,\"j = \",j)\n",
    "    if j == 6:\n",
    "        break"
   ]
  },
  {
   "cell_type": "markdown",
   "metadata": {},
   "source": [
    "Next change the program slightly to:"
   ]
  },
  {
   "cell_type": "code",
   "execution_count": 13,
   "metadata": {
    "collapsed": false,
    "jupyter": {
     "outputs_hidden": false
    }
   },
   "outputs": [
    {
     "name": "stdout",
     "output_type": "stream",
     "text": [
      "i =  0 j =  2\n",
      "i =  1 j =  4\n",
      "i =  2 j =  6\n",
      "i =  3 j =  8\n",
      "i =  4 j =  10\n"
     ]
    }
   ],
   "source": [
    "j = 0\n",
    "for i in range(0,5,1):\n",
    "    j += 2\n",
    "    print( \"i = \",i,\"j = \",j)\n",
    "    if j == 7:\n",
    "        break"
   ]
  },
  {
   "cell_type": "markdown",
   "metadata": {},
   "source": [
    "In the first case, the for loop only executes 3 times before the condition j == 6 is TRUE and the loop is exited. \n",
    "In the second case, j == 7 never happens so the loop completes all its anticipated traverses.\n",
    "\n",
    "In both cases an `if` statement was used within a for loop. Such \"mixed\" control structures\n",
    "are quite common (and pretty necessary). \n",
    "A `while` loop contained within a `for` loop, with several `if` statements would be very common and such a structure is called __nested control.__\n",
    "There is typically an upper limit to nesting but the limit is pretty large - easily in the\n",
    "hundreds. It depends on the language and the system architecture ; suffice to say it is not\n",
    "a practical limit except possibly for general-domain AI applications.\n",
    "<hr>"
   ]
  },
  {
   "cell_type": "markdown",
   "metadata": {},
   "source": [
    "We can also do mundane activities and leverage loops, arithmetic, and format codes to make useful tables like\n"
   ]
  },
  {
   "cell_type": "code",
   "execution_count": 14,
   "metadata": {
    "collapsed": false,
    "jupyter": {
     "outputs_hidden": false
    }
   },
   "outputs": [
    {
     "name": "stdout",
     "output_type": "stream",
     "text": [
      "     Cosines     \n",
      "   x    |  cos(x) \n",
      "--------|--------\n",
      "0.000   |  1.0000 \n",
      "0.001   |  1.0000 \n",
      "0.002   |  1.0000 \n",
      "0.003   |  1.0000 \n",
      "0.004   |  1.0000 \n",
      "0.005   |  1.0000 \n",
      "0.006   |  1.0000 \n",
      "0.007   |  1.0000 \n",
      "0.008   |  1.0000 \n",
      "0.009   |  1.0000 \n",
      "0.010   |  1.0000 \n",
      "0.011   |  0.9999 \n",
      "0.012   |  0.9999 \n",
      "0.013   |  0.9999 \n",
      "0.014   |  0.9999 \n",
      "0.015   |  0.9999 \n",
      "0.016   |  0.9999 \n",
      "0.017   |  0.9999 \n",
      "0.018   |  0.9998 \n",
      "0.019   |  0.9998 \n",
      "0.020   |  0.9998 \n",
      "0.021   |  0.9998 \n",
      "0.022   |  0.9998 \n",
      "0.023   |  0.9997 \n",
      "0.024   |  0.9997 \n",
      "0.025   |  0.9997 \n",
      "0.026   |  0.9997 \n",
      "0.027   |  0.9996 \n",
      "0.028   |  0.9996 \n",
      "0.029   |  0.9996 \n",
      "0.030   |  0.9996 \n",
      "0.031   |  0.9995 \n",
      "0.032   |  0.9995 \n",
      "0.033   |  0.9995 \n",
      "0.034   |  0.9994 \n",
      "0.035   |  0.9994 \n",
      "0.036   |  0.9994 \n",
      "0.037   |  0.9993 \n",
      "0.038   |  0.9993 \n",
      "0.039   |  0.9992 \n",
      "0.040   |  0.9992 \n",
      "0.041   |  0.9992 \n",
      "0.042   |  0.9991 \n",
      "0.043   |  0.9991 \n",
      "0.044   |  0.9990 \n",
      "0.045   |  0.9990 \n",
      "0.046   |  0.9989 \n",
      "0.047   |  0.9989 \n",
      "0.048   |  0.9988 \n",
      "0.049   |  0.9988 \n",
      "0.050   |  0.9988 \n",
      "0.051   |  0.9987 \n",
      "0.052   |  0.9986 \n",
      "0.053   |  0.9986 \n",
      "0.054   |  0.9985 \n",
      "0.055   |  0.9985 \n",
      "0.056   |  0.9984 \n",
      "0.057   |  0.9984 \n",
      "0.058   |  0.9983 \n",
      "0.059   |  0.9983 \n",
      "0.060   |  0.9982 \n",
      "0.061   |  0.9981 \n",
      "0.062   |  0.9981 \n",
      "0.063   |  0.9980 \n",
      "0.064   |  0.9980 \n",
      "0.065   |  0.9979 \n",
      "0.066   |  0.9978 \n",
      "0.067   |  0.9978 \n",
      "0.068   |  0.9977 \n",
      "0.069   |  0.9976 \n",
      "0.070   |  0.9976 \n",
      "0.071   |  0.9975 \n",
      "0.072   |  0.9974 \n",
      "0.073   |  0.9973 \n",
      "0.074   |  0.9973 \n",
      "0.075   |  0.9972 \n",
      "0.076   |  0.9971 \n",
      "0.077   |  0.9970 \n",
      "0.078   |  0.9970 \n",
      "0.079   |  0.9969 \n",
      "0.080   |  0.9968 \n",
      "0.081   |  0.9967 \n",
      "0.082   |  0.9966 \n",
      "0.083   |  0.9966 \n",
      "0.084   |  0.9965 \n",
      "0.085   |  0.9964 \n",
      "0.086   |  0.9963 \n",
      "0.087   |  0.9962 \n",
      "0.088   |  0.9961 \n",
      "0.089   |  0.9960 \n",
      "0.090   |  0.9960 \n",
      "0.091   |  0.9959 \n",
      "0.092   |  0.9958 \n",
      "0.093   |  0.9957 \n",
      "0.094   |  0.9956 \n",
      "0.095   |  0.9955 \n",
      "0.096   |  0.9954 \n",
      "0.097   |  0.9953 \n",
      "0.098   |  0.9952 \n",
      "0.099   |  0.9951 \n",
      "0.100   |  0.9950 \n",
      "0.101   |  0.9949 \n",
      "0.102   |  0.9948 \n",
      "0.103   |  0.9947 \n",
      "0.104   |  0.9946 \n",
      "0.105   |  0.9945 \n",
      "0.106   |  0.9944 \n",
      "0.107   |  0.9943 \n",
      "0.108   |  0.9942 \n",
      "0.109   |  0.9941 \n",
      "0.110   |  0.9940 \n",
      "0.111   |  0.9938 \n",
      "0.112   |  0.9937 \n",
      "0.113   |  0.9936 \n",
      "0.114   |  0.9935 \n",
      "0.115   |  0.9934 \n",
      "0.116   |  0.9933 \n",
      "0.117   |  0.9932 \n",
      "0.118   |  0.9930 \n",
      "0.119   |  0.9929 \n",
      "0.120   |  0.9928 \n",
      "0.121   |  0.9927 \n",
      "0.122   |  0.9926 \n",
      "0.123   |  0.9924 \n",
      "0.124   |  0.9923 \n",
      "0.125   |  0.9922 \n",
      "0.126   |  0.9921 \n",
      "0.127   |  0.9919 \n",
      "0.128   |  0.9918 \n",
      "0.129   |  0.9917 \n",
      "0.130   |  0.9916 \n",
      "0.131   |  0.9914 \n",
      "0.132   |  0.9913 \n",
      "0.133   |  0.9912 \n",
      "0.134   |  0.9910 \n",
      "0.135   |  0.9909 \n",
      "0.136   |  0.9908 \n",
      "0.137   |  0.9906 \n",
      "0.138   |  0.9905 \n",
      "0.139   |  0.9904 \n",
      "0.140   |  0.9902 \n",
      "0.141   |  0.9901 \n",
      "0.142   |  0.9899 \n",
      "0.143   |  0.9898 \n",
      "0.144   |  0.9896 \n",
      "0.145   |  0.9895 \n",
      "0.146   |  0.9894 \n",
      "0.147   |  0.9892 \n",
      "0.148   |  0.9891 \n",
      "0.149   |  0.9889 \n",
      "0.150   |  0.9888 \n",
      "0.151   |  0.9886 \n",
      "0.152   |  0.9885 \n",
      "0.153   |  0.9883 \n",
      "0.154   |  0.9882 \n",
      "0.155   |  0.9880 \n",
      "0.156   |  0.9879 \n"
     ]
    }
   ],
   "source": [
    "import math # package that contains cosine\n",
    "print(\"     Cosines     \")\n",
    "print(\"   x   \",\"|\",\" cos(x) \")\n",
    "print(\"--------|--------\")\n",
    "for i in range(0,157,1):\n",
    "    x = float(i)*0.001\n",
    "    print(\"%.3f\" % x, \"  |\", \" %.4f \"  % math.cos(x)) # note the format code and the placeholder % and syntax of using package"
   ]
  },
  {
   "cell_type": "markdown",
   "metadata": {},
   "source": [
    "\n",
    "### Exercise 2.\n",
    "\n",
    "Write a Python script that takes a real input value (a float) for x and returns the y\n",
    "value according to the rules below\n",
    "\n",
    "\\begin{gather}\n",
    "y = x~for~0 <= x < 1 \\\\\n",
    "y = x^2~for~1 <= x < 2 \\\\\n",
    "y = x + 2~for~2 <= x < 1 \\\\\n",
    "\\end{gather}\n",
    "\n",
    "Test the script with x values of 0.0, 1.0, 1.1, and 2.1"
   ]
  },
  {
   "cell_type": "code",
   "execution_count": 15,
   "metadata": {
    "cocalc": {
     "outputs": {
      "0": {
       "name": "input",
       "opts": {
        "password": false,
        "prompt": "Enter enter a float"
       },
       "output_type": "stream",
       "value": "1.7"
      }
     }
    },
    "collapsed": false,
    "jupyter": {
     "outputs_hidden": false
    }
   },
   "outputs": [
    {
     "name": "stdin",
     "output_type": "stream",
     "text": [
      "Enter enter a float 4\n"
     ]
    },
    {
     "name": "stdout",
     "output_type": "stream",
     "text": [
      "x: 4.0\n",
      "y is equal to 6.0\n"
     ]
    }
   ],
   "source": [
    "# Exercise 2\n",
    "userInput = input('Enter enter a float') #ask for user's input\n",
    "x = float(userInput)\n",
    "print(\"x:\", x)\n",
    "\n",
    "if x >= 0 and x < 1:\n",
    "    y = x\n",
    "    print(\"y is equal to\",y)\n",
    "elif x >= 1 and x < 2:\n",
    "    y = x*x\n",
    "    print(\"y is equal to\",y)\n",
    "else:\n",
    "    y = x+2\n",
    "    print(\"y is equal to\",y)"
   ]
  },
  {
   "cell_type": "markdown",
   "metadata": {},
   "source": [
    "<hr>"
   ]
  },
  {
   "cell_type": "markdown",
   "metadata": {},
   "source": [
    "### Exercise 3.\n",
    "using your script above, add functionality to **automaticaly** populate the table below:\n",
    "\n",
    "|x|y(x)|\n",
    "|---:|---:|\n",
    "|0.0|  |\n",
    "|1.0|  |\n",
    "|2.0|  |\n",
    "|3.0|  |\n",
    "|4.0|  |\n",
    "|5.0|  |"
   ]
  },
  {
   "cell_type": "code",
   "execution_count": 16,
   "metadata": {
    "collapsed": false,
    "jupyter": {
     "outputs_hidden": false
    }
   },
   "outputs": [
    {
     "name": "stdout",
     "output_type": "stream",
     "text": [
      "for x equal to 0 , y is equal to 0\n",
      "for x equal to 1 , y is equal to 1\n",
      "for x equal to 2 , y is equal to 4\n",
      "for x equal to 3 , y is equal to 5\n",
      "for x equal to 4 , y is equal to 6\n",
      "for x equal to 5 , y is equal to 7\n",
      "+---+---+\n",
      "| x | y |\n",
      "+---+---+\n",
      "| 0 | 0 |\n",
      "| 1 | 1 |\n",
      "| 2 | 4 |\n",
      "| 3 | 5 |\n",
      "| 4 | 6 |\n",
      "| 5 | 7 |\n",
      "+---+---+\n"
     ]
    }
   ],
   "source": [
    "# Exercise 3  -- get this far in lab, next two can be homework | with prettytable\n",
    "\n",
    "from prettytable import PrettyTable #Required to create tables\n",
    "\n",
    "t = PrettyTable(['x', 'y']) #Define an empty table\n",
    "\n",
    "\n",
    "for x in range(0,6,1):\n",
    "    if x >= 0 and x < 1:\n",
    "        y = x\n",
    "        print(\"for x equal to\", x, \", y is equal to\",y)\n",
    "        t.add_row([x, y]) #will add a row to the table \"t\"\n",
    "    elif x >= 1 and x < 2:\n",
    "        y = x*x\n",
    "        print(\"for x equal to\", x, \", y is equal to\",y)\n",
    "        t.add_row([x, y])\n",
    "    else:\n",
    "        y = x+2\n",
    "        print(\"for x equal to\", x, \", y is equal to\",y)\n",
    "        t.add_row([x, y])\n",
    "\n",
    "print(t)"
   ]
  },
  {
   "cell_type": "code",
   "execution_count": 17,
   "metadata": {
    "collapsed": false,
    "jupyter": {
     "outputs_hidden": false
    }
   },
   "outputs": [
    {
     "name": "stdout",
     "output_type": "stream",
     "text": [
      "---x--- | ---y---\n",
      "--------|--------\n",
      "   0    |     0 \n",
      "   1    |     1 \n",
      "   2    |     4 \n",
      "   3    |     5 \n",
      "   4    |     6 \n",
      "   5    |     7 \n"
     ]
    }
   ],
   "source": [
    "# Exercise 3  -- get this far in lab, next two can be homework | without pretty table\n",
    "\n",
    "print(\"---x---\",\"|\",\"---y---\")\n",
    "print(\"--------|--------\")\n",
    "for x in range(0,6,1):\n",
    "    if x >= 0 and x < 1:\n",
    "        y = x\n",
    "        print(\"%4i\" % x, \"   |\", \" %4i \" % y)\n",
    "    elif x >= 1 and x < 2:\n",
    "        y = x*x\n",
    "        print(\"%4i\" % x, \"   |\", \" %4i \" % y)\n",
    "    else:\n",
    "        y = x+2\n",
    "        print(\"%4i\" % x, \"   |\", \" %4i \" % y)"
   ]
  },
  {
   "cell_type": "markdown",
   "metadata": {},
   "source": [
    "<hr>"
   ]
  },
  {
   "cell_type": "markdown",
   "metadata": {},
   "source": [
    "### Exercise 4.\n",
    "Modify the script above to increment the values by 0.5. and automatically populate the table:\n",
    "\n",
    "|x|y(x)|\n",
    "|---:|---:|\n",
    "|0.0|  |\n",
    "|0.5|  |\n",
    "|1.0|  |\n",
    "|1.5|  |\n",
    "|2.0|  |\n",
    "|2.5|  |\n",
    "|3.0|  |\n",
    "|3.5|  |\n",
    "|4.0|  |\n",
    "|4.5|  |\n",
    "|5.0|  |\n"
   ]
  },
  {
   "cell_type": "code",
   "execution_count": 18,
   "metadata": {
    "collapsed": false,
    "jupyter": {
     "outputs_hidden": false
    },
    "scrolled": true
   },
   "outputs": [
    {
     "name": "stdout",
     "output_type": "stream",
     "text": [
      "for x equal to 0.5 , y is equal to 0.5\n",
      "for x equal to 1.0 , y is equal to 1.0\n",
      "for x equal to 1.5 , y is equal to 2.25\n",
      "for x equal to 2.0 , y is equal to 4.0\n",
      "for x equal to 2.5 , y is equal to 4.5\n",
      "for x equal to 3.0 , y is equal to 5.0\n",
      "for x equal to 3.5 , y is equal to 5.5\n",
      "for x equal to 4.0 , y is equal to 6.0\n",
      "for x equal to 4.5 , y is equal to 6.5\n",
      "for x equal to 5.0 , y is equal to 7.0\n",
      "+-----+------+\n",
      "|  x  |  y   |\n",
      "+-----+------+\n",
      "| 0.5 | 0.5  |\n",
      "| 1.0 | 1.0  |\n",
      "| 1.5 | 2.25 |\n",
      "| 2.0 | 4.0  |\n",
      "| 2.5 | 4.5  |\n",
      "| 3.0 | 5.0  |\n",
      "| 3.5 | 5.5  |\n",
      "| 4.0 | 6.0  |\n",
      "| 4.5 | 6.5  |\n",
      "| 5.0 | 7.0  |\n",
      "+-----+------+\n"
     ]
    }
   ],
   "source": [
    "# Exercise 4 \n",
    "from prettytable import PrettyTable\n",
    "\n",
    "t = PrettyTable(['x', 'y'])\n",
    "\n",
    "x=0\n",
    "for i in range(0,11,1):\n",
    "    x += 0.5\n",
    "    if x >= 0 and x < 1:\n",
    "        y = x\n",
    "        print(\"for x equal to\", x, \", y is equal to\",y)\n",
    "        t.add_row([x, y])\n",
    "    elif x >= 1 and x < 2:\n",
    "        y = x*x\n",
    "        print(\"for x equal to\", x, \", y is equal to\",y)\n",
    "        t.add_row([x, y])\n",
    "    elif x > 5:\n",
    "        break\n",
    "    else:\n",
    "        y = x+2\n",
    "        print(\"for x equal to\", x, \", y is equal to\",y)\n",
    "        t.add_row([x, y])\n",
    "print(t)"
   ]
  },
  {
   "cell_type": "markdown",
   "metadata": {},
   "source": [
    "<hr>"
   ]
  },
  {
   "cell_type": "markdown",
   "metadata": {},
   "source": [
    "#### The `continue` statement\n",
    "The continue instruction skips the block of code after it is executed for that iteration. \n",
    "It is\n",
    "best illustrated by an example."
   ]
  },
  {
   "cell_type": "code",
   "execution_count": 19,
   "metadata": {
    "collapsed": false,
    "jupyter": {
     "outputs_hidden": false
    }
   },
   "outputs": [
    {
     "name": "stdout",
     "output_type": "stream",
     "text": [
      "\n",
      " i =  0 , j =  2\n",
      " this message will be skipped over if j = 6 \n",
      "\n",
      " i =  1 , j =  4\n",
      " this message will be skipped over if j = 6 \n",
      "\n",
      " i =  2 , j =  6\n",
      "\n",
      " i =  3 , j =  8\n",
      " this message will be skipped over if j = 6 \n",
      "\n",
      " i =  4 , j =  10\n",
      " this message will be skipped over if j = 6 \n"
     ]
    }
   ],
   "source": [
    "j = 0\n",
    "for i in range(0,5,1):\n",
    "    j += 2\n",
    "    print (\"\\n i = \", i , \", j = \", j) #here the \\n is a newline command\n",
    "    if j == 6:\n",
    "        continue\n",
    "    print(\" this message will be skipped over if j = 6 \") # still within the loop, so the skip is implemented"
   ]
  },
  {
   "cell_type": "markdown",
   "metadata": {},
   "source": [
    "When j ==6 the line after the continue keyword is not printed. \n",
    "Other than that one\n",
    "difference the rest of the script runs normally."
   ]
  },
  {
   "cell_type": "markdown",
   "metadata": {},
   "source": [
    "#### The `try`, `except` structure\n",
    "\n",
    "An important control structure (and a pretty cool one for error trapping) is the `try`, `except`\n",
    "statement.\n",
    "\n",
    "The statement controls how the program proceeds when an error occurs in an instruction.\n",
    "The structure is really useful to trap likely errors (divide by zero, wrong kind of input) \n",
    "yet let the program keep running or at least issue a meaningful message to the user.\n",
    "\n",
    "The syntax is:\n",
    "\n",
    "    try:\n",
    "    do something\n",
    "    except:\n",
    "    do something else if ``do something'' returns an error\n",
    "\n",
    "Here is a really simple, but hugely important example:"
   ]
  },
  {
   "cell_type": "code",
   "execution_count": 20,
   "metadata": {
    "collapsed": false,
    "jupyter": {
     "outputs_hidden": false
    }
   },
   "outputs": [
    {
     "name": "stdout",
     "output_type": "stream",
     "text": [
      "x =  12.0 y =  12.0 x/y =  1.0\n",
      "x =  12.0 y =  11.0 x/y =  1.0909090909090908\n",
      "x =  12.0 y =  10.0 x/y =  1.2\n",
      "x =  12.0 y =  9.0 x/y =  1.3333333333333333\n",
      "x =  12.0 y =  8.0 x/y =  1.5\n",
      "x =  12.0 y =  7.0 x/y =  1.7142857142857142\n",
      "x =  12.0 y =  6.0 x/y =  2.0\n",
      "x =  12.0 y =  5.0 x/y =  2.4\n",
      "x =  12.0 y =  4.0 x/y =  3.0\n",
      "x =  12.0 y =  3.0 x/y =  4.0\n",
      "x =  12.0 y =  2.0 x/y =  6.0\n",
      "x =  12.0 y =  1.0 x/y =  12.0\n",
      "error divide by zero\n",
      "x =  12.0 y =  -1.0 x/y =  -12.0\n",
      "x =  12.0 y =  -2.0 x/y =  -6.0\n",
      "x =  12.0 y =  -3.0 x/y =  -4.0\n",
      "x =  12.0 y =  -4.0 x/y =  -3.0\n",
      "x =  12.0 y =  -5.0 x/y =  -2.4\n",
      "x =  12.0 y =  -6.0 x/y =  -2.0\n",
      "x =  12.0 y =  -7.0 x/y =  -1.7142857142857142\n",
      "x =  12.0 y =  -8.0 x/y =  -1.5\n",
      "x =  12.0 y =  -9.0 x/y =  -1.3333333333333333\n",
      "x =  12.0 y =  -10.0 x/y =  -1.2\n",
      "x =  12.0 y =  -11.0 x/y =  -1.0909090909090908\n",
      "x =  12.0 y =  -12.0 x/y =  -1.0\n"
     ]
    }
   ],
   "source": [
    "#MyErrorTrap.py\n",
    "x = 12.\n",
    "y = 12.\n",
    "while y >= -12.: # sentinel controlled repetition\n",
    "    try:         \n",
    "        print (\"x = \", x, \"y = \", y, \"x/y = \", x/y)\n",
    "    except:\n",
    "        print (\"error divide by zero\")\n",
    "    y -= 1"
   ]
  },
  {
   "cell_type": "markdown",
   "metadata": {},
   "source": [
    "So this silly code starts with x fixed at a value of 12, and y starting at 12 and decreasing by\n",
    "1 until y equals -1. The code returns the ratio of x to y and at one point y is equal to zero\n",
    "and the division would be undefined. By trapping the error the code can issue us a measure\n",
    "and keep running.\n",
    "\n",
    "Modify the script as shown below,Run, and see what happens"
   ]
  },
  {
   "cell_type": "code",
   "execution_count": 21,
   "metadata": {
    "collapsed": false,
    "jupyter": {
     "outputs_hidden": false
    }
   },
   "outputs": [
    {
     "name": "stdout",
     "output_type": "stream",
     "text": [
      "x =  12.0 y =  12.0 x/y =  1.0\n",
      "x =  12.0 y =  11.0 x/y =  1.0909090909090908\n",
      "x =  12.0 y =  10.0 x/y =  1.2\n",
      "x =  12.0 y =  9.0 x/y =  1.3333333333333333\n",
      "x =  12.0 y =  8.0 x/y =  1.5\n",
      "x =  12.0 y =  7.0 x/y =  1.7142857142857142\n",
      "x =  12.0 y =  6.0 x/y =  2.0\n",
      "x =  12.0 y =  5.0 x/y =  2.4\n",
      "x =  12.0 y =  4.0 x/y =  3.0\n",
      "x =  12.0 y =  3.0 x/y =  4.0\n",
      "x =  12.0 y =  2.0 x/y =  6.0\n",
      "x =  12.0 y =  1.0 x/y =  12.0\n"
     ]
    },
    {
     "ename": "ZeroDivisionError",
     "evalue": "float division by zero",
     "output_type": "error",
     "traceback": [
      "\u001b[0;31m---------------------------------------------------------------------------\u001b[0m",
      "\u001b[0;31mZeroDivisionError\u001b[0m                         Traceback (most recent call last)",
      "\u001b[0;32m<ipython-input-21-82eeaceb9a12>\u001b[0m in \u001b[0;36m<module>\u001b[0;34m\u001b[0m\n\u001b[1;32m      3\u001b[0m \u001b[0my\u001b[0m \u001b[0;34m=\u001b[0m \u001b[0;36m12.\u001b[0m\u001b[0;34m\u001b[0m\u001b[0;34m\u001b[0m\u001b[0m\n\u001b[1;32m      4\u001b[0m \u001b[0;32mwhile\u001b[0m \u001b[0my\u001b[0m \u001b[0;34m>=\u001b[0m \u001b[0;34m-\u001b[0m\u001b[0;36m12.\u001b[0m\u001b[0;34m:\u001b[0m \u001b[0;31m# sentinel controlled repetition\u001b[0m\u001b[0;34m\u001b[0m\u001b[0;34m\u001b[0m\u001b[0m\n\u001b[0;32m----> 5\u001b[0;31m     \u001b[0mprint\u001b[0m \u001b[0;34m(\u001b[0m\u001b[0;34m\"x = \"\u001b[0m\u001b[0;34m,\u001b[0m \u001b[0mx\u001b[0m\u001b[0;34m,\u001b[0m \u001b[0;34m\"y = \"\u001b[0m\u001b[0;34m,\u001b[0m \u001b[0my\u001b[0m\u001b[0;34m,\u001b[0m \u001b[0;34m\"x/y = \"\u001b[0m\u001b[0;34m,\u001b[0m \u001b[0mx\u001b[0m\u001b[0;34m/\u001b[0m\u001b[0my\u001b[0m\u001b[0;34m)\u001b[0m\u001b[0;34m\u001b[0m\u001b[0;34m\u001b[0m\u001b[0m\n\u001b[0m\u001b[1;32m      6\u001b[0m     \u001b[0my\u001b[0m \u001b[0;34m-=\u001b[0m \u001b[0;36m1\u001b[0m\u001b[0;34m\u001b[0m\u001b[0;34m\u001b[0m\u001b[0m\n",
      "\u001b[0;31mZeroDivisionError\u001b[0m: float division by zero"
     ]
    }
   ],
   "source": [
    "#NoErrorTrap.py\n",
    "x = 12.\n",
    "y = 12.\n",
    "while y >= -12.: # sentinel controlled repetition\n",
    "    print (\"x = \", x, \"y = \", y, \"x/y = \", x/y)\n",
    "    y -= 1"
   ]
  },
  {
   "cell_type": "markdown",
   "metadata": {},
   "source": [
    "### Exercise 5.\n",
    "\n",
    "Modify your Exercise 3 script to prompt the user for three inputs, a starting value for $x$ an increment to change $x$ by and how many steps to take.  Your script should produce a table like\n",
    "\n",
    "|x|y(x)|\n",
    "|---:|---:|\n",
    "|0.0|  |\n",
    "|1.0|  |\n",
    "|2.0|  |\n",
    "|3.0|  |\n",
    "|4.0|  |\n",
    "|5.0|  |\n",
    "\n",
    "but the increment can be different from 1.0 as above.\n",
    "\n",
    "Include error trapping that:\n",
    "\n",
    "1. Takes any numeric input for $x$ or its increment, and forces into a float.\n",
    "2. Takes any numeric input for number of steps. and forces into an integer.\n",
    "3. Takes any non-numeric input, issues a message that the input needs to be numeric, and makes the user try again.\n",
    "\n",
    "Once you have acceptable input, trap the condition if x < 0 and issue a message, otherwise complete the requisite arithmetic and build the table.\n",
    "\n",
    "Test your script with the following inputs for x, x_increment, num_steps\n",
    "\n",
    "    Case 1) fred , 0.5, 7\n",
    "    \n",
    "    Case 2) 0.0, 0.5, 7\n",
    "      \n",
    "    Case 3) -3.0, 0.5, 14"
   ]
  },
  {
   "cell_type": "code",
   "execution_count": 22,
   "metadata": {
    "cocalc": {
     "outputs": {
      "0": {
       "name": "input",
       "opts": {
        "password": false,
        "prompt": "Enter the starting value for x"
       },
       "output_type": "stream",
       "value": "0"
      },
      "1": {
       "name": "input",
       "opts": {
        "password": false,
        "prompt": "Enter the increment for x"
       },
       "output_type": "stream",
       "value": "0.5"
      },
      "2": {
       "name": "input",
       "opts": {
        "password": false,
        "prompt": "Enter how many steps for x"
       },
       "output_type": "stream",
       "value": "7"
      }
     }
    },
    "collapsed": false,
    "jupyter": {
     "outputs_hidden": false
    }
   },
   "outputs": [
    {
     "name": "stdin",
     "output_type": "stream",
     "text": [
      "Enter the starting value for x 3\n",
      "Enter the increment for x 2\n",
      "Enter how many steps for x 9\n"
     ]
    },
    {
     "name": "stdout",
     "output_type": "stream",
     "text": [
      "the range for x goes from 3.0  to 18.0  by increments of 2.0\n",
      "for x equal to 3.0 , y is equal to 5.0\n",
      "for x equal to 5.0 , y is equal to 7.0\n",
      "for x equal to 7.0 , y is equal to 9.0\n",
      "for x equal to 9.0 , y is equal to 11.0\n",
      "for x equal to 11.0 , y is equal to 13.0\n",
      "for x equal to 13.0 , y is equal to 15.0\n",
      "for x equal to 15.0 , y is equal to 17.0\n",
      "for x equal to 17.0 , y is equal to 19.0\n",
      "for x equal to 19.0 , y is equal to 21.0\n",
      "+------+------+\n",
      "|  x   |  y   |\n",
      "+------+------+\n",
      "| 3.0  | 5.0  |\n",
      "| 5.0  | 7.0  |\n",
      "| 7.0  | 9.0  |\n",
      "| 9.0  | 11.0 |\n",
      "| 11.0 | 13.0 |\n",
      "| 13.0 | 15.0 |\n",
      "| 15.0 | 17.0 |\n",
      "| 17.0 | 19.0 |\n",
      "| 19.0 | 21.0 |\n",
      "+------+------+\n"
     ]
    }
   ],
   "source": [
    "# Exercise 5  -- \n",
    "from prettytable import PrettyTable\n",
    "\n",
    "try:\n",
    "    userInput = input('Enter the starting value for x') #ask for user's input on the initial value\n",
    "    start = float(userInput)\n",
    "    userInput2 = input('Enter the increment for x') #ask for user's input on the increment\n",
    "    step = float(userInput2)\n",
    "    userInput3 = float(input('Enter how many steps for x')) #ask for user's input on the number of steps)\n",
    "    ns = int(userInput3)\n",
    "\n",
    "    stop = step*ns #compute the endpoint of the range by multiplying number of steps and their size\n",
    "    print(\"the range for x goes from\", start, \" to\", stop, \" by increments of\", step)\n",
    "    t = PrettyTable(['x', 'y'])\n",
    "    x=start - step\n",
    "    for i in range(0,ns,1):\n",
    "        x += step \n",
    "        if x >= 0 and x < 1:\n",
    "            y = x\n",
    "            print(\"for x equal to\", x, \", y is equal to\",y)\n",
    "            t.add_row([x, y])\n",
    "        elif x >= 1 and x < 2:\n",
    "            y = x*x\n",
    "            print(\"for x equal to\", x, \", y is equal to\",y)\n",
    "            t.add_row([x, y])\n",
    "        else:\n",
    "            y = x+2\n",
    "            print(\"for x equal to\", x, \", y is equal to\",y)\n",
    "            t.add_row([x, y])\n",
    "    print(t)\n",
    "except:\n",
    "    print (\"the input needs to be numeric. Please try again!\")\n"
   ]
  },
  {
   "cell_type": "code",
   "execution_count": null,
   "metadata": {},
   "outputs": [],
   "source": []
  }
 ],
 "metadata": {
  "kernelspec": {
   "display_name": "Python 38",
   "language": "python",
   "name": "python38"
  },
  "language_info": {
   "codemirror_mode": {
    "name": "ipython",
    "version": 3
   },
   "file_extension": ".py",
   "mimetype": "text/x-python",
   "name": "python",
   "nbconvert_exporter": "python",
   "pygments_lexer": "ipython3",
   "version": "3.8.3"
  }
 },
 "nbformat": 4,
 "nbformat_minor": 4
}
