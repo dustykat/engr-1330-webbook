{
 "cells": [
  {
   "cell_type": "code",
   "execution_count": 1,
   "metadata": {},
   "outputs": [
    {
     "data": {
      "text/html": [
       "<style>\n",
       "  table {margin-left: 0 !important;}\n",
       "</style>\n"
      ],
      "text/plain": [
       "<IPython.core.display.HTML object>"
      ]
     },
     "metadata": {},
     "output_type": "display_data"
    }
   ],
   "source": [
    "%%html\n",
    "<style>\n",
    "  table {margin-left: 0 !important;}\n",
    "</style>"
   ]
  },
  {
   "cell_type": "markdown",
   "metadata": {},
   "source": [
    "## Course Schedule \n",
    "\n",
    "| Item | Lesson | Lab |\n",
    "|:-----|:---|:---|\n",
    "||<strong>Computational Thinking, Data Science, and Programming Foundations</strong>||\n",
    "|21Jan2021|Lesson 0 Introduction: <br> - Computational thinking concepts <br> - Python as a programming environment <br> - Data science and practices <br> - CCMR Approach| Computing Environment set up: <br> - Installing Anaconda (Win/MacOS/AWS) <br> – Jupyter notebooks <br> - Simple Examples |\n",
    "|26Jan2021|Lesson 1 Computational Thinking: <br> - Five Step Problem Solving Process <br> - Data types (int, str, float) <br> - Variables, operators, expressions, basic I/O <br> - String functions and operations|Introduction to Python<br> - Data types (e.g. int, float, string, bool)<br> - Arithmetic Operations <br> - Intrinsic Functions (math package) |\n",
    "|28Jan2021|Lesson 2 Data Science and Control Structures: <br> - Data structures: Array, list, tuple, set, dictionary<br> - Conditional statements |Introduction to Python<br> - Data structures<br> - Conditional statements|\n",
    "|2Feb2021|Lesson 3 Repetition Control Structures:<br> - Loops <br> - Flowcharts |Introduction to Python<br> - Loops|\n",
    "|4Feb2021|Lesson 4 External Procedures :<br> - Functions <br> - Variable scope|Introduction to Python<br> - Functions<br> - Variable scope|\n",
    "|9Feb2021|Lesson 5 Class Structures:<br> - Class and objects <br> - File handling|Introduction to Python<br> - Class and objects<br> - File handling|"
   ]
  },
  {
   "cell_type": "markdown",
   "metadata": {},
   "source": [
    "| Item | Lesson | Lab |\n",
    "|:-----|:---|:---|\n",
    "||<strong> External Modules for Arrays, Dataframes, and Plotting </strong>||\n",
    "|11Feb2021|Lesson 6 Data Representation and Operations:<br> - Python library: <strong>NumPy</strong><br> - Data representation: Arrays, vectors, matrices <br> - Data operations: Indexing, math functions |Exercises on NumPy|\n",
    "|16Feb2021|Lesson 7 Data Query and Manipulation: <br> Python Library: <strong>Pandas</strong> <br> - Data frames: <br> - Create, index, summarize statistics <br> - fill and drop values <br> - read/write to file|Exercises on Pandas|\n",
    "|18Feb2021|Lesson 8 Data Display:<br> Python Libraries: <strong>Matplotlib</strong><br> - Graphing Conventions <br> - Data Display for line charts, bar charts,<br> box plot, scatter plot, and histograms|Exercises on data display|\n",
    "||<strong> Engineering Computation </strong>||\n",
    "|18Feb2021|Lesson 9 Data Science - Linear interpolation :<br> - In core Python: <br> - Using Pandas and Numpy:|Exercises |\n",
    "|18Feb2021|Lesson 10 Vectors and Matrix Representation :<br> - In core Python: <br> - Using Pandas and Numpy:|Exercises |\n",
    "|18Feb2021|Lesson 11 Simultaneous Systems of Linear Equations :<br> - In core Python: <br> - Using Pandas and Numpy:|Exercises |\n",
    "|18Feb2021|Lesson 12 Simultaneous Systems of Non-Linear Equations :<br> - In core Python: <br> - Using Pandas and Numpy:|Exercises |\n",
    "|4Mar2021|<strong>Exam-1 </strong>(Lessons 0-11)|none|"
   ]
  },
  {
   "cell_type": "markdown",
   "metadata": {},
   "source": [
    "| Item | Lesson | Lab |\n",
    "|:-----|:---|:---|\n",
    "||<strong> Data Modeling and Decision Making: Statistical Approach </strong>||\n",
    "|23Feb2021|Lesson 13 Data Modeling: <br> -  Establishing causality <br> -  Randomness <br> - Models as Preciction Machines | Exercises on causality and simulation |\n",
    "|25Feb2021|Lesson 14 Randomness and Probabilities: <br> - Sampling <br> - Empirical distributions|Exercises on probabilities|\n",
    "|2Mar2021|Lesson 15 Descriptive Statistics <br> - Location/Center (mean, median,mode) <br> - Dispersion/Spread (variance, standard deviation) <br> - Asymmetry/Skew (Coefficient of Skewness)|Descriptive Statistics|\n",
    "|9Mar2021|Lesson 16 Distributions: <br> - Normal, LogNormal <br> - Gamma, Weibull <br> - Extreme Value (Gumbell)|Exercises on sampling|\n",
    "|11Mar2021|Lesson 17 Probability Estimation Modeling <br> - Ranking, order, plotting position <br> - Distribution Fitting ; Method Of Moments; Maximum Likelihood Estimation |Exercises |\n",
    "|16Mar2021|Lesson 18 Hypothesis testing: <br> - General concept <br> - Assessing data models. |Exercises on hypothesis testing|\n",
    "|18Mar2021|Lesson 19 Hypothesis testing: <br> -Comparing proportions <br> - Type1 & Type2 errors <br> - Attained significance (p-value)|Exercises on hypothesis testing|\n",
    "|23Mar2021|Lesson 20 Comparing two samples: A/B Testing|Exercises on A/B testing|\n",
    "|25Mar2021|Lesson 21. Interval Estimates <br> - Confidence interval concept <br> - Bootstrap simulation  | Exercises|\n",
    "|30Mar2021| <strong>Exam-2 </strong> (Lessons 13-21) |none|\n",
    "||<strong> Data Modeling and Decision Making Regression (Model Fitting) Approaches</strong>||\n",
    "|1Apr2021|Lesson 22. Data Modeling: Regression Approach <br>- Linear algebra of equation fitting|Exercises|\n",
    "|6Apr2021|Lesson 23. Estimation Modeling by Regression: <br> - Ordinary least squares (OLS) regression <br>- Weighted least squares <br>- Explanitory variables (features) <br>- Response variable(s)|exre|\n",
    "|8Apr2021|Lesson 24. Estimation Modeling by Regression: <br>- Residuals <br>- Performance metrics: Accuracy, error <br>- Inference|exercises|\n",
    "|13Apr2021|Lesson 25. Estimation Modeling by Regression: <br> - Logistic Regression (a type of classification)|Exercises on sample means|\n",
    "||<strong> Data Modeling and Decision Making : Machine Learning Approach</strong>||\n",
    "|15Apr2021|Lesson 26. Data Modeling : The Machine Learning Approach:<br> - Correlation <br> - Training (a model fitting analog) <br> - Confusion matrix, precision, recall, accuracy, F-score.<br> - Making decisions |Final projects selection <br> - Project choices <br> - Delivery schedule |\n",
    "|20Apr2021|Lesson 27 Evaluation and Making Decisions: <br> - Confusion matrix, precision, recall, accuracy, F-score.<br> - Making decisions|KNN with evaluation|\n",
    "|22Apr2021|Lesson 28 Classification: <br> - K Nearest Neighbor (KNN) |More KNN Demonstration/Examples|\n",
    "|27Apr2021|<strong> Exam-3 </strong>(Lessons 17-24) |none |\n",
    "|29Apr2021|Lesson 29 Classification: <br> - Support Vector Machines (SVM)|SVM Demonstration/Examples|\n",
    "|4May2021|Lesson 30 Classification: <br> - Artifical Neural Networks (ANN) |ANN Demonstration|\n",
    "|11May2021|<strong>Final Project Report and Link to Video</strong>||"
   ]
  },
  {
   "cell_type": "markdown",
   "metadata": {},
   "source": []
  },
  {
   "cell_type": "markdown",
   "metadata": {},
   "source": []
  },
  {
   "cell_type": "code",
   "execution_count": null,
   "metadata": {},
   "outputs": [],
   "source": []
  },
  {
   "cell_type": "code",
   "execution_count": null,
   "metadata": {},
   "outputs": [],
   "source": []
  }
 ],
 "metadata": {
  "kernelspec": {
   "display_name": "Python 3",
   "language": "python",
   "name": "python3"
  },
  "language_info": {
   "codemirror_mode": {
    "name": "ipython",
    "version": 3
   },
   "file_extension": ".py",
   "mimetype": "text/x-python",
   "name": "python",
   "nbconvert_exporter": "python",
   "pygments_lexer": "ipython3",
   "version": "3.8.5"
  }
 },
 "nbformat": 4,
 "nbformat_minor": 4
}
