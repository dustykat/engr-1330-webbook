{
 "cells": [
  {
   "cell_type": "markdown",
   "metadata": {},
   "source": [
    "# Part-2 of the Midterm-3 Exam (Total points: 50)"
   ]
  },
  {
   "cell_type": "markdown",
   "metadata": {},
   "source": [
    "### Please fill in the details below before starting to answer the problems in this notebook. If the details below are not given, your part-2 of the exam will not be evaluated. To give the details, please click on the cells below twice."
   ]
  },
  {
   "cell_type": "markdown",
   "metadata": {},
   "source": [
    "#### Student Name: "
   ]
  },
  {
   "cell_type": "markdown",
   "metadata": {},
   "source": [
    "#### R-number:"
   ]
  },
  {
   "cell_type": "markdown",
   "metadata": {},
   "source": [
    "#### Class Section Number: "
   ]
  },
  {
   "cell_type": "markdown",
   "metadata": {},
   "source": [
    "### Please read the instructions below carefully:\n",
    "\n",
    "1) The total weightage of part-2 of this midterm-3 exam is 50 points.\n",
    "\n",
    "2) There are 3 problems and a bonus problem in this notebook that needs to be completed.  \n",
    "    * Problem-1 is for 15 points and it consists of 9 tasks\n",
    "    * Problem-2 is for 15 points and it consists of 11 tasks\n",
    "    * Problem-3 is for 20 points and it consists of 16 tasks\n",
    "    * Bonus problem is for 15 points\n",
    "    \n",
    "3) Please read and understand the problem description and the tasks carefully, and then start giving your answers in the cells provided.\n",
    "\n",
    "4) All the instructions that are given in each of the tasks must be followed strictly.\n",
    "\n",
    "5) You have to read the academic integrity statement that is at the end of this notebook carefully and acknowledge it by typing out your full name."
   ]
  },
  {
   "cell_type": "markdown",
   "metadata": {},
   "source": [
    "# ALL THE BEST !!!"
   ]
  },
  {
   "cell_type": "code",
   "execution_count": 2,
   "metadata": {},
   "outputs": [],
   "source": [
    "#IMPORT NUMPY, PANDAS, MATPLOTLIB, SEABORN, AND SCIKIT-LEARN LIBRARIES IN THIS CELL\n",
    "\n",
    "import numpy as np\n",
    "import pandas as pd\n",
    "import matplotlib.pyplot as plt\n",
    "import seaborn as sns\n",
    "import sklearn"
   ]
  },
  {
   "cell_type": "markdown",
   "metadata": {},
   "source": [
    "## Problem-1 (Total points: 15)"
   ]
  },
  {
   "cell_type": "markdown",
   "metadata": {},
   "source": [
    "#### Problem Description:\n",
    "\n",
    "A dataset on the water quality of a sample of 53 lakes in Florida is provided. One of the variables that refect the chemistry of water samples is alkalinity which is the concentration of calcium carbonate in mg/L (milligrams/liter). The objective of this problem is to bootstrap and build a 95% confidence interval for mean alkalinity that will serve as an estimate of the mean alkalinity of all the lakes in Florida. Specific task for this problem are as follows:"
   ]
  },
  {
   "cell_type": "markdown",
   "metadata": {},
   "source": [
    "#### Task-1 (1 point):\n",
    "\n",
    "Read the **`FloridaLakes.csv`** file and store it in a variable named **`lakes`**. Display the first 5 rows of the dataframe **`lakes`**."
   ]
  },
  {
   "cell_type": "code",
   "execution_count": 15,
   "metadata": {},
   "outputs": [
    {
     "data": {
      "text/html": [
       "<div>\n",
       "<style scoped>\n",
       "    .dataframe tbody tr th:only-of-type {\n",
       "        vertical-align: middle;\n",
       "    }\n",
       "\n",
       "    .dataframe tbody tr th {\n",
       "        vertical-align: top;\n",
       "    }\n",
       "\n",
       "    .dataframe thead th {\n",
       "        text-align: right;\n",
       "    }\n",
       "</style>\n",
       "<table border=\"1\" class=\"dataframe\">\n",
       "  <thead>\n",
       "    <tr style=\"text-align: right;\">\n",
       "      <th></th>\n",
       "      <th>ID</th>\n",
       "      <th>Lake</th>\n",
       "      <th>Alkalinity</th>\n",
       "      <th>pH</th>\n",
       "      <th>Calcium</th>\n",
       "      <th>Chlorophyll</th>\n",
       "      <th>AvgMercury</th>\n",
       "      <th>NumSamples</th>\n",
       "      <th>MinMercury</th>\n",
       "      <th>MaxMercury</th>\n",
       "      <th>ThreeYrStdMercury</th>\n",
       "      <th>AgeData</th>\n",
       "    </tr>\n",
       "  </thead>\n",
       "  <tbody>\n",
       "    <tr>\n",
       "      <th>0</th>\n",
       "      <td>1</td>\n",
       "      <td>Alligator</td>\n",
       "      <td>5.9</td>\n",
       "      <td>6.1</td>\n",
       "      <td>3.0</td>\n",
       "      <td>0.7</td>\n",
       "      <td>1.23</td>\n",
       "      <td>5</td>\n",
       "      <td>0.85</td>\n",
       "      <td>1.43</td>\n",
       "      <td>1.53</td>\n",
       "      <td>1</td>\n",
       "    </tr>\n",
       "    <tr>\n",
       "      <th>1</th>\n",
       "      <td>2</td>\n",
       "      <td>Annie</td>\n",
       "      <td>3.5</td>\n",
       "      <td>5.1</td>\n",
       "      <td>1.9</td>\n",
       "      <td>3.2</td>\n",
       "      <td>1.33</td>\n",
       "      <td>7</td>\n",
       "      <td>0.92</td>\n",
       "      <td>1.90</td>\n",
       "      <td>1.33</td>\n",
       "      <td>0</td>\n",
       "    </tr>\n",
       "    <tr>\n",
       "      <th>2</th>\n",
       "      <td>3</td>\n",
       "      <td>Apopka</td>\n",
       "      <td>116.0</td>\n",
       "      <td>9.1</td>\n",
       "      <td>44.1</td>\n",
       "      <td>128.3</td>\n",
       "      <td>0.04</td>\n",
       "      <td>6</td>\n",
       "      <td>0.04</td>\n",
       "      <td>0.06</td>\n",
       "      <td>0.04</td>\n",
       "      <td>0</td>\n",
       "    </tr>\n",
       "    <tr>\n",
       "      <th>3</th>\n",
       "      <td>4</td>\n",
       "      <td>Blue Cypress</td>\n",
       "      <td>39.4</td>\n",
       "      <td>6.9</td>\n",
       "      <td>16.4</td>\n",
       "      <td>3.5</td>\n",
       "      <td>0.44</td>\n",
       "      <td>12</td>\n",
       "      <td>0.13</td>\n",
       "      <td>0.84</td>\n",
       "      <td>0.44</td>\n",
       "      <td>0</td>\n",
       "    </tr>\n",
       "    <tr>\n",
       "      <th>4</th>\n",
       "      <td>5</td>\n",
       "      <td>Brick</td>\n",
       "      <td>2.5</td>\n",
       "      <td>4.6</td>\n",
       "      <td>2.9</td>\n",
       "      <td>1.8</td>\n",
       "      <td>1.20</td>\n",
       "      <td>12</td>\n",
       "      <td>0.69</td>\n",
       "      <td>1.50</td>\n",
       "      <td>1.33</td>\n",
       "      <td>1</td>\n",
       "    </tr>\n",
       "  </tbody>\n",
       "</table>\n",
       "</div>"
      ],
      "text/plain": [
       "   ID          Lake  Alkalinity   pH  Calcium  Chlorophyll  AvgMercury  \\\n",
       "0   1     Alligator         5.9  6.1      3.0          0.7        1.23   \n",
       "1   2         Annie         3.5  5.1      1.9          3.2        1.33   \n",
       "2   3        Apopka       116.0  9.1     44.1        128.3        0.04   \n",
       "3   4  Blue Cypress        39.4  6.9     16.4          3.5        0.44   \n",
       "4   5         Brick         2.5  4.6      2.9          1.8        1.20   \n",
       "\n",
       "   NumSamples  MinMercury  MaxMercury  ThreeYrStdMercury  AgeData  \n",
       "0           5        0.85        1.43               1.53        1  \n",
       "1           7        0.92        1.90               1.33        0  \n",
       "2           6        0.04        0.06               0.04        0  \n",
       "3          12        0.13        0.84               0.44        0  \n",
       "4          12        0.69        1.50               1.33        1  "
      ]
     },
     "execution_count": 15,
     "metadata": {},
     "output_type": "execute_result"
    }
   ],
   "source": [
    "#GIVE THE SOLUTION FOR TASK-1 IN THIS CELL:\n",
    "\n",
    "lakes = pd.read_csv('FloridaLakes.csv')\n",
    "lakes.head()"
   ]
  },
  {
   "cell_type": "markdown",
   "metadata": {},
   "source": [
    "#### Task-2 (1.5 points):\n",
    "\n",
    "Get the information (i.e, the number of rows and the data types present in each column) and the basic statistical measures about the dataframe **`lakes`** using the appropriate functions available in the Pandas library. "
   ]
  },
  {
   "cell_type": "code",
   "execution_count": 16,
   "metadata": {},
   "outputs": [
    {
     "name": "stdout",
     "output_type": "stream",
     "text": [
      "<class 'pandas.core.frame.DataFrame'>\n",
      "RangeIndex: 53 entries, 0 to 52\n",
      "Data columns (total 12 columns):\n",
      "ID                   53 non-null int64\n",
      "Lake                 53 non-null object\n",
      "Alkalinity           53 non-null float64\n",
      "pH                   53 non-null float64\n",
      "Calcium              53 non-null float64\n",
      "Chlorophyll          53 non-null float64\n",
      "AvgMercury           53 non-null float64\n",
      "NumSamples           53 non-null int64\n",
      "MinMercury           53 non-null float64\n",
      "MaxMercury           53 non-null float64\n",
      "ThreeYrStdMercury    53 non-null float64\n",
      "AgeData              53 non-null int64\n",
      "dtypes: float64(8), int64(3), object(1)\n",
      "memory usage: 5.0+ KB\n"
     ]
    },
    {
     "data": {
      "text/html": [
       "<div>\n",
       "<style scoped>\n",
       "    .dataframe tbody tr th:only-of-type {\n",
       "        vertical-align: middle;\n",
       "    }\n",
       "\n",
       "    .dataframe tbody tr th {\n",
       "        vertical-align: top;\n",
       "    }\n",
       "\n",
       "    .dataframe thead th {\n",
       "        text-align: right;\n",
       "    }\n",
       "</style>\n",
       "<table border=\"1\" class=\"dataframe\">\n",
       "  <thead>\n",
       "    <tr style=\"text-align: right;\">\n",
       "      <th></th>\n",
       "      <th>ID</th>\n",
       "      <th>Alkalinity</th>\n",
       "      <th>pH</th>\n",
       "      <th>Calcium</th>\n",
       "      <th>Chlorophyll</th>\n",
       "      <th>AvgMercury</th>\n",
       "      <th>NumSamples</th>\n",
       "      <th>MinMercury</th>\n",
       "      <th>MaxMercury</th>\n",
       "      <th>ThreeYrStdMercury</th>\n",
       "      <th>AgeData</th>\n",
       "    </tr>\n",
       "  </thead>\n",
       "  <tbody>\n",
       "    <tr>\n",
       "      <th>count</th>\n",
       "      <td>53.000000</td>\n",
       "      <td>53.000000</td>\n",
       "      <td>53.000000</td>\n",
       "      <td>53.000000</td>\n",
       "      <td>53.000000</td>\n",
       "      <td>53.000000</td>\n",
       "      <td>53.000000</td>\n",
       "      <td>53.000000</td>\n",
       "      <td>53.000000</td>\n",
       "      <td>53.000000</td>\n",
       "      <td>53.000000</td>\n",
       "    </tr>\n",
       "    <tr>\n",
       "      <th>mean</th>\n",
       "      <td>27.000000</td>\n",
       "      <td>37.530189</td>\n",
       "      <td>6.590566</td>\n",
       "      <td>22.201887</td>\n",
       "      <td>23.116981</td>\n",
       "      <td>0.527170</td>\n",
       "      <td>13.056604</td>\n",
       "      <td>0.279811</td>\n",
       "      <td>0.874528</td>\n",
       "      <td>0.513208</td>\n",
       "      <td>0.811321</td>\n",
       "    </tr>\n",
       "    <tr>\n",
       "      <th>std</th>\n",
       "      <td>15.443445</td>\n",
       "      <td>38.203527</td>\n",
       "      <td>1.288449</td>\n",
       "      <td>24.932574</td>\n",
       "      <td>30.816321</td>\n",
       "      <td>0.341036</td>\n",
       "      <td>8.560677</td>\n",
       "      <td>0.226406</td>\n",
       "      <td>0.522047</td>\n",
       "      <td>0.338729</td>\n",
       "      <td>0.394998</td>\n",
       "    </tr>\n",
       "    <tr>\n",
       "      <th>min</th>\n",
       "      <td>1.000000</td>\n",
       "      <td>1.200000</td>\n",
       "      <td>3.600000</td>\n",
       "      <td>1.100000</td>\n",
       "      <td>0.700000</td>\n",
       "      <td>0.040000</td>\n",
       "      <td>4.000000</td>\n",
       "      <td>0.040000</td>\n",
       "      <td>0.060000</td>\n",
       "      <td>0.040000</td>\n",
       "      <td>0.000000</td>\n",
       "    </tr>\n",
       "    <tr>\n",
       "      <th>25%</th>\n",
       "      <td>14.000000</td>\n",
       "      <td>6.600000</td>\n",
       "      <td>5.800000</td>\n",
       "      <td>3.300000</td>\n",
       "      <td>4.600000</td>\n",
       "      <td>0.270000</td>\n",
       "      <td>10.000000</td>\n",
       "      <td>0.090000</td>\n",
       "      <td>0.480000</td>\n",
       "      <td>0.250000</td>\n",
       "      <td>1.000000</td>\n",
       "    </tr>\n",
       "    <tr>\n",
       "      <th>50%</th>\n",
       "      <td>27.000000</td>\n",
       "      <td>19.600000</td>\n",
       "      <td>6.800000</td>\n",
       "      <td>12.600000</td>\n",
       "      <td>12.800000</td>\n",
       "      <td>0.480000</td>\n",
       "      <td>12.000000</td>\n",
       "      <td>0.250000</td>\n",
       "      <td>0.840000</td>\n",
       "      <td>0.450000</td>\n",
       "      <td>1.000000</td>\n",
       "    </tr>\n",
       "    <tr>\n",
       "      <th>75%</th>\n",
       "      <td>40.000000</td>\n",
       "      <td>66.500000</td>\n",
       "      <td>7.400000</td>\n",
       "      <td>35.600000</td>\n",
       "      <td>24.700000</td>\n",
       "      <td>0.770000</td>\n",
       "      <td>12.000000</td>\n",
       "      <td>0.330000</td>\n",
       "      <td>1.330000</td>\n",
       "      <td>0.700000</td>\n",
       "      <td>1.000000</td>\n",
       "    </tr>\n",
       "    <tr>\n",
       "      <th>max</th>\n",
       "      <td>53.000000</td>\n",
       "      <td>128.000000</td>\n",
       "      <td>9.100000</td>\n",
       "      <td>90.700000</td>\n",
       "      <td>152.400000</td>\n",
       "      <td>1.330000</td>\n",
       "      <td>44.000000</td>\n",
       "      <td>0.920000</td>\n",
       "      <td>2.040000</td>\n",
       "      <td>1.530000</td>\n",
       "      <td>1.000000</td>\n",
       "    </tr>\n",
       "  </tbody>\n",
       "</table>\n",
       "</div>"
      ],
      "text/plain": [
       "              ID  Alkalinity         pH    Calcium  Chlorophyll  AvgMercury  \\\n",
       "count  53.000000   53.000000  53.000000  53.000000    53.000000   53.000000   \n",
       "mean   27.000000   37.530189   6.590566  22.201887    23.116981    0.527170   \n",
       "std    15.443445   38.203527   1.288449  24.932574    30.816321    0.341036   \n",
       "min     1.000000    1.200000   3.600000   1.100000     0.700000    0.040000   \n",
       "25%    14.000000    6.600000   5.800000   3.300000     4.600000    0.270000   \n",
       "50%    27.000000   19.600000   6.800000  12.600000    12.800000    0.480000   \n",
       "75%    40.000000   66.500000   7.400000  35.600000    24.700000    0.770000   \n",
       "max    53.000000  128.000000   9.100000  90.700000   152.400000    1.330000   \n",
       "\n",
       "       NumSamples  MinMercury  MaxMercury  ThreeYrStdMercury    AgeData  \n",
       "count   53.000000   53.000000   53.000000          53.000000  53.000000  \n",
       "mean    13.056604    0.279811    0.874528           0.513208   0.811321  \n",
       "std      8.560677    0.226406    0.522047           0.338729   0.394998  \n",
       "min      4.000000    0.040000    0.060000           0.040000   0.000000  \n",
       "25%     10.000000    0.090000    0.480000           0.250000   1.000000  \n",
       "50%     12.000000    0.250000    0.840000           0.450000   1.000000  \n",
       "75%     12.000000    0.330000    1.330000           0.700000   1.000000  \n",
       "max     44.000000    0.920000    2.040000           1.530000   1.000000  "
      ]
     },
     "execution_count": 16,
     "metadata": {},
     "output_type": "execute_result"
    }
   ],
   "source": [
    "#GIVE THE SOLUTION FOR TASK-2 IN THIS CELL:\n",
    "\n",
    "lakes.info()\n",
    "\n",
    "lakes.describe()"
   ]
  },
  {
   "cell_type": "markdown",
   "metadata": {},
   "source": [
    "#### Task-3 (1.5 points):\n",
    "\n",
    "Plot a distribution of the alkalinity values in the sample dataset. The plot must display appropriate x-label, y-label, and title.   "
   ]
  },
  {
   "cell_type": "code",
   "execution_count": 8,
   "metadata": {},
   "outputs": [
    {
     "data": {
      "text/plain": [
       "Text(0.5, 1.0, 'Distribution of alkalinity')"
      ]
     },
     "execution_count": 8,
     "metadata": {},
     "output_type": "execute_result"
    },
    {
     "data": {
      "image/png": "[encoded data removed]",
      "text/plain": [
       "<Figure size 432x288 with 1 Axes>"
      ]
     },
     "metadata": {
      "needs_background": "light"
     },
     "output_type": "display_data"
    }
   ],
   "source": [
    "#GIVE THE SOLUTION FOR TASK-3 IN THIS CELL:\n",
    "\n",
    "plt.hist('Alkalinity', data = lakes, color = 'blue', ec = 'black')\n",
    "plt.xlabel('Alkalinity')\n",
    "plt.ylabel('Count')\n",
    "plt.title('Distribution of alkalinity')"
   ]
  },
  {
   "cell_type": "markdown",
   "metadata": {},
   "source": [
    "#### Task-4 (1 point):\n",
    "\n",
    "Compute the mean alkalinity in the given sample dataset and store it in a variable named **`orig_sample_mean_alkalinity`**. Print **`orig_sample_mean_alkalinity`** to the output. "
   ]
  },
  {
   "cell_type": "code",
   "execution_count": 9,
   "metadata": {},
   "outputs": [
    {
     "data": {
      "text/plain": [
       "37.53018867924527"
      ]
     },
     "execution_count": 9,
     "metadata": {},
     "output_type": "execute_result"
    }
   ],
   "source": [
    "#GIVE THE SOLUTION FOR TASK-4 IN THIS CELL:\n",
    "\n",
    "orig_sample_mean_alkalinity = lakes['Alkalinity'].mean()\n",
    "orig_sample_mean_alkalinity"
   ]
  },
  {
   "cell_type": "markdown",
   "metadata": {},
   "source": [
    "#### Task-5 (2.5 points):\n",
    "\n",
    "Let us do bootstrapping since we do not know what the population looks like! In this task, pick a resample dataframe from the sample dataset and store it in a variable named **`resample`**. For that resample, compute the mean alkalinity and store it in a variable named **`resample_mean_alkalinity`**. Print **`resample_mean_alkalinity`** to the output. "
   ]
  },
  {
   "cell_type": "code",
   "execution_count": 10,
   "metadata": {},
   "outputs": [
    {
     "data": {
      "text/plain": [
       "36.19622641509434"
      ]
     },
     "execution_count": 10,
     "metadata": {},
     "output_type": "execute_result"
    }
   ],
   "source": [
    "#GIVE THE SOLUTION FOR TASK-5 IN THIS CELL:\n",
    "\n",
    "resample = lakes.sample(53, replace = True)\n",
    "resample_mean_alkalinity = resample['Alkalinity'].mean()\n",
    "resample_mean_alkalinity"
   ]
  },
  {
   "cell_type": "markdown",
   "metadata": {},
   "source": [
    "#### Task-6 (3 points):\n",
    "\n",
    "Repeat task-5 for 10,000 resamples and append the values **`resample_mean_alkalinity`** that you get for each of the 10,000 resamples to an empty list named **`bootstraps`**. Print the length of **`bootstraps`** to the output. "
   ]
  },
  {
   "cell_type": "code",
   "execution_count": 17,
   "metadata": {},
   "outputs": [
    {
     "data": {
      "text/plain": [
       "10000"
      ]
     },
     "execution_count": 17,
     "metadata": {},
     "output_type": "execute_result"
    }
   ],
   "source": [
    "#GIVE THE SOLUTION FOR TASK-6 IN THIS CELL:\n",
    "\n",
    "repetitions = 10000\n",
    "\n",
    "bootstraps = []\n",
    "\n",
    "for i in np.arange(repetitions):\n",
    "    resample = lakes.sample(53, replace = True)\n",
    "    resample_mean_alkalinity = resample['Alkalinity'].mean()\n",
    "    bootstraps.append(resample_mean_alkalinity)\n",
    "    \n",
    "bootstraps = np.array(bootstraps)\n",
    "len(bootstraps)"
   ]
  },
  {
   "cell_type": "markdown",
   "metadata": {},
   "source": [
    "#### Task-7 (1.5 points):\n",
    "\n",
    "You have to find out the middle 95% of the resampled mean alkalinity values. To do that, in this task, you have to find out the left most end of the middle 95% interval and right most end of the middle 95% interval. Store the values in variables named **`left_95`** and **`right_95`**. Print **`left_95`** and **`right_95`** to the output."
   ]
  },
  {
   "cell_type": "code",
   "execution_count": 18,
   "metadata": {},
   "outputs": [
    {
     "name": "stdout",
     "output_type": "stream",
     "text": [
      "27.525896226415092 48.32466981132076\n"
     ]
    }
   ],
   "source": [
    "#GIVE THE SOLUTION FOR TASK-7 IN THIS CELL:\n",
    "\n",
    "left_95 = np.percentile(bootstraps, 2.5)\n",
    "right_95 = np.percentile(bootstraps, 97.5)\n",
    "\n",
    "print(left_95, right_95)"
   ]
  },
  {
   "cell_type": "markdown",
   "metadata": {},
   "source": [
    "#### Task-8 (1.5 points):\n",
    "\n",
    "Plot a histogram of the statistical estimates of mean alkalinity contained in the array named **`bootstraps`** along with a line plot of the middle 95% interval. Also, the plot must display appropriate x-label, y-label, and title. "
   ]
  },
  {
   "cell_type": "code",
   "execution_count": 19,
   "metadata": {},
   "outputs": [
    {
     "data": {
      "text/plain": [
       "Text(0.5, 1.0, 'Distribution of Mean Alkalinity from 10000 resamples of size 53')"
      ]
     },
     "execution_count": 19,
     "metadata": {},
     "output_type": "execute_result"
    },
    {
     "data": {
      "image/png": "[encoded data removed]",
      "text/plain": [
       "<Figure size 432x288 with 1 Axes>"
      ]
     },
     "metadata": {
      "needs_background": "light"
     },
     "output_type": "display_data"
    }
   ],
   "source": [
    "#GIVE THE SOLUTION FOR TASK-8 IN THIS CELL:\n",
    "\n",
    "plt.hist(bootstraps, color = 'red', ec = 'black')\n",
    "plt.plot([left_95, right_95], [-10, -10], color = 'yellow', lw = 4)\n",
    "plt.xlabel('Mean Alkalinity')\n",
    "plt.ylabel('Count')\n",
    "plt.title('Distribution of Mean Alkalinity from 10000 resamples of size 53')"
   ]
  },
  {
   "cell_type": "markdown",
   "metadata": {},
   "source": [
    "#### Task-9 (1.5 points):\n",
    "\n",
    "Give your inference for 95% confidence interval of mean alkalinity values. In other words, what is the estimated 95% confidence interval of mean alkalinity in the population?"
   ]
  },
  {
   "cell_type": "markdown",
   "metadata": {},
   "source": [
    "**GIVE THE SOLUTION FOR TASK-9 IN THIS MARKDOWN CELL:**\n",
    "\n",
    "**Based on samples of 53 lakes in Florida, with 95% confidence, the mean alkalinity of water in all of the lakes in Florida is estimated to be between 27.53 mg/L and 48.32 mg/L.**"
   ]
  },
  {
   "cell_type": "markdown",
   "metadata": {},
   "source": [
    "# -----------------------------------------END OF PROBLEM-1----------------------------------------"
   ]
  },
  {
   "cell_type": "markdown",
   "metadata": {},
   "source": [
    "## Problem-2 (Total points: 15)"
   ]
  },
  {
   "cell_type": "markdown",
   "metadata": {},
   "source": [
    "#### Problem Description:\n",
    "\n",
    "A dataset containing information about 30 employees working in a company is provided. Specifically, the information on the experience (in years) and the salary (in dollars) of 30 employees is available. The objective of this problem is to predict the salary of an employee based on his/her experience in years. Specific task for this problem are as follows:  "
   ]
  },
  {
   "cell_type": "markdown",
   "metadata": {},
   "source": [
    "#### Task-1 (1 point):\n",
    "\n",
    "Read the **`Salary_Data.csv`** file and store it in a variable named **`sal`**. Display the first 5 rows of the dataframe **`sal`**."
   ]
  },
  {
   "cell_type": "code",
   "execution_count": 45,
   "metadata": {},
   "outputs": [
    {
     "data": {
      "text/html": [
       "<div>\n",
       "<style scoped>\n",
       "    .dataframe tbody tr th:only-of-type {\n",
       "        vertical-align: middle;\n",
       "    }\n",
       "\n",
       "    .dataframe tbody tr th {\n",
       "        vertical-align: top;\n",
       "    }\n",
       "\n",
       "    .dataframe thead th {\n",
       "        text-align: right;\n",
       "    }\n",
       "</style>\n",
       "<table border=\"1\" class=\"dataframe\">\n",
       "  <thead>\n",
       "    <tr style=\"text-align: right;\">\n",
       "      <th></th>\n",
       "      <th>YearsExperience</th>\n",
       "      <th>Salary</th>\n",
       "    </tr>\n",
       "  </thead>\n",
       "  <tbody>\n",
       "    <tr>\n",
       "      <th>0</th>\n",
       "      <td>1.1</td>\n",
       "      <td>39343.0</td>\n",
       "    </tr>\n",
       "    <tr>\n",
       "      <th>1</th>\n",
       "      <td>1.3</td>\n",
       "      <td>46205.0</td>\n",
       "    </tr>\n",
       "    <tr>\n",
       "      <th>2</th>\n",
       "      <td>1.5</td>\n",
       "      <td>37731.0</td>\n",
       "    </tr>\n",
       "    <tr>\n",
       "      <th>3</th>\n",
       "      <td>2.0</td>\n",
       "      <td>43525.0</td>\n",
       "    </tr>\n",
       "    <tr>\n",
       "      <th>4</th>\n",
       "      <td>2.2</td>\n",
       "      <td>39891.0</td>\n",
       "    </tr>\n",
       "  </tbody>\n",
       "</table>\n",
       "</div>"
      ],
      "text/plain": [
       "   YearsExperience   Salary\n",
       "0              1.1  39343.0\n",
       "1              1.3  46205.0\n",
       "2              1.5  37731.0\n",
       "3              2.0  43525.0\n",
       "4              2.2  39891.0"
      ]
     },
     "execution_count": 45,
     "metadata": {},
     "output_type": "execute_result"
    }
   ],
   "source": [
    "#GIVE THE SOLUTION FOR TASK-1 IN THIS CELL:\n",
    "\n",
    "sal = pd.read_csv('Salary_Data.csv')\n",
    "sal.head()"
   ]
  },
  {
   "cell_type": "markdown",
   "metadata": {},
   "source": [
    "#### Task-2 (1 point):\n",
    "\n",
    "Make a scatter plot of the data that is in original units. It is conventional to put the column we try to predict on the vertical axis and the other column on the horizontal axis. Also, the plot must display appropriate x-label, y-label, and title."
   ]
  },
  {
   "cell_type": "code",
   "execution_count": 55,
   "metadata": {},
   "outputs": [
    {
     "data": {
      "text/plain": [
       "Text(0.5, 1.0, 'Salary vs. experience')"
      ]
     },
     "execution_count": 55,
     "metadata": {},
     "output_type": "execute_result"
    },
    {
     "data": {
      "image/png": "[encoded data removed]",
      "text/plain": [
       "<Figure size 432x288 with 1 Axes>"
      ]
     },
     "metadata": {
      "needs_background": "light"
     },
     "output_type": "display_data"
    }
   ],
   "source": [
    "#GIVE THE SOLUTION FOR TASK-2 IN THIS CELL:\n",
    "\n",
    "plt.scatter('YearsExperience', 'Salary', data = sal, color = 'red')\n",
    "plt.xlabel('Experience in years')\n",
    "plt.ylabel('Salary in dollars')\n",
    "plt.title('Salary vs. experience')"
   ]
  },
  {
   "cell_type": "markdown",
   "metadata": {},
   "source": [
    "#### Task-3 (1.5 points):\n",
    "\n",
    "Compute the mean and standard deviation of the experience in years and store it in variables named **`experience_mean`** and **`experience_std`**, respectively. Similarly, compute the mean and standard deviation of the salary in dollars and store it in variables named **`salary_mean`** and **`salary_std`**, respectively. Print **`experience_mean`**, **`experience_std`**, **`salary_mean`**, and **`salary_std`** to the output.   "
   ]
  },
  {
   "cell_type": "code",
   "execution_count": 56,
   "metadata": {},
   "outputs": [
    {
     "name": "stdout",
     "output_type": "stream",
     "text": [
      "5.3133333333333335 2.790189161249745 76003.0 26953.65024877583\n"
     ]
    }
   ],
   "source": [
    "#GIVE THE SOLUTION FOR TASK-3 IN THIS CELL:\n",
    "\n",
    "experience_mean = np.mean(sal['YearsExperience'])\n",
    "experience_std = np.std(sal['YearsExperience'])\n",
    "\n",
    "salary_mean = np.mean(sal['Salary'])\n",
    "salary_std = np.std(sal['Salary'])\n",
    "\n",
    "print(experience_mean, experience_std, salary_mean, salary_std)"
   ]
  },
  {
   "cell_type": "markdown",
   "metadata": {},
   "source": [
    "#### Task-4 (1.5 points):\n",
    "\n",
    "Compute the experience in standard units and append it as a new column named **`YearsExperience (standard units)`** to the dataframe **`sal`**. Also, compute the salary in standard units and append it as a new column named **`Salary (standard units)`** to the dataframe **`sal`**. After appending the 2 new columns successfully, print the first 5 rows of the dataframe **`sal`** to the output.   "
   ]
  },
  {
   "cell_type": "code",
   "execution_count": 57,
   "metadata": {},
   "outputs": [
    {
     "data": {
      "text/html": [
       "<div>\n",
       "<style scoped>\n",
       "    .dataframe tbody tr th:only-of-type {\n",
       "        vertical-align: middle;\n",
       "    }\n",
       "\n",
       "    .dataframe tbody tr th {\n",
       "        vertical-align: top;\n",
       "    }\n",
       "\n",
       "    .dataframe thead th {\n",
       "        text-align: right;\n",
       "    }\n",
       "</style>\n",
       "<table border=\"1\" class=\"dataframe\">\n",
       "  <thead>\n",
       "    <tr style=\"text-align: right;\">\n",
       "      <th></th>\n",
       "      <th>YearsExperience</th>\n",
       "      <th>Salary</th>\n",
       "      <th>YearsExperience (standard units)</th>\n",
       "      <th>Salary (standard units)</th>\n",
       "    </tr>\n",
       "  </thead>\n",
       "  <tbody>\n",
       "    <tr>\n",
       "      <th>0</th>\n",
       "      <td>1.1</td>\n",
       "      <td>39343.0</td>\n",
       "      <td>-1.510053</td>\n",
       "      <td>-1.360113</td>\n",
       "    </tr>\n",
       "    <tr>\n",
       "      <th>1</th>\n",
       "      <td>1.3</td>\n",
       "      <td>46205.0</td>\n",
       "      <td>-1.438373</td>\n",
       "      <td>-1.105527</td>\n",
       "    </tr>\n",
       "    <tr>\n",
       "      <th>2</th>\n",
       "      <td>1.5</td>\n",
       "      <td>37731.0</td>\n",
       "      <td>-1.366693</td>\n",
       "      <td>-1.419919</td>\n",
       "    </tr>\n",
       "    <tr>\n",
       "      <th>3</th>\n",
       "      <td>2.0</td>\n",
       "      <td>43525.0</td>\n",
       "      <td>-1.187494</td>\n",
       "      <td>-1.204957</td>\n",
       "    </tr>\n",
       "    <tr>\n",
       "      <th>4</th>\n",
       "      <td>2.2</td>\n",
       "      <td>39891.0</td>\n",
       "      <td>-1.115814</td>\n",
       "      <td>-1.339781</td>\n",
       "    </tr>\n",
       "  </tbody>\n",
       "</table>\n",
       "</div>"
      ],
      "text/plain": [
       "   YearsExperience   Salary  YearsExperience (standard units)  \\\n",
       "0              1.1  39343.0                         -1.510053   \n",
       "1              1.3  46205.0                         -1.438373   \n",
       "2              1.5  37731.0                         -1.366693   \n",
       "3              2.0  43525.0                         -1.187494   \n",
       "4              2.2  39891.0                         -1.115814   \n",
       "\n",
       "   Salary (standard units)  \n",
       "0                -1.360113  \n",
       "1                -1.105527  \n",
       "2                -1.419919  \n",
       "3                -1.204957  \n",
       "4                -1.339781  "
      ]
     },
     "execution_count": 57,
     "metadata": {},
     "output_type": "execute_result"
    }
   ],
   "source": [
    "#GIVE THE SOLUTION FOR TASK-4 IN THIS CELL:\n",
    "\n",
    "sal['YearsExperience (standard units)'] = (sal['YearsExperience'] - experience_mean)/experience_std\n",
    "sal['Salary (standard units)'] = (sal['Salary'] - salary_mean)/salary_std\n",
    "\n",
    "sal.head()"
   ]
  },
  {
   "cell_type": "markdown",
   "metadata": {},
   "source": [
    "#### Task-5 (1 point):\n",
    "\n",
    "Compute the correlation coefficient based on the experience and the salary values that are in standard units, and store it in a variable named **`r`**. Print **`r`** to the output.  "
   ]
  },
  {
   "cell_type": "code",
   "execution_count": 58,
   "metadata": {},
   "outputs": [
    {
     "data": {
      "text/plain": [
       "0.9782416184887599"
      ]
     },
     "execution_count": 58,
     "metadata": {},
     "output_type": "execute_result"
    }
   ],
   "source": [
    "#GIVE THE SOLUTION FOR TASK-5 IN THIS CELL:\n",
    "\n",
    "r = np.mean(sal['YearsExperience (standard units)']*sal['Salary (standard units)'])\n",
    "r"
   ]
  },
  {
   "cell_type": "markdown",
   "metadata": {},
   "source": [
    "#### Task-6 (1.5 points):\n",
    "\n",
    "Compute the slope and the intercept of the regression line in original units and store them in variables named **`slope_originalunits`** and **`intercept_originalunits`**, respectively. Print **`slope_originalunits`** and **`intercept_originalunits`** to the output. "
   ]
  },
  {
   "cell_type": "code",
   "execution_count": 59,
   "metadata": {},
   "outputs": [
    {
     "name": "stdout",
     "output_type": "stream",
     "text": [
      "9449.962321455076 25792.200198668696\n"
     ]
    }
   ],
   "source": [
    "#GIVE THE SOLUTION FOR TASK-6 IN THIS CELL:\n",
    "\n",
    "slope_originalunits = r*(salary_std/experience_std)\n",
    "intercept_originalunits = salary_mean - (slope_originalunits*experience_mean)\n",
    "\n",
    "print(slope_originalunits, intercept_originalunits)"
   ]
  },
  {
   "cell_type": "markdown",
   "metadata": {},
   "source": [
    "#### Task-7 (1.5 points):\n",
    "\n",
    "Predict the salaries in dollars based on all the experience in years in the dataframe **`sal`**. Add the predicted salaries as a new column named **`Predicted Salary`** to the dataframe **`sal`**. Print the first 5 rows of the dataframe **`sal`** to the output. "
   ]
  },
  {
   "cell_type": "code",
   "execution_count": 60,
   "metadata": {},
   "outputs": [
    {
     "data": {
      "text/html": [
       "<div>\n",
       "<style scoped>\n",
       "    .dataframe tbody tr th:only-of-type {\n",
       "        vertical-align: middle;\n",
       "    }\n",
       "\n",
       "    .dataframe tbody tr th {\n",
       "        vertical-align: top;\n",
       "    }\n",
       "\n",
       "    .dataframe thead th {\n",
       "        text-align: right;\n",
       "    }\n",
       "</style>\n",
       "<table border=\"1\" class=\"dataframe\">\n",
       "  <thead>\n",
       "    <tr style=\"text-align: right;\">\n",
       "      <th></th>\n",
       "      <th>YearsExperience</th>\n",
       "      <th>Salary</th>\n",
       "      <th>YearsExperience (standard units)</th>\n",
       "      <th>Salary (standard units)</th>\n",
       "      <th>Predicted Salary</th>\n",
       "    </tr>\n",
       "  </thead>\n",
       "  <tbody>\n",
       "    <tr>\n",
       "      <th>0</th>\n",
       "      <td>1.1</td>\n",
       "      <td>39343.0</td>\n",
       "      <td>-1.510053</td>\n",
       "      <td>-1.360113</td>\n",
       "      <td>36187.158752</td>\n",
       "    </tr>\n",
       "    <tr>\n",
       "      <th>1</th>\n",
       "      <td>1.3</td>\n",
       "      <td>46205.0</td>\n",
       "      <td>-1.438373</td>\n",
       "      <td>-1.105527</td>\n",
       "      <td>38077.151217</td>\n",
       "    </tr>\n",
       "    <tr>\n",
       "      <th>2</th>\n",
       "      <td>1.5</td>\n",
       "      <td>37731.0</td>\n",
       "      <td>-1.366693</td>\n",
       "      <td>-1.419919</td>\n",
       "      <td>39967.143681</td>\n",
       "    </tr>\n",
       "    <tr>\n",
       "      <th>3</th>\n",
       "      <td>2.0</td>\n",
       "      <td>43525.0</td>\n",
       "      <td>-1.187494</td>\n",
       "      <td>-1.204957</td>\n",
       "      <td>44692.124842</td>\n",
       "    </tr>\n",
       "    <tr>\n",
       "      <th>4</th>\n",
       "      <td>2.2</td>\n",
       "      <td>39891.0</td>\n",
       "      <td>-1.115814</td>\n",
       "      <td>-1.339781</td>\n",
       "      <td>46582.117306</td>\n",
       "    </tr>\n",
       "  </tbody>\n",
       "</table>\n",
       "</div>"
      ],
      "text/plain": [
       "   YearsExperience   Salary  YearsExperience (standard units)  \\\n",
       "0              1.1  39343.0                         -1.510053   \n",
       "1              1.3  46205.0                         -1.438373   \n",
       "2              1.5  37731.0                         -1.366693   \n",
       "3              2.0  43525.0                         -1.187494   \n",
       "4              2.2  39891.0                         -1.115814   \n",
       "\n",
       "   Salary (standard units)  Predicted Salary  \n",
       "0                -1.360113      36187.158752  \n",
       "1                -1.105527      38077.151217  \n",
       "2                -1.419919      39967.143681  \n",
       "3                -1.204957      44692.124842  \n",
       "4                -1.339781      46582.117306  "
      ]
     },
     "execution_count": 60,
     "metadata": {},
     "output_type": "execute_result"
    }
   ],
   "source": [
    "#GIVE THE SOLUTION FOR TASK-7 IN THIS CELL:\n",
    "\n",
    "sal['Predicted Salary'] = (slope_originalunits * sal['YearsExperience']) + intercept_originalunits\n",
    "sal.head()"
   ]
  },
  {
   "cell_type": "markdown",
   "metadata": {},
   "source": [
    "#### Task-8 (1.5 points):\n",
    "\n",
    "Make a scatter plot of the actual data that is in original units together with the regression line. The regression line can be plotted based on the columns **`YearsExperience`** and **`Predicted Salary`**. Also, the plot must display appropriate x-label, y-label, and title. "
   ]
  },
  {
   "cell_type": "code",
   "execution_count": 61,
   "metadata": {},
   "outputs": [
    {
     "data": {
      "text/plain": [
       "Text(0.5, 1.0, 'Salary vs. experience')"
      ]
     },
     "execution_count": 61,
     "metadata": {},
     "output_type": "execute_result"
    },
    {
     "data": {
      "image/png": "[encoded data removed]",
      "text/plain": [
       "<Figure size 432x288 with 1 Axes>"
      ]
     },
     "metadata": {
      "needs_background": "light"
     },
     "output_type": "display_data"
    }
   ],
   "source": [
    "#GIVE THE SOLUTION FOR TASK-8 IN THIS CELL:\n",
    "\n",
    "plt.scatter('YearsExperience', 'Salary', data = sal, color = 'red')\n",
    "plt.plot('YearsExperience', 'Predicted Salary', data = sal, color = 'blue', lw = 3)\n",
    "plt.xlabel('Experience in years')\n",
    "plt.ylabel('Salary in dollars')\n",
    "plt.title('Salary vs. experience')"
   ]
  },
  {
   "cell_type": "markdown",
   "metadata": {},
   "source": [
    "#### Task-9 (1.5 points):\n",
    "\n",
    "Calculate the residual (error) in the predictions by computing the difference between the predicted salary and the actual salary values. Add the residual values as a new column named **`Residual`** to the dataframe **`sal`**. Print the first 5 rows of the dataframe **`sal`** to the output."
   ]
  },
  {
   "cell_type": "code",
   "execution_count": 62,
   "metadata": {},
   "outputs": [
    {
     "data": {
      "text/html": [
       "<div>\n",
       "<style scoped>\n",
       "    .dataframe tbody tr th:only-of-type {\n",
       "        vertical-align: middle;\n",
       "    }\n",
       "\n",
       "    .dataframe tbody tr th {\n",
       "        vertical-align: top;\n",
       "    }\n",
       "\n",
       "    .dataframe thead th {\n",
       "        text-align: right;\n",
       "    }\n",
       "</style>\n",
       "<table border=\"1\" class=\"dataframe\">\n",
       "  <thead>\n",
       "    <tr style=\"text-align: right;\">\n",
       "      <th></th>\n",
       "      <th>YearsExperience</th>\n",
       "      <th>Salary</th>\n",
       "      <th>YearsExperience (standard units)</th>\n",
       "      <th>Salary (standard units)</th>\n",
       "      <th>Predicted Salary</th>\n",
       "      <th>Residual</th>\n",
       "    </tr>\n",
       "  </thead>\n",
       "  <tbody>\n",
       "    <tr>\n",
       "      <th>0</th>\n",
       "      <td>1.1</td>\n",
       "      <td>39343.0</td>\n",
       "      <td>-1.510053</td>\n",
       "      <td>-1.360113</td>\n",
       "      <td>36187.158752</td>\n",
       "      <td>3155.841248</td>\n",
       "    </tr>\n",
       "    <tr>\n",
       "      <th>1</th>\n",
       "      <td>1.3</td>\n",
       "      <td>46205.0</td>\n",
       "      <td>-1.438373</td>\n",
       "      <td>-1.105527</td>\n",
       "      <td>38077.151217</td>\n",
       "      <td>8127.848783</td>\n",
       "    </tr>\n",
       "    <tr>\n",
       "      <th>2</th>\n",
       "      <td>1.5</td>\n",
       "      <td>37731.0</td>\n",
       "      <td>-1.366693</td>\n",
       "      <td>-1.419919</td>\n",
       "      <td>39967.143681</td>\n",
       "      <td>-2236.143681</td>\n",
       "    </tr>\n",
       "    <tr>\n",
       "      <th>3</th>\n",
       "      <td>2.0</td>\n",
       "      <td>43525.0</td>\n",
       "      <td>-1.187494</td>\n",
       "      <td>-1.204957</td>\n",
       "      <td>44692.124842</td>\n",
       "      <td>-1167.124842</td>\n",
       "    </tr>\n",
       "    <tr>\n",
       "      <th>4</th>\n",
       "      <td>2.2</td>\n",
       "      <td>39891.0</td>\n",
       "      <td>-1.115814</td>\n",
       "      <td>-1.339781</td>\n",
       "      <td>46582.117306</td>\n",
       "      <td>-6691.117306</td>\n",
       "    </tr>\n",
       "  </tbody>\n",
       "</table>\n",
       "</div>"
      ],
      "text/plain": [
       "   YearsExperience   Salary  YearsExperience (standard units)  \\\n",
       "0              1.1  39343.0                         -1.510053   \n",
       "1              1.3  46205.0                         -1.438373   \n",
       "2              1.5  37731.0                         -1.366693   \n",
       "3              2.0  43525.0                         -1.187494   \n",
       "4              2.2  39891.0                         -1.115814   \n",
       "\n",
       "   Salary (standard units)  Predicted Salary     Residual  \n",
       "0                -1.360113      36187.158752  3155.841248  \n",
       "1                -1.105527      38077.151217  8127.848783  \n",
       "2                -1.419919      39967.143681 -2236.143681  \n",
       "3                -1.204957      44692.124842 -1167.124842  \n",
       "4                -1.339781      46582.117306 -6691.117306  "
      ]
     },
     "execution_count": 62,
     "metadata": {},
     "output_type": "execute_result"
    }
   ],
   "source": [
    "#GIVE THE SOLUTION FOR TASK-9 IN THIS CELL:\n",
    "\n",
    "sal['Residual'] = sal['Salary'] - sal['Predicted Salary']\n",
    "sal.head()"
   ]
  },
  {
   "cell_type": "markdown",
   "metadata": {},
   "source": [
    "#### Task-10 (1.5 points):\n",
    "\n",
    "Make a scatter plot of the residuals that you computed in the previous task. The x-axis must be the experience in years and the plot shows how much our prediction over- or under-estimated the salaries given the experience in years. Also, the plot must display appropriate x-label, y-label, and title. "
   ]
  },
  {
   "cell_type": "code",
   "execution_count": 63,
   "metadata": {
    "scrolled": true
   },
   "outputs": [
    {
     "data": {
      "text/plain": [
       "Text(0.5, 1.0, 'Residual plot')"
      ]
     },
     "execution_count": 63,
     "metadata": {},
     "output_type": "execute_result"
    },
    {
     "data": {
      "image/png": "[encoded data removed]",
      "text/plain": [
       "<Figure size 432x288 with 1 Axes>"
      ]
     },
     "metadata": {
      "needs_background": "light"
     },
     "output_type": "display_data"
    }
   ],
   "source": [
    "#GIVE THE SOLUTION FOR TASK-10 IN THIS CELL:\n",
    "\n",
    "plt.scatter('YearsExperience', 'Residual', data = sal, color = 'red')\n",
    "plt.plot([0, 11], [0, 0], color = 'blue', lw = 4)\n",
    "plt.xlabel('Experience in years')\n",
    "plt.ylabel('Residual in dollars')\n",
    "plt.title('Residual plot')"
   ]
  },
  {
   "cell_type": "markdown",
   "metadata": {},
   "source": [
    "#### Task-11 (1.5 points):\n",
    "\n",
    "Calculate the mean squared error (MSE) and the root mean squared error (RMSE) in the predicted salaries, and store them in variables named **`MSE`** and **`RMSE`**, respectively.  Print **`MSE`** and **`RMSE`** to the output. "
   ]
  },
  {
   "cell_type": "code",
   "execution_count": 64,
   "metadata": {},
   "outputs": [
    {
     "name": "stdout",
     "output_type": "stream",
     "text": [
      "31270951.722280968 5592.043608760662\n"
     ]
    }
   ],
   "source": [
    "#GIVE THE SOLUTION FOR TASK-11 IN THIS CELL:\n",
    "\n",
    "MSE = np.mean(sal['Residual']**2)\n",
    "RMSE = np.sqrt(MSE)\n",
    "\n",
    "print(MSE, RMSE)"
   ]
  },
  {
   "cell_type": "markdown",
   "metadata": {},
   "source": [
    "# -----------------------------------------END OF PROBLEM-2----------------------------------------"
   ]
  },
  {
   "cell_type": "markdown",
   "metadata": {},
   "source": [
    "## Problem-3 (Total points: 20)"
   ]
  },
  {
   "cell_type": "markdown",
   "metadata": {},
   "source": [
    "#### Problem Description:\n",
    "\n",
    "A dataset on the financial information of 50 start-up companies is provided. In this problem, the objective is to predict the profit (in dollars) of a start up company based on 3 features, namely, money spent on R&D, money spent on administration, and money spent on marketing. Specific task for this problem are as follows:"
   ]
  },
  {
   "cell_type": "markdown",
   "metadata": {},
   "source": [
    "#### Task-1 (1 point):\n",
    "\n",
    "Read the **`50_Startups.csv`** file and store it in a variable named **`startup`**. Display the first 5 rows of the dataframe **`startup`**."
   ]
  },
  {
   "cell_type": "code",
   "execution_count": 29,
   "metadata": {},
   "outputs": [
    {
     "data": {
      "text/html": [
       "<div>\n",
       "<style scoped>\n",
       "    .dataframe tbody tr th:only-of-type {\n",
       "        vertical-align: middle;\n",
       "    }\n",
       "\n",
       "    .dataframe tbody tr th {\n",
       "        vertical-align: top;\n",
       "    }\n",
       "\n",
       "    .dataframe thead th {\n",
       "        text-align: right;\n",
       "    }\n",
       "</style>\n",
       "<table border=\"1\" class=\"dataframe\">\n",
       "  <thead>\n",
       "    <tr style=\"text-align: right;\">\n",
       "      <th></th>\n",
       "      <th>R&amp;D Spend</th>\n",
       "      <th>Administration</th>\n",
       "      <th>Marketing Spend</th>\n",
       "      <th>State</th>\n",
       "      <th>Profit</th>\n",
       "    </tr>\n",
       "  </thead>\n",
       "  <tbody>\n",
       "    <tr>\n",
       "      <th>0</th>\n",
       "      <td>165349.20</td>\n",
       "      <td>136897.80</td>\n",
       "      <td>471784.10</td>\n",
       "      <td>New York</td>\n",
       "      <td>192261.83</td>\n",
       "    </tr>\n",
       "    <tr>\n",
       "      <th>1</th>\n",
       "      <td>162597.70</td>\n",
       "      <td>151377.59</td>\n",
       "      <td>443898.53</td>\n",
       "      <td>California</td>\n",
       "      <td>191792.06</td>\n",
       "    </tr>\n",
       "    <tr>\n",
       "      <th>2</th>\n",
       "      <td>153441.51</td>\n",
       "      <td>101145.55</td>\n",
       "      <td>407934.54</td>\n",
       "      <td>Florida</td>\n",
       "      <td>191050.39</td>\n",
       "    </tr>\n",
       "    <tr>\n",
       "      <th>3</th>\n",
       "      <td>144372.41</td>\n",
       "      <td>118671.85</td>\n",
       "      <td>383199.62</td>\n",
       "      <td>New York</td>\n",
       "      <td>182901.99</td>\n",
       "    </tr>\n",
       "    <tr>\n",
       "      <th>4</th>\n",
       "      <td>142107.34</td>\n",
       "      <td>91391.77</td>\n",
       "      <td>366168.42</td>\n",
       "      <td>Florida</td>\n",
       "      <td>166187.94</td>\n",
       "    </tr>\n",
       "  </tbody>\n",
       "</table>\n",
       "</div>"
      ],
      "text/plain": [
       "   R&D Spend  Administration  Marketing Spend       State     Profit\n",
       "0  165349.20       136897.80        471784.10    New York  192261.83\n",
       "1  162597.70       151377.59        443898.53  California  191792.06\n",
       "2  153441.51       101145.55        407934.54     Florida  191050.39\n",
       "3  144372.41       118671.85        383199.62    New York  182901.99\n",
       "4  142107.34        91391.77        366168.42     Florida  166187.94"
      ]
     },
     "execution_count": 29,
     "metadata": {},
     "output_type": "execute_result"
    }
   ],
   "source": [
    "#GIVE THE SOLUTION FOR TASK-1 IN THIS CELL:\n",
    "\n",
    "startup = pd.read_csv('50_Startups.csv')\n",
    "startup.head()"
   ]
  },
  {
   "cell_type": "markdown",
   "metadata": {},
   "source": [
    "#### Task-2 (1.5 points):\n",
    "\n",
    "Get the information (i.e, the number of rows and the data types present in each column) and the basic statistical measures about the dataframe **`startup`** using the appropriate functions available in the Pandas library."
   ]
  },
  {
   "cell_type": "code",
   "execution_count": 30,
   "metadata": {},
   "outputs": [
    {
     "name": "stdout",
     "output_type": "stream",
     "text": [
      "<class 'pandas.core.frame.DataFrame'>\n",
      "RangeIndex: 50 entries, 0 to 49\n",
      "Data columns (total 5 columns):\n",
      "R&D Spend          50 non-null float64\n",
      "Administration     50 non-null float64\n",
      "Marketing Spend    50 non-null float64\n",
      "State              50 non-null object\n",
      "Profit             50 non-null float64\n",
      "dtypes: float64(4), object(1)\n",
      "memory usage: 2.0+ KB\n"
     ]
    },
    {
     "data": {
      "text/html": [
       "<div>\n",
       "<style scoped>\n",
       "    .dataframe tbody tr th:only-of-type {\n",
       "        vertical-align: middle;\n",
       "    }\n",
       "\n",
       "    .dataframe tbody tr th {\n",
       "        vertical-align: top;\n",
       "    }\n",
       "\n",
       "    .dataframe thead th {\n",
       "        text-align: right;\n",
       "    }\n",
       "</style>\n",
       "<table border=\"1\" class=\"dataframe\">\n",
       "  <thead>\n",
       "    <tr style=\"text-align: right;\">\n",
       "      <th></th>\n",
       "      <th>R&amp;D Spend</th>\n",
       "      <th>Administration</th>\n",
       "      <th>Marketing Spend</th>\n",
       "      <th>Profit</th>\n",
       "    </tr>\n",
       "  </thead>\n",
       "  <tbody>\n",
       "    <tr>\n",
       "      <th>count</th>\n",
       "      <td>50.000000</td>\n",
       "      <td>50.000000</td>\n",
       "      <td>50.000000</td>\n",
       "      <td>50.000000</td>\n",
       "    </tr>\n",
       "    <tr>\n",
       "      <th>mean</th>\n",
       "      <td>73721.615600</td>\n",
       "      <td>121344.639600</td>\n",
       "      <td>211025.097800</td>\n",
       "      <td>112012.639200</td>\n",
       "    </tr>\n",
       "    <tr>\n",
       "      <th>std</th>\n",
       "      <td>45902.256482</td>\n",
       "      <td>28017.802755</td>\n",
       "      <td>122290.310726</td>\n",
       "      <td>40306.180338</td>\n",
       "    </tr>\n",
       "    <tr>\n",
       "      <th>min</th>\n",
       "      <td>0.000000</td>\n",
       "      <td>51283.140000</td>\n",
       "      <td>0.000000</td>\n",
       "      <td>14681.400000</td>\n",
       "    </tr>\n",
       "    <tr>\n",
       "      <th>25%</th>\n",
       "      <td>39936.370000</td>\n",
       "      <td>103730.875000</td>\n",
       "      <td>129300.132500</td>\n",
       "      <td>90138.902500</td>\n",
       "    </tr>\n",
       "    <tr>\n",
       "      <th>50%</th>\n",
       "      <td>73051.080000</td>\n",
       "      <td>122699.795000</td>\n",
       "      <td>212716.240000</td>\n",
       "      <td>107978.190000</td>\n",
       "    </tr>\n",
       "    <tr>\n",
       "      <th>75%</th>\n",
       "      <td>101602.800000</td>\n",
       "      <td>144842.180000</td>\n",
       "      <td>299469.085000</td>\n",
       "      <td>139765.977500</td>\n",
       "    </tr>\n",
       "    <tr>\n",
       "      <th>max</th>\n",
       "      <td>165349.200000</td>\n",
       "      <td>182645.560000</td>\n",
       "      <td>471784.100000</td>\n",
       "      <td>192261.830000</td>\n",
       "    </tr>\n",
       "  </tbody>\n",
       "</table>\n",
       "</div>"
      ],
      "text/plain": [
       "           R&D Spend  Administration  Marketing Spend         Profit\n",
       "count      50.000000       50.000000        50.000000      50.000000\n",
       "mean    73721.615600   121344.639600    211025.097800  112012.639200\n",
       "std     45902.256482    28017.802755    122290.310726   40306.180338\n",
       "min         0.000000    51283.140000         0.000000   14681.400000\n",
       "25%     39936.370000   103730.875000    129300.132500   90138.902500\n",
       "50%     73051.080000   122699.795000    212716.240000  107978.190000\n",
       "75%    101602.800000   144842.180000    299469.085000  139765.977500\n",
       "max    165349.200000   182645.560000    471784.100000  192261.830000"
      ]
     },
     "execution_count": 30,
     "metadata": {},
     "output_type": "execute_result"
    }
   ],
   "source": [
    "#GIVE THE SOLUTION FOR TASK-2 IN THIS CELL:\n",
    "\n",
    "startup.info()\n",
    "\n",
    "startup.describe()"
   ]
  },
  {
   "cell_type": "markdown",
   "metadata": {},
   "source": [
    "#### Task-3 (1 point):\n",
    "\n",
    "Display the scatter plot between all the columns in the dataset using the appropriate plotting function in the Seaborn library."
   ]
  },
  {
   "cell_type": "code",
   "execution_count": 31,
   "metadata": {},
   "outputs": [
    {
     "data": {
      "text/plain": [
       "<seaborn.axisgrid.PairGrid at 0x1ab7e6c97b8>"
      ]
     },
     "execution_count": 31,
     "metadata": {},
     "output_type": "execute_result"
    },
    {
     "data": {
      "image/png": "[encoded data removed]",
      "text/plain": [
       "<Figure size 720x720 with 20 Axes>"
      ]
     },
     "metadata": {
      "needs_background": "light"
     },
     "output_type": "display_data"
    }
   ],
   "source": [
    "#GIVE THE SOLUTION FOR TASK-3 IN THIS CELL:\n",
    "\n",
    "sns.pairplot(startup)"
   ]
  },
  {
   "cell_type": "markdown",
   "metadata": {},
   "source": [
    "#### Task-4 (1.5 points):\n",
    "\n",
    "Compute the correlation coefficient between all the columns in the dataset using the appropriate function in the Pandas library and store it in a variable named **`corr`**. Display the heat map of correlation values stored in **`corr`** using the appropriate function in the Seaborn library. The heat map must display an appropriate title."
   ]
  },
  {
   "cell_type": "code",
   "execution_count": 32,
   "metadata": {},
   "outputs": [
    {
     "data": {
      "text/plain": [
       "Text(0.5, 1.0, 'Feature Correlation Heatmap')"
      ]
     },
     "execution_count": 32,
     "metadata": {},
     "output_type": "execute_result"
    },
    {
     "data": {
      "image/png": "[encoded data removed]",
      "text/plain": [
       "<Figure size 432x288 with 2 Axes>"
      ]
     },
     "metadata": {
      "needs_background": "light"
     },
     "output_type": "display_data"
    }
   ],
   "source": [
    "#GIVE THE SOLUTION FOR TASK-4 IN THIS CELL:\n",
    "\n",
    "corr = startup.corr()\n",
    "sns.heatmap(corr, annot=True, cmap='Blues')\n",
    "plt.title(\"Feature Correlation Heatmap\")"
   ]
  },
  {
   "cell_type": "markdown",
   "metadata": {},
   "source": [
    "#### Task-5 (1 point):\n",
    "\n",
    "Copy the original dataframe **`startup`** to a variable named **`data`** and print the first 5 rows of the dataframe **`data`** to the output.  "
   ]
  },
  {
   "cell_type": "code",
   "execution_count": 33,
   "metadata": {},
   "outputs": [
    {
     "data": {
      "text/html": [
       "<div>\n",
       "<style scoped>\n",
       "    .dataframe tbody tr th:only-of-type {\n",
       "        vertical-align: middle;\n",
       "    }\n",
       "\n",
       "    .dataframe tbody tr th {\n",
       "        vertical-align: top;\n",
       "    }\n",
       "\n",
       "    .dataframe thead th {\n",
       "        text-align: right;\n",
       "    }\n",
       "</style>\n",
       "<table border=\"1\" class=\"dataframe\">\n",
       "  <thead>\n",
       "    <tr style=\"text-align: right;\">\n",
       "      <th></th>\n",
       "      <th>R&amp;D Spend</th>\n",
       "      <th>Administration</th>\n",
       "      <th>Marketing Spend</th>\n",
       "      <th>State</th>\n",
       "      <th>Profit</th>\n",
       "    </tr>\n",
       "  </thead>\n",
       "  <tbody>\n",
       "    <tr>\n",
       "      <th>0</th>\n",
       "      <td>165349.20</td>\n",
       "      <td>136897.80</td>\n",
       "      <td>471784.10</td>\n",
       "      <td>New York</td>\n",
       "      <td>192261.83</td>\n",
       "    </tr>\n",
       "    <tr>\n",
       "      <th>1</th>\n",
       "      <td>162597.70</td>\n",
       "      <td>151377.59</td>\n",
       "      <td>443898.53</td>\n",
       "      <td>California</td>\n",
       "      <td>191792.06</td>\n",
       "    </tr>\n",
       "    <tr>\n",
       "      <th>2</th>\n",
       "      <td>153441.51</td>\n",
       "      <td>101145.55</td>\n",
       "      <td>407934.54</td>\n",
       "      <td>Florida</td>\n",
       "      <td>191050.39</td>\n",
       "    </tr>\n",
       "    <tr>\n",
       "      <th>3</th>\n",
       "      <td>144372.41</td>\n",
       "      <td>118671.85</td>\n",
       "      <td>383199.62</td>\n",
       "      <td>New York</td>\n",
       "      <td>182901.99</td>\n",
       "    </tr>\n",
       "    <tr>\n",
       "      <th>4</th>\n",
       "      <td>142107.34</td>\n",
       "      <td>91391.77</td>\n",
       "      <td>366168.42</td>\n",
       "      <td>Florida</td>\n",
       "      <td>166187.94</td>\n",
       "    </tr>\n",
       "  </tbody>\n",
       "</table>\n",
       "</div>"
      ],
      "text/plain": [
       "   R&D Spend  Administration  Marketing Spend       State     Profit\n",
       "0  165349.20       136897.80        471784.10    New York  192261.83\n",
       "1  162597.70       151377.59        443898.53  California  191792.06\n",
       "2  153441.51       101145.55        407934.54     Florida  191050.39\n",
       "3  144372.41       118671.85        383199.62    New York  182901.99\n",
       "4  142107.34        91391.77        366168.42     Florida  166187.94"
      ]
     },
     "execution_count": 33,
     "metadata": {},
     "output_type": "execute_result"
    }
   ],
   "source": [
    "#GIVE THE SOLUTION FOR TASK-5 IN THIS CELL:\n",
    "\n",
    "data = startup.copy()\n",
    "data.head()"
   ]
  },
  {
   "cell_type": "markdown",
   "metadata": {},
   "source": [
    "#### Task-6 (1.5 points):\n",
    "\n",
    "Convert all the 3 features of interest into standard units and append each one of them as new columns named **`R&D Spend (standard units)`**, **`Administration (standard units)`**, and **`Marketing Spend (standard units)`** to the dataframe **`data`**. After appending all the new columns, print the first 5 rows of the dataframe **`data`** to the output. "
   ]
  },
  {
   "cell_type": "code",
   "execution_count": 34,
   "metadata": {},
   "outputs": [
    {
     "data": {
      "text/html": [
       "<div>\n",
       "<style scoped>\n",
       "    .dataframe tbody tr th:only-of-type {\n",
       "        vertical-align: middle;\n",
       "    }\n",
       "\n",
       "    .dataframe tbody tr th {\n",
       "        vertical-align: top;\n",
       "    }\n",
       "\n",
       "    .dataframe thead th {\n",
       "        text-align: right;\n",
       "    }\n",
       "</style>\n",
       "<table border=\"1\" class=\"dataframe\">\n",
       "  <thead>\n",
       "    <tr style=\"text-align: right;\">\n",
       "      <th></th>\n",
       "      <th>R&amp;D Spend</th>\n",
       "      <th>Administration</th>\n",
       "      <th>Marketing Spend</th>\n",
       "      <th>State</th>\n",
       "      <th>Profit</th>\n",
       "      <th>R&amp;D Spend (standard units)</th>\n",
       "      <th>Administration (standard units)</th>\n",
       "      <th>Marketing Spend (standard units)</th>\n",
       "    </tr>\n",
       "  </thead>\n",
       "  <tbody>\n",
       "    <tr>\n",
       "      <th>0</th>\n",
       "      <td>165349.20</td>\n",
       "      <td>136897.80</td>\n",
       "      <td>471784.10</td>\n",
       "      <td>New York</td>\n",
       "      <td>192261.83</td>\n",
       "      <td>2.016411</td>\n",
       "      <td>0.560753</td>\n",
       "      <td>2.153943</td>\n",
       "    </tr>\n",
       "    <tr>\n",
       "      <th>1</th>\n",
       "      <td>162597.70</td>\n",
       "      <td>151377.59</td>\n",
       "      <td>443898.53</td>\n",
       "      <td>California</td>\n",
       "      <td>191792.06</td>\n",
       "      <td>1.955860</td>\n",
       "      <td>1.082807</td>\n",
       "      <td>1.923600</td>\n",
       "    </tr>\n",
       "    <tr>\n",
       "      <th>2</th>\n",
       "      <td>153441.51</td>\n",
       "      <td>101145.55</td>\n",
       "      <td>407934.54</td>\n",
       "      <td>Florida</td>\n",
       "      <td>191050.39</td>\n",
       "      <td>1.754364</td>\n",
       "      <td>-0.728257</td>\n",
       "      <td>1.626528</td>\n",
       "    </tr>\n",
       "    <tr>\n",
       "      <th>3</th>\n",
       "      <td>144372.41</td>\n",
       "      <td>118671.85</td>\n",
       "      <td>383199.62</td>\n",
       "      <td>New York</td>\n",
       "      <td>182901.99</td>\n",
       "      <td>1.554784</td>\n",
       "      <td>-0.096365</td>\n",
       "      <td>1.422210</td>\n",
       "    </tr>\n",
       "    <tr>\n",
       "      <th>4</th>\n",
       "      <td>142107.34</td>\n",
       "      <td>91391.77</td>\n",
       "      <td>366168.42</td>\n",
       "      <td>Florida</td>\n",
       "      <td>166187.94</td>\n",
       "      <td>1.504937</td>\n",
       "      <td>-1.079919</td>\n",
       "      <td>1.281528</td>\n",
       "    </tr>\n",
       "  </tbody>\n",
       "</table>\n",
       "</div>"
      ],
      "text/plain": [
       "   R&D Spend  Administration  Marketing Spend       State     Profit  \\\n",
       "0  165349.20       136897.80        471784.10    New York  192261.83   \n",
       "1  162597.70       151377.59        443898.53  California  191792.06   \n",
       "2  153441.51       101145.55        407934.54     Florida  191050.39   \n",
       "3  144372.41       118671.85        383199.62    New York  182901.99   \n",
       "4  142107.34        91391.77        366168.42     Florida  166187.94   \n",
       "\n",
       "   R&D Spend (standard units)  Administration (standard units)  \\\n",
       "0                    2.016411                         0.560753   \n",
       "1                    1.955860                         1.082807   \n",
       "2                    1.754364                        -0.728257   \n",
       "3                    1.554784                        -0.096365   \n",
       "4                    1.504937                        -1.079919   \n",
       "\n",
       "   Marketing Spend (standard units)  \n",
       "0                          2.153943  \n",
       "1                          1.923600  \n",
       "2                          1.626528  \n",
       "3                          1.422210  \n",
       "4                          1.281528  "
      ]
     },
     "execution_count": 34,
     "metadata": {},
     "output_type": "execute_result"
    }
   ],
   "source": [
    "#GIVE THE SOLUTION FOR TASK-6 IN THIS CELL:\n",
    "\n",
    "data['R&D Spend (standard units)'] = (data['R&D Spend'] - np.mean(data['R&D Spend']))/(np.std(data['R&D Spend']))\n",
    "data['Administration (standard units)'] = (data['Administration'] - np.mean(data['Administration']))/(np.std(data['Administration']))\n",
    "data['Marketing Spend (standard units)'] = (data['Marketing Spend'] - np.mean(data['Marketing Spend']))/(np.std(data['Marketing Spend']))\n",
    "data.head()"
   ]
  },
  {
   "cell_type": "markdown",
   "metadata": {},
   "source": [
    "#### Task-7 (1.5 points):\n",
    "\n",
    "Randomly shuffle (without replacement) all the rows in the dataframe **`data`**. After shuffling, pick the first 60% of the rows and store it in a variable named **`training_set`**. Pick the rest 40% of the rows and store it in a variable named **`test_set`**. Print the length of **`training_set`** and **`test_set`** to the output."
   ]
  },
  {
   "cell_type": "code",
   "execution_count": 35,
   "metadata": {},
   "outputs": [
    {
     "name": "stdout",
     "output_type": "stream",
     "text": [
      "30\n",
      "20\n"
     ]
    }
   ],
   "source": [
    "#GIVE THE SOLUTION FOR TASK-7 IN THIS CELL:\n",
    "\n",
    "random = data.sample(50, replace = False)\n",
    "training_set = random.iloc[0:30, :]\n",
    "test_set = random.iloc[30:, :]\n",
    "\n",
    "print(len(training_set))\n",
    "print(len(test_set))"
   ]
  },
  {
   "cell_type": "markdown",
   "metadata": {},
   "source": [
    "#### Task-8 (1.5 points):\n",
    "\n",
    "Index and pick the 3 feature columns in standard units from the **`training_set`** and the **`test_set`**, and store them as NumPy arrays in variables named **`x_train`** and **`x_test`**, respectively. Similary, index and pick the column named **`Profit`** from the **`training_set`** and the **`test_set`** and store them as NumPy arrays in variables named **`y_train`** and **`y_test`**. Make sure you convert **`y_train`** and **`y_test`** to a 2D NumPy array using the **`reshape()`** function in the NumPy library. Print the shape of **`x_train`**, **`x_test`**, **`y_train`**, and **`y_test`** to the output."
   ]
  },
  {
   "cell_type": "code",
   "execution_count": 36,
   "metadata": {},
   "outputs": [
    {
     "name": "stdout",
     "output_type": "stream",
     "text": [
      "x_train_Shape: (30, 3)\n",
      "y_train_Shape: (30, 1)\n",
      "x_test_Shape: (20, 3)\n",
      "y_test_Shape: (20, 1)\n"
     ]
    }
   ],
   "source": [
    "#GIVE THE SOLUTION FOR TASK-8 IN THIS CELL:\n",
    "\n",
    "x_train = training_set.iloc[:, 5:8].values\n",
    "y_train = training_set.iloc[:, 4].values\n",
    "y_train = np.reshape(y_train, (len(y_train), 1))\n",
    "\n",
    "x_test = test_set.iloc[:, 5:8].values\n",
    "y_test = test_set.iloc[:, 4].values\n",
    "y_test = np.reshape(y_test, (len(y_test), 1))\n",
    "\n",
    "print(\"x_train_Shape:\", np.shape(x_train))\n",
    "print(\"y_train_Shape:\", np.shape(y_train))\n",
    "\n",
    "print(\"x_test_Shape:\", np.shape(x_test))\n",
    "print(\"y_test_Shape:\", np.shape(y_test))"
   ]
  },
  {
   "cell_type": "markdown",
   "metadata": {},
   "source": [
    "#### Task-9 (1.5 points):\n",
    "\n",
    "Transpose **`x_train`** and store it in a variable named **`x_train_trans`**. Vertically stack a row of ones to **`x_train_trans`** and store it in a variable named **`x_train_Aug`**. Similarly, transpose **`x_test`** and store it in a variable named **`x_test_trans`**. Vertically stack a row of ones to **`x_test_trans`** and store it in a variable named **`x_test_Aug`**. Print the shape of **`x_train_Aug`** and **`x_test_Aug`** to the output.  "
   ]
  },
  {
   "cell_type": "code",
   "execution_count": 37,
   "metadata": {},
   "outputs": [
    {
     "name": "stdout",
     "output_type": "stream",
     "text": [
      "x_train_Aug: (4, 30)\n",
      "x_test_Aug: (4, 20)\n"
     ]
    }
   ],
   "source": [
    "#GIVE THE SOLUTION FOR TASK-9 IN THIS CELL:\n",
    "\n",
    "x_train_trans = np.transpose(x_train)\n",
    "x_train_Aug = np.vstack((np.ones((1,len(x_train))),x_train_trans))\n",
    "print(\"x_train_Aug:\", np.shape(x_train_Aug))\n",
    "\n",
    "x_test_trans = np.transpose(x_test)\n",
    "x_test_Aug = np.vstack((np.ones((1,len(x_test))),x_test_trans))\n",
    "print(\"x_test_Aug:\", np.shape(x_test_Aug))"
   ]
  },
  {
   "cell_type": "markdown",
   "metadata": {},
   "source": [
    "#### Task-10 (1 point):\n",
    "\n",
    "Create a 2D NumPy array of zeros and store it in a variable named **`theta`**. Print the shape of **`theta`** to the output. "
   ]
  },
  {
   "cell_type": "code",
   "execution_count": 38,
   "metadata": {},
   "outputs": [
    {
     "name": "stdout",
     "output_type": "stream",
     "text": [
      "theta: (4, 1)\n"
     ]
    }
   ],
   "source": [
    "#GIVE THE SOLUTION FOR TASK-10 IN THIS CELL:\n",
    "\n",
    "theta = np.zeros((4,1))\n",
    "print(\"theta:\", np.shape(theta))"
   ]
  },
  {
   "cell_type": "markdown",
   "metadata": {},
   "source": [
    "#### Task-11 (2 points):\n",
    "\n",
    "Implement the gradient descent algorithm and make it run for 10,000 iterations. Make sure you append all the cost function values that you get during each of the 10,000 iterations to an empty list named **`costfunc`**. Print the length of **`costfunc`** and the final theta values stored in a variable named **`theta`** to the output. "
   ]
  },
  {
   "cell_type": "code",
   "execution_count": 39,
   "metadata": {},
   "outputs": [
    {
     "name": "stdout",
     "output_type": "stream",
     "text": [
      "10000\n",
      "[[111343.63849707]\n",
      " [ 33745.13575873]\n",
      " [   155.41368268]\n",
      " [  6289.21089416]]\n"
     ]
    }
   ],
   "source": [
    "#GIVE THE SOLUTION FOR TASK-11 IN THIS CELL:\n",
    "\n",
    "no_of_iter = np.arange(1, 10001)\n",
    "alpha = 0.003\n",
    "m_train = len(x_train)\n",
    "m_test = len(x_test)\n",
    "\n",
    "costfunc = []\n",
    "\n",
    "for i in no_of_iter:\n",
    "    z = np.transpose(theta)@x_train_Aug\n",
    "    cf = (1/(2*m_train))*(np.sum((np.transpose(z)-y_train)**2)) \n",
    "    costfunc.append(cf)\n",
    "    delthetaj = (1/m_train)*((x_train_Aug)@(np.transpose(z)-y_train)) \n",
    "    theta = theta - (alpha*delthetaj) \n",
    "    \n",
    "print(len(costfunc))\n",
    "print(theta)"
   ]
  },
  {
   "cell_type": "markdown",
   "metadata": {},
   "source": [
    "#### Task-12 (1 point):\n",
    "\n",
    "Predict the profit in dollars using the theta values obtained in task-11 and **`x_train_Aug`**, and store the predicted values in a variable named **`h_theta`**. Transpose **`h_theta`** and store it in a variable named **`y_train_pred`**. Plot a scatter plot for **`y_train_pred`** vs. **`y_train`**. Also, draw a line plot using the minimum and maximum values of **`y_train`** and **`y_train_pred`**. The plot must diplay appropriate x-label, y-label, and title. "
   ]
  },
  {
   "cell_type": "code",
   "execution_count": 40,
   "metadata": {},
   "outputs": [
    {
     "data": {
      "text/plain": [
       "Text(0.5, 1.0, 'Predictions vs. actual values in the training set')"
      ]
     },
     "execution_count": 40,
     "metadata": {},
     "output_type": "execute_result"
    },
    {
     "data": {
      "image/png": "[encoded data removed]",
      "text/plain": [
       "<Figure size 432x288 with 1 Axes>"
      ]
     },
     "metadata": {
      "needs_background": "light"
     },
     "output_type": "display_data"
    }
   ],
   "source": [
    "#GIVE THE SOLUTION FOR TASK-12 IN THIS CELL:\n",
    "\n",
    "h_theta = np.transpose(theta)@x_train_Aug\n",
    "y_train_pred = np.transpose(h_theta)\n",
    "\n",
    "plt.scatter(y_train, y_train_pred, color='r')\n",
    "plt.plot([y_train.min(), y_train.max()], [y_train_pred.min(), y_train_pred.max()], color = 'black', lw=2)\n",
    "plt.xlabel(\"Y_train\")\n",
    "plt.ylabel(\"Y_train_pred\")\n",
    "plt.title(\"Predictions vs. actual values in the training set\")"
   ]
  },
  {
   "cell_type": "markdown",
   "metadata": {},
   "source": [
    "#### Task-13 (1 point):\n",
    "\n",
    "Predict the profit in dollars using the theta values obtained in task-11 and **`x_test_Aug`**, and store the predicted values in a variable named **`h_theta`**. Transpose **`h_theta`** and store it in a variable named **`y_test_pred`**. Plot a scatter plot for **`y_test_pred`** vs. **`y_test`**. Also, draw a line plot using the minimum and maximum values of **`y_test`** and **`y_test_pred`**. The plot must diplay appropriate x-label, y-label, and title. "
   ]
  },
  {
   "cell_type": "code",
   "execution_count": 41,
   "metadata": {},
   "outputs": [
    {
     "data": {
      "text/plain": [
       "Text(0.5, 1.0, 'Predictions vs. actual values in the test set')"
      ]
     },
     "execution_count": 41,
     "metadata": {},
     "output_type": "execute_result"
    },
    {
     "data": {
      "image/png": "[encoded data removed]",
      "text/plain": [
       "<Figure size 432x288 with 1 Axes>"
      ]
     },
     "metadata": {
      "needs_background": "light"
     },
     "output_type": "display_data"
    }
   ],
   "source": [
    "#GIVE THE SOLUTION FOR TASK-13 IN THIS CELL:\n",
    "\n",
    "h_theta = np.transpose(theta)@x_test_Aug\n",
    "y_test_pred = np.transpose(h_theta)\n",
    "\n",
    "plt.scatter(y_test, y_test_pred, color='r')\n",
    "plt.plot([y_test.min(), y_test.max()], [y_test_pred.min(), y_test_pred.max()], color = 'black', lw=2)\n",
    "plt.xlabel(\"Y_test\")\n",
    "plt.ylabel(\"Y_test_pred\")\n",
    "plt.title(\"Predictions vs. actual values in the test set\")"
   ]
  },
  {
   "cell_type": "markdown",
   "metadata": {},
   "source": [
    "#### Task-14 (1 point):\n",
    "\n",
    "Make a line plot of cost function vs. number of iterations. The plot must diplay appropriate x-label, y-label, and title."
   ]
  },
  {
   "cell_type": "code",
   "execution_count": 42,
   "metadata": {},
   "outputs": [
    {
     "data": {
      "text/plain": [
       "Text(0.5, 1.0, 'Cost function vs. number of iterations')"
      ]
     },
     "execution_count": 42,
     "metadata": {},
     "output_type": "execute_result"
    },
    {
     "data": {
      "image/png": "[encoded data removed]",
      "text/plain": [
       "<Figure size 432x288 with 1 Axes>"
      ]
     },
     "metadata": {
      "needs_background": "light"
     },
     "output_type": "display_data"
    }
   ],
   "source": [
    "#GIVE THE SOLUTION FOR TASK-14 IN THIS CELL:\n",
    "\n",
    "plt.plot(no_of_iter,costfunc,color='r',linewidth = '3')\n",
    "plt.xlabel(\"Number of iterations\")\n",
    "plt.ylabel(\"Cost function\")\n",
    "plt.title(\"Cost function vs. number of iterations\")"
   ]
  },
  {
   "cell_type": "markdown",
   "metadata": {},
   "source": [
    "#### Task-15 (1 point):\n",
    "\n",
    "Compute the MSE and the RMSE values between the **`y_train`** and **`y_train_pred`**, and store them in variables named **`MSE_train`** and **`RMSE_train`**, respectively. Print **`MSE_train`** and **`RMSE_train`** to the output."
   ]
  },
  {
   "cell_type": "code",
   "execution_count": 43,
   "metadata": {},
   "outputs": [
    {
     "name": "stdout",
     "output_type": "stream",
     "text": [
      "99515791.03286718\n",
      "9975.760173183153\n"
     ]
    }
   ],
   "source": [
    "#GIVE THE SOLUTION FOR TASK-15 IN THIS CELL:\n",
    "\n",
    "MSE_train = (1/m_train)*(np.sum((y_train-y_train_pred)**2))\n",
    "RMSE_train = np.sqrt(MSE_train)\n",
    "\n",
    "print(MSE_train)\n",
    "print(RMSE_train)"
   ]
  },
  {
   "cell_type": "markdown",
   "metadata": {},
   "source": [
    "#### Task-16 (1 point):\n",
    "\n",
    "Compute the MSE and the RMSE values between the **`y_test`** and **`y_test_pred`**, and store them in variables named **`MSE_test`** and **`RMSE_test`**, respectively. Print **`MSE_test`** and **`RMSE_test`** to the output."
   ]
  },
  {
   "cell_type": "code",
   "execution_count": 44,
   "metadata": {},
   "outputs": [
    {
     "name": "stdout",
     "output_type": "stream",
     "text": [
      "58229142.686960496\n",
      "7630.802230890307\n"
     ]
    }
   ],
   "source": [
    "#GIVE THE SOLUTION FOR TASK-16 IN THIS CELL:\n",
    "\n",
    "MSE_test = (1/m_test)*(np.sum((y_test-y_test_pred)**2))\n",
    "RMSE_test = np.sqrt(MSE_test)\n",
    "\n",
    "print(MSE_test)\n",
    "print(RMSE_test)"
   ]
  },
  {
   "cell_type": "markdown",
   "metadata": {},
   "source": [
    "**If you run task-7 to task-16 again and again, randomly picking up different training sets and test sets, some of the times you will see that the predictions on test set are good whereas other times it is somewhat bad. This is probably due to very less sample size (only 50 rows in the dataset). One way to solve this problem is to bootstrap the given sample dataset of 50 rows, repeat the above algorithm for each of those resamples, and get an estimate of our salary predictions by building a specific confidence interval. In other words, you have to repeat the above algorithm inside a for loop for many resamples. Always be aware of datasets with less sample size.**"
   ]
  },
  {
   "cell_type": "markdown",
   "metadata": {},
   "source": [
    "# -----------------------------------------END OF PROBLEM-3----------------------------------------"
   ]
  },
  {
   "cell_type": "markdown",
   "metadata": {},
   "source": [
    "## Bonus problem (Total points: 15)"
   ]
  },
  {
   "cell_type": "markdown",
   "metadata": {},
   "source": [
    "#### Problem Description:\n",
    "\n",
    "Implement problem-3 but this time using the Scikit-Learn library. Make sure that the size of the training set and the size of the test set are the same as problem-3."
   ]
  },
  {
   "cell_type": "code",
   "execution_count": 20,
   "metadata": {},
   "outputs": [
    {
     "data": {
      "text/html": [
       "<div>\n",
       "<style scoped>\n",
       "    .dataframe tbody tr th:only-of-type {\n",
       "        vertical-align: middle;\n",
       "    }\n",
       "\n",
       "    .dataframe tbody tr th {\n",
       "        vertical-align: top;\n",
       "    }\n",
       "\n",
       "    .dataframe thead th {\n",
       "        text-align: right;\n",
       "    }\n",
       "</style>\n",
       "<table border=\"1\" class=\"dataframe\">\n",
       "  <thead>\n",
       "    <tr style=\"text-align: right;\">\n",
       "      <th></th>\n",
       "      <th>R&amp;D Spend</th>\n",
       "      <th>Administration</th>\n",
       "      <th>Marketing Spend</th>\n",
       "      <th>State</th>\n",
       "      <th>Profit</th>\n",
       "    </tr>\n",
       "  </thead>\n",
       "  <tbody>\n",
       "    <tr>\n",
       "      <th>0</th>\n",
       "      <td>165349.20</td>\n",
       "      <td>136897.80</td>\n",
       "      <td>471784.10</td>\n",
       "      <td>New York</td>\n",
       "      <td>192261.83</td>\n",
       "    </tr>\n",
       "    <tr>\n",
       "      <th>1</th>\n",
       "      <td>162597.70</td>\n",
       "      <td>151377.59</td>\n",
       "      <td>443898.53</td>\n",
       "      <td>California</td>\n",
       "      <td>191792.06</td>\n",
       "    </tr>\n",
       "    <tr>\n",
       "      <th>2</th>\n",
       "      <td>153441.51</td>\n",
       "      <td>101145.55</td>\n",
       "      <td>407934.54</td>\n",
       "      <td>Florida</td>\n",
       "      <td>191050.39</td>\n",
       "    </tr>\n",
       "    <tr>\n",
       "      <th>3</th>\n",
       "      <td>144372.41</td>\n",
       "      <td>118671.85</td>\n",
       "      <td>383199.62</td>\n",
       "      <td>New York</td>\n",
       "      <td>182901.99</td>\n",
       "    </tr>\n",
       "    <tr>\n",
       "      <th>4</th>\n",
       "      <td>142107.34</td>\n",
       "      <td>91391.77</td>\n",
       "      <td>366168.42</td>\n",
       "      <td>Florida</td>\n",
       "      <td>166187.94</td>\n",
       "    </tr>\n",
       "  </tbody>\n",
       "</table>\n",
       "</div>"
      ],
      "text/plain": [
       "   R&D Spend  Administration  Marketing Spend       State     Profit\n",
       "0  165349.20       136897.80        471784.10    New York  192261.83\n",
       "1  162597.70       151377.59        443898.53  California  191792.06\n",
       "2  153441.51       101145.55        407934.54     Florida  191050.39\n",
       "3  144372.41       118671.85        383199.62    New York  182901.99\n",
       "4  142107.34        91391.77        366168.42     Florida  166187.94"
      ]
     },
     "execution_count": 20,
     "metadata": {},
     "output_type": "execute_result"
    }
   ],
   "source": [
    "#GIVE THE SOLUTION FOR BONUS PROBLEM IN THIS CELL. YOU CAN ALSO GIVE THE SOLUTION IN MULTIPLE CELLS.\n",
    "\n",
    "startup.head()"
   ]
  },
  {
   "cell_type": "code",
   "execution_count": 21,
   "metadata": {},
   "outputs": [
    {
     "name": "stdout",
     "output_type": "stream",
     "text": [
      "   R&D Spend  Administration  Marketing Spend\n",
      "0  165349.20       136897.80        471784.10\n",
      "1  162597.70       151377.59        443898.53\n",
      "2  153441.51       101145.55        407934.54\n",
      "3  144372.41       118671.85        383199.62\n",
      "4  142107.34        91391.77        366168.42\n",
      "0    192261.83\n",
      "1    191792.06\n",
      "2    191050.39\n",
      "3    182901.99\n",
      "4    166187.94\n",
      "Name: Profit, dtype: float64\n"
     ]
    }
   ],
   "source": [
    "x = startup.iloc[:, 0:3]\n",
    "y = startup.iloc[:, 4]\n",
    "\n",
    "print(x.head())\n",
    "print(y.head())"
   ]
  },
  {
   "cell_type": "code",
   "execution_count": 22,
   "metadata": {},
   "outputs": [
    {
     "data": {
      "text/plain": [
       "array([[ 2.01641149e+00,  5.60752915e-01,  2.15394309e+00],\n",
       "       [ 1.95586034e+00,  1.08280658e+00,  1.92360040e+00],\n",
       "       [ 1.75436374e+00, -7.28257028e-01,  1.62652767e+00],\n",
       "       [ 1.55478369e+00, -9.63646307e-02,  1.42221024e+00],\n",
       "       [ 1.50493720e+00, -1.07991935e+00,  1.28152771e+00],\n",
       "       [ 1.27980001e+00, -7.76239071e-01,  1.25421046e+00],\n",
       "       [ 1.34006641e+00,  9.32147208e-01, -6.88149930e-01],\n",
       "       [ 1.24505666e+00,  8.71980011e-01,  9.32185978e-01],\n",
       "       [ 1.03036886e+00,  9.86952101e-01,  8.30886909e-01],\n",
       "       [ 1.09181921e+00, -4.56640246e-01,  7.76107440e-01],\n",
       "       [ 6.20398248e-01, -3.87599089e-01,  1.49807267e-01],\n",
       "       [ 5.93085418e-01, -1.06553960e+00,  3.19833623e-01],\n",
       "       [ 4.43259872e-01,  2.15449064e-01,  3.20617441e-01],\n",
       "       [ 4.02077603e-01,  5.10178953e-01,  3.43956788e-01],\n",
       "       [ 1.01718075e+00,  1.26919939e+00,  3.75742273e-01],\n",
       "       [ 8.97913123e-01,  4.58678535e-02,  4.19218702e-01],\n",
       "       [ 9.44411957e-02,  9.11841968e-03,  4.40446224e-01],\n",
       "       [ 4.60720127e-01,  8.55666318e-01,  5.91016724e-01],\n",
       "       [ 3.96724938e-01, -2.58465367e-01,  6.92992062e-01],\n",
       "       [ 2.79441650e-01,  1.15983657e+00, -1.74312698e+00],\n",
       "       [ 5.57260867e-02, -2.69587651e-01,  7.23925995e-01],\n",
       "       [ 1.02723599e-01,  1.16918609e+00,  7.32787791e-01],\n",
       "       [ 6.00657792e-03,  5.18495648e-02,  7.62375876e-01],\n",
       "       [-1.36200724e-01, -5.62211268e-01,  7.74348908e-01],\n",
       "       [ 7.31146008e-02, -7.95469167e-01, -5.81939297e-01],\n",
       "       [-1.99311688e-01,  6.56489139e-01, -6.03516725e-01],\n",
       "       [ 3.53702028e-02,  8.21717916e-01, -6.35835495e-01],\n",
       "       [-3.55189938e-02,  2.35068543e-01,  1.17427116e+00],\n",
       "       [-1.68792717e-01,  2.21014050e+00, -7.67189437e-01],\n",
       "       [-1.78608540e-01,  1.14245677e+00, -8.58133663e-01],\n",
       "       [-2.58074369e-01, -2.05628659e-01, -9.90357166e-01],\n",
       "       [-2.76958231e-01,  1.13055391e+00, -1.01441945e+00],\n",
       "       [-2.26948675e-01,  2.83923813e-01, -1.36244978e+00],\n",
       "       [-4.01128925e-01, -6.59324033e-01,  2.98172434e-02],\n",
       "       [-6.00682122e-01,  1.31053525e+00, -1.87861793e-03],\n",
       "       [-6.09749941e-01, -1.30865753e+00, -4.54931587e-02],\n",
       "       [-9.91570153e-01,  2.05924691e-01, -8.17625734e-02],\n",
       "       [-6.52532310e-01, -2.52599402e+00, -1.15608256e-01],\n",
       "       [-1.17717755e+00, -1.99727037e+00, -2.12784866e-01],\n",
       "       [-7.73820359e-01, -1.38312156e+00, -2.97583276e-01],\n",
       "       [-9.89577015e-01, -1.00900218e-01, -3.15785883e-01],\n",
       "       [-1.00853372e+00, -1.32079581e+00, -3.84552407e-01],\n",
       "       [-1.10210556e+00, -9.06937535e-01, -5.20595959e-01],\n",
       "       [-1.28113364e+00,  2.17681524e-01, -1.44960468e+00],\n",
       "       [-1.13430539e+00,  1.20641936e+00, -1.50907418e+00],\n",
       "       [-1.60035036e+00,  1.01253936e-01, -1.72739998e+00],\n",
       "       [-1.59341322e+00, -1.99321741e-01,  7.11122474e-01],\n",
       "       [-1.62236202e+00,  5.07721876e-01, -1.74312698e+00],\n",
       "       [-1.61043334e+00, -2.50940884e+00, -1.74312698e+00],\n",
       "       [-1.62236202e+00, -1.57225506e-01, -1.36998473e+00]])"
      ]
     },
     "execution_count": 22,
     "metadata": {},
     "output_type": "execute_result"
    }
   ],
   "source": [
    "from sklearn.preprocessing import StandardScaler\n",
    "sc_x = StandardScaler()\n",
    "x = sc_x.fit_transform(x.astype(float))\n",
    "x"
   ]
  },
  {
   "cell_type": "code",
   "execution_count": 23,
   "metadata": {},
   "outputs": [],
   "source": [
    "from sklearn.model_selection import train_test_split\n",
    "x_train, x_test, y_train, y_test = train_test_split(x, y, test_size=0.40)"
   ]
  },
  {
   "cell_type": "code",
   "execution_count": 24,
   "metadata": {},
   "outputs": [
    {
     "name": "stdout",
     "output_type": "stream",
     "text": [
      "[39734.6780767  -3048.14307058  1089.96040006]\n",
      "112604.59111728868\n"
     ]
    }
   ],
   "source": [
    "from sklearn.linear_model import LinearRegression\n",
    "lm = LinearRegression()\n",
    "lm.fit(x_train,y_train)\n",
    "\n",
    "print(lm.coef_)\n",
    "print(lm.intercept_)"
   ]
  },
  {
   "cell_type": "code",
   "execution_count": 25,
   "metadata": {},
   "outputs": [
    {
     "data": {
      "text/plain": [
       "Text(0.5, 1.0, 'Predictions vs. actual values in the training set')"
      ]
     },
     "execution_count": 25,
     "metadata": {},
     "output_type": "execute_result"
    },
    {
     "data": {
      "image/png": "[encoded data removed]",
      "text/plain": [
       "<Figure size 432x288 with 1 Axes>"
      ]
     },
     "metadata": {
      "needs_background": "light"
     },
     "output_type": "display_data"
    }
   ],
   "source": [
    "y_train_pred = lm.predict(x_train)\n",
    "\n",
    "plt.scatter(y_train,y_train_pred,color='r')\n",
    "plt.plot([y_train.min(), y_train.max()], [y_train_pred.min(), y_train_pred.max()], color = 'black', lw=2)\n",
    "plt.xlabel(\"Y_train\")\n",
    "plt.ylabel(\"Y_train_pred\")\n",
    "plt.title(\"Predictions vs. actual values in the training set\")"
   ]
  },
  {
   "cell_type": "code",
   "execution_count": 26,
   "metadata": {},
   "outputs": [
    {
     "data": {
      "text/plain": [
       "Text(0.5, 1.0, 'Predictions vs. actual values in the test set')"
      ]
     },
     "execution_count": 26,
     "metadata": {},
     "output_type": "execute_result"
    },
    {
     "data": {
      "image/png": "[encoded data removed]",
      "text/plain": [
       "<Figure size 432x288 with 1 Axes>"
      ]
     },
     "metadata": {
      "needs_background": "light"
     },
     "output_type": "display_data"
    }
   ],
   "source": [
    "y_test_pred = lm.predict(x_test)\n",
    "\n",
    "plt.scatter(y_test,y_test_pred,color='r')\n",
    "plt.plot([y_test.min(), y_test.max()], [y_test_pred.min(), y_test_pred.max()], color = 'black', lw=2)\n",
    "plt.xlabel(\"Y_test\")\n",
    "plt.ylabel(\"Y_test_pred\")\n",
    "plt.title(\"Predictions vs. actual values in the test set\")"
   ]
  },
  {
   "cell_type": "code",
   "execution_count": 27,
   "metadata": {},
   "outputs": [
    {
     "name": "stdout",
     "output_type": "stream",
     "text": [
      "79620548.81018957\n",
      "8923.034730975196\n"
     ]
    }
   ],
   "source": [
    "from sklearn import metrics\n",
    "\n",
    "MSE_train = metrics.mean_squared_error(y_train, y_train_pred)\n",
    "RMSE_train = np.sqrt(MSE_train)   \n",
    "                                       \n",
    "print(MSE_train)\n",
    "print(RMSE_train)"
   ]
  },
  {
   "cell_type": "code",
   "execution_count": 28,
   "metadata": {},
   "outputs": [
    {
     "name": "stdout",
     "output_type": "stream",
     "text": [
      "92836968.038863\n",
      "9635.19423980975\n"
     ]
    }
   ],
   "source": [
    "MSE_test = metrics.mean_squared_error(y_test, y_test_pred)\n",
    "RMSE_test = np.sqrt(MSE_test)  \n",
    "\n",
    "print(MSE_test)\n",
    "print(RMSE_test)"
   ]
  },
  {
   "cell_type": "markdown",
   "metadata": {},
   "source": [
    "# -----------------------------------------END OF BONUS PROBLEM-------------------------------"
   ]
  },
  {
   "cell_type": "markdown",
   "metadata": {},
   "source": [
    "**<span style=\"color:red\">I affirm that I have not given or received any unauthorized help on this part-2 of the midterm-3 exam, and that this work is my own. I understand that representation of the work of another student as my own or sharing answers with another student will be grounds for receiving a failing grade in the course.**\n",
    "\n",
    "**<span style=\"color:red\">I have read the above statement carefully.**\n",
    "\n",
    "**<span style=\"color:red\">YOUR FULL NAME:**"
   ]
  },
  {
   "cell_type": "markdown",
   "metadata": {},
   "source": [
    "# ---------------------------END OF PART-2 OF MIDTERM-3 EXAM---------------------------"
   ]
  }
 ],
 "metadata": {
  "kernelspec": {
   "display_name": "Python 3",
   "language": "python",
   "name": "python3"
  },
  "language_info": {
   "codemirror_mode": {
    "name": "ipython",
    "version": 3
   },
   "file_extension": ".py",
   "mimetype": "text/x-python",
   "name": "python",
   "nbconvert_exporter": "python",
   "pygments_lexer": "ipython3",
   "version": "3.7.1"
  }
 },
 "nbformat": 4,
 "nbformat_minor": 2
}
