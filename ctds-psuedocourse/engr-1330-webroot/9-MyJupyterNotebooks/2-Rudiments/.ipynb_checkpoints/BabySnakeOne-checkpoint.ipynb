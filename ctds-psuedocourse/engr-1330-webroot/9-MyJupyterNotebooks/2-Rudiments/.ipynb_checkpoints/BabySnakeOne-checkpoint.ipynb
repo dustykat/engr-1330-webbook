{
 "cells": [
  {
   "cell_type": "markdown",
   "metadata": {},
   "source": [
    "# Rudimentary Python (aka Baby Snakes)\n"
   ]
  },
  {
   "cell_type": "code",
   "execution_count": 2,
   "metadata": {},
   "outputs": [
    {
     "name": "stdout",
     "output_type": "stream",
     "text": [
      "Sup World?\n",
      "5\n",
      "3 + 2\n",
      "Dusty 5\n",
      "Dusty 5\n"
     ]
    }
   ],
   "source": [
    "# Exercise 1.1 Script\n",
    "print( 'Sup World?')\n",
    "print( 3 + 2 )\n",
    "print( '3 + 2')\n",
    "MyNumber = 3+2\n",
    "MyName = 'Dusty'\n",
    "print( MyName, MyNumber)"
   ]
  },
  {
   "cell_type": "markdown",
   "metadata": {},
   "source": [
    "What is the difference between print( 3 + 2 ) and print( '3 + 2')?\n",
    "Change MyNumber = 3+2 to MyNumber = 3+2.0, and re-run the script, what happens?"
   ]
  },
  {
   "cell_type": "code",
   "execution_count": 3,
   "metadata": {},
   "outputs": [
    {
     "name": "stdout",
     "output_type": "stream",
     "text": [
      "Sup World?\n",
      "5\n",
      "3 + 2\n",
      "Dusty 5.0\n"
     ]
    }
   ],
   "source": [
    "print( 'Sup World?')\n",
    "print( 3 + 2 )\n",
    "print( '3 + 2')\n",
    "MyNumber = 3+2.0\n",
    "MyName = 'Dusty'\n",
    "print( MyName, MyNumber)"
   ]
  },
  {
   "cell_type": "markdown",
   "metadata": {},
   "source": [
    "Use the internet and search for Python variable types. Design  a simple script that illustrates the following types of variables:\n",
    "    \n",
    "    integer\n",
    "    floating point (real)\n",
    "    string (alphanumeric)\n",
    "    logical\n"
   ]
  },
  {
   "cell_type": "code",
   "execution_count": 18,
   "metadata": {},
   "outputs": [
    {
     "name": "stdout",
     "output_type": "stream",
     "text": [
      "What's up?\n",
      "2\n",
      "2.0\n",
      "True\n",
      "string_theory =  What's up? Type =  <class 'str'>\n",
      "integer_type =  2 Type =  <class 'int'>\n",
      "floating_point =  2.0 Type =  <class 'float'>\n",
      "logical_type =  True Type =  <class 'bool'>\n"
     ]
    }
   ],
   "source": [
    "# Demonstrate variable types\n",
    "string_theory = \"What's up?\"\n",
    "integer_type = 2\n",
    "floating_point = 2.0\n",
    "logical_type = True\n",
    "print(string_theory) # prints contents of string without literal delimiter (the quotes)\n",
    "print(integer_type)\n",
    "print(floating_point)\n",
    "print(logical_type)\n",
    "print(\"string_theory = \",string_theory,\"Type = \",type(string_theory))\n",
    "print(\"integer_type = \",integer_type,\"Type = \",type(integer_type))\n",
    "print(\"floating_point = \",floating_point,\"Type = \",type(floating_point))\n",
    "print(\"logical_type = \",logical_type,\"Type = \",type(logical_type))\n"
   ]
  },
  {
   "cell_type": "code",
   "execution_count": null,
   "metadata": {},
   "outputs": [],
   "source": []
  }
 ],
 "metadata": {
  "kernelspec": {
   "display_name": "Python 3",
   "language": "python",
   "name": "python3"
  },
  "language_info": {
   "codemirror_mode": {
    "name": "ipython",
    "version": 3
   },
   "file_extension": ".py",
   "mimetype": "text/x-python",
   "name": "python",
   "nbconvert_exporter": "python",
   "pygments_lexer": "ipython3",
   "version": "3.8.2"
  }
 },
 "nbformat": 4,
 "nbformat_minor": 4
}
