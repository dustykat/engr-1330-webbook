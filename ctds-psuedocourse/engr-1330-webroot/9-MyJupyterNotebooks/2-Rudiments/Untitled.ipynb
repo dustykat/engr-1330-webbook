{
 "cells": [
  {
   "cell_type": "markdown",
   "metadata": {},
   "source": [
    "# Rudimentary Python (aka Baby Snakes)\n",
    "More on variables, their types, uses and such.\n",
    "\n",
    "## Variables and Operators\n",
    "Variables are names given to data that we want to store and manipulate in programs. A\n",
    "variable has a name and a value. The value representation depends on what type of object\n",
    "the variable represents. \n",
    "\n",
    "The utility of variables comes in when we have a structure that is universal, but values of\n",
    "variables within the structure will change -- otherwise it would be simple enough to just\n",
    "hardwire the arithmetic.\n",
    "\n",
    "Suppose we want to store the time of concentration for some hydrologic calculation. To do\n",
    "so, we can name the variable ``TimeOfConcentration``, and then assign a value to the variable,\n",
    "for instance:\n",
    "\n",
    "    TimeOfConcentration = 0.0\n",
    "    \n",
    "After this assignment statement the variable is created in the program and has a value of\n",
    "0.0. The use of a decimal point in the initial assignment establishes the variable as a \n",
    "float (a real variable is called a floating point representation -- or just a float).\n",
    "\n",
    "We can define multiple variables on a single line if we wish like:\n",
    "\n",
    "    TimeOfConcentration = 0.0; Area= 0.0; Depth = 0.0\n",
    "\n",
    "I personally don't like multiple definitions on a single line, i find it makes the code hard to\n",
    "maintain, but the choice is individual preference -- there is certainly logic in grouping items\n",
    "that are related together so if you like that approach then by all means use it.\n",
    "\n",
    "The code fragment below illustrates the creation/assignments:"
   ]
  },
  {
   "cell_type": "code",
   "execution_count": 4,
   "metadata": {},
   "outputs": [
    {
     "name": "stdout",
     "output_type": "stream",
     "text": [
      "0.0\n"
     ]
    },
    {
     "ename": "NameError",
     "evalue": "name 'Area' is not defined",
     "output_type": "error",
     "traceback": [
      "\u001b[0;31m---------------------------------------------------------------------------\u001b[0m",
      "\u001b[0;31mNameError\u001b[0m                                 Traceback (most recent call last)",
      "\u001b[0;32m<ipython-input-4-5bb62c192dde>\u001b[0m in \u001b[0;36m<module>\u001b[0;34m\u001b[0m\n\u001b[1;32m      2\u001b[0m \u001b[0mTimeOfConcentration\u001b[0m \u001b[0;34m=\u001b[0m \u001b[0;36m0.0\u001b[0m\u001b[0;34m\u001b[0m\u001b[0;34m\u001b[0m\u001b[0m\n\u001b[1;32m      3\u001b[0m \u001b[0mprint\u001b[0m\u001b[0;34m(\u001b[0m\u001b[0mTimeOfConcentration\u001b[0m\u001b[0;34m)\u001b[0m\u001b[0;34m\u001b[0m\u001b[0;34m\u001b[0m\u001b[0m\n\u001b[0;32m----> 4\u001b[0;31m \u001b[0mprint\u001b[0m\u001b[0;34m(\u001b[0m\u001b[0mArea\u001b[0m\u001b[0;34m)\u001b[0m \u001b[0;31m# Not yet defined\u001b[0m\u001b[0;34m\u001b[0m\u001b[0;34m\u001b[0m\u001b[0m\n\u001b[0m",
      "\u001b[0;31mNameError\u001b[0m: name 'Area' is not defined"
     ]
    }
   ],
   "source": [
    "%reset -f\n",
    "TimeOfConcentration = 0.0\n",
    "print(TimeOfConcentration)\n",
    "print(Area) # Not yet defined"
   ]
  },
  {
   "cell_type": "markdown",
   "metadata": {},
   "source": [
    "What is the difference between print( 3 + 2 ) and print( '3 + 2')?\n",
    "Change MyNumber = 3+2 to MyNumber = 3+2.0, and re-run the script, what happens?"
   ]
  },
  {
   "cell_type": "code",
   "execution_count": 5,
   "metadata": {},
   "outputs": [
    {
     "name": "stdout",
     "output_type": "stream",
     "text": [
      "0.0\n",
      "0.0\n"
     ]
    }
   ],
   "source": [
    "TimeOfConcentration = 0.0; Area= 0.0; Depth = 0.0\n",
    "print(TimeOfConcentration)\n",
    "print(Area) # Now defined!"
   ]
  },
  {
   "cell_type": "code",
   "execution_count": null,
   "metadata": {},
   "outputs": [],
   "source": []
  }
 ],
 "metadata": {
  "kernelspec": {
   "display_name": "Python 3",
   "language": "python",
   "name": "python3"
  },
  "language_info": {
   "codemirror_mode": {
    "name": "ipython",
    "version": 3
   },
   "file_extension": ".py",
   "mimetype": "text/x-python",
   "name": "python",
   "nbconvert_exporter": "python",
   "pygments_lexer": "ipython3",
   "version": "3.8.2"
  }
 },
 "nbformat": 4,
 "nbformat_minor": 4
}
