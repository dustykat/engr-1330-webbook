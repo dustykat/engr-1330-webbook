{
 "cells": [
  {
   "cell_type": "code",
   "execution_count": 4,
   "metadata": {},
   "outputs": [
    {
     "name": "stdout",
     "output_type": "stream",
     "text": [
      "/opt/conda/envs/python/bin/python\n",
      "3.8.3 (default, Jul  2 2020, 16:21:59) \n",
      "[GCC 7.3.0]\n",
      "sys.version_info(major=3, minor=8, micro=3, releaselevel='final', serial=0)\n"
     ]
    }
   ],
   "source": [
    " # Check that have our correct Kernel running\n",
    "import sys\n",
    "print(sys.executable)\n",
    "print(sys.version)\n",
    "print(sys.version_info)"
   ]
  },
  {
   "cell_type": "markdown",
   "metadata": {},
   "source": [
    "# Predicting Solids in Rivers\n",
    "## Background\n",
    "Equations used to compute bed load transport in rivers and streams are based upon regression analysis of data collected for variables related to solids load calculations. \n",
    "However, these methods have been found to be difficult to use, too complex for practical use, and/or inadequate in terms of estimation precision. \n",
    "\\ref developed and deployed a database-search engine used to find approximate solutions of solids load transport based on model-specific input data. \n",
    "The tool is available via a web interface in an attempt to simplify and streamline sediment transport estimation. \n",
    "The search processing was all server-side, operating on a single, central database.\n",
    "\n",
    "Here we will explore the underlying database and replicate some parts of the original work.\n",
    "### \n",
    "\n",
    "## Concept of Distance in N-Dimensional Space\n",
    "The concept of distance is vital to the search engine. In the screening tool the search input values, S, Q, U, and D50 are compared to their commensurate values in the database, and a distance is computed from the search values to values in the database. The nearest values in N-dimensional distance are selected (actually by a sort) and then used for the estimation of unit solids discharge for the search values. The search engine has several different kinds of distances that the engineer may select.\n",
    "\n",
    "### Minkowski Distance\n",
    "The distance between the search values and a database record is computed using  (Tan et al., 2008).\n",
    "\n",
    "\\begin{equation}\n",
    "L_p= (|x_{1,data} - x_{1,search}|^p + |x_{2,data} - x_{2,search}|^p + \\dots + |x_{N,data} - x_{N,search}|^p)^{\\frac{1}{p}}\n",
    "\\end{equation}\n",
    "\n",
    "\n",
    "`p` represents a parameter that modifies the Minkowski distance based upon its magnitude. \n",
    "When p > 0 and integer produces a quantity known as the Minkowski distance. \n",
    "The Euclidean distance between the two vectors xdata and xsearch, which is the hypotenuse-type distance that engineers are readily familiar with, is the special case of Equation 9 when p = 2, and the distance itself is called the L2-norm. \n",
    "In many situations, the Euclidean distance is insufficient for capturing the actual distances in a given high-dimensional space if traverse of that space along a hypotenuse is infeasible. \n",
    "For example, taxi drivers in Manhattan should measure distance not in terms of the length of the straight line to their destination, but in terms of the Manhattan (taxi distance) distance, which takes into account that streets are either orthogonal or parallel to each other.\n",
    "The taxi distance is also called the L1 norm and is the special case of Equation 9 when p=1. \n",
    "This distance measures the shortest path along Cartesian axes (like city streets).\n",
    "\n",
    "When some elements are unknown (as may be the case in our searches) or the noise in the elements is substantial, the Euclidean distance is not the most appropriate measure of distance, hence the value of p is left as a variable (Erickson,2010).\n",
    "## Data Value Standardization\n",
    "The variables in the database are not expressed in the same magnitude, range, and scale. \n",
    "For example, discharge values are several orders of magnitude larger in the database than median grain diameter, hence the two are not directly comparable when computing a distance for the search algorithm. \n",
    "In such a case, one way to facilitate direct interpretation for comparing composite indices of the original data having different magnitudes and unit systems is to use normalization. \n",
    "Normalization serves the purpose of bringing the indicators into the same unit scale or unit base and makes distance computations appropriate.\n",
    "Normalizing data is done using various standardization techniques to assign a value to each variable so that they may be directly compared without unintentional bias due to differences in unit scale.\n",
    "\n",
    "### Z-score Standardization\n",
    "Z-score standardization is a commonly used normalization method that converts all indicators to a common scale with an average of zero and standard deviation of one. This transformation is the same as computing a standard-normal score for each data value. \n",
    "The average of zero avoids the introduction of aggregation distortions stemming from differences in indicators’ means. \n",
    "The scaling factor is the standard deviation of the indicator across, for instance, the velocities, slopes or unit solids discharges being ranked. \n",
    "Thus, an indicator with extreme values will have intrinsically a greater effect on the composite indicator. \n",
    "The raw score on each data entry is converted to a Z-score, then distances are calculated using the Z-scores for each variable rather than the raw value. \n",
    "Upon completion of the distance calculations and selection of the nearest neighbors, the results are transformed back into the raw values for subsequent presentation. \n",
    "Equation 10 shows the basic z-score formula used to normalize data sets (TIBCO).\n",
    "$z = \\frac{(x − μ)}{σ}$\n",
    " 33\n",
    "Equation 10\n",
    " \n",
    "### Unit-Interval [0,1] Standardization\n",
    "An alternate approach considered for the screening algorithm is an option to use a mapping of each variable in the database to a [0,1] scale and linearly weight within the scale. \n",
    "This standardization has the same goal as Z-score, which is to prevent one variable from overwhelming the distance computations because of its relative magnitude. \n",
    "The unit interval [0,1] standardization technique differs from the Z-score in that the variability is governed by the minimum and maximum value for each variable, and hence extrapolation is not feasible. \n",
    "Because extrapolation is likely necessary until new records are added to the database, this standardization method is not appropriate.\n",
    "\n",
    "### Unstandardized\n",
    "The unstandardized approach is not apprpriate because discharge and/or velocity completely dominate any search algorithm, almost to the exclusion of the other variables. \n",
    "The option was useful for method testing and database error detection but is not useful for production application."
   ]
  },
  {
   "cell_type": "code",
   "execution_count": null,
   "metadata": {},
   "outputs": [],
   "source": []
  },
  {
   "cell_type": "code",
   "execution_count": null,
   "metadata": {},
   "outputs": [],
   "source": []
  },
  {
   "cell_type": "code",
   "execution_count": null,
   "metadata": {},
   "outputs": [],
   "source": []
  },
  {
   "cell_type": "markdown",
   "metadata": {},
   "source": [
    "### Download Current Database\n",
    "Download using http:get method to access the public database from the source URL."
   ]
  },
  {
   "cell_type": "code",
   "execution_count": 2,
   "metadata": {},
   "outputs": [],
   "source": [
    "import requests # Module to process http/https requests\n",
    "remote_url=\"http://atomickitty.ddns.net/documents/mytoolbox-server/SolidsInRivers/solids_in_rivers.csv\"  # set the url\n",
    "rget = requests.get(remote_url, allow_redirects=True)  # get the remote resource, follow imbedded links\n",
    "open('solids_in_rivers.csv','wb').write(rget.content) # extract from the remote the contents, assign to a local file same name\n",
    "import pandas as pd # Module to process dataframes (not absolutely needed but somewhat easier than using primatives, and gives graphing tools)"
   ]
  },
  {
   "cell_type": "code",
   "execution_count": null,
   "metadata": {},
   "outputs": [],
   "source": []
  },
  {
   "cell_type": "code",
   "execution_count": 3,
   "metadata": {},
   "outputs": [
    {
     "data": {
      "text/html": [
       "<div>\n",
       "<style scoped>\n",
       "    .dataframe tbody tr th:only-of-type {\n",
       "        vertical-align: middle;\n",
       "    }\n",
       "\n",
       "    .dataframe tbody tr th {\n",
       "        vertical-align: top;\n",
       "    }\n",
       "\n",
       "    .dataframe thead th {\n",
       "        text-align: right;\n",
       "    }\n",
       "</style>\n",
       "<table border=\"1\" class=\"dataframe\">\n",
       "  <thead>\n",
       "    <tr style=\"text-align: right;\">\n",
       "      <th></th>\n",
       "      <th>Author</th>\n",
       "      <th>ID</th>\n",
       "      <th>Location</th>\n",
       "      <th>Q_m3_s</th>\n",
       "      <th>q_m2_s</th>\n",
       "      <th>U_m_s</th>\n",
       "      <th>W_m</th>\n",
       "      <th>H_m</th>\n",
       "      <th>R_m</th>\n",
       "      <th>S_m_m</th>\n",
       "      <th>...</th>\n",
       "      <th>Record_Number</th>\n",
       "      <th>Froude</th>\n",
       "      <th>GammaS_N_m3</th>\n",
       "      <th>GammaF_N_m3</th>\n",
       "      <th>Tau0_kg_m_s2</th>\n",
       "      <th>TauStar</th>\n",
       "      <th>Ustar_m_s</th>\n",
       "      <th>ManningN</th>\n",
       "      <th>WP_m</th>\n",
       "      <th>A_m2</th>\n",
       "    </tr>\n",
       "  </thead>\n",
       "  <tbody>\n",
       "    <tr>\n",
       "      <th>0</th>\n",
       "      <td>GUY_1966</td>\n",
       "      <td>1.0</td>\n",
       "      <td>UNKNOWN</td>\n",
       "      <td>0.1846</td>\n",
       "      <td>0.075708</td>\n",
       "      <td>0.264253</td>\n",
       "      <td>2.4383</td>\n",
       "      <td>0.2865</td>\n",
       "      <td>0.231984</td>\n",
       "      <td>0.00005</td>\n",
       "      <td>...</td>\n",
       "      <td>1</td>\n",
       "      <td>0.157651</td>\n",
       "      <td>25987.6</td>\n",
       "      <td>9792.06</td>\n",
       "      <td>0.113580</td>\n",
       "      <td>0.036932</td>\n",
       "      <td>0.010665</td>\n",
       "      <td>0.010103</td>\n",
       "      <td>3.0113</td>\n",
       "      <td>0.698573</td>\n",
       "    </tr>\n",
       "    <tr>\n",
       "      <th>1</th>\n",
       "      <td>GUY_1966</td>\n",
       "      <td>2.0</td>\n",
       "      <td>UNKNOWN</td>\n",
       "      <td>0.0847</td>\n",
       "      <td>0.034737</td>\n",
       "      <td>0.237439</td>\n",
       "      <td>2.4383</td>\n",
       "      <td>0.1463</td>\n",
       "      <td>0.130625</td>\n",
       "      <td>0.00010</td>\n",
       "      <td>...</td>\n",
       "      <td>2</td>\n",
       "      <td>0.198230</td>\n",
       "      <td>25987.6</td>\n",
       "      <td>9794.06</td>\n",
       "      <td>0.127935</td>\n",
       "      <td>0.041605</td>\n",
       "      <td>0.011318</td>\n",
       "      <td>0.010843</td>\n",
       "      <td>2.7309</td>\n",
       "      <td>0.356723</td>\n",
       "    </tr>\n",
       "    <tr>\n",
       "      <th>2</th>\n",
       "      <td>GUY_1966</td>\n",
       "      <td>3.0</td>\n",
       "      <td>UNKNOWN</td>\n",
       "      <td>0.1891</td>\n",
       "      <td>0.077554</td>\n",
       "      <td>0.240031</td>\n",
       "      <td>2.4383</td>\n",
       "      <td>0.3231</td>\n",
       "      <td>0.255411</td>\n",
       "      <td>0.00015</td>\n",
       "      <td>...</td>\n",
       "      <td>3</td>\n",
       "      <td>0.134846</td>\n",
       "      <td>25987.6</td>\n",
       "      <td>9801.66</td>\n",
       "      <td>0.375518</td>\n",
       "      <td>0.122177</td>\n",
       "      <td>0.019383</td>\n",
       "      <td>0.020540</td>\n",
       "      <td>3.0845</td>\n",
       "      <td>0.787815</td>\n",
       "    </tr>\n",
       "    <tr>\n",
       "      <th>3</th>\n",
       "      <td>GUY_1966</td>\n",
       "      <td>4.0</td>\n",
       "      <td>UNKNOWN</td>\n",
       "      <td>0.0847</td>\n",
       "      <td>0.034737</td>\n",
       "      <td>0.264968</td>\n",
       "      <td>2.4383</td>\n",
       "      <td>0.1311</td>\n",
       "      <td>0.118371</td>\n",
       "      <td>0.00016</td>\n",
       "      <td>...</td>\n",
       "      <td>4</td>\n",
       "      <td>0.233685</td>\n",
       "      <td>25987.6</td>\n",
       "      <td>9793.53</td>\n",
       "      <td>0.185483</td>\n",
       "      <td>0.060318</td>\n",
       "      <td>0.013628</td>\n",
       "      <td>0.011509</td>\n",
       "      <td>2.7005</td>\n",
       "      <td>0.319661</td>\n",
       "    </tr>\n",
       "    <tr>\n",
       "      <th>4</th>\n",
       "      <td>GUY_1966</td>\n",
       "      <td>5.0</td>\n",
       "      <td>UNKNOWN</td>\n",
       "      <td>0.0566</td>\n",
       "      <td>0.023213</td>\n",
       "      <td>0.253970</td>\n",
       "      <td>2.4383</td>\n",
       "      <td>0.0914</td>\n",
       "      <td>0.085026</td>\n",
       "      <td>0.00017</td>\n",
       "      <td>...</td>\n",
       "      <td>5</td>\n",
       "      <td>0.268256</td>\n",
       "      <td>25987.6</td>\n",
       "      <td>9790.91</td>\n",
       "      <td>0.141521</td>\n",
       "      <td>0.046014</td>\n",
       "      <td>0.011906</td>\n",
       "      <td>0.009927</td>\n",
       "      <td>2.6211</td>\n",
       "      <td>0.222861</td>\n",
       "    </tr>\n",
       "  </tbody>\n",
       "</table>\n",
       "<p>5 rows × 29 columns</p>\n",
       "</div>"
      ],
      "text/plain": [
       "     Author   ID Location  Q_m3_s    q_m2_s     U_m_s     W_m     H_m  \\\n",
       "0  GUY_1966  1.0  UNKNOWN  0.1846  0.075708  0.264253  2.4383  0.2865   \n",
       "1  GUY_1966  2.0  UNKNOWN  0.0847  0.034737  0.237439  2.4383  0.1463   \n",
       "2  GUY_1966  3.0  UNKNOWN  0.1891  0.077554  0.240031  2.4383  0.3231   \n",
       "3  GUY_1966  4.0  UNKNOWN  0.0847  0.034737  0.264968  2.4383  0.1311   \n",
       "4  GUY_1966  5.0  UNKNOWN  0.0566  0.023213  0.253970  2.4383  0.0914   \n",
       "\n",
       "        R_m    S_m_m  ...  Record_Number    Froude  GammaS_N_m3  GammaF_N_m3  \\\n",
       "0  0.231984  0.00005  ...              1  0.157651      25987.6      9792.06   \n",
       "1  0.130625  0.00010  ...              2  0.198230      25987.6      9794.06   \n",
       "2  0.255411  0.00015  ...              3  0.134846      25987.6      9801.66   \n",
       "3  0.118371  0.00016  ...              4  0.233685      25987.6      9793.53   \n",
       "4  0.085026  0.00017  ...              5  0.268256      25987.6      9790.91   \n",
       "\n",
       "   Tau0_kg_m_s2   TauStar  Ustar_m_s  ManningN    WP_m      A_m2  \n",
       "0      0.113580  0.036932   0.010665  0.010103  3.0113  0.698573  \n",
       "1      0.127935  0.041605   0.011318  0.010843  2.7309  0.356723  \n",
       "2      0.375518  0.122177   0.019383  0.020540  3.0845  0.787815  \n",
       "3      0.185483  0.060318   0.013628  0.011509  2.7005  0.319661  \n",
       "4      0.141521  0.046014   0.011906  0.009927  2.6211  0.222861  \n",
       "\n",
       "[5 rows x 29 columns]"
      ]
     },
     "execution_count": 3,
     "metadata": {},
     "output_type": "execute_result"
    }
   ],
   "source": [
    "riverdb = pd.read_csv(\"solids_in_rivers.csv\")\n",
    "riverdb.head()\n",
    "#print(riverdb[\"D50_m\"])"
   ]
  },
  {
   "cell_type": "code",
   "execution_count": 6,
   "metadata": {},
   "outputs": [
    {
     "data": {
      "text/plain": [
       "<AxesSubplot:xlabel='Q_m3_s'>"
      ]
     },
     "execution_count": 6,
     "metadata": {},
     "output_type": "execute_result"
    },
    {
     "data": {
      "image/png": "[encoded data removed]",
      "text/plain": [
       "<Figure size 432x288 with 1 Axes>"
      ]
     },
     "metadata": {
      "needs_background": "light"
     },
     "output_type": "display_data"
    }
   ],
   "source": [
    "riverdb.plot.line(x='Q_m3_s',y='C_ppht')"
   ]
  },
  {
   "cell_type": "code",
   "execution_count": 7,
   "metadata": {},
   "outputs": [
    {
     "data": {
      "text/plain": [
       "<AxesSubplot:xlabel='R_m', ylabel='q_m2_s'>"
      ]
     },
     "execution_count": 7,
     "metadata": {},
     "output_type": "execute_result"
    },
    {
     "data": {
      "image/png": "[encoded data removed]",
      "text/plain": [
       "<Figure size 432x288 with 1 Axes>"
      ]
     },
     "metadata": {
      "needs_background": "light"
     },
     "output_type": "display_data"
    }
   ],
   "source": [
    "riverdb.plot.scatter(x='R_m',y='q_m2_s')"
   ]
  },
  {
   "cell_type": "code",
   "execution_count": null,
   "metadata": {},
   "outputs": [],
   "source": []
  },
  {
   "cell_type": "code",
   "execution_count": null,
   "metadata": {},
   "outputs": [],
   "source": []
  },
  {
   "cell_type": "code",
   "execution_count": null,
   "metadata": {},
   "outputs": [],
   "source": [
    "## Now delete the local copy\n",
    "! rm solids_in_rivers.csv"
   ]
  },
  {
   "cell_type": "code",
   "execution_count": null,
   "metadata": {},
   "outputs": [],
   "source": []
  }
 ],
 "metadata": {
  "kernelspec": {
   "display_name": "Python 38",
   "language": "python",
   "name": "python38"
  },
  "language_info": {
   "codemirror_mode": {
    "name": "ipython",
    "version": 3
   },
   "file_extension": ".py",
   "mimetype": "text/x-python",
   "name": "python",
   "nbconvert_exporter": "python",
   "pygments_lexer": "ipython3",
   "version": "3.8.3"
  }
 },
 "nbformat": 4,
 "nbformat_minor": 4
}
