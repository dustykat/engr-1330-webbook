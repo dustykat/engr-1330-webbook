{
 "cells": [
  {
   "cell_type": "markdown",
   "metadata": {},
   "source": [
    "### Get data files from a URL\n",
    "This notebook shows how to obtain data files from public URLs.  \n",
    "If you want to distribute files (web developers) the files need to be in the webroot.\n",
    "\n",
    "Here we will do an example with a file that contains topographic data in XYZ format, without header information.\n",
    "\n",
    "The first few lines of the remote file look like:\n",
    "\n",
    "    74.90959724\t93.21251922\t0\n",
    "    75.17907367\t64.40278759\t0\n",
    "    94.9935575\t93.07951286\t0\n",
    "    95.26234119\t64.60091165\t0\n",
    "    54.04976655\t64.21159095\t0\n",
    "    54.52914363\t35.06934342\t0\n",
    "    75.44993558\t34.93079513\t0\n",
    "    75.09317373\t5.462959114\t0\n",
    "    74.87357468\t10.43130083\t0\n",
    "    74.86249082\t15.72938748\t0\n",
    "\n",
    "And importantly it is tab delimited.\n",
    "\n",
    "The module to manipulate url in python is called ``urllib``\n",
    "\n",
    "Google search to learn more, here we are using only a small component without exception trapping.\n",
    "    "
   ]
  },
  {
   "cell_type": "code",
   "execution_count": 1,
   "metadata": {},
   "outputs": [],
   "source": [
    "#Step 1: import needed modules to interact with the internet\n",
    "from urllib.request import urlopen # import a method that will connect to a url and read file contents\n",
    "import pandas #import pandas"
   ]
  },
  {
   "cell_type": "markdown",
   "metadata": {},
   "source": [
    "This next code fragment sets a string called ``remote_url``; it is just a variable, name can be anything that honors python naming rules.\n",
    "Then the ``urllib`` function ``urlopen`` with read and decode methods is employed, the result is stored in an object named ``elevationXYZ``"
   ]
  },
  {
   "cell_type": "code",
   "execution_count": 2,
   "metadata": {},
   "outputs": [],
   "source": [
    "#Step 2: make the connection to the remote file (actually its implementing \"bash curl -O http://fqdn/path ...\")\n",
    "remote_url = 'http://www.rtfmps.com/share_files/pip-corner-sumps.txt' # \n",
    "elevationXYZ = urlopen(remote_url).read().decode().split() # Gets the file contents as a single vector, comma delimited, file is not retained locally"
   ]
  },
  {
   "cell_type": "markdown",
   "metadata": {},
   "source": [
    "At this point the object exists as a single vector with hundreds of elements. We now need to structure the content.  Here using python primatives, and knowing how the data are supposed to look, we prepare variables to recieve the structured results"
   ]
  },
  {
   "cell_type": "code",
   "execution_count": 3,
   "metadata": {},
   "outputs": [],
   "source": [
    "#Step 3cPython primatives to structure the data, or use fancy modules (probably easy in numpy)\n",
    "howmany = len(elevationXYZ) # how long is the vector?\n",
    "nrow = int(howmany/3)\n",
    "xyz = [[0 for j in range(3)] for j in range(nrow)] # null space to receive data define columnX"
   ]
  },
  {
   "cell_type": "markdown",
   "metadata": {},
   "source": [
    "Now that everything is ready, we can extract from the object the values we want into ``xyz``"
   ]
  },
  {
   "cell_type": "code",
   "execution_count": 4,
   "metadata": {},
   "outputs": [],
   "source": [
    "#Step4 Now will build xyz as a matrix with 3 columns\n",
    "index = 0\n",
    "for irow in range(0,nrow):\n",
    "    xyz[irow][0]=float(elevationXYZ[index])\n",
    "    xyz[irow][1]=float(elevationXYZ[index+1])\n",
    "    xyz[irow][2]=float(elevationXYZ[index+2])\n",
    "    index += 3 #increment the index"
   ]
  },
  {
   "cell_type": "markdown",
   "metadata": {},
   "source": [
    "``xyz`` is now a 3-column float array and can now probably be treated as a data frame.\n",
    "Here we use a ``pandas`` method to build the dataframe."
   ]
  },
  {
   "cell_type": "code",
   "execution_count": 5,
   "metadata": {},
   "outputs": [],
   "source": [
    "df = pandas.DataFrame(xyz)"
   ]
  },
  {
   "cell_type": "markdown",
   "metadata": {},
   "source": [
    "Get some info, yep three columns (ordered triples to be precise!)"
   ]
  },
  {
   "cell_type": "code",
   "execution_count": 6,
   "metadata": {},
   "outputs": [
    {
     "name": "stdout",
     "output_type": "stream",
     "text": [
      "<class 'pandas.core.frame.DataFrame'>\n",
      "RangeIndex: 774 entries, 0 to 773\n",
      "Data columns (total 3 columns):\n",
      " #   Column  Non-Null Count  Dtype  \n",
      "---  ------  --------------  -----  \n",
      " 0   0       774 non-null    float64\n",
      " 1   1       774 non-null    float64\n",
      " 2   2       774 non-null    float64\n",
      "dtypes: float64(3)\n",
      "memory usage: 18.3 KB\n"
     ]
    }
   ],
   "source": [
    "df.info()"
   ]
  },
  {
   "cell_type": "markdown",
   "metadata": {},
   "source": [
    "And some summary statistics (meaningless for these data), but now have taken data from the internet and prepared it for analysis."
   ]
  },
  {
   "cell_type": "code",
   "execution_count": 7,
   "metadata": {},
   "outputs": [
    {
     "data": {
      "text/html": [
       "<div>\n",
       "<style scoped>\n",
       "    .dataframe tbody tr th:only-of-type {\n",
       "        vertical-align: middle;\n",
       "    }\n",
       "\n",
       "    .dataframe tbody tr th {\n",
       "        vertical-align: top;\n",
       "    }\n",
       "\n",
       "    .dataframe thead th {\n",
       "        text-align: right;\n",
       "    }\n",
       "</style>\n",
       "<table border=\"1\" class=\"dataframe\">\n",
       "  <thead>\n",
       "    <tr style=\"text-align: right;\">\n",
       "      <th></th>\n",
       "      <th>0</th>\n",
       "      <th>1</th>\n",
       "      <th>2</th>\n",
       "    </tr>\n",
       "  </thead>\n",
       "  <tbody>\n",
       "    <tr>\n",
       "      <th>count</th>\n",
       "      <td>774.000000</td>\n",
       "      <td>774.000000</td>\n",
       "      <td>774.000000</td>\n",
       "    </tr>\n",
       "    <tr>\n",
       "      <th>mean</th>\n",
       "      <td>52.064621</td>\n",
       "      <td>48.770060</td>\n",
       "      <td>2.364341</td>\n",
       "    </tr>\n",
       "    <tr>\n",
       "      <th>std</th>\n",
       "      <td>30.883400</td>\n",
       "      <td>32.886277</td>\n",
       "      <td>1.497413</td>\n",
       "    </tr>\n",
       "    <tr>\n",
       "      <th>min</th>\n",
       "      <td>-2.113554</td>\n",
       "      <td>-11.360960</td>\n",
       "      <td>0.000000</td>\n",
       "    </tr>\n",
       "    <tr>\n",
       "      <th>25%</th>\n",
       "      <td>25.640786</td>\n",
       "      <td>21.809579</td>\n",
       "      <td>2.000000</td>\n",
       "    </tr>\n",
       "    <tr>\n",
       "      <th>50%</th>\n",
       "      <td>55.795821</td>\n",
       "      <td>49.059950</td>\n",
       "      <td>2.000000</td>\n",
       "    </tr>\n",
       "    <tr>\n",
       "      <th>75%</th>\n",
       "      <td>76.752290</td>\n",
       "      <td>75.015933</td>\n",
       "      <td>4.000000</td>\n",
       "    </tr>\n",
       "    <tr>\n",
       "      <th>max</th>\n",
       "      <td>111.726727</td>\n",
       "      <td>115.123931</td>\n",
       "      <td>4.000000</td>\n",
       "    </tr>\n",
       "  </tbody>\n",
       "</table>\n",
       "</div>"
      ],
      "text/plain": [
       "                0           1           2\n",
       "count  774.000000  774.000000  774.000000\n",
       "mean    52.064621   48.770060    2.364341\n",
       "std     30.883400   32.886277    1.497413\n",
       "min     -2.113554  -11.360960    0.000000\n",
       "25%     25.640786   21.809579    2.000000\n",
       "50%     55.795821   49.059950    2.000000\n",
       "75%     76.752290   75.015933    4.000000\n",
       "max    111.726727  115.123931    4.000000"
      ]
     },
     "execution_count": 7,
     "metadata": {},
     "output_type": "execute_result"
    }
   ],
   "source": [
    "df.describe()"
   ]
  },
  {
   "cell_type": "markdown",
   "metadata": {},
   "source": [
    "And lets look at the first few rows"
   ]
  },
  {
   "cell_type": "code",
   "execution_count": 10,
   "metadata": {},
   "outputs": [
    {
     "data": {
      "text/html": [
       "<div>\n",
       "<style scoped>\n",
       "    .dataframe tbody tr th:only-of-type {\n",
       "        vertical-align: middle;\n",
       "    }\n",
       "\n",
       "    .dataframe tbody tr th {\n",
       "        vertical-align: top;\n",
       "    }\n",
       "\n",
       "    .dataframe thead th {\n",
       "        text-align: right;\n",
       "    }\n",
       "</style>\n",
       "<table border=\"1\" class=\"dataframe\">\n",
       "  <thead>\n",
       "    <tr style=\"text-align: right;\">\n",
       "      <th></th>\n",
       "      <th>0</th>\n",
       "      <th>1</th>\n",
       "      <th>2</th>\n",
       "    </tr>\n",
       "  </thead>\n",
       "  <tbody>\n",
       "    <tr>\n",
       "      <th>0</th>\n",
       "      <td>74.909597</td>\n",
       "      <td>93.212519</td>\n",
       "      <td>0.0</td>\n",
       "    </tr>\n",
       "    <tr>\n",
       "      <th>1</th>\n",
       "      <td>75.179074</td>\n",
       "      <td>64.402788</td>\n",
       "      <td>0.0</td>\n",
       "    </tr>\n",
       "    <tr>\n",
       "      <th>2</th>\n",
       "      <td>94.993557</td>\n",
       "      <td>93.079513</td>\n",
       "      <td>0.0</td>\n",
       "    </tr>\n",
       "    <tr>\n",
       "      <th>3</th>\n",
       "      <td>95.262341</td>\n",
       "      <td>64.600912</td>\n",
       "      <td>0.0</td>\n",
       "    </tr>\n",
       "    <tr>\n",
       "      <th>4</th>\n",
       "      <td>54.049767</td>\n",
       "      <td>64.211591</td>\n",
       "      <td>0.0</td>\n",
       "    </tr>\n",
       "  </tbody>\n",
       "</table>\n",
       "</div>"
      ],
      "text/plain": [
       "           0          1    2\n",
       "0  74.909597  93.212519  0.0\n",
       "1  75.179074  64.402788  0.0\n",
       "2  94.993557  93.079513  0.0\n",
       "3  95.262341  64.600912  0.0\n",
       "4  54.049767  64.211591  0.0"
      ]
     },
     "execution_count": 10,
     "metadata": {},
     "output_type": "execute_result"
    }
   ],
   "source": [
    "df.head()"
   ]
  },
  {
   "cell_type": "code",
   "execution_count": null,
   "metadata": {},
   "outputs": [],
   "source": []
  }
 ],
 "metadata": {
  "kernelspec": {
   "display_name": "Python 3",
   "language": "python",
   "name": "python3"
  },
  "language_info": {
   "codemirror_mode": {
    "name": "ipython",
    "version": 3
   },
   "file_extension": ".py",
   "mimetype": "text/x-python",
   "name": "python",
   "nbconvert_exporter": "python",
   "pygments_lexer": "ipython3",
   "version": "3.8.5"
  }
 },
 "nbformat": 4,
 "nbformat_minor": 4
}
