{
 "cells": [
  {
   "cell_type": "code",
   "execution_count": 3,
   "metadata": {},
   "outputs": [
    {
     "name": "stdout",
     "output_type": "stream",
     "text": [
      "/opt/jupyterhub/bin/python3\n",
      "3.8.2 (default, Apr 27 2020, 15:53:34) \n",
      "[GCC 9.3.0]\n",
      "sys.version_info(major=3, minor=8, micro=2, releaselevel='final', serial=0)\n"
     ]
    }
   ],
   "source": [
    "# Environment Check -- Deactivate on a working host\n",
    "import sys\n",
    "print(sys.executable)\n",
    "print(sys.version)\n",
    "print(sys.version_info)"
   ]
  },
  {
   "cell_type": "markdown",
   "metadata": {},
   "source": [
    "# Numerical Methods - Single Variable Newtons Method\n",
    "The application of fundamental principles of modeling and mechanics often leads to an\n",
    "algebraic or transcendental equation that cannot be easily solved and represented in a closed\n",
    "form. In these cases a numerical method is required to obtain an estimate of the root or\n",
    "roots of the expression.\n",
    "Newton's method is an iterative technique that can produce good estimates of solutions to\n",
    "such equations. The method is employed by rewriting the equation in the form `f(x) = 0`,\n",
    "then successively manipulating guesses for `x` until the function evaluates to a value close\n",
    "enough to zero for the modeler to accept.\n",
    "\n",
    "![figure](newton1.png)\n",
    "\n",
    "The figure above is a graph of some function whose intercept with the `x-axis` is unknown. The goal\n",
    "of Newton's method is to find this intersection (root) from a realistic first guess. Suppose\n",
    "the first guess is `x1`, shown on the figure as the right-most specific value of `x`. The value\n",
    "of the function at this location is `f(x1)`. Because `x1` is supposed to be a root the difference\n",
    "from the value zero represents an error in the estimate. Newton's method simply provides a\n",
    "recipe for corrections to this error.\n",
    "\n",
    "Figure"
   ]
  },
  {
   "cell_type": "code",
   "execution_count": null,
   "metadata": {},
   "outputs": [],
   "source": []
  }
 ],
 "metadata": {
  "kernelspec": {
   "display_name": "Python 3",
   "language": "python",
   "name": "python3"
  },
  "language_info": {
   "codemirror_mode": {
    "name": "ipython",
    "version": 3
   },
   "file_extension": ".py",
   "mimetype": "text/x-python",
   "name": "python",
   "nbconvert_exporter": "python",
   "pygments_lexer": "ipython3",
   "version": "3.8.2"
  }
 },
 "nbformat": 4,
 "nbformat_minor": 4
}
