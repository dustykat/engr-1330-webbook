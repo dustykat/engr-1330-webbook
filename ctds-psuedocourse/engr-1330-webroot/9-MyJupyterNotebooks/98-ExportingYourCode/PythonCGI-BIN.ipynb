{
 "cells": [
  {
   "cell_type": "markdown",
   "metadata": {},
   "source": [
    "# Run CGI-BIN scripts on python provided local web server \n",
    "\n",
    "This example will let us use our browser as an interface if we have a local python install, but do not have Jupyter installed (or working).  Web-based computation ,more-or-less builds on the concepts herein.  \n",
    "\n",
    "First we write a proper python script that will reside in a web server cgi-bin directory\n",
    "If we run it in the JupyterLab, we see the script prints what appears to be an HTML document."
   ]
  },
  {
   "cell_type": "code",
   "execution_count": 9,
   "metadata": {},
   "outputs": [
    {
     "name": "stdout",
     "output_type": "stream",
     "text": [
      "Content-type:text/html\n",
      "\n",
      "\n",
      "<html>\n",
      "<head><title>Hello from Python via CGI-BIN</title></head>\n",
      "<body>\n",
      "Hello from python via cgi-bin, runs on localhost\n",
      "</body>\n",
      "</html>\n"
     ]
    }
   ],
   "source": [
    "#!/usr/bin/python   \n",
    "# above line is part of a cgi-bin script -- do not omit it!\n",
    "import cgitb  # debugging shit, ok to omit\n",
    "cgitb.enable() # debugging shit, ok to omit\n",
    "print ('Content-type:text/html\\r\\n\\r\\n')\n",
    "print('<html>')\n",
    "print('<head><title>Hello from Python via CGI-BIN</title></head>')\n",
    "print('<body>')\n",
    "print('Hello from python via cgi-bin, runs on localhost')\n",
    "print('</body>')\n",
    "print('</html>')"
   ]
  },
  {
   "cell_type": "markdown",
   "metadata": {},
   "source": [
    "Copy the putput and render and it looks like:\n",
    "\n",
    "\n",
    "Content-type:text/html\n",
    "\n",
    "\n",
    "<html>\n",
    "<head><title>Hello from Python via CGI-BIN</title></head>\n",
    "<body>\n",
    "Hello from python via cgi-bin, runs on localhost\n",
    "</body>\n",
    "</html>\n",
    "\n",
    "\n"
   ]
  },
  {
   "cell_type": "markdown",
   "metadata": {},
   "source": [
    "Now we save the python script file to \"hello.py\""
   ]
  },
  {
   "cell_type": "markdown",
   "metadata": {},
   "source": [
    "## Creating a webroot\n",
    "\n",
    "Next copy the file to your destination machine, in my example it goes to\n",
    "`/Users/theodore/Desktop/SimCGI-BIN/cgi-bin` and then the filename.  The webserver will run using\n",
    "`/Users/theodore/Desktop/SimCGI-BIN/` as the webroot, so we have to add `/cgi-bin` to house our executible script.\n",
    "\n",
    "Here is what it looks like on my laptop (not the JupyterHub -- that's physically a different computer)\n",
    "\n",
    "![](workingdir.png)\n",
    "\n",
    "Next we will start a server on the laptop, open a terminal window and navigate to the webroot we are going to use in my case `/Users/theodore/Desktop/SimCGI-BIN/`\n",
    "\n",
    "Here is what my terminal window looks like after navigation, and a directory listing\n",
    "\n",
    "![](terminalwinder.png)\n",
    "\n",
    "Now we will verify the script resides in the `cgi-bin` directory we created, notice the permissions -- the directory must be executible. on my laptop is simply typed at the command prompt `chmod -R 755 ./cgi-bin`\n",
    "to change the permissions.\n",
    "\n",
    "To verify, we will just list the contents of the file by typing `cat ./cgi-bin/hello.py` which should print the contents of the file to the terminal screen -- here's what it looks like on my computer\n",
    "\n",
    "![](terminalwinder2.png)\n",
    "\n",
    "## Running an http server from python\n",
    "\n",
    "Everything looks in order, now we will start a webserver in python with the following somewhat elaborate command\n",
    "`python3 -m http.server --bind localhost --cgi 9000` This command runs a python3 environment and uses the `http.server` module as a script, binds the server to `localhost` (IP = 127.0.0.1; which is common to all machines  aka the loopback interface), activates the `cgi` subsystem, and listens on port `9000`. The port choice is quite arbitrary, default is `8000`  Good practice is to stay away from the reserved ports `1-1024`"
   ]
  },
  {
   "cell_type": "markdown",
   "metadata": {},
   "source": [
    "When we run this command the terminal window is the server and will be kep active for the disconnection, but if we open a browser and request URL = `localhost:9000/cgi-bin/hello.py` it will run our script.\n",
    "\n",
    "Here is the terminal window on my machine just after starting the server\n",
    "\n",
    "![](serverstart.png)\n",
    "\n",
    "Now open a browser\n",
    "\n",
    "![](browserstart.png)\n",
    "\n",
    "Type the URL and press return, and indeed our script executed.\n",
    "\n",
    "![](browserrespond.png)\n",
    "\n",
    "Lastly, lets look at the terminal window, which is logging our browser activity.  Here we see we had a 404 error, then a sucessful GET request which generated the web page above.\n",
    "\n",
    "![](serverlog.png)\n",
    "\n",
    "To disconnect the server, we simply type `CTRL-C` in the terminal to terminate the server."
   ]
  },
  {
   "cell_type": "markdown",
   "metadata": {},
   "source": [
    "The power of this interaction comes when we want to combine input using a web interface and python to do the calculations.  Consider a simple calculator to implement the Rational Runoff Equation.\n",
    "\n",
    "Ordinary HTML code looks like"
   ]
  },
  {
   "cell_type": "raw",
   "metadata": {},
   "source": [
    "<!DOCTYPE html PUBLIC >\n",
    "<html><head><title>Rational Equation Peak Flow (US Customary)</title></head>\n",
    "<link rel = \"stylesheet\" type = \"text/css\" href = \"styles.css\" >\n",
    "<body>\n",
    "<h1> Rational Equation Peak Flow Estimator </h1>\n",
    "\n",
    "<img src = \"./runoff-coefficients.gif\" width = \"445\" height = \"500\" > <br/>\n",
    "from \"Oregon Hydraulics Manual (Chapter 7, Appendix F), 2014.\"\n",
    "\n",
    "<p><a href=\"http://www.oregon.gov/ODOT/HWY/GEOENVIRONMENTAL/docs/Hydraulics/Hydraulics%20Manual/CHAPTER_07_appendix_F.pdf\">ODOT Table of Runoff Coefficients</a> Tables from Oregon Hydraulics Manual </p>\n",
    "\n",
    "<p><a href=\"http://onlinemanuals.txdot.gov/txdotmanuals/hyd/rational_method.htm\">TxDOT Table for Runoff Coefficients</a> Tables from Texas Hydraulic Design Manual </p>\n",
    "\n",
    "</p>\n",
    "\n",
    "<p>Estimates peak discharge in US customary units from </p>\n",
    "<p> Q_p = (1.008)*C*I*A <br/>\n",
    "where: <br/>\n",
    "&emsp;&emsp;         Q_p is peak discharge in CFS                    <br/>\n",
    "&emsp;&emsp;         C is the runoff coefficient (read from table) <br/>\n",
    "&emsp;&emsp;         I is rainfall intensity in inches/hour        <br/>\n",
    "&emsp;&emsp;         A is drainage area in acres                   <br/>\n",
    "</p>\n",
    "\n",
    "<form method =\"POST\"\n",
    "      action = \"http://localhost:9000/cgi-bin/RationalUS.py\">\n",
    "\n",
    "Enter Value for Runoff Coefficient (C): <br/>\n",
    "<input type = \"text\" name = \"runoff_coefficient\"><br/>\n",
    "\n",
    "Enter Value for Area (A): <br/>\n",
    "<input type = \"text\" name = \"area\"><br/>\n",
    "\n",
    "Enter Value for Average Intensity (I): <br/>\n",
    "<input type = \"text\" name = \"intensity\"><br/>\n",
    "\n",
    "\n",
    "<input type = \"submit\">\n",
    "</form>\n",
    "</body>\n",
    "</html>"
   ]
  },
  {
   "cell_type": "markdown",
   "metadata": {},
   "source": [
    "We will copy this code to a file named `RationalUS.html` we will also copy the image file `runoff-coefficients.gif` and the style file `styles.css`.  These two files are optional, but the result is more aesthetic.  All these files are located in `/Users/theodore/Desktop/SimCGI-BIN/`  "
   ]
  },
  {
   "cell_type": "markdown",
   "metadata": {},
   "source": [
    "We also need code to actually do the computations; we get the inputs from the fields passed from the HTML page, make computations, then prepare and write output.  The python script to be executed as a CGI-BIN script is `RationalUS.py` and is listed below"
   ]
  },
  {
   "cell_type": "raw",
   "metadata": {},
   "source": [
    "#!/usr/bin/python\n",
    "# RationalUS.py\n",
    "# Computes Discharge by Rational Equation  \n",
    "# Use HMTL POST method\n",
    "# Use python language\n",
    "# Computer Name: localhost on Theodore's MacBook Pro 13\n",
    "\n",
    "# Import modules for CGI handling \n",
    "import cgi, cgitb , time\n",
    "\n",
    "##use warnings;\n",
    "##use strict;\n",
    "##use CGI qw( :standard );\n",
    "\n",
    "# Create instance of FieldStorage \n",
    "form = cgi.FieldStorage() \n",
    "\n",
    "# Get inputs from fields\n",
    "runoff_coefficient = float(form.getvalue('runoff_coefficient'))\n",
    "area = float(form.getvalue('area'))\n",
    "intensity = float(form.getvalue('intensity'))\n",
    "\n",
    "# Perform arithmetic\n",
    "discharge = (1.008)*runoff_coefficient*intensity*area\n",
    "\n",
    "# Prepare the output HTML \n",
    "now = time.strftime(\"%c\")\n",
    "\n",
    "print \"Content-type:text/html\\r\\n\\r\\n\"  \n",
    "# should have two returns and line feeds\n",
    "print \"<html>\"\n",
    "print \"<head>\"\n",
    "print \"<title>Rational Equation Method (US Customary) using Python</title>\"\n",
    "print \"</head>\"\n",
    "print \"<body>\"\n",
    "print \"Discharge by Rational Equation <br/><br/> \"\n",
    "print \"Run Date : \" , now ,\" <br/> \"\n",
    "print \"------ INPUT VALUES ------ <br/> \"\n",
    "print \"        Runoff Coefficient = \", runoff_coefficient,\" <br/> \"\n",
    "print \"        Drainage Area      = \", area , \" acres <br/> \"\n",
    "print \" Rainfall Intensity        = \", intensity, \" inches per hour <br/> \"\n",
    "print \"------ COMPUTED DISCHARGE ----- <br/> \";\n",
    "print \"Discharge = \", discharge , \" cubic feet per second <br/> \"\n",
    "print \"</body>\"\n",
    "print \"</html>\"\n",
    "\n",
    "# end of script"
   ]
  },
  {
   "cell_type": "markdown",
   "metadata": {},
   "source": [
    "`RationalUS.py` is located in `/Users/theodore/Desktop/SimCGI-BIN/cgi-bin` \n",
    "\n",
    "As before, we will start the server, in this case we will start at `localhost:9000` and just request the `RationalUS.html` as illustrated in the next few images.\n",
    "\n",
    "Start server, navigate to `localhost:9000` to get to webroot\n",
    "\n",
    "![](webroot.png)\n",
    "\n",
    "Select `RationalUS.html` to get to the web page input form, enter values\n",
    "![](inputvalues.png)\n",
    "\n",
    "Select `SUMBIT` and send the values to the script for processing.\n",
    "\n",
    "![](rationalresponse.png)"
   ]
  },
  {
   "cell_type": "markdown",
   "metadata": {},
   "source": [
    "# Conclusion\n",
    "The ultimate value is we can use our web server as an interface, and borrow the document object model, to produce input/output that looks like a web page; when everything is working Ok, just move the scripts to a running webserver, and users can run computations without having to start a python script."
   ]
  },
  {
   "cell_type": "code",
   "execution_count": null,
   "metadata": {},
   "outputs": [],
   "source": []
  }
 ],
 "metadata": {
  "kernelspec": {
   "display_name": "Python 3",
   "language": "python",
   "name": "python3"
  },
  "language_info": {
   "codemirror_mode": {
    "name": "ipython",
    "version": 3
   },
   "file_extension": ".py",
   "mimetype": "text/x-python",
   "name": "python",
   "nbconvert_exporter": "python",
   "pygments_lexer": "ipython3",
   "version": "3.6.9"
  }
 },
 "nbformat": 4,
 "nbformat_minor": 4
}
