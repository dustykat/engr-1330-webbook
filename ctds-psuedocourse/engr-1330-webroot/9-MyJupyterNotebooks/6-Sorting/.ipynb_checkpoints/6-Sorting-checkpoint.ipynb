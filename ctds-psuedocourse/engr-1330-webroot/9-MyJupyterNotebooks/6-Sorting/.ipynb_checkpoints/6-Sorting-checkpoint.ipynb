{
 "cells": [
  {
   "cell_type": "code",
   "execution_count": 6,
   "metadata": {},
   "outputs": [
    {
     "name": "stdout",
     "output_type": "stream",
     "text": [
      "/opt/jupyterhub/bin/python3\n",
      "3.8.2 (default, Apr 27 2020, 15:53:34) \n",
      "[GCC 9.3.0]\n",
      "sys.version_info(major=3, minor=8, micro=2, releaselevel='final', serial=0)\n"
     ]
    }
   ],
   "source": [
    " import sys\n",
    " print(sys.executable)\n",
    " print(sys.version)\n",
    " print(sys.version_info)"
   ]
  },
  {
   "cell_type": "markdown",
   "metadata": {},
   "source": []
  },
  {
   "cell_type": "markdown",
   "metadata": {},
   "source": [
    "# Sorting\n",
    "A frequent task in data science, engineering, etc. is the seemingly mundane task of\n",
    "sorting or ordering things. Here we explore a couple of simple sorting algorithms,\n",
    "just to show some of the thoughts that go into such a task, then will ultimately resort\n",
    "to the internal sorting routines built into Python.\n",
    "\n",
    "Sorting is frequently necessary when data are being handled; for example in integration\n",
    "and differentiation the data are usually presented to the various algorithms in ascending or\n",
    "descending order (at least on the x-axis).\n",
    "One may have tables of numbers, representing one or more explanatory variables, and one or\n",
    "more responses. At times we may need to arrange these tables in an order dictated by one\n",
    "or another of these various variables. Alternatively we may want to \f",
    "nd the median value\n",
    "or upper quartile of such a list { this task requires sorting.\n",
    "When sorting, one can also carry along operations to maintain correspondence with other\n",
    "lists (for lack of better name lets call this sort-and-carry).\n",
    "Tasks that fall under the broad category of sorting are:\n",
    "- Sort ; rearrange an array of numbers into numerical order (ascending or descending).\n",
    "- Sort and carry along ; rearrange an array of numbers into numerical order while per-\n",
    "forming the same rearrangement of one or more additional arrays so that the correspon-\n",
    "dence between elements in all arrays is maintained (the sets of arrays are essentially\n",
    "a relational database { so that each record (row) maintains the cross-record (\f",
    "elds;\n",
    "columns) relationship).\n",
    "- Index ; given an array, prepare an index table that is a table of pointers that indicates\n",
    "which number array element comes \f",
    "rst in numerical order, which is second, and so\n",
    "on.\n",
    "- Rank ; given an array, prepare a rank table that tells the numerical rank of an array\n",
    "element.\n",
    "The task of sorting `N` elements requires on the order of $K \\cdot Nlog2N$ operations. The\n",
    "algorithm inventor tries to make $K$ as small as possible (understanding that $K = 0$ is\n",
    "practically impossible). Three useful sorting algorithms are:\n",
    "    \n",
    "    1. Straight insertion sort;\n",
    "    2. Heapsort sort; and\n",
    "    3. Quicksort sort.\n",
    "    \n",
    "The choice of method depends on the size of the list that needs to be sorted. If the list is\n",
    "short (perhaps $N < 50$ elements) then straight insertion is fast enough, concise, and simple\n",
    "to program. For a long list ($N > 1000$ elements) Quicksort is faster, but achieves the speed\n",
    "by use of extra memory. Heapsort is also good for large lists, and is an in-place routine."
   ]
  },
  {
   "cell_type": "markdown",
   "metadata": {},
   "source": [
    "Python lists have a built-in `sort()` method that modifies the list in-place and a `sorted()`\n",
    "built-in function that builds a new sorted list from an iterable. So when sorting needs to\n",
    "be done, you should use the built-in tools. However, because it is a useful programming\n",
    "construct, the three sorting algorithms are presented as Python primitive codes."
   ]
  },
  {
   "cell_type": "markdown",
   "metadata": {},
   "source": [
    "### Bubble Sort\n",
    "The bubble sort is a place to start despite it's relative slowness. It is a pretty reviled\n",
    "algorithm (read the Wikipedia entry), but it is the algorithm that a naive programmer\n",
    "might cobble together in a hurry, and despite its shortcomings (it's really slow and\n",
    "inefficient), it is robust.\n",
    "\n",
    "Here is a description of the sorting task as described by Christian and Griffths (2016)\n",
    "(pg. 65):\n",
    "\n",
    "Imagine you want to alphabetize your unsorted collection of books. A\n",
    "natural approach would be just to scan across the shelf looking for out-\n",
    "of-order pairs - Wallace followed by Pynchon, for instance - and \n",
    "flipping them around. Put Pynchon ahead of Wallace, then continue your scan,\n",
    "looping around to the beginning of the shelf each time you reach the end.\n",
    "When you make a complete pass without finding any more out-of-order\n",
    "pairs on the entire shelf, then you know the job is done.\n",
    "This process is a Bubble Sort, and it lands us in quadratic time. There\n",
    "are n books out of order, and each scan through the shelf can move each\n",
    "one at most one position. (We spot a tiny problem, make a tiny fix.) So\n",
    "in the worst case, where the shelf is perfectly backward, at least one book\n",
    "will need to be moved n positions. Thus a maximum of n passes through\n",
    "n books, which gives us O(n2) in the worst case. For instance, it\n",
    "means that sorting five shelves of books will take not five times as long as\n",
    "sorting a single shelf, but twenty-five times as long.\"\n",
    "\n",
    "Converting the word description into Python is fairly simple. We will have a vector of n\n",
    "numbers (we use a vector because its easy to step through the different positions),\n",
    "and we will scan through the vector once (and essentially find the smallest thing),\n",
    "and put it into the first position. Then we scan again from the second position and\n",
    "find the smallest thing remaining, and put it into the second position, and so on until\n",
    "the last scan which should have the remaining largest thing. If we desire a decreasing\n",
    "order, simply change the sense of the comparison.\n",
    "\n",
    "The algorithm defines an array and then sorts by repeated passes through the array.\n",
    "The program (outside of the sorting algorithm) is really quite simple.\n",
    "* Load contents into an array to be sorted.\n",
    "* Echo (print) the array (so we can verify the data are loaded as anticipated).\n",
    "* Loads the sorting function (the two loops)\n",
    "* Sort the array, put the results back into the array (an in-place sort).\n",
    "* Report the results."
   ]
  },
  {
   "cell_type": "code",
   "execution_count": 7,
   "metadata": {},
   "outputs": [
    {
     "name": "stdout",
     "output_type": "stream",
     "text": [
      "Item Count = :  7\n",
      "Unsorted List :  [1003, 3.2, 55.5, -0.0001, -6, 666.6, 102]\n",
      "Sorted List :  [-6, -0.0001, 3.2, 55.5, 102, 666.6, 1003]"
     ]
    }
   ],
   "source": [
    "#array = [7,11,5,8,9,13,66,99,223]\n",
    "#array = [7,11,5]\n",
    "array=[1003 ,3.2 ,55.5 , -0.0001 , -6 ,666.6 ,102]\n",
    "howMany = len(array)\n",
    "print(\"Item Count = : \",howMany)\n",
    "print(\"Unsorted List : \", array)\n",
    "# insertion sort\n",
    "for irow in range(0, howMany-1) : \n",
    "    for jrow in range(0,(howMany-1-irow)) :\n",
    "        if array[jrow]> array[jrow+1] :\n",
    "            swap = array[jrow]\n",
    "            array[jrow]=array[jrow+1]\n",
    "            array[jrow+1]=swap\n",
    "        else:\n",
    "            continue\n",
    "#results  \n",
    "print(\"Sorted List : \", array, end =\"\")"
   ]
  },
  {
   "cell_type": "markdown",
   "metadata": {},
   "source": [
    "In the script we see that the program (near the bottom of the file) assigns the values to the vector named array and\n",
    "the initial order of the array is ${1003, 3.2, 55.5,-0.0001,-6, 666.6, 102}$. The smallest\n",
    "value in the example is -6 and it appears in the 5-th position, not the 1-st as it\n",
    "should.\n",
    "\n",
    "The first pass through the array will move the largest value, 1003, in sequence to the\n",
    "right until it occupies the last position. Repeated passes through the array move the\n",
    "remaining largest values to the right until the array is ordered. One can consider the\n",
    "values of the array at each scan of the array as a series of transformations (irow-th\n",
    "scan) -- in practical cases we don't necessarily care about the intermediate values,\n",
    "but here because the size is manageable and we are trying to get our feet wet with\n",
    "algorithms, we can look at the values.\n",
    "The sequence of results (transformations) after each pass through the array is shown\n",
    "in the following list:\n",
    "1. Initial value: [1003; 3,2; 55,5;-0,0001;-6; 666,6; 102].\n",
    "2. First pass: [3,2; 55,5;-0,0001;-6; 666,6; 102; 1003].\n",
    "3. Second pass: [3,2;-0,0001;-6; 55,5; 102; 666,6; 1003].\n",
    "4. Third pass: [-0,0001;-6; 3,2; 55,5; 102; 666,6; 1003].\n",
    "5. Fourth pass: [-6;-0,0001; 3,2; 55,5; 102; 666,6; 1003].\n",
    "6. Fifth pass: [-6;-0,0001; 3,2; 55,5; 102; 666,6; 1003]. Sorted, fast scan.\n",
    "7. Sixth pass: [-6;-0,0001; 3,2; 55,5; 102; 666,6; 1003]. Sorted, fast scan.\n",
    "We could probably add additional code to break from the scans when we have a single\n",
    "pass with no exchanges (like the last two scans) -- while meaningless in this example, for larger collections of\n",
    "things, being able to break out when the sorting is complete is a nice feature."
   ]
  },
  {
   "cell_type": "markdown",
   "metadata": {},
   "source": []
  },
  {
   "cell_type": "markdown",
   "metadata": {},
   "source": [
    "### Insertion Sort\n",
    "The next type of sorting would be to select one item and locate it either left or right\n",
    "of an adjacent item based on its size { like sorting a deck of cards, or perhaps a better\n",
    "description { again using the bookshelf analog from Christian and Griffths (2016)\n",
    "(pg. 65)\n",
    "\n",
    "You might take a different tack -- pulling all the books off the shelf\n",
    "and putting them back in place one by one. You'd put the ffrst book in\n",
    "the middle of the shelf, then take the second and compare it to the first,\n",
    "inserting it either to the right or to the left. Picking up the third book,\n",
    "you'd run through the books on the shelf from left to right until you found\n",
    "the right spot to tuck it in. Repeating this process, gradually all of the\n",
    "books would end up sorted on the shelf and you'd be done. Computer\n",
    "scientists call this, appropriately enough, Insertion Sort. The good news\n",
    "is that it's arguably even more intuitive than Bubble Sort and doesn't\n",
    "have quite the bad reputation. The bad news is that it's not actually that\n",
    "much faster. You still have to do one insertion for each book. And each\n",
    "insertion still involves moving past about half the books on the shelf, on\n",
    "average, to find the correct place.\n",
    "Although in practice Insertion Sort does run a bit faster than Bubble Sort,\n",
    "again we land squarely, if you will, in quadratic time. Sorting anything\n",
    "more than a single bookshelf is still an unwieldy prospect.\"\n",
    "Listing 8 is an R implementation of a straight insertion sort. The script is quite\n",
    "compact, and I used indentation and extra line spacing to keep track of the scoping\n",
    "delimiters. The sort works as follows, take the an element of the array (start with\n",
    "2 and work to the right) and put it into a temporary location (called swap in my\n",
    "script). Then compare locations to the left of swap. If smaller, then break from the\n",
    "loop, exchange values, otherwise the values are currently ordered. Repeat (starting\n",
    "at the next element) , when all elements have been traversed the resulting vector is\n",
    "sorted. Here are the transformations for each pass through the outer loop:\n",
    "\n",
    "#### Straight Insertion\n",
    "The straight insertion sort is the algorithm a card player would use to sort cards. Pick out\n",
    "the second card and put it into order with respect to the first; then pick the third card\n",
    "and insert it into sequence with the first two; continue until the last card is picked out and\n",
    "inserted. Once the last card is sequenced, the result is a sorted deck (list).\n",
    "Python implementation of such an algorithm is:"
   ]
  },
  {
   "cell_type": "code",
   "execution_count": 8,
   "metadata": {},
   "outputs": [
    {
     "name": "stdout",
     "output_type": "stream",
     "text": [
      "Item Count = :  3\n",
      "Unsorted List :  [7, 11, 5]"
     ]
    }
   ],
   "source": [
    "#array = [7,11,5,8,9,13,66,99,223]\n",
    "array = [7,11,5]\n",
    "howMany = len(array)\n",
    "print(\"Item Count = : \",howMany)\n",
    "print(\"Unsorted List : \", array, end =\"\")"
   ]
  },
  {
   "cell_type": "code",
   "execution_count": 9,
   "metadata": {},
   "outputs": [
    {
     "name": "stdout",
     "output_type": "stream",
     "text": [
      "Sorted List :  [5, 7, 11]"
     ]
    }
   ],
   "source": [
    "# insertion sort\n",
    "for i in range(1, len(array)): # Traverse through 1 to len(arr) \n",
    "    key = array[i] \n",
    "        # Move elements of arr[0..i-1], that are \n",
    "        # greater than key, to one position ahead \n",
    "        # of their current position \n",
    "    j = i-1\n",
    "    while j >=0 and key < array[j] : \n",
    "            array[j+1] = array[j] \n",
    "            j -= 1\n",
    "    array[j+1] = key \n",
    "#results  \n",
    "print(\"Sorted List : \", array, end =\"\")"
   ]
  },
  {
   "cell_type": "markdown",
   "metadata": {},
   "source": [
    "Probably useful to put into a functional structure:"
   ]
  },
  {
   "cell_type": "code",
   "execution_count": 10,
   "metadata": {},
   "outputs": [],
   "source": [
    "# Function to do insertion sort \n",
    "def insertionSort(array): \n",
    "    # Traverse through 1 to len(arr) \n",
    "    for i in range(1, len(array)): \n",
    "        key = array[i] \n",
    "        # Move elements of arr[0..i-1], that are \n",
    "        # greater than key, to one position ahead \n",
    "        # of their current position \n",
    "        j = i-1\n",
    "        while j >=0 and key < array[j] : \n",
    "                array[j+1] = array[j] \n",
    "                j -= 1\n",
    "        array[j+1] = key \n",
    "    return(array)"
   ]
  },
  {
   "cell_type": "code",
   "execution_count": 11,
   "metadata": {},
   "outputs": [
    {
     "name": "stdout",
     "output_type": "stream",
     "text": [
      "Unsorted List :  [7, 11, 5, 8, 9, 13, 66, 99, 223]\n",
      "Sorted List :  [5, 7, 8, 9, 11, 13, 66, 99, 223]"
     ]
    }
   ],
   "source": [
    "array = [7,11,5,8,9,13,66,99,223]\n",
    "print(\"Unsorted List : \", array)\n",
    "insertionSort(array)\n",
    "print(\"Sorted List : \", array, end =\"\")"
   ]
  },
  {
   "cell_type": "code",
   "execution_count": null,
   "metadata": {},
   "outputs": [],
   "source": []
  }
 ],
 "metadata": {
  "kernelspec": {
   "display_name": "Python 3",
   "language": "python",
   "name": "python3"
  },
  "language_info": {
   "codemirror_mode": {
    "name": "ipython",
    "version": 3
   },
   "file_extension": ".py",
   "mimetype": "text/x-python",
   "name": "python",
   "nbconvert_exporter": "python",
   "pygments_lexer": "ipython3",
   "version": "3.8.2"
  }
 },
 "nbformat": 4,
 "nbformat_minor": 4
}
