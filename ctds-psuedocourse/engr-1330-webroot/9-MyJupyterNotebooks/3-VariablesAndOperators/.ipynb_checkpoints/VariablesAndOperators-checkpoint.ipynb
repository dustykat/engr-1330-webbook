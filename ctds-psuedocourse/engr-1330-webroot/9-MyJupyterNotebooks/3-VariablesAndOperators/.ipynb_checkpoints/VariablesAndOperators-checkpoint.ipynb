{
 "cells": [
  {
   "cell_type": "markdown",
   "metadata": {},
   "source": [
    "# Rudimentary Python (aka Baby Snakes)\n",
    "More on variables, their types, uses and such.\n",
    "\n",
    "## Variables and Operators\n",
    "Variables are names given to data that we want to store and manipulate in programs. A\n",
    "variable has a name and a value. The value representation depends on what type of object\n",
    "the variable represents. \n",
    "\n",
    "The utility of variables comes in when we have a structure that is universal, but values of\n",
    "variables within the structure will change -- otherwise it would be simple enough to just\n",
    "hardwire the arithmetic.\n",
    "\n",
    "Suppose we want to store the time of concentration for some hydrologic calculation. To do\n",
    "so, we can name the variable ``TimeOfConcentration``, and then assign a value to the variable,\n",
    "for instance:\n",
    "\n",
    "    TimeOfConcentration = 0.0\n",
    "    \n",
    "After this assignment statement the variable is created in the program and has a value of\n",
    "0.0. The use of a decimal point in the initial assignment establishes the variable as a \n",
    "float (a real variable is called a floating point representation -- or just a float).\n",
    "\n",
    "We can define multiple variables on a single line if we wish like:\n",
    "\n",
    "    TimeOfConcentration = 0.0; Area= 0.0; Depth = 0.0\n",
    "\n",
    "I personally don't like multiple definitions on a single line, i find it makes the code hard to\n",
    "maintain, but the choice is individual preference -- there is certainly logic in grouping items\n",
    "that are related together so if you like that approach then by all means use it.\n",
    "\n",
    "The code fragment below illustrates the creation/assignments:"
   ]
  },
  {
   "cell_type": "code",
   "execution_count": 1,
   "metadata": {},
   "outputs": [
    {
     "name": "stdout",
     "output_type": "stream",
     "text": [
      "0.0\n"
     ]
    },
    {
     "ename": "NameError",
     "evalue": "name 'Area' is not defined",
     "output_type": "error",
     "traceback": [
      "\u001b[0;31m---------------------------------------------------------------------------\u001b[0m",
      "\u001b[0;31mNameError\u001b[0m                                 Traceback (most recent call last)",
      "\u001b[0;32m<ipython-input-1-718b6e912412>\u001b[0m in \u001b[0;36m<module>\u001b[0;34m\u001b[0m\n\u001b[1;32m      1\u001b[0m \u001b[0mTimeOfConcentration\u001b[0m \u001b[0;34m=\u001b[0m \u001b[0;36m0.0\u001b[0m\u001b[0;34m\u001b[0m\u001b[0;34m\u001b[0m\u001b[0m\n\u001b[1;32m      2\u001b[0m \u001b[0mprint\u001b[0m\u001b[0;34m(\u001b[0m\u001b[0mTimeOfConcentration\u001b[0m\u001b[0;34m)\u001b[0m\u001b[0;34m\u001b[0m\u001b[0;34m\u001b[0m\u001b[0m\n\u001b[0;32m----> 3\u001b[0;31m \u001b[0mprint\u001b[0m\u001b[0;34m(\u001b[0m\u001b[0mArea\u001b[0m\u001b[0;34m)\u001b[0m \u001b[0;31m# Not yet defined\u001b[0m\u001b[0;34m\u001b[0m\u001b[0;34m\u001b[0m\u001b[0m\n\u001b[0m",
      "\u001b[0;31mNameError\u001b[0m: name 'Area' is not defined"
     ]
    }
   ],
   "source": [
    "TimeOfConcentration = 0.0\n",
    "print(TimeOfConcentration)\n",
    "print(Area) # Not yet defined"
   ]
  },
  {
   "cell_type": "markdown",
   "metadata": {},
   "source": [
    "Here we define the missing values after reset (don't use reset unless your sure, it can clobber your work)"
   ]
  },
  {
   "cell_type": "code",
   "execution_count": 27,
   "metadata": {},
   "outputs": [
    {
     "name": "stdout",
     "output_type": "stream",
     "text": [
      "0.0\n",
      "0.0\n"
     ]
    }
   ],
   "source": [
    "%reset -f\n",
    "TimeOfConcentration = 0.0; Area= 0.0; Depth = 0.0\n",
    "print(TimeOfConcentration)\n",
    "print(Area) # Now defined!"
   ]
  },
  {
   "cell_type": "markdown",
   "metadata": {},
   "source": [
    "## Naming Rules\n",
    "Variable names in Python can only contain letters ``a - z, A - Z``, numerals ``0 - 9``, or\n",
    "underscores ``_``. \n",
    "The first character cannot be a number, otherwise there is considerable freedom\n",
    "in naming. \n",
    "The names can be reasonably long. <strong>runTime</strong>, <strong>run_Time</strong>, <strong>_run_Time2</strong>, <strong>_2runTime</strong>\n",
    "are all valid names, but <strong>2runTime</strong> is not.\n",
    "How can you check? Simply assign values and let the JIT compiler identify syntax errors:"
   ]
  },
  {
   "cell_type": "code",
   "execution_count": 28,
   "metadata": {},
   "outputs": [
    {
     "name": "stdout",
     "output_type": "stream",
     "text": [
      "1 2 22 222\n"
     ]
    }
   ],
   "source": [
    "%reset -f\n",
    "runTime = 1\n",
    "run_Time = 2\n",
    "_run_Time2 = 22\n",
    "_2runTime = 222\n",
    "print(runTime,run_Time,_run_Time2,_2runTime)"
   ]
  },
  {
   "cell_type": "code",
   "execution_count": null,
   "metadata": {},
   "outputs": [],
   "source": [
    "2runTime = \"bad, dirty, no!\""
   ]
  },
  {
   "cell_type": "markdown",
   "metadata": {},
   "source": [
    "There are some reserved words that cannot be used as variable names because they have\n",
    "pre-assigned meaning in Parseltongue. \n",
    "These words include ``print``,\n",
    "``input``, ``if``, ``while``. \n",
    "There are more, again the interpreter won't allow you to use these names\n",
    "as variables and will issue an error message when you attempt to run a program with such\n",
    "words used as variables.\n",
    "\n",
    "## Assignment Operator\n",
    "The ``=`` sign used in the variable definition is called an assignment operator (or assignment\n",
    "sign). The symbol means that the expression to the right of the symbol is to be evaluated\n",
    "and the result placed into the variable on the left side of the symbol.\n",
    "Here is an example to consider"
   ]
  },
  {
   "cell_type": "code",
   "execution_count": null,
   "metadata": {},
   "outputs": [],
   "source": [
    "# Assignment Operator\n",
    "x = 5\n",
    "y = 10\n",
    "print (x,y) # after define\n",
    "x=y #y clobbers x\n",
    "print (x,y) # y clobbers x\n",
    "print(\"x is type: \",type(x))\n",
    "print(\"y is type: \",type(y))"
   ]
  },
  {
   "cell_type": "markdown",
   "metadata": {},
   "source": [
    "So look at what happened. When we assigned values to the variables named x and y, they\n",
    "started life as 5 and 10. We then wrote those values to the console (this is called echoing\n",
    "input), and the program returned 5 and 10. Then we assigned ``y`` to ``x`` which took the value\n",
    "in ``y`` and replaced the value that was in ``x`` with this value. We then wrote the contents again,\n",
    "and both variables have the value 10.\n",
    "\n",
    "The two variables still exist as distinct objects, as illustrated with the two print statements.  \n",
    "Now if we make a single change in the program, we can have ``x`` clobber ``y``"
   ]
  },
  {
   "cell_type": "code",
   "execution_count": null,
   "metadata": {},
   "outputs": [],
   "source": [
    "# Assignment Operator\n",
    "x = 5\n",
    "y = 10\n",
    "print (x,y) # after define\n",
    "y=x #y clobbers x\n",
    "print (x,y) # y clobbers x\n",
    "print(\"x is type: \",type(x))\n",
    "print(\"y is type: \",type(y))"
   ]
  },
  {
   "cell_type": "markdown",
   "metadata": {},
   "source": [
    "## Arithmetic Operators\n",
    "In addition to assignment we can also perform arithmetic operations on variables.\n",
    "\n",
    "    SYMBOL           MEANING             EXAMPLE\n",
    "    =                Assignment x=3            Assigns value of 3 to x.\n",
    "    +                Addition x+y              Adds values in x and y.\n",
    "    -                Subtraction x-y           Subtracts values in y from x.\n",
    "    *                Multiplication x*y        Multiplies values in x and y.\n",
    "    /                Division x/y              Divides value in x by value in y.\n",
    "    //               Floor division x//y       Divide x by y, truncate result to whole number.\n",
    "    %                Modulus                   x%y Returns remainder when x is divided by y.\n",
    "    **               Exponentation x**y        Raises value in x by value in y. ( e.g. $x^y$)\n",
    "    +=               Additive assignment       x+=2 Equivalent to x = x+2.\n",
    "    -=               Subtractive assignment    x-=2 Equivalent to x = x-2.\n",
    "    *=               Multiplicative assignment x*=3 Equivalent to x = x*3.\n",
    "    /=               Divide assignment         x*/3 Equivalent to x = x/3."
   ]
  },
  {
   "cell_type": "code",
   "execution_count": 15,
   "metadata": {},
   "outputs": [
    {
     "name": "stdout",
     "output_type": "stream",
     "text": [
      "x,y = ( 10 , 5 )\n",
      "x+y  15\n",
      "x-y  5\n",
      "x*y  50\n",
      "ordinary divide  2.0\n",
      "floor divide  2\n",
      "modulus divide  1\n",
      "y goes into x+1, floor times with a remainder of modulus \n",
      "x**y  100000\n",
      "3\n",
      "-1\n",
      "3\n"
     ]
    }
   ],
   "source": [
    "# Explore Operators\n",
    "x = 10\n",
    "y = 5\n",
    "print (\"x,y = (\",x,\",\", y,\")\")\n",
    "print (\"x+y \",x+y)\n",
    "print (\"x-y \",x-y)\n",
    "print (\"x*y \",x*y)\n",
    "print (\"ordinary divide \",x/y)\n",
    "print (\"floor divide \",(x+1)//y)\n",
    "print (\"modulus divide \",(x+1)%y)\n",
    "print(\"y goes into x+1, floor times with a remainder of modulus \")\n",
    "print (\"x**y \",x**y)\n",
    "# Special Operators\n",
    "x = 1\n",
    "x += 2\n",
    "print (x)\n",
    "x = 1\n",
    "x -= 2\n",
    "print (x)\n",
    "x = 1\n",
    "x *=3\n",
    "print (x)\n",
    "x = 10\n",
    "x /= 2"
   ]
  },
  {
   "cell_type": "markdown",
   "metadata": {},
   "source": [
    "Examine the script below.\n",
    "\n",
    "The script uses the special operator and introduces a loop structure (count controlled repetition) \n",
    "What is the value of x when the script is done? \n",
    "If you change the x+=1 to a different increment, say x+=3 what is the value of x when the program is done? \n",
    "What happens to the value\n",
    "of the \"loop counter?\""
   ]
  },
  {
   "cell_type": "code",
   "execution_count": 22,
   "metadata": {},
   "outputs": [
    {
     "name": "stdout",
     "output_type": "stream",
     "text": [
      "x=  1\n",
      "begin loop\n",
      "x=  2\n",
      "x=  3\n",
      "x=  4\n",
      "end loop\n",
      "loop counter =  3\n",
      "x=  4\n"
     ]
    }
   ],
   "source": [
    "x=1\n",
    "print ('x= ',x)\n",
    "print ('begin loop')\n",
    "# do loop\n",
    "for i in (1,2,3):\n",
    "    x+=1\n",
    "    print ('x= ',x) ## print after increment\n",
    "# end of loop\n",
    "print ('end loop')\n",
    "print ('loop counter = ',i)\n",
    "print ('x= ',x)"
   ]
  },
  {
   "cell_type": "code",
   "execution_count": 23,
   "metadata": {},
   "outputs": [
    {
     "name": "stdout",
     "output_type": "stream",
     "text": [
      "x=  1\n",
      "begin loop\n",
      "x=  4\n",
      "x=  7\n",
      "x=  10\n",
      "end loop\n",
      "loop counter =  3\n",
      "x=  10\n"
     ]
    }
   ],
   "source": [
    "x=1 \n",
    "print ('x= ',x)\n",
    "print ('begin loop')\n",
    "# do loop\n",
    "for i in (1,2,3):\n",
    "    x+=3 ## Change the increment\n",
    "    print ('x= ',x) ## print after increment\n",
    "# end of loop\n",
    "print ('end loop')\n",
    "print ('loop counter = ',i)\n",
    "print ('x= ',x)"
   ]
  },
  {
   "cell_type": "code",
   "execution_count": 29,
   "metadata": {},
   "outputs": [
    {
     "name": "stdout",
     "output_type": "stream",
     "text": [
      "x=  1\n",
      "begin loop\n",
      "x=  1\n",
      "x=  2\n",
      "x=  3\n",
      "end loop\n",
      "loop counter =  3\n",
      "x=  4\n"
     ]
    }
   ],
   "source": [
    "x=1 \n",
    "print ('x= ',x)\n",
    "print ('begin loop')\n",
    "# do loop\n",
    "for i in (1,2,3):\n",
    "    print ('x= ',x) ## print before increment\n",
    "    x+=1\n",
    "# end of loop\n",
    "print ('end loop')\n",
    "print ('loop counter = ',i)\n",
    "print ('x= ',x)"
   ]
  },
  {
   "cell_type": "code",
   "execution_count": 26,
   "metadata": {},
   "outputs": [
    {
     "data": {
      "text/plain": [
       "3"
      ]
     },
     "execution_count": 26,
     "metadata": {},
     "output_type": "execute_result"
    }
   ],
   "source": []
  },
  {
   "cell_type": "code",
   "execution_count": null,
   "metadata": {},
   "outputs": [],
   "source": []
  }
 ],
 "metadata": {
  "kernelspec": {
   "display_name": "Python 3",
   "language": "python",
   "name": "python3"
  },
  "language_info": {
   "codemirror_mode": {
    "name": "ipython",
    "version": 3
   },
   "file_extension": ".py",
   "mimetype": "text/x-python",
   "name": "python",
   "nbconvert_exporter": "python",
   "pygments_lexer": "ipython3",
   "version": "3.8.2"
  }
 },
 "nbformat": 4,
 "nbformat_minor": 4
}
