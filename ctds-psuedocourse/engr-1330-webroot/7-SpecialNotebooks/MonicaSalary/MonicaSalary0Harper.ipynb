{
 "cells": [
  {
   "cell_type": "code",
   "execution_count": 1,
   "metadata": {},
   "outputs": [
    {
     "name": "stdout",
     "output_type": "stream",
     "text": [
      "Projected Salaries at the end of the year\n",
      "\n",
      "\n",
      "Year      Salary With Bonus        Salary With No Bonus\n",
      "1            11000.0            11047.130674412972\n",
      "2            12100.0            12203.909613755603\n",
      "3            13310.0            13481.81842418829\n",
      "4            14641.0            14893.540986071645\n",
      "5            16105.1            16453.089347785888\n",
      "6            17715.61            18175.94280227828\n",
      "7            19487.171000000002            20079.201526742407\n",
      "8            21435.888100000004            22181.756310379584\n",
      "9            23579.476910000005            24504.476054874784\n",
      "10           25937.424601000006            27070.414908622544\n",
      "11           28531.167061100008            29905.041090613042\n",
      "12           31384.28376721001            33036.48967516918\n",
      "13           34522.712143931014            36495.84184654891\n",
      "14           37974.98335832411            40317.4333951535\n",
      "15           41772.48169415652            44539.19551732023\n",
      "16           45949.729863572175            49203.0313013065\n",
      "17           50544.702849929396            54355.231636276476\n",
      "18           55599.173134922334            60046.93467239322\n",
      "19           61159.090448414565            66334.63339238669\n",
      "20           67274.99949325602            73280.73633249741\n"
     ]
    }
   ],
   "source": [
    "InitialSalary=10000\n",
    "BonusSalary=InitialSalary\n",
    "NoBonusSalary=InitialSalary\n",
    "print(\"Projected Salaries at the end of the year\\n\\n\\nYear      Salary With Bonus        Salary With No Bonus\")\n",
    "for Year in range (20):\n",
    "    BonusSalary=BonusSalary+(BonusSalary*.1)\n",
    "    for Month in range (12):\n",
    "        NoBonusSalary=NoBonusSalary+NoBonusSalary*.1*1/12\n",
    "    if(Year>8):\n",
    "        print(Year+1,\"         \",BonusSalary,\"          \",NoBonusSalary)\n",
    "    else:\n",
    "        print(Year+1,\"          \",BonusSalary,\"          \",NoBonusSalary)\n",
    "\n"
   ]
  },
  {
   "cell_type": "code",
   "execution_count": null,
   "metadata": {},
   "outputs": [],
   "source": []
  }
 ],
 "metadata": {
  "kernelspec": {
   "display_name": "Python 3",
   "language": "python",
   "name": "python3"
  },
  "language_info": {
   "codemirror_mode": {
    "name": "ipython",
    "version": 3
   },
   "file_extension": ".py",
   "mimetype": "text/x-python",
   "name": "python",
   "nbconvert_exporter": "python",
   "pygments_lexer": "ipython3",
   "version": "3.8.5"
  }
 },
 "nbformat": 4,
 "nbformat_minor": 4
}
