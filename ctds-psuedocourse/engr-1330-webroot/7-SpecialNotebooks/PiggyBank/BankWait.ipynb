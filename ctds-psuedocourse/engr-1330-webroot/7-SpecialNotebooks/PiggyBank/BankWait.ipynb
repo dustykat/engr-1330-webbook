{
 "cells": [
  {
   "cell_type": "markdown",
   "metadata": {},
   "source": [
    "BANKQUE - Waiting Queue\n",
    "no tags \n",
    "\n",
    " \n",
    "https://www.spoj.com/problems/BANKQUE/\n",
    " \n",
    "\n",
    "It is the beginning of the day at a bank, and a crowd of N clients is already waiting for the entrance door to open.Once the bank opens, no more clients arrive, and E employees begin serving the clients. An emplyee takes T minutes to serve each client. How long each client has already been waiting at the moment when the bank door opensis also given.Your have to determine the best way to arrange the clients into E queues,so that the waiting time of the client who waits longest is minimized.The waiting time of a client is the sum of the time the client waited outside before the bank opened,the time the client waited in a queue once the bank opened until the service began, and the service time of the client.\n",
    "It is the beginning of the day at a bank, and a crowd of N clients is already waiting for the entrance door to open. Once the bank opens, no more clients arrive, and E employees begin serving the clients. An employee takes T minutes to serve each client. How long each client has already been waiting at the moment when the bank door opens is also given.Your have to determine the best way to arrange the clients into E queues so that the waiting time of the client who waits longest is minimized.The waiting time of a client is the sum of the time the client waited outside before the bank opened, the time the client waited in a queue once the bank opened until the service began, and the service time of the client.\n",
    "Input\n",
    "\n",
    "First line contains k (the number of test cases). Then k test cases follows. First line of each test case contains N, E and T as described above. Next line contains N integers t1, t2, ..tn, ith of which is the waiting time of ith client before the opening of door.\n",
    "\n",
    "Constraints:  1<=k<=25,  1<=N<=50,  1<=E<=50,  1<=T<=100,  0<=ti<=100\n",
    "\n",
    "Output\n",
    "\n",
    "For each test case print in a seperate line the minimum waiting time for the client who waits the longest.\n",
    "\n",
    "Example\n",
    "\n",
    "Input:\n",
    "3\n",
    "2 1 10\n",
    "1 2\n",
    "1 50 50\n",
    "10\n",
    "5 3 10\n",
    "2 4 6 3 5\n",
    "\n",
    "Output:\n",
    "21\n",
    "60\n",
    "23\n",
    " Submit solution!\n"
   ]
  },
  {
   "cell_type": "code",
   "execution_count": null,
   "metadata": {},
   "outputs": [],
   "source": []
  }
 ],
 "metadata": {
  "kernelspec": {
   "display_name": "Python 3",
   "language": "python",
   "name": "python3"
  },
  "language_info": {
   "codemirror_mode": {
    "name": "ipython",
    "version": 3
   },
   "file_extension": ".py",
   "mimetype": "text/x-python",
   "name": "python",
   "nbconvert_exporter": "python",
   "pygments_lexer": "ipython3",
   "version": "3.8.5"
  }
 },
 "nbformat": 4,
 "nbformat_minor": 4
}
