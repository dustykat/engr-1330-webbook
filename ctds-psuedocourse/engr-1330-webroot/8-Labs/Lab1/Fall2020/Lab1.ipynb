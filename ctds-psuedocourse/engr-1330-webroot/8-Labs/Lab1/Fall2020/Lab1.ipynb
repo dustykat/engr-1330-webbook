{
 "cells": [
  {
   "cell_type": "markdown",
   "metadata": {},
   "source": [
    "# Laboratory 0\n",
    "## Set up your computing environment\n",
    "\n",
    "The objectives of this laboratory session are:\n",
    "\n",
    "\n",
    "1. Access Python on-line compiler (for quick simple work)\n",
    "2. Write and run \"HELLO WORLD\"\n",
    "3. Set up a functioning CoCalc workspace (using the free tier)\n",
    "4. Write and run \"HELLO WORLD\""
   ]
  },
  {
   "cell_type": "markdown",
   "metadata": {},
   "source": [
    "## Exercise 1 - Python On-Line\n",
    "\n",
    "1. Select one of the on-line compilers below:\n",
    "\n",
    "    1. A few Python 3.6+ On-Line Compilers (interfaces vary)\n",
    "        1. https://www.programiz.com/python-programming/online-compiler/  \n",
    "        2. https://www.onlinegdb.com/online_python_compiler\n",
    "\n",
    "2. The compilers will automatically provide the \"HELLO WORLD\" script, run the script, verify output, then modify the script as follows:\n",
    "    1. Find the part that looks like `print(\"hello world\")`\n",
    "    2. Change it to look like `print(\"Were gonna build a dog park\")`\n",
    "    3. Run the modified script\n",
    "    4. (Optional) If you know how, screen capture the output, save as a `.png` file.\n",
    "\n",
    "Video demonstration of above exercise https://engrmediacast.ttu.edu/mediasite/mymediasite/presentations/a865e7aa98e94388ad2d9db56672f8861d"
   ]
  },
  {
   "cell_type": "markdown",
   "metadata": {},
   "source": [
    "\n",
    "## Exercise 2 - CoCalc Environment\n",
    "\n",
    "The CoCalc environment is a recomended environment for this course.  \n",
    "The URL is https://cocalc.com/\n",
    "\n",
    "![](CoCalc.png)\n",
    "\n",
    "You will need an account; to obtain an account you will provide your name and email.  Their server will send you a message, so use an email you can easily access. Once you have an account select Sign In.  \n",
    "\n",
    "Video demonstrating login and initial set-up for this lab:  https://engrmediacast.ttu.edu/mediasite/mymediasite/presentations/e6f31bdb661d4197bde4b2eddb51a8c91d\n"
   ]
  },
  {
   "cell_type": "markdown",
   "metadata": {},
   "source": [
    "## Exercise 3 - Hello World in CoCalc\n",
    "The cell below contains the classic \"first program\" of many languages.\n",
    "\n",
    "The script input is quite simple, we instruct the computer to print the literal\n",
    "string \"hello world\" to standard input/output device which is the console. Here our jupyter interface intercepts to output stream and embeds it into this document."
   ]
  },
  {
   "cell_type": "code",
   "execution_count": null,
   "metadata": {},
   "outputs": [],
   "source": [
    "print(\"hello world\")"
   ]
  },
  {
   "cell_type": "markdown",
   "metadata": {},
   "source": [
    "## Change Contents and Run Again\n",
    "Now we try changing the contents of the literal string (everything between the quotes is the literal.  I'll try with something elaborate like:\n",
    "\n",
    "Were gonna build a dog park, the best one ever - and the cats are gonna pay for it!"
   ]
  },
  {
   "cell_type": "code",
   "execution_count": null,
   "metadata": {},
   "outputs": [],
   "source": [
    "print(\"Were gonna build a dog park, the best one ever - and the cats are gonna pay for it!\")"
   ]
  },
  {
   "cell_type": "markdown",
   "metadata": {},
   "source": [
    "## Exercise 4 (Optional) Embed .png into markdown cell\n",
    "The graphics are not quite cut-and-paste as in MS Word, or Libre Office.\n",
    "In Markdown, the files must exist, and be in same directory (or you provide a local path), and you insert them using \n",
    "$$\\texttt{![](filename.png)}$$\n",
    "\n",
    "Now insert the screen capture you made earlier by\n",
    "  1. Upload the .png to your CoCalc space, into same directory as your lab notebook.\n",
    "  2. type $$![](name_of_your_image_file.png)$$\n",
    "  3. Set the cell type to `Markdown'\n",
    "  4. Run the cell -- you should get the image.\n",
    "  \n",
    "Video demonstration of above exercise https://engrmediacast.ttu.edu/mediasite/mymediasite/presentations/3bdd0fdfd4f646648a7706522291f5711d"
   ]
  },
  {
   "cell_type": "markdown",
   "metadata": {},
   "source": [
    "## Handing in your work\n",
    "For this laboratory, once you have sucessfully run a CoCalc notebook, export as .html, download the .html file, and submit it to Blackboard (or Moodle) "
   ]
  },
  {
   "cell_type": "code",
   "execution_count": null,
   "metadata": {},
   "outputs": [],
   "source": []
  }
 ],
 "metadata": {
  "kernelspec": {
   "display_name": "Python 3",
   "language": "python",
   "name": "python3"
  },
  "language_info": {
   "codemirror_mode": {
    "name": "ipython",
    "version": 3
   },
   "file_extension": ".py",
   "mimetype": "text/x-python",
   "name": "python",
   "nbconvert_exporter": "python",
   "pygments_lexer": "ipython3",
   "version": "3.6.9"
  }
 },
 "nbformat": 4,
 "nbformat_minor": 4
}
