{
 "cells": [
  {
   "cell_type": "code",
   "execution_count": 1,
   "metadata": {},
   "outputs": [
    {
     "data": {
      "text/html": [
       "<!--Script block to left align Markdown Tables-->\n",
       "<style>\n",
       "  table {margin-left: 0 !important;}\n",
       "</style>\n"
      ],
      "text/plain": [
       "<IPython.core.display.HTML object>"
      ]
     },
     "metadata": {},
     "output_type": "display_data"
    }
   ],
   "source": [
    "%%html\n",
    "<!--Script block to left align Markdown Tables-->\n",
    "<style>\n",
    "  table {margin-left: 0 !important;}\n",
    "</style>"
   ]
  },
  {
   "cell_type": "markdown",
   "metadata": {},
   "source": [
    "#### Notes\n",
    "Leave script block above in place to left justify the table.\n",
    "This problem can also be used as laboratory exercise in `matplotlib` lesson.  \n",
    "Dependencies: `matplotlib` and `math`; could also be solved using `numpy` and/or `pandas`"
   ]
  },
  {
   "cell_type": "markdown",
   "metadata": {},
   "source": [
    "## Problem X:\n",
    "A tracer gas is used to determine the air exchange rate in a room.  By injecting a stable gas into the room, then monitoring the decay in concentration with time one can estimate the air exchange rate $I$ (air exchanges per unit time).  \n",
    "\n",
    "The governing equation is given by \n",
    "\n",
    "\\begin{equation}\n",
    "C(t)=C_0 e^{-I t}\n",
    "\\label{eqn:air}\n",
    "\\end{equation}\n",
    "\n",
    "A plot of the $ln(C(t))$ versus $t$, should produce a straight line with negative slope proportinal to the exchange rate $I$.\n",
    "\n",
    "Suppose a particular experiment produces the data below, estimate the exchange rate $I$ for these data.\n",
    "\n",
    "|Time (hours)|Concentration (ppm)|\n",
    "|---:|---:|\n",
    "|0.0|10.0|\n",
    "|0.5|8.0|\n",
    "|1.0|6.0|\n",
    "|1.5|5.0|\n",
    "|2.0|3.3|"
   ]
  },
  {
   "cell_type": "code",
   "execution_count": 2,
   "metadata": {},
   "outputs": [],
   "source": [
    "# Produce a labeled plot (title,xaxis,yaxis) of the experimental results in the table, e.g. plot C versus t"
   ]
  },
  {
   "cell_type": "code",
   "execution_count": 3,
   "metadata": {},
   "outputs": [],
   "source": [
    "# Produce a labeled plot (title,xaxis,yaxis) of the experimental results in the table, e.g. plot ln(C) versus t"
   ]
  },
  {
   "cell_type": "code",
   "execution_count": 4,
   "metadata": {},
   "outputs": [],
   "source": [
    "# Define a function conc(t,c0,I) for the governing equation, test for values of t =0, c0=10, I=0.4"
   ]
  },
  {
   "cell_type": "code",
   "execution_count": 5,
   "metadata": {},
   "outputs": [],
   "source": [
    "# Make a plot using the function, with c0=10, I=0.4 for the same time values as the experiment set"
   ]
  },
  {
   "cell_type": "code",
   "execution_count": 6,
   "metadata": {},
   "outputs": [],
   "source": [
    "# Make a plot using the log of the function, with c0=10, I=0.4 for the same time values as the experiment set"
   ]
  },
  {
   "cell_type": "code",
   "execution_count": 7,
   "metadata": {},
   "outputs": [],
   "source": [
    "# Make a plot of both the model (markers and line) and the observed values (markers only) on the same plot, \n",
    "# using trial and error find the value of I that produces best visual fit"
   ]
  },
  {
   "cell_type": "markdown",
   "metadata": {},
   "source": [
    "What is your best visual fit for the room air tracer data ?\n"
   ]
  },
  {
   "cell_type": "code",
   "execution_count": null,
   "metadata": {},
   "outputs": [],
   "source": []
  },
  {
   "cell_type": "code",
   "execution_count": null,
   "metadata": {},
   "outputs": [],
   "source": []
  },
  {
   "cell_type": "code",
   "execution_count": null,
   "metadata": {},
   "outputs": [],
   "source": []
  }
 ],
 "metadata": {
  "kernelspec": {
   "display_name": "Python 3",
   "language": "python",
   "name": "python3"
  },
  "language_info": {
   "codemirror_mode": {
    "name": "ipython",
    "version": 3
   },
   "file_extension": ".py",
   "mimetype": "text/x-python",
   "name": "python",
   "nbconvert_exporter": "python",
   "pygments_lexer": "ipython3",
   "version": "3.6.9"
  }
 },
 "nbformat": 4,
 "nbformat_minor": 4
}
