{
 "cells": [
  {
   "cell_type": "code",
   "execution_count": null,
   "metadata": {},
   "outputs": [],
   "source": []
  },
  {
   "cell_type": "markdown",
   "metadata": {},
   "source": [
    "# Take-Home Portion"
   ]
  },
  {
   "cell_type": "code",
   "execution_count": null,
   "metadata": {},
   "outputs": [],
   "source": [
    "## Problem 1: title (20 points)\n",
    "\n",
    "- data load\n",
    "- OLS fit\n",
    "- Plot data, model, error lines\n"
   ]
  },
  {
   "cell_type": "markdown",
   "metadata": {},
   "source": [
    "<hr/>\n",
    "## Problem 2: Streamflow Forecasting in Colorado River, TX. (50 points)\n",
    "\n",
    "![](https://media.istockphoto.com/photos/luxury-homes-austin-texas-colorado-river-mount-bonnell-district-picture-id501581392?k=6&m=501581392&s=612x612&w=0&h=b98iFZUpWH_8dU-5bGfLbrDcGl_IVTd79pfu_uCjg-8=)   \n",
    "\n",
    "### The Colorado River is the 18th longest river in the United States and the longest river wholly located in Texas. The Colorado River originates from the Llano Estacado region in west Texas with an elevation of 1000 meters, flows southeast through eleven major reservoirs (e.g. Lake J.B. Thomas, E.V. Spence Reservoir and Lake O.H. Ivie) and eventually empties into the Gulf of Mexico near Matagorda. The river is considered as the life blood of Texas due to its essential role for the state’s economy, environment, agriculture, power production and developing municipalities and industries. The Colorado River begin its journey south of Lubbock as an intermittent stream. This means that there are periods where the riverbed goes dry and the flowrate is lower than measurable amounts. \n",
    "\n",
    "![](https://www.austinchronicle.com/binary/a4b8e7cf/pols_feature-5164.jpeg)\n",
    "\n",
    "### The \"Colorado River Data.csv\" dataset contains monthly streamflow recordings from 03/1988 to 03/2019 at USGS station #08117995 near Gail, Borden County, Texas as well as several hydro-meteorological variables from PRISM Climate Data:\n",
    "\n",
    "|Columns|Info.|\n",
    "|---:|---:|\n",
    "|Date |Date of recording in YYYY-MM format|\n",
    "|PPT |Accumulated Monthly Precipitation (mm) |\n",
    "|Tmin |Minimum Recorded Temperature (degrees C)|\n",
    "|Tav |Average Recorded Temperature (degrees C)|\n",
    "|Tmax |Maximum Recorded Temperature (degrees C)|\n",
    "|delt |Difference between Maximum and Minimum Recorded Temperatures (degrees C)|\n",
    "|SMI |Soil Moisture Index (SMI) - The product of precipitation and average temperature| \n",
    "|ET |Evapotranspiration (mm)|\n",
    "|Flow_cfs |Average recorded flowrate (cfs)|\n",
    "|Flow? |Flow status: It is 1 when there is a flow and it is 0 when there is no flow.|\n",
    "\n",
    "\n",
    "### Follow the steps below and answer the associated questions:"
   ]
  },
  {
   "cell_type": "code",
   "execution_count": 1,
   "metadata": {},
   "outputs": [],
   "source": [
    "#Step0: Load the necessary libraries\n",
    "import numpy as np\n",
    "import pandas as pd\n",
    "import statistics\n",
    "import scipy.stats\n",
    "import matplotlib.pyplot\n",
    "from matplotlib import pyplot as plt\n",
    "import seaborn as sns\n",
    "\n",
    "import statsmodels.formula.api as smf\n",
    "import sklearn.metrics as metrics"
   ]
  },
  {
   "cell_type": "markdown",
   "metadata": {},
   "source": [
    "<hr/> Step 1: <hr/>\n",
    "Read the \"Colorado River Data.csv\" file as a dataframe. Explore the dataframe and in a markdown cell breifly describe the different variables in your own words. <br>"
   ]
  },
  {
   "cell_type": "code",
   "execution_count": 2,
   "metadata": {},
   "outputs": [
    {
     "data": {
      "text/html": [
       "<div>\n",
       "<style scoped>\n",
       "    .dataframe tbody tr th:only-of-type {\n",
       "        vertical-align: middle;\n",
       "    }\n",
       "\n",
       "    .dataframe tbody tr th {\n",
       "        vertical-align: top;\n",
       "    }\n",
       "\n",
       "    .dataframe thead th {\n",
       "        text-align: right;\n",
       "    }\n",
       "</style>\n",
       "<table border=\"1\" class=\"dataframe\">\n",
       "  <thead>\n",
       "    <tr style=\"text-align: right;\">\n",
       "      <th></th>\n",
       "      <th>Date</th>\n",
       "      <th>PPT</th>\n",
       "      <th>Tmin</th>\n",
       "      <th>Tav</th>\n",
       "      <th>Tmax</th>\n",
       "      <th>delt</th>\n",
       "      <th>SMI</th>\n",
       "      <th>ET</th>\n",
       "      <th>Flow_cfs</th>\n",
       "      <th>Flow?</th>\n",
       "    </tr>\n",
       "  </thead>\n",
       "  <tbody>\n",
       "    <tr>\n",
       "      <th>0</th>\n",
       "      <td>1988-03</td>\n",
       "      <td>16.09</td>\n",
       "      <td>2.8</td>\n",
       "      <td>12.3</td>\n",
       "      <td>21.8</td>\n",
       "      <td>19.0</td>\n",
       "      <td>197.907</td>\n",
       "      <td>31.429845</td>\n",
       "      <td>2.68</td>\n",
       "      <td>1</td>\n",
       "    </tr>\n",
       "    <tr>\n",
       "      <th>1</th>\n",
       "      <td>1988-04</td>\n",
       "      <td>17.63</td>\n",
       "      <td>7.9</td>\n",
       "      <td>17.0</td>\n",
       "      <td>26.1</td>\n",
       "      <td>18.2</td>\n",
       "      <td>299.710</td>\n",
       "      <td>61.427057</td>\n",
       "      <td>2.33</td>\n",
       "      <td>1</td>\n",
       "    </tr>\n",
       "    <tr>\n",
       "      <th>2</th>\n",
       "      <td>1988-05</td>\n",
       "      <td>63.44</td>\n",
       "      <td>14.1</td>\n",
       "      <td>21.4</td>\n",
       "      <td>28.7</td>\n",
       "      <td>14.6</td>\n",
       "      <td>1357.616</td>\n",
       "      <td>104.931753</td>\n",
       "      <td>4.56</td>\n",
       "      <td>1</td>\n",
       "    </tr>\n",
       "    <tr>\n",
       "      <th>3</th>\n",
       "      <td>1988-06</td>\n",
       "      <td>58.01</td>\n",
       "      <td>18.6</td>\n",
       "      <td>25.8</td>\n",
       "      <td>33.0</td>\n",
       "      <td>14.4</td>\n",
       "      <td>1496.658</td>\n",
       "      <td>149.374517</td>\n",
       "      <td>18.20</td>\n",
       "      <td>1</td>\n",
       "    </tr>\n",
       "    <tr>\n",
       "      <th>4</th>\n",
       "      <td>1988-07</td>\n",
       "      <td>91.98</td>\n",
       "      <td>20.5</td>\n",
       "      <td>26.6</td>\n",
       "      <td>32.7</td>\n",
       "      <td>12.2</td>\n",
       "      <td>2446.668</td>\n",
       "      <td>161.751506</td>\n",
       "      <td>76.10</td>\n",
       "      <td>1</td>\n",
       "    </tr>\n",
       "  </tbody>\n",
       "</table>\n",
       "</div>"
      ],
      "text/plain": [
       "      Date    PPT  Tmin   Tav  Tmax  delt       SMI          ET  Flow_cfs  \\\n",
       "0  1988-03  16.09   2.8  12.3  21.8  19.0   197.907   31.429845      2.68   \n",
       "1  1988-04  17.63   7.9  17.0  26.1  18.2   299.710   61.427057      2.33   \n",
       "2  1988-05  63.44  14.1  21.4  28.7  14.6  1357.616  104.931753      4.56   \n",
       "3  1988-06  58.01  18.6  25.8  33.0  14.4  1496.658  149.374517     18.20   \n",
       "4  1988-07  91.98  20.5  26.6  32.7  12.2  2446.668  161.751506     76.10   \n",
       "\n",
       "   Flow?  \n",
       "0      1  \n",
       "1      1  \n",
       "2      1  \n",
       "3      1  \n",
       "4      1  "
      ]
     },
     "execution_count": 2,
     "metadata": {},
     "output_type": "execute_result"
    }
   ],
   "source": [
    "#Step1:Read the \"Colorado River Data.csv\" file as a dataframe\n",
    "df = pd.read_csv('Colorado River Data.csv')\n",
    "df.head()"
   ]
  },
  {
   "cell_type": "code",
   "execution_count": 3,
   "metadata": {},
   "outputs": [
    {
     "data": {
      "text/html": [
       "<div>\n",
       "<style scoped>\n",
       "    .dataframe tbody tr th:only-of-type {\n",
       "        vertical-align: middle;\n",
       "    }\n",
       "\n",
       "    .dataframe tbody tr th {\n",
       "        vertical-align: top;\n",
       "    }\n",
       "\n",
       "    .dataframe thead th {\n",
       "        text-align: right;\n",
       "    }\n",
       "</style>\n",
       "<table border=\"1\" class=\"dataframe\">\n",
       "  <thead>\n",
       "    <tr style=\"text-align: right;\">\n",
       "      <th></th>\n",
       "      <th>PPT</th>\n",
       "      <th>Tmin</th>\n",
       "      <th>Tav</th>\n",
       "      <th>Tmax</th>\n",
       "      <th>delt</th>\n",
       "      <th>SMI</th>\n",
       "      <th>ET</th>\n",
       "      <th>Flow_cfs</th>\n",
       "      <th>Flow?</th>\n",
       "    </tr>\n",
       "  </thead>\n",
       "  <tbody>\n",
       "    <tr>\n",
       "      <th>count</th>\n",
       "      <td>373.000000</td>\n",
       "      <td>373.000000</td>\n",
       "      <td>373.000000</td>\n",
       "      <td>373.000000</td>\n",
       "      <td>373.000000</td>\n",
       "      <td>373.000000</td>\n",
       "      <td>373.000000</td>\n",
       "      <td>373.000000</td>\n",
       "      <td>373.000000</td>\n",
       "    </tr>\n",
       "    <tr>\n",
       "      <th>mean</th>\n",
       "      <td>42.483217</td>\n",
       "      <td>10.456568</td>\n",
       "      <td>17.771046</td>\n",
       "      <td>25.087668</td>\n",
       "      <td>14.631099</td>\n",
       "      <td>862.258668</td>\n",
       "      <td>80.490330</td>\n",
       "      <td>13.153506</td>\n",
       "      <td>0.678284</td>\n",
       "    </tr>\n",
       "    <tr>\n",
       "      <th>std</th>\n",
       "      <td>42.894824</td>\n",
       "      <td>8.182669</td>\n",
       "      <td>7.896588</td>\n",
       "      <td>7.715736</td>\n",
       "      <td>1.889885</td>\n",
       "      <td>1014.255443</td>\n",
       "      <td>63.165859</td>\n",
       "      <td>51.729368</td>\n",
       "      <td>0.467762</td>\n",
       "    </tr>\n",
       "    <tr>\n",
       "      <th>min</th>\n",
       "      <td>0.000000</td>\n",
       "      <td>-4.600000</td>\n",
       "      <td>3.300000</td>\n",
       "      <td>8.800000</td>\n",
       "      <td>9.900000</td>\n",
       "      <td>0.000000</td>\n",
       "      <td>2.151330</td>\n",
       "      <td>0.000000</td>\n",
       "      <td>0.000000</td>\n",
       "    </tr>\n",
       "    <tr>\n",
       "      <th>25%</th>\n",
       "      <td>9.910000</td>\n",
       "      <td>2.500000</td>\n",
       "      <td>10.500000</td>\n",
       "      <td>18.200000</td>\n",
       "      <td>13.400000</td>\n",
       "      <td>126.100000</td>\n",
       "      <td>19.647938</td>\n",
       "      <td>0.000000</td>\n",
       "      <td>0.000000</td>\n",
       "    </tr>\n",
       "    <tr>\n",
       "      <th>50%</th>\n",
       "      <td>30.700000</td>\n",
       "      <td>10.400000</td>\n",
       "      <td>18.100000</td>\n",
       "      <td>25.900000</td>\n",
       "      <td>14.500000</td>\n",
       "      <td>428.280000</td>\n",
       "      <td>65.127493</td>\n",
       "      <td>0.550000</td>\n",
       "      <td>1.000000</td>\n",
       "    </tr>\n",
       "    <tr>\n",
       "      <th>75%</th>\n",
       "      <td>62.850000</td>\n",
       "      <td>18.400000</td>\n",
       "      <td>25.300000</td>\n",
       "      <td>31.800000</td>\n",
       "      <td>16.000000</td>\n",
       "      <td>1389.024000</td>\n",
       "      <td>138.843235</td>\n",
       "      <td>7.600000</td>\n",
       "      <td>1.000000</td>\n",
       "    </tr>\n",
       "    <tr>\n",
       "      <th>max</th>\n",
       "      <td>251.240000</td>\n",
       "      <td>24.300000</td>\n",
       "      <td>31.500000</td>\n",
       "      <td>38.800000</td>\n",
       "      <td>19.400000</td>\n",
       "      <td>5672.665000</td>\n",
       "      <td>218.125353</td>\n",
       "      <td>709.900000</td>\n",
       "      <td>1.000000</td>\n",
       "    </tr>\n",
       "  </tbody>\n",
       "</table>\n",
       "</div>"
      ],
      "text/plain": [
       "              PPT        Tmin         Tav        Tmax        delt  \\\n",
       "count  373.000000  373.000000  373.000000  373.000000  373.000000   \n",
       "mean    42.483217   10.456568   17.771046   25.087668   14.631099   \n",
       "std     42.894824    8.182669    7.896588    7.715736    1.889885   \n",
       "min      0.000000   -4.600000    3.300000    8.800000    9.900000   \n",
       "25%      9.910000    2.500000   10.500000   18.200000   13.400000   \n",
       "50%     30.700000   10.400000   18.100000   25.900000   14.500000   \n",
       "75%     62.850000   18.400000   25.300000   31.800000   16.000000   \n",
       "max    251.240000   24.300000   31.500000   38.800000   19.400000   \n",
       "\n",
       "               SMI          ET    Flow_cfs       Flow?  \n",
       "count   373.000000  373.000000  373.000000  373.000000  \n",
       "mean    862.258668   80.490330   13.153506    0.678284  \n",
       "std    1014.255443   63.165859   51.729368    0.467762  \n",
       "min       0.000000    2.151330    0.000000    0.000000  \n",
       "25%     126.100000   19.647938    0.000000    0.000000  \n",
       "50%     428.280000   65.127493    0.550000    1.000000  \n",
       "75%    1389.024000  138.843235    7.600000    1.000000  \n",
       "max    5672.665000  218.125353  709.900000    1.000000  "
      ]
     },
     "execution_count": 3,
     "metadata": {},
     "output_type": "execute_result"
    }
   ],
   "source": [
    "# Explore the dataframe: Describe the df\n",
    "df.describe()"
   ]
  },
  {
   "cell_type": "markdown",
   "metadata": {},
   "source": [
    "<hr/> Step 2: <hr/>\n",
    "Get the following plots and analyze each one of them:\n",
    "    \n",
    "- Plot a histogram with KDE for precipitation. | What does it show? What are the most common value you expect to see based on this graph?\n",
    "- Plot flow vs. date. | What are the most noteable things you see in this graph? What are some extreme values and why do you think they have happened?\n",
    "- Plot a joint KDE plot with ET on x-axis and flow status on the y-axis. \n",
    "\n",
    "What does this graph show you? Do you think evaporation can be a good predictor for flow status? <br>"
   ]
  },
  {
   "cell_type": "code",
   "execution_count": 21,
   "metadata": {},
   "outputs": [
    {
     "name": "stderr",
     "output_type": "stream",
     "text": [
      "/opt/jupyterhub/lib/python3.8/site-packages/seaborn/distributions.py:2551: FutureWarning: `distplot` is a deprecated function and will be removed in a future version. Please adapt your code to use either `displot` (a figure-level function with similar flexibility) or `histplot` (an axes-level function for histograms).\n",
      "  warnings.warn(msg, FutureWarning)\n",
      "/opt/jupyterhub/lib/python3.8/site-packages/seaborn/distributions.py:2055: FutureWarning: The `axis` variable is no longer used and will be removed. Instead, assign variables directly to `x` or `y`.\n",
      "  warnings.warn(msg, FutureWarning)\n"
     ]
    },
    {
     "data": {
      "text/plain": [
       "<AxesSubplot:xlabel='PPT', ylabel='Density'>"
      ]
     },
     "execution_count": 21,
     "metadata": {},
     "output_type": "execute_result"
    },
    {
     "data": {
      "image/png": "[encoded data removed]",
      "text/plain": [
       "<Figure size 432x288 with 1 Axes>"
      ]
     },
     "metadata": {
      "needs_background": "light"
     },
     "output_type": "display_data"
    }
   ],
   "source": [
    "#Step2-part A:\n",
    "sns.distplot(df['PPT'], kde = True, rug= True, color ='blue') "
   ]
  },
  {
   "cell_type": "code",
   "execution_count": 6,
   "metadata": {},
   "outputs": [
    {
     "data": {
      "text/plain": [
       "[<matplotlib.lines.Line2D at 0xffff668d68b0>]"
      ]
     },
     "execution_count": 6,
     "metadata": {},
     "output_type": "execute_result"
    },
    {
     "data": {
      "image/png": "[encoded data removed]",
      "text/plain": [
       "<Figure size 720x360 with 1 Axes>"
      ]
     },
     "metadata": {
      "needs_background": "light"
     },
     "output_type": "display_data"
    }
   ],
   "source": [
    "#Step2-part B:\n",
    "date = df['Date']\n",
    "flow = df['Flow_cfs']\n",
    "\n",
    "# Plot here\n",
    "myfigure = matplotlib.pyplot.figure(figsize = (10,5)) # generate an object from the figure class, set aspect ratio\n",
    "\n",
    "matplotlib.pyplot.plot(date,flow, color ='blue')"
   ]
  },
  {
   "cell_type": "code",
   "execution_count": 7,
   "metadata": {},
   "outputs": [
    {
     "data": {
      "text/plain": [
       "<seaborn.axisgrid.JointGrid at 0xffff66642f40>"
      ]
     },
     "execution_count": 7,
     "metadata": {},
     "output_type": "execute_result"
    },
    {
     "data": {
      "image/png": "[encoded data removed]",
      "text/plain": [
       "<Figure size 432x432 with 3 Axes>"
      ]
     },
     "metadata": {
      "needs_background": "light"
     },
     "output_type": "display_data"
    }
   ],
   "source": [
    "#Step2-part C:\n",
    "sns.jointplot(x ='ET', y ='Flow?', data = df, kind ='kde',color=\"orange\")"
   ]
  },
  {
   "cell_type": "markdown",
   "metadata": {},
   "source": [
    "<hr/> Step 3: <hr/>\n",
    "Calculate and compare the correlation coefficient of the variables. Analyze the results and decide.\n",
    "- which parameters have the strongest relationship and weakest relationship with the flowrates? Do you identify correlation and causation or just correlation?\n",
    "- what predictor has the strongest relationship with ET?\n",
    "- which parameter has a negative correlation with precipitation?<br>"
   ]
  },
  {
   "cell_type": "code",
   "execution_count": 9,
   "metadata": {},
   "outputs": [
    {
     "data": {
      "text/html": [
       "<div>\n",
       "<style scoped>\n",
       "    .dataframe tbody tr th:only-of-type {\n",
       "        vertical-align: middle;\n",
       "    }\n",
       "\n",
       "    .dataframe tbody tr th {\n",
       "        vertical-align: top;\n",
       "    }\n",
       "\n",
       "    .dataframe thead th {\n",
       "        text-align: right;\n",
       "    }\n",
       "</style>\n",
       "<table border=\"1\" class=\"dataframe\">\n",
       "  <thead>\n",
       "    <tr style=\"text-align: right;\">\n",
       "      <th></th>\n",
       "      <th>PPT</th>\n",
       "      <th>Tmin</th>\n",
       "      <th>Tav</th>\n",
       "      <th>Tmax</th>\n",
       "      <th>delt</th>\n",
       "      <th>SMI</th>\n",
       "      <th>ET</th>\n",
       "      <th>Flow_cfs</th>\n",
       "      <th>Flow?</th>\n",
       "    </tr>\n",
       "  </thead>\n",
       "  <tbody>\n",
       "    <tr>\n",
       "      <th>PPT</th>\n",
       "      <td>1.000000</td>\n",
       "      <td>0.377617</td>\n",
       "      <td>0.317593</td>\n",
       "      <td>0.249061</td>\n",
       "      <td>-0.618147</td>\n",
       "      <td>0.938977</td>\n",
       "      <td>0.289487</td>\n",
       "      <td>0.614588</td>\n",
       "      <td>0.452067</td>\n",
       "    </tr>\n",
       "    <tr>\n",
       "      <th>Tmin</th>\n",
       "      <td>0.377617</td>\n",
       "      <td>1.000000</td>\n",
       "      <td>0.993709</td>\n",
       "      <td>0.973441</td>\n",
       "      <td>-0.355501</td>\n",
       "      <td>0.572704</td>\n",
       "      <td>0.974184</td>\n",
       "      <td>0.151265</td>\n",
       "      <td>0.234497</td>\n",
       "    </tr>\n",
       "    <tr>\n",
       "      <th>Tav</th>\n",
       "      <td>0.317593</td>\n",
       "      <td>0.993709</td>\n",
       "      <td>1.000000</td>\n",
       "      <td>0.992938</td>\n",
       "      <td>-0.248663</td>\n",
       "      <td>0.526083</td>\n",
       "      <td>0.975157</td>\n",
       "      <td>0.123433</td>\n",
       "      <td>0.197389</td>\n",
       "    </tr>\n",
       "    <tr>\n",
       "      <th>Tmax</th>\n",
       "      <td>0.249061</td>\n",
       "      <td>0.973441</td>\n",
       "      <td>0.992938</td>\n",
       "      <td>1.000000</td>\n",
       "      <td>-0.132076</td>\n",
       "      <td>0.468836</td>\n",
       "      <td>0.962877</td>\n",
       "      <td>0.092345</td>\n",
       "      <td>0.155013</td>\n",
       "    </tr>\n",
       "    <tr>\n",
       "      <th>delt</th>\n",
       "      <td>-0.618147</td>\n",
       "      <td>-0.355501</td>\n",
       "      <td>-0.248663</td>\n",
       "      <td>-0.132076</td>\n",
       "      <td>1.000000</td>\n",
       "      <td>-0.565551</td>\n",
       "      <td>-0.286853</td>\n",
       "      <td>-0.277924</td>\n",
       "      <td>-0.382443</td>\n",
       "    </tr>\n",
       "    <tr>\n",
       "      <th>SMI</th>\n",
       "      <td>0.938977</td>\n",
       "      <td>0.572704</td>\n",
       "      <td>0.526083</td>\n",
       "      <td>0.468836</td>\n",
       "      <td>-0.565551</td>\n",
       "      <td>1.000000</td>\n",
       "      <td>0.502235</td>\n",
       "      <td>0.575503</td>\n",
       "      <td>0.423881</td>\n",
       "    </tr>\n",
       "    <tr>\n",
       "      <th>ET</th>\n",
       "      <td>0.289487</td>\n",
       "      <td>0.974184</td>\n",
       "      <td>0.975157</td>\n",
       "      <td>0.962877</td>\n",
       "      <td>-0.286853</td>\n",
       "      <td>0.502235</td>\n",
       "      <td>1.000000</td>\n",
       "      <td>0.101266</td>\n",
       "      <td>0.184756</td>\n",
       "    </tr>\n",
       "    <tr>\n",
       "      <th>Flow_cfs</th>\n",
       "      <td>0.614588</td>\n",
       "      <td>0.151265</td>\n",
       "      <td>0.123433</td>\n",
       "      <td>0.092345</td>\n",
       "      <td>-0.277924</td>\n",
       "      <td>0.575503</td>\n",
       "      <td>0.101266</td>\n",
       "      <td>1.000000</td>\n",
       "      <td>0.175355</td>\n",
       "    </tr>\n",
       "    <tr>\n",
       "      <th>Flow?</th>\n",
       "      <td>0.452067</td>\n",
       "      <td>0.234497</td>\n",
       "      <td>0.197389</td>\n",
       "      <td>0.155013</td>\n",
       "      <td>-0.382443</td>\n",
       "      <td>0.423881</td>\n",
       "      <td>0.184756</td>\n",
       "      <td>0.175355</td>\n",
       "      <td>1.000000</td>\n",
       "    </tr>\n",
       "  </tbody>\n",
       "</table>\n",
       "</div>"
      ],
      "text/plain": [
       "               PPT      Tmin       Tav      Tmax      delt       SMI  \\\n",
       "PPT       1.000000  0.377617  0.317593  0.249061 -0.618147  0.938977   \n",
       "Tmin      0.377617  1.000000  0.993709  0.973441 -0.355501  0.572704   \n",
       "Tav       0.317593  0.993709  1.000000  0.992938 -0.248663  0.526083   \n",
       "Tmax      0.249061  0.973441  0.992938  1.000000 -0.132076  0.468836   \n",
       "delt     -0.618147 -0.355501 -0.248663 -0.132076  1.000000 -0.565551   \n",
       "SMI       0.938977  0.572704  0.526083  0.468836 -0.565551  1.000000   \n",
       "ET        0.289487  0.974184  0.975157  0.962877 -0.286853  0.502235   \n",
       "Flow_cfs  0.614588  0.151265  0.123433  0.092345 -0.277924  0.575503   \n",
       "Flow?     0.452067  0.234497  0.197389  0.155013 -0.382443  0.423881   \n",
       "\n",
       "                ET  Flow_cfs     Flow?  \n",
       "PPT       0.289487  0.614588  0.452067  \n",
       "Tmin      0.974184  0.151265  0.234497  \n",
       "Tav       0.975157  0.123433  0.197389  \n",
       "Tmax      0.962877  0.092345  0.155013  \n",
       "delt     -0.286853 -0.277924 -0.382443  \n",
       "SMI       0.502235  0.575503  0.423881  \n",
       "ET        1.000000  0.101266  0.184756  \n",
       "Flow_cfs  0.101266  1.000000  0.175355  \n",
       "Flow?     0.184756  0.175355  1.000000  "
      ]
     },
     "execution_count": 9,
     "metadata": {},
     "output_type": "execute_result"
    }
   ],
   "source": [
    "#Step3: Calculate and compare the correlation coefficient\n",
    "#What can we infer?\n",
    "df.corr(method ='pearson') "
   ]
  },
  {
   "cell_type": "markdown",
   "metadata": {},
   "source": [
    "<hr/> Step 4: <hr/>\n",
    "Think about a few enginreeing applications in which we may need to forecast the flowrate in a river? <br>"
   ]
  },
  {
   "cell_type": "code",
   "execution_count": 10,
   "metadata": {},
   "outputs": [],
   "source": [
    "#Step4:"
   ]
  },
  {
   "cell_type": "markdown",
   "metadata": {},
   "source": [
    "<hr/> Step 5: <hr/>\n",
    "Use linear regression modeling in primitive python, get the linear model's coefficients via Ordinary Least Squares methods, make a plot and VISUALLY assess the quality of a linear fit with precipitation as the predictor, and flowrate as outcome. Then, use RMSE, Pearson's r, and R2 to describe the performance of your model. Explain the results of this analysis in a markdown cell. <br>"
   ]
  },
  {
   "cell_type": "code",
   "execution_count": 13,
   "metadata": {},
   "outputs": [
    {
     "name": "stdout",
     "output_type": "stream",
     "text": [
      "alpha = -18.333691604121526\n",
      "beta = 0.7411679241433508\n"
     ]
    },
    {
     "data": {
      "image/png": "[encoded data removed]",
      "text/plain": [
       "<Figure size 864x432 with 1 Axes>"
      ]
     },
     "metadata": {
      "needs_background": "light"
     },
     "output_type": "display_data"
    },
    {
     "name": "stdout",
     "output_type": "stream",
     "text": [
      "RMSE for PPT as predictor is  40.751870999819324\n",
      "R2 for PPT as predictor is  0.37771885033965624\n",
      "Pearson's r for PPT as predictor is  0.6145883584478773\n"
     ]
    }
   ],
   "source": [
    "#Step5:\n",
    "# Calculate the mean of X and y\n",
    "xmean = np.mean(df['PPT'])\n",
    "ymean = np.mean(df['Flow_cfs'])\n",
    "\n",
    "# Calculate the terms needed for the numator and denominator of beta\n",
    "df['xycov'] = (df['PPT'] - xmean) * (df['Flow_cfs'] - ymean)\n",
    "df['xvar'] = (df['PPT'] - xmean)**2\n",
    "\n",
    "# Calculate beta and alpha\n",
    "beta = df['xycov'].sum() / df['xvar'].sum()\n",
    "alpha = ymean - (beta * xmean)\n",
    "print(f'alpha = {alpha}')\n",
    "print(f'beta = {beta}')\n",
    "\n",
    "X = np.array(df['PPT'])\n",
    "Y = np.array(df['Flow_cfs'])\n",
    "\n",
    "ypred = alpha + beta * X\n",
    "# Plot regression against actual data\n",
    "plt.figure(figsize=(12, 6))\n",
    "plt.plot(X, Y, 'ro', color=\"blue\")   # scatter plot showing actual data\n",
    "plt.plot(X, ypred, color=\"red\")     # regression line\n",
    "plt.title('Actual vs Predicted')\n",
    "plt.xlabel('PPT')\n",
    "plt.ylabel('Flow_cfs')\n",
    "\n",
    "plt.show()\n",
    "###\n",
    "#GOF metrics:\n",
    "print(\"RMSE for PPT as predictor is \",np.sqrt(metrics.mean_squared_error(Y, ypred)))\n",
    "print(\"R2 for PPT as predictor is \",metrics.r2_score(Y, ypred))\n",
    "\n",
    "pearson_r = scipy.stats.pearsonr(ypred, Y)\n",
    "\n",
    "print(\"Pearson's r for PPT as predictor is \",pearson_r[0])"
   ]
  },
  {
   "cell_type": "markdown",
   "metadata": {},
   "source": [
    "<hr/> Step 6: <hr/> \n",
    "\n",
    "Use multiple linear regression modeling with scikit-learn and use all \"ET\",\"SMI\", and \"delt\" to predict the flowrates. Then, use RMSE, Pearson's r, and R2 to describe the performance of your model. Explain the results of this analysis in a markdown cell."
   ]
  },
  {
   "cell_type": "code",
   "execution_count": 15,
   "metadata": {},
   "outputs": [
    {
     "name": "stdout",
     "output_type": "stream",
     "text": [
      "RMSE for PPT as predictor is  40.62517214384142\n",
      "R2 for PPT as predictor is  0.38158221887758004\n",
      "Pearson's r for PPT as predictor is  0.6177234161642087\n"
     ]
    }
   ],
   "source": [
    "#Step6:\n",
    "from sklearn.linear_model import LinearRegression\n",
    "\n",
    "# Split data into predictors X and output Y\n",
    "predictors = ['ET', 'SMI', 'delt']\n",
    "X = df[predictors]\n",
    "Y = df['Flow_cfs']\n",
    "\n",
    "# Initialise and fit model\n",
    "lm = LinearRegression()\n",
    "model = lm.fit(X, Y)\n",
    "\n",
    "# Predict values\n",
    "big_pred = model.predict(X)\n",
    "#GOF metrics:\n",
    "print(\"RMSE for PPT as predictor is \",np.sqrt(metrics.mean_squared_error(Y, big_pred)))\n",
    "print(\"R2 for PPT as predictor is \",metrics.r2_score(Y, big_pred))\n",
    "\n",
    "pearson_r = scipy.stats.pearsonr(big_pred, Y)\n",
    "\n",
    "print(\"Pearson's r for PPT as predictor is \",pearson_r[0])"
   ]
  },
  {
   "cell_type": "markdown",
   "metadata": {},
   "source": [
    "<hr/> Step 7: <hr/> \n",
    "\n",
    "Think about a few enginreeing applications in which we may need to forecast the flow status (flow/no flow) in a river?"
   ]
  },
  {
   "cell_type": "code",
   "execution_count": 16,
   "metadata": {},
   "outputs": [],
   "source": [
    "#Step7:"
   ]
  },
  {
   "cell_type": "markdown",
   "metadata": {},
   "source": [
    "<hr/> Step 8: <hr/>\n",
    "\n",
    "Use logistic regression and \"PPT\",\"SMI\", and \"delt\" as predictors to predict the status of flow. Use a 75/25 split for training and testing. Then, get the confusion matrix and use classification_report to describe the performance of your model. Also, get a heatmap and visually assess the predictions of your model. Calculate accuracy, recall, precision, and F1-score for your model. Explain the results of this analysis in a markdown cell."
   ]
  },
  {
   "cell_type": "code",
   "execution_count": 17,
   "metadata": {},
   "outputs": [
    {
     "name": "stdout",
     "output_type": "stream",
     "text": [
      "[[21 12]\n",
      " [13 48]]\n",
      "Accuracy: 0.7340425531914894\n",
      "Precision: 0.7868852459016393\n",
      "Recall: 0.8\n",
      "F1-score: 0.7933884297520661\n",
      "              precision    recall  f1-score   support\n",
      "\n",
      "           0       0.64      0.62      0.63        34\n",
      "           1       0.79      0.80      0.79        60\n",
      "\n",
      "    accuracy                           0.73        94\n",
      "   macro avg       0.71      0.71      0.71        94\n",
      "weighted avg       0.73      0.73      0.73        94\n",
      "\n"
     ]
    },
    {
     "data": {
      "image/png": "[encoded data removed]",
      "text/plain": [
       "<Figure size 432x288 with 2 Axes>"
      ]
     },
     "metadata": {
      "needs_background": "light"
     },
     "output_type": "display_data"
    }
   ],
   "source": [
    "#Step8: \n",
    "#split dataset in features and target variable\n",
    "feature_cols = ['PPT', 'SMI', 'delt']\n",
    "X = df[feature_cols] # Features\n",
    "Y = df['Flow?'] # Target variable\n",
    "# split X and y into training and testing sets\n",
    "from sklearn.model_selection import train_test_split\n",
    "X_train,X_test,y_train,y_test=train_test_split(X,Y,test_size=0.25,random_state=0)\n",
    "# import the class\n",
    "from sklearn.linear_model import LogisticRegression\n",
    "\n",
    "# instantiate the model (using the default parameters)\n",
    "#logreg = LogisticRegression()\n",
    "logreg = LogisticRegression()\n",
    "# fit the model with data\n",
    "logreg.fit(X_train,y_train)\n",
    "\n",
    "#\n",
    "y_pred=logreg.predict(X_test)\n",
    "\n",
    "# import the metrics class\n",
    "from sklearn import metrics\n",
    "cnf_matrix = metrics.confusion_matrix(y_pred, y_test)\n",
    "print(cnf_matrix)\n",
    "# Visualize\n",
    "class_names=[0,1] # name  of classes\n",
    "fig, ax = plt.subplots()\n",
    "tick_marks = np.arange(len(class_names))\n",
    "plt.xticks(tick_marks, class_names)\n",
    "plt.yticks(tick_marks, class_names)\n",
    "# create heatmap\n",
    "sns.heatmap(pd.DataFrame(cnf_matrix), annot=True, cmap=\"YlGnBu\" ,fmt='g')\n",
    "ax.xaxis.set_label_position(\"top\")\n",
    "plt.tight_layout()\n",
    "plt.title('Confusion matrix', y=1.1)\n",
    "plt.ylabel('Predicted label')\n",
    "plt.xlabel('Actual label')\n",
    "#\n",
    "print(\"Accuracy:\",metrics.accuracy_score(y_test, y_pred))\n",
    "print(\"Precision:\",metrics.precision_score(y_test, y_pred))\n",
    "print(\"Recall:\",metrics.recall_score(y_test, y_pred))\n",
    "print(\"F1-score:\",metrics.f1_score(y_test, y_pred))\n",
    "#\n",
    "from sklearn.metrics import classification_report\n",
    "\n",
    "print(classification_report(y_test, y_pred))"
   ]
  },
  {
   "cell_type": "markdown",
   "metadata": {},
   "source": [
    "<hr/> Step 9: <hr/>\n",
    "\n",
    "Was this a balanced classification problem? why?"
   ]
  },
  {
   "cell_type": "code",
   "execution_count": null,
   "metadata": {},
   "outputs": [],
   "source": [
    "#Step9:"
   ]
  },
  {
   "cell_type": "code",
   "execution_count": null,
   "metadata": {},
   "outputs": [],
   "source": []
  },
  {
   "cell_type": "code",
   "execution_count": null,
   "metadata": {},
   "outputs": [],
   "source": []
  },
  {
   "cell_type": "markdown",
   "metadata": {},
   "source": [
    "## Take-Home Part | Alternatives for Bonus Questions"
   ]
  },
  {
   "cell_type": "code",
   "execution_count": null,
   "metadata": {},
   "outputs": [],
   "source": []
  },
  {
   "cell_type": "code",
   "execution_count": null,
   "metadata": {},
   "outputs": [],
   "source": [
    "- Step1: Read the \"Colorado River Data.csv\" file as a dataframe. Explore the dataframe and in a markdown cell breifly describe the different variables in your own words. <br>\n",
    "\n",
    "- Step2: Get the following plots and analyze each one of them:\n",
    "    - Plot a histogram with KDE for precipitation. | What does it show? What are the most common value you expect to see based on this graph?\n",
    "    - Plot flow vs. date. | What are the most noteable things you see in this graph? What are some extreme values and why do you think they have happened?\n",
    "    - Plot a joint KDE plot with ET on x-axis and flow status on the y-axis. |What does this graph show you? Do you think evaporation can be a good predictor for flow status?\n",
    "\n",
    "- Step3: Calculate and compare the correlation coefficient of the variables. Analyze the results and decide.\n",
    "    - which parameters have the strongest relationship and weakest relationship with the flowrates? Do you identify correlation and causation or just correlation?\n",
    "    - what predictor has the strongest relationship with ET?\n",
    "    - which parameter has a negative correlation with precipitation?\n",
    "\n",
    "- Step4: Think about a few enginreeing applications in which we may need to forecast the flowrate in a river?\n",
    "\n",
    "- Step5: Use linear regression modeling in primitive python, get the linear model's coefficients via Ordinary Least Squares methods, make a plot and VISUALLY assess the quality of a linear fit with precipitation as the predictor, and flowrate as outcome. Then, use RMSE, Pearson's r, and R2 to describe the performance of your model. Explain the results of this analysis in a markdown cell.\n",
    "\n",
    "- Step6: Use multiple linear regression modeling with scikit-learn and use all \"ET\",\"SMI\", and \"delt\" to predict the flowrates. Then, use RMSE, Pearson's r, and R2 to describe the performance of your model. Explain the results of this analysis in a markdown cell.\n",
    "\n",
    "- Step7: Think about a few enginreeing applications in which we may need to forecast the flow status (flow/no flow) in a river?\n",
    "\n",
    "- Step8: Use logistic regression and \"PPT\",\"SMI\", and \"delt\" as predictors to predict the status of flow. Use a 75/25 split for training and testing. Then, get the confusion matrix and use classification_report to describe the performance of your model. Also, get a heatmap and visually assess the predictions of your model. Calculate accuracy, recall, precision, and F1-score for your model. Explain the results of this analysis in a markdown cell.\n",
    "\n",
    "\n",
    "- Step9: Was this a balanced classification problem? why?"
   ]
  }
 ],
 "metadata": {
  "kernelspec": {
   "display_name": "Python 3",
   "language": "python",
   "name": "python3"
  },
  "language_info": {
   "codemirror_mode": {
    "name": "ipython",
    "version": 3
   },
   "file_extension": ".py",
   "mimetype": "text/x-python",
   "name": "python",
   "nbconvert_exporter": "python",
   "pygments_lexer": "ipython3",
   "version": "3.8.5"
  }
 },
 "nbformat": 4,
 "nbformat_minor": 4
}
